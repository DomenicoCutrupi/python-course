{
 "metadata": {
  "name": ""
 },
 "nbformat": 3,
 "nbformat_minor": 0,
 "worksheets": [
  {
   "cells": [
    {
     "cell_type": "markdown",
     "metadata": {
      "slideshow": {
       "slide_type": "slide"
      }
     },
     "source": [
      "# Python for System Administrator\n",
      " \n",
      " Author: roberto.polli@par-tec.it\n",
      "\n",
      "## Introducing Python\n",
      "\n",
      "Python is an interpreted, object oriented language with\n",
      "a lot of built in features.\n",
      "\n",
      "This is a fast-track course for sysadmin with knowledge\n",
      "of languages like Perl, PHP, C and Java\n"
     ]
    },
    {
     "cell_type": "markdown",
     "metadata": {},
     "source": [
      "\n",
      "## Agenda\n",
      "\n",
      "  - Importing features\n",
      "  - Getting help\n",
      "  - Printing \n",
      "  - Basic Arithmetic\n",
      "  - Variable assignment\n",
      "  - Formatting\n"
     ]
    },
    {
     "cell_type": "code",
     "collapsed": false,
     "input": [
      "# Importing_new_features\n",
      "# ..is easy. Features are collected\n",
      "# in packages or modules. Just\n",
      "import telnetlib  # to use a\n",
      "telnetlib.Telnet  # client"
     ],
     "language": "python",
     "metadata": {},
     "outputs": []
    },
    {
     "cell_type": "code",
     "collapsed": false,
     "input": [
      "# We can even import single classes\n",
      "#  from a module, like\n",
      "from telnetlib import Telnet\n",
      "\n",
      "# And read the module or class docs\n",
      "help(telnetlib)\n",
      "help(Telnet)\n"
     ],
     "language": "python",
     "metadata": {},
     "outputs": []
    },
    {
     "cell_type": "code",
     "collapsed": false,
     "input": [
      "# you can print with the print() function\n",
      "print(\"Hello world!\")\n",
      "\n",
      "# concatenate string with a + sign\n",
      "# and using hex notation\n",
      "print(\"Hello\" + \" \" + \"World\\x21\")\n",
      "\n",
      "print(\"Ciao\")"
     ],
     "language": "python",
     "metadata": {},
     "outputs": [
      {
       "output_type": "stream",
       "stream": "stdout",
       "text": [
        "Hello world!\n",
        "Hello World!\n",
        "Ciao\n"
       ]
      }
     ],
     "prompt_number": 1
    },
    {
     "cell_type": "code",
     "collapsed": false,
     "input": [
      "# prefixing a string with 'r' disables the\n",
      "# interpretation of the string content\n",
      "print('Hello' * 2 + r'World\\x21')\n",
      "\n",
      "# the chr() function returns the corresponding\n",
      "# character of an integer. While \\n and \\t are\n",
      "# just the usual notation for linefeed and tab\n",
      "print(chr(72) + \"ello\\n\\tWorld!\")"
     ],
     "language": "python",
     "metadata": {},
     "outputs": []
    },
    {
     "cell_type": "code",
     "collapsed": false,
     "input": [
      "# triple-quoting allows multi-line strings\n",
      "# %s works like in the C printf() function\n",
      "# but operates on strings\n",
      "# ord() is just the inverse of chr()\n",
      "print(\"\"\"The answer is\n",
      "\n",
      "%s\n",
      "\"\"\" % ord('*'))\n"
     ],
     "language": "python",
     "metadata": {},
     "outputs": []
    },
    {
     "cell_type": "markdown",
     "metadata": {},
     "source": [
      "## Basic Arithmetic"
     ]
    },
    {
     "cell_type": "code",
     "collapsed": false,
     "input": [
      "# This is a comment, while\n",
      "a = 1  # is an integer variable\n",
      "b = 0x10  # is another integer in hex notation\n",
      "# c = 011  # ...another one in C-style oct on python 2...\n",
      "c = 0o11  # ...in python 2 and 3\n"
     ],
     "language": "python",
     "metadata": {},
     "outputs": []
    },
    {
     "cell_type": "code",
     "collapsed": false,
     "input": [
      "\n",
      "# I can sum, multiply, and modulus\n",
      "print(a + b, 5 % 2)\n",
      "print(2 * c)\n"
     ],
     "language": "python",
     "metadata": {},
     "outputs": []
    },
    {
     "cell_type": "markdown",
     "metadata": {},
     "source": [
      "## Variable assignment"
     ]
    },
    {
     "cell_type": "code",
     "collapsed": false,
     "input": [
      "# variable_assignment\n",
      "# I can assign more than one variable on the same line\n",
      "a, b, c = 1, 2, 3\n",
      "d, stringa_a, stringa_b = a + b, \"pippo\", \"pluto\"\n",
      "\n",
      "# ...swap them...\n",
      "(a, b) = (b, a)  \n",
      "\n",
      "\n"
     ],
     "language": "python",
     "metadata": {},
     "outputs": []
    },
    {
     "cell_type": "code",
     "collapsed": false,
     "input": [
      "# but if right-side values are not defined, I get an exception\n",
      "e, f = c, e + d  \n"
     ],
     "language": "python",
     "metadata": {},
     "outputs": []
    },
    {
     "cell_type": "code",
     "collapsed": false,
     "input": [
      "# We should respect reserved words and functions, like print, ord...\n",
      "print((\"ord:\\x20\", ord))\n",
      "ord = 4\n"
     ],
     "language": "python",
     "metadata": {},
     "outputs": []
    },
    {
     "cell_type": "code",
     "collapsed": false,
     "input": [
      "ord('*')  # ...ooops!\n"
     ],
     "language": "python",
     "metadata": {},
     "outputs": []
    },
    {
     "cell_type": "code",
     "collapsed": false,
     "input": [
      "del ord  # fix it up!\n",
      "ord('*')  # ...ooops!\n"
     ],
     "language": "python",
     "metadata": {},
     "outputs": []
    },
    {
     "cell_type": "markdown",
     "metadata": {},
     "source": [
      "## Formatting numbers"
     ]
    },
    {
     "cell_type": "code",
     "collapsed": false,
     "input": [
      "## def formatting_numbers():\n",
      "# bin() and hex() returns a string representation\n",
      "# of a number\n",
      "a, b1 = hex(10), bin(1)\n",
      "\n"
     ],
     "language": "python",
     "metadata": {},
     "outputs": []
    },
    {
     "cell_type": "code",
     "collapsed": false,
     "input": [
      "# while the format() function can be more flexible\n",
      "#  10 = 8ciphers + 2chars for the '0b' header\n",
      "binary_with_leading_zeroes = format(1, '#010b') \n",
      "\n",
      "# and reversible with\n",
      "b1 == int(binary_with_leading_zeroes, base=2)\n"
     ],
     "language": "python",
     "metadata": {},
     "outputs": []
    },
    {
     "cell_type": "markdown",
     "metadata": {},
     "source": [
      "## Formatting"
     ]
    },
    {
     "cell_type": "code",
     "collapsed": false,
     "input": [
      "#def  new_formatting():\n",
      "# The new str.format function just replaces\n",
      "#  %s or %d with {}.\n",
      "s_a = \"is a string \"\n",
      "s_a += \"that can {} extended\".format(\"be\")\n",
      "\n"
     ],
     "language": "python",
     "metadata": {},
     "outputs": []
    },
    {
     "cell_type": "code",
     "collapsed": false,
     "input": [
      "# Further formatting is done using \":\", eg.\n",
      "#  %.6s -> {:.6}\n",
      "#  %3.2d -> {:3.2}\n",
      "s_a = \"{} even with {:.6} formatting.\\n\".format(s_a, \"positional\")\n",
      "\n"
     ],
     "language": "python",
     "metadata": {},
     "outputs": []
    },
    {
     "cell_type": "code",
     "collapsed": false,
     "input": [
      "# Alignment identifiers are simpler: < left , ^ center,  > right\n",
      "s_a = \"Align {:>10}% python!\".format(100)\n",
      "print(s_a)\n",
      "print(\"just prints a string\")\n"
     ],
     "language": "python",
     "metadata": {},
     "outputs": []
    },
    {
     "cell_type": "markdown",
     "metadata": {},
     "source": [
      "### Formatting with names"
     ]
    },
    {
     "cell_type": "code",
     "collapsed": false,
     "input": [
      "# you can name variables to get\n",
      "# a better formatting experience ;)\n",
      "fmt_a = \"{name:<.3} {nick:^.8} {sn:>30}\"\n",
      "print(fmt_a.format(name=\"-\"*10, nick=\"*\"*15, sn=\"-\"*40))\n",
      "print(fmt_a.format(name=\"Roberto\", nick=\"ioggstream\", sn=\"Polli\"))"
     ],
     "language": "python",
     "metadata": {},
     "outputs": []
    },
    {
     "cell_type": "code",
     "collapsed": false,
     "input": [],
     "language": "python",
     "metadata": {},
     "outputs": []
    }
   ],
   "metadata": {}
  }
 ]
}