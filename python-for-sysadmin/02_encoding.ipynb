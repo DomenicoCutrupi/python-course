{
 "metadata": {
  "name": ""
 },
 "nbformat": 3,
 "nbformat_minor": 0,
 "worksheets": [
  {
   "cells": [
    {
     "cell_type": "markdown",
     "metadata": {},
     "source": [
      "# Encoding\n",
      "\n",
      "Goals:\n",
      "    - A string is more than a sequence of bytes\n",
      "    - A string is a couple (bytes, encoding)\n",
      "    - Use unicode_literals  in python2\n",
      "    - Manage differently encoded filenames\n",
      "    - A string is not a sequence of bytes\n",
      "\n",
      "Modules:\n",
      "    - os\n",
      "    - os.path\n",
      "    - glob\n",
      "        "
     ]
    },
    {
     "cell_type": "code",
     "collapsed": false,
     "input": [
      "#Encoding is a map\n",
      "\n",
      "# Py3 doesn't need the 'u'\n",
      "the_string = u\"S\\u00fcd\" # Sued\n",
      "\n",
      "\n",
      "# can be encoded in different...\n",
      "in_utf8 = the_string.encode('utf-8')\n",
      "in_win = the_string.encode('cp1252')\n",
      "\n",
      "# ...byte-sequences\n",
      "assert type(in_utf8) == bytes \n",
      "\n",
      "# Decoding bytes using the wrong map...\n",
      "# ...gives S\u00c3\u00bcd results\n",
      "print(in_utf8.decode('cp1252'))"
     ],
     "language": "python",
     "metadata": {},
     "outputs": []
    },
    {
     "cell_type": "code",
     "collapsed": false,
     "input": [
      "# Filenames are actually binary data\n",
      "#  we should be careful when our scripts read\n",
      "#  eg from a vfat filesystem.\n",
      "\n",
      "# To make Py2 encoding-aware we must\n",
      "from __future__ import unicode_literals, print_function\n",
      "\n",
      "# Create 3 windows-encoded filenames in\n",
      "basedir = \"/tmp/course\"\n",
      "\n",
      "# using the provided function\n",
      "from course import create_espana\n",
      "create_espana(basedir)\n",
      "\n",
      "\n"
     ],
     "language": "python",
     "metadata": {},
     "outputs": []
    },
    {
     "cell_type": "code",
     "collapsed": false,
     "input": [],
     "language": "python",
     "metadata": {},
     "outputs": []
    },
    {
     "cell_type": "code",
     "collapsed": false,
     "input": [
      "# Just list the newly created files\n",
      "# and check that they are not showing correctly (unless we have windows :D)\n",
      "!dir {basedir}\n"
     ],
     "language": "python",
     "metadata": {},
     "outputs": []
    },
    {
     "cell_type": "code",
     "collapsed": false,
     "input": [
      "from glob import glob as ls \n",
      "#expands wildcards like ls\n",
      "\n",
      "# To avoid encoding issue like the following...\n",
      "files = ls(\"/tmp/course/*.txt\")\n",
      "\n",
      "#UnicodeDecodeError: 'ascii' codec can't decode\n",
      "# byte 0xe9 in position 5: # remember \u00f1 in cp1252\n",
      "# ordinal not in range(128)\n",
      "\n",
      "\n"
     ],
     "language": "python",
     "metadata": {},
     "outputs": []
    },
    {
     "cell_type": "code",
     "collapsed": false,
     "input": [
      "# We must explicitly use bytes\n",
      "files = ls(b\"/tmp/course/*.txt\")\n",
      "print(files)"
     ],
     "language": "python",
     "metadata": {},
     "outputs": []
    },
    {
     "cell_type": "code",
     "collapsed": false,
     "input": [],
     "language": "python",
     "metadata": {},
     "outputs": []
    }
   ],
   "metadata": {}
  }
 ]
}