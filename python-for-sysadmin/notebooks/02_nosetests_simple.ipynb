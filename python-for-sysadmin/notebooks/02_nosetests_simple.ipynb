{
 "cells": [
  {
   "cell_type": "markdown",
   "metadata": {},
   "source": [
    "# Running nosetests\n",
    "\n",
    "  - Now run the following command from a shell\n",
    "    \n",
    "        # nosetests -vs 03_parsing_test.py\n",
    "\n",
    "  - Nose is a test framework\n",
    "  - Nose runs every file matching test_*\n",
    "  - Nose runs every function matching test_*\n"
   ]
  },
  {
   "cell_type": "code",
   "execution_count": 1,
   "metadata": {
    "collapsed": true
   },
   "outputs": [],
   "source": [
    "# Test scripts are there ;)\n",
    "from os import chdir\n",
    "chdir(\"../scripts\")"
   ]
  },
  {
   "cell_type": "code",
   "execution_count": 2,
   "metadata": {
    "collapsed": false
   },
   "outputs": [
    {
     "name": "stdout",
     "output_type": "stream",
     "text": [
      "03_parsing_test.test_sent ... ERROR\r\n",
      "03_parsing_test.test_delivered ... ERROR\r\n",
      "\r\n",
      "======================================================================\r\n",
      "ERROR: 03_parsing_test.test_sent\r\n",
      "----------------------------------------------------------------------\r\n",
      "Traceback (most recent call last):\r\n",
      "  File \"/usr/local/lib/python2.7/site-packages/nose/case.py\", line 197, in runTest\r\n",
      "    self.test(*self.arg)\r\n",
      "  File \"/notebooks/scripts/03_parsing_test.py\", line 21, in test_sent\r\n",
      "    hour, host, destination = parse_line(test_str_1)\r\n",
      "  File \"/notebooks/scripts/03_parsing_test.py\", line 40, in parse_line\r\n",
      "    raise NotImplementedError(\"Write me!\")\r\n",
      "NotImplementedError: Write me!\r\n",
      "\r\n",
      "======================================================================\r\n",
      "ERROR: 03_parsing_test.test_delivered\r\n",
      "----------------------------------------------------------------------\r\n",
      "Traceback (most recent call last):\r\n",
      "  File \"/usr/local/lib/python2.7/site-packages/nose/case.py\", line 197, in runTest\r\n",
      "    self.test(*self.arg)\r\n",
      "  File \"/notebooks/scripts/03_parsing_test.py\", line 28, in test_delivered\r\n",
      "    hour, host, destination = parse_line(test_str_2)\r\n",
      "  File \"/notebooks/scripts/03_parsing_test.py\", line 40, in parse_line\r\n",
      "    raise NotImplementedError(\"Write me!\")\r\n",
      "NotImplementedError: Write me!\r\n",
      "\r\n",
      "----------------------------------------------------------------------\r\n",
      "Ran 2 tests in 0.001s\r\n",
      "\r\n",
      "FAILED (errors=2)\r\n"
     ]
    }
   ],
   "source": [
    "!nosetests -vs 03_parsing_test.py"
   ]
  },
  {
   "cell_type": "code",
   "execution_count": null,
   "metadata": {
    "collapsed": true
   },
   "outputs": [],
   "source": [
    "%load 02_nosetests_simple.py\n"
   ]
  },
  {
   "cell_type": "code",
   "execution_count": null,
   "metadata": {
    "collapsed": true
   },
   "outputs": [],
   "source": [
    "\"\"\"Introduction to nosetests - 01\n",
    "\n",
    "   Run this script with\n",
    "    #nosetest -v scriptname.py\n",
    "\"\"\"\n",
    "\n",
    "\n",
    "def setup():\n",
    "    print(\"This function is run before the testlist\")\n",
    "\n",
    "\n",
    "def test_one():\n",
    "    # just name a function like test_* to execute it!\n",
    "    a = 1\n",
    "    assert a == 1\n",
    "\n",
    "\n",
    "def test_two():\n",
    "    # This test fails and the backtrace is printed\n",
    "    a = 2\n",
    "    assert a == 1, \"Expecting a == 1. Was %r\" % a\n",
    "\n",
    "\n",
    "def teardown():\n",
    "    print(\"after all tests\")"
   ]
  },
  {
   "cell_type": "code",
   "execution_count": 3,
   "metadata": {
    "collapsed": false
   },
   "outputs": [
    {
     "name": "stdout",
     "output_type": "stream",
     "text": [
      "02_nosetests_simple.test_one ... ok\r\n",
      "02_nosetests_simple.test_two ... FAIL\r\n",
      "\r\n",
      "======================================================================\r\n",
      "FAIL: 02_nosetests_simple.test_two\r\n",
      "----------------------------------------------------------------------\r\n",
      "Traceback (most recent call last):\r\n",
      "  File \"/usr/local/lib/python2.7/site-packages/nose/case.py\", line 197, in runTest\r\n",
      "    self.test(*self.arg)\r\n",
      "  File \"/notebooks/scripts/02_nosetests_simple.py\", line 25, in test_two\r\n",
      "    assert a == 1, \"Expecting a == 1. Was %r\" % a\r\n",
      "AssertionError: Expecting a == 1. Was 2\r\n",
      "\r\n",
      "----------------------------------------------------------------------\r\n",
      "Ran 2 tests in 0.001s\r\n",
      "\r\n",
      "FAILED (failures=1)\r\n"
     ]
    }
   ],
   "source": [
    "#\n",
    "# Let's run it!\n",
    "#\n",
    "!nosetests -v 02_nosetests_simple.py"
   ]
  },
  {
   "cell_type": "markdown",
   "metadata": {},
   "source": [
    "## Complete Test Script: I\n",
    "\n",
    "  - a more flexible script is 02_nosetests_full.py which uses a Test class\n",
    "  "
   ]
  },
  {
   "cell_type": "code",
   "execution_count": null,
   "metadata": {
    "collapsed": true
   },
   "outputs": [],
   "source": [
    "# %load 02_nosetests_full.py\n",
    "\"\"\"An articulated nosetest script using classes\n",
    "\n",
    "   - setup_class() and setup() increase flexibility\n",
    "\"\"\"\n",
    "\n",
    "import os\n",
    "import errno\n",
    "\n",
    "# Import assert_* tools\n",
    "from nose.tools import *\n",
    "\n",
    "class TestB(object):\n",
    "\n",
    "    @classmethod\n",
    "    def setup_class(self):\n",
    "        # Run once at startup, eg. create database structure\n",
    "        print(\"\\nsetup testsuite environment\")\n",
    "        open(\"/tmp/test2.out\", \"w\").write(\"0\")\n",
    "\n",
    "    @classmethod\n",
    "    def teardown_class(self):\n",
    "        # Run once at teardown, eg. drop database\n",
    "        print(\"\\ncleanup testsuite environment\")\n",
    "        os.unlink(\"/tmp/test2.out\")\n",
    "\n",
    "    def setup(self):\n",
    "        # Before every test, like populate a table\n",
    "        print(\"\\nbefore_every_test\")\n",
    "\n",
    "    def teardown(self):\n",
    "        # After every test, eg truncate a table\n",
    "        print(\"\\nafter_every_test\")\n",
    "\n",
    "    def test_a(self):\n",
    "        assert os.path.isfile(\"/tmp/test2.out\")\n",
    "\n",
    "    def test_b(self):\n",
    "        assert False\n",
    "\n",
    "    #\n",
    "    # Bonus examples:\n",
    "    #\n",
    "    #   - testing exceptions\n",
    "    #   - parametrized tests \n",
    "    #\n",
    "    @raises(IOError)\n",
    "    def test_except(self):\n",
    "        assert open('/tmp/MISSING')\n",
    "\n",
    "    def test_except_complex(self):\n",
    "        with assert_raises(IOError) as ex:\n",
    "            fh = open('/tmp/MISSING')\n",
    "        # Verify exception *and* errno!\n",
    "        assert_equals(ex.exception.errno, errno.ENOENT)\n",
    "\n",
    "    def test_parametrized(self):\n",
    "        # Runs 3 tests using the nosetest generator syntax.\n",
    "        for i in range(3):\n",
    "            # You have to yield a method to make it work into \n",
    "            #  a class\n",
    "            yield self.harn_greater, i, 0 \n",
    "\n",
    "    def harn_greater(self, a, b):\n",
    "        assert_greater(a, b)\n",
    "\n"
   ]
  },
  {
   "cell_type": "code",
   "execution_count": 4,
   "metadata": {
    "collapsed": true
   },
   "outputs": [],
   "source": []
  },
  {
   "cell_type": "code",
   "execution_count": 9,
   "metadata": {
    "collapsed": false
   },
   "outputs": [
    {
     "name": "stdout",
     "output_type": "stream",
     "text": [
      "\r\n",
      "setup testsuite environment\r\n",
      "02_nosetests_full.TestB.test_a ... \r\n",
      "before_every_test\r\n",
      "\r\n",
      "after_every_test\r\n",
      "ok\r\n",
      "02_nosetests_full.TestB.test_b ... \r\n",
      "before_every_test\r\n",
      "FAIL\r\n",
      "\r\n",
      "after_every_test\r\n",
      "02_nosetests_full.TestB.test_except ... \r\n",
      "before_every_test\r\n",
      "\r\n",
      "after_every_test\r\n",
      "ok\r\n",
      "02_nosetests_full.TestB.test_except_complex ... \r\n",
      "before_every_test\r\n",
      "\r\n",
      "after_every_test\r\n",
      "ok\r\n",
      "02_nosetests_full.TestB.test_parametrized(0, 0) ... \r\n",
      "before_every_test\r\n",
      "FAIL\r\n",
      "\r\n",
      "after_every_test\r\n",
      "02_nosetests_full.TestB.test_parametrized(1, 0) ... \r\n",
      "before_every_test\r\n",
      "\r\n",
      "after_every_test\r\n",
      "ok\r\n",
      "02_nosetests_full.TestB.test_parametrized(2, 0) ... \r\n",
      "before_every_test\r\n",
      "\r\n",
      "after_every_test\r\n",
      "ok\r\n",
      "\r\n",
      "cleanup testsuite environment\r\n",
      "\r\n",
      "======================================================================\r\n",
      "FAIL: 02_nosetests_full.TestB.test_b\r\n",
      "----------------------------------------------------------------------\r\n",
      "Traceback (most recent call last):\r\n",
      "  File \"/usr/local/lib/python2.7/site-packages/nose/case.py\", line 197, in runTest\r\n",
      "    self.test(*self.arg)\r\n",
      "  File \"/notebooks/scripts/02_nosetests_full.py\", line 38, in test_b\r\n",
      "    assert False\r\n",
      "AssertionError\r\n",
      "\r\n",
      "======================================================================\r\n",
      "FAIL: 02_nosetests_full.TestB.test_parametrized(0, 0)\r\n",
      "----------------------------------------------------------------------\r\n",
      "Traceback (most recent call last):\r\n",
      "  File \"/usr/local/lib/python2.7/site-packages/nose/case.py\", line 197, in runTest\r\n",
      "    self.test(*self.arg)\r\n",
      "  File \"/notebooks/scripts/02_nosetests_full.py\", line 64, in harn_greater\r\n",
      "    assert_greater(a, b)\r\n",
      "AssertionError: 0 not greater than 0\r\n",
      "\r\n",
      "----------------------------------------------------------------------\r\n",
      "Ran 7 tests in 0.002s\r\n",
      "\r\n",
      "FAILED (failures=2)\r\n"
     ]
    }
   ],
   "source": [
    "# Try it!\n",
    "!nosetests -v -s 02_nosetests_full.py  #  -s shows STDOUT  "
   ]
  }
 ],
 "metadata": {
  "kernelspec": {
   "display_name": "Python 2",
   "language": "python",
   "name": "python2"
  },
  "language_info": {
   "codemirror_mode": {
    "name": "ipython",
    "version": 2
   },
   "file_extension": ".py",
   "mimetype": "text/x-python",
   "name": "python",
   "nbconvert_exporter": "python",
   "pygments_lexer": "ipython2",
   "version": "2.7.11"
  }
 },
 "nbformat": 4,
 "nbformat_minor": 0
}
