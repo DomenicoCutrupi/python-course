{
 "cells": [],
 "metadata": {
  "name": ""
 },
 "nbformat": 3,
 "nbformat_minor": 0,
 "worksheets": [
  {
   "cells": [
    {
     "cell_type": "markdown",
     "metadata": {},
     "source": [
      "# Running nosetests\n",
      "\n",
      "  - Now run the following command from a shell\n",
      "    \n",
      "        # nosetests -vs 03_parsing_test.py\n",
      "\n",
      "  - Nose is a test framework\n",
      "  - Nose runs every file matching test_*\n",
      "  - Nose runs every function matching test_*\n"
     ]
    },
    {
     "cell_type": "code",
     "input": [
      "!nosetests -vs 03_parsing_test.py"
     ],
     "language": "python",
     "metadata": {},
     "outputs": []
    },
    {
     "cell_type": "code",
     "input": [
      "#\n",
      "# Use %load magic to load a file in ipython notebook\n",
      "#\n",
      "%load 02_nosetests_simple.py"
     ],
     "language": "python",
     "metadata": {},
     "outputs": []
    },
    {
     "cell_type": "code",
     "input": [
      "\"\"\"Introduction to nosetests - 01\n",
      "\n",
      "   Run this script with\n",
      "    #nosetest -v scriptname.py\n",
      "\"\"\"\n",
      "\n",
      "\n",
      "def setup():\n",
      "    print(\"This function is run before the testlist\")\n",
      "\n",
      "\n",
      "def test_one():\n",
      "    # just name a function like test_* to execute it!\n",
      "    a = 1\n",
      "    assert a == 1\n",
      "\n",
      "\n",
      "def test_two():\n",
      "    # This test fails and the backtrace is printed\n",
      "    a = 2\n",
      "    assert a == 1, \"Expecting a == 1. Was %r\" % a\n",
      "\n",
      "\n",
      "def teardown():\n",
      "    print(\"after all tests\")"
     ],
     "language": "python",
     "metadata": {},
     "outputs": []
    },
    {
     "cell_type": "code",
     "input": [
      "#\n",
      "# Let's run it!\n",
      "#\n",
      "!nosetests -v 02_nosetests_simple.py"
     ],
     "language": "python",
     "metadata": {},
     "outputs": []
    },
    {
     "cell_type": "markdown",
     "metadata": {},
     "source": [
      "## Complete Test Script: I\n",
      "\n",
      "  - a more flexible script is 02_nosetests_full.py which uses a Test class\n",
      "  "
     ]
    },
    {
     "cell_type": "code",
     "input": [
      "%load 02_nosetests_full.py"
     ],
     "language": "python",
     "metadata": {},
     "outputs": []
    },
    {
     "cell_type": "code",
     "input": [
      "\"\"\"An articulated nosetest script using classes\n",
      "\n",
      "   - setup_class() and setup() increase flexibility\n",
      "\"\"\"\n",
      "\n",
      "import os\n",
      "\n",
      "\n",
      "class TestB:\n",
      "\n",
      "    @classmethod\n",
      "    def setup_class(self):\n",
      "        # Run once at startup, eg. create database structure\n",
      "        print(\"setup testsuite environment\")\n",
      "        open(\"/tmp/test2.out\", \"w\").write(\"0\")\n",
      "\n",
      "    @classmethod\n",
      "    def teardown_class(self):\n",
      "        # Run once at teardown, eg. drop database\n",
      "        print(\"cleanup testsuite environment\")\n",
      "        os.unlink(\"/tmp/test2.out\")\n",
      "\n",
      "    def setup(self):\n",
      "        # Before every test, like populate a table\n",
      "        print(\"before_every_test\")\n",
      "\n",
      "    def teardown(self):\n",
      "        # After every test, eg truncate a table\n",
      "        print(\"after_every_test\")\n",
      "\n",
      "    def test_a(self):\n",
      "        assert os.path.isfile(\"/tmp/test2.out\")\n",
      "\n",
      "    def test_b(self):\n",
      "        assert False"
     ],
     "language": "python",
     "metadata": {},
     "outputs": []
    },
    {
     "cell_type": "code",
     "input": [],
     "language": "python",
     "metadata": {},
     "outputs": []
    }
   ]
  }
 ]
}