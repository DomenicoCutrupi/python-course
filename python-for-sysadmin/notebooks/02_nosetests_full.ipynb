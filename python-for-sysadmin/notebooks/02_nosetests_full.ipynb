{
 "cells": [
  {
   "cell_type": "markdown",
   "metadata": {},
   "source": [
    "# Nosetest - Full example\n",
    "\n",
    "Python is a wonderful language for testing, especially for system testing.\n",
    "\n",
    "Nosetest is a very simple framework that allows running both simple and parametrized tests.\n",
    "\n",
    "The following file contains some examples.\n",
    "\n"
   ]
  },
  {
   "cell_type": "code",
   "execution_count": null,
   "metadata": {
    "collapsed": true
   },
   "outputs": [],
   "source": [
    "%load 02_nosetests_full.py\n"
   ]
  },
  {
   "cell_type": "code",
   "execution_count": 9,
   "metadata": {
    "collapsed": false
   },
   "outputs": [
    {
     "name": "stdout",
     "output_type": "stream",
     "text": [
      "setup testsuite environment\r\n",
      "02_nosetests_full.TestB.test_a ... before_every_test\r\n",
      "after_every_test\r\n",
      "ok\r\n",
      "02_nosetests_full.TestB.test_b ... before_every_test\r\n",
      "FAIL\r\n",
      "after_every_test\r\n",
      "02_nosetests_full.TestB.test_c('a.txt', \"Missing file: 'a.txt'\") ... before_every_test\r\n",
      "ERROR\r\n",
      "after_every_test\r\n",
      "02_nosetests_full.TestB.test_c('b.txt', \"Missing file: 'b.txt'\") ... before_every_test\r\n",
      "ERROR\r\n",
      "after_every_test\r\n",
      "02_nosetests_full.TestB.test_c('c.txt', \"Missing file: 'c.txt'\") ... before_every_test\r\n",
      "ERROR\r\n",
      "after_every_test\r\n",
      "cleanup testsuite environment\r\n",
      "\r\n",
      "======================================================================\r\n",
      "ERROR: 02_nosetests_full.TestB.test_c('a.txt', \"Missing file: 'a.txt'\")\r\n",
      "----------------------------------------------------------------------\r\n",
      "Traceback (most recent call last):\r\n",
      "  File \"/usr/local/lib/python2.7/site-packages/nose/case.py\", line 197, in runTest\r\n",
      "    self.test(*self.arg)\r\n",
      "TypeError: assert_exists() takes exactly 1 argument (2 given)\r\n",
      "\r\n",
      "======================================================================\r\n",
      "ERROR: 02_nosetests_full.TestB.test_c('b.txt', \"Missing file: 'b.txt'\")\r\n",
      "----------------------------------------------------------------------\r\n",
      "Traceback (most recent call last):\r\n",
      "  File \"/usr/local/lib/python2.7/site-packages/nose/case.py\", line 197, in runTest\r\n",
      "    self.test(*self.arg)\r\n",
      "TypeError: assert_exists() takes exactly 1 argument (2 given)\r\n",
      "\r\n",
      "======================================================================\r\n",
      "ERROR: 02_nosetests_full.TestB.test_c('c.txt', \"Missing file: 'c.txt'\")\r\n",
      "----------------------------------------------------------------------\r\n",
      "Traceback (most recent call last):\r\n",
      "  File \"/usr/local/lib/python2.7/site-packages/nose/case.py\", line 197, in runTest\r\n",
      "    self.test(*self.arg)\r\n",
      "TypeError: assert_exists() takes exactly 1 argument (2 given)\r\n",
      "\r\n",
      "======================================================================\r\n",
      "FAIL: 02_nosetests_full.TestB.test_b\r\n",
      "----------------------------------------------------------------------\r\n",
      "Traceback (most recent call last):\r\n",
      "  File \"/usr/local/lib/python2.7/site-packages/nose/case.py\", line 197, in runTest\r\n",
      "    self.test(*self.arg)\r\n",
      "  File \"/notebooks/notebooks/02_nosetests_full.py\", line 35, in test_b\r\n",
      "    assert False\r\n",
      "AssertionError\r\n",
      "\r\n",
      "----------------------------------------------------------------------\r\n",
      "Ran 5 tests in 0.002s\r\n",
      "\r\n",
      "FAILED (errors=3, failures=1)\r\n"
     ]
    }
   ],
   "source": [
    "# Run it!\n",
    "!nosetests -vs 02_nosetests_full.py\n"
   ]
  },
  {
   "cell_type": "code",
   "execution_count": null,
   "metadata": {
    "collapsed": false
   },
   "outputs": [],
   "source": []
  }
 ],
 "metadata": {
  "kernelspec": {
   "display_name": "Python 2",
   "language": "python",
   "name": "python2"
  },
  "language_info": {
   "codemirror_mode": {
    "name": "ipython",
    "version": 2
   },
   "file_extension": ".py",
   "mimetype": "text/x-python",
   "name": "python",
   "nbconvert_exporter": "python",
   "pygments_lexer": "ipython2",
   "version": "2.7.12"
  }
 },
 "nbformat": 4,
 "nbformat_minor": 0
}
