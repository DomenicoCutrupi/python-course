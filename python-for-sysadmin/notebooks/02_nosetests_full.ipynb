{
 "metadata": {
  "name": ""
 },
 "nbformat": 3,
 "nbformat_minor": 0,
 "worksheets": [
  {
   "cells": [
    {
     "cell_type": "markdown",
     "metadata": {},
     "source": [
      "# Nosetest - Full example\n",
      "\n",
      "\n"
     ]
    },
    {
     "cell_type": "code",
     "collapsed": false,
     "input": [
      "%load 02_nosetests_full.py"
     ],
     "language": "python",
     "metadata": {},
     "outputs": []
    },
    {
     "cell_type": "code",
     "collapsed": false,
     "input": [
      "\"\"\"An articulated nosetest script using classes\n",
      "\n",
      "   - setup_class() and setup() increase flexibility\n",
      "\"\"\"\n",
      "\n",
      "import os\n",
      "\n",
      "\n",
      "class TestB:\n",
      "\n",
      "    @classmethod\n",
      "    def setup_class(self):\n",
      "        # Run once at startup, eg. create database structure\n",
      "        print(\"setup testsuite environment\")\n",
      "        open(\"/tmp/test2.out\", \"w\").write(\"0\")\n",
      "\n",
      "    @classmethod\n",
      "    def teardown_class(self):\n",
      "        # Run once at teardown, eg. drop database\n",
      "        print(\"cleanup testsuite environment\")\n",
      "        os.unlink(\"/tmp/test2.out\")\n",
      "\n",
      "    def setup(self):\n",
      "        # Before every test, like populate a table\n",
      "        print(\"before_every_test\")\n",
      "\n",
      "    def teardown(self):\n",
      "        # After every test, eg truncate a table\n",
      "        print(\"after_every_test\")\n",
      "\n",
      "    def test_a(self):\n",
      "        assert os.path.isfile(\"/tmp/test2.out\")\n",
      "\n",
      "    def test_b(self):\n",
      "        assert False\n"
     ],
     "language": "python",
     "metadata": {},
     "outputs": []
    },
    {
     "cell_type": "code",
     "collapsed": false,
     "input": [
      "# Run it!\n",
      "!nosetests -vs 02_nosetests_full.py\n"
     ],
     "language": "python",
     "metadata": {},
     "outputs": []
    },
    {
     "cell_type": "code",
     "collapsed": false,
     "input": [],
     "language": "python",
     "metadata": {},
     "outputs": []
    }
   ],
   "metadata": {}
  }
 ]
}