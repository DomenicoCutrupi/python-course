{
 "cells": [
  {
   "cell_type": "markdown",
   "metadata": {},
   "source": [
    "# Creating and processing logs\n",
    "\n",
    "## Goals\n",
    "  \n",
    "  - importance of logging\n",
    "  - configuring logger module\n",
    "  - open log files\n",
    "  \n",
    "## modules"
   ]
  },
  {
   "cell_type": "code",
   "execution_count": null,
   "metadata": {
    "collapsed": false
   },
   "outputs": [],
   "source": [
    "from __future__ import print_function\n",
    "\n",
    "import logging\n",
    "import logging.config\n",
    "import logging.handlers\n",
    "import mimetypes\n",
    "import gzip, bz2\n",
    "import yaml\n",
    "\n"
   ]
  },
  {
   "cell_type": "markdown",
   "metadata": {},
   "source": [
    "## Importance of Logging\n",
    "\n",
    "All automation and scripting activity should be carefully logged.\n",
    "\n",
    "The ```logging``` module:\n",
    "\n",
    "  - can stream logs to files and network\n",
    "  - is configurable via yml \n",
    "  - optimizes output via log levels\n",
    "  - takes care of rotation\n",
    "  \n",
    "Hint: manage logs with syslog.\n",
    "  "
   ]
  },
  {
   "cell_type": "code",
   "execution_count": null,
   "metadata": {
    "collapsed": false
   },
   "outputs": [],
   "source": [
    "\n",
    "# Logs to stdout|err with a default loglevel.\n",
    "# Logs are not printed on jupyter cells but you can  \n",
    "#  check them in another terminal with\n",
    "#  #docker-compose logs\n",
    "logging.basicConfig(level=logging.DEBUG)\n",
    "\n",
    "# Create a logger.\n",
    "log = logging.getLogger()\n",
    "\n",
    "# Logs supports a print-like syntax, and doesn't \n",
    "#  build unneeded message strings. \n",
    "log.info(\"Use %r instead of %s to avoid\", [u\"Serialization\"], \"issues\")\n",
    "\n"
   ]
  },
  {
   "cell_type": "code",
   "execution_count": null,
   "metadata": {
    "collapsed": false
   },
   "outputs": [],
   "source": [
    "\n",
    "%cat logger.yml\n"
   ]
  },
  {
   "cell_type": "code",
   "execution_count": null,
   "metadata": {
    "collapsed": false
   },
   "outputs": [],
   "source": [
    "with open('logger.yml') as logger_config:\n",
    "    logging.config.dictConfig(yaml.safe_load(logger_config))\n",
    "    \n",
    "# The ```os``` module goes to syslog\n",
    "log.info(\"To syslog\")\n"
   ]
  },
  {
   "cell_type": "code",
   "execution_count": null,
   "metadata": {
    "collapsed": true
   },
   "outputs": [],
   "source": [
    "# To process compressed files, use an helper function. \n",
    "import mimetools\n",
    "import gzip\n",
    "import bz2\n",
    "\n",
    "def log_open(path):\n",
    "    \"\"\"Open log files using its mimetype to choose the correct method\"\"\"\n",
    "    l_type, l_encoding = mimetypes.guess_type(path)\n",
    "    if l_encoding == 'gzip':\n",
    "        return gzip.open(path, 'rb')\n",
    "    elif l_encoding == 'bzip2':\n",
    "        return bz2.BZ2File(path, 'rb')\n",
    "    else:\n",
    "        return open(path, 'rthe b')\n"
   ]
  },
  {
   "cell_type": "code",
   "execution_count": null,
   "metadata": {
    "collapsed": false
   },
   "outputs": [],
   "source": [
    "# Exercise:\n",
    "#  log some messages modifying the default format string.\n",
    "#  check the outcome in a separate terminal with\n",
    "#  docker-compose logs"
   ]
  },
  {
   "cell_type": "markdown",
   "metadata": {},
   "source": [
    "## Parsing /proc\n",
    "\n",
    "Linux /proc filesystem is a cool place to get data\n",
    "\n",
    "In the next example we'll see how to get:\n",
    " - thread informations;\n",
    " - disk statistics;\n",
    " \n",
    " "
   ]
  },
  {
   "cell_type": "code",
   "execution_count": null,
   "metadata": {
    "collapsed": true
   },
   "outputs": [],
   "source": [
    "# Parsing /proc - 1\n",
    "def linux_threads(pid):\n",
    "    \"\"\"Retrieving data from /proc\n",
    "    \"\"\"\n",
    "    from glob import glob\n",
    "    # glob emulates shell expansion of * and ?\n",
    "    path = \"/proc/{}/task/*/status\".format(pid)\n",
    "    \n",
    "         \n",
    "    # pick a set of fields to gather\n",
    "    t_info = ('Pid', 'Tgid', 'voluntary')  # this is a tuple!\n",
    "    for t in glob(path):\n",
    "        # ... and use comprehension to get \n",
    "        # intersting data.\n",
    "        t_info = [x \n",
    "                  for x in open(t) \n",
    "                  if x.startswith(t_info)] # startswith accepts tuples!\n",
    "        print(t_info)"
   ]
  },
  {
   "cell_type": "code",
   "execution_count": null,
   "metadata": {
    "collapsed": false
   },
   "outputs": [],
   "source": [
    "# If you're on linux try linux_threads\n",
    "pid_of_init = 1  # or systemd ?\n",
    "linux_threads(pid_of_init)"
   ]
  },
  {
   "cell_type": "code",
   "execution_count": null,
   "metadata": {
    "collapsed": false
   },
   "outputs": [],
   "source": [
    "# Reload previous grep \n",
    "from course import grep\n",
    "# On linux /proc/diskstats is the source of I/O infos\n",
    "disk_l = grep(\"sda\", \"/proc/diskstats\")\n",
    "print(''.join(disk_l))\n",
    "\n",
    "# To gather that data we put the header in a multiline string\n",
    "from course import diskstats_headers as headers\n",
    "\n",
    "#Take the 1st entry (sda), split the data...\n",
    "disk_info = disk_l[0].split()\n",
    "# ... and tie them with the header\n",
    "ret = zip(headers, disk_info)\n",
    "\n",
    "# On py3 we need to iterate over the generators\n",
    "print(list(ret))"
   ]
  },
  {
   "cell_type": "code",
   "execution_count": null,
   "metadata": {
    "collapsed": false
   },
   "outputs": [],
   "source": [
    "# Try to mangle ret\n",
    "print('\\n'.join(str(x) for x in ret))"
   ]
  },
  {
   "cell_type": "code",
   "execution_count": null,
   "metadata": {
    "collapsed": false
   },
   "outputs": [],
   "source": [
    "# We can create a reusable commodity class with\n",
    "from collections import namedtuple\n",
    "\n",
    "# using the imported `headers` as attributes\n",
    "# like the one provided by psutil\n",
    "DiskStats = namedtuple('DiskStat', headers)\n",
    "\n",
    "# ... and disk_info as values\n",
    "dstat = DiskStats(*disk_info)\n",
    "print(dstat.device, dstat.writes_ms)\n",
    "\n",
    "# Homework: check further features with\n",
    "# help(collections)"
   ]
  },
  {
   "cell_type": "code",
   "execution_count": null,
   "metadata": {
    "collapsed": false
   },
   "outputs": [],
   "source": [
    "# Exercise\n",
    "# Write the following function \n",
    "def linux_diskstats(partition):\n",
    "    \"\"\"Print every second I/O information from /proc/diskstats\n",
    "    \n",
    "        @param: partition - eg sda1 or vdx1\n",
    "        \n",
    "        Hint: use the above `grep` function\n",
    "        Hint: use zip, time.sleep, print() and *magic\n",
    "    \"\"\"\n",
    "    diskstats_headers = ('reads reads_merged reads_sectors reads_ms'\n",
    "            ' writes writes_merged writes_sectors writes_ms'\n",
    "            ' io_in_progress io_ms_weight').split()\n",
    "    \n",
    "    while True:\n",
    "        raise NotImplementedError\n",
    "        print(values, sep=\"\\t\")"
   ]
  },
  {
   "cell_type": "code",
   "execution_count": null,
   "metadata": {
    "collapsed": false
   },
   "outputs": [],
   "source": [
    "# %load course/linux_diskstats.py\n",
    "__author__ = 'rpolli'\n",
    "from __future__ import print_function\n",
    "from course import grep\n",
    "\n",
    "\n",
    "def linux_diskstats(disk):\n",
    "    \"\"\"Get I/O information from /proc/diskstats\n",
    "\n",
    "       @param disk def sda\n",
    "       goal: usage of time.sleep\n",
    "       goal: usage of dict.setdefault\n",
    "       goal: use string concatenation to increase readability\n",
    "       goal: use *magic with print+sep, splitting and slicing\n",
    "    \"\"\"\n",
    "    from time import sleep\n",
    "    info = ('reads reads_merged reads_sectors reads_ms'\n",
    "            ' writes writes_merged writes_sectors writes_ms'\n",
    "            ' io_in_progress io_ms_weight').split()\n",
    "    print(*info, sep=\",\")\n",
    "    old, cur = dict(), dict()\n",
    "    while True:\n",
    "        disk_l = grep(disk, \"/proc/diskstats\")\n",
    "        for x in disk_l:\n",
    "            info = x.split()\n",
    "            # the first 3 fields are disk informations\n",
    "            part = info[2]\n",
    "            old.setdefault(part, [0] * 11)\n",
    "            cur[part] = map(int, info[3:])\n",
    "            delta = [x - y for x, y in zip(cur[part], old[part])]\n",
    "            print(*delta, sep=\",\")\n",
    "            old[part] = cur[part]\n",
    "        sleep(1)\n"
   ]
  },
  {
   "cell_type": "code",
   "execution_count": null,
   "metadata": {
    "collapsed": false
   },
   "outputs": [],
   "source": [
    "# Using check_output with split() doesn't always work\n",
    "from os import makedirs\n",
    "\n",
    "makedirs('/tmp/course/b l a n k s')  # , exist_ok=True)"
   ]
  },
  {
   "cell_type": "code",
   "execution_count": null,
   "metadata": {
    "collapsed": false
   },
   "outputs": [],
   "source": [
    "from subprocess import check_output\n",
    "\n",
    "check_output('ls \"/tmp/course/b l a n k s\"'.split())"
   ]
  },
  {
   "cell_type": "code",
   "execution_count": null,
   "metadata": {
    "collapsed": false
   },
   "outputs": [],
   "source": [
    "# You can use\n",
    "from shlex import split\n",
    "# and\n",
    "cmd = split('dir -a \"/tmp/course/b l a n k s\"')\n",
    "check_output(cmd)"
   ]
  },
  {
   "cell_type": "code",
   "execution_count": null,
   "metadata": {
    "collapsed": true
   },
   "outputs": [],
   "source": [
    "# Cleanup everything!\n",
    "from shutil import rmtree\n",
    "rmtree(\"/tmp/course\")"
   ]
  },
  {
   "cell_type": "markdown",
   "metadata": {},
   "source": [
    "## zip on py3 is a generator \n"
   ]
  },
  {
   "cell_type": "code",
   "execution_count": null,
   "metadata": {
    "collapsed": false
   },
   "outputs": [],
   "source": [
    "# zip_iterables():\n",
    "\"\"\"The zip method joins list elements pairwise\n",
    "    like a zip fastener\n",
    "\"\"\"\n",
    "from sys import version_info as python_version\n",
    "a_list = [0, 1, 2, 3]\n",
    "b_list = [\"a\", \"b\", \"c\", \"d\"]\n",
    "zipper = zip(a_list, b_list)\n",
    "print(zipper)"
   ]
  },
  {
   "cell_type": "code",
   "execution_count": null,
   "metadata": {
    "collapsed": true
   },
   "outputs": [],
   "source": [
    "if python_version >= (3,):\n",
    "    zipper = list(zipper)\n",
    "assert zipper == [(0, \"a\"), (1, \"b\"), (2, \"c\"), (3, \"d\")]"
   ]
  }
 ],
 "metadata": {
  "kernelspec": {
   "display_name": "Python 2",
   "language": "python",
   "name": "python2"
  },
  "language_info": {
   "codemirror_mode": {
    "name": "ipython",
    "version": 2
   },
   "file_extension": ".py",
   "mimetype": "text/x-python",
   "name": "python",
   "nbconvert_exporter": "python",
   "pygments_lexer": "ipython2",
   "version": "2.7.12"
  }
 },
 "nbformat": 4,
 "nbformat_minor": 0
}
