{
 "cells": [
  {
   "cell_type": "markdown",
   "metadata": {},
   "source": [
    "# Creating and processing logs\n",
    "\n",
    "## Goals\n",
    "  \n",
    "  - importance of logging\n",
    "  - configuring logger module\n",
    "  - open log files\n",
    "  \n",
    "## modules"
   ]
  },
  {
   "cell_type": "code",
   "execution_count": 2,
   "metadata": {
    "collapsed": false
   },
   "outputs": [
    {
     "ename": "ImportError",
     "evalue": "No module named yaml",
     "output_type": "error",
     "traceback": [
      "\u001b[1;31m---------------------------------------------------------------------------\u001b[0m",
      "\u001b[1;31mImportError\u001b[0m                               Traceback (most recent call last)",
      "\u001b[1;32m<ipython-input-2-a2a29dc011b5>\u001b[0m in \u001b[0;36m<module>\u001b[1;34m()\u001b[0m\n\u001b[0;32m      4\u001b[0m \u001b[1;32mimport\u001b[0m \u001b[0mmimetypes\u001b[0m\u001b[1;33m\u001b[0m\u001b[0m\n\u001b[0;32m      5\u001b[0m \u001b[1;32mimport\u001b[0m \u001b[0mgzip\u001b[0m\u001b[1;33m,\u001b[0m \u001b[0mbz2\u001b[0m\u001b[1;33m\u001b[0m\u001b[0m\n\u001b[1;32m----> 6\u001b[1;33m \u001b[1;32mimport\u001b[0m \u001b[0myaml\u001b[0m\u001b[1;33m\u001b[0m\u001b[0m\n\u001b[0m",
      "\u001b[1;31mImportError\u001b[0m: No module named yaml"
     ]
    }
   ],
   "source": [
    "import logging\n",
    "import logging.config\n",
    "import logging.handlers\n",
    "import mimetypes\n",
    "import gzip, bz2\n",
    "import yaml\n"
   ]
  },
  {
   "cell_type": "markdown",
   "metadata": {},
   "source": [
    "## Importance of Logging\n",
    "\n",
    "All automation and scripting activity should be carefully logged.\n",
    "\n",
    "The ```logging``` module:\n",
    "\n",
    "  - can stream logs to files and network\n",
    "  - is configurable via yml \n",
    "  - optimizes output via log levels\n",
    "  - takes care of rotation\n",
    "  \n",
    "Hint: manage logs with syslog.\n",
    "  "
   ]
  },
  {
   "cell_type": "code",
   "execution_count": 46,
   "metadata": {
    "collapsed": false
   },
   "outputs": [],
   "source": [
    "\n",
    "# Logs to stdout|err with a default loglevel.\n",
    "# Logs are not printed on jupyter cells but you can  \n",
    "#  check them in another terminal with\n",
    "#  #docker-compose logs\n",
    "logging.basicConfig(level=logging.DEBUG)\n",
    "\n",
    "# Create a logger.\n",
    "log = logging.getLogger()\n",
    "\n",
    "# Logs supports a print-like syntax, and doesn't \n",
    "#  build unneeded message strings. \n",
    "log.info(\"Use %r instead of %s to avoid\", [u\"Serialization\"], \"issues\")\n",
    "\n"
   ]
  },
  {
   "cell_type": "code",
   "execution_count": 58,
   "metadata": {
    "collapsed": false
   },
   "outputs": [
    {
     "name": "stdout",
     "output_type": "stream",
     "text": [
      "version: 1\r\n",
      "formatters:\r\n",
      "  detailed: \r\n",
      "    class: logging.Formatter\r\n",
      "    format: '%(asctime)s %(name)-15s %(levelname)-8s %(processName)-10s %(message)s'\r\n",
      "\r\n",
      "handlers:\r\n",
      "  console: \r\n",
      "    class: logging.StreamHandler\r\n",
      "    level: INFO\r\n",
      "  syslog: \r\n",
      "    class: logging.handlers.SysLogHandler\r\n",
      "    formatter: detailed\r\n",
      "    level: DEBUG\r\n",
      "\r\n",
      "loggers:\r\n",
      "  os:\r\n",
      "    handlers: [syslog]\r\n",
      "\r\n",
      "root:\r\n",
      "  handlers: [console, syslog]\r\n",
      "  level: DEBUG\r\n"
     ]
    }
   ],
   "source": [
    "\n",
    "%cat logger.yml\n"
   ]
  },
  {
   "cell_type": "code",
   "execution_count": null,
   "metadata": {
    "collapsed": true
   },
   "outputs": [],
   "source": [
    "with open('logger.yml') as logger_config:\n",
    "    logger.config.dictConfig(yaml.safe_load(logger_config))\n",
    "    \n",
    "# The ```os``` module goes to syslog\n",
    "log.info(\"To syslog\")\n"
   ]
  },
  {
   "cell_type": "code",
   "execution_count": 1,
   "metadata": {
    "collapsed": true
   },
   "outputs": [],
   "source": [
    "# To process compressed files, use an helper function. \n",
    "import mimetools\n",
    "import gzip\n",
    "import bz2\n",
    "\n",
    "def log_open(path):\n",
    "    \"\"\"Open log files using its mimetype to choose the correct method\"\"\"\n",
    "    l_type, l_encoding = mimetypes.guess_type(path)\n",
    "    if l_encoding == 'gzip':\n",
    "        return gzip.open(path, 'rb')\n",
    "    elif l_encoding == 'bzip2':\n",
    "        return bz2.BZ2File(path, 'rb')\n",
    "    else:\n",
    "        return open(path, 'rthe b')\n"
   ]
  },
  {
   "cell_type": "code",
   "execution_count": 8,
   "metadata": {
    "collapsed": false
   },
   "outputs": [],
   "source": [
    "# Exercise:\n",
    "#  log some messages modifying the default format string.\n",
    "#  check the outcome in a separate terminal with\n",
    "#  docker-compose logs"
   ]
  },
  {
   "cell_type": "markdown",
   "metadata": {},
   "source": [
    "## Parsing /proc\n",
    "\n",
    "Linux /proc filesystem is a cool place to get data\n",
    "\n",
    "In the next example we'll see how to get:\n",
    " - thread informations;\n",
    " - disk statistics;\n",
    " \n",
    " "
   ]
  },
  {
   "cell_type": "code",
   "execution_count": 2,
   "metadata": {
    "collapsed": true
   },
   "outputs": [],
   "source": [
    "# Parsing /proc - 1\n",
    "def linux_threads(pid):\n",
    "    \"\"\"Retrieving data from /proc\n",
    "    \"\"\"\n",
    "    from glob import glob\n",
    "    # glob emulates shell expansion of * and ?\n",
    "    path = \"/proc/{}/task/*/status\".format(pid)\n",
    "    \n",
    "         \n",
    "    # pick a set of fields to gather\n",
    "    t_info = ('Pid', 'Tgid', 'voluntary')  # this is a tuple!\n",
    "    for t in glob(path):\n",
    "        # ... and use comprehension to get \n",
    "        # intersting data.\n",
    "        t_info = [x \n",
    "                  for x in open(t) \n",
    "                  if x.startswith(t_info)] # startswith accepts tuples!\n",
    "        print(t_info)"
   ]
  },
  {
   "cell_type": "code",
   "execution_count": 3,
   "metadata": {
    "collapsed": false
   },
   "outputs": [
    {
     "name": "stdout",
     "output_type": "stream",
     "text": [
      "['Tgid:\\t1\\n', 'Pid:\\t1\\n', 'voluntary_ctxt_switches:\\t128\\n']\n"
     ]
    }
   ],
   "source": [
    "# If you're on linux try linux_threads\n",
    "pid_of_init = 1  # or systemd ?\n",
    "linux_threads(pid_of_init)"
   ]
  },
  {
   "cell_type": "code",
   "execution_count": 6,
   "metadata": {
    "collapsed": false
   },
   "outputs": [
    {
     "name": "stdout",
     "output_type": "stream",
     "text": [
      "   8       0 sda 81979 8078 3823462 701708 43032 7486 1524680 3731500 0 241285 4433460\n",
      "   8       1 sda1 119 0 1816 415 0 0 0 0 0 406 415\n",
      "   8       2 sda2 51 0 1272 656 0 0 0 0 0 650 656\n",
      "   8       3 sda3 113 0 1768 1521 0 0 0 0 0 1516 1521\n",
      "   8       4 sda4 115 0 1784 622 0 0 0 0 0 622 622\n",
      "   8       5 sda5 152 206 2009 1492 0 0 0 0 0 1383 1492\n",
      "   8       6 sda6 117 0 1800 989 0 0 0 0 0 955 989\n",
      "   8       7 sda7 230 4 3816 895 13 1 112 181 0 1020 1076\n",
      "   8       8 sda8 80832 7868 3805197 693851 39714 7485 1524568 3701817 0 229034 4395925\n",
      "   8       9 sda9 115 0 2032 656 0 0 0 0 0 641 656\n",
      "\n",
      "[(u'major', '8'), (u'minor', '0'), (u'device', 'sda'), (u'reads', '81979'), (u'reads_merged', '8078'), (u'reads_sectors', '3823462'), (u'reads_ms', '701708'), (u'writes', '43032'), (u'writes_merged', '7486'), (u'writes_sectors', '1524680'), (u'writes_ms', '3731500'), (u'io_in_progress', '0'), (u'io_ms_spent', '241285'), (u'io_ms_weight', '4433460')]\n"
     ]
    }
   ],
   "source": [
    "# Reload previous grep \n",
    "from course import grep\n",
    "# On linux /proc/diskstats is the source of I/O infos\n",
    "disk_l = grep(\"sda\", \"/proc/diskstats\")\n",
    "print(''.join(disk_l))\n",
    "\n",
    "# To gather that data we put the header in a multiline string\n",
    "from course import diskstats_headers as headers\n",
    "\n",
    "#Take the 1st entry (sda), split the data...\n",
    "disk_info = disk_l[0].split()\n",
    "# ... and tie them with the header\n",
    "ret = zip(headers, disk_info)\n",
    "\n",
    "# On py3 we need to iterate over the generators\n",
    "print(list(ret))"
   ]
  },
  {
   "cell_type": "code",
   "execution_count": 19,
   "metadata": {
    "collapsed": false
   },
   "outputs": [
    {
     "name": "stdout",
     "output_type": "stream",
     "text": [
      "(u'major', '8')\n",
      "(u'minor', '0')\n",
      "(u'device', 'sda')\n",
      "(u'reads', '216382')\n",
      "(u'reads_merged', '11369')\n",
      "(u'reads_sectors', '8765248')\n",
      "(u'reads_ms', '1773709')\n",
      "(u'writes', '242383')\n",
      "(u'writes_merged', '61222')\n",
      "(u'writes_sectors', '19926032')\n",
      "(u'writes_ms', '6871893')\n",
      "(u'io_in_progress', '0')\n",
      "(u'io_ms_spent', '783857')\n",
      "(u'io_ms_weight', '8646230')\n"
     ]
    }
   ],
   "source": [
    "# Try to mangle ret\n",
    "print('\\n'.join(str(x) for x in ret))"
   ]
  },
  {
   "cell_type": "code",
   "execution_count": 7,
   "metadata": {
    "collapsed": false
   },
   "outputs": [
    {
     "name": "stdout",
     "output_type": "stream",
     "text": [
      "('sda', '3731500')\n"
     ]
    }
   ],
   "source": [
    "# We can create a reusable commodity class with\n",
    "from collections import namedtuple\n",
    "\n",
    "# using the imported `headers` as attributes\n",
    "# like the one provided by psutil\n",
    "DiskStats = namedtuple('DiskStat', headers)\n",
    "\n",
    "# ... and disk_info as values\n",
    "dstat = DiskStats(*disk_info)\n",
    "print(dstat.device, dstat.writes_ms)\n",
    "\n",
    "# Homework: check further features with\n",
    "# help(collections)"
   ]
  },
  {
   "cell_type": "code",
   "execution_count": 21,
   "metadata": {
    "collapsed": true
   },
   "outputs": [],
   "source": [
    "# Exercise\n",
    "# Write the following function \n",
    "def linux_diskstats(partition):\n",
    "    \"\"\"Print every second I/O information from /proc/diskstats\n",
    "    \n",
    "        @param: partition - eg sda1 or vdx1\n",
    "        \n",
    "        Hint: use the above `grep` function\n",
    "        Hint: use zip, time.sleep, print() and *magic\n",
    "    \"\"\"\n",
    "    diskstats_headers = ('reads reads_merged reads_sectors reads_ms'\n",
    "            ' writes writes_merged writes_sectors writes_ms'\n",
    "            ' io_in_progress io_ms_weight').split()\n",
    "    \n",
    "    while True:\n",
    "        raise NotImplementedError\n",
    "        print(values, sep=\"\\t\")"
   ]
  },
  {
   "cell_type": "code",
   "execution_count": null,
   "metadata": {
    "collapsed": true
   },
   "outputs": [],
   "source": [
    "# Solution\n",
    "%load course/linux_diskstats.py"
   ]
  },
  {
   "cell_type": "code",
   "execution_count": null,
   "metadata": {
    "collapsed": true
   },
   "outputs": [],
   "source": [
    "# Using check_output with split() doesn't always work\n",
    "from os import makedirs\n",
    "\n",
    "makedirs('/tmp/course/b l a n k s')  # , exist_ok=True)"
   ]
  },
  {
   "cell_type": "code",
   "execution_count": 13,
   "metadata": {
    "collapsed": false
   },
   "outputs": [
    {
     "ename": "CalledProcessError",
     "evalue": "Command '['ls', '\"/tmp/course/b', 'l', 'a', 'n', 'k', 's\"']' returned non-zero exit status 2",
     "output_type": "error",
     "traceback": [
      "\u001b[1;31m---------------------------------------------------------------------------\u001b[0m",
      "\u001b[1;31mCalledProcessError\u001b[0m                        Traceback (most recent call last)",
      "\u001b[1;32m<ipython-input-13-a0e052e0b6c5>\u001b[0m in \u001b[0;36m<module>\u001b[1;34m()\u001b[0m\n\u001b[0;32m      1\u001b[0m \u001b[1;32mfrom\u001b[0m \u001b[0msubprocess\u001b[0m \u001b[1;32mimport\u001b[0m \u001b[0mcheck_output\u001b[0m\u001b[1;33m\u001b[0m\u001b[0m\n\u001b[0;32m      2\u001b[0m \u001b[1;33m\u001b[0m\u001b[0m\n\u001b[1;32m----> 3\u001b[1;33m \u001b[0mcheck_output\u001b[0m\u001b[1;33m(\u001b[0m\u001b[1;34m'ls \"/tmp/course/b l a n k s\"'\u001b[0m\u001b[1;33m.\u001b[0m\u001b[0msplit\u001b[0m\u001b[1;33m(\u001b[0m\u001b[1;33m)\u001b[0m\u001b[1;33m)\u001b[0m\u001b[1;33m\u001b[0m\u001b[0m\n\u001b[0m",
      "\u001b[1;32m/usr/local/lib/python2.7/subprocess.pyc\u001b[0m in \u001b[0;36mcheck_output\u001b[1;34m(*popenargs, **kwargs)\u001b[0m\n\u001b[0;32m    571\u001b[0m         \u001b[1;32mif\u001b[0m \u001b[0mcmd\u001b[0m \u001b[1;32mis\u001b[0m \u001b[0mNone\u001b[0m\u001b[1;33m:\u001b[0m\u001b[1;33m\u001b[0m\u001b[0m\n\u001b[0;32m    572\u001b[0m             \u001b[0mcmd\u001b[0m \u001b[1;33m=\u001b[0m \u001b[0mpopenargs\u001b[0m\u001b[1;33m[\u001b[0m\u001b[1;36m0\u001b[0m\u001b[1;33m]\u001b[0m\u001b[1;33m\u001b[0m\u001b[0m\n\u001b[1;32m--> 573\u001b[1;33m         \u001b[1;32mraise\u001b[0m \u001b[0mCalledProcessError\u001b[0m\u001b[1;33m(\u001b[0m\u001b[0mretcode\u001b[0m\u001b[1;33m,\u001b[0m \u001b[0mcmd\u001b[0m\u001b[1;33m,\u001b[0m \u001b[0moutput\u001b[0m\u001b[1;33m=\u001b[0m\u001b[0moutput\u001b[0m\u001b[1;33m)\u001b[0m\u001b[1;33m\u001b[0m\u001b[0m\n\u001b[0m\u001b[0;32m    574\u001b[0m     \u001b[1;32mreturn\u001b[0m \u001b[0moutput\u001b[0m\u001b[1;33m\u001b[0m\u001b[0m\n\u001b[0;32m    575\u001b[0m \u001b[1;33m\u001b[0m\u001b[0m\n",
      "\u001b[1;31mCalledProcessError\u001b[0m: Command '['ls', '\"/tmp/course/b', 'l', 'a', 'n', 'k', 's\"']' returned non-zero exit status 2"
     ]
    }
   ],
   "source": [
    "from subprocess import check_output\n",
    "\n",
    "check_output('ls \"/tmp/course/b l a n k s\"'.split())"
   ]
  },
  {
   "cell_type": "code",
   "execution_count": 30,
   "metadata": {
    "collapsed": false
   },
   "outputs": [
    {
     "data": {
      "text/plain": [
       "'.  ..\\n'"
      ]
     },
     "execution_count": 30,
     "metadata": {},
     "output_type": "execute_result"
    }
   ],
   "source": [
    "# You can use\n",
    "from shlex import split\n",
    "# and\n",
    "cmd = split('dir -a \"/tmp/course/b l a n k s\"')\n",
    "check_output(cmd)"
   ]
  },
  {
   "cell_type": "code",
   "execution_count": 11,
   "metadata": {
    "collapsed": true
   },
   "outputs": [],
   "source": [
    "# Cleanup everything!\n",
    "from shutil import rmtree\n",
    "rmtree(\"/tmp/course\")"
   ]
  },
  {
   "cell_type": "markdown",
   "metadata": {},
   "source": [
    "## zip on py3 is a generator \n"
   ]
  },
  {
   "cell_type": "code",
   "execution_count": 32,
   "metadata": {
    "collapsed": false
   },
   "outputs": [
    {
     "name": "stdout",
     "output_type": "stream",
     "text": [
      "[(0, u'a'), (1, u'b'), (2, u'c'), (3, u'd')]\n"
     ]
    }
   ],
   "source": [
    "# zip_iterables():\n",
    "\"\"\"The zip method joins list elements pairwise\n",
    "    like a zip fastener\n",
    "\"\"\"\n",
    "from sys import version_info as python_version\n",
    "a_list = [0, 1, 2, 3]\n",
    "b_list = [\"a\", \"b\", \"c\", \"d\"]\n",
    "zipper = zip(a_list, b_list)\n",
    "print(zipper)"
   ]
  },
  {
   "cell_type": "code",
   "execution_count": 33,
   "metadata": {
    "collapsed": true
   },
   "outputs": [],
   "source": [
    "if python_version >= (3,):\n",
    "    zipper = list(zipper)\n",
    "assert zipper == [(0, \"a\"), (1, \"b\"), (2, \"c\"), (3, \"d\")]"
   ]
  }
 ],
 "metadata": {
  "kernelspec": {
   "display_name": "Python 2",
   "language": "python",
   "name": "python2"
  },
  "language_info": {
   "codemirror_mode": {
    "name": "ipython",
    "version": 2
   },
   "file_extension": ".py",
   "mimetype": "text/x-python",
   "name": "python",
   "nbconvert_exporter": "python",
   "pygments_lexer": "ipython2",
   "version": "2.7.11"
  }
 },
 "nbformat": 4,
 "nbformat_minor": 0
}
