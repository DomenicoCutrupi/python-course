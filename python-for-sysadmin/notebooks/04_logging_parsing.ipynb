{
 "cells": [
  {
   "cell_type": "markdown",
   "metadata": {},
   "source": [
    "# Creating and processing logs\n",
    "\n",
    "## Goals\n",
    "  \n",
    "  - importance of logging\n",
    "  - configuring logger module\n",
    "  - open log files\n",
    "  \n",
    "## modules"
   ]
  },
  {
   "cell_type": "code",
   "execution_count": null,
   "metadata": {
    "collapsed": true
   },
   "outputs": [],
   "source": [
    "import logging\n",
    "import logging.config\n",
    "import logging.handlers\n",
    "import mimetypes\n",
    "import gzip, bz2\n",
    "import yaml\n"
   ]
  },
  {
   "cell_type": "markdown",
   "metadata": {},
   "source": [
    "All automation and scripting activity should be carefully logged.\n",
    "\n",
    "The ```logging``` module:\n",
    "\n",
    "  - can stream logs to files and network\n",
    "  - is configurable via yml \n",
    "  - optimizes output via log levels\n",
    "  - takes care of rotation\n",
    "  \n",
    "Hint: manage logs with syslog.\n",
    "  "
   ]
  },
  {
   "cell_type": "code",
   "execution_count": 46,
   "metadata": {
    "collapsed": false
   },
   "outputs": [],
   "source": [
    "\n",
    "# Logs to stdout|err with a default loglevel.\n",
    "logging.basicConfig(level=logging.DEBUG)\n",
    "\n",
    "# Create a logger named \"mylogger and set its level.\n",
    "log = logging.getLogger()\n",
    "\n",
    "# Logs supports a print-like syntax. \n",
    "log.info(\"Use %r instead of %s to avoid\", [u\"Serialization\"], \"issues\")\n",
    "\n"
   ]
  },
  {
   "cell_type": "code",
   "execution_count": 58,
   "metadata": {
    "collapsed": false
   },
   "outputs": [
    {
     "name": "stdout",
     "output_type": "stream",
     "text": [
      "version: 1\r\n",
      "formatters:\r\n",
      "  detailed: \r\n",
      "    class: logging.Formatter\r\n",
      "    format: '%(asctime)s %(name)-15s %(levelname)-8s %(processName)-10s %(message)s'\r\n",
      "\r\n",
      "handlers:\r\n",
      "  console: \r\n",
      "    class: logging.StreamHandler\r\n",
      "    level: INFO\r\n",
      "  syslog: \r\n",
      "    class: logging.handlers.SysLogHandler\r\n",
      "    formatter: detailed\r\n",
      "    level: DEBUG\r\n",
      "\r\n",
      "loggers:\r\n",
      "  os:\r\n",
      "    handlers: [syslog]\r\n",
      "\r\n",
      "root:\r\n",
      "  handlers: [console, syslog]\r\n",
      "  level: DEBUG\r\n"
     ]
    }
   ],
   "source": [
    "\n",
    "%cat logger.yml\n"
   ]
  },
  {
   "cell_type": "code",
   "execution_count": null,
   "metadata": {
    "collapsed": true
   },
   "outputs": [],
   "source": [
    "with open('logger.yml') as logger_config:\n",
    "    logger.config.dictConfig(yaml.safe_load(logger_config))\n",
    "    \n",
    "# The ```os``` module goes to syslog\n",
    "log.info(\"To syslog\")\n"
   ]
  },
  {
   "cell_type": "code",
   "execution_count": 59,
   "metadata": {
    "collapsed": true
   },
   "outputs": [],
   "source": [
    "# To process compressed files, use an helper function. \n",
    "import mimetools\n",
    "import gzip\n",
    "import bz2\n",
    "\n",
    "def log_open(path):\n",
    "    \"\"\"Open log files using its mimetype to choose the correct method\"\"\"\n",
    "    l_type, l_encoding = mimetypes.guess_type(path)\n",
    "    if l_encoding == 'gzip':\n",
    "        return gzip.open(path, 'rb')\n",
    "    elif l_encoding == 'bzip2':\n",
    "        return bz2.BZ2File(path, 'rb')\n",
    "    else:\n",
    "        return open(path, 'rthe b')\n"
   ]
  },
  {
   "cell_type": "markdown",
   "metadata": {},
   "source": [
    "## Parsing /proc\n",
    "\n",
    "Linux /proc filesystem is a cool place to get data\n",
    "\n",
    "In the next example we'll see how to get:\n",
    " - thread informations;\n",
    " - disk statistics;\n",
    " \n",
    " "
   ]
  },
  {
   "cell_type": "code",
   "execution_count": 16,
   "metadata": {
    "collapsed": true
   },
   "outputs": [],
   "source": [
    "# Parsing /proc - 1\n",
    "def linux_threads(pid):\n",
    "    \"\"\"Retrieving data from /proc\n",
    "    \"\"\"\n",
    "    from glob import glob\n",
    "    # glob emulates shell expansion of * and ?\n",
    "    path = \"/proc/{}/task/*/status\".format(pid)\n",
    "    \n",
    "         \n",
    "    # pick a set of fields to gather\n",
    "    t_info = ('Pid', 'Tgid', 'voluntary')  # this is a tuple!\n",
    "    for t in glob(path):\n",
    "        # ... and use comprehension to get \n",
    "        # intersting data.\n",
    "        t_info = [x \n",
    "                  for x in open(t) \n",
    "                  if x.startswith(t_info)] # startswith accepts tuples!\n",
    "        print(t_info)"
   ]
  },
  {
   "cell_type": "code",
   "execution_count": 17,
   "metadata": {
    "collapsed": false
   },
   "outputs": [
    {
     "name": "stdout",
     "output_type": "stream",
     "text": [
      "['Tgid:\\t1\\n', 'Pid:\\t1\\n', 'voluntary_ctxt_switches:\\t446\\n']\n"
     ]
    }
   ],
   "source": [
    "# If you're on linux try linux_threads\n",
    "pid_of_init = 1 # or systemd ?\n",
    "linux_threads(pid_of_init)"
   ]
  },
  {
   "cell_type": "code",
   "execution_count": 18,
   "metadata": {
    "collapsed": false
   },
   "outputs": [
    {
     "name": "stdout",
     "output_type": "stream",
     "text": [
      "   8       0 sda 216382 11369 8765248 1773709 242383 61222 19926032 6871893 0 783857 8646230\n",
      "   8       1 sda1 122 0 1856 2097 0 0 0 0 0 2095 2097\n",
      "   8       2 sda2 54 0 1312 504 0 0 0 0 0 485 504\n",
      "   8       3 sda3 116 0 1808 1539 0 0 0 0 0 1506 1539\n",
      "   8       4 sda4 118 0 1824 498 0 0 0 0 0 471 498\n",
      "   8       5 sda5 267 206 2161 2898 0 0 0 0 0 2441 2898\n",
      "   8       6 sda6 120 0 1840 979 0 0 0 0 0 958 979\n",
      "   8       7 sda7 228 1 4442 6227 13 1 112 636 0 5525 6862\n",
      "   8       8 sda8 212805 9791 8716589 1744819 207751 35245 19690304 6654285 0 619100 8399593\n",
      "   8       9 sda9 2418 1371 31440 13085 3475 25976 235616 19476 0 27651 32554\n",
      "\n",
      "[(u'major', '8'), (u'minor', '0'), (u'device', 'sda'), (u'reads', '216382'), (u'reads_merged', '11369'), (u'reads_sectors', '8765248'), (u'reads_ms', '1773709'), (u'writes', '242383'), (u'writes_merged', '61222'), (u'writes_sectors', '19926032'), (u'writes_ms', '6871893'), (u'io_in_progress', '0'), (u'io_ms_spent', '783857'), (u'io_ms_weight', '8646230')]\n"
     ]
    }
   ],
   "source": [
    "# On linux /proc/diskstats is the source of I/O infos\n",
    "disk_l = grep(\"sda\", \"/proc/diskstats\")\n",
    "print(''.join(disk_l))\n",
    "\n",
    "# To gather that data we put the header in a multiline string\n",
    "from course import diskstats_headers as headers\n",
    "\n",
    "#Take the 1st entry (sda), split the data...\n",
    "disk_info = disk_l[0].split()\n",
    "# ... and tie them with the header\n",
    "ret = zip(headers, disk_info)\n",
    "\n",
    "# On py3 we need to iterate over the generators\n",
    "print(list(ret))"
   ]
  },
  {
   "cell_type": "code",
   "execution_count": 19,
   "metadata": {
    "collapsed": false
   },
   "outputs": [
    {
     "name": "stdout",
     "output_type": "stream",
     "text": [
      "(u'major', '8')\n",
      "(u'minor', '0')\n",
      "(u'device', 'sda')\n",
      "(u'reads', '216382')\n",
      "(u'reads_merged', '11369')\n",
      "(u'reads_sectors', '8765248')\n",
      "(u'reads_ms', '1773709')\n",
      "(u'writes', '242383')\n",
      "(u'writes_merged', '61222')\n",
      "(u'writes_sectors', '19926032')\n",
      "(u'writes_ms', '6871893')\n",
      "(u'io_in_progress', '0')\n",
      "(u'io_ms_spent', '783857')\n",
      "(u'io_ms_weight', '8646230')\n"
     ]
    }
   ],
   "source": [
    "# Try to mangle ret\n",
    "print('\\n'.join(str(x) for x in ret))"
   ]
  },
  {
   "cell_type": "code",
   "execution_count": 20,
   "metadata": {
    "collapsed": false
   },
   "outputs": [
    {
     "name": "stdout",
     "output_type": "stream",
     "text": [
      "sda 6871893\n"
     ]
    }
   ],
   "source": [
    "# We can create a reusable commodity class with\n",
    "from collections import namedtuple\n",
    "\n",
    "# using the imported `headers` as attributes\n",
    "# like the one provided by psutil\n",
    "DiskStats = namedtuple('DiskStat', headers)\n",
    "\n",
    "# ... and disk_info as values\n",
    "dstat = DiskStats(*disk_info)\n",
    "print(dstat.device, dstat.writes_ms)\n",
    "\n",
    "# Homework: check further features with\n",
    "# help(collections)"
   ]
  },
  {
   "cell_type": "code",
   "execution_count": 21,
   "metadata": {
    "collapsed": true
   },
   "outputs": [],
   "source": [
    "# Exercise\n",
    "# Write the following function \n",
    "def linux_diskstats(partition):\n",
    "    \"\"\"Print every second I/O information from /proc/diskstats\n",
    "    \n",
    "        @param: partition - eg sda1 or vdx1\n",
    "        \n",
    "        Hint: use the above `grep` function\n",
    "        Hint: use zip, time.sleep, print() and *magic\n",
    "    \"\"\"\n",
    "    diskstats_headers = ('reads reads_merged reads_sectors reads_ms'\n",
    "            ' writes writes_merged writes_sectors writes_ms'\n",
    "            ' io_in_progress io_ms_weight').split()\n",
    "    \n",
    "    while True:\n",
    "        raise NotImplementedError\n",
    "        print(values, sep=\"\\t\")"
   ]
  },
  {
   "cell_type": "code",
   "execution_count": null,
   "metadata": {
    "collapsed": true
   },
   "outputs": [],
   "source": [
    "# Solution\n",
    "%load course/linux_diskstats.py"
   ]
  },
  {
   "cell_type": "code",
   "execution_count": 24,
   "metadata": {
    "collapsed": false
   },
   "outputs": [
    {
     "ename": "TypeError",
     "evalue": "makedirs() got an unexpected keyword argument 'exist_ok'",
     "output_type": "error",
     "traceback": [
      "\u001b[1;31m---------------------------------------------------------------------------\u001b[0m",
      "\u001b[1;31mTypeError\u001b[0m                                 Traceback (most recent call last)",
      "\u001b[1;32m<ipython-input-24-ab46675ab78d>\u001b[0m in \u001b[0;36m<module>\u001b[1;34m()\u001b[0m\n\u001b[0;32m      1\u001b[0m \u001b[1;31m# Using check_output with split() doesn't always work\u001b[0m\u001b[1;33m\u001b[0m\u001b[1;33m\u001b[0m\u001b[0m\n\u001b[0;32m      2\u001b[0m \u001b[1;32mfrom\u001b[0m \u001b[0mos\u001b[0m \u001b[1;32mimport\u001b[0m \u001b[0mmakedirs\u001b[0m\u001b[1;33m\u001b[0m\u001b[0m\n\u001b[1;32m----> 3\u001b[1;33m \u001b[0mmakedirs\u001b[0m\u001b[1;33m(\u001b[0m\u001b[1;34m'/tmp/course/b l a n k s'\u001b[0m\u001b[1;33m,\u001b[0m \u001b[0mexist_ok\u001b[0m\u001b[1;33m=\u001b[0m\u001b[0mTrue\u001b[0m\u001b[1;33m)\u001b[0m\u001b[1;33m\u001b[0m\u001b[0m\n\u001b[0m\u001b[0;32m      4\u001b[0m \u001b[1;33m\u001b[0m\u001b[0m\n\u001b[0;32m      5\u001b[0m \u001b[0mcheck_output\u001b[0m\u001b[1;33m(\u001b[0m\u001b[1;34m'ls \"/tmp/course/b l a n k s\"'\u001b[0m\u001b[1;33m.\u001b[0m\u001b[0msplit\u001b[0m\u001b[1;33m(\u001b[0m\u001b[1;33m)\u001b[0m\u001b[1;33m)\u001b[0m\u001b[1;33m\u001b[0m\u001b[0m\n",
      "\u001b[1;31mTypeError\u001b[0m: makedirs() got an unexpected keyword argument 'exist_ok'"
     ]
    }
   ],
   "source": [
    "# Using check_output with split() doesn't always work\n",
    "from os import makedirs\n",
    "makedirs('/tmp/course/b l a n k s', exist_ok=True)\n",
    "\n",
    "check_output('ls \"/tmp/course/b l a n k s\"'.split())"
   ]
  },
  {
   "cell_type": "code",
   "execution_count": 30,
   "metadata": {
    "collapsed": false
   },
   "outputs": [
    {
     "data": {
      "text/plain": [
       "'.  ..\\n'"
      ]
     },
     "execution_count": 30,
     "metadata": {},
     "output_type": "execute_result"
    }
   ],
   "source": [
    "# You can use\n",
    "from shlex import split\n",
    "# and\n",
    "cmd = split('dir -a \"/tmp/course/b l a n k s\"')\n",
    "check_output(cmd)"
   ]
  },
  {
   "cell_type": "markdown",
   "metadata": {},
   "source": [
    "## zip on py3 is a generator \n"
   ]
  },
  {
   "cell_type": "code",
   "execution_count": 32,
   "metadata": {
    "collapsed": false
   },
   "outputs": [
    {
     "name": "stdout",
     "output_type": "stream",
     "text": [
      "[(0, u'a'), (1, u'b'), (2, u'c'), (3, u'd')]\n"
     ]
    }
   ],
   "source": [
    "# zip_iterables():\n",
    "\"\"\"The zip method joins list elements pairwise\n",
    "    like a zip fastener\n",
    "\"\"\"\n",
    "from sys import version_info as python_version\n",
    "a_list = [0, 1, 2, 3]\n",
    "b_list = [\"a\", \"b\", \"c\", \"d\"]\n",
    "zipper = zip(a_list, b_list)\n",
    "print(zipper)"
   ]
  },
  {
   "cell_type": "code",
   "execution_count": 33,
   "metadata": {
    "collapsed": true
   },
   "outputs": [],
   "source": [
    "if python_version >= (3,):\n",
    "    zipper = list(zipper)\n",
    "assert zipper == [(0, \"a\"), (1, \"b\"), (2, \"c\"), (3, \"d\")]"
   ]
  }
 ],
 "metadata": {
  "kernelspec": {
   "display_name": "Python 2",
   "language": "python",
   "name": "python2"
  },
  "language_info": {
   "codemirror_mode": {
    "name": "ipython",
    "version": 2
   },
   "file_extension": ".py",
   "mimetype": "text/x-python",
   "name": "python",
   "nbconvert_exporter": "python",
   "pygments_lexer": "ipython2",
   "version": "2.7.11"
  }
 },
 "nbformat": 4,
 "nbformat_minor": 0
}
