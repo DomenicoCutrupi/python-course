{
 "metadata": {
  "name": ""
 },
 "nbformat": 3,
 "nbformat_minor": 0,
 "worksheets": [
  {
   "cells": [
    {
     "cell_type": "markdown",
     "metadata": {},
     "source": [
      "# Gathering system data - Python for System Administrators \n",
      "\n",
      "Goals:\n",
      "    - Gathering System Data with multiplatform and platform-dependent tools\n",
      "    - Get infos from files, /proc, /sys\n",
      "    - Capture command output\n",
      "    - Use psutil to get IO, CPU and memory data\n",
      "    - Parse files with a strategy\n",
      "    \n",
      "Modules:\n",
      "    - psutil, glob, sys, subprocess\n",
      "\n",
      "Non goal for this lesson:\n",
      "    - use with, yield or pipes\n",
      "\n",
      "\n"
     ]
    },
    {
     "cell_type": "code",
     "collapsed": false,
     "input": [
      "#\n",
      "# Our code is p3-ready\n",
      "#\n",
      "from __future__ import print_function, unicode_literals\n"
     ],
     "language": "python",
     "metadata": {},
     "outputs": []
    },
    {
     "cell_type": "code",
     "collapsed": false,
     "input": [
      "def grep(needle, fpath):\n",
      "    \"\"\"A simple grep implementation\n",
      "\n",
      "       goal: open() is iterable and doesn't\n",
      "             need splitlines()\n",
      "       goal: comprehension can filter lists\n",
      "    \"\"\"\n",
      "    return [x for x in open(fpath) if needle in x]\n",
      "\n",
      "# Do we have localhost?\n",
      "grep(\"localhost\", \"/etc/hosts\")\n"
     ],
     "language": "python",
     "metadata": {},
     "outputs": []
    },
    {
     "cell_type": "code",
     "collapsed": false,
     "input": [
      "#The psutil module is very nice\n",
      "import psutil\n",
      "\n",
      "#Works on Windows, Linux and MacOS\n",
      "psutil.cpu_percent()\n",
      "\n",
      "#And its output is very easy to manage\n",
      "psutil.disk_io_counters()"
     ],
     "language": "python",
     "metadata": {},
     "outputs": []
    },
    {
     "cell_type": "code",
     "collapsed": false,
     "input": [
      "# Exercise: Which other informations \n",
      "# does psutil provide?"
     ],
     "language": "python",
     "metadata": {},
     "outputs": []
    },
    {
     "cell_type": "code",
     "collapsed": false,
     "input": [
      "# Exercise\n",
      "def multiplatform_vmstat(count):\n",
      "    # Write a vmstat-like funxtion printing every second:\n",
      "    # - cpu usage%\n",
      "    # - bytes read and written in the given interval\n",
      "    # Hint: use psutil and time.sleep(1)\n",
      "    # Hint: try on ipython and *then* write the function\n",
      "    #       using %edit vmstat.py\n",
      "    for i in xrange(count):\n",
      "        raise NotImplementedError\n",
      "        print(cpu_usage, bytes_rw)\n",
      "\n",
      "multiplatform_vmstat(5)\n",
      "    \n",
      "%loadpy"
     ],
     "language": "python",
     "metadata": {},
     "outputs": []
    },
    {
     "cell_type": "code",
     "collapsed": false,
     "input": [
      "#\n",
      "# subprocess\n",
      "#\n",
      "# The check_output function returns the command stdout\n",
      "from subprocess import check_output\n",
      "\n",
      "# It takes a *list* as an argument!\n",
      "out = check_output(\"ping -w1  -c1 www.google.com\".split())\n",
      "\n",
      "# and returns a string\n",
      "print(out)"
     ],
     "language": "python",
     "metadata": {},
     "outputs": []
    },
    {
     "cell_type": "code",
     "collapsed": false,
     "input": [
      "def sh(cmd, shell=False, timeout=0):\n",
      "    \"\"\"\"Returns an iterable output of a command string\n",
      "        checking...\n",
      "    \"\"\"\n",
      "    from sys import version_info as python_version\n",
      "    if python_version < (3, 3): # ..before using..\n",
      "        if timeout:\n",
      "            raise ValueError(\"Timeout not supported until Python 3.3\")\n",
      "        output = check_output(cmd.split(), shell=shell)\n",
      "    else:\n",
      "        output = check_output(cmd.split(), shell=shell, timeout=timeout)\n",
      "    return output.splitlines()\n",
      "\n",
      "\n"
     ],
     "language": "python",
     "metadata": {},
     "outputs": []
    },
    {
     "cell_type": "code",
     "collapsed": false,
     "input": [
      "# Exercise\n",
      "def ppgrep(program):\n",
      "    \"\"\"\n",
      "    A multiplatform pgrep-like function.\n",
      "    Prints a list of processes executing 'program'\n",
      "    @param program - eg firefox, explorer.exe\n",
      "    \n",
      "    Hint: use subprocess, os and list-comprehension\n",
      "    eg. items = [x for x in a_list if 'firefox' in x] \n",
      "    Solution is at the EOF\n",
      "    \"\"\"\n",
      "    raise NotImplementedError\n",
      "    "
     ],
     "language": "python",
     "metadata": {},
     "outputs": []
    },
    {
     "cell_type": "markdown",
     "metadata": {},
     "source": [
      "## Parsing /proc\n",
      "\n",
      "Linux /proc filesystem is a cool place to get data\n",
      "\n",
      "In the next example we'll see how to get:\n",
      " - thread informations;\n",
      " - disk statistics;\n",
      " \n",
      " "
     ]
    },
    {
     "cell_type": "code",
     "collapsed": false,
     "input": [
      "# Parsing /proc - 1\n",
      "def linux_threads(pid):\n",
      "    \"\"\"Retrieving data from /proc\n",
      "    \"\"\"\n",
      "    from glob import glob\n",
      "    # glob emulates shell expansion of * and ?\n",
      "    path = \"/proc/{}/task/*/status\".format(pid)\n",
      "    \n",
      "         \n",
      "    # pick a set of fields to gather\n",
      "    t_info = ('Pid', 'Tgid', 'voluntary')  # this is a tuple!\n",
      "    for t in glob(path):\n",
      "        # ... and use comprehension to get \n",
      "        # intersting data.\n",
      "        t_info = [x \n",
      "                  for x in open(t) \n",
      "                  if x.startswith(t_info)] # startswith accepts tuples!\n",
      "        print(t_info)\n"
     ],
     "language": "python",
     "metadata": {},
     "outputs": []
    },
    {
     "cell_type": "code",
     "collapsed": false,
     "input": [
      "# If you're on linux try linux_threads\n",
      "pid_of_init = 1 # or systemd ?\n",
      "linux_threads(pid_of_init)"
     ],
     "language": "python",
     "metadata": {},
     "outputs": []
    },
    {
     "cell_type": "code",
     "collapsed": false,
     "input": [
      "# On linux /proc/diskstats is the source of I/O infos\n",
      "disk_l = grep(\"sda\", \"/proc/diskstats\")\n",
      "print(''.join(disk_l))\n",
      "\n",
      "# To gather that data we put the header in a multiline string\n",
      "from course import diskstats_headers as headers\n",
      "\n",
      "#Take the 1st entry (sda), split the data...\n",
      "disk_info = disk_l[0].split()\n",
      "# ... and tie them with the header\n",
      "ret = zip(headers, disk_info)\n",
      "\n",
      "# On py3 we need to iterate over the generators\n",
      "print(list(ret))"
     ],
     "language": "python",
     "metadata": {},
     "outputs": []
    },
    {
     "cell_type": "code",
     "collapsed": false,
     "input": [
      "# Try to mangle ret\n",
      "print('\\n'.join(str(x) for x in ret))\n"
     ],
     "language": "python",
     "metadata": {},
     "outputs": []
    },
    {
     "cell_type": "code",
     "collapsed": false,
     "input": [
      "# We can create a reusable commodity class with\n",
      "from collections import namedtuple\n",
      "\n",
      "# using the imported `headers` as attributes\n",
      "# like the one provided by psutil\n",
      "DiskStats = namedtuple('DiskStat', headers)\n",
      "\n",
      "# ... and disk_info as values\n",
      "dstat = DiskStats(*disk_info)\n",
      "print(dstat.device, dstat.writes_ms)\n",
      "\n",
      "# Homework: check further features with\n",
      "# help(collections)"
     ],
     "language": "python",
     "metadata": {},
     "outputs": []
    },
    {
     "cell_type": "code",
     "collapsed": false,
     "input": [
      "# Exercise\n",
      "# Write the following function \n",
      "def linux_diskstats(partition):\n",
      "    \"\"\"Print every second I/O information from /proc/diskstats\n",
      "    \n",
      "        @param: partition - eg sda1 or vdx1\n",
      "        \n",
      "        Hint: use the above `grep` function\n",
      "        Hint: use zip, time.sleep, print() and *magic\n",
      "    \"\"\"\n",
      "    diskstats_headers = ('reads reads_merged reads_sectors reads_ms'\n",
      "            ' writes writes_merged writes_sectors writes_ms'\n",
      "            ' io_in_progress io_ms_weight').split()\n",
      "    \n",
      "    while True:\n",
      "        raise NotImplementedError\n",
      "        print(values, sep=\"\\t\")"
     ],
     "language": "python",
     "metadata": {},
     "outputs": []
    },
    {
     "cell_type": "markdown",
     "metadata": {},
     "source": [
      "# Exercise Solutions... Don't spoil!\n"
     ]
    },
    {
     "cell_type": "code",
     "collapsed": false,
     "input": [
      "def multiplatform_stats(count):\n",
      "    \"\"\"Get data in a multiplatform way\n",
      "\n",
      "    \"\"\"\n",
      "    import psutil\n",
      "    import time\n",
      "    cpu_percent, io_stat, io_stat_0 = 0, 0, 0\n",
      "    print(\"cpu%\", \"iops(r+w)\")\n",
      "    for x in range(-count, 1):\n",
      "        cpu_percent = psutil.cpu_percent()\n",
      "        read_io, write_io = psutil.disk_io_counters()[:2]\n",
      "        io_stat = read_io + write_io\n",
      "        print(cpu_percent, io_stat - io_stat_0)\n",
      "        io_stat_0 = io_stat\n",
      "        if x:\n",
      "            time.sleep(1)\n",
      "\n",
      "\n"
     ],
     "language": "python",
     "metadata": {},
     "outputs": []
    },
    {
     "cell_type": "code",
     "collapsed": false,
     "input": [
      "def system_info_from_command_output_solution():\n",
      "    \"\"\"Exercise: write a multiplatform\n",
      "        pgrep-like function\n",
      "    \"\"\"\n",
      "    def pgrep(expr):\n",
      "        # linux\n",
      "        return grep(expr, sh(\"ps -fe\"))\n",
      "    \n",
      "    def  wpgrep(expr):\n",
      "        # windows\n",
      "        return grep(expr, sh(\"tasklist\"))\n",
      "\n",
      "    # All explorer.exe processes\n",
      "    print(wpgrep(\"explorer.exe\"))\n",
      "\n",
      "\n",
      "    "
     ],
     "language": "python",
     "metadata": {},
     "outputs": []
    },
    {
     "cell_type": "code",
     "collapsed": false,
     "input": [
      "from __future__ import print_function\n",
      "def linux_diskstats(disk):\n",
      "    \"\"\"Get I/O information from /proc/diskstats\n",
      "\n",
      "       @param disk  sda\n",
      "       goal: usage of time.sleep\n",
      "       goal: usage of zip\n",
      "       goal: use string concatenation to increase readability\n",
      "       goal: use *magic with print+sep, splitting and slicing\n",
      "    \"\"\"\n",
      "    from time import sleep\n",
      "    info = ('reads reads_merged reads_sectors reads_ms'\n",
      "            ' writes writes_merged writes_sectors writes_ms'\n",
      "            ' io_in_progress io_ms_weight').split()\n",
      "    print(*info[:8], sep=\"\\t\")\n",
      "    old = [0] * len(info)\n",
      "\n",
      "    while True:\n",
      "        disk_l = grep(disk, \"/proc/diskstats\")\n",
      "        if len(disk_l) > 1:\n",
      "            raise ValueError(\"More than one partition matches!\")\n",
      "\n",
      "        info = disk_l[0].split()\n",
      "        # the first 3 fields are disk informations\n",
      "        cur = map(int, info[3:])\n",
      "        delta = [x - y for (x, y) in zip(cur, old)]\n",
      "        print(*delta[:8], sep=\"\\t\")\n",
      "        old = cur\n",
      "        sleep(1)\n",
      "\n",
      "#\n",
      "# A more complex exercise using a lot of stuff\n",
      "#\n",
      "linux_diskstats(\"sda1\")\n"
     ],
     "language": "python",
     "metadata": {},
     "outputs": []
    },
    {
     "cell_type": "markdown",
     "metadata": {},
     "source": [
      "## zip on py3 is a generator \n"
     ]
    },
    {
     "cell_type": "code",
     "collapsed": false,
     "input": [
      "# zip_iterables():\n",
      "\"\"\"The zip method joins list elements pairwise\n",
      "    like a zip fastener\n",
      "\"\"\"\n",
      "from sys import version_info as python_version\n",
      "a_list = [0, 1, 2, 3]\n",
      "b_list = [\"a\", \"b\", \"c\", \"d\"]\n",
      "zipper = zip(a_list, b_list)\n",
      "if python_version >= (3,):\n",
      "    zipper = list(zipper)\n",
      "assert zipper == [(0, \"a\"), (1, \"b\"), (2, \"c\"), (3, \"d\")]\n",
      "\n",
      "\n"
     ],
     "language": "python",
     "metadata": {},
     "outputs": []
    }
   ],
   "metadata": {}
  }
 ]
}