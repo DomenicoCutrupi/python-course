{
 "cells": [
  {
   "cell_type": "markdown",
   "metadata": {},
   "source": [
    "# Gathering system data - Python for System Administrators \n",
    "\n",
    "## Goals:\n",
    "    - Gathering System Data with multiplatform and platform-dependent tools\n",
    "    - Get infos from files, /proc, /sys\n",
    "    - Capture command output\n",
    "    - Use psutil to get IO, CPU and memory data\n",
    "    - Parse files with a strategy\n",
    "    \n",
    "## Non-goals for this lesson:\n",
    "    - use with, yield or pipes"
   ]
  },
  {
   "cell_type": "markdown",
   "metadata": {},
   "source": [
    "## Modules"
   ]
  },
  {
   "cell_type": "code",
   "execution_count": 1,
   "metadata": {
    "collapsed": true
   },
   "outputs": [],
   "source": [
    "import psutil\n",
    "import glob\n",
    "import sys\n",
    "import subprocess\n"
   ]
  },
  {
   "cell_type": "code",
   "execution_count": 2,
   "metadata": {
    "collapsed": true
   },
   "outputs": [],
   "source": [
    "#\n",
    "# Our code is p3-ready\n",
    "#\n",
    "from __future__ import print_function, unicode_literals"
   ]
  },
  {
   "cell_type": "code",
   "execution_count": 3,
   "metadata": {
    "collapsed": false
   },
   "outputs": [
    {
     "data": {
      "text/plain": [
       "['127.0.0.1\\tlocalhost\\n', '::1\\tlocalhost ip6-localhost ip6-loopback\\n']"
      ]
     },
     "execution_count": 3,
     "metadata": {},
     "output_type": "execute_result"
    }
   ],
   "source": [
    "def grep(needle, fpath):\n",
    "    \"\"\"A simple grep implementation\n",
    "\n",
    "       goal: open() is iterable and doesn't\n",
    "             need splitlines()\n",
    "       goal: comprehension can filter lists\n",
    "    \"\"\"\n",
    "    return [x for x in open(fpath) if needle in x]\n",
    "\n",
    "# Do we have localhost?\n",
    "grep(\"localhost\", \"/etc/hosts\")"
   ]
  },
  {
   "cell_type": "code",
   "execution_count": 4,
   "metadata": {
    "collapsed": false
   },
   "outputs": [
    {
     "data": {
      "text/plain": [
       "59.7"
      ]
     },
     "execution_count": 4,
     "metadata": {},
     "output_type": "execute_result"
    }
   ],
   "source": [
    "#The psutil module is very nice\n",
    "import psutil\n",
    "\n",
    "#Works on Windows, Linux and MacOS\n",
    "psutil.cpu_percent() "
   ]
  },
  {
   "cell_type": "code",
   "execution_count": 5,
   "metadata": {
    "collapsed": false
   },
   "outputs": [
    {
     "name": "stdout",
     "output_type": "stream",
     "text": [
      "sdiskio(read_count=2365882, write_count=3881668, read_bytes=51355675136, write_bytes=91856771072, read_time=16088324, write_time=132931849, read_merged_count=49442, write_merged_count=422233, busy_time=9600992)\n"
     ]
    }
   ],
   "source": [
    "#And its output is very easy to manage\n",
    "ret = psutil.disk_io_counters()\n",
    "print(ret)"
   ]
  },
  {
   "cell_type": "code",
   "execution_count": 6,
   "metadata": {
    "collapsed": true
   },
   "outputs": [],
   "source": [
    "# Exercise: Which other informations \n",
    "# does psutil provide? \n",
    "# Use this cell and the tab-completion jupyter functionalities."
   ]
  },
  {
   "cell_type": "code",
   "execution_count": 7,
   "metadata": {
    "collapsed": false
   },
   "outputs": [
    {
     "ename": "NotImplementedError",
     "evalue": "",
     "output_type": "error",
     "traceback": [
      "\u001b[1;31m---------------------------------------------------------------------------\u001b[0m",
      "\u001b[1;31mNotImplementedError\u001b[0m                       Traceback (most recent call last)",
      "\u001b[1;32m<ipython-input-7-00798820aa5d>\u001b[0m in \u001b[0;36m<module>\u001b[1;34m()\u001b[0m\n\u001b[0;32m     11\u001b[0m         \u001b[1;32mprint\u001b[0m\u001b[1;33m(\u001b[0m\u001b[0mcpu_usage\u001b[0m\u001b[1;33m,\u001b[0m \u001b[0mbytes_rw\u001b[0m\u001b[1;33m)\u001b[0m\u001b[1;33m\u001b[0m\u001b[0m\n\u001b[0;32m     12\u001b[0m \u001b[1;33m\u001b[0m\u001b[0m\n\u001b[1;32m---> 13\u001b[1;33m \u001b[0mmultiplatform_vmstat\u001b[0m\u001b[1;33m(\u001b[0m\u001b[1;36m5\u001b[0m\u001b[1;33m)\u001b[0m\u001b[1;33m\u001b[0m\u001b[0m\n\u001b[0m",
      "\u001b[1;32m<ipython-input-7-00798820aa5d>\u001b[0m in \u001b[0;36mmultiplatform_vmstat\u001b[1;34m(count)\u001b[0m\n\u001b[0;32m      8\u001b[0m     \u001b[1;31m#       using %edit vmstat.py\u001b[0m\u001b[1;33m\u001b[0m\u001b[1;33m\u001b[0m\u001b[0m\n\u001b[0;32m      9\u001b[0m     \u001b[1;32mfor\u001b[0m \u001b[0mi\u001b[0m \u001b[1;32min\u001b[0m \u001b[0mrange\u001b[0m\u001b[1;33m(\u001b[0m\u001b[0mcount\u001b[0m\u001b[1;33m)\u001b[0m\u001b[1;33m:\u001b[0m\u001b[1;33m\u001b[0m\u001b[0m\n\u001b[1;32m---> 10\u001b[1;33m         \u001b[1;32mraise\u001b[0m \u001b[0mNotImplementedError\u001b[0m\u001b[1;33m\u001b[0m\u001b[0m\n\u001b[0m\u001b[0;32m     11\u001b[0m         \u001b[1;32mprint\u001b[0m\u001b[1;33m(\u001b[0m\u001b[0mcpu_usage\u001b[0m\u001b[1;33m,\u001b[0m \u001b[0mbytes_rw\u001b[0m\u001b[1;33m)\u001b[0m\u001b[1;33m\u001b[0m\u001b[0m\n\u001b[0;32m     12\u001b[0m \u001b[1;33m\u001b[0m\u001b[0m\n",
      "\u001b[1;31mNotImplementedError\u001b[0m: "
     ]
    }
   ],
   "source": [
    "# Exercise\n",
    "def multiplatform_vmstat(count):\n",
    "    # Write a vmstat-like function printing every second:\n",
    "    # - cpu usage%\n",
    "    # - bytes read and written in the given interval\n",
    "    # Hint: use psutil and time.sleep(1)\n",
    "    # Hint: use this cell or try on ipython and *then* write the function\n",
    "    #       using %edit vmstat.py\n",
    "    for i in range(count):\n",
    "        raise NotImplementedError\n",
    "        print(cpu_usage, bytes_rw)\n",
    "\n",
    "multiplatform_vmstat(5)"
   ]
  },
  {
   "cell_type": "code",
   "execution_count": 12,
   "metadata": {
    "collapsed": false
   },
   "outputs": [],
   "source": [
    "# %load course/multiplatform_vmstat.py\n",
    "def multiplatform_vmstat(count):\n",
    "    \"\"\"Get data in a multiplatform way\n",
    "\n",
    "    \"\"\"\n",
    "    import psutil\n",
    "    import time\n",
    "    cpu_percent, io_stat, io_stat_0 = 0, 0, 0\n",
    "    print(\"cpu%\", \"iops(r+w)\", sep=\"\\t\")\n",
    "    for x in range(-count, 1):\n",
    "        cpu_percent = psutil.cpu_percent()\n",
    "        read_io, write_io = psutil.disk_io_counters()[:2]\n",
    "        io_stat = read_io + write_io\n",
    "        print(cpu_percent, io_stat - io_stat_0, sep='\\t')\n",
    "        io_stat_0 = io_stat\n",
    "        if x:\n",
    "            time.sleep(1)\n"
   ]
  },
  {
   "cell_type": "code",
   "execution_count": 13,
   "metadata": {
    "collapsed": false
   },
   "outputs": [
    {
     "name": "stdout",
     "output_type": "stream",
     "text": [
      "cpu% iops(r+w)\n",
      "5.8\t6250358\n",
      "10.4\t204\n",
      "3.0\t58\n",
      "2.0\t0\n",
      "29.8\t80\n",
      "34.3\t122\n"
     ]
    }
   ],
   "source": [
    "# Run your vmstat implementation.\n",
    "\n",
    "multiplatform_vmstat(5)"
   ]
  },
  {
   "cell_type": "code",
   "execution_count": 14,
   "metadata": {
    "collapsed": false
   },
   "outputs": [
    {
     "name": "stdout",
     "output_type": "stream",
     "text": [
      "PING www.google.com (216.58.208.36) 56(84) bytes of data.\n",
      "64 bytes from fra15s12-in-f4.1e100.net (216.58.208.36): icmp_seq=1 ttl=49 time=29.8 ms\n",
      "\n",
      "--- www.google.com ping statistics ---\n",
      "1 packets transmitted, 1 received, 0% packet loss, time 0ms\n",
      "rtt min/avg/max/mdev = 29.802/29.802/29.802/0.000 ms\n",
      "\n"
     ]
    }
   ],
   "source": [
    "#\n",
    "# subprocess\n",
    "#\n",
    "# The check_output function returns the command stdout\n",
    "from subprocess import check_output\n",
    "\n",
    "# It takes a *list* as an argument!\n",
    "out = check_output(\"ping -w1  -c1 www.google.com\".split())\n",
    "\n",
    "# and returns a string\n",
    "print(out)"
   ]
  },
  {
   "cell_type": "code",
   "execution_count": null,
   "metadata": {
    "collapsed": true
   },
   "outputs": [],
   "source": [
    "# If you want to stream command output, use subprocess.Popen\n",
    "#  and check carefully subprocess documentation!"
   ]
  },
  {
   "cell_type": "code",
   "execution_count": 22,
   "metadata": {
    "collapsed": true
   },
   "outputs": [],
   "source": [
    "def sh(cmd, shell=False, timeout=0):\n",
    "    \"\"\"\"Returns an iterable output of a command string\n",
    "        checking...\n",
    "    \"\"\"\n",
    "    from sys import version_info as python_version\n",
    "    if python_version < (3, 3): # ..before using..\n",
    "        if timeout:\n",
    "            raise ValueError(\"Timeout not supported until Python 3.3\")\n",
    "        output = check_output(cmd.split(), shell=shell)\n",
    "    else:\n",
    "        output = check_output(cmd.split(), shell=shell, timeout=timeout)\n",
    "    return output.splitlines()"
   ]
  },
  {
   "cell_type": "code",
   "execution_count": null,
   "metadata": {
    "collapsed": true
   },
   "outputs": [],
   "source": [
    "# Exercise:\n",
    "# implement a multiplatform pgrep-like function.\n",
    "def ppgrep(program):\n",
    "    \"\"\"\n",
    "    A multiplatform pgrep-like function.\n",
    "    Prints a list of processes executing 'program'\n",
    "    @param program - eg firefox, explorer.exe\n",
    "    \n",
    "    Hint: use subprocess, os and list-comprehension\n",
    "    eg. items = [x for x in a_list if 'firefox' in x] \n",
    "    \"\"\"\n",
    "    raise NotImplementedError"
   ]
  },
  {
   "cell_type": "code",
   "execution_count": null,
   "metadata": {
    "collapsed": false
   },
   "outputs": [],
   "source": [
    "%load course/pgrep.py\n"
   ]
  },
  {
   "cell_type": "markdown",
   "metadata": {},
   "source": [
    "## Parsing /proc\n",
    "\n",
    "Linux /proc filesystem is a cool place to get data\n",
    "\n",
    "In the next example we'll see how to get:\n",
    " - thread informations;\n",
    " - disk statistics;\n",
    " \n",
    " "
   ]
  },
  {
   "cell_type": "code",
   "execution_count": 32,
   "metadata": {
    "collapsed": true
   },
   "outputs": [],
   "source": [
    "# Parsing /proc - 1\n",
    "def linux_threads(pid):\n",
    "    \"\"\"Retrieving data from /proc\n",
    "    \"\"\"\n",
    "    from glob import glob\n",
    "    # glob emulates shell expansion of * and ?\n",
    "    path = \"/proc/{}/task/*/status\".format(pid)\n",
    "    \n",
    "         \n",
    "    # pick a set of fields to gather\n",
    "    t_info = ('Pid', 'Tgid', 'voluntary')  # this is a tuple!\n",
    "    for t in glob(path):\n",
    "        # ... and use comprehension to get \n",
    "        # intersting data.\n",
    "        t_info = [x \n",
    "                  for x in open(t) \n",
    "                  if x.startswith(t_info)] # startswith accepts tuples!\n",
    "        print(t_info)"
   ]
  },
  {
   "cell_type": "code",
   "execution_count": 33,
   "metadata": {
    "collapsed": false
   },
   "outputs": [
    {
     "name": "stdout",
     "output_type": "stream",
     "text": [
      "['Tgid:\\t1\\n', 'Pid:\\t1\\n', 'voluntary_ctxt_switches:\\t143\\n']\n"
     ]
    }
   ],
   "source": [
    "# If you're on linux try linux_threads\n",
    "pid_of_init = 1 # or systemd ?\n",
    "linux_threads(pid_of_init)"
   ]
  },
  {
   "cell_type": "code",
   "execution_count": 40,
   "metadata": {
    "collapsed": false
   },
   "outputs": [
    {
     "name": "stdout",
     "output_type": "stream",
     "text": [
      "   8       0 sda 1005394 53134 42170585 6272865 1790286 437093 74710584 53596891 0 4656802 59872828\n",
      "   8       1 sda1 119 0 1816 1258 0 0 0 0 0 1258 1258\n",
      "   8       2 sda2 51 0 1272 1234 0 0 0 0 0 1231 1234\n",
      "   8       3 sda3 113 0 1768 1565 0 0 0 0 0 1564 1565\n",
      "   8       4 sda4 115 0 1784 1835 0 0 0 0 0 1830 1835\n",
      "   8       5 sda5 425 206 2282 2599 0 0 0 0 0 2002 2599\n",
      "   8       6 sda6 117 0 1800 1014 0 0 0 0 0 1008 1014\n",
      "   8       7 sda7 249 0 3794 2854 7 1 64 36 0 2575 2890\n",
      "   8       8 sda8 994166 39099 41963093 6127853 1581563 166403 72503680 52067403 0 3666400 58198493\n",
      "   8       9 sda9 9904 13829 191008 130101 5113 270689 2206840 222559 0 167888 352736\n",
      "\n"
     ]
    }
   ],
   "source": [
    "# On linux /proc/diskstats is the source of I/O infos\n",
    "disk_l = grep(\"sda\", \"/proc/diskstats\")\n",
    "print(''.join(disk_l))"
   ]
  },
  {
   "cell_type": "code",
   "execution_count": 47,
   "metadata": {
    "collapsed": false
   },
   "outputs": [
    {
     "name": "stdout",
     "output_type": "stream",
     "text": [
      "major\n",
      "minor\n",
      "device\n",
      "reads\n",
      "reads_merged\n",
      "reads_sectors\n",
      "reads_ms\n",
      "writes\n",
      "writes_merged\n",
      "writes_sectors\n",
      "writes_ms\n",
      "io_in_progress\n",
      "io_ms_spent\n",
      "io_ms_weight\n"
     ]
    }
   ],
   "source": [
    "# To gather that data we put the header in a multiline string\n",
    "from course import diskstats_headers as headers\n",
    "print(*headers, sep='\\n')"
   ]
  },
  {
   "cell_type": "code",
   "execution_count": 50,
   "metadata": {
    "collapsed": false
   },
   "outputs": [
    {
     "name": "stdout",
     "output_type": "stream",
     "text": [
      "[(u'major', '8'), (u'minor', '0'), (u'device', 'sda'), (u'reads', '1005394'), (u'reads_merged', '53134'), (u'reads_sectors', '42170585'), (u'reads_ms', '6272865'), (u'writes', '1790286'), (u'writes_merged', '437093'), (u'writes_sectors', '74710584'), (u'writes_ms', '53596891'), (u'io_in_progress', '0'), (u'io_ms_spent', '4656802'), (u'io_ms_weight', '59872828')]\n"
     ]
    }
   ],
   "source": [
    "#Take the 1st entry (sda), split the data...\n",
    "disk_info = disk_l[0].split()\n",
    "# ... and tie them with the header\n",
    "ret = zip(headers, disk_info)\n",
    "\n",
    "# On py3 we need to iterate over the generators\n",
    "print(list(ret))"
   ]
  },
  {
   "cell_type": "code",
   "execution_count": 53,
   "metadata": {
    "collapsed": false
   },
   "outputs": [
    {
     "name": "stdout",
     "output_type": "stream",
     "text": [
      "(u'major', '8')\n",
      "(u'minor', '0')\n",
      "(u'device', 'sda')\n",
      "(u'reads', '1005394')\n",
      "(u'reads_merged', '53134')\n",
      "(u'reads_sectors', '42170585')\n",
      "(u'reads_ms', '6272865')\n",
      "(u'writes', '1790286')\n",
      "(u'writes_merged', '437093')\n",
      "(u'writes_sectors', '74710584')\n",
      "(u'writes_ms', '53596891')\n",
      "(u'io_in_progress', '0')\n",
      "(u'io_ms_spent', '4656802')\n",
      "(u'io_ms_weight', '59872828')\n"
     ]
    }
   ],
   "source": [
    "# Try to mangle ret\n",
    "print('\\n'.join(str(x) for x in ret))\n",
    "# Exercise: trasform ret in a dict."
   ]
  },
  {
   "cell_type": "code",
   "execution_count": 38,
   "metadata": {
    "collapsed": false
   },
   "outputs": [
    {
     "name": "stdout",
     "output_type": "stream",
     "text": [
      "sda 53585975\n"
     ]
    }
   ],
   "source": [
    "# We can create a reusable commodity class with\n",
    "from collections import namedtuple\n",
    "\n",
    "# using the imported `headers` as attributes\n",
    "# like the one provided by psutil\n",
    "DiskStats = namedtuple('DiskStat', headers)\n",
    "\n",
    "# ... and disk_info as values\n",
    "dstat = DiskStats(*disk_info)\n",
    "print(dstat.device, dstat.writes_ms)\n",
    "\n",
    "# Homework: check further features with\n",
    "# help(collections)"
   ]
  },
  {
   "cell_type": "code",
   "execution_count": null,
   "metadata": {
    "collapsed": true
   },
   "outputs": [],
   "source": [
    "# Exercise\n",
    "# Write the following function \n",
    "def linux_diskstats(partition):\n",
    "    \"\"\"Print every second I/O information from /proc/diskstats\n",
    "    \n",
    "        @param: partition - eg sda1 or vdx1\n",
    "        \n",
    "        Hint: use the above `grep` function\n",
    "        Hint: use zip, time.sleep, print() and *magic\n",
    "    \"\"\"\n",
    "    diskstats_headers = ('reads reads_merged reads_sectors reads_ms'\n",
    "            ' writes writes_merged writes_sectors writes_ms'\n",
    "            ' io_in_progress io_ms_weight').split()\n",
    "    \n",
    "    while True:\n",
    "        raise NotImplementedError\n",
    "        print(values, sep=\"\\t\")"
   ]
  },
  {
   "cell_type": "code",
   "execution_count": null,
   "metadata": {
    "collapsed": true
   },
   "outputs": [],
   "source": [
    "# Solution\n",
    "%load course/linux_diskstats.py"
   ]
  },
  {
   "cell_type": "code",
   "execution_count": null,
   "metadata": {
    "collapsed": false
   },
   "outputs": [],
   "source": [
    "# Using check_output with split() doesn't always work\n",
    "from os import makedirs\n",
    "makedirs('/tmp/course/b l a n k s', exist_ok=True)\n",
    "\n",
    "check_output('ls \"/tmp/course/b l a n k s\"'.split())"
   ]
  },
  {
   "cell_type": "code",
   "execution_count": null,
   "metadata": {
    "collapsed": false
   },
   "outputs": [],
   "source": [
    "# You can use\n",
    "from shlex import split\n",
    "# and\n",
    "cmd = split('dir -a \"/tmp/course/b l a n k s\"')\n",
    "check_output(cmd)"
   ]
  },
  {
   "cell_type": "markdown",
   "metadata": {},
   "source": [
    "# Pandas \n",
    "\n",
    "Pandas is an useful (and fat) library for data management.\n",
    "\n",
    "You can use it to import and export data from csv and excel, or for basic plotting.\n",
    "\n"
   ]
  },
  {
   "cell_type": "code",
   "execution_count": 72,
   "metadata": {
    "collapsed": false
   },
   "outputs": [
    {
     "data": {
      "text/html": [
       "<div>\n",
       "<table border=\"1\" class=\"dataframe\">\n",
       "  <thead>\n",
       "    <tr style=\"text-align: right;\">\n",
       "      <th></th>\n",
       "      <th>reads</th>\n",
       "      <th>reads_merged</th>\n",
       "      <th>reads_sectors</th>\n",
       "      <th>reads_ms</th>\n",
       "      <th>writes</th>\n",
       "      <th>writes_merged</th>\n",
       "      <th>writes_sectors</th>\n",
       "      <th>writes_ms</th>\n",
       "      <th>io_in_progress</th>\n",
       "      <th>io_ms_spent</th>\n",
       "      <th>io_ms_weight</th>\n",
       "    </tr>\n",
       "  </thead>\n",
       "  <tbody>\n",
       "    <tr>\n",
       "      <th>sda</th>\n",
       "      <td>1005394</td>\n",
       "      <td>53134</td>\n",
       "      <td>42170585</td>\n",
       "      <td>6272865</td>\n",
       "      <td>1790286</td>\n",
       "      <td>437093</td>\n",
       "      <td>74710584</td>\n",
       "      <td>53596891</td>\n",
       "      <td>0</td>\n",
       "      <td>4656802</td>\n",
       "      <td>59872828</td>\n",
       "    </tr>\n",
       "  </tbody>\n",
       "</table>\n",
       "</div>"
      ],
      "text/plain": [
       "       reads reads_merged reads_sectors reads_ms   writes writes_merged  \\\n",
       "sda  1005394        53134      42170585  6272865  1790286        437093   \n",
       "\n",
       "    writes_sectors writes_ms io_in_progress io_ms_spent io_ms_weight  \n",
       "sda       74710584  53596891              0     4656802     59872828  "
      ]
     },
     "execution_count": 72,
     "metadata": {},
     "output_type": "execute_result"
    }
   ],
   "source": [
    "# Pandas 101# Pandas 101\n",
    "import pandas as pd\n",
    "pd.DataFrame(ret)\n",
    "import pandas as pd\n",
    "df = pd.DataFrame(zip(*ret[3:]), columns=zip(*ret[3:])[0], index=ret[2])\n",
    "df[1:]"
   ]
  },
  {
   "cell_type": "code",
   "execution_count": null,
   "metadata": {
    "collapsed": true
   },
   "outputs": [],
   "source": []
  },
  {
   "cell_type": "markdown",
   "metadata": {},
   "source": [
    "## zip on py3 is a generator \n"
   ]
  },
  {
   "cell_type": "code",
   "execution_count": null,
   "metadata": {
    "collapsed": false
   },
   "outputs": [],
   "source": [
    "# zip_iterables():\n",
    "\"\"\"The zip method joins list elements pairwise\n",
    "    like a zip fastener\n",
    "\"\"\"\n",
    "from sys import version_info as python_version\n",
    "a_list = [0, 1, 2, 3]\n",
    "b_list = [\"a\", \"b\", \"c\", \"d\"]\n",
    "zipper = zip(a_list, b_list)\n",
    "print(zipper)"
   ]
  },
  {
   "cell_type": "code",
   "execution_count": null,
   "metadata": {
    "collapsed": true
   },
   "outputs": [],
   "source": [
    "if python_version >= (3,):\n",
    "    zipper = list(zipper)\n",
    "assert zipper == [(0, \"a\"), (1, \"b\"), (2, \"c\"), (3, \"d\")]"
   ]
  }
 ],
 "metadata": {
  "kernelspec": {
   "display_name": "Python 2",
   "language": "python",
   "name": "python2"
  },
  "language_info": {
   "codemirror_mode": {
    "name": "ipython",
    "version": 2
   },
   "file_extension": ".py",
   "mimetype": "text/x-python",
   "name": "python",
   "nbconvert_exporter": "python",
   "pygments_lexer": "ipython2",
   "version": "2.7.6"
  }
 },
 "nbformat": 4,
 "nbformat_minor": 0
}
