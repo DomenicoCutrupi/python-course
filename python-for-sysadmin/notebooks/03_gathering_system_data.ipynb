{
 "cells": [
  {
   "cell_type": "markdown",
   "metadata": {},
   "source": [
    "# Gathering system data - Python for System Administrators \n",
    "\n",
    "## Goals:\n",
    "    - Gathering System Data with multiplatform and platform-dependent tools\n",
    "    - Get infos from files, /proc, /sys\n",
    "    - Capture command output\n",
    "    - Use psutil to get IO, CPU and memory data\n",
    "    - Parse files with a strategy\n",
    "    \n",
    "## Non-goals for this lesson:\n",
    "    - use with, yield or pipes"
   ]
  },
  {
   "cell_type": "markdown",
   "metadata": {},
   "source": [
    "## Modules"
   ]
  },
  {
   "cell_type": "code",
   "execution_count": 1,
   "metadata": {
    "collapsed": true
   },
   "outputs": [],
   "source": [
    "import psutil\n",
    "import glob\n",
    "import sys\n",
    "import subprocess\n"
   ]
  },
  {
   "cell_type": "code",
   "execution_count": 57,
   "metadata": {
    "collapsed": true
   },
   "outputs": [],
   "source": [
    "#\n",
    "# Our code is p3-ready\n",
    "#\n",
    "from __future__ import print_function, unicode_literals"
   ]
  },
  {
   "cell_type": "code",
   "execution_count": 3,
   "metadata": {
    "collapsed": false
   },
   "outputs": [
    {
     "data": {
      "text/plain": [
       "['127.0.0.1\\tlocalhost\\n', '::1\\tlocalhost ip6-localhost ip6-loopback\\n']"
      ]
     },
     "execution_count": 3,
     "metadata": {},
     "output_type": "execute_result"
    }
   ],
   "source": [
    "def grep(needle, fpath):\n",
    "    \"\"\"A simple grep implementation\n",
    "\n",
    "       goal: open() is iterable and doesn't\n",
    "             need splitlines()\n",
    "       goal: comprehension can filter lists\n",
    "    \"\"\"\n",
    "    return [x for x in open(fpath) if needle in x]\n",
    "\n",
    "# Do we have localhost?\n",
    "grep(\"localhost\", \"/etc/hosts\")"
   ]
  },
  {
   "cell_type": "code",
   "execution_count": 5,
   "metadata": {
    "collapsed": false
   },
   "outputs": [
    {
     "data": {
      "text/plain": [
       "17.7"
      ]
     },
     "execution_count": 5,
     "metadata": {},
     "output_type": "execute_result"
    }
   ],
   "source": [
    "#The psutil module is very nice\n",
    "import psutil\n",
    "\n",
    "#Works on Windows, Linux and MacOS\n",
    "psutil.cpu_percent() "
   ]
  },
  {
   "cell_type": "code",
   "execution_count": 9,
   "metadata": {
    "collapsed": false
   },
   "outputs": [
    {
     "name": "stdout",
     "output_type": "stream",
     "text": [
      "sdiskio(read_count=330969, write_count=222903, read_bytes=5484097536, write_bytes=2939428352, read_time=1637475, write_time=5610046, read_merged_count=9083, write_merged_count=20134, busy_time=712743)\n"
     ]
    }
   ],
   "source": [
    "#And its output is very easy to manage\n",
    "ret = psutil.disk_io_counters()\n",
    "print(ret)"
   ]
  },
  {
   "cell_type": "code",
   "execution_count": 4,
   "metadata": {
    "collapsed": true
   },
   "outputs": [],
   "source": [
    "# Exercise: Which other informations \n",
    "# does psutil provide? \n",
    "# Use this cell and the tab-completion jupyter functionalities."
   ]
  },
  {
   "cell_type": "code",
   "execution_count": 10,
   "metadata": {
    "collapsed": false
   },
   "outputs": [
    {
     "ename": "NotImplementedError",
     "evalue": "",
     "output_type": "error",
     "traceback": [
      "\u001b[1;31m---------------------------------------------------------------------------\u001b[0m",
      "\u001b[1;31mNotImplementedError\u001b[0m                       Traceback (most recent call last)",
      "\u001b[1;32m<ipython-input-10-b5c45c138f79>\u001b[0m in \u001b[0;36m<module>\u001b[1;34m()\u001b[0m\n\u001b[0;32m     11\u001b[0m         \u001b[1;32mprint\u001b[0m\u001b[1;33m(\u001b[0m\u001b[0mcpu_usage\u001b[0m\u001b[1;33m,\u001b[0m \u001b[0mbytes_rw\u001b[0m\u001b[1;33m)\u001b[0m\u001b[1;33m\u001b[0m\u001b[0m\n\u001b[0;32m     12\u001b[0m \u001b[1;33m\u001b[0m\u001b[0m\n\u001b[1;32m---> 13\u001b[1;33m \u001b[0mmultiplatform_vmstat\u001b[0m\u001b[1;33m(\u001b[0m\u001b[1;36m5\u001b[0m\u001b[1;33m)\u001b[0m\u001b[1;33m\u001b[0m\u001b[0m\n\u001b[0m",
      "\u001b[1;32m<ipython-input-10-b5c45c138f79>\u001b[0m in \u001b[0;36mmultiplatform_vmstat\u001b[1;34m(count)\u001b[0m\n\u001b[0;32m      8\u001b[0m     \u001b[1;31m#       using %edit vmstat.py\u001b[0m\u001b[1;33m\u001b[0m\u001b[1;33m\u001b[0m\u001b[0m\n\u001b[0;32m      9\u001b[0m     \u001b[1;32mfor\u001b[0m \u001b[0mi\u001b[0m \u001b[1;32min\u001b[0m \u001b[0mxrange\u001b[0m\u001b[1;33m(\u001b[0m\u001b[0mcount\u001b[0m\u001b[1;33m)\u001b[0m\u001b[1;33m:\u001b[0m\u001b[1;33m\u001b[0m\u001b[0m\n\u001b[1;32m---> 10\u001b[1;33m         \u001b[1;32mraise\u001b[0m \u001b[0mNotImplementedError\u001b[0m\u001b[1;33m\u001b[0m\u001b[0m\n\u001b[0m\u001b[0;32m     11\u001b[0m         \u001b[1;32mprint\u001b[0m\u001b[1;33m(\u001b[0m\u001b[0mcpu_usage\u001b[0m\u001b[1;33m,\u001b[0m \u001b[0mbytes_rw\u001b[0m\u001b[1;33m)\u001b[0m\u001b[1;33m\u001b[0m\u001b[0m\n\u001b[0;32m     12\u001b[0m \u001b[1;33m\u001b[0m\u001b[0m\n",
      "\u001b[1;31mNotImplementedError\u001b[0m: "
     ]
    }
   ],
   "source": [
    "# Exercise\n",
    "def multiplatform_vmstat(count):\n",
    "    # Write a vmstat-like function printing every second:\n",
    "    # - cpu usage%\n",
    "    # - bytes read and written in the given interval\n",
    "    # Hint: use psutil and time.sleep(1)\n",
    "    # Hint: use this cell or try on ipython and *then* write the function\n",
    "    #       using %edit vmstat.py\n",
    "    for i in range(count):\n",
    "        raise NotImplementedError\n",
    "        print(cpu_usage, bytes_rw)\n",
    "\n",
    "multiplatform_vmstat(5)"
   ]
  },
  {
   "cell_type": "code",
   "execution_count": 15,
   "metadata": {
    "collapsed": false
   },
   "outputs": [],
   "source": [
    "%load course/multiplatform_vmstat.py"
   ]
  },
  {
   "cell_type": "code",
   "execution_count": 16,
   "metadata": {
    "collapsed": false
   },
   "outputs": [
    {
     "name": "stdout",
     "output_type": "stream",
     "text": [
      "cpu%\tiops(r+w)\n",
      "12.0\t557884\n",
      "13.8\t164\n",
      "9.0\t54\n",
      "8.3\t6\n",
      "7.8\t4\n",
      "10.8\t0\n"
     ]
    }
   ],
   "source": [
    "# Run your vmstat implementation.\n",
    "\n",
    "multiplatform_vmstat(5)"
   ]
  },
  {
   "cell_type": "code",
   "execution_count": 12,
   "metadata": {
    "collapsed": false
   },
   "outputs": [
    {
     "name": "stdout",
     "output_type": "stream",
     "text": [
      "PING www.google.com (172.217.19.68): 56 data bytes\n",
      "64 bytes from 172.217.19.68: icmp_seq=0 ttl=52 time=16.963 ms\n",
      "--- www.google.com ping statistics ---\n",
      "1 packets transmitted, 1 packets received, 0% packet loss\n",
      "round-trip min/avg/max/stddev = 16.963/16.963/16.963/0.000 ms\n",
      "\n"
     ]
    }
   ],
   "source": [
    "#\n",
    "# subprocess\n",
    "#\n",
    "# The check_output function returns the command stdout\n",
    "from subprocess import check_output\n",
    "\n",
    "# It takes a *list* as an argument!\n",
    "out = check_output(\"ping -w1  -c1 www.google.com\".split())\n",
    "\n",
    "# and returns a string\n",
    "print(out)"
   ]
  },
  {
   "cell_type": "code",
   "execution_count": null,
   "metadata": {
    "collapsed": true
   },
   "outputs": [],
   "source": [
    "# If you want to stream command output, use subprocess.Popen\n",
    "#  and check carefully subprocess documentation!"
   ]
  },
  {
   "cell_type": "code",
   "execution_count": 13,
   "metadata": {
    "collapsed": true
   },
   "outputs": [],
   "source": [
    "def sh(cmd, shell=False, timeout=0):\n",
    "    \"\"\"\"Returns an iterable output of a command string\n",
    "        checking...\n",
    "    \"\"\"\n",
    "    from sys import version_info as python_version\n",
    "    if python_version < (3, 3): # ..before using..\n",
    "        if timeout:\n",
    "            raise ValueError(\"Timeout not supported until Python 3.3\")\n",
    "        output = check_output(cmd.split(), shell=shell)\n",
    "    else:\n",
    "        output = check_output(cmd.split(), shell=shell, timeout=timeout)\n",
    "    return output.splitlines()"
   ]
  },
  {
   "cell_type": "code",
   "execution_count": null,
   "metadata": {
    "collapsed": true
   },
   "outputs": [],
   "source": []
  },
  {
   "cell_type": "code",
   "execution_count": 14,
   "metadata": {
    "collapsed": true
   },
   "outputs": [],
   "source": [
    "# Exercise:\n",
    "# implement a multiplatform pgrep-like function.\n",
    "def ppgrep(program):\n",
    "    \"\"\"\n",
    "    A multiplatform pgrep-like function.\n",
    "    Prints a list of processes executing 'program'\n",
    "    @param program - eg firefox, explorer.exe\n",
    "    \n",
    "    Hint: use subprocess, os and list-comprehension\n",
    "    eg. items = [x for x in a_list if 'firefox' in x] \n",
    "    \"\"\"\n",
    "    raise NotImplementedError"
   ]
  },
  {
   "cell_type": "code",
   "execution_count": null,
   "metadata": {
    "collapsed": true
   },
   "outputs": [],
   "source": [
    "# Solution\n",
    "%load course/pgrep.py\n"
   ]
  },
  {
   "cell_type": "markdown",
   "metadata": {},
   "source": [
    "## Parsing /proc\n",
    "\n",
    "Linux /proc filesystem is a cool place to get data\n",
    "\n",
    "In the next example we'll see how to get:\n",
    " - thread informations;\n",
    " - disk statistics;\n",
    " \n",
    " "
   ]
  },
  {
   "cell_type": "code",
   "execution_count": 16,
   "metadata": {
    "collapsed": true
   },
   "outputs": [],
   "source": [
    "# Parsing /proc - 1\n",
    "def linux_threads(pid):\n",
    "    \"\"\"Retrieving data from /proc\n",
    "    \"\"\"\n",
    "    from glob import glob\n",
    "    # glob emulates shell expansion of * and ?\n",
    "    path = \"/proc/{}/task/*/status\".format(pid)\n",
    "    \n",
    "         \n",
    "    # pick a set of fields to gather\n",
    "    t_info = ('Pid', 'Tgid', 'voluntary')  # this is a tuple!\n",
    "    for t in glob(path):\n",
    "        # ... and use comprehension to get \n",
    "        # intersting data.\n",
    "        t_info = [x \n",
    "                  for x in open(t) \n",
    "                  if x.startswith(t_info)] # startswith accepts tuples!\n",
    "        print(t_info)"
   ]
  },
  {
   "cell_type": "code",
   "execution_count": 17,
   "metadata": {
    "collapsed": false
   },
   "outputs": [
    {
     "name": "stdout",
     "output_type": "stream",
     "text": [
      "['Tgid:\\t1\\n', 'Pid:\\t1\\n', 'voluntary_ctxt_switches:\\t446\\n']\n"
     ]
    }
   ],
   "source": [
    "# If you're on linux try linux_threads\n",
    "pid_of_init = 1 # or systemd ?\n",
    "linux_threads(pid_of_init)"
   ]
  },
  {
   "cell_type": "code",
   "execution_count": 18,
   "metadata": {
    "collapsed": false
   },
   "outputs": [
    {
     "name": "stdout",
     "output_type": "stream",
     "text": [
      "   8       0 sda 216382 11369 8765248 1773709 242383 61222 19926032 6871893 0 783857 8646230\n",
      "   8       1 sda1 122 0 1856 2097 0 0 0 0 0 2095 2097\n",
      "   8       2 sda2 54 0 1312 504 0 0 0 0 0 485 504\n",
      "   8       3 sda3 116 0 1808 1539 0 0 0 0 0 1506 1539\n",
      "   8       4 sda4 118 0 1824 498 0 0 0 0 0 471 498\n",
      "   8       5 sda5 267 206 2161 2898 0 0 0 0 0 2441 2898\n",
      "   8       6 sda6 120 0 1840 979 0 0 0 0 0 958 979\n",
      "   8       7 sda7 228 1 4442 6227 13 1 112 636 0 5525 6862\n",
      "   8       8 sda8 212805 9791 8716589 1744819 207751 35245 19690304 6654285 0 619100 8399593\n",
      "   8       9 sda9 2418 1371 31440 13085 3475 25976 235616 19476 0 27651 32554\n",
      "\n",
      "[(u'major', '8'), (u'minor', '0'), (u'device', 'sda'), (u'reads', '216382'), (u'reads_merged', '11369'), (u'reads_sectors', '8765248'), (u'reads_ms', '1773709'), (u'writes', '242383'), (u'writes_merged', '61222'), (u'writes_sectors', '19926032'), (u'writes_ms', '6871893'), (u'io_in_progress', '0'), (u'io_ms_spent', '783857'), (u'io_ms_weight', '8646230')]\n"
     ]
    }
   ],
   "source": [
    "# On linux /proc/diskstats is the source of I/O infos\n",
    "disk_l = grep(\"sda\", \"/proc/diskstats\")\n",
    "print(''.join(disk_l))\n",
    "\n",
    "# To gather that data we put the header in a multiline string\n",
    "from course import diskstats_headers as headers\n",
    "\n",
    "#Take the 1st entry (sda), split the data...\n",
    "disk_info = disk_l[0].split()\n",
    "# ... and tie them with the header\n",
    "ret = zip(headers, disk_info)\n",
    "\n",
    "# On py3 we need to iterate over the generators\n",
    "print(list(ret))"
   ]
  },
  {
   "cell_type": "code",
   "execution_count": 19,
   "metadata": {
    "collapsed": false
   },
   "outputs": [
    {
     "name": "stdout",
     "output_type": "stream",
     "text": [
      "(u'major', '8')\n",
      "(u'minor', '0')\n",
      "(u'device', 'sda')\n",
      "(u'reads', '216382')\n",
      "(u'reads_merged', '11369')\n",
      "(u'reads_sectors', '8765248')\n",
      "(u'reads_ms', '1773709')\n",
      "(u'writes', '242383')\n",
      "(u'writes_merged', '61222')\n",
      "(u'writes_sectors', '19926032')\n",
      "(u'writes_ms', '6871893')\n",
      "(u'io_in_progress', '0')\n",
      "(u'io_ms_spent', '783857')\n",
      "(u'io_ms_weight', '8646230')\n"
     ]
    }
   ],
   "source": [
    "# Try to mangle ret\n",
    "print('\\n'.join(str(x) for x in ret))"
   ]
  },
  {
   "cell_type": "code",
   "execution_count": 20,
   "metadata": {
    "collapsed": false
   },
   "outputs": [
    {
     "name": "stdout",
     "output_type": "stream",
     "text": [
      "sda 6871893\n"
     ]
    }
   ],
   "source": [
    "# We can create a reusable commodity class with\n",
    "from collections import namedtuple\n",
    "\n",
    "# using the imported `headers` as attributes\n",
    "# like the one provided by psutil\n",
    "DiskStats = namedtuple('DiskStat', headers)\n",
    "\n",
    "# ... and disk_info as values\n",
    "dstat = DiskStats(*disk_info)\n",
    "print(dstat.device, dstat.writes_ms)\n",
    "\n",
    "# Homework: check further features with\n",
    "# help(collections)"
   ]
  },
  {
   "cell_type": "code",
   "execution_count": 21,
   "metadata": {
    "collapsed": true
   },
   "outputs": [],
   "source": [
    "# Exercise\n",
    "# Write the following function \n",
    "def linux_diskstats(partition):\n",
    "    \"\"\"Print every second I/O information from /proc/diskstats\n",
    "    \n",
    "        @param: partition - eg sda1 or vdx1\n",
    "        \n",
    "        Hint: use the above `grep` function\n",
    "        Hint: use zip, time.sleep, print() and *magic\n",
    "    \"\"\"\n",
    "    diskstats_headers = ('reads reads_merged reads_sectors reads_ms'\n",
    "            ' writes writes_merged writes_sectors writes_ms'\n",
    "            ' io_in_progress io_ms_weight').split()\n",
    "    \n",
    "    while True:\n",
    "        raise NotImplementedError\n",
    "        print(values, sep=\"\\t\")"
   ]
  },
  {
   "cell_type": "code",
   "execution_count": null,
   "metadata": {
    "collapsed": true
   },
   "outputs": [],
   "source": [
    "# Solution\n",
    "%load course/linux_diskstats.py"
   ]
  },
  {
   "cell_type": "code",
   "execution_count": 24,
   "metadata": {
    "collapsed": false
   },
   "outputs": [
    {
     "ename": "TypeError",
     "evalue": "makedirs() got an unexpected keyword argument 'exist_ok'",
     "output_type": "error",
     "traceback": [
      "\u001b[1;31m---------------------------------------------------------------------------\u001b[0m",
      "\u001b[1;31mTypeError\u001b[0m                                 Traceback (most recent call last)",
      "\u001b[1;32m<ipython-input-24-ab46675ab78d>\u001b[0m in \u001b[0;36m<module>\u001b[1;34m()\u001b[0m\n\u001b[0;32m      1\u001b[0m \u001b[1;31m# Using check_output with split() doesn't always work\u001b[0m\u001b[1;33m\u001b[0m\u001b[1;33m\u001b[0m\u001b[0m\n\u001b[0;32m      2\u001b[0m \u001b[1;32mfrom\u001b[0m \u001b[0mos\u001b[0m \u001b[1;32mimport\u001b[0m \u001b[0mmakedirs\u001b[0m\u001b[1;33m\u001b[0m\u001b[0m\n\u001b[1;32m----> 3\u001b[1;33m \u001b[0mmakedirs\u001b[0m\u001b[1;33m(\u001b[0m\u001b[1;34m'/tmp/course/b l a n k s'\u001b[0m\u001b[1;33m,\u001b[0m \u001b[0mexist_ok\u001b[0m\u001b[1;33m=\u001b[0m\u001b[0mTrue\u001b[0m\u001b[1;33m)\u001b[0m\u001b[1;33m\u001b[0m\u001b[0m\n\u001b[0m\u001b[0;32m      4\u001b[0m \u001b[1;33m\u001b[0m\u001b[0m\n\u001b[0;32m      5\u001b[0m \u001b[0mcheck_output\u001b[0m\u001b[1;33m(\u001b[0m\u001b[1;34m'ls \"/tmp/course/b l a n k s\"'\u001b[0m\u001b[1;33m.\u001b[0m\u001b[0msplit\u001b[0m\u001b[1;33m(\u001b[0m\u001b[1;33m)\u001b[0m\u001b[1;33m)\u001b[0m\u001b[1;33m\u001b[0m\u001b[0m\n",
      "\u001b[1;31mTypeError\u001b[0m: makedirs() got an unexpected keyword argument 'exist_ok'"
     ]
    }
   ],
   "source": [
    "# Using check_output with split() doesn't always work\n",
    "from os import makedirs\n",
    "makedirs('/tmp/course/b l a n k s', exist_ok=True)\n",
    "\n",
    "check_output('ls \"/tmp/course/b l a n k s\"'.split())"
   ]
  },
  {
   "cell_type": "code",
   "execution_count": 30,
   "metadata": {
    "collapsed": false
   },
   "outputs": [
    {
     "data": {
      "text/plain": [
       "'.  ..\\n'"
      ]
     },
     "execution_count": 30,
     "metadata": {},
     "output_type": "execute_result"
    }
   ],
   "source": [
    "# You can use\n",
    "from shlex import split\n",
    "# and\n",
    "cmd = split('dir -a \"/tmp/course/b l a n k s\"')\n",
    "check_output(cmd)"
   ]
  },
  {
   "cell_type": "code",
   "execution_count": 1,
   "metadata": {
    "collapsed": false
   },
   "outputs": [
    {
     "ename": "ImportError",
     "evalue": "No module named pandas",
     "output_type": "error",
     "traceback": [
      "\u001b[1;31m---------------------------------------------------------------------------\u001b[0m",
      "\u001b[1;31mImportError\u001b[0m                               Traceback (most recent call last)",
      "\u001b[1;32m<ipython-input-1-53c075b67ebb>\u001b[0m in \u001b[0;36m<module>\u001b[1;34m()\u001b[0m\n\u001b[0;32m      1\u001b[0m \u001b[1;31m# Pandas 101\u001b[0m\u001b[1;33m\u001b[0m\u001b[1;33m\u001b[0m\u001b[0m\n\u001b[1;32m----> 2\u001b[1;33m \u001b[1;32mimport\u001b[0m \u001b[0mpandas\u001b[0m \u001b[1;32mas\u001b[0m \u001b[0mpd\u001b[0m\u001b[1;33m\u001b[0m\u001b[0m\n\u001b[0m",
      "\u001b[1;31mImportError\u001b[0m: No module named pandas"
     ]
    }
   ],
   "source": [
    "# Pandas 101\n",
    "import pandas as pd"
   ]
  },
  {
   "cell_type": "markdown",
   "metadata": {},
   "source": [
    "## zip on py3 is a generator \n"
   ]
  },
  {
   "cell_type": "code",
   "execution_count": 32,
   "metadata": {
    "collapsed": false
   },
   "outputs": [
    {
     "name": "stdout",
     "output_type": "stream",
     "text": [
      "[(0, u'a'), (1, u'b'), (2, u'c'), (3, u'd')]\n"
     ]
    }
   ],
   "source": [
    "# zip_iterables():\n",
    "\"\"\"The zip method joins list elements pairwise\n",
    "    like a zip fastener\n",
    "\"\"\"\n",
    "from sys import version_info as python_version\n",
    "a_list = [0, 1, 2, 3]\n",
    "b_list = [\"a\", \"b\", \"c\", \"d\"]\n",
    "zipper = zip(a_list, b_list)\n",
    "print(zipper)"
   ]
  },
  {
   "cell_type": "code",
   "execution_count": 33,
   "metadata": {
    "collapsed": true
   },
   "outputs": [],
   "source": [
    "if python_version >= (3,):\n",
    "    zipper = list(zipper)\n",
    "assert zipper == [(0, \"a\"), (1, \"b\"), (2, \"c\"), (3, \"d\")]"
   ]
  }
 ],
 "metadata": {
  "kernelspec": {
   "display_name": "Python 2",
   "language": "python",
   "name": "python2"
  },
  "language_info": {
   "codemirror_mode": {
    "name": "ipython",
    "version": 2
   },
   "file_extension": ".py",
   "mimetype": "text/x-python",
   "name": "python",
   "nbconvert_exporter": "python",
   "pygments_lexer": "ipython2",
   "version": "2.7.11"
  }
 },
 "nbformat": 4,
 "nbformat_minor": 0
}
