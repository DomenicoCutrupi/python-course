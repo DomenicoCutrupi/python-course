{
 "cells": [
  {
   "cell_type": "markdown",
   "metadata": {},
   "source": [
    "# Parsing\n",
    "\n",
    "Goals:\n",
    "\n",
    "    - Plan a parsing strategy\n",
    "    - Use basic regular expressions: match, search, sub\n",
    "    - Benchmarking a parser\n",
    "    - Running nosetests\n",
    "    - Write a simple parser\n",
    "    \n",
    "# Modules:\n",
    "\n",
    "\n"
   ]
  },
  {
   "cell_type": "code",
   "execution_count": 2,
   "metadata": {
    "collapsed": true
   },
   "outputs": [],
   "source": [
    "import re\n",
    "import nose\n",
    "# %timeit"
   ]
  },
  {
   "cell_type": "markdown",
   "metadata": {},
   "source": [
    "# Parsing is hard...\n",
    "\n",
    "<h2>\n",
    "<i>\"System Administrators spent $24.3\\%$ of\n",
    " their work-life parsing files.\"</i>\n",
    " <br><br>\n",
    " \n",
    " Independent analysis by The GASP* Society ;) <br>\n",
    " </h2>\n",
    "<h3>\n",
    " *(Grep Awk Sed Perl)\n",
    " </h3>"
   ]
  },
  {
   "cell_type": "markdown",
   "metadata": {},
   "source": [
    "# ... use a strategy!\n",
    "\n",
    "<table>\n",
    "<tr><td>\n",
    "<ol><li>Collect parsing samples\n",
    "<li>Play in ipython and collect %history\n",
    "<li>Write tests, then the parser\n",
    "<li>Eventually benchmark\n",
    "</ol>\n",
    "</td><td>\n",
    "<img src=\"/files/img/parsing-lifecycle.png\" />\n",
    "</td></tr>\n",
    "</table>\n"
   ]
  },
  {
   "cell_type": "markdown",
   "metadata": {},
   "source": [
    "# Parsing postfix logs"
   ]
  },
  {
   "cell_type": "code",
   "execution_count": 3,
   "metadata": {
    "collapsed": false
   },
   "outputs": [
    {
     "name": "stdout",
     "output_type": "stream",
     "text": [
      "I'm goint to parse the following line\n",
      "\n",
      "May 31 08:00:00 test-fe1 postfix/smtp[16669]: 7CD8E730020: to=<jon@doe.it>, relay=examplemx2.doe.it[222.33.44.555]:25, delay=0.8, delays=0.17/0.01/0.43/0.19, dsn=2.0.0, status=sent(250 ok:  Message 2108406157 accepted)\n"
     ]
    }
   ],
   "source": [
    "from __future__ import print_function\n",
    "# Before writing the parser, collect samples of\n",
    "#  the interesting lines. For now just\n",
    "from course import mail_sent, mail_delivered\n",
    "\n",
    "print(\"I'm goint to parse the following line\", mail_sent, sep=\"\\n\\n\")"
   ]
  },
  {
   "cell_type": "code",
   "execution_count": 2,
   "metadata": {
    "collapsed": true
   },
   "outputs": [],
   "source": [
    "# and %edit a simple\n",
    "def test_sent():\n",
    "    hour, host, to = parse_line(mail_sent)\n",
    "    assert hour == '08:00:00'\n",
    "    assert to == 'jon@doe.it'"
   ]
  },
  {
   "cell_type": "code",
   "execution_count": 3,
   "metadata": {
    "collapsed": false
   },
   "outputs": [
    {
     "data": {
      "text/plain": [
       "[u'May',\n",
       " u'31',\n",
       " u'08:00:00',\n",
       " u'test-fe1',\n",
       " u'postfix/smtp[16669]:',\n",
       " u'7CD8E730020:',\n",
       " u'to=<jon@doe.it>,',\n",
       " u'relay=examplemx2.doe.it[222.33.44.555]:25,',\n",
       " u'delay=0.8,',\n",
       " u'delays=0.17/0.01/0.43/0.19,',\n",
       " u'dsn=2.0.0,',\n",
       " u'status=sent(250',\n",
       " u'ok:',\n",
       " u'Message',\n",
       " u'2108406157',\n",
       " u'accepted)']"
      ]
     },
     "execution_count": 3,
     "metadata": {},
     "output_type": "execute_result"
    }
   ],
   "source": [
    "# Play with mail_sent and start using basic strings in ipython\n",
    "mail_sent.split()"
   ]
  },
  {
   "cell_type": "code",
   "execution_count": 4,
   "metadata": {
    "collapsed": false
   },
   "outputs": [
    {
     "name": "stdout",
     "output_type": "stream",
     "text": [
      "(0, u'May')\n",
      "(1, u'31')\n",
      "(2, u'08:00:00')\n",
      "(3, u'test-fe1')\n",
      "(4, u'postfix/smtp[16669]:')\n",
      "(5, u'7CD8E730020:')\n",
      "(6, u'to=<jon@doe.it>,')\n",
      "(7, u'relay=examplemx2.doe.it[222.33.44.555]:25,')\n",
      "(8, u'delay=0.8,')\n",
      "(9, u'delays=0.17/0.01/0.43/0.19,')\n",
      "(10, u'dsn=2.0.0,')\n",
      "(11, u'status=sent(250')\n",
      "(12, u'ok:')\n",
      "(13, u'Message')\n",
      "(14, u'2108406157')\n",
      "(15, u'accepted)')\n"
     ]
    }
   ],
   "source": [
    "# You can number fields with zip. \n",
    "# Remember that ipython puts the last returned value in `_`\n",
    "# which is useful in interactive mode!\n",
    "fields, counting = _, zip(range(20), _)\n",
    "print(*counting, sep=\"\\n\")"
   ]
  },
  {
   "cell_type": "code",
   "execution_count": 5,
   "metadata": {
    "collapsed": true
   },
   "outputs": [],
   "source": [
    "# Now we can pick fields singularly...\n",
    "hour, host, dest = fields[2], fields[3], fields[6]"
   ]
  },
  {
   "cell_type": "code",
   "execution_count": 6,
   "metadata": {
    "collapsed": true
   },
   "outputs": [],
   "source": [
    "# ... or with \n",
    "from operator import itemgetter\n",
    "which_returns_a_function = itemgetter(2, 3, 6)\n",
    "assert (hour, host, dest) == which_returns_a_function(fields)"
   ]
  },
  {
   "cell_type": "markdown",
   "metadata": {},
   "source": [
    "## Exercise I\n",
    "    \n",
    "    - %edit 03_parsing_test.py\n",
    "    - complete the parse_line(line) function\n",
    "    - %paste your solution's code in iPython and run manually the test functions\n",
    "\n"
   ]
  },
  {
   "cell_type": "code",
   "execution_count": null,
   "metadata": {
    "collapsed": true
   },
   "outputs": [],
   "source": [
    "#\n",
    "# Use this cell for Exercise I\n",
    "#\n",
    "%load ../03_parsing_test.py"
   ]
  },
  {
   "cell_type": "code",
   "execution_count": null,
   "metadata": {
    "collapsed": true
   },
   "outputs": [],
   "source": [
    "#\n",
    "# Run test\n",
    "#\n",
    "test_sent()"
   ]
  },
  {
   "cell_type": "code",
   "execution_count": null,
   "metadata": {
    "collapsed": true
   },
   "outputs": [],
   "source": [
    "# Solution\n",
    "%load course/parse_line.py"
   ]
  },
  {
   "cell_type": "markdown",
   "metadata": {},
   "source": [
    "# Python Regexp\n"
   ]
  },
  {
   "cell_type": "code",
   "execution_count": 7,
   "metadata": {
    "collapsed": false
   },
   "outputs": [
    {
     "name": "stdout",
     "output_type": "stream",
     "text": [
      "127.0.0.1\tlocalhost\n",
      "\n"
     ]
    }
   ],
   "source": [
    "# Python supports regular expressions via\n",
    "import re\n",
    "\n",
    "# We start showing a grep-reloaded function\n",
    "def grep(expr, fpath):\n",
    "    one = re.compile(expr) # ...has two lookup methods...\n",
    "    assert ( one.match     # which searches from ^ the beginning\n",
    "         and one.search )  # that searches $\\pyver{anywhere}$\n",
    "\n",
    "    with open(fpath) as fp:\n",
    "        return [x for x in fp if one.search(x)]\n",
    "\n",
    "assert not grep(r'^localhost', '/etc/hosts')\n",
    "ret = grep('127.0.0.1', '/etc/hosts')\n",
    "assert ret, \"ret should not be empty\"\n",
    "print(*ret)"
   ]
  },
  {
   "cell_type": "markdown",
   "metadata": {},
   "source": [
    "### Achieve more complex splitting using regular expressions. "
   ]
  },
  {
   "cell_type": "code",
   "execution_count": 4,
   "metadata": {
    "collapsed": false
   },
   "outputs": [
    {
     "name": "stdout",
     "output_type": "stream",
     "text": [
      "['PING', 'www.google.it', '(216.58.210.195):', '56', 'data', 'bytes']\n",
      "['64', 'bytes', 'from', '216.58.210.195:', 'icmp_seq', '0', 'ttl', '50', 'time', '27.440', 'ms']\n",
      "['64', 'bytes', 'from', '216.58.210.195:', 'icmp_seq', '1', 'ttl', '50', 'time', '25.720', 'ms']\n",
      "['64', 'bytes', 'from', '216.58.210.195:', 'icmp_seq', '2', 'ttl', '50', 'time', '23.311', 'ms']\n",
      "['---', 'www.google.it', 'ping', 'statistics', '---']\n",
      "['3', 'packets', 'transmitted,', '3', 'packets', 'received,', '0%', 'packet', 'loss']\n",
      "['round-trip', 'min/avg/max/stddev', '', '', '23.311/25.490/27.440/1.693', 'ms']\n"
     ]
    }
   ],
   "source": [
    "from re import split # is a very nice function\n",
    "import sys\n",
    "from course import sh\n",
    "\n",
    "# Let's gather some ping stats\n",
    "if sys.platform.startswith('win'):\n",
    "    cmd = \"ping -n3 www.google.it\"\n",
    "else:\n",
    "    cmd = \"ping -c3 -w3 www.google.it\"\n",
    "\n",
    "# Split for both space and =\n",
    "ping_output = [split(\"[ =]\", x) for x in sh(cmd)]\n",
    "\n",
    "print(*ping_output, sep=\"\\n\")"
   ]
  },
  {
   "cell_type": "code",
   "execution_count": 5,
   "metadata": {
    "collapsed": false
   },
   "outputs": [
    {
     "name": "stdout",
     "output_type": "stream",
     "text": [
      "The mac address is  00:24:e8:b4:33:20\n"
     ]
    }
   ],
   "source": [
    "# Splitting with re.findall\n",
    "\n",
    "from re import findall  # can be misused too;\n",
    "\n",
    "# eg for adding the \":\" to a\n",
    "mac = \"00\"\"24\"\"e8\"\"b4\"\"33\"\"20\"\n",
    "\n",
    "# ...using this\n",
    "re_hex = \"[0-9a-fA-F]{2}\"\n",
    "mac_address = ':'.join(findall(re_hex, mac))\n",
    "print(\"The mac address is \", mac_address)\n",
    "\n",
    "# Actually this does a bit of validation, requiring all chars to be in the 0-F range"
   ]
  },
  {
   "cell_type": "markdown",
   "metadata": {},
   "source": [
    "# Benchmarking in iPython - I\n",
    "\n",
    "  - Parsing big files needs benchmarks. iPython %timeit magic is a good starting point\n",
    "  \n",
    "We are going to measure the execution time of various tasks, using different strategies like regexp, join and split. "
   ]
  },
  {
   "cell_type": "code",
   "execution_count": 6,
   "metadata": {
    "collapsed": false
   },
   "outputs": [
    {
     "name": "stdout",
     "output_type": "stream",
     "text": [
      "The slowest run took 26.84 times longer than the fastest. This could mean that an intermediate result is being cached.\n",
      "100000 loops, best of 3: 2.38 µs per loop\n",
      "The slowest run took 68.04 times longer than the fastest. This could mean that an intermediate result is being cached.\n",
      "100000 loops, best of 3: 2.51 µs per loop\n"
     ]
    }
   ],
   "source": [
    "# Run the following cell many times. \n",
    "# Do you always get the same results?\n",
    "test_all_regexps = (\"..\", \"[a-fA-F0-9]{2}\")\n",
    "for re_s in test_all_regexps:\n",
    "    %timeit ':'.join(findall(re_s, mac))"
   ]
  },
  {
   "cell_type": "code",
   "execution_count": 7,
   "metadata": {
    "collapsed": false
   },
   "outputs": [
    {
     "name": "stdout",
     "output_type": "stream",
     "text": [
      "The slowest run took 5.29 times longer than the fastest. This could mean that an intermediate result is being cached.\n",
      "100000 loops, best of 3: 1.71 µs per loop\n",
      "1000000 loops, best of 3: 1.81 µs per loop\n"
     ]
    }
   ],
   "source": [
    "# We can even compare compiled vs inline regexp\n",
    "import re\n",
    "from time import sleep\n",
    "for re_s in test_all_regexps:\n",
    "    re_c = re.compile(re_s)\n",
    "    %timeit ':'.join(re_c.findall(mac))"
   ]
  },
  {
   "cell_type": "code",
   "execution_count": 8,
   "metadata": {
    "collapsed": false
   },
   "outputs": [
    {
     "name": "stdout",
     "output_type": "stream",
     "text": [
      "The slowest run took 23.20 times longer than the fastest. This could mean that an intermediate result is being cached.\n",
      "100000 loops, best of 3: 10.4 µs per loop\n"
     ]
    }
   ],
   "source": [
    "# Or find other methods:\n",
    "\n",
    "# complex...\n",
    "from re import sub as sed\n",
    "%timeit sed(r'(..)', r'\\1:', mac)"
   ]
  },
  {
   "cell_type": "code",
   "execution_count": 9,
   "metadata": {
    "collapsed": false
   },
   "outputs": [
    {
     "name": "stdout",
     "output_type": "stream",
     "text": [
      "The slowest run took 13.83 times longer than the fastest. This could mean that an intermediate result is being cached.\n",
      "1000000 loops, best of 3: 1.24 µs per loop\n"
     ]
    }
   ],
   "source": [
    "# ...or simple\n",
    "%timeit ':'.join([mac[i:i+2] for i in range(0,12,2)])\n",
    "#Outside iPython check the timeit module\n",
    "\n",
    "# Execise: which is the fastest method? Why?"
   ]
  },
  {
   "cell_type": "markdown",
   "metadata": {},
   "source": [
    "## Example: generating vsan configuration snippets"
   ]
  },
  {
   "cell_type": "code",
   "execution_count": 18,
   "metadata": {
    "collapsed": true
   },
   "outputs": [],
   "source": [
    "# Don't need to type this VSAN configuration script\n",
    "#  which uses linux FC information from /sys filesystem\n",
    "from glob import glob\n",
    "fc_id_path = \"/sys/class/fc_host/host*/port_name\"\n",
    "for x in glob(fc_id_path):\n",
    "    # ...we boldly skip an explicit close()\n",
    "    pwwn = open(x).read()  # 0x500143802427e66c\n",
    "    pwwn = pwwn[2:]\n",
    "    # ...and even use the slower but readable\n",
    "    pwwn = re.findall(r'..', pwwn)\n",
    "    print(\"member pwwn \", ':'.join(pwwn))"
   ]
  },
  {
   "cell_type": "code",
   "execution_count": null,
   "metadata": {
    "collapsed": true
   },
   "outputs": [],
   "source": []
  },
  {
   "cell_type": "markdown",
   "metadata": {},
   "source": [
    "# Parsing: Exercise II\n",
    "\n",
    "Now another test for the delivered messages\n",
    "    - %edit 03_parsing_test.py\n",
    "    - %paste to iPython and run test_delivered()\n",
    "    - fix parse_line to work with both tests and save\n"
   ]
  },
  {
   "cell_type": "code",
   "execution_count": null,
   "metadata": {
    "collapsed": true
   },
   "outputs": [],
   "source": [
    "#\n",
    "# Use this cell for Exercise II\n",
    "#\n",
    "test_delivered()"
   ]
  }
 ],
 "metadata": {
  "kernelspec": {
   "display_name": "Python 2",
   "language": "python",
   "name": "python2"
  },
  "language_info": {
   "codemirror_mode": {
    "name": "ipython",
    "version": 2
   },
   "file_extension": ".py",
   "mimetype": "text/x-python",
   "name": "python",
   "nbconvert_exporter": "python",
   "pygments_lexer": "ipython2",
   "version": "2.7.11"
  }
 },
 "nbformat": 4,
 "nbformat_minor": 0
}
