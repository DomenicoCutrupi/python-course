{
 "cells": [
  {
   "cell_type": "markdown",
   "metadata": {},
   "source": [
    "# Simple Processing\n",
    "\n",
    "## Goals:\n",
    "\n",
    "  - Handle gathered data with dict() and zip()\n",
    "  -  Find data relation with scipy\n",
    "  - Get essential information like standard deviation $\\sigma$ and distributions $\\delta$\n",
    "  - Linear correlation: what's that, when can help\n",
    "  - Plotting\n",
    "\n",
    "## modules:\n",
    "  - numpy, scipy, scipy.stats.stats, collections, random, time\n",
    "\n",
    "\n"
   ]
  },
  {
   "cell_type": "code",
   "execution_count": 136,
   "metadata": {
    "collapsed": true
   },
   "outputs": [],
   "source": [
    "# numpy, scipy, scipy.stats.stats, collections, random, time\n",
    "from collections import Counter, defaultdict\n",
    "from itertools import chain, combinations\n",
    "from time import localtime\n",
    "import json\n",
    "\n",
    "from scipy import std, mean\n",
    "from scipy.stats.stats import pearsonr\n",
    "from matplotlib import pyplot as plt\n",
    "\n"
   ]
  },
  {
   "cell_type": "code",
   "execution_count": 1,
   "metadata": {
    "collapsed": false
   },
   "outputs": [
    {
     "name": "stderr",
     "output_type": "stream",
     "text": [
      "/usr/local/lib/python2.7/site-packages/matplotlib/font_manager.py:273: UserWarning: Matplotlib is building the font cache using fc-list. This may take a moment.\n",
      "  warnings.warn('Matplotlib is building the font cache using fc-list. This may take a moment.')\n"
     ]
    },
    {
     "name": "stdout",
     "output_type": "stream",
     "text": [
      "Using matplotlib backend: agg\n",
      "Populating the interactive namespace from numpy and matplotlib\n"
     ]
    }
   ],
   "source": [
    "# This lesson requires the following modules\n",
    "from __future__ import unicode_literals, print_function, division\n",
    "\n",
    "# And %pylab features\n",
    "%pylab\n",
    "\n",
    "# Show plots into browser\n",
    "%matplotlib inline"
   ]
  },
  {
   "cell_type": "markdown",
   "metadata": {},
   "source": [
    "## The Chicken Paradox\n",
    "\n",
    "*\"According to latest statistics,  \n",
    "it appears that you eat one chicken per year:  \n",
    "and, if that doesn't fit your budget,  \n",
    "you'll fit into statistic anyway,  \n",
    "because someone will eat two.\"*\n",
    "\n",
    " C. A. Salustri  (1871 – 1950)\n"
   ]
  },
  {
   "cell_type": "markdown",
   "metadata": {},
   "source": [
    "# How to dismantle the Chicken Paradox (Exercise)\n",
    "\n",
    " - Gather data!\n",
    " - Write the following function using our parsing strategy and   \n",
    "  - Gather 10 seconds of ping output\n",
    "  - Hints: reuse sh function \n",
    "  - Hints: slice and filter lists using comprehension\n",
    "\n",
    "\n",
    "\n",
    "\n",
    "\n"
   ]
  },
  {
   "cell_type": "code",
   "execution_count": 39,
   "metadata": {
    "collapsed": false
   },
   "outputs": [
    {
     "name": "stdout",
     "output_type": "stream",
     "text": [
      "PING www.google.it (216.58.210.227): 56 data bytes\n",
      "64 bytes from 216.58.210.227: icmp_seq=0 ttl=50 time=23.787 ms\n",
      "64 bytes from 216.58.210.227: icmp_seq=1 ttl=50 time=23.506 ms\n",
      "64 bytes from 216.58.210.227: icmp_seq=2 ttl=50 time=23.696 ms\n",
      "--- www.google.it ping statistics ---\n",
      "3 packets transmitted, 3 packets received, 0% packet loss\n",
      "round-trip min/avg/max/stddev = 23.506/23.663/23.787/0.117 ms\n"
     ]
    }
   ],
   "source": [
    "#\n",
    "# Exercise: use this frame for the exercise\n",
    "#\n",
    "def ping_rtt(seconds=10):\n",
    "    \"\"\"@return: a list of ping RTT\"\"\"\n",
    "    from course import sh\n",
    "    # get sample output\n",
    "    # find a solution in ipython\n",
    "    # test and paste the code\n",
    "    raise NotImplementedError\n",
    "\n",
    "!ping -c3 www.google.it || ping -n3 www.google.it"
   ]
  },
  {
   "cell_type": "code",
   "execution_count": 63,
   "metadata": {
    "collapsed": false
   },
   "outputs": [],
   "source": [
    "# %load course/ping_rtt.py\n",
    "__author__ = 'rpolli'\n",
    "\n",
    "\n",
    "def ping_rtt():\n",
    "    \"\"\"\n",
    "       goal: slicing data\n",
    "       goal: using zip to transpose data\n",
    "    \"\"\"\n",
    "    from course import sh\n",
    "    import sys\n",
    "    cmd = \"ping -c10 www.google.it\"\n",
    "    if 'win' in sys.platform:\n",
    "        cmd = \"ping -n10 www.google.it\"\n",
    "\n",
    "    ping_output = sh(cmd)\n",
    "    filter_lines = (x.split() for x in ping_output if 'time' in x)\n",
    "    if 'win' in sys.platform:\n",
    "        ping_output = [x[6::2] for x in filter_lines]\n",
    "    else:\n",
    "        ping_output = [x[-4:-1:2] for x in filter_lines]\n",
    "    ttl, rtt = zip(*ping_output)\n",
    "    return [float(x.split(\"=\")[1]) for x in rtt]\n",
    "\n"
   ]
  },
  {
   "cell_type": "code",
   "execution_count": 64,
   "metadata": {
    "collapsed": false
   },
   "outputs": [
    {
     "name": "stdout",
     "output_type": "stream",
     "text": [
      "23.87 23.532 23.633 23.568 23.918 23.459 23.304 23.6 23.637 24.122\n"
     ]
    }
   ],
   "source": [
    "rtt = ping_rtt()\n",
    "print(*rtt)"
   ]
  },
  {
   "cell_type": "markdown",
   "metadata": {},
   "source": [
    "# Distributions: set, defaultdict\n",
    "\n",
    "A distribution or $\\delta$ shows the frequency of events, like how many people ate $x$ chickens;\n"
   ]
  },
  {
   "cell_type": "code",
   "execution_count": 66,
   "metadata": {
    "collapsed": false
   },
   "outputs": [
    {
     "name": "stdout",
     "output_type": "stream",
     "text": [
      "Un-bucketed distribution: Counter({23.304: 1, 23.633: 1, 23.87: 1, 23.568: 1, 23.6: 1, 24.122: 1, 23.918: 1, 23.459: 1, 23.637: 1, 23.532: 1})\n"
     ]
    }
   ],
   "source": [
    "# We can generate a distribution using\n",
    "from collections import Counter\n",
    "distro = Counter(rtt)\n",
    "print(\"Un-bucketed distribution:\", distro)"
   ]
  },
  {
   "cell_type": "code",
   "execution_count": 67,
   "metadata": {
    "collapsed": false
   },
   "outputs": [
    {
     "name": "stdout",
     "output_type": "stream",
     "text": [
      "One second bucket distribution: Counter({23: 9, 24: 1})\n"
     ]
    }
   ],
   "source": [
    "# If we split data in 1-second buckets....\n",
    "distro = Counter(int(i) for i in rtt) \n",
    "print(\"One second bucket distribution:\",distro)"
   ]
  },
  {
   "cell_type": "markdown",
   "metadata": {},
   "source": [
    " Exercise: which is the behavior of defaultdict?"
   ]
  },
  {
   "cell_type": "code",
   "execution_count": 15,
   "metadata": {
    "collapsed": false
   },
   "outputs": [
    {
     "name": "stdout",
     "output_type": "stream",
     "text": [
      "defaultdict(<type 'int'>, {13.639: 1, 13.597: 1, 13.57: 1, 13.696: 1, 13.864: 1, 22.36: 1, 16.959: 1, 14.325: 1, 13.72: 1, 14.003: 1})\n"
     ]
    }
   ],
   "source": [
    "# defaultdict can be used to implement more complex behaviors.\n",
    "from collections import defaultdict\n",
    "distro = defaultdict(int)\n",
    "\n",
    "# This works even if rtt is a generator\n",
    "for x in rtt:\n",
    "    distro[x] += 1\n",
    "print(distro)"
   ]
  },
  {
   "cell_type": "code",
   "execution_count": 16,
   "metadata": {
    "collapsed": false
   },
   "outputs": [
    {
     "name": "stdout",
     "output_type": "stream",
     "text": [
      "{13.639: 1, 13.597: 1, 13.57: 1, 13.696: 1, 13.864: 1, 22.36: 1, 16.959: 1, 14.325: 1, 13.72: 1, 14.003: 1}\n"
     ]
    }
   ],
   "source": [
    "# or list.count if rtt is in-memory\n",
    "distro2 = {x: rtt.count(x) for x in set(rtt)}\n",
    "print(distro2)\n",
    "\n"
   ]
  },
  {
   "cell_type": "code",
   "execution_count": null,
   "metadata": {
    "collapsed": true
   },
   "outputs": [],
   "source": [
    "# Exercise: use this cell to benchmark those three approaches while increasing the size of rtt"
   ]
  },
  {
   "cell_type": "markdown",
   "metadata": {},
   "source": [
    "## Standard Deviation: scipy\n",
    "\n",
    " - Standard deviation or $\\sigma$ formula is\n",
    " \n",
    " $\\sigma^{2}(X) := \\frac{ \\sum(x-\\bar{x})^{2} }{n} $ \n",
    " \n",
    " - $\\sigma$ tells if $\\delta$ is fair or not, and how much the mean ($\\bar{x}$) is representative\n",
    " \n",
    " - matplotlib.mlab.normpdf is a smooth function approximating the histogram\n"
   ]
  },
  {
   "cell_type": "code",
   "execution_count": 8,
   "metadata": {
    "collapsed": true
   },
   "outputs": [],
   "source": [
    "from scipy import std, mean\n",
    "fair = [1, 1] # chickens\n",
    "unfair = [0, 2] # chickens\n",
    "\n",
    "# Same mean!\n",
    "assert mean(fair) == mean(unfair)"
   ]
  },
  {
   "cell_type": "code",
   "execution_count": 10,
   "metadata": {
    "collapsed": false
   },
   "outputs": [
    {
     "name": "stdout",
     "output_type": "stream",
     "text": [
      "is unfair? 0.0\n",
      "is unfair? 1.0\n"
     ]
    }
   ],
   "source": [
    "# Use standard deviation!\n",
    "print(\"is unfair?\", std(fair)) # 0\n",
    "print(\"is unfair?\", std(unfair)) # 1"
   ]
  },
  {
   "cell_type": "code",
   "execution_count": 68,
   "metadata": {
    "collapsed": false
   },
   "outputs": [
    {
     "name": "stdout",
     "output_type": "stream",
     "text": [
      "stdev: 1.4, mean: 24.409, min: 28.178, max: 23.061\n"
     ]
    }
   ],
   "source": [
    "#Check your computed values vs the $\\sigma$ returned by ping\n",
    "\"\"\"\n",
    "   goal: remember to convert to numeric / float\n",
    "   goal: use scipy\n",
    "   goal: check stdev\n",
    "\"\"\"\n",
    "from scipy import std, mean # max, min are builtin\n",
    "rtt = ping_rtt()\n",
    "\n",
    "fmt_s = 'stdev: {:0.2}, mean: {}, min: {}, max: {}'\n",
    "rtt_std, rtt_mean = std(rtt), mean(rtt)\n",
    "rtt_max, rtt_min = max(rtt), min(rtt)\n",
    "print(fmt_s.format(rtt_std, rtt_mean, rtt_max, rtt_min))"
   ]
  },
  {
   "cell_type": "markdown",
   "metadata": {},
   "source": [
    "## Time Distributions: Exercise\n",
    "\n",
    " - parse the provided data/maillog file in ipython using its !magic\n",
    " - get an hourly email $\\delta$\n",
    " - expected output:\n",
    " \n",
    "```\n",
    "time_d = { # mail delivered (eg. removed) between\n",
    "    0: xxx # 00:00 - 00:59\n",
    "    1: xxx # 01:00 - 01:59\n",
    "    ...\n",
    "```"
   ]
  },
  {
   "cell_type": "code",
   "execution_count": 17,
   "metadata": {
    "collapsed": false
   },
   "outputs": [
    {
     "name": "stdout",
     "output_type": "stream",
     "text": [
      "Nov 23 00:00:29 mta-1 postfix/qmgr[25881]: B0C1220587: from=<root>, size=3443, nrcpt=1 (queue active)\n",
      "Nov 23 00:00:29 mta-1 postfix/local[24649]: B0C1220587: to=<jon@local.it>, orig_to=<root>, relay=local, delay=28, delays=28/0.01/0/0.04, dsn=2.0.0, status=sent (delivered to mailbox)\n",
      "Nov 23 00:00:29 mta-1 postfix/qmgr[25881]: B0C1220587: removed\n"
     ]
    }
   ],
   "source": [
    "# The data/maillog file contains\n",
    "ret = !cat ../data/maillog\n",
    "print(*ret[:3], sep='\\n')"
   ]
  },
  {
   "cell_type": "code",
   "execution_count": null,
   "metadata": {
    "collapsed": true
   },
   "outputs": [],
   "source": [
    "# Use the following cell to solve the exercise.\n"
   ]
  },
  {
   "cell_type": "code",
   "execution_count": 12,
   "metadata": {
    "collapsed": false
   },
   "outputs": [
    {
     "name": "stdout",
     "output_type": "stream",
     "text": [
      "ret = !grep removed data/maillog\n",
      "hours = [x[:2] for x in ret.fields(2)]\n",
      "\n"
     ]
    }
   ],
   "source": [
    "#\n",
    "# Time distribution exercise frame\n",
    "#\n",
    "solution = \"cmV0ID0gIWdyZXAgcmVtb3ZlZCBkYXRhL21haWxsb2cKaG91cnMgPSBbeFs6Ml0gZm9yIHggaW4g\\ncmV0LmZpZWxkcygyKV0K\"\n",
    "from course import show_solution\n",
    "show_solution(solution)"
   ]
  },
  {
   "cell_type": "code",
   "execution_count": 35,
   "metadata": {
    "collapsed": false
   },
   "outputs": [
    {
     "name": "stdout",
     "output_type": "stream",
     "text": [
      "[0, 0, 0, 0, 0, 0, 1, 1, 1, 1] ..\n",
      "The distribution is dict_items([(0, 6), (1, 6), (2, 5), (3, 6), (4, 5), (5, 6), (6, 6), (7, 5), (8, 5), (9, 5), (10, 11), (11, 15), (12, 18), (13, 8), (14, 11), (15, 11), (16, 2), (17, 207), (18, 266), (19, 261), (20, 260), (21, 264), (22, 261), (23, 261)])\n"
     ]
    }
   ],
   "source": [
    "ret = !grep removed ../data/maillog\n",
    "#print(ret.fields(2))\n",
    "hours = [int(x[:2]) for x in ret.fields(2)]\n",
    "print(hours[:10], \"..\")\n",
    "time_d = Counter(hours)\n",
    "print(\"The distribution is\",time_d.viewitems())"
   ]
  },
  {
   "cell_type": "code",
   "execution_count": 34,
   "metadata": {
    "collapsed": false
   },
   "outputs": [],
   "source": [
    "# Exercise: find the 3 and 4 most common values of time_d"
   ]
  },
  {
   "cell_type": "markdown",
   "metadata": {},
   "source": [
    "## Plotting distributions\n"
   ]
  },
  {
   "cell_type": "code",
   "execution_count": 69,
   "metadata": {
    "collapsed": false
   },
   "outputs": [
    {
     "data": {
      "text/plain": [
       "<matplotlib.text.Text at 0x7f788290f910>"
      ]
     },
     "execution_count": 69,
     "metadata": {},
     "output_type": "execute_result"
    },
    {
     "data": {
      "image/png": "[encoded data removed]",
      "text/plain": [
       "<matplotlib.figure.Figure at 0x7f78849e3850>"
      ]
     },
     "metadata": {},
     "output_type": "display_data"
    }
   ],
   "source": [
    "# To plot data..\n",
    "from matplotlib import pyplot as plt\n",
    "# and set the interactive mode\n",
    "plt.ion()\n",
    "\n",
    "# Plotting an histogram...\n",
    "frequency, slots, _ = hist(hours)\n",
    "plt.title(\"Hourly distribution\")"
   ]
  },
  {
   "cell_type": "code",
   "execution_count": 70,
   "metadata": {
    "collapsed": true
   },
   "outputs": [],
   "source": [
    "# .. returns a\n",
    "from collections import OrderedDict\n",
    "distribution = OrderedDict(zip(slots,\n",
    "    frequency))"
   ]
  },
  {
   "cell_type": "code",
   "execution_count": 71,
   "metadata": {
    "collapsed": false
   },
   "outputs": [
    {
     "name": "stdout",
     "output_type": "stream",
     "text": [
      "{\n",
      " \"0.0\": 17.0, \n",
      " \"2.2999999999999998\": 11.0, \n",
      " \"4.5999999999999996\": 12.0, \n",
      " \"6.8999999999999995\": 15.0, \n",
      " \"9.1999999999999993\": 26.0, \n",
      " \"11.5\": 26.0, \n",
      " \"13.799999999999999\": 24.0, \n",
      " \"16.099999999999998\": 473.0, \n",
      " \"18.399999999999999\": 521.0, \n",
      " \"20.699999999999999\": 786.0\n",
      "}\n"
     ]
    }
   ],
   "source": [
    "# Print it nicely with\n",
    "import json\n",
    "print(json.dumps(distribution, indent=1))"
   ]
  },
  {
   "cell_type": "markdown",
   "metadata": {},
   "source": [
    "## Size distribution: Exercise\n",
    "\n",
    "  - Create a size $\\delta$ from the previous maillog using hist(..., bins=...)\n",
    "  - Hint: help(hist)\n",
    "        \n",
    "```\n",
    "    size_d = {  # mail size between\n",
    "    0: xxx  #  0 - 10k\n",
    "    1: xxx  #  10k - 20k\n",
    "    ..\n",
    "    }\n",
    "```\n",
    "\n",
    "  - Homework: Use the size $\\delta$ to find size\\_mean and size\\_sigma and compare with $\\sigma$ and mean evaluated from the original data-series\n",
    "    \n"
   ]
  },
  {
   "cell_type": "code",
   "execution_count": null,
   "metadata": {
    "collapsed": true
   },
   "outputs": [],
   "source": [
    "#\n",
    "# Exercise frame\n",
    "#"
   ]
  },
  {
   "cell_type": "markdown",
   "metadata": {},
   "source": [
    "# Simulating data with $\\sigma$ and $\\bar{x}$\n",
    "\n",
    "  - Mean and a stdev are useful starting point to simulate data using the gaussian distribution.\n"
   ]
  },
  {
   "cell_type": "code",
   "execution_count": 72,
   "metadata": {
    "collapsed": true
   },
   "outputs": [],
   "source": [
    "# Get the sigma_size from maillog\n",
    "solution = b'CnJldCA9ICFncmVwIHNpemUgZGF0YS9tYWlsbG9nCnNpemVzID0gW2ludCh4WzU6LTFdKSBmb3Ig\\neCBpbiByZXQuZmllbGRzKDcpXQoK\\n'\n",
    "from course import show_solution\n",
    "# show_solution(solution)\n",
    "def maillog_size():\n",
    "    ret = !grep size ../data/maillog\n",
    "    sizes = [int(x[5:-1]) for x in ret.fields(7)]\n",
    "    return sizes\n",
    "\n",
    "sizes = maillog_size()"
   ]
  },
  {
   "cell_type": "code",
   "execution_count": 80,
   "metadata": {
    "collapsed": false
   },
   "outputs": [
    {
     "data": {
      "image/png": "[encoded data removed]",
      "text/plain": [
       "<matplotlib.figure.Figure at 0x7f78822c1c50>"
      ]
     },
     "metadata": {},
     "output_type": "display_data"
    }
   ],
   "source": [
    "frequency, slots, _ = plt.hist(sizes, bins=5)"
   ]
  },
  {
   "cell_type": "code",
   "execution_count": 83,
   "metadata": {
    "collapsed": false
   },
   "outputs": [
    {
     "name": "stdout",
     "output_type": "stream",
     "text": [
      "Estimated frequency is 0.183333333333\n"
     ]
    }
   ],
   "source": [
    "# We can use our time_d to simulate the load during the day\n",
    "from time import localtime\n",
    "hour = localtime().tm_hour\n",
    "mail_per_minute = time_d[hour] / 60 # minutes in hour\n",
    "print(\"Estimated frequency is\", mail_per_minute)"
   ]
  },
  {
   "cell_type": "code",
   "execution_count": 30,
   "metadata": {
    "collapsed": false
   },
   "outputs": [
    {
     "name": "stdout",
     "output_type": "stream",
     "text": [
      "11810.7814123 34065.1257772\n"
     ]
    }
   ],
   "source": [
    "# And sizes to create a mail load generator\n",
    "mean_size, sigma_size = mean(sizes), std(sizes)\n",
    "print(mean_size, sigma_size)"
   ]
  },
  {
   "cell_type": "code",
   "execution_count": 31,
   "metadata": {
    "collapsed": true
   },
   "outputs": [],
   "source": [
    "# A mail load generator creating attachments of a given size...\n",
    "from random import gauss\n",
    "def mail_size_g():\n",
    "    mu = min(sizes)\n",
    "    x = gauss(mean_size, sigma_size) # a random number\n",
    "    # as gaussian can give negative numbers\n",
    "    # we should ceil up (or skip) negative values\n",
    "    return x if x > mu else mu"
   ]
  },
  {
   "cell_type": "code",
   "execution_count": 32,
   "metadata": {
    "collapsed": false
   },
   "outputs": [
    {
     "name": "stdout",
     "output_type": "stream",
     "text": [
      "5000 1.71034092398 0.689055619899\n",
      "10000 1.75139190831 0.699085040974\n",
      "100000 1.73892008759 0.693283236383\n"
     ]
    }
   ],
   "source": [
    "# How is our estimation far from reality?\n",
    "for emails in 5000, 10000, 100000:\n",
    "    X = [mail_size_g() for x in xrange(emails)]\n",
    "    print(emails, mean(X) / mean_size, std(X) / sigma_size)\n",
    "\n",
    "# Homework: write a script to simulate the load of your mailserver and tweak your mail_size_g\n",
    "# Hint: create a set of attachment files: 1k.out, 10k.out, 100k.out, 1000k.out, 5000k.out\n",
    "# Hint: use mail_size_g() to select one of those files instead of creating a given email"
   ]
  },
  {
   "cell_type": "markdown",
   "metadata": {},
   "source": [
    "To better simulate mail size, consider using  a Cauchy distribution.\n",
    "\n",
    "See www.ieee802.org/16/tgm/contrib/C80216m-07_122.pdf"
   ]
  },
  {
   "cell_type": "markdown",
   "metadata": {},
   "source": [
    "# Linear Correlation\n"
   ]
  },
  {
   "cell_type": "code",
   "execution_count": 33,
   "metadata": {
    "collapsed": false
   },
   "outputs": [
    {
     "data": {
      "text/plain": [
       "<matplotlib.text.Text at 0x7f4f97e6a810>"
      ]
     },
     "execution_count": 33,
     "metadata": {},
     "output_type": "execute_result"
    },
    {
     "data": {
      "image/png": "[encoded data removed]",
      "text/plain": [
       "<matplotlib.figure.Figure at 0x7f4f9815b690>"
      ]
     },
     "metadata": {},
     "output_type": "display_data"
    }
   ],
   "source": [
    "# Let's plot the following datasets\n",
    "#  taken from a 4-hour distribution\n",
    "mail_sent = [1, 5, 500, 250, 100, 7]\n",
    "kB_s = [70, 300, 29000, 12500, 450, 500]\n",
    "\n",
    "# A scatter plot can suggest relations\n",
    "#  between data\n",
    "plt.scatter(mail_sent, kB_s)\n",
    "plt.title(\"I am a SCATTER plot!\")"
   ]
  },
  {
   "cell_type": "markdown",
   "metadata": {},
   "source": [
    "# Linear Correlation\n",
    "\n",
    "The Pearson Coefficient $\\rho$ is a relation indicator.\n",
    "\n",
    "-  no relation\n",
    "-  direct relation (both dataset increase together)\n",
    "-  inverse relation (one increase as the other decrease)\n",
    "\n",
    "\\begin{equation}\n",
    "\\rho(X,Y) = \\frac{\n",
    "    \\sum (x-\\bar{x})(y-\\bar{y})\n",
    "    }{\n",
    "    \\sqrt{\\sum (x - \\bar{x})^{2}}\\sqrt{\\sum (y - \\bar{y})^{2}}\n",
    "}\n",
    "\\end{equation}\n"
   ]
  },
  {
   "cell_type": "code",
   "execution_count": 34,
   "metadata": {
    "collapsed": false
   },
   "outputs": [
    {
     "name": "stdout",
     "output_type": "stream",
     "text": [
      "(0.98257763778173501, 0.00045266387726145078)\n"
     ]
    }
   ],
   "source": [
    "from scipy.stats.stats import pearsonr\n",
    "ret = pearsonr(mail_sent, kB_s)\n",
    "print(ret)\n",
    "#>(0.9823, 0.0004)\n",
    "correlation, probability = ret"
   ]
  },
  {
   "cell_type": "markdown",
   "metadata": {},
   "source": [
    "# You must (scatter) plot!\n",
    "\n",
    "## $\\rho$ does not detect non-linear correlation\n",
    "<img src=\"http://upload.wikimedia.org/wikipedia/commons/thumb/d/d4/Correlation_examples2.svg/506px-Correlation_examples2.svg.png\" />"
   ]
  },
  {
   "cell_type": "markdown",
   "metadata": {},
   "source": [
    "# Combinations\n",
    "\n",
    "*a way of selecting members from a grouping, such that \n",
    "the order of selection does not matter*\n",
    "\n",
    " ## Combinations vs Permutations\n",
    " -  expressed by the binomial coefficient $\\binom{n}{k}$\n",
    " -  different from Permutations where order matters (expressed by factorial $n!$)\n",
    " -  Permutations are more than Combinations - as the \"Per\" prefix says :D\n",
    " \n",
    " \n",
    " ## Combining 4 suites, 2 at a time\n",
    " \n",
    "  1. ('♠', '♡')\n",
    "  2. ('♠', '♢')\n",
    "  3. ('♠', '♣')\n",
    "  4. ('♡', '♢')\n",
    "  5. ('♡', '♣')\n",
    "  6. ('♢', '♣')\n"
   ]
  },
  {
   "cell_type": "code",
   "execution_count": 111,
   "metadata": {
    "collapsed": false
   },
   "outputs": [
    {
     "name": "stdout",
     "output_type": "stream",
     "text": [
      "swap_out\n",
      "cpu_usr\n",
      "byte_out\n",
      "cpu_wait\n",
      "swap_in\n",
      "byte_in\n",
      "irq\n",
      "cache\n",
      "cpu_id\n",
      "cpu_sys\n",
      "csw\n",
      "buff\n"
     ]
    },
    {
     "data": {
      "text/plain": [
       "[(u'swap_out', u'cpu_usr'),\n",
       " (u'swap_out', u'byte_out'),\n",
       " (u'swap_out', u'cpu_wait'),\n",
       " (u'swap_out', u'swap_in'),\n",
       " (u'swap_out', u'byte_in'),\n",
       " (u'swap_out', u'irq'),\n",
       " (u'swap_out', u'cache'),\n",
       " (u'swap_out', u'cpu_id'),\n",
       " (u'swap_out', u'cpu_sys'),\n",
       " (u'swap_out', u'csw')]"
      ]
     },
     "execution_count": 111,
     "metadata": {},
     "output_type": "execute_result"
    }
   ],
   "source": [
    "# Given a table with many data series\n",
    "from course import table\n",
    "#table = {...\n",
    "#  'cpu_usr': [10, 23, 55, ..],\n",
    "#  'byte_in': [2132, 3212, 3942, ..], \n",
    "# }\n",
    "print(*table.keys(),sep='\\n')\n",
    "\n",
    "# We can combine all their names with\n",
    "from itertools import combinations\n",
    "list(combinations(table,2))[:10]"
   ]
  },
  {
   "cell_type": "markdown",
   "metadata": {},
   "source": [
    "# Netfishing correlation\n",
    "\n",
    "When looking for interesting data, we can calculate correlation between every combination of data series and concentrate on those over a given threshold "
   ]
  },
  {
   "cell_type": "code",
   "execution_count": 122,
   "metadata": {
    "collapsed": false
   },
   "outputs": [
    {
     "name": "stdout",
     "output_type": "stream",
     "text": [
      "linear correlation between cpu_wait and byte_in  is 0.68140970936\n",
      "linear correlation between cpu_wait and irq      is 0.694233857902\n",
      "linear correlation between cpu_wait and buff     is 0.795312316383\n",
      "linear correlation between byte_in  and irq      is 0.867031877805\n",
      "linear correlation between byte_in  and csw      is 0.832882152364\n",
      "linear correlation between irq      and csw      is 0.858848359799\n"
     ]
    }
   ],
   "source": [
    "\n",
    "# We can try every combination between data series \n",
    "# and check if there's some correlation\n",
    "from itertools import combinations\n",
    "from scipy.stats.stats import pearsonr\n",
    "from course import table\n",
    "\n",
    "for k1, k2 in combinations(table, 2):\n",
    "    r_coeff, probability = pearsonr(table[k1], table[k2])\n",
    "    \n",
    "    # I'm *still* not interested in data under this threshold\n",
    "    if r_coeff < 0.6:\n",
    "        continue\n",
    "        \n",
    "    print(\"linear correlation between {:8} and {:8} is {:3}\".format(\n",
    "        k1, k2, r_coeff))"
   ]
  },
  {
   "cell_type": "markdown",
   "metadata": {},
   "source": [
    "## Plotting correlation\n",
    "\n",
    "Coloring scatter-plot gives us one more dimension in a 2d plot: time!\n",
    "\n",
    "We have to mark our ordered data-series with a tick-series. eg.\n",
    "\n",
    "\n",
    "|tick| 0 | 0 | 0 | 1 | 1 | .. |\n",
    "|---|---|---|---|--|--|--| --|\n",
    "|cpu_usr| 10 | 23| 55| 33 | 10 | .. |\n",
    "|byte_in| 2132 | 3212| 3942 |  321 | 42| ..| \n",
    "\n",
    "Elements with the same tick are in the same bucket. \n",
    "\n",
    "We will now group our series in 3 buckets of 8-hours. We'll use the ```itertools.chain``` function which\n",
    "flattens a list of iterators.\n"
   ]
  },
  {
   "cell_type": "code",
   "execution_count": 151,
   "metadata": {
    "collapsed": false
   },
   "outputs": [
    {
     "name": "stdout",
     "output_type": "stream",
     "text": [
      "[0, 0, 0, 0, 0, 0, 0, 0, 0, 0, 0, 0, 0, 0, 0, 0, 0, 0, 0, 0, 0, 0, 0, 8, 8, 8, 8, 8, 8, 8, 8, 8, 8, 8, 8, 8, 8, 8, 8, 8, 8, 8, 8, 8, 8, 8, 16, 16, 16, 16, 16, 16, 16, 16, 16, 16, 16, 16, 16, 16, 16, 16, 16, 16, 16, 16, 16, 16, 16]\n"
     ]
    }
   ],
   "source": [
    "from itertools import chain  #  magic function to flatten a list of iterators\n",
    "\n",
    "# Dividing samples in 3 buckets.\n",
    "BUCKETS = [\"morning\", \"afternoon\", \"night\"]\n",
    "samples = len(table['byte_in'])\n",
    "\n",
    "# scale samples on 24 hours\n",
    "ticks = list(chain(*(\n",
    "            [x] * (samples // len(BUCKETS))    # generates a [ 0 ] * bucket_size list.\n",
    "            for x in range(0, 24, 24 // len(BUCKETS))  # rescale all samples on 24 hours\n",
    "        ))\n",
    "     )\n",
    "print(ticks)\n"
   ]
  },
  {
   "cell_type": "code",
   "execution_count": 152,
   "metadata": {
    "collapsed": false
   },
   "outputs": [
    {
     "name": "stdout",
     "output_type": "stream",
     "text": [
      "Counter({0: 23, 8: 23, 16: 23})\n"
     ]
    }
   ],
   "source": [
    "# Any doubts? Just check the ticks distribution ;)\n",
    "print(Counter(ticks))\n",
    "\n",
    "# Exercise: use json.dumps to prettify the distribution."
   ]
  },
  {
   "cell_type": "code",
   "execution_count": 153,
   "metadata": {
    "collapsed": false
   },
   "outputs": [
    {
     "data": {
      "text/plain": [
       "<matplotlib.colorbar.Colorbar at 0x7f78735eeb90>"
      ]
     },
     "execution_count": 153,
     "metadata": {},
     "output_type": "execute_result"
    },
    {
     "data": {
      "image/png": "[encoded data removed]",
      "text/plain": [
       "<matplotlib.figure.Figure at 0x7f7873a6f610>"
      ]
     },
     "metadata": {},
     "output_type": "display_data"
    }
   ],
   "source": [
    "# Create a formatter associating a label to every color point:\n",
    "#   - we just take into account the tick value, ignoring other values\n",
    "#   - the tick is divided by 8 (the bucket_size) to implement the following mapping\n",
    "#      - [0, 8)   -> morning\n",
    "#      - [8, 16)  -> afternoon \n",
    "#      - [16, 24) -> night\n",
    "formatter = plt.FuncFormatter(lambda tick, *ignored_args: BUCKETS[tick//8])\n",
    "\n",
    "plt.scatter(table['byte_in'], table['csw'], c=ticks)\n",
    "plt.colorbar(ticks = range(0, 28, 8), format=formatter)"
   ]
  },
  {
   "cell_type": "code",
   "execution_count": 154,
   "metadata": {
    "collapsed": false
   },
   "outputs": [
    {
     "data": {
      "text/plain": [
       "{0, 1, 2}"
      ]
     },
     "execution_count": 154,
     "metadata": {},
     "output_type": "execute_result"
    }
   ],
   "source": [
    "from scipy import arange\n",
    "set(map(int, arange(0, 3, 1/samples)))"
   ]
  },
  {
   "cell_type": "code",
   "execution_count": null,
   "metadata": {
    "collapsed": true
   },
   "outputs": [],
   "source": []
  },
  {
   "cell_type": "code",
   "execution_count": 156,
   "metadata": {
    "collapsed": false
   },
   "outputs": [
    {
     "data": {
      "image/png": "[encoded data removed]",
      "text/plain": [
       "<matplotlib.figure.Figure at 0x7f78735014d0>"
      ]
     },
     "metadata": {},
     "output_type": "display_data"
    },
    {
     "data": {
      "image/png": "[encoded data removed]",
      "text/plain": [
       "<matplotlib.figure.Figure at 0x7f7873b75a90>"
      ]
     },
     "metadata": {},
     "output_type": "display_data"
    },
    {
     "data": {
      "image/png": "[encoded data removed]",
      "text/plain": [
       "<matplotlib.figure.Figure at 0x7f7878044bd0>"
      ]
     },
     "metadata": {},
     "output_type": "display_data"
    },
    {
     "data": {
      "image/png": "[encoded data removed]",
      "text/plain": [
       "<matplotlib.figure.Figure at 0x7f7873cde750>"
      ]
     },
     "metadata": {},
     "output_type": "display_data"
    },
    {
     "data": {
      "image/png": "[encoded data removed]",
      "text/plain": [
       "<matplotlib.figure.Figure at 0x7f787300df10>"
      ]
     },
     "metadata": {},
     "output_type": "display_data"
    },
    {
     "data": {
      "image/png": "[encoded data removed]",
      "text/plain": [
       "<matplotlib.figure.Figure at 0x7f7878045e50>"
      ]
     },
     "metadata": {},
     "output_type": "display_data"
    }
   ],
   "source": [
    "#netfishing_correlation_plot():\n",
    "# Consider using pandas.tools.plotting import scatter_matrix\n",
    "from itertools import combinations\n",
    "from scipy.stats.stats import pearsonr\n",
    "from course import table\n",
    "from matplotlib import pyplot as plt\n",
    "\n",
    "for (k1, v1), (k2,v2)  in combinations(table.items(), 2):\n",
    "    r_coeff, probability = pearsonr(table[k1], table[k2])\n",
    "    if r_coeff < 0.6:\n",
    "        continue\n",
    "    plt.scatter(v1, v2, c=ticks)\n",
    "    plt.xlabel(k1); plt.ylabel(k2)\n",
    "    plt.title(\"r={:0.3f} p={:0.3f}\".format(r_coeff, probability))\n",
    "    plt.colorbar(ticks = range(0, 28, 8), format=formatter)\n",
    "    plt.show()\n",
    "    # Uncomment the following lines to save the plot on disk\n",
    "    # plt.savefig(\"colorbar_{}_{}.png\".format(k1, k2))\n",
    "    # plt.close()"
   ]
  },
  {
   "cell_type": "code",
   "execution_count": null,
   "metadata": {
    "collapsed": false
   },
   "outputs": [],
   "source": []
  },
  {
   "cell_type": "markdown",
   "metadata": {},
   "source": [
    "## Exercise solutions"
   ]
  },
  {
   "cell_type": "code",
   "execution_count": 44,
   "metadata": {
    "collapsed": false
   },
   "outputs": [
    {
     "name": "stdout",
     "output_type": "stream",
     "text": [
      "14.552 14.617 14.316\n"
     ]
    }
   ],
   "source": [
    "from __future__ import print_function, unicode_literals\n",
    "def ping_rtt(seconds=10):\n",
    "    \"\"\"\n",
    "       goal: slicing data\n",
    "       goal: using zip to transpose data\n",
    "    \"\"\"\n",
    "    import sys\n",
    "    from course import sh\n",
    "    cmd = \"ping -c{seconds} www.google.it\"\n",
    "    if 'win' in sys.platform:\n",
    "        cmd = \"ping -n{seconds} www.google.it\"\n",
    "\n",
    "    ping_output = sh(cmd.format(seconds=seconds))\n",
    "    # Filter out uninteresting lines\n",
    "    ping_output = [x.replace(b\"=\", b\" \") for x in ping_output if b'from' in x]\n",
    "    if 'win' in sys.platform:\n",
    "        ping_output = [x.split()[6::2] for x in ping_output]\n",
    "    else:\n",
    "        ping_output = [x.split()[-4:-1:2] for x in ping_output]\n",
    "    ttl, rtt = zip(*ping_output)\n",
    "    return map(float, rtt)\n",
    "\n",
    "print(*ping_rtt(3))"
   ]
  },
  {
   "cell_type": "code",
   "execution_count": 45,
   "metadata": {
    "collapsed": false
   },
   "outputs": [
    {
     "ename": "TypeError",
     "evalue": "int() argument must be a string or a number, not 'SList'",
     "output_type": "error",
     "traceback": [
      "\u001b[1;31m---------------------------------------------------------------------------\u001b[0m",
      "\u001b[1;31mTypeError\u001b[0m                                 Traceback (most recent call last)",
      "\u001b[1;32m<ipython-input-45-318f680ebd74>\u001b[0m in \u001b[0;36m<module>\u001b[1;34m()\u001b[0m\n\u001b[0;32m      7\u001b[0m \u001b[0mts\u001b[0m \u001b[1;33m=\u001b[0m \u001b[0mret\u001b[0m\u001b[1;33m.\u001b[0m\u001b[0mfields\u001b[0m\u001b[1;33m(\u001b[0m\u001b[1;36m2\u001b[0m\u001b[1;33m)\u001b[0m \u001b[1;31m# find the timestamp (3rd column)\u001b[0m\u001b[1;33m\u001b[0m\u001b[0m\n\u001b[0;32m      8\u001b[0m \u001b[1;33m\u001b[0m\u001b[0m\n\u001b[1;32m----> 9\u001b[1;33m \u001b[0mhours\u001b[0m \u001b[1;33m=\u001b[0m \u001b[1;33m[\u001b[0m \u001b[0mint\u001b[0m\u001b[1;33m(\u001b[0m\u001b[0mts\u001b[0m\u001b[1;33m)\u001b[0m  \u001b[1;32mfor\u001b[0m \u001b[0mx\u001b[0m \u001b[1;32min\u001b[0m \u001b[0mts\u001b[0m \u001b[1;33m]\u001b[0m\u001b[1;33m\u001b[0m\u001b[0m\n\u001b[0m\u001b[0;32m     10\u001b[0m \u001b[0mtime_d\u001b[0m \u001b[1;33m=\u001b[0m \u001b[1;33m{\u001b[0m\u001b[0mx\u001b[0m\u001b[1;33m:\u001b[0m \u001b[0mhours\u001b[0m\u001b[1;33m.\u001b[0m\u001b[0mcount\u001b[0m\u001b[1;33m(\u001b[0m\u001b[0mx\u001b[0m\u001b[1;33m)\u001b[0m \u001b[1;32mfor\u001b[0m \u001b[0mx\u001b[0m \u001b[1;32min\u001b[0m \u001b[0mset\u001b[0m\u001b[1;33m(\u001b[0m\u001b[0mhours\u001b[0m\u001b[1;33m)\u001b[0m\u001b[1;33m}\u001b[0m\u001b[1;33m\u001b[0m\u001b[0m\n",
      "\u001b[1;31mTypeError\u001b[0m: int() argument must be a string or a number, not 'SList'"
     ]
    }
   ],
   "source": [
    "# Exercise II solution\n",
    "# deliveder emails are like the following\n",
    "#May 14 16:00:04 rpolli postfix/qmgr[122]: 4DC3DA: removed\"\n",
    "\n",
    "ret = !grep removed maillog # get the interesting lines\n",
    "\n",
    "ts = ret.fields(2) # find the timestamp (3rd column)\n",
    "\n",
    "hours = [ int(ts)  for x in ts ]\n",
    "time_d = {x: hours.count(x) for x in set(hours)}"
   ]
  }
 ],
 "metadata": {
  "kernelspec": {
   "display_name": "Python 2",
   "language": "python",
   "name": "python2"
  },
  "language_info": {
   "codemirror_mode": {
    "name": "ipython",
    "version": 2
   },
   "file_extension": ".py",
   "mimetype": "text/x-python",
   "name": "python",
   "nbconvert_exporter": "python",
   "pygments_lexer": "ipython2",
   "version": "2.7.11"
  }
 },
 "nbformat": 4,
 "nbformat_minor": 0
}
