{
 "cells": [],
 "metadata": {
  "name": ""
 },
 "nbformat": 3,
 "nbformat_minor": 0,
 "worksheets": [
  {
   "cells": [
    {
     "cell_type": "markdown",
     "metadata": {},
     "source": [
      "# Path Management\n",
      "\n",
      "## Goal\n",
      " \n",
      " - Normalize paths on different platform\n",
      " - Create, copy and remove folders\n",
      " - Handle errors\n",
      "    \n",
      "## Modules\n",
      " \n",
      " - os, os.path, shutil, errno, glob, sys\n",
      " \n",
      "## See also:\n",
      "\n",
      " - pathlib on Python 3.4+\n"
     ]
    },
    {
     "cell_type": "code",
     "input": [
      "# Be python3 ready\n",
      "from __future__ import unicode_literals, print_function"
     ],
     "language": "python",
     "metadata": {},
     "outputs": []
    },
    {
     "cell_type": "markdown",
     "metadata": {},
     "source": [
      "## Multiplatform Path Management\n",
      "\n",
      "1- The os.path module seems verbose\n",
      "  but it's the *best* way to manage paths. It's:\n",
      "  - safe\n",
      "  - multiplatform\n",
      "\n",
      "        \n",
      "2- Here we check the operating system\n",
      "  and prepend the right path\n"
     ]
    },
    {
     "cell_type": "code",
     "input": [
      "import os\n",
      "import sys\n",
      "basedir, hosts  = \"/\", \"etc/hosts\""
     ],
     "language": "python",
     "metadata": {},
     "outputs": []
    },
    {
     "cell_type": "code",
     "input": [
      "# sys.platform shows the current operating system\n",
      "if sys.platform.startswith('win'):\n",
      "    basedir = 'c:/windows/system32/drivers'\n",
      "print(basedir)"
     ],
     "language": "python",
     "metadata": {},
     "outputs": []
    },
    {
     "cell_type": "code",
     "input": [
      "# Join removes redundant \"/\"\n",
      "hosts = os.path.join(basedir, hosts)\n",
      "print(hosts)"
     ],
     "language": "python",
     "metadata": {},
     "outputs": []
    },
    {
     "cell_type": "code",
     "input": [
      "# normpath fixes \"/\" orientation \n",
      "# and redundant \"..\"\n",
      "hosts = os.path.normpath(hosts)\n",
      "print(\"Normalized path is\", hosts)"
     ],
     "language": "python",
     "metadata": {},
     "outputs": []
    },
    {
     "cell_type": "code",
     "input": [
      "# realpath resolves symlinks (on unix)\n",
      "! mkdir -p /tmp/course\n",
      "! ln -sf /etc/hosts /tmp/course/hosts\n",
      "realfile = os.path.realpath(\"/tmp/course/hosts\") \n",
      "print(realfile)"
     ],
     "language": "python",
     "metadata": {},
     "outputs": []
    },
    {
     "cell_type": "markdown",
     "metadata": {},
     "source": [
      "## Manage trees\n",
      "\n",
      "Python modules can:\n",
      "    - manage directory trees\n",
      "    - and basic errors\n",
      "\n"
     ]
    },
    {
     "cell_type": "code",
     "input": [
      "# os and shutil supports basic file operations\n",
      "# like recursive copy and tree creation.\n",
      "from os import makedirs\n",
      "makedirs(\"/tmp/course/foo/bar\")"
     ],
     "language": "python",
     "metadata": {},
     "outputs": []
    },
    {
     "cell_type": "code",
     "input": [
      "# while os.path can be used to test file existence\n",
      "from os.path import isdir\n",
      "assert isdir(\"/tmp/course/foo/bar\")"
     ],
     "language": "python",
     "metadata": {},
     "outputs": []
    },
    {
     "cell_type": "code",
     "input": [
      "# Check the directory content with either one of\n",
      "!tree /tmp/course || find /tmp/course"
     ],
     "language": "python",
     "metadata": {},
     "outputs": []
    },
    {
     "cell_type": "code",
     "input": [
      "# We can use exception handlers to check\n",
      "#  what happened.\n",
      "\n",
      "try:\n",
      "    # python2 does not allow to ignore\n",
      "    #  already existing directories\n",
      "    #  and raises an OSError\n",
      "    makedirs(\"/tmp/course/foo/bar\")\n",
      "except OSError as e:\n",
      "    # Just use the errno module to\n",
      "    #  check the error value\n",
      "    import errno\n",
      "    assert e.errno == errno.EEXIST"
     ],
     "language": "python",
     "metadata": {},
     "outputs": []
    },
    {
     "cell_type": "code",
     "input": [
      "from shutil import copytree, rmtree\n",
      "# Now copy recursively two directories\n",
      "# and check the result\n",
      "copytree(\"/tmp/course/foo\", \"/tmp/course/foo2\")\n",
      "assert isdir(\"/tmp/course/foo2/bar\")"
     ],
     "language": "python",
     "metadata": {},
     "outputs": []
    },
    {
     "cell_type": "code",
     "input": [
      "#This command should work on both unix and windows \n",
      "!dir /tmp/course/foo2/bar"
     ],
     "language": "python",
     "metadata": {},
     "outputs": []
    },
    {
     "cell_type": "code",
     "input": [
      "# Now remove it and check the outcome\n",
      "rmtree(\"/tmp/course/foo\")\n",
      "assert not isdir(\"/tmp/course/foo/bar\")"
     ],
     "language": "python",
     "metadata": {},
     "outputs": []
    },
    {
     "cell_type": "code",
     "input": [
      "#This command should work on both unix and windows \n",
      "!dir /tmp/course/"
     ],
     "language": "python",
     "metadata": {},
     "outputs": []
    },
    {
     "cell_type": "code",
     "input": [
      "# Cleanup created files\n",
      "rmtree(\"/tmp/course\")"
     ],
     "language": "python",
     "metadata": {},
     "outputs": []
    },
    {
     "cell_type": "code",
     "input": [],
     "language": "python",
     "metadata": {},
     "outputs": []
    }
   ]
  }
 ]
}