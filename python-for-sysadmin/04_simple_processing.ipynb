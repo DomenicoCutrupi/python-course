{
 "metadata": {
  "name": ""
 },
 "nbformat": 3,
 "nbformat_minor": 0,
 "worksheets": [
  {
   "cells": [
    {
     "cell_type": "markdown",
     "metadata": {},
     "source": [
      "# Simple Processing\n",
      "\n",
      "Goals:\n",
      "\n",
      "  - Handle gathered data with dict() and zip()\n",
      "  -  Find data relation with scipy\n",
      "  - Get essential information like standard deviation $\\sigma$ and distributions $\\delta$\n",
      "  - Linear correlation: what's that, when can help\n",
      "  - Plotting\n",
      "\n",
      "modules:\n",
      "  - numpy, scipy, scipy.stats.stats, collections, random, time\n",
      "\n",
      "\n"
     ]
    },
    {
     "cell_type": "code",
     "collapsed": false,
     "input": [
      "# This lesson requires the following modules\n",
      "from __future__ import unicode_literals, print_function, division\n",
      "\n",
      "# And %pylab features\n",
      "%pylab\n",
      "\n",
      "# Show plots into browser\n",
      "%matplotlib inline"
     ],
     "language": "python",
     "metadata": {},
     "outputs": [
      {
       "output_type": "stream",
       "stream": "stdout",
       "text": [
        "Using matplotlib backend: TkAgg\n",
        "Populating the interactive namespace from numpy and matplotlib\n"
       ]
      }
     ],
     "prompt_number": 1
    },
    {
     "cell_type": "markdown",
     "metadata": {},
     "source": [
      "## The Chicken Paradox\n",
      "\n",
      "*\"According to latest statistics,  \n",
      "it appears that you eat one chicken per year:  \n",
      "and, if that doesn't fit your budget,  \n",
      "you'll fit into statistic anyway,  \n",
      "because someone will eat two.\"*\n",
      "\n",
      " C. A. Salustri  (1871 \u2013 1950)\n"
     ]
    },
    {
     "cell_type": "markdown",
     "metadata": {},
     "source": [
      "# How to dismantle the Chicken Paradox (Exercise)\n",
      "\n",
      " - Gather data!\n",
      " - Write the following function using our parsing strategy\n",
      " \n",
      "```\n",
      "def ping_rtt(seconds=10):\n",
      "    \"\"\"@return: a list of ping RTT\"\"\"\n",
      "    from course import sh\n",
      "    # get sample output\n",
      "    # find a solution in ipython\n",
      "    # test and paste the code\n",
      "    raise NotImplementedError\n",
      "```\n",
      "    \n",
      "  - Gather 10 seconds of ping output\n",
      "  - Hints: reuse sh function \n",
      "  - Hints: slice and filter lists using comprehension\n",
      "\n",
      "\n",
      "\n",
      "\n",
      "\n"
     ]
    },
    {
     "cell_type": "code",
     "collapsed": false,
     "input": [
      "#\n",
      "# Exercise: use this frame for the exercise\n",
      "#\n",
      "def ping_rtt(seconds=10):\n",
      "    \"\"\"@return: a list of ping RTT\"\"\"\n",
      "    from course import sh\n",
      "    # get sample output\n",
      "    # find a solution in ipython\n",
      "    # test and paste the code\n",
      "    raise NotImplementedError\n",
      "\n",
      "!ping -c3 www.google.it || ping -n3 www.google.it\n",
      "\n"
     ],
     "language": "python",
     "metadata": {},
     "outputs": [
      {
       "output_type": "stream",
       "stream": "stdout",
       "text": [
        "PING www.google.it (216.58.210.195) 56(84) bytes of data.\r\n"
       ]
      },
      {
       "output_type": "stream",
       "stream": "stdout",
       "text": [
        "64 bytes from mrs04s09-in-f3.1e100.net (216.58.210.195): icmp_seq=1 ttl=52 time=54.3 ms\r\n"
       ]
      },
      {
       "output_type": "stream",
       "stream": "stdout",
       "text": [
        "64 bytes from mrs04s09-in-f3.1e100.net (216.58.210.195): icmp_seq=2 ttl=52 time=53.2 ms\r\n"
       ]
      },
      {
       "output_type": "stream",
       "stream": "stdout",
       "text": [
        "64 bytes from mrs04s09-in-f3.1e100.net (216.58.210.195): icmp_seq=3 ttl=52 time=52.2 ms\r\n",
        "\r\n",
        "--- www.google.it ping statistics ---\r\n",
        "3 packets transmitted, 3 received, 0% packet loss, time 2003ms\r\n",
        "rtt min/avg/max/mdev = 52.204/53.242/54.305/0.878 ms\r\n"
       ]
      }
     ],
     "prompt_number": 2
    },
    {
     "cell_type": "code",
     "collapsed": false,
     "input": [
      "solution = b'CmRlZiBwaW5nX3J0dChzZWNvbmRzPTEwKToKICAgICIiIgogICAgICAgZ29hbDogc2xpY2luZyBk\\nYXRhCiAgICAgICBnb2FsOiB1c2luZyB6aXAgdG8gdHJhbnNwb3NlIGRhdGEKICAgICIiIgogICAg\\naW1wb3J0IHN5cwogICAgZnJvbSBjb3Vyc2UgaW1wb3J0IHNoCiAgICBjbWQgPSAicGluZyAtY3tz\\nZWNvbmRzfSB3d3cuZ29vZ2xlLml0IgogICAgaWYgJ3dpbicgaW4gc3lzLnBsYXRmb3JtOgogICAg\\nICAgIGNtZCA9ICJwaW5nIC1ue3NlY29uZHN9IHd3dy5nb29nbGUuaXQiCgogICAgcGluZ19vdXRw\\ndXQgPSBzaChjbWQuZm9ybWF0KHNlY29uZHM9c2Vjb25kcykpCiAgICAjIEZpbHRlciBvdXQgdW5p\\nbnRlcmVzdGluZyBsaW5lcwogICAgcGluZ19vdXRwdXQgPSBbeC5yZXBsYWNlKGIiPSIsIGIiICIp\\nIGZvciB4IGluIHBpbmdfb3V0cHV0IGlmIGInZnJvbScgaW4geF0KICAgIGlmICd3aW4nIGluIHN5\\ncy5wbGF0Zm9ybToKICAgICAgICBwaW5nX291dHB1dCA9IFt4LnNwbGl0KClbNjo6Ml0gZm9yIHgg\\naW4gcGluZ19vdXRwdXRdCiAgICBlbHNlOgogICAgICAgIHBpbmdfb3V0cHV0ID0gW3guc3BsaXQo\\nKVstNDotMToyXSBmb3IgeCBpbiBwaW5nX291dHB1dF0KICAgIHR0bCwgcnR0ID0gemlwKCpwaW5n\\nX291dHB1dCkKICAgIHJldHVybiBtYXAoZmxvYXQsIHJ0dCkKCg==\\n'\n",
      "\n",
      "# If you had issue in solving the exercise,\n",
      "# use ipython to get the data with\n",
      "def ping_rtt():\n",
      "    ret = !ping -c10 8.8.8.8\n",
      "    rtt = ret.grep(\"time=\").fields(-2)\n",
      "    rtt = [float(x[5:]) for x in rtt]\n",
      "    return rtt\n",
      "rtt = ping_rtt()\n",
      "print(*rtt)"
     ],
     "language": "python",
     "metadata": {},
     "outputs": [
      {
       "output_type": "stream",
       "stream": "stdout",
       "text": [
        "47.3 44.9 44.3 44.4 44.4 44.1 47.2 47.9 44.7 45.9\n"
       ]
      }
     ],
     "prompt_number": 3
    },
    {
     "cell_type": "markdown",
     "metadata": {},
     "source": [
      "# Distributions: set, defaultdict\n",
      "\n",
      "A distribution or $\\delta$ shows the frequency of events, like how many people ate $x$ chickens;\n"
     ]
    },
    {
     "cell_type": "code",
     "collapsed": false,
     "input": [
      "# We can generate distribution using\n",
      "from collections import defaultdict\n",
      "distro = defaultdict(int)\n",
      "# This works even if rtt is a generator\n",
      "for x in rtt:\n",
      "    distro[x] += 1\n",
      "print(distro)\n"
     ],
     "language": "python",
     "metadata": {},
     "outputs": [
      {
       "output_type": "stream",
       "stream": "stdout",
       "text": [
        "defaultdict(<type 'int'>, {45.9: 1, 47.9: 1, 44.7: 1, 47.2: 1, 44.9: 1, 44.4: 2, 44.1: 1, 44.3: 1, 47.3: 1})\n",
        "{44.4: 2, 45.9: 1, 44.7: 1, 47.2: 1, 44.9: 1, 47.9: 1, 44.1: 1, 47.3: 1, 44.3: 1}\n"
       ]
      }
     ],
     "prompt_number": 4
    },
    {
     "cell_type": "code",
     "collapsed": false,
     "input": [
      "# or list.count if rtt is in-memory\n",
      "distro2 = {x: rtt.count(x) for x in set(rtt)}\n",
      "print(distro2)\n",
      "\n",
      "# Homework: benchmark those two approaches while increasing the size of rtt\n"
     ],
     "language": "python",
     "metadata": {},
     "outputs": []
    },
    {
     "cell_type": "markdown",
     "metadata": {},
     "source": [
      "## Standard Deviation: scipy\n",
      "\n",
      " - Standard deviation or $\\sigma$ formula is\n",
      " \n",
      " $\\sigma^{2}(X) := \\frac{ \\sum(x-\\bar{x})^{2} }{n} $ \n",
      " \n",
      " - $\\sigma$ tells if $\\delta$ is fair or not, and how much the mean ($\\bar{x}$) is representative\n",
      " \n",
      " - matplotlib.mlab.normpdf is a smooth function approximating the histogram\n"
     ]
    },
    {
     "cell_type": "code",
     "collapsed": false,
     "input": [
      "from scipy import std, mean\n",
      "fair = [1, 1] # chickens\n",
      "unfair = [0, 2] # chickens\n",
      "\n",
      "# Same mean!\n",
      "assert mean(fair) == mean(unfair)"
     ],
     "language": "python",
     "metadata": {},
     "outputs": [
      {
       "output_type": "stream",
       "stream": "stdout",
       "text": [
        "0.0\n",
        "1.0\n"
       ]
      }
     ],
     "prompt_number": 5
    },
    {
     "cell_type": "code",
     "collapsed": false,
     "input": [
      "# Use standard deviation!\n",
      "print(std(fair)) # 0\n",
      "print(std(unfair)) # 1\n"
     ],
     "language": "python",
     "metadata": {},
     "outputs": []
    },
    {
     "cell_type": "code",
     "collapsed": false,
     "input": [
      "#Check your computed values vs the $\\sigma$ returned by ping\n",
      "\"\"\"\n",
      "   goal: remember to convert to numeric / float\n",
      "   goal: use scipy\n",
      "   goal: check stdev\n",
      "\"\"\"\n",
      "from scipy import std, mean # max, min are builtin\n",
      "rtt = ping_rtt()\n",
      "\n",
      "fmt_s = 'stdev: {:0.2}, mean: {}, min: {}, max: {}'\n",
      "rtt_std, rtt_mean = std(rtt), mean(rtt)\n",
      "rtt_max, rtt_min = max(rtt), min(rtt)\n",
      "print(fmt_s.format(rtt_std, rtt_mean, rtt_max, rtt_min))\n"
     ],
     "language": "python",
     "metadata": {},
     "outputs": [
      {
       "output_type": "stream",
       "stream": "stdout",
       "text": [
        "stdev: 0.8, mean: 45.45, min: 46.8, max: 44.6\n"
       ]
      }
     ],
     "prompt_number": 6
    },
    {
     "cell_type": "markdown",
     "metadata": {},
     "source": [
      "## Time Distributions: Exercise\n",
      "\n",
      " - parse the provided data/maillog file in ipython using its !magic\n",
      " - get an hourly email $\\delta$\n",
      " - expected output:\n",
      " \n",
      "```\n",
      "time_d = { # mail delivered (eg. removed) between\n",
      "    0: xxx # 00:00 - 00:59\n",
      "    1: xxx # 01:00 - 01:59\n",
      "    ...\n",
      "```"
     ]
    },
    {
     "cell_type": "code",
     "collapsed": false,
     "input": [
      "#\n",
      "# Time distribution exercise frame\n",
      "#\n",
      "solution = \"cmV0ID0gIWdyZXAgcmVtb3ZlZCBkYXRhL21haWxsb2cKaG91cnMgPSBbeFs6Ml0gZm9yIHggaW4g\\ncmV0LmZpZWxkcygyKV0K\"\n",
      "from course import show_solution\n",
      "show_solution(solution)\n",
      "\n",
      "ret = !grep removed data/maillog\n",
      "hours = [int(x[:2]) for x in ret.fields(2)]\n",
      "print(hours[:10], \"..\")\n",
      "time_d = {h: hours.count(h) for h in set(hours)}"
     ],
     "language": "python",
     "metadata": {},
     "outputs": [
      {
       "output_type": "stream",
       "stream": "stdout",
       "text": [
        "ret = !grep removed data/maillog\n",
        "hours = [x[:2] for x in ret.fields(2)]\n",
        "\n"
       ]
      },
      {
       "output_type": "stream",
       "stream": "stdout",
       "text": [
        "[0, 0, 0, 0, 0, 0, 1, 1, 1, 1] ..\n"
       ]
      }
     ],
     "prompt_number": 17
    },
    {
     "cell_type": "markdown",
     "metadata": {},
     "source": [
      "## Plotting distributions\n"
     ]
    },
    {
     "cell_type": "code",
     "collapsed": false,
     "input": [
      "# To plot data..\n",
      "from matplotlib import pyplot as plt\n",
      "# and set the interactive mode\n",
      "plt.ion()\n",
      "\n",
      "# Plotting an histogram...\n",
      "frequency, slots, _ = hist(hours)\n",
      "plt.title(\"Hourly distribution\")"
     ],
     "language": "python",
     "metadata": {},
     "outputs": [
      {
       "metadata": {},
       "output_type": "pyout",
       "prompt_number": 81,
       "text": [
        "<matplotlib.text.Text at 0x7f5c25763990>"
       ]
      },
      {
       "metadata": {},
       "output_type": "display_data",
       "png": "[encoded data removed]",
       "text": [
        "<matplotlib.figure.Figure at 0x7f5c2615f0d0>"
       ]
      }
     ],
     "prompt_number": 81
    },
    {
     "cell_type": "code",
     "collapsed": false,
     "input": [
      "# .. returns a\n",
      "from collections import OrderedDict\n",
      "distribution = OrderedDict(zip(slots,\n",
      "    frequency))\n",
      "\n"
     ],
     "language": "python",
     "metadata": {},
     "outputs": [],
     "prompt_number": 82
    },
    {
     "cell_type": "code",
     "collapsed": false,
     "input": [
      "# Print it nicely with\n",
      "import json\n",
      "print(json.dumps(distribution, indent=1))\n"
     ],
     "language": "python",
     "metadata": {},
     "outputs": [
      {
       "output_type": "stream",
       "stream": "stdout",
       "text": [
        "{\n",
        " \"0.0\": 17.0, \n",
        " \"2.2999999999999998\": 11.0, \n",
        " \"4.5999999999999996\": 12.0, \n",
        " \"6.8999999999999995\": 15.0, \n",
        " \"9.1999999999999993\": 26.0, \n",
        " \"11.5\": 26.0, \n",
        " \"13.799999999999999\": 24.0, \n",
        " \"16.099999999999998\": 473.0, \n",
        " \"18.399999999999999\": 521.0, \n",
        " \"20.699999999999999\": 786.0\n",
        "}\n"
       ]
      }
     ],
     "prompt_number": 83
    },
    {
     "cell_type": "markdown",
     "metadata": {},
     "source": [
      "## Size distribution: Exercise\n",
      "\n",
      "  - Create a size $\\delta$ from the previous maillog using hist(..., bins=...)\n",
      "  - Hint: help(hist)\n",
      "        \n",
      "```\n",
      "    size_d = {  # mail size between\n",
      "    0: xxx  #  0 - 10k\n",
      "    1: xxx  #  10k - 20k\n",
      "    ..\n",
      "    }\n",
      "```\n",
      "\n",
      "  - Homework: Use the size $\\delta$ to find size\\_mean and size\\_sigma and compare with $\\sigma$ and mean evaluated from the original data-series\n",
      "    \n"
     ]
    },
    {
     "cell_type": "code",
     "collapsed": false,
     "input": [
      "#\n",
      "# Exercise frame\n",
      "#"
     ],
     "language": "python",
     "metadata": {},
     "outputs": []
    },
    {
     "cell_type": "markdown",
     "metadata": {},
     "source": [
      "# Simulating data with $\\sigma$ and $\\bar{x}$\n",
      "\n",
      "  - Mean and a stdev are useful starting point to simulate data using the gaussian distribution.\n"
     ]
    },
    {
     "cell_type": "code",
     "collapsed": false,
     "input": [
      "# Get the sigma_size from maillog\n",
      "solution = b'CnJldCA9ICFncmVwIHNpemUgZGF0YS9tYWlsbG9nCnNpemVzID0gW2ludCh4WzU6LTFdKSBmb3Ig\\neCBpbiByZXQuZmllbGRzKDcpXQoK\\n'\n",
      "from course import show_solution\n",
      "# show_solution(solution)\n",
      "def maillog_size():\n",
      "    ret = !grep size data/maillog\n",
      "    sizes = [int(x[5:-1]) for x in ret.fields(7)]\n",
      "    return sizes\n",
      "\n",
      "sizes = maillog_size()\n"
     ],
     "language": "python",
     "metadata": {
      "slideshow": {
       "slide_type": "-"
      }
     },
     "outputs": [],
     "prompt_number": 84
    },
    {
     "cell_type": "code",
     "collapsed": false,
     "input": [
      "plt.hist(sizes, bins=5)"
     ],
     "language": "python",
     "metadata": {},
     "outputs": [
      {
       "metadata": {},
       "output_type": "pyout",
       "prompt_number": 184,
       "text": [
        "(array([ 1882.,     0.,     0.,     0.,    44.]),\n",
        " array([    465. ,   47936.2,   95407.4,  142878.6,  190349.8,  237821. ]),\n",
        " <a list of 5 Patch objects>)"
       ]
      },
      {
       "metadata": {},
       "output_type": "display_data",
       "png": "[encoded data removed]",
       "text": [
        "<matplotlib.figure.Figure at 0x7f5c23eb1710>"
       ]
      }
     ],
     "prompt_number": 184
    },
    {
     "cell_type": "code",
     "collapsed": false,
     "input": [
      "\n",
      "# We can use our time_d to simulate the load during the day\n",
      "from time import localtime\n",
      "hour = localtime().tm_hour\n",
      "mail_per_minute = time_d[hour] / 60 # minutes in hour\n",
      "\n"
     ],
     "language": "python",
     "metadata": {},
     "outputs": [],
     "prompt_number": 159
    },
    {
     "cell_type": "code",
     "collapsed": false,
     "input": [
      "# And sizes to create a mail load generator\n",
      "mean_size, sigma_size = mean(sizes), std(sizes)\n",
      "print(mean_size, sigma_size)\n",
      "\n"
     ],
     "language": "python",
     "metadata": {},
     "outputs": [
      {
       "output_type": "stream",
       "stream": "stdout",
       "text": [
        "11810.7814123 34065.1257772\n"
       ]
      }
     ],
     "prompt_number": 172
    },
    {
     "cell_type": "code",
     "collapsed": false,
     "input": [
      "# A mail load generator creating attachments of a given size...\n",
      "from random import gauss\n",
      "def mail_size_g():\n",
      "    mu = min(sizes)\n",
      "    x = gauss(mean_size, sigma_size) # a random number\n",
      "    # as gaussian can give negative numbers\n",
      "    # we should ceil up (or skip) negative values\n",
      "    return x if x > mu else mu"
     ],
     "language": "python",
     "metadata": {},
     "outputs": []
    },
    {
     "cell_type": "code",
     "collapsed": false,
     "input": [
      "# How is our estimation far from reality?\n",
      "for emails in 5000, 10000, 100000:\n",
      "    X = [mail_size_g() for x in xrange(emails)]\n",
      "    print(emails, mean(X) / mean_size, std(X) / sigma_size)\n",
      "\n",
      "# Homework: write a script to simulate the load of your mailserver and tweak your mail_size_g\n",
      "# Hint: create a set of attachment files: 1k.out, 10k.out, 100k.out, 1000k.out, 5000k.out\n",
      "# Hint: use mail_size_g() to select one of those files instead of creating a given email"
     ],
     "language": "python",
     "metadata": {},
     "outputs": [
      {
       "output_type": "stream",
       "stream": "stdout",
       "text": [
        "5000 1.74909103269 0.693572723747\n",
        "10000"
       ]
      },
      {
       "output_type": "stream",
       "stream": "stdout",
       "text": [
        " 1.72167319117 0.695514866965\n",
        "100000"
       ]
      },
      {
       "output_type": "stream",
       "stream": "stdout",
       "text": [
        " 1.74520052461 0.695632555315\n"
       ]
      }
     ],
     "prompt_number": 190
    },
    {
     "cell_type": "markdown",
     "metadata": {},
     "source": [
      "# Linear Correlation\n"
     ]
    },
    {
     "cell_type": "code",
     "collapsed": false,
     "input": [
      "# Let's plot the following datasets\n",
      "#  taken from a 4-hour distribution\n",
      "mail_sent = [1, 5, 500, 250, 100, 7]\n",
      "kB_s = [70, 300, 29000, 12500, 450, 500]\n",
      "\n",
      "# A scatter plot can suggest relations\n",
      "#  between data\n",
      "plt.scatter(mail_sent, kB_s)\n",
      "plt.title(\"I am a SCATTER plot!\")"
     ],
     "language": "python",
     "metadata": {},
     "outputs": [
      {
       "metadata": {},
       "output_type": "pyout",
       "prompt_number": 22,
       "text": [
        "<matplotlib.text.Text at 0x7f5c2d9711d0>"
       ]
      },
      {
       "metadata": {},
       "output_type": "display_data",
       "png": "[encoded data removed]",
       "text": [
        "<matplotlib.figure.Figure at 0x7f5c4d7f7490>"
       ]
      }
     ],
     "prompt_number": 22
    },
    {
     "cell_type": "markdown",
     "metadata": {},
     "source": [
      "# Linear Correlation\n",
      "\n",
      "The Pearson Coefficient $\\rho$ is a relation indicator.\n",
      "\n",
      "-  no relation\n",
      "-  direct relation (both dataset increase together)\n",
      "-  inverse relation (one increase as the other decrease)\n",
      "\n",
      "\\begin{equation}\n",
      "\\rho(X,Y) = \\frac{\n",
      "    \\sum (x-\\bar{x})(y-\\bar{y})\n",
      "    }{\n",
      "    \\sqrt{\\sum (x - \\bar{x})^{2}}\\sqrt{\\sum (y - \\bar{y})^{2}}\n",
      "}\n",
      "\\end{equation}\n"
     ]
    },
    {
     "cell_type": "code",
     "collapsed": false,
     "input": [
      "from scipy.stats.stats import pearsonr\n",
      "ret = pearsonr(mail_sent, kB_s)\n",
      "print(ret)\n",
      "#>(0.9823, 0.0004)\n",
      "correlation, probability = ret\n"
     ],
     "language": "python",
     "metadata": {},
     "outputs": [
      {
       "output_type": "stream",
       "stream": "stdout",
       "text": [
        "(0.98257763778173501, 0.00045266387726145089)\n"
       ]
      }
     ],
     "prompt_number": 23
    },
    {
     "cell_type": "markdown",
     "metadata": {},
     "source": [
      "# You must (scatter) plot!\n",
      "\n",
      "## $\\rho$ does not detect non-linear correlation\n",
      "<img src=\"http://upload.wikimedia.org/wikipedia/commons/thumb/d/d4/Correlation_examples2.svg/506px-Correlation_examples2.svg.png\" />"
     ]
    },
    {
     "cell_type": "markdown",
     "metadata": {},
     "source": [
      "# Combinations\n",
      "\n",
      "*a way of selecting members from a grouping, such that \n",
      "the order of selection does not matter*\n",
      "\n",
      " ## Combinations vs Permutations\n",
      " -  expressed by the binomial coefficient $\\binom{n}{k}$\n",
      " -  different from Permutations where order matters (expressed by factorial $n!$)\n",
      " -  Permutations are more than Combinations - as the \"Per\" prefix says :D\n",
      " \n",
      " \n",
      " ## Combining 4 suites, 2 at a time\n",
      " \n",
      "  1. ('\u2660', '\u2661')\n",
      "  2. ('\u2660', '\u2662')\n",
      "  3. ('\u2660', '\u2663')\n",
      "  4. ('\u2661', '\u2662')\n",
      "  5. ('\u2661', '\u2663')\n",
      "  6. ('\u2662', '\u2663')\n"
     ]
    },
    {
     "cell_type": "code",
     "collapsed": false,
     "input": [
      "# Given a table with many data series\n",
      "from course import table\n",
      "#table = {...\n",
      "#  'cpu_usr': [10, 23, 55, ..],\n",
      "#  'byte_in': [2132, 3212, 3942, ..], \n",
      "# }\n",
      "print(table.keys())\n",
      "\n",
      "# We can combine all their names with\n",
      "from itertools import combinations\n",
      "list(combinations(table,2))[:10]\n"
     ],
     "language": "python",
     "metadata": {},
     "outputs": [
      {
       "output_type": "stream",
       "stream": "stdout",
       "text": [
        "[u'swap_out', u'cpu_usr', u'byte_out', u'cpu_wait', u'swap_in', u'byte_in', u'irq', u'cache', u'cpu_id', u'cpu_sys', u'csw', u'buff']\n"
       ]
      },
      {
       "metadata": {},
       "output_type": "pyout",
       "prompt_number": 26,
       "text": [
        "[(u'swap_out', u'cpu_usr'),\n",
        " (u'swap_out', u'byte_out'),\n",
        " (u'swap_out', u'cpu_wait'),\n",
        " (u'swap_out', u'swap_in'),\n",
        " (u'swap_out', u'byte_in'),\n",
        " (u'swap_out', u'irq'),\n",
        " (u'swap_out', u'cache'),\n",
        " (u'swap_out', u'cpu_id'),\n",
        " (u'swap_out', u'cpu_sys'),\n",
        " (u'swap_out', u'csw')]"
       ]
      }
     ],
     "prompt_number": 26
    },
    {
     "cell_type": "code",
     "collapsed": false,
     "input": [
      "# netfishing_correlation\n",
      "\n",
      "# We can try every combination between data series \n",
      "# and chek if there's some correlation\n",
      "from itertools import combinations\n",
      "from scipy.stats.stats import pearsonr\n",
      "from course import table\n",
      "\n",
      "for k1, k2 in combinations(table, 2):\n",
      "    r_coeff, probability = pearsonr(table[k1], table[k2])\n",
      "    \n",
      "    # I'm *still* not interested in data under this threeshol\n",
      "    if r_coeff < 0.6:\n",
      "        continue\n",
      "        \n",
      "    print(\"linear correlation between {} and {} is {}\".format(\n",
      "        k1, k2, r_coeff))\n",
      "\n"
     ],
     "language": "python",
     "metadata": {},
     "outputs": [
      {
       "output_type": "stream",
       "stream": "stdout",
       "text": [
        "linear correlation between cpu_wait and byte_in is 0.68140970936\n",
        "linear correlation between cpu_wait and irq is 0.694233857902\n",
        "linear correlation between cpu_wait and buff is 0.795312316383\n",
        "linear correlation between byte_in and irq is 0.867031877805\n",
        "linear correlation between byte_in and csw is 0.832882152364\n",
        "linear correlation between irq and csw is 0.858848359799\n"
       ]
      }
     ],
     "prompt_number": 30
    },
    {
     "cell_type": "code",
     "collapsed": false,
     "input": [
      "# Correlating I/O and Context Switch\n",
      "samples = len(table['byte_in'])\n",
      "# scale samples on 24 hours\n",
      "ticks = []\n",
      "for x in range(0, 24, 8):\n",
      "    ticks.extend([x] * int(samples / 3))\n",
      "    \n",
      "print(ticks)\n"
     ],
     "language": "python",
     "metadata": {},
     "outputs": [
      {
       "output_type": "stream",
       "stream": "stdout",
       "text": [
        "[0, 0, 0, 0, 0, 0, 0, 0, 0, 0, 0, 0, 0, 0, 0, 0, 0, 0, 0, 0, 0, 0, 0, 8, 8, 8, 8, 8, 8, 8, 8, 8, 8, 8, 8, 8, 8, 8, 8, 8, 8, 8, 8, 8, 8, 8, 16, 16, 16, 16, 16, 16, 16, 16, 16, 16, 16, 16, 16, 16, 16, 16, 16, 16, 16, 16, 16, 16, 16]\n"
       ]
      }
     ],
     "prompt_number": 80
    },
    {
     "cell_type": "code",
     "collapsed": false,
     "input": [
      "# Create \n",
      "plt.scatter(table['byte_in'], table['csw'], c=ticks)\n",
      "formatter = plt.FuncFormatter(lambda i, *args: \"morning afternoon night\".split()[i//8])\n",
      "\n",
      "plt.colorbar(ticks = range(0, 28, 8), format=formatter)\n"
     ],
     "language": "python",
     "metadata": {},
     "outputs": [
      {
       "metadata": {},
       "output_type": "pyout",
       "prompt_number": 201,
       "text": [
        "<matplotlib.colorbar.Colorbar instance at 0x7f5c2325d1b8>"
       ]
      },
      {
       "metadata": {},
       "output_type": "display_data",
       "png": "[encoded data removed]",
       "text": [
        "<matplotlib.figure.Figure at 0x7f5c237b8990>"
       ]
      }
     ],
     "prompt_number": 201
    },
    {
     "cell_type": "code",
     "collapsed": false,
     "input": [
      "from scipy import arange\n",
      "set(map(int, arange(0, 3, 1/samples)))"
     ],
     "language": "python",
     "metadata": {},
     "outputs": [
      {
       "metadata": {},
       "output_type": "pyout",
       "prompt_number": 52,
       "text": [
        "{0, 1, 2}"
       ]
      }
     ],
     "prompt_number": 52
    },
    {
     "cell_type": "code",
     "collapsed": false,
     "input": [
      "#netfishing_correlation_plot():\n",
      "from itertools import combinations, cycle\n",
      "from scipy.stats.stats import pearsonr\n",
      "from course import table\n",
      "from matplotlib import pyplot as plt\n",
      "for (k1, v1), (k2,v2) in combinations(table.items(), 2):\n",
      "    r_coeff, probability = pearsonr(table[k1], table[k2])\n",
      "    if r_coeff < 0.6:\n",
      "        continue\n",
      "    plt.scatter(v1, v2)\n",
      "    plt.xlabel(k1); plt.ylabel(k2)\n",
      "    plt.title(\"r={:0.3f} p={:0.3f}\".format(r_coeff, probability))\n",
      "    plt.savefig(\"monochromo_{}_{}.png\".format(k1, k2))\n",
      "    plt.close()\n",
      "\n",
      "\n"
     ],
     "language": "python",
     "metadata": {},
     "outputs": [],
     "prompt_number": 29
    },
    {
     "cell_type": "code",
     "collapsed": false,
     "input": [
      "netfishing_correlation_colored_plot():\n",
      "    from itertools import combinations, cycle\n",
      "    from scipy.stats.stats import pearsonr\n",
      "    from course import table, in_chunks\n",
      "    from matplotlib import pyplot as plt\n",
      "    max_color, nbins = 1<<23, 12\n",
      "    colors = cycle('#'+format(x, '06X')  for x in range(0, max_color, max_color / nbins))\n",
      "\n",
      "    for (k1, v1), (k2,v2) in combinations(table.items(), 2):\n",
      "        r_coeff, probability = pearsonr(table[k1], table[k2])\n",
      "        if r_coeff < 0.6:\n",
      "            continue\n",
      "        l = len(v1) / nbins\n",
      "        chunks = zip(in_chunks(v1, l), in_chunks(v2, l))\n",
      "        [ plt.scatter(c1, c2, color=next(colors)) for c1, c2 in chunks ]\n",
      "        plt.xlabel(k1); plt.ylabel(k2)\n",
      "        plt.title(\"r={:0.3f} p={:0.3f}\".format(r_coeff, probability))\n",
      "        plt.savefig(\"tmp_{}_{}.png\".format(k1, k2))\n",
      "        plt.close()\n",
      "\n",
      "\n"
     ],
     "language": "python",
     "metadata": {},
     "outputs": [
      {
       "output_type": "stream",
       "stream": "stdout",
       "text": [
        "1\n"
       ]
      }
     ],
     "prompt_number": 1
    },
    {
     "cell_type": "markdown",
     "metadata": {},
     "source": [
      "## Exercise solutions"
     ]
    },
    {
     "cell_type": "code",
     "collapsed": false,
     "input": [
      "from __future__ import print_function, unicode_literals\n",
      "def ping_rtt(seconds=10):\n",
      "    \"\"\"\n",
      "       goal: slicing data\n",
      "       goal: using zip to transpose data\n",
      "    \"\"\"\n",
      "    import sys\n",
      "    from course import sh\n",
      "    cmd = \"ping -c{seconds} www.google.it\"\n",
      "    if 'win' in sys.platform:\n",
      "        cmd = \"ping -n{seconds} www.google.it\"\n",
      "\n",
      "    ping_output = sh(cmd.format(seconds=seconds))\n",
      "    # Filter out uninteresting lines\n",
      "    ping_output = [x.replace(b\"=\", b\" \") for x in ping_output if b'from' in x]\n",
      "    if 'win' in sys.platform:\n",
      "        ping_output = [x.split()[6::2] for x in ping_output]\n",
      "    else:\n",
      "        ping_output = [x.split()[-4:-1:2] for x in ping_output]\n",
      "    ttl, rtt = zip(*ping_output)\n",
      "    return map(float, rtt)\n",
      "\n",
      "print(*ping_rtt(3))\n"
     ],
     "language": "python",
     "metadata": {},
     "outputs": [
      {
       "output_type": "stream",
       "stream": "stdout",
       "text": [
        "52.8 53.0 58.3\n"
       ]
      }
     ],
     "prompt_number": 8
    },
    {
     "cell_type": "code",
     "collapsed": false,
     "input": [
      "# Exercise II solution\n",
      "# deliveder emails are like the following\n",
      "#May 14 16:00:04 rpolli postfix/qmgr[122]: 4DC3DA: removed\"\n",
      "\n",
      "ret = !grep removed maillog # get the interesting lines\n",
      "\n",
      "ts = ret.fields(2) # find the timestamp (3rd column)\n",
      "\n",
      "hours = [ int(ts)  for x in ts ]\n",
      "time_d = {x: hours.count(x) for x in set(hours)}\n"
     ],
     "language": "python",
     "metadata": {},
     "outputs": []
    }
   ],
   "metadata": {}
  }
 ]
}