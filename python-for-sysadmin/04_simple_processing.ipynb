{
 "metadata": {
  "name": ""
 },
 "nbformat": 3,
 "nbformat_minor": 0,
 "worksheets": [
  {
   "cells": [
    {
     "cell_type": "markdown",
     "metadata": {},
     "source": [
      "# Simple Processing\n",
      "\n",
      "Goals:\n",
      "\n",
      "  - Handle gathered data with dict() and zip()\n",
      "  -  Find data relation with scipy\n",
      "  - Get essential information like standard deviation $\\sigma$ and distributions $\\delta$\n",
      "  - Linear correlation: what's that, when can help\n",
      "  - Plotting\n",
      "\n",
      "modules:\n",
      "  - numpy, scipy, scipy.stats.stats, collections, random, time\n",
      "\n",
      "\n"
     ]
    },
    {
     "cell_type": "code",
     "collapsed": false,
     "input": [
      "# This lesson requires the following modules\n",
      "from __future__ import unicode_literals, print_function, division\n",
      "\n",
      "# And %pylab features\n",
      "%pylab\n",
      "\n",
      "# Show plots into browser\n",
      "%matplotlib inline"
     ],
     "language": "python",
     "metadata": {},
     "outputs": [
      {
       "output_type": "stream",
       "stream": "stdout",
       "text": [
        "Using matplotlib backend: TkAgg\n",
        "Populating the interactive namespace from numpy and matplotlib\n"
       ]
      }
     ],
     "prompt_number": 16
    },
    {
     "cell_type": "markdown",
     "metadata": {},
     "source": [
      "## The Chicken Paradox\n",
      "\n",
      "*\"According to latest statistics,  \n",
      "it appears that you eat one chicken per year:  \n",
      "and, if that doesn't fit your budget,  \n",
      "you'll fit into statistic anyway,  \n",
      "because someone will eat two.\"*\n",
      "\n",
      " C. A. Salustri  (1871 \u2013 1950)\n"
     ]
    },
    {
     "cell_type": "markdown",
     "metadata": {},
     "source": [
      "# How to dismantle the Chicken Paradox (Exercise)\n",
      "\n",
      " - Gather data!\n",
      " - Write the following function using our parsing strategy\n",
      " \n",
      "```\n",
      "def ping_rtt(seconds=10):\n",
      "    \"\"\"@return: a list of ping RTT\"\"\"\n",
      "    from course import sh\n",
      "    # get sample output\n",
      "    # find a solution in ipython\n",
      "    # test and paste the code\n",
      "    raise NotImplementedError\n",
      "```\n",
      "    \n",
      "  - Gather 10 seconds of ping output\n",
      "  - Hints: reuse sh function \n",
      "  - Hints: slice and filter lists using comprehension\n",
      "\n",
      "\n",
      "\n",
      "\n",
      "\n"
     ]
    },
    {
     "cell_type": "code",
     "collapsed": false,
     "input": [
      "#\n",
      "# Exercise: use this frame for the exercise\n",
      "#\n",
      "def ping_rtt(seconds=10):\n",
      "    \"\"\"@return: a list of ping RTT\"\"\"\n",
      "    from course import sh\n",
      "    # get sample output\n",
      "    # find a solution in ipython\n",
      "    # test and paste the code\n",
      "    raise NotImplementedError\n",
      "\n",
      "!ping -c3 www.google.it || ping -n3 www.google.it\n",
      "\n"
     ],
     "language": "python",
     "metadata": {},
     "outputs": [
      {
       "output_type": "stream",
       "stream": "stdout",
       "text": [
        "PING www.google.it (216.58.210.195) 56(84) bytes of data.\r\n"
       ]
      },
      {
       "output_type": "stream",
       "stream": "stdout",
       "text": [
        "64 bytes from mrs04s09-in-f3.1e100.net (216.58.210.195): icmp_seq=1 ttl=52 time=113 ms\r\n"
       ]
      },
      {
       "output_type": "stream",
       "stream": "stdout",
       "text": [
        "64 bytes from mrs04s09-in-f3.1e100.net (216.58.210.195): icmp_seq=2 ttl=52 time=52.7 ms\r\n"
       ]
      },
      {
       "output_type": "stream",
       "stream": "stdout",
       "text": [
        "64 bytes from mrs04s09-in-f3.1e100.net (216.58.210.195): icmp_seq=3 ttl=52 time=87.0 ms\r\n",
        "\r\n",
        "--- www.google.it ping statistics ---\r\n",
        "3 packets transmitted, 3 received, 0% packet loss, time 2003ms\r\n",
        "rtt min/avg/max/mdev = 52.779/84.294/113.007/24.667 ms\r\n"
       ]
      }
     ],
     "prompt_number": 4
    },
    {
     "cell_type": "code",
     "collapsed": false,
     "input": [
      "solution = b'CmRlZiBwaW5nX3J0dChzZWNvbmRzPTEwKToKICAgICIiIgogICAgICAgZ29hbDogc2xpY2luZyBk\\nYXRhCiAgICAgICBnb2FsOiB1c2luZyB6aXAgdG8gdHJhbnNwb3NlIGRhdGEKICAgICIiIgogICAg\\naW1wb3J0IHN5cwogICAgZnJvbSBjb3Vyc2UgaW1wb3J0IHNoCiAgICBjbWQgPSAicGluZyAtY3tz\\nZWNvbmRzfSB3d3cuZ29vZ2xlLml0IgogICAgaWYgJ3dpbicgaW4gc3lzLnBsYXRmb3JtOgogICAg\\nICAgIGNtZCA9ICJwaW5nIC1ue3NlY29uZHN9IHd3dy5nb29nbGUuaXQiCgogICAgcGluZ19vdXRw\\ndXQgPSBzaChjbWQuZm9ybWF0KHNlY29uZHM9c2Vjb25kcykpCiAgICAjIEZpbHRlciBvdXQgdW5p\\nbnRlcmVzdGluZyBsaW5lcwogICAgcGluZ19vdXRwdXQgPSBbeC5yZXBsYWNlKGIiPSIsIGIiICIp\\nIGZvciB4IGluIHBpbmdfb3V0cHV0IGlmIGInZnJvbScgaW4geF0KICAgIGlmICd3aW4nIGluIHN5\\ncy5wbGF0Zm9ybToKICAgICAgICBwaW5nX291dHB1dCA9IFt4LnNwbGl0KClbNjo6Ml0gZm9yIHgg\\naW4gcGluZ19vdXRwdXRdCiAgICBlbHNlOgogICAgICAgIHBpbmdfb3V0cHV0ID0gW3guc3BsaXQo\\nKVstNDotMToyXSBmb3IgeCBpbiBwaW5nX291dHB1dF0KICAgIHR0bCwgcnR0ID0gemlwKCpwaW5n\\nX291dHB1dCkKICAgIHJldHVybiBtYXAoZmxvYXQsIHJ0dCkKCg==\\n'\n",
      "\n",
      "# If you had issue in solving the exercise,\n",
      "# use ipython to get the data with\n",
      "def ping_rtt():\n",
      "    ret = !ping -c10 8.8.8.8\n",
      "    rtt = ret.grep(\"time=\").fields(-2)\n",
      "    rtt = [float(x[5:]) for x in rtt]\n",
      "    return rtt\n",
      "rtt = ping_rtt()\n",
      "print(*rtt)"
     ],
     "language": "python",
     "metadata": {},
     "outputs": [
      {
       "output_type": "stream",
       "stream": "stdout",
       "text": [
        "49.5 44.6 56.6 44.8 45.0 115.0 127.0 127.0 65.9 44.8\n"
       ]
      }
     ],
     "prompt_number": 5
    },
    {
     "cell_type": "markdown",
     "metadata": {},
     "source": [
      "# Distributions: set, defaultdict\n",
      "\n",
      "A distribution or $\\delta$ shows the frequency of events, like how many people ate $x$ chickens;\n"
     ]
    },
    {
     "cell_type": "code",
     "collapsed": false,
     "input": [
      "# We can generate distribution using\n",
      "from collections import defaultdict\n",
      "distro = defaultdict(int)\n",
      "# This works even if rtt is a generator\n",
      "for x in rtt:\n",
      "    distro[x] += 1\n",
      "print(distro)\n",
      "\n",
      "# or list.count if rtt is in-memory\n",
      "distro2 = {x: rtt.count(x) for x in set(rtt)}\n",
      "print(distro2)\n",
      "\n",
      "# Homework: benchmark those two approaches while increasing the size of rtt\n"
     ],
     "language": "python",
     "metadata": {},
     "outputs": [
      {
       "output_type": "stream",
       "stream": "stdout",
       "text": [
        "defaultdict(<type 'int'>, {228.0: 1, 203.0: 1, 237.0: 1, 208.0: 1, 274.0: 1, 245.0: 1, 247.0: 1, 219.0: 1, 348.0: 1})\n",
        "{228.0: 1, 203.0: 1, 237.0: 1, 208.0: 1, 274.0: 1, 245.0: 1, 247.0: 1, 219.0: 1, 348.0: 1}\n"
       ]
      }
     ],
     "prompt_number": 5
    },
    {
     "cell_type": "markdown",
     "metadata": {},
     "source": [
      "# Standard Deviation: scipy\n",
      "\n",
      " - Standard deviation or $\\sigma$ formula is\n",
      " \n",
      " $\\sigma^{2}(X) := \\frac{ \\sum(x-\\bar{x})^{2} }{n} $ \n",
      " \n",
      " - $\\sigma$ tells if $\\delta$ is fair or not, and how much the mean ($\\bar{x}$) is representative\n",
      " \n",
      " - matplotlib.mlab.normpdf is a smooth function approximating the histogram\n"
     ]
    },
    {
     "cell_type": "code",
     "collapsed": false,
     "input": [
      "from scipy import std, mean\n",
      "fair = [1, 1] # chickens\n",
      "unfair = [0, 2] # chickens\n",
      "\n",
      "# Same mean!\n",
      "assert mean(fair) == mean(unfair)\n",
      "\n",
      "# Use standard deviation!\n",
      "print(std(fair)) # 0\n",
      "print(std(unfair)) # 1\n"
     ],
     "language": "python",
     "metadata": {},
     "outputs": [
      {
       "output_type": "stream",
       "stream": "stdout",
       "text": [
        "0.0\n",
        "1.0\n"
       ]
      }
     ],
     "prompt_number": 6
    },
    {
     "cell_type": "code",
     "collapsed": false,
     "input": [
      "#Check your computed values vs the $\\sigma$ returned by ping\n",
      "\"\"\"\n",
      "   goal: remember to convert to numeric / float\n",
      "   goal: use scipy\n",
      "   goal: check stdev\n",
      "\"\"\"\n",
      "from scipy import std, mean # max, min are builtin\n",
      "rtt = ping_rtt()\n",
      "fmt_s = 'stdev: {:0.2}, mean: {}, min: {}, max: {}'\n",
      "rtt_std, rtt_mean = std(rtt), mean(rtt)\n",
      "rtt_max, rtt_min = max(rtt), min(rtt)\n",
      "print(fmt_s.format(rtt_std, rtt_mean, rtt_max, rtt_min))\n"
     ],
     "language": "python",
     "metadata": {},
     "outputs": [
      {
       "output_type": "stream",
       "stream": "stdout",
       "text": [
        "stdev: 1.9e+01, mean: 220.4, min: 261.0, max: 190.0\n"
       ]
      }
     ],
     "prompt_number": 7
    },
    {
     "cell_type": "markdown",
     "metadata": {},
     "source": [
      "# Time Distributions: Exercise\n",
      "\n",
      " - parse the provided maillog in ipython using its !magic\n",
      " - get an hourly email $\\delta$\n",
      " - expected output:\n",
      " \n",
      "```\n",
      "time_d = { # mail delivered (eg. removed) between\n",
      "    0: xxx # 00:00 - 00:59\n",
      "    1: xxx # 01:00 - 01:59\n",
      "    ...\n",
      "```"
     ]
    },
    {
     "cell_type": "code",
     "collapsed": false,
     "input": [
      "#\n",
      "# Time distribution exercise frame\n",
      "#\n",
      "solution = \"cmV0ID0gIWdyZXAgcmVtb3ZlZCBkYXRhL21haWxsb2cKaG91cnMgPSBbeFs6Ml0gZm9yIHggaW4g\\ncmV0LmZpZWxkcygyKV0K\"\n",
      "from course import show_solution\n",
      "show_solution(solution)\n",
      "\n",
      "ret = !grep removed ../data/maillog\n",
      "hours = [int(x[:2]) for x in ret.fields(2)]\n",
      "print(hours[:10], \"..\")"
     ],
     "language": "python",
     "metadata": {},
     "outputs": [
      {
       "output_type": "stream",
       "stream": "stdout",
       "text": [
        "ret = !grep removed data/maillog\n",
        "hours = [x[:2] for x in ret.fields(2)]\n",
        "\n"
       ]
      },
      {
       "output_type": "stream",
       "stream": "stdout",
       "text": [
        "[0, 0, 0, 0, 0, 0, 1, 1, 1, 1] ..\n"
       ]
      }
     ],
     "prompt_number": 14
    },
    {
     "cell_type": "markdown",
     "metadata": {},
     "source": [
      "# Plotting distributions\n"
     ]
    },
    {
     "cell_type": "code",
     "collapsed": false,
     "input": [
      "# To plot data..\n",
      "from matplotlib import pyplot as plt\n",
      "# and set the interactive mode\n",
      "plt.ion()\n",
      "\n",
      "# Plotting an histogram...\n",
      "frequency, slots, _ = hist(hours)\n",
      "\n",
      "# .. returns a\n",
      "from collections import OrderedDict\n",
      "distribution = OrderedDict(zip(slots,\n",
      "    frequency))\n",
      "\n",
      "# Print it nicely with\n",
      "import json\n",
      "print(json.dumps(distribution, indent=1))\n"
     ],
     "language": "python",
     "metadata": {},
     "outputs": [
      {
       "output_type": "stream",
       "stream": "stdout",
       "text": [
        "{\n",
        " \"0.0\": 17.0, \n",
        " \"2.3999999999999999\": 11.0, \n",
        " \"4.7999999999999998\": 17.0, \n",
        " \"7.1999999999999993\": 10.0, \n",
        " \"9.5999999999999996\": 26.0, \n",
        " \"12.0\": 37.0, \n",
        " \"14.399999999999999\": 13.0, \n",
        " \"16.800000000000001\": 734.0, \n",
        " \"19.199999999999999\": 524.0, \n",
        " \"21.599999999999998\": 523.0\n",
        "}\n"
       ]
      },
      {
       "metadata": {},
       "output_type": "display_data",
       "png": "[encoded data removed]",
       "text": [
        "<matplotlib.figure.Figure at 0x7feb26cee110>"
       ]
      }
     ],
     "prompt_number": 31
    },
    {
     "cell_type": "code",
     "collapsed": false,
     "input": [
      "# Size distribution: Exercise\n"
     ],
     "language": "python",
     "metadata": {},
     "outputs": []
    },
    {
     "cell_type": "code",
     "collapsed": false,
     "input": [
      "netfishing_correlation():\n",
      "    from itertools import combinations\n",
      "    from scipy.stats.stats import pearsonr\n",
      "    from course import table\n",
      "    \"\"\"table = {\n",
      "        'cpu_percent': [10, 23, 55, ...]\n",
      "        'iops': [2132, 3212, 3942, ...]\n",
      "        'netio': [1.32e+9, 1.45e+9, ...]\n",
      "    }\n",
      "    \"\"\"\n",
      "    for k1, k2 in combinations(table, 2):\n",
      "        r_coeff, probability = pearsonr(table[k1], table[k2])\n",
      "        print(\"linear correlation between {} and {} is {}\".format(\n",
      "            k1, k2, r_coeff))\n",
      "\n"
     ],
     "language": "python",
     "metadata": {},
     "outputs": [
      {
       "output_type": "stream",
       "stream": "stdout",
       "text": [
        "1\n"
       ]
      }
     ],
     "prompt_number": 1
    },
    {
     "cell_type": "code",
     "collapsed": false,
     "input": [
      "netfishing_correlation_plot():\n",
      "    from itertools import combinations, cycle\n",
      "    from scipy.stats.stats import pearsonr\n",
      "    from course import table\n",
      "    from matplotlib import pyplot as plt\n",
      "    for (k1, v1), (k2,v2) in combinations(table.items(), 2):\n",
      "        r_coeff, probability = pearsonr(table[k1], table[k2])\n",
      "        if r_coeff < 0.6:\n",
      "            continue\n",
      "        plt.scatter(v1, v2)\n",
      "        plt.xlabel(k1); plt.ylabel(k2)\n",
      "        plt.title(\"r={:0.3f} p={:0.3f}\".format(r_coeff, probability))\n",
      "        plt.savefig(\"monochromo_{}_{}.png\".format(k1, k2))\n",
      "        plt.close()\n",
      "\n",
      "\n"
     ],
     "language": "python",
     "metadata": {},
     "outputs": [
      {
       "output_type": "stream",
       "stream": "stdout",
       "text": [
        "1\n"
       ]
      }
     ],
     "prompt_number": 1
    },
    {
     "cell_type": "code",
     "collapsed": false,
     "input": [
      "netfishing_correlation_colored_plot():\n",
      "    from itertools import combinations, cycle\n",
      "    from scipy.stats.stats import pearsonr\n",
      "    from course import table, in_chunks\n",
      "    from matplotlib import pyplot as plt\n",
      "    max_color, nbins = 1<<23, 12\n",
      "    colors = cycle('#'+format(x, '06X')  for x in range(0, max_color, max_color / nbins))\n",
      "\n",
      "    for (k1, v1), (k2,v2) in combinations(table.items(), 2):\n",
      "        r_coeff, probability = pearsonr(table[k1], table[k2])\n",
      "        if r_coeff < 0.6:\n",
      "            continue\n",
      "        l = len(v1) / nbins\n",
      "        chunks = zip(in_chunks(v1, l), in_chunks(v2, l))\n",
      "        [ plt.scatter(c1, c2, color=next(colors)) for c1, c2 in chunks ]\n",
      "        plt.xlabel(k1); plt.ylabel(k2)\n",
      "        plt.title(\"r={:0.3f} p={:0.3f}\".format(r_coeff, probability))\n",
      "        plt.savefig(\"tmp_{}_{}.png\".format(k1, k2))\n",
      "        plt.close()\n",
      "\n",
      "\n"
     ],
     "language": "python",
     "metadata": {},
     "outputs": [
      {
       "output_type": "stream",
       "stream": "stdout",
       "text": [
        "1\n"
       ]
      }
     ],
     "prompt_number": 1
    },
    {
     "cell_type": "markdown",
     "metadata": {},
     "source": [
      "## Exercise solutions"
     ]
    },
    {
     "cell_type": "code",
     "collapsed": false,
     "input": [
      "from __future__ import print_function, unicode_literals\n",
      "def ping_rtt(seconds=10):\n",
      "    \"\"\"\n",
      "       goal: slicing data\n",
      "       goal: using zip to transpose data\n",
      "    \"\"\"\n",
      "    import sys\n",
      "    from course import sh\n",
      "    cmd = \"ping -c{seconds} www.google.it\"\n",
      "    if 'win' in sys.platform:\n",
      "        cmd = \"ping -n{seconds} www.google.it\"\n",
      "\n",
      "    ping_output = sh(cmd.format(seconds=seconds))\n",
      "    # Filter out uninteresting lines\n",
      "    ping_output = [x.replace(b\"=\", b\" \") for x in ping_output if b'from' in x]\n",
      "    if 'win' in sys.platform:\n",
      "        ping_output = [x.split()[6::2] for x in ping_output]\n",
      "    else:\n",
      "        ping_output = [x.split()[-4:-1:2] for x in ping_output]\n",
      "    ttl, rtt = zip(*ping_output)\n",
      "    return map(float, rtt)\n",
      "\n",
      "print(*ping_rtt(3))\n"
     ],
     "language": "python",
     "metadata": {},
     "outputs": [
      {
       "output_type": "stream",
       "stream": "stdout",
       "text": [
        "52.8 53.0 58.3\n"
       ]
      }
     ],
     "prompt_number": 8
    },
    {
     "cell_type": "code",
     "collapsed": false,
     "input": [
      "# Exercise II solution\n",
      "# deliveder emails are like the following\n",
      "#May 14 16:00:04 rpolli postfix/qmgr[122]: 4DC3DA: removed\"\n",
      "\n",
      "ret = !grep removed maillog # get the interesting lines\n",
      "\n",
      "ts = ret.fields(2) # find the timestamp (3rd column)\n",
      "\n",
      "hours = [ int(ts)  for x in ts ]\n",
      "time_d = {x: hours.count(x) for x in set(hours)}\n"
     ],
     "language": "python",
     "metadata": {},
     "outputs": []
    }
   ],
   "metadata": {}
  }
 ]
}