{
 "metadata": {
  "name": ""
 },
 "nbformat": 3,
 "nbformat_minor": 0,
 "worksheets": [
  {
   "cells": [
    {
     "cell_type": "markdown",
     "metadata": {},
     "source": [
      "# Path Management\n",
      "\n",
      "## Goal\n",
      " \n",
      " - Normalize paths on different platform\n",
      " - Create, copy and remove folders\n",
      " - Handle errors\n",
      "    \n",
      "## Modules\n",
      " \n",
      " - os, os.path, shutil, errno\n",
      " \n",
      "## See also:\n",
      "\n",
      " - pathlib on Python 3.4+\n"
     ]
    },
    {
     "cell_type": "code",
     "collapsed": false,
     "input": [
      "\"\"\"\n",
      "    Simple file management with shutil and globbing\n",
      "     this section includes handling basic unicode issues\n",
      "\n",
      "    modules: os, sys, shutil, glob\n",
      "\"\"\"\n",
      "from __future__ import unicode_literals, print_function\n",
      "basedir = \"/tmp/course\"\n",
      "\n",
      "\n"
     ],
     "language": "python",
     "metadata": {},
     "outputs": []
    },
    {
     "cell_type": "code",
     "collapsed": false,
     "input": [
      "\"\"\"Show multiplatform path management\n",
      "\n",
      "    goal: sys.platform shows the current operating system\n",
      "    goal: os.path.normpath fixes the \"/\" orientation\n",
      "\n",
      "\"\"\"\n",
      "# .1- The os.path module seems verbose\n",
      "#  but it's the *best* way to manage paths. It's:\n",
      "#  - safe\n",
      "#  - multiplatform\n",
      "# .2- Here we check the operating system\n",
      "#  and prepend the right path\n",
      "import os\n",
      "import sys\n",
      "hosts, basedir = \"etc/hosts\", \"/\"\n",
      "if sys.platform.startswith('win'):\n",
      "    basedir = 'c:/windows/system32/drivers'\n",
      "# Join removes redundant \"/\"\n",
      "hosts = os.path.join(basedir, hosts)\n",
      "\n"
     ],
     "language": "python",
     "metadata": {},
     "outputs": []
    },
    {
     "cell_type": "code",
     "collapsed": false,
     "input": [
      "# normpath fixes \"/\" orientation \n",
      "# and redundant \"..\"\n",
      "hosts = os.path.normpath(hosts)\n",
      "print(\"Normalized path is\", hosts)"
     ],
     "language": "python",
     "metadata": {},
     "outputs": []
    },
    {
     "cell_type": "code",
     "collapsed": false,
     "input": [
      "# realpath resolves symlinks (on unix)\n",
      "! ln -sf /etc/hosts /tmp/course/hosts\n",
      "realfile = os.path.realpath(\"/tmp/course/hosts\") \n",
      "print(realfile)"
     ],
     "language": "python",
     "metadata": {},
     "outputs": []
    },
    {
     "cell_type": "code",
     "collapsed": false,
     "input": [
      "# create_and_move_tree():\n",
      "\"\"\"S2\n",
      "\n",
      "    modules: os.path, shutil, errno\n",
      "    goal: manage directory trees\n",
      "    goal: manage basic errors\n",
      "\n",
      "    os.path can be used to test file existence\n",
      "    while os and shutil supports basic file operations\n",
      "    like recursive copy and tree creation.\n",
      "\n",
      "    We can use exception handlers to check\n",
      "     what happened.\n",
      "\"\"\"\n",
      "from os import makedirs\n",
      "from os.path import isdir\n",
      "from shutil import copytree, rmtree\n",
      "makedirs(\"/tmp/course/foo/bar\")\n",
      "assert isdir(\"/tmp/course/foo/bar\")"
     ],
     "language": "python",
     "metadata": {},
     "outputs": []
    },
    {
     "cell_type": "code",
     "collapsed": false,
     "input": [
      "# Check the directory content with \n",
      "!tree /tmp/course || find /tmp/course"
     ],
     "language": "python",
     "metadata": {},
     "outputs": []
    },
    {
     "cell_type": "code",
     "collapsed": false,
     "input": [
      "try:\n",
      "    # python2 does not allow to ignore\n",
      "    #  already existing directories\n",
      "    #  and raises an OSError\n",
      "    makedirs(\"/tmp/course/foo/bar\")\n",
      "except OSError as e:\n",
      "    # Just use the errno module to\n",
      "    #  check the error value\n",
      "    import errno\n",
      "    assert e.errno == errno.EEXIST"
     ],
     "language": "python",
     "metadata": {},
     "outputs": []
    },
    {
     "cell_type": "code",
     "collapsed": false,
     "input": [
      "# Now copy recursively two directories\n",
      "# and check the result\n",
      "copytree(\"/tmp/course/foo\", \"/tmp/course/foo2\")\n",
      "assert isdir(\"/tmp/course/foo2/bar\")\n",
      "\n"
     ],
     "language": "python",
     "metadata": {},
     "outputs": []
    },
    {
     "cell_type": "code",
     "collapsed": false,
     "input": [
      "#This command should work on both unix and windows \n",
      "!dir /tmp/course/foo2/bar"
     ],
     "language": "python",
     "metadata": {},
     "outputs": []
    },
    {
     "cell_type": "code",
     "collapsed": false,
     "input": [
      "# Now remove it and check the outcome\n",
      "rmtree(\"/tmp/course/foo\")\n",
      "assert not isdir(\"/tmp/course/foo/bar\")\n"
     ],
     "language": "python",
     "metadata": {},
     "outputs": []
    },
    {
     "cell_type": "code",
     "collapsed": false,
     "input": [
      "#This command should work on both unix and windows \n",
      "!dir /tmp/course/"
     ],
     "language": "python",
     "metadata": {},
     "outputs": []
    },
    {
     "cell_type": "code",
     "collapsed": false,
     "input": [],
     "language": "python",
     "metadata": {},
     "outputs": []
    }
   ],
   "metadata": {}
  }
 ]
}