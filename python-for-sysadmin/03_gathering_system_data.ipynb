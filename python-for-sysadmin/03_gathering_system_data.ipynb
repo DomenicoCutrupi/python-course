{
 "metadata": {
  "name": ""
 },
 "nbformat": 3,
 "nbformat_minor": 0,
 "worksheets": [
  {
   "cells": [
    {
     "cell_type": "markdown",
     "metadata": {},
     "source": [
      "# Gathering system data - Python for System Administrators \n",
      "\n",
      "Goals:\n",
      "    - Gathering System Data with multiplatform and platform-dependent tools\n",
      "    - Get infos from files, /proc, /sys\n",
      "    - Capture command output\n",
      "    - Use psutil to get IO, CPU and memory data\n",
      "    - Parse files with a strategy\n",
      "    \n",
      "Modules:\n",
      "    - psutil, glob, sys, subprocess\n",
      "\n",
      "Non goal for this lesson:\n",
      "    - use with, yield or pipes\n",
      "\n",
      "\n"
     ]
    },
    {
     "cell_type": "code",
     "collapsed": false,
     "input": [
      "#\n",
      "# Our code is p3-ready\n",
      "#\n",
      "from __future__ import print_function\n"
     ],
     "language": "python",
     "metadata": {},
     "outputs": []
    },
    {
     "cell_type": "code",
     "collapsed": false,
     "input": [
      "def grep(needle, fpath):\n",
      "    \"\"\"A simple grep implementation\n",
      "\n",
      "       goal: open() is iterable and doesn't\n",
      "             need splitlines()\n",
      "       goal: comprehension can filter lists\n",
      "    \"\"\"\n",
      "    return [x for x in open(fpath) if needle in x]\n",
      "\n",
      "# Do we have localhost\n",
      "grep(\"localhost\", \"/etc/hosts\")\n"
     ],
     "language": "python",
     "metadata": {},
     "outputs": [
      {
       "metadata": {},
       "output_type": "pyout",
       "prompt_number": 1,
       "text": [
        "['127.0.0.1\\tlocalhost.localdomain localhost rhel1 rhel1\\n',\n",
        " '#::1     localhost ip6-localhost ip6-loopback\\n']"
       ]
      }
     ],
     "prompt_number": 1
    },
    {
     "cell_type": "code",
     "collapsed": false,
     "input": [
      "#The psutil module is very nice\n",
      "import psutil\n",
      "\n",
      "#Works on Windows, Linux and MacOS\n",
      "psutil.cpu_percent()\n",
      "\n",
      "#And its output is very easy to manage\n",
      "psutil.disk_io_counters()"
     ],
     "language": "python",
     "metadata": {},
     "outputs": [
      {
       "metadata": {},
       "output_type": "pyout",
       "prompt_number": 4,
       "text": [
        "iostat(read_count=1324297, write_count=8945065, read_bytes=18193275904, write_bytes=82464420864, read_time=14548356, write_time=707731640)"
       ]
      }
     ],
     "prompt_number": 4
    },
    {
     "cell_type": "code",
     "collapsed": false,
     "input": [
      "# Exercise: Which other informations \n",
      "# does psutil provide?"
     ],
     "language": "python",
     "metadata": {},
     "outputs": []
    },
    {
     "cell_type": "code",
     "collapsed": false,
     "input": [
      "# Exercise\n",
      "def multiplatform_vmstat(count):\n",
      "    # Write a vmstat-like funxtion printing every second:\n",
      "    # - cpu usage%\n",
      "    # - bytes read and written in the given interval\n",
      "    # Hint: use psutil and time.sleep(1)\n",
      "    # Hint: try on ipython and *then* write the function\n",
      "    #       using %edit vmstat.py\n",
      "    for i in xrange(count):\n",
      "        raise NotImplementedError\n",
      "        print(cpu_usage, bytes_rw)\n",
      "\n",
      "multiplatform_vmstat(5)\n",
      "    "
     ],
     "language": "python",
     "metadata": {},
     "outputs": [
      {
       "ename": "NotImplementedError",
       "evalue": "",
       "output_type": "pyerr",
       "traceback": [
        "\u001b[0;31m---------------------------------------------------------------------------\u001b[0m\n\u001b[0;31mNotImplementedError\u001b[0m                       Traceback (most recent call last)",
        "\u001b[0;32m<ipython-input-8-d7b5139ce42d>\u001b[0m in \u001b[0;36m<module>\u001b[0;34m()\u001b[0m\n\u001b[1;32m     11\u001b[0m         \u001b[0;32mprint\u001b[0m\u001b[0;34m(\u001b[0m\u001b[0mcpu_usage\u001b[0m\u001b[0;34m,\u001b[0m \u001b[0mbytes_read\u001b[0m\u001b[0;34m,\u001b[0m \u001b[0mbytes_write\u001b[0m\u001b[0;34m)\u001b[0m\u001b[0;34m\u001b[0m\u001b[0m\n\u001b[1;32m     12\u001b[0m \u001b[0;34m\u001b[0m\u001b[0m\n\u001b[0;32m---> 13\u001b[0;31m \u001b[0mvmstat\u001b[0m\u001b[0;34m(\u001b[0m\u001b[0;36m5\u001b[0m\u001b[0;34m)\u001b[0m\u001b[0;34m\u001b[0m\u001b[0m\n\u001b[0m\u001b[1;32m     14\u001b[0m \u001b[0;34m\u001b[0m\u001b[0m\n",
        "\u001b[0;32m<ipython-input-8-d7b5139ce42d>\u001b[0m in \u001b[0;36mvmstat\u001b[0;34m(count)\u001b[0m\n\u001b[1;32m      8\u001b[0m     \u001b[0;31m#       using %edit vmstat.py\u001b[0m\u001b[0;34m\u001b[0m\u001b[0;34m\u001b[0m\u001b[0m\n\u001b[1;32m      9\u001b[0m     \u001b[0;32mfor\u001b[0m \u001b[0mi\u001b[0m \u001b[0;32min\u001b[0m \u001b[0mxrange\u001b[0m\u001b[0;34m(\u001b[0m\u001b[0mcount\u001b[0m\u001b[0;34m)\u001b[0m\u001b[0;34m:\u001b[0m\u001b[0;34m\u001b[0m\u001b[0m\n\u001b[0;32m---> 10\u001b[0;31m         \u001b[0;32mraise\u001b[0m \u001b[0mNotImplementedError\u001b[0m\u001b[0;34m\u001b[0m\u001b[0m\n\u001b[0m\u001b[1;32m     11\u001b[0m         \u001b[0;32mprint\u001b[0m\u001b[0;34m(\u001b[0m\u001b[0mcpu_usage\u001b[0m\u001b[0;34m,\u001b[0m \u001b[0mbytes_read\u001b[0m\u001b[0;34m,\u001b[0m \u001b[0mbytes_write\u001b[0m\u001b[0;34m)\u001b[0m\u001b[0;34m\u001b[0m\u001b[0m\n\u001b[1;32m     12\u001b[0m \u001b[0;34m\u001b[0m\u001b[0m\n",
        "\u001b[0;31mNotImplementedError\u001b[0m: "
       ]
      }
     ],
     "prompt_number": 8
    },
    {
     "cell_type": "code",
     "collapsed": false,
     "input": [
      "#\n",
      "# subprocess\n",
      "#\n",
      "# The check_output function returns the command stdout\n",
      "from subprocess import check_output\n",
      "\n",
      "# It takes a *list* as an argument!\n",
      "out = check_output(\"ping -w1  -c1 www.google.com\".split())\n",
      "\n",
      "# and returns a string\n",
      "print(out)"
     ],
     "language": "python",
     "metadata": {},
     "outputs": [
      {
       "output_type": "stream",
       "stream": "stdout",
       "text": [
        "PING www.google.com (173.194.67.106) 56(84) bytes of data.\n",
        "64 bytes from wi-in-f106.1e100.net (173.194.67.106): icmp_seq=1 ttl=41 time=61.7 ms\n",
        "\n",
        "--- www.google.com ping statistics ---\n",
        "1 packets transmitted, 1 received, 0% packet loss, time 0ms\n",
        "rtt min/avg/max/mdev = 61.767/61.767/61.767/0.000 ms\n",
        "\n"
       ]
      }
     ],
     "prompt_number": 10
    },
    {
     "cell_type": "code",
     "collapsed": false,
     "input": [
      "def sh(cmd, shell=False, timeout=0):\n",
      "    \"\"\"\"Returns an iterable output of a command string\n",
      "        checking...\n",
      "    \"\"\"\n",
      "    from sys import version_info as python_version\n",
      "    if python_version < (3, 3): # ..before using..\n",
      "        if timeout:\n",
      "            raise ValueError(\"Timeout not supported until Python 3.3\")\n",
      "        output = check_output(cmd.split(), shell=shell)\n",
      "    else:\n",
      "        output = check_output(cmd.split(), shell=shell, timeout=timeout)\n",
      "    return output.splitlines()\n",
      "\n",
      "\n"
     ],
     "language": "python",
     "metadata": {},
     "outputs": [],
     "prompt_number": 7
    },
    {
     "cell_type": "code",
     "collapsed": false,
     "input": [
      "# Exercise\n",
      "def ppgrep(program):\n",
      "    \"\"\"\n",
      "    A multiplatform pgrep-like function.\n",
      "    Prints a list of processes executing 'program'\n",
      "    @param program - eg firefox, explorer.exe\n",
      "    \n",
      "    Hint: use subprocess, os and list-comprehension\n",
      "    eg. items = [x for x in a_list if 'firefox' in x] \n",
      "    Solution is at the EOF\n",
      "    \"\"\"\n",
      "    raise NotImplementedError\n",
      "    "
     ],
     "language": "python",
     "metadata": {},
     "outputs": [],
     "prompt_number": 8
    },
    {
     "cell_type": "markdown",
     "metadata": {},
     "source": [
      "## Parsing /proc\n",
      "\n",
      "Linux /proc filesystem is a cool place to get data\n",
      "\n",
      "In the next example we'll see how to get:\n",
      " - thread informations;\n",
      " - disk statistics;\n",
      " \n",
      " "
     ]
    },
    {
     "cell_type": "code",
     "collapsed": false,
     "input": [
      "# Parsing /proc - 1\n",
      "def linux_threads(pid):\n",
      "    \"\"\"Retrieving data from /proc\n",
      "    \"\"\"\n",
      "    from glob import glob\n",
      "    # glob emulates shell expansion of * and ?\n",
      "    path = \"/proc/{}/task/*/status\".format(pid)\n",
      "    \n",
      "         \n",
      "    # pick a set of fields to gather\n",
      "    t_info = ('Pid', 'Tgid', 'voluntary')  # this is a tuple!\n",
      "    for t in glob(path):\n",
      "        # ... and use comprehension to get \n",
      "        # intersting data.\n",
      "        t_info = [x \n",
      "                  for x in open(t) \n",
      "                  if x.startswith(t_info)] # startswith accepts tuples!\n",
      "        print(t_info)\n"
     ],
     "language": "python",
     "metadata": {},
     "outputs": [],
     "prompt_number": 31
    },
    {
     "cell_type": "code",
     "collapsed": false,
     "input": [
      "# If you're on linux try linux_threads\n",
      "pid_of_init = 1 # or systemd ?\n",
      "linux_threads(pid_of_init)"
     ],
     "language": "python",
     "metadata": {},
     "outputs": [
      {
       "output_type": "stream",
       "stream": "stdout",
       "text": [
        "['Tgid:\\t1\\n', 'Pid:\\t1\\n', 'voluntary_ctxt_switches:\\t39841\\n']\n"
       ]
      }
     ],
     "prompt_number": 32
    },
    {
     "cell_type": "code",
     "collapsed": false,
     "input": [
      "# On linux /proc/diskstats is the source of I/O infos\n",
      "disk_l = grep(\"sda\", \"/proc/diskstats\")\n",
      "print(''.join(disk_l))\n",
      "\n",
      "# To gather that data we put the header in a multiline string\n",
      "from course import diskstats_headers as headers\n",
      "\n",
      "#Take the 1st entry (sda), split the data...\n",
      "disk_info = disk_l[0].split()\n",
      "# ... and tie them with the header\n",
      "ret = zip(headers, disk_info)\n",
      "\n",
      "# On py3 we need to iterate over the generators\n",
      "print(list(ret))"
     ],
     "language": "python",
     "metadata": {},
     "outputs": [
      {
       "output_type": "stream",
       "stream": "stdout",
       "text": [
        "   8       0 sda 1078096 204803 31944978 11406408 2454329 8835457 127982283 95539956 2 17785136 106950552\n",
        "   8       1 sda1 290 345 2134 1528 0 0 0 0 0 1464 1528\n",
        "   8       2 sda2 328376 43577 12197654 4150820 104917 120394 5556371 7110104 0 1550696 11266600\n",
        "   8       3 sda3 51729 143 2070990 359436 26567 27618 10861717 6847272 0 480184 7206584\n",
        "   8       4 sda4 5 0 22 144 0 0 0 0 0 144 144\n",
        "   8       5 sda5 14254 77424 729158 270768 10400 391956 3223600 1225588 0 251724 1497284\n",
        "   8       6 sda6 1049 203 8938 4368 51 10 374 384 0 3212 4752\n",
        "   8       7 sda7 3981 121 460277 21024 5599 340 4584767 1680816 0 119748 1701808\n",
        "   8       8 sda8 678352 82990 16475325 6594608 1918552 8295139 103755454 65879720 2 6154352 72478052\n",
        "\n",
        "[(u'major', '8'), (u'minor', '0'), (u'device', 'sda'), (u'reads', '1078096'), (u'reads_merged', '204803'), (u'reads_sectors', '31944978'), (u'reads_ms', '11406408'), (u'writes', '2454329'), (u'writes_merged', '8835457'), (u'writes_sectors', '127982283'), (u'writes_ms', '95539956'), (u'io_in_progress', '2'), (u'io_ms_spent', '17785136'), (u'io_ms_weight', '106950552')]\n"
       ]
      }
     ],
     "prompt_number": 33
    },
    {
     "cell_type": "code",
     "collapsed": false,
     "input": [
      "# Try to mangle ret\n",
      "print('\\n'.join(str(x) for x in ret))\n"
     ],
     "language": "python",
     "metadata": {},
     "outputs": [
      {
       "output_type": "stream",
       "stream": "stdout",
       "text": [
        "(u'major', '8')\n",
        "(u'minor', '0')\n",
        "(u'device', 'sda')\n",
        "(u'reads', '1078096')\n",
        "(u'reads_merged', '204803')\n",
        "(u'reads_sectors', '31944978')\n",
        "(u'reads_ms', '11406408')\n",
        "(u'writes', '2454329')\n",
        "(u'writes_merged', '8835457')\n",
        "(u'writes_sectors', '127982283')\n",
        "(u'writes_ms', '95539956')\n",
        "(u'io_in_progress', '2')\n",
        "(u'io_ms_spent', '17785136')\n",
        "(u'io_ms_weight', '106950552')\n"
       ]
      }
     ],
     "prompt_number": 35
    },
    {
     "cell_type": "code",
     "collapsed": false,
     "input": [
      "# We can create a reusable commodity class with\n",
      "from collections import namedtuple\n",
      "\n",
      "# using the imported `headers` as attributes\n",
      "# like the one provided by psutil\n",
      "DiskStats = namedtuple('DiskStat', headers)\n",
      "\n",
      "# ... and disk_info as values\n",
      "dstat = DiskStats(*disk_info)\n",
      "print(dstat.device, dstat.writes_ms)\n",
      "\n",
      "# Homework: check further features with\n",
      "# help(collections)"
     ],
     "language": "python",
     "metadata": {},
     "outputs": [
      {
       "output_type": "stream",
       "stream": "stdout",
       "text": [
        "('sda', '95539956')\n"
       ]
      }
     ],
     "prompt_number": 38
    },
    {
     "cell_type": "code",
     "collapsed": false,
     "input": [
      "# Exercise\n",
      "# Write the following function \n",
      "def linux_diskstats(partition):\n",
      "    \"\"\"Print every second I/O information from /proc/diskstats\n",
      "    \n",
      "        @param: partition - eg sda1 or vdx1\n",
      "        \n",
      "        Hint: use the above `grep` function\n",
      "        Hint: use zip, time.sleep, print() and *magic\n",
      "    \"\"\"\n",
      "    diskstats_headers = ('reads reads_merged reads_sectors reads_ms'\n",
      "            ' writes writes_merged writes_sectors writes_ms'\n",
      "            ' io_in_progress io_ms_weight').split()\n",
      "    \n",
      "    while True:\n",
      "        raise NotImplementedError\n",
      "        print(values, sep=\"\\t\")"
     ],
     "language": "python",
     "metadata": {},
     "outputs": []
    },
    {
     "cell_type": "markdown",
     "metadata": {},
     "source": [
      "# Exercise Solutions... Don't spoil!\n"
     ]
    },
    {
     "cell_type": "code",
     "collapsed": false,
     "input": [
      "def multiplatform_stats(count):\n",
      "    \"\"\"Get data in a multiplatform way\n",
      "\n",
      "    \"\"\"\n",
      "    import psutil\n",
      "    import time\n",
      "    cpu_percent, io_stat, io_stat_0 = 0, 0, 0\n",
      "    print(\"cpu%\", \"iops(r+w)\")\n",
      "    for x in range(-count, 1):\n",
      "        cpu_percent = psutil.cpu_percent()\n",
      "        read_io, write_io = psutil.disk_io_counters()[:2]\n",
      "        io_stat = read_io + write_io\n",
      "        print(cpu_percent, io_stat - io_stat_0)\n",
      "        io_stat_0 = io_stat\n",
      "        if x:\n",
      "            time.sleep(1)\n",
      "\n",
      "\n"
     ],
     "language": "python",
     "metadata": {},
     "outputs": [],
     "prompt_number": 5
    },
    {
     "cell_type": "code",
     "collapsed": false,
     "input": [
      "def system_info_from_command_output_solution():\n",
      "    \"\"\"Exercise: write a multiplatform\n",
      "        pgrep-like function\n",
      "    \"\"\"\n",
      "    def pgrep(expr):\n",
      "        # linux\n",
      "        return grep(expr, sh(\"ps -fe\"))\n",
      "    \n",
      "    def  wpgrep(expr):\n",
      "        # windows\n",
      "        return grep(expr, sh(\"tasklist\"))\n",
      "\n",
      "    # All explorer.exe processes\n",
      "    print(wpgrep(\"explorer.exe\"))\n",
      "\n",
      "\n",
      "    "
     ],
     "language": "python",
     "metadata": {},
     "outputs": []
    },
    {
     "cell_type": "code",
     "collapsed": false,
     "input": [
      "from __future__ import print_function\n",
      "def linux_diskstats(disk):\n",
      "    \"\"\"Get I/O information from /proc/diskstats\n",
      "\n",
      "       @param disk  sda\n",
      "       goal: usage of time.sleep\n",
      "       goal: usage of zip\n",
      "       goal: use string concatenation to increase readability\n",
      "       goal: use *magic with print+sep, splitting and slicing\n",
      "    \"\"\"\n",
      "    from time import sleep\n",
      "    info = ('reads reads_merged reads_sectors reads_ms'\n",
      "            ' writes writes_merged writes_sectors writes_ms'\n",
      "            ' io_in_progress io_ms_weight').split()\n",
      "    print(*info[:8], sep=\"\\t\")\n",
      "    old = [0] * len(info)\n",
      "\n",
      "    while True:\n",
      "        disk_l = grep(disk, \"/proc/diskstats\")\n",
      "        if len(disk_l) > 1:\n",
      "            raise ValueError(\"More than one partition matches!\")\n",
      "\n",
      "        info = disk_l[0].split()\n",
      "        # the first 3 fields are disk informations\n",
      "        cur = map(int, info[3:])\n",
      "        delta = [x - y for (x, y) in zip(cur, old)]\n",
      "        print(*delta[:8], sep=\"\\t\")\n",
      "        old = cur\n",
      "        sleep(1)\n",
      "\n",
      "#\n",
      "# A more complex exercise using a lot of stuff\n",
      "#\n",
      "linux_diskstats(\"sda1\")\n"
     ],
     "language": "python",
     "metadata": {},
     "outputs": [
      {
       "output_type": "stream",
       "stream": "stdout",
       "text": [
        "reads\treads_merged\treads_sectors\treads_ms\twrites\twrites_merged\twrites_sectors\twrites_ms\n",
        "290\t345\t2134\t1528\t0\t0\t0\t0\n",
        "0"
       ]
      },
      {
       "output_type": "stream",
       "stream": "stdout",
       "text": [
        "\t0\t0\t0\t0\t0\t0\t0\n",
        "0"
       ]
      },
      {
       "output_type": "stream",
       "stream": "stdout",
       "text": [
        "\t0\t0\t0\t0\t0\t0\t0\n",
        "0"
       ]
      },
      {
       "output_type": "stream",
       "stream": "stdout",
       "text": [
        "\t0\t0\t0\t0\t0\t0\t0\n",
        "0"
       ]
      },
      {
       "output_type": "stream",
       "stream": "stdout",
       "text": [
        "\t0\t0\t0\t0\t0\t0\t0\n",
        "0"
       ]
      },
      {
       "output_type": "stream",
       "stream": "stdout",
       "text": [
        "\t0\t0\t0\t0\t0\t0\t0\n",
        "0"
       ]
      },
      {
       "output_type": "stream",
       "stream": "stdout",
       "text": [
        "\t0\t0\t0\t0\t0\t0\t0\n",
        "0"
       ]
      },
      {
       "ename": "KeyboardInterrupt",
       "evalue": "",
       "output_type": "pyerr",
       "traceback": [
        "\u001b[0;31m---------------------------------------------------------------------------\u001b[0m\n\u001b[0;31mKeyboardInterrupt\u001b[0m                         Traceback (most recent call last)",
        "\u001b[0;32m<ipython-input-41-9bd79206af5e>\u001b[0m in \u001b[0;36m<module>\u001b[0;34m()\u001b[0m\n\u001b[1;32m     32\u001b[0m \u001b[0;31m# A more complex exercise using a lot of stuff\u001b[0m\u001b[0;34m\u001b[0m\u001b[0;34m\u001b[0m\u001b[0m\n\u001b[1;32m     33\u001b[0m \u001b[0;31m#\u001b[0m\u001b[0;34m\u001b[0m\u001b[0;34m\u001b[0m\u001b[0m\n\u001b[0;32m---> 34\u001b[0;31m \u001b[0mlinux_diskstats\u001b[0m\u001b[0;34m(\u001b[0m\u001b[0;34m\"sda1\"\u001b[0m\u001b[0;34m)\u001b[0m\u001b[0;34m\u001b[0m\u001b[0m\n\u001b[0m",
        "\u001b[0;32m<ipython-input-41-9bd79206af5e>\u001b[0m in \u001b[0;36mlinux_diskstats\u001b[0;34m(disk)\u001b[0m\n\u001b[1;32m     27\u001b[0m         \u001b[0;32mprint\u001b[0m\u001b[0;34m(\u001b[0m\u001b[0;34m*\u001b[0m\u001b[0mdelta\u001b[0m\u001b[0;34m[\u001b[0m\u001b[0;34m:\u001b[0m\u001b[0;36m8\u001b[0m\u001b[0;34m]\u001b[0m\u001b[0;34m,\u001b[0m \u001b[0msep\u001b[0m\u001b[0;34m=\u001b[0m\u001b[0;34m\"\\t\"\u001b[0m\u001b[0;34m)\u001b[0m\u001b[0;34m\u001b[0m\u001b[0m\n\u001b[1;32m     28\u001b[0m         \u001b[0mold\u001b[0m \u001b[0;34m=\u001b[0m \u001b[0mcur\u001b[0m\u001b[0;34m\u001b[0m\u001b[0m\n\u001b[0;32m---> 29\u001b[0;31m         \u001b[0msleep\u001b[0m\u001b[0;34m(\u001b[0m\u001b[0;36m1\u001b[0m\u001b[0;34m)\u001b[0m\u001b[0;34m\u001b[0m\u001b[0m\n\u001b[0m\u001b[1;32m     30\u001b[0m \u001b[0;34m\u001b[0m\u001b[0m\n\u001b[1;32m     31\u001b[0m \u001b[0;31m#\u001b[0m\u001b[0;34m\u001b[0m\u001b[0;34m\u001b[0m\u001b[0m\n",
        "\u001b[0;31mKeyboardInterrupt\u001b[0m: "
       ]
      },
      {
       "output_type": "stream",
       "stream": "stdout",
       "text": [
        "\t0\t0\t0\t0\t0\t0\t0\n"
       ]
      }
     ],
     "prompt_number": 41
    },
    {
     "cell_type": "markdown",
     "metadata": {},
     "source": [
      "## zip on py3 is a generator \n"
     ]
    },
    {
     "cell_type": "code",
     "collapsed": false,
     "input": [
      "# zip_iterables():\n",
      "\"\"\"The zip method joins list elements pairwise\n",
      "    like a zip fastener\n",
      "\"\"\"\n",
      "from sys import version_info as python_version\n",
      "a_list = [0, 1, 2, 3]\n",
      "b_list = [\"a\", \"b\", \"c\", \"d\"]\n",
      "zipper = zip(a_list, b_list)\n",
      "if python_version >= (3,):\n",
      "    zipper = list(zipper)\n",
      "assert zipper == [(0, \"a\"), (1, \"b\"), (2, \"c\"), (3, \"d\")]\n",
      "\n",
      "\n"
     ],
     "language": "python",
     "metadata": {},
     "outputs": [],
     "prompt_number": 11
    }
   ],
   "metadata": {}
  }
 ]
}