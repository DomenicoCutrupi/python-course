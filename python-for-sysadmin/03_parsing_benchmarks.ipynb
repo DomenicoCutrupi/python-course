{
 "metadata": {
  "name": ""
 },
 "nbformat": 3,
 "nbformat_minor": 0,
 "worksheets": [
  {
   "cells": [
    {
     "cell_type": "markdown",
     "metadata": {
      "slideshow": {
       "slide_type": "slide"
      }
     },
     "source": [
      "# Parsing\n",
      "\n",
      "Goals:\n",
      "\n",
      "    - Plan a parsing strategy\n",
      "    - Use basic regular expressions: match, search, sub\n",
      "    - Benchmarking a parser\n",
      "    - Running nosetests\n",
      "    - Write a simple parser\n",
      "    \n",
      "Modules:\n",
      "\n",
      "    - re, nose, %timeit\n",
      "\n"
     ]
    },
    {
     "cell_type": "markdown",
     "metadata": {
      "slideshow": {
       "slide_type": "slide"
      }
     },
     "source": [
      "# Parsing is hard...\n",
      "\n",
      "<h2>\n",
      "<i>\"System Administrators spent $24.3\\%$ of\n",
      " their work-life parsing files.\"</i>\n",
      " <br><br>\n",
      " \n",
      " Independent analysis by The GASP* Society ;) <br>\n",
      " </h2>\n",
      "<h3>\n",
      " *(Grep Awk Sed Perl)\n",
      " </h3>"
     ]
    },
    {
     "cell_type": "markdown",
     "metadata": {
      "slideshow": {
       "slide_type": "slide"
      }
     },
     "source": [
      "# ... use a strategy!\n",
      "\n",
      "\n",
      "1. Collect parsing samples\n",
      "\n",
      "2. Play in ipython and collect %history\n",
      "\n",
      "3. Write tests, then the parser\n",
      "\n",
      "4. Eventually benchmark\n"
     ]
    },
    {
     "cell_type": "markdown",
     "metadata": {
      "slideshow": {
       "slide_type": "slide"
      }
     },
     "source": [
      "#Parsing postfix logs"
     ]
    },
    {
     "cell_type": "code",
     "collapsed": false,
     "input": [
      "from __future__ import print_function\n",
      "# Before writing the parser, collect samples of\n",
      "#  the interesting lines. For now just\n",
      "from course import mail_sent, mail_delivered\n",
      "\n",
      "# and %edit a simple\n",
      "def test_sent():\n",
      "    hour, host, to = parse_line(mail_sent)\n",
      "    assert hour == '08:00:00'\n",
      "    assert to == 'jon@doe.it'\n",
      "\n",
      "print(\"I'm goint to parse the following line\", mail_sent, sep=\"\\n\")    "
     ],
     "language": "python",
     "metadata": {
      "slideshow": {
       "slide_type": "-"
      }
     },
     "outputs": []
    },
    {
     "cell_type": "code",
     "collapsed": false,
     "input": [
      "# Play with mail_sent and start using basic strings in ipython\n",
      "mail_sent.split()\n",
      "\n",
      "# You can number fields with zip. \n",
      "# Remember that ipython puts the last returned value in `_`\n",
      "# which is useful in interactive mode!\n",
      "fields, counting = _, zip(range(20), _)\n",
      "print(*counting, sep=\"\\n\")"
     ],
     "language": "python",
     "metadata": {},
     "outputs": []
    },
    {
     "cell_type": "code",
     "collapsed": false,
     "input": [
      "# Now we can pick fields singularly\n",
      "hour, host, dest = fields[2], fields[3], fields[6]\n",
      "\n",
      "# or with \n",
      "from operator import itemgetter\n",
      "which_returns_a_function = itemgetter(2, 3, 6)\n",
      "assert (hour, host, dest) == which_returns_a_function(fields)\n"
     ],
     "language": "python",
     "metadata": {},
     "outputs": []
    },
    {
     "cell_type": "markdown",
     "metadata": {
      "slideshow": {
       "slide_type": "subslide"
      }
     },
     "source": [
      "## Exercise I\n",
      "    \n",
      "    - %edit 03_parsing_test.py\n",
      "    - complete the parse_line(line) function\n",
      "    - %paste your solution's code in iPython and run manually the test functions\n",
      "\n"
     ]
    },
    {
     "cell_type": "code",
     "collapsed": false,
     "input": [
      "#\n",
      "# Use this cell for Exercise I\n",
      "#\n"
     ],
     "language": "python",
     "metadata": {},
     "outputs": []
    },
    {
     "cell_type": "markdown",
     "metadata": {},
     "source": [
      "# Python Regexp\n"
     ]
    },
    {
     "cell_type": "code",
     "collapsed": false,
     "input": [
      "# Python supports regular expressions via\n",
      "import re\n",
      "\n",
      "# We start showing a grep-reloaded function\n",
      "def grep(expr, fpath):\n",
      "    one = re.compile(expr) # ...has two lookup methods...\n",
      "    assert ( one.match     # which searches from ^ the beginning\n",
      "         and one.search ) # that searches $\\pyver{anywhere}$\n",
      "\n",
      "    with open(fpath) as fp:\n",
      "        return [x for x in fp if one.search(x)]\n",
      "\n",
      "assert not grep(r'^localhost', '/etc/hosts')\n",
      "ret = grep('127.0.0.1', '/etc/hosts')\n",
      "assert ret\n",
      "print(*ret)"
     ],
     "language": "python",
     "metadata": {
      "slideshow": {
       "slide_type": "slide"
      }
     },
     "outputs": []
    },
    {
     "cell_type": "code",
     "collapsed": false,
     "input": [
      "from re import split # is a very nice function\n",
      "import sys\n",
      "from course import sh\n",
      "\n",
      "# Let's gather some ping stats\n",
      "if sys.platform.startswith('win'):\n",
      "    cmd = \"ping -n10 www.google.it\"\n",
      "else:\n",
      "    cmd = \"ping -c10 -w10 www.google.it\"\n",
      "\n",
      "# Split for both space and =\n",
      "ping_output = [ split(\"[ =]\", x) for x in sh(cmd)]\n",
      "\n",
      "print(*ping_output, sep=\"\\n\")"
     ],
     "language": "python",
     "metadata": {},
     "outputs": []
    },
    {
     "cell_type": "code",
     "collapsed": false,
     "input": [
      "# Splitting with re.findall\n",
      "\n",
      "from re import findall  # can be misused too;\n",
      "\n",
      "# eg for adding the \":\" to a\n",
      "mac = \"00\"\"24\"\"e8\"\"b4\"\"33\"\"20\"\n",
      "\n",
      "# ...using this\n",
      "re_hex = \"[0-9a-fA-F]{2}\"\n",
      "mac_address = ':'.join(re.findall(re_hex, mac))\n",
      "print(\"The mac address is \", mac_address)\n",
      "\n",
      "# Actually this does a bit of validation, requiring all chars to be in the 0-F range\n",
      "\n"
     ],
     "language": "python",
     "metadata": {},
     "outputs": []
    },
    {
     "cell_type": "markdown",
     "metadata": {},
     "source": [
      "# Benchmarking in iPython - I\n",
      "\n",
      "    - Parsing big files needs benchmarks. iPython %timeit magic is a good starting point"
     ]
    },
    {
     "cell_type": "code",
     "collapsed": false,
     "input": [
      "# Run the following cell many times. \n",
      "# Do you always get the same results?\n",
      "test_all_regexps = (\"..\", \"[a-fA-F0-9]{2}\")\n",
      "for re_s in test_all_regexps:\n",
      "    %timeit ':'.join(findall(re_s, mac))\n",
      "\n",
      "\n"
     ],
     "language": "python",
     "metadata": {},
     "outputs": []
    },
    {
     "cell_type": "code",
     "collapsed": false,
     "input": [
      "# We can even compare compiled vs inline regexp\n",
      "import re\n",
      "from time import sleep\n",
      "for re_s in test_all_regexps:\n",
      "    re_c = re.compile(re_s)\n",
      "    %timeit ':'.join(re_c.findall(mac))\n",
      "    "
     ],
     "language": "python",
     "metadata": {},
     "outputs": []
    },
    {
     "cell_type": "code",
     "collapsed": false,
     "input": [
      "# Or find other methods:\n",
      "\n",
      "# complex...\n",
      "from re import sub as sed\n",
      "%timeit sed(r'(..)', r'\\1:', mac)\n",
      "\n",
      "# ...or simple\n",
      "%timeit ':'.join([ mac[i:i+2] for i in range(0,12,2)])\n",
      "#Outside iPython check the timeit module\n",
      "\n",
      "# Execise: which is the fastest method? Why?"
     ],
     "language": "python",
     "metadata": {},
     "outputs": []
    },
    {
     "cell_type": "code",
     "collapsed": false,
     "input": [
      "# Don't need to type this VSAN configuration script\n",
      "#  which uses linux FC information from /sys filesystem\n",
      "from glob import glob\n",
      "fc_id_path = \"/sys/class/fc_host/host*/port_name\"\n",
      "for x in glob(fc_id_path):\n",
      "    # ...we boldly skip an explicit close()\n",
      "    pwwn = open(x).read()  # 0x500143802427e66c\n",
      "    pwwn = pwwn[2:]\n",
      "    # ...and even use the slower but readable\n",
      "    pwwn = re.findall(r'..', pwwn)\n",
      "    print(\"member pwwn \", ':'.join(pwwn))\n"
     ],
     "language": "python",
     "metadata": {},
     "outputs": []
    },
    {
     "cell_type": "markdown",
     "metadata": {},
     "source": [
      "# Parsing: Exercise II\n",
      "\n",
      "Now another test for the delivered messages\n",
      "    - %edit 03_parsing_test.py\n",
      "    - %paste to iPython and run test_delivered()\n",
      "    - fix parse_line to work with both tests and save\n"
     ]
    },
    {
     "cell_type": "code",
     "collapsed": false,
     "input": [
      "#\n",
      "# Use this cell for Exercise II\n",
      "#\n"
     ],
     "language": "python",
     "metadata": {},
     "outputs": []
    },
    {
     "cell_type": "markdown",
     "metadata": {},
     "source": [
      "# Parsing: Solutions\n"
     ]
    }
   ],
   "metadata": {}
  }
 ]
}