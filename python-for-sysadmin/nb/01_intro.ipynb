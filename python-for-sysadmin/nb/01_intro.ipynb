{
 "metadata": {
  "name": ""
 },
 "nbformat": 3,
 "nbformat_minor": 0,
 "worksheets": [
  {
   "cells": [
    {
     "cell_type": "markdown",
     "metadata": {},
     "source": [
      "# Python for System Administrators\n",
      "\n",
      "Introductory Lesson 2\n",
      "  - Roberto Polli - roberto.polli@par-tec.it\n",
      "    "
     ]
    },
    {
     "cell_type": "code",
     "collapsed": false,
     "input": [
      "# before starting this lesson\n",
      "#  import the python3 print capabilities\n",
      "#  using the following statement\n",
      "#  NB since now you *must* always use\n",
      "#     parenthesis with print!\n",
      "from __future__ import print_function\n",
      "\n",
      "\n",
      "##def introducing_lists():\n",
      "# it's easy to create a list\n",
      "list_a = ['this', 'is', 'a', 'list']\n",
      "# you can append items to a list\n",
      "# with the append method\n",
      "list_a.append(\"mutable\")\n",
      "\n",
      "# check its content with print\n",
      "print(list_a)\n",
      "# see its length\n",
      "len(list_a)\n"
     ],
     "language": "python",
     "metadata": {},
     "outputs": []
    },
    {
     "cell_type": "code",
     "collapsed": false,
     "input": [
      "a = 11\n",
      "#range in python 2 returns a list\n",
      "# of consecutive ints\n",
      "from_0_to_10 = range(a)\n",
      "len(from_0_to_10) == a\n",
      "# in python 3 things are slightly different\n",
      "# so the above code won't work and should\n",
      "# should be replaced with the following\n",
      "from_0_to_10 = list(range(a))\n",
      "\n"
     ],
     "language": "python",
     "metadata": {},
     "outputs": []
    },
    {
     "cell_type": "code",
     "collapsed": false,
     "input": [
      "# you can get list items by index\n",
      "from_0_to_10[0]\n",
      "from_0_to_10[11]\n",
      "# python lists are doubly linked ;)\n",
      "from_0_to_10[-1]\n",
      "# please check the manual!\n",
      "#help(list)\n"
     ],
     "language": "python",
     "metadata": {},
     "outputs": []
    },
    {
     "cell_type": "code",
     "collapsed": false,
     "input": [
      "def slicing():\n",
      "    # I can slice a list with \":\"\n",
      "    straight = [1, 2, 3, 'star']\n",
      "    straight[1:3]  # take the middle of the list...\n",
      "    k = 2  # ... or using a separator\n",
      "    straight[0:k], straight[k:4]\n",
      "\n",
      "    straight[:k]         # I can omit the first...\n",
      "    straight[k:]         # ...and last index\n"
     ],
     "language": "python",
     "metadata": {},
     "outputs": []
    },
    {
     "cell_type": "code",
     "collapsed": false,
     "input": [
      "\n",
      "\n",
      "def str_and_list():\n",
      "    # Strings behaves like lists\n",
      "    s_a = \"Counting: 123\"\n",
      "    # Have length..\n",
      "    l_a = len(s_a)\n",
      "    # ..indexes\n",
      "    print(s_a[0], \" \", s_a[-1])\n",
      "    # and a last element\n",
      "    s_a[l_a]\n",
      "\n",
      "    # ...we can even slice them\n",
      "    f = \"prova.txt\"\n",
      "    f[:-4], f[-4], f[-3:]\n"
     ],
     "language": "python",
     "metadata": {},
     "outputs": []
    },
    {
     "cell_type": "code",
     "collapsed": false,
     "input": [
      "\n",
      "\n",
      "def iterating_with_for():\n",
      "    a_list = ['is', 'iterable', 'with']\n",
      "    for x in a_list:\n",
      "        print(x)\n",
      "    for x in a_list:\n",
      "        # python2 does not support the `end` argument\n",
      "        print((x), end=' ')\n",
      "        y = x + str(2)\n",
      "        break       # stop now\n",
      "    # what's the expected output of the\n",
      "    # following instruction?\n",
      "    print((\"x,y: \", (x, y)))\n",
      "    # Differently from C, `for` does not create\n",
      "    #  a scope\n",
      "\n"
     ],
     "language": "python",
     "metadata": {},
     "outputs": []
    },
    {
     "cell_type": "code",
     "collapsed": false,
     "input": [
      "def iterate_with_while():\n",
      "    a_list = ['is', 'iterable', 'with']\n",
      "    while a_list:\n",
      "        # pop() modifies a list removing\n",
      "        #  and returning its last element\n",
      "        x = a_list.pop()\n",
      "        print((\"pop out %s\" % x))\n",
      "        break  # what happens if I remove this break?\n",
      "    print(a_list)\n",
      "    # What's the expected behavior of the\n",
      "    #  following instructions?\n",
      "    for x in a_list:\n",
      "        print((x + a_list.pop()))\n",
      "    # for + pop() is not always a good idea ;)\n"
     ],
     "language": "python",
     "metadata": {},
     "outputs": []
    }
   ],
   "metadata": {}
  }
 ]
}