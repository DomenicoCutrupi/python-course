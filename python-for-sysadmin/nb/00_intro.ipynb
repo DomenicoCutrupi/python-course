{
 "metadata": {
  "name": ""
 },
 "nbformat": 3,
 "nbformat_minor": 0,
 "worksheets": [
  {
   "cells": [
    {
     "cell_type": "markdown",
     "metadata": {
      "slideshow": {
       "slide_type": "slide"
      }
     },
     "source": [
      "# Python for System Administrator\n",
      "\"\"\"\n",
      "  Author: roberto.polli@par-tec.it\n",
      "\n",
      "  This file contains an introduction\n",
      "    to the python for sysadmins course.\n",
      "    You are welcome to run the follwing examples\n",
      "    in your ipython shell.\n",
      "\"\"\"\n",
      "\n"
     ]
    },
    {
     "cell_type": "code",
     "collapsed": false,
     "input": [
      "# Importing_new_features\n",
      "# ..is easy. Features are collected\n",
      "# in packages or modules. Just\n",
      "import telnetlib  # to use a\n",
      "telnetlib.Telnet  # client\n",
      "\n",
      "# We can even import single classes\n",
      "#  from a module, like\n",
      "from telnetlib import Telnet\n",
      "\n",
      "# And read the module or class docs\n",
      "help(telnetlib)\n",
      "help(Telnet)\n"
     ],
     "language": "python",
     "metadata": {},
     "outputs": [],
     "prompt_number": 6
    },
    {
     "cell_type": "code",
     "collapsed": false,
     "input": [
      "# you can print with the print() function\n",
      "print(\"Hello world!\")\n",
      "\n",
      "# concatenate string with a + sign\n",
      "# and using hex notation\n",
      "print(\"Hello\" + \" \" + \"World\\x21\")\n",
      "\n",
      "# prefixing a string with 'r' disables the\n",
      "# interpretation of the string content\n",
      "print('Hello' * 2 + r'World\\x21')\n",
      "\n",
      "# the chr() function returns the corresponding\n",
      "# character of an integer. While \\n and \\t are\n",
      "# just the usual notation for linefeed and tab\n",
      "print(chr(72) + \"ello\\n\\tWorld!\")\n",
      "\n",
      "# triple-quoting allows multi-line strings\n",
      "# %s works like in the C printf() function\n",
      "# but operates on strings\n",
      "# ord() is just the inverse of chr()\n",
      "print(\"\"\"The answer is\n",
      "\n",
      "%s\n",
      "\"\"\" % ord('*'))\n"
     ],
     "language": "python",
     "metadata": {},
     "outputs": [
      {
       "output_type": "stream",
       "stream": "stdout",
       "text": [
        "Hello world!\n",
        "Hello World!\n",
        "HelloHelloWorld\\x21\n",
        "Hello\n",
        "\tWorld!\n",
        "The answer is\n",
        "\n",
        "42\n",
        "\n"
       ]
      }
     ],
     "prompt_number": 7
    },
    {
     "cell_type": "code",
     "collapsed": false,
     "input": [
      "def basic_arithmetic():\n",
      "    # This is a comment, while\n",
      "    a = 1  # is an integer variable\n",
      "    b = 0x10  # is another integer in hex notation\n",
      "    # c = 011  # ...another one in C-style oct on python 2...\n",
      "    c = 0o11  # ...in python 2 and 3\n",
      "\n",
      "    # I can sum, multiply, and modulus\n",
      "    print(a + b, 5 % 2)\n",
      "    print(2 * c)\n"
     ],
     "language": "python",
     "metadata": {},
     "outputs": []
    },
    {
     "cell_type": "code",
     "collapsed": false,
     "input": [
      "# variable_assignment\n",
      "# I can assign more than one variable on a string\n",
      "a, b, c = 1, 2, 3\n",
      "d, stringa_a, stringa_b = a + b, \"pippo\", \"pluto\"\n",
      "\n",
      "# ...swap them...\n",
      "(a, b) = (b, a)  \n",
      "\n",
      "# but if right-side values are not defined, I get an exception\n",
      "e, f = c, e + d  \n",
      "\n"
     ],
     "language": "python",
     "metadata": {},
     "outputs": [
      {
       "ename": "NameError",
       "evalue": "name 'e' is not defined",
       "output_type": "pyerr",
       "traceback": [
        "\u001b[0;31m---------------------------------------------------------------------------\u001b[0m\n\u001b[0;31mNameError\u001b[0m                                 Traceback (most recent call last)",
        "\u001b[0;32m<ipython-input-8-14a928167df3>\u001b[0m in \u001b[0;36m<module>\u001b[0;34m()\u001b[0m\n\u001b[1;32m      8\u001b[0m \u001b[0;34m\u001b[0m\u001b[0m\n\u001b[1;32m      9\u001b[0m \u001b[0;31m# but if right-side values are not defined, I get an exception\u001b[0m\u001b[0;34m\u001b[0m\u001b[0;34m\u001b[0m\u001b[0m\n\u001b[0;32m---> 10\u001b[0;31m \u001b[0me\u001b[0m\u001b[0;34m,\u001b[0m \u001b[0mf\u001b[0m \u001b[0;34m=\u001b[0m \u001b[0mc\u001b[0m\u001b[0;34m,\u001b[0m \u001b[0me\u001b[0m \u001b[0;34m+\u001b[0m \u001b[0md\u001b[0m\u001b[0;34m\u001b[0m\u001b[0m\n\u001b[0m\u001b[1;32m     11\u001b[0m \u001b[0;34m\u001b[0m\u001b[0m\n\u001b[1;32m     12\u001b[0m \u001b[0;31m# We should respect reserved words and functions, like print, ord...\u001b[0m\u001b[0;34m\u001b[0m\u001b[0;34m\u001b[0m\u001b[0m\n",
        "\u001b[0;31mNameError\u001b[0m: name 'e' is not defined"
       ]
      }
     ],
     "prompt_number": 8
    },
    {
     "cell_type": "code",
     "collapsed": false,
     "input": [
      "# We should respect reserved words and functions, like print, ord...\n",
      "print((\"ord:\\x20\", ord))\n",
      "ord = 4\n",
      "ord('*')  # ...ooops!\n"
     ],
     "language": "python",
     "metadata": {},
     "outputs": [
      {
       "ename": "TypeError",
       "evalue": "'int' object is not callable",
       "output_type": "pyerr",
       "traceback": [
        "\u001b[0;31m---------------------------------------------------------------------------\u001b[0m\n\u001b[0;31mTypeError\u001b[0m                                 Traceback (most recent call last)",
        "\u001b[0;32m<ipython-input-9-c7814e592042>\u001b[0m in \u001b[0;36m<module>\u001b[0;34m()\u001b[0m\n\u001b[1;32m      2\u001b[0m \u001b[0;32mprint\u001b[0m\u001b[0;34m(\u001b[0m\u001b[0;34m(\u001b[0m\u001b[0;34m\"ord:\\x20\"\u001b[0m\u001b[0;34m,\u001b[0m \u001b[0mord\u001b[0m\u001b[0;34m)\u001b[0m\u001b[0;34m)\u001b[0m\u001b[0;34m\u001b[0m\u001b[0m\n\u001b[1;32m      3\u001b[0m \u001b[0mord\u001b[0m \u001b[0;34m=\u001b[0m \u001b[0;36m4\u001b[0m\u001b[0;34m\u001b[0m\u001b[0m\n\u001b[0;32m----> 4\u001b[0;31m \u001b[0mord\u001b[0m\u001b[0;34m(\u001b[0m\u001b[0;34m'*'\u001b[0m\u001b[0;34m)\u001b[0m  \u001b[0;31m# ...ooops!\u001b[0m\u001b[0;34m\u001b[0m\u001b[0m\n\u001b[0m\u001b[1;32m      5\u001b[0m \u001b[0;32mdel\u001b[0m \u001b[0mord\u001b[0m  \u001b[0;31m# fix it up!\u001b[0m\u001b[0;34m\u001b[0m\u001b[0m\n",
        "\u001b[0;31mTypeError\u001b[0m: 'int' object is not callable"
       ]
      },
      {
       "output_type": "stream",
       "stream": "stdout",
       "text": [
        "('ord: ', <built-in function ord>)\n"
       ]
      }
     ],
     "prompt_number": 9
    },
    {
     "cell_type": "code",
     "collapsed": false,
     "input": [
      "del ord  # fix it up!\n",
      "ord('*')  # ...ooops!\n"
     ],
     "language": "python",
     "metadata": {},
     "outputs": [
      {
       "metadata": {},
       "output_type": "pyout",
       "prompt_number": 10,
       "text": [
        "42"
       ]
      }
     ],
     "prompt_number": 10
    },
    {
     "cell_type": "code",
     "collapsed": false,
     "input": [
      "## def formatting_numbers():\n",
      "# bin() and hex() returns a string representation\n",
      "# of a number\n",
      "a, b1 = hex(10), bin(1)\n",
      "\n",
      "# while the format() function can be more flexible\n",
      "#  10 = 8ciphers + 2chars for the '0b' header\n",
      "binary_with_leading_zeroes = format(1, '#010b') \n",
      "\n",
      "# and reversible with\n",
      "b1 == int(binary_with_leading_zeroes, base=2)\n"
     ],
     "language": "python",
     "metadata": {},
     "outputs": []
    },
    {
     "cell_type": "code",
     "collapsed": false,
     "input": [
      "#def  new_formatting():\n",
      "# The new str.format function just replaces\n",
      "#  %s or %d with {}.\n",
      "s_a = \"is a string \"\n",
      "s_a += \"that can {} extended\".format(\"be\")\n",
      "\n",
      "# Further formatting is done using \":\", eg.\n",
      "#  %.6s -> {:.6}\n",
      "#  %3.2d -> {:3.2}\n",
      "s_a = \"{} even with {:.6} formatting.\\n\".format(s_a, \"positional\")\n",
      "\n",
      "# Alignment identifiers are simpler: < left , ^ center,  > right\n",
      "s_a = \"Align {:>10}% python!\".format(100)\n",
      "\n",
      "print(\"just prints a string\")\n"
     ],
     "language": "python",
     "metadata": {},
     "outputs": []
    }
   ],
   "metadata": {}
  }
 ]
}