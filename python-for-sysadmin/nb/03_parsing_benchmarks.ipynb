
{
 "metadata": {
  "name": ""
 },
 "nbformat": 3,
 "nbformat_minor": 0,
 "worksheets": [
  {
   "cells": [
{
 "cell_type": "code", 
 "prompt_number": 1, 
 "language": "python", 
 "input": "\"\"\"Python for System Administrators\n\n    Exercises\n- write the parse_maillog function, bench with %timeit\n\n\"\"\"\n\n\n", 
 "outputs": [
  {
   "output_type": "stream", 
   "stream": "stdout", 
   "text": [
    "1\n"
   ]
  }
 ], 
 "collapsed": false, 
 "metadata": {}
},
{
 "cell_type": "code", 
 "prompt_number": 1, 
 "language": "python", 
 "input": "test_drive_parsing():\n\n    testline = \"May 31 08:00:00 test-fe1 postfix/smtp[16669]: 7CD8E730020: removed\"\n\n    ", 
 "outputs": [
  {
   "output_type": "stream", 
   "stream": "stdout", 
   "text": [
    "1\n"
   ]
  }
 ], 
 "collapsed": false, 
 "metadata": {}
},
{
 "cell_type": "code", 
 "prompt_number": 1, 
 "language": "python", 
 "input": "test_one():\n        ret = parse_maillog(testline)\n        assert ret == ('08:00:00', 'test-fe1', '7CD8E730020'), \"Error %r\" % ret\n\n\n", 
 "outputs": [
  {
   "output_type": "stream", 
   "stream": "stdout", 
   "text": [
    "1\n"
   ]
  }
 ], 
 "collapsed": false, 
 "metadata": {}
},
{
 "cell_type": "code", 
 "prompt_number": 1, 
 "language": "python", 
 "input": "grep(expr, fpath):\n    \"\"\"grep reloaded with regular expressions and path normalization\n\n        GOAL: re.search matches anywhere (eg. '.*XXX.*')\n                re.match matches from the beginning of the line.\n\n    \"\"\"\n    import re\n    import os\n    re_expr = re.compile(expr)\n    fpath = os.path.normpath(fpath)\n    with open(fpath) as fp:\n        return [x for x in fp if re_expr.search(x)]\n\n\n", 
 "outputs": [
  {
   "output_type": "stream", 
   "stream": "stdout", 
   "text": [
    "1\n"
   ]
  }
 ], 
 "collapsed": false, 
 "metadata": {}
},
{
 "cell_type": "code", 
 "prompt_number": 1, 
 "language": "python", 
 "input": "splitting_with_re():\n    \"\"\"Splitting with re.split\n    \"\"\"\n    import re\n    cmd = \"ping -c10 -w10 www.google.it\"\n    # on windows \"ping -n10 www.google.it\"\n    ping_output = sh(cmd)\n    ping_output = [re.split(\"[ =\", x) for x in ping_output]\n\n\n", 
 "outputs": [
  {
   "output_type": "stream", 
   "stream": "stdout", 
   "text": [
    "1\n"
   ]
  }
 ], 
 "collapsed": false, 
 "metadata": {}
},
{
 "cell_type": "code", 
 "prompt_number": 1, 
 "language": "python", 
 "input": "splitting_with_findall():\n    \"\"\"re.findall for splitting: a shortcut or a misuse?\n\n       goal: improve string readability\n    \"\"\"\n    from re import findall  # can be misused too;\n    # eg for adding the \":\" to a\n    mac_address = \"00\"\"24\"\"e8\"\"b4\"\"33\"\"20\"\n    re_s_1 = \"[0-9a-fA-F]\"\n    mac = ':'.join(re.findall(re_s_1, mac))\n    print(\"The mac address is \", mac)\n\n\n", 
 "outputs": [
  {
   "output_type": "stream", 
   "stream": "stdout", 
   "text": [
    "1\n"
   ]
  }
 ], 
 "collapsed": false, 
 "metadata": {}
},
{
 "cell_type": "code", 
 "prompt_number": 1, 
 "language": "python", 
 "input": "testing_regexps():\n    \"\"\"time the above exercise replacing re_s_1 with the followings\n    \"\"\"\n    test_all_regexps = (\"..\", \"[a-f0-9]{2}\")\n    for re_s in test_all_regexps:\n        %timeit ':'.join(re.findall(re_s, mac))\n\n\n", 
 "outputs": [
  {
   "output_type": "stream", 
   "stream": "stdout", 
   "text": [
    "1\n"
   ]
  }
 ], 
 "collapsed": false, 
 "metadata": {}
},
{
 "cell_type": "code", 
 "prompt_number": 1, 
 "language": "python", 
 "input": "fcswitch_configuration_script():\n    \"\"\"Generate a vsan configuration using linux fc_informations\"\"\"\n    fc_id_path = \"/sys/class/fc_host/host*/port_name\"\n    for x in glob.glob(fc_id_path):\n        pwwn = open(x).read()  # 0x500143802427e66c\n        pwwn = pwwn[2:]\n        pwwn = re.findall(r'..', pwwn)\n        print(\"member pwwn \", ':'.join(pwwn))\n", 
 "outputs": [
  {
   "output_type": "stream", 
   "stream": "stdout", 
   "text": [
    "1\n"
   ]
  }
 ], 
 "collapsed": false, 
 "metadata": {}
}   ],
   "metadata": {}
  }
 ]
}
