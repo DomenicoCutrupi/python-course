{
 "metadata": {
  "name": ""
 },
 "nbformat": 3,
 "nbformat_minor": 0,
 "worksheets": [
  {
   "cells": [
    {
     "cell_type": "markdown",
     "metadata": {},
     "source": [
      "# Gathering system data - Python for System Administrators \n",
      "\n",
      "Goals:\n",
      "    - Gathering System Data with multiplatform and platform-dependent tools\n",
      "    - Get infos from files, /proc, /sys\n",
      "    - Capture command output\n",
      "    - Use psutil to get IO, CPU and memory data\n",
      "    - Parse files with a strategy\n",
      "    \n",
      "Modules:\n",
      "    - psutil, glob, sys, subprocess\n",
      "\n",
      "Non goal for this lesson:\n",
      "    - use with, yield or pipes\n",
      "\n",
      "\n"
     ]
    },
    {
     "cell_type": "code",
     "collapsed": false,
     "input": [
      "#\n",
      "# Our code is p3-ready\n",
      "#\n",
      "from __future__ import print_function\n"
     ],
     "language": "python",
     "metadata": {},
     "outputs": []
    },
    {
     "cell_type": "code",
     "collapsed": false,
     "input": [
      "def grep(needle, fpath):\n",
      "    \"\"\"A simple grep implementation\n",
      "\n",
      "       goal: open() is iterable and don't\n",
      "             needs splitlines()\n",
      "       goal: comprehension can filter lists\n",
      "    \"\"\"\n",
      "    return [x for x in open(fpath) if needle in x]\n",
      "\n",
      "# Do we have localhost\n",
      "grep(\"localhost\", \"/etc/hosts\")\n"
     ],
     "language": "python",
     "metadata": {},
     "outputs": [
      {
       "metadata": {},
       "output_type": "pyout",
       "prompt_number": 1,
       "text": [
        "['127.0.0.1\\tlocalhost.localdomain localhost rhel1 rhel1\\n',\n",
        " '#::1     localhost ip6-localhost ip6-loopback\\n']"
       ]
      }
     ],
     "prompt_number": 1
    },
    {
     "cell_type": "code",
     "collapsed": false,
     "input": [
      "#The psutil module is very nice\n",
      "import psutil\n",
      "\n",
      "#Works on Windows, Linux and MacOS\n",
      "psutil.cpu_percent()\n",
      "\n",
      "#And its output is very easy to manage\n",
      "psutil.disk_io_counters()"
     ],
     "language": "python",
     "metadata": {},
     "outputs": [
      {
       "metadata": {},
       "output_type": "pyout",
       "prompt_number": 4,
       "text": [
        "iostat(read_count=1324297, write_count=8945065, read_bytes=18193275904, write_bytes=82464420864, read_time=14548356, write_time=707731640)"
       ]
      }
     ],
     "prompt_number": 4
    },
    {
     "cell_type": "code",
     "collapsed": false,
     "input": [
      "# Exercise: Which other informations \n",
      "# does psutil provide?"
     ],
     "language": "python",
     "metadata": {},
     "outputs": []
    },
    {
     "cell_type": "code",
     "collapsed": false,
     "input": [
      "# Exercise\n",
      "def multiplatform_vmstat(count):\n",
      "    # Write a vmstat-like funxtion printing every second:\n",
      "    # - cpu usage%\n",
      "    # - bytes read and written in the given interval\n",
      "    # Hint: use psutil and time.sleep(1)\n",
      "    # Hint: try on ipython and *then* write the function\n",
      "    #       using %edit vmstat.py\n",
      "    for i in xrange(count):\n",
      "        raise NotImplementedError\n",
      "        print(cpu_usage, bytes_rw)\n",
      "\n",
      "multiplatform_vmstat(5)\n",
      "    "
     ],
     "language": "python",
     "metadata": {},
     "outputs": [
      {
       "ename": "NotImplementedError",
       "evalue": "",
       "output_type": "pyerr",
       "traceback": [
        "\u001b[0;31m---------------------------------------------------------------------------\u001b[0m\n\u001b[0;31mNotImplementedError\u001b[0m                       Traceback (most recent call last)",
        "\u001b[0;32m<ipython-input-8-d7b5139ce42d>\u001b[0m in \u001b[0;36m<module>\u001b[0;34m()\u001b[0m\n\u001b[1;32m     11\u001b[0m         \u001b[0;32mprint\u001b[0m\u001b[0;34m(\u001b[0m\u001b[0mcpu_usage\u001b[0m\u001b[0;34m,\u001b[0m \u001b[0mbytes_read\u001b[0m\u001b[0;34m,\u001b[0m \u001b[0mbytes_write\u001b[0m\u001b[0;34m)\u001b[0m\u001b[0;34m\u001b[0m\u001b[0m\n\u001b[1;32m     12\u001b[0m \u001b[0;34m\u001b[0m\u001b[0m\n\u001b[0;32m---> 13\u001b[0;31m \u001b[0mvmstat\u001b[0m\u001b[0;34m(\u001b[0m\u001b[0;36m5\u001b[0m\u001b[0;34m)\u001b[0m\u001b[0;34m\u001b[0m\u001b[0m\n\u001b[0m\u001b[1;32m     14\u001b[0m \u001b[0;34m\u001b[0m\u001b[0m\n",
        "\u001b[0;32m<ipython-input-8-d7b5139ce42d>\u001b[0m in \u001b[0;36mvmstat\u001b[0;34m(count)\u001b[0m\n\u001b[1;32m      8\u001b[0m     \u001b[0;31m#       using %edit vmstat.py\u001b[0m\u001b[0;34m\u001b[0m\u001b[0;34m\u001b[0m\u001b[0m\n\u001b[1;32m      9\u001b[0m     \u001b[0;32mfor\u001b[0m \u001b[0mi\u001b[0m \u001b[0;32min\u001b[0m \u001b[0mxrange\u001b[0m\u001b[0;34m(\u001b[0m\u001b[0mcount\u001b[0m\u001b[0;34m)\u001b[0m\u001b[0;34m:\u001b[0m\u001b[0;34m\u001b[0m\u001b[0m\n\u001b[0;32m---> 10\u001b[0;31m         \u001b[0;32mraise\u001b[0m \u001b[0mNotImplementedError\u001b[0m\u001b[0;34m\u001b[0m\u001b[0m\n\u001b[0m\u001b[1;32m     11\u001b[0m         \u001b[0;32mprint\u001b[0m\u001b[0;34m(\u001b[0m\u001b[0mcpu_usage\u001b[0m\u001b[0;34m,\u001b[0m \u001b[0mbytes_read\u001b[0m\u001b[0;34m,\u001b[0m \u001b[0mbytes_write\u001b[0m\u001b[0;34m)\u001b[0m\u001b[0;34m\u001b[0m\u001b[0m\n\u001b[1;32m     12\u001b[0m \u001b[0;34m\u001b[0m\u001b[0m\n",
        "\u001b[0;31mNotImplementedError\u001b[0m: "
       ]
      }
     ],
     "prompt_number": 8
    },
    {
     "cell_type": "code",
     "collapsed": false,
     "input": [
      "#\n",
      "# subprocess\n",
      "#\n",
      "# The check_output function returns the command stdout\n",
      "from subprocess import check_output\n",
      "\n",
      "# It takes a *list* as an argument!\n",
      "out = check_output(\"ping -w1  -c1 www.google.com\".split())\n",
      "\n",
      "# and returns a string\n",
      "print(out)"
     ],
     "language": "python",
     "metadata": {},
     "outputs": [
      {
       "output_type": "stream",
       "stream": "stdout",
       "text": [
        "PING www.google.com (173.194.67.106) 56(84) bytes of data.\n",
        "64 bytes from wi-in-f106.1e100.net (173.194.67.106): icmp_seq=1 ttl=41 time=61.7 ms\n",
        "\n",
        "--- www.google.com ping statistics ---\n",
        "1 packets transmitted, 1 received, 0% packet loss, time 0ms\n",
        "rtt min/avg/max/mdev = 61.767/61.767/61.767/0.000 ms\n",
        "\n"
       ]
      }
     ],
     "prompt_number": 10
    },
    {
     "cell_type": "code",
     "collapsed": false,
     "input": [
      "def sh(cmd, shell=False, timeout=0):\n",
      "    \"\"\"\"Returns an iterable output of a command string\n",
      "        checking...\n",
      "    \"\"\"\n",
      "    from sys import version_info as python_version\n",
      "    if python_version < (3, 3): # ..before using..\n",
      "        if timeout:\n",
      "            raise ValueError(\"Timeout not supported until Python 3.3\")\n",
      "        output = check_output(cmd.split(), shell=shell)\n",
      "    else:\n",
      "        output = check_output(cmd.split(), shell=shell, timeout=timeout)\n",
      "    return output.splitlines()\n",
      "\n",
      "\n"
     ],
     "language": "python",
     "metadata": {},
     "outputs": [],
     "prompt_number": 7
    },
    {
     "cell_type": "code",
     "collapsed": false,
     "input": [
      "# Exercise\n",
      "def ppgrep(program):\n",
      "    \"\"\"\n",
      "    A multiplatform pgrep-like function.\n",
      "    Prints a list of processes executing 'program'\n",
      "    @param program - eg firefox, explorer.exe\n",
      "    \n",
      "    Hint: use subprocess, os and list-comprehension\n",
      "    eg. items = [x for x in a_list if 'firefox' in x] \n",
      "    Solution is at the EOF\n",
      "    \"\"\"\n",
      "    raise NotImplementedError\n",
      "    "
     ],
     "language": "python",
     "metadata": {},
     "outputs": [],
     "prompt_number": 8
    },
    {
     "cell_type": "code",
     "collapsed": false,
     "input": [
      "# Parsing /proc - 1\n",
      "def linux_threads(pid):\n",
      "    \"\"\"\"Glob emulates shell expansion of * and ?\n",
      "\n",
      "         goal: use globbing and format\n",
      "         goal: linux proc structure\n",
      "         goal: startswith accepts tuple arguments\n",
      "    \"\"\"\n",
      "    import glob\n",
      "    path = \"/proc/{}/task/*/status\".format(pid)\n",
      "    \n",
      "    # pick a set of fields to gather\n",
      "    t_info = ('Pid', 'Tgid', 'voluntary')  # this is a tuple!\n",
      "    for t in glob.glob(path):\n",
      "        # ... and use comprehension to get \n",
      "        # intersting data.\n",
      "        t_info = [x \n",
      "                  for x in open(t) \n",
      "                  if x.startswith(t_info)] # startswith accepts tuples!\n",
      "        print(t_info)\n",
      "\n",
      "\n"
     ],
     "language": "python",
     "metadata": {},
     "outputs": [],
     "prompt_number": 4
    },
    {
     "cell_type": "code",
     "collapsed": false,
     "input": [
      "# zip_iterables():\n",
      "\"\"\"The zip method joins list elements pairwise\n",
      "    like a zip fastener\n",
      "\"\"\"\n",
      "from sys import version_info as python_version\n",
      "a_list = [0, 1, 2, 3]\n",
      "b_list = [\"a\", \"b\", \"c\", \"d\"]\n",
      "zipper = zip(a_list, b_list)\n",
      "if python_version >= (3,):\n",
      "    zipper = list(zipper)\n",
      "assert zipper == [(0, \"a\"), (1, \"b\"), (2, \"c\"), (3, \"d\")]\n",
      "\n",
      "\n"
     ],
     "language": "python",
     "metadata": {},
     "outputs": [
      {
       "ename": "SyntaxError",
       "evalue": "invalid syntax (<ipython-input-9-0d0206e46547>, line 1)",
       "output_type": "pyerr",
       "traceback": [
        "\u001b[0;36m  File \u001b[0;32m\"<ipython-input-9-0d0206e46547>\"\u001b[0;36m, line \u001b[0;32m1\u001b[0m\n\u001b[0;31m    zip_iterables():\u001b[0m\n\u001b[0m                   ^\u001b[0m\n\u001b[0;31mSyntaxError\u001b[0m\u001b[0;31m:\u001b[0m invalid syntax\n"
       ]
      }
     ],
     "prompt_number": 9
    },
    {
     "cell_type": "code",
     "collapsed": false,
     "input": [
      "def linux_diskstats(disk):\n",
      "    \"\"\"Get I/O information from /proc/diskstats\n",
      "\n",
      "       @param disk  sda\n",
      "       goal: usage of time.sleep\n",
      "       goal: usage of zip\n",
      "       goal: use string concatenation to increase readability\n",
      "       goal: use *magic with print+sep, splitting and slicing\n",
      "    \"\"\"\n",
      "    from time import sleep\n",
      "    info = ('reads reads_merged reads_sectors reads_ms'\n",
      "            ' writes writes_merged writes_sectors writes_ms'\n",
      "            ' io_in_progress io_ms_weight').split()\n",
      "    print(*info[:8], sep=\"\\t\")\n",
      "    old = [0] * 11\n",
      "\n",
      "    while True:\n",
      "        disk_l = grep(disk, \"/proc/diskstats\")\n",
      "        if len(disk_l) > 1:\n",
      "            raise ValueError(\"More than one partition matches!\")\n",
      "\n",
      "        info = disk_l[0].split()\n",
      "        # the first 3 fields are disk informations\n",
      "        cur = map(int, info[3:])\n",
      "        delta = [x - y for (x, y) in zip(cur, old)]\n",
      "        print(*delta[:8], sep=\"\\t\")\n",
      "        old = cur\n",
      "        sleep(1)\n",
      "\n",
      "#\n",
      "# A more complex exercise using a lot of stuff\n",
      "#\n",
      "\n"
     ],
     "language": "python",
     "metadata": {},
     "outputs": []
    },
    {
     "cell_type": "markdown",
     "metadata": {},
     "source": [
      "# Exercise Solutions... Don't spoil!\n"
     ]
    },
    {
     "cell_type": "code",
     "collapsed": false,
     "input": [
      "def multiplatform_stats(count):\n",
      "    \"\"\"Get data in a multiplatform way\n",
      "\n",
      "    \"\"\"\n",
      "    import psutil\n",
      "    import time\n",
      "    cpu_percent, io_stat, io_stat_0 = 0, 0, 0\n",
      "    print(\"cpu%\", \"iops(r+w)\")\n",
      "    for x in range(-count, 1):\n",
      "        cpu_percent = psutil.cpu_percent()\n",
      "        read_io, write_io = psutil.disk_io_counters()[:2]\n",
      "        io_stat = read_io + write_io\n",
      "        print(cpu_percent, io_stat - io_stat_0)\n",
      "        io_stat_0 = io_stat\n",
      "        if x:\n",
      "            time.sleep(1)\n",
      "\n",
      "\n"
     ],
     "language": "python",
     "metadata": {},
     "outputs": [],
     "prompt_number": 5
    },
    {
     "cell_type": "code",
     "collapsed": false,
     "input": [
      "def system_info_from_command_output_solution():\n",
      "    \"\"\"Exercise: write a multiplatform\n",
      "        pgrep-like function\n",
      "    \"\"\"\n",
      "    def pgrep(expr):\n",
      "        # linux\n",
      "        return grep(expr, sh(\"ps -fe\"))\n",
      "    \n",
      "    def  wpgrep(expr):\n",
      "        # windows\n",
      "        return grep(expr, sh(\"tasklist\"))\n",
      "\n",
      "    # All explorer.exe processes\n",
      "    print(wpgrep(\"explorer.exe\"))\n",
      "\n",
      "\n",
      "    "
     ],
     "language": "python",
     "metadata": {},
     "outputs": []
    },
    {
     "cell_type": "code",
     "collapsed": false,
     "input": [
      "def linux_diskstats(disk):\n",
      "    \"\"\"Get I/O information from /proc/diskstats\n",
      "\n",
      "       @param disk, default sda\n",
      "       goal: usage of time.sleep\n",
      "       goal: usage of zip\n",
      "       goal: use string concatenation to increase readability\n",
      "       goal: use *magic with print+sep, splitting and slicing\n",
      "    \"\"\"\n",
      "    from time import sleep\n",
      "    info = ('reads reads_merged reads_sectors reads_ms'\n",
      "            ' writes writes_merged writes_sectors writes_ms'\n",
      "            ' io_in_progress io_ms_weight').split()\n",
      "    print(*info[:8], sep=\"\\t\")\n",
      "    old = [0] * 11\n",
      "\n",
      "    while True:\n",
      "        disk_l = grep(disk, \"/proc/diskstats\")\n",
      "        if len(disk_l) > 1:\n",
      "            raise ValueError(\"More than one partition matches!\")\n",
      "\n",
      "        info = disk_l[0].split()\n",
      "        # the first 3 fields are disk informations\n",
      "        cur = map(int, info[3:])\n",
      "        delta = [x - y for (x, y) in zip(cur, old)]\n",
      "        print(*delta[:8], sep=\"\\t\")\n",
      "        old = cur\n",
      "        sleep(1)\n",
      "\n",
      "#\n",
      "# A more complex exercise using a lot of stuff\n",
      "#\n",
      "\n"
     ],
     "language": "python",
     "metadata": {},
     "outputs": []
    }
   ],
   "metadata": {}
  }
 ]
}