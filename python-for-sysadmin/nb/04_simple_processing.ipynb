
{
 "metadata": {
  "name": ""
 },
 "nbformat": 3,
 "nbformat_minor": 0,
 "worksheets": [
  {
   "cells": [
{
 "cell_type": "code", 
 "prompt_number": 1, 
 "language": "python", 
 "input": "\"\"\"\n\n\"\"\"\n\n\n", 
 "outputs": [
  {
   "output_type": "stream", 
   "stream": "stdout", 
   "text": [
    "1\n"
   ]
  }
 ], 
 "collapsed": false, 
 "metadata": {}
},
{
 "cell_type": "code", 
 "prompt_number": 1, 
 "language": "python", 
 "input": "sh(cmd):\n    \"\"\"A quick and dirty check_output wrapper.\n        Don't use in production as it won't honor\n        quoted spaces like \"my document.docx\"\n    \"\"\"\n    from subprocess import check_output\n    return check_output(cmd.split()).splitlines()\n\n\n", 
 "outputs": [
  {
   "output_type": "stream", 
   "stream": "stdout", 
   "text": [
    "1\n"
   ]
  }
 ], 
 "collapsed": false, 
 "metadata": {}
},
{
 "cell_type": "code", 
 "prompt_number": 1, 
 "language": "python", 
 "input": "ping_rtt():\n    \"\"\"\n       goal: slicing data\n       goal: using zip to transpose data\n    \"\"\"\n    cmd = \"ping -c10 www.google.it\"\n    if 'win' in sys.platform:\n        cmd = \"ping -n10 www.google.it\"\n\n    ping_output = sh(cmd)\n    if 'win' in sys.platform:\n        ping_output = [ping_output[6::2] for x in ping_output]\n    else:\n        ping_output = [ping_output[-4:-1:2] for x in ping_output]\n    ttl, rtt = zip(*ping_output)\n    return map(float, rtt)\n\n\n", 
 "outputs": [
  {
   "output_type": "stream", 
   "stream": "stdout", 
   "text": [
    "1\n"
   ]
  }
 ], 
 "collapsed": false, 
 "metadata": {}
},
{
 "cell_type": "code", 
 "prompt_number": 1, 
 "language": "python", 
 "input": "ping_stats():\n    \"\"\"\n       goal: remember to convert to numeric / float\n       goal: use scipy\n       goal: check stdev\n    \"\"\"\n    from scipy import std, mean\n    rtt = ping_rtt()\n    fmt_s = 'stdev: {}, mean: {}, min: {}, max: {}'\n    rtt_std, rtt_mean = std(rtt), mean(ping_rtt)\n    rtt_max, rtt_min = max(rtt), min(ping_rtt)\n    print(fmt_s.format(rtt_std, rtt_mean, rtt_max, rtt_min))\n\n\n", 
 "outputs": [
  {
   "output_type": "stream", 
   "stream": "stdout", 
   "text": [
    "1\n"
   ]
  }
 ], 
 "collapsed": false, 
 "metadata": {}
},
{
 "cell_type": "code", 
 "prompt_number": 1, 
 "language": "python", 
 "input": "distributions():\n    from collections import defaultdict\n    \"\"\"generate data distribution using set or defaultdict\n    \"\"\"\n    distro = {x: rtt.count(x) for x in set(rtt)}\n    # or\n    distro = defaultdict(int)\n    for x in rtt:\n        distro += 1\n\n\n", 
 "outputs": [
  {
   "output_type": "stream", 
   "stream": "stdout", 
   "text": [
    "1\n"
   ]
  }
 ], 
 "collapsed": false, 
 "metadata": {}
},
{
 "cell_type": "code", 
 "prompt_number": 1, 
 "language": "python", 
 "input": "netfishing_correlation():\n    from itertools import combinations\n    from scipy.stats.stats import pearsonr\n    from course import table\n    \"\"\"table = {\n        'cpu_percent': [10, 23, 55, ...]\n        'iops': [2132, 3212, 3942, ...]\n        'netio': [1.32e+9, 1.45e+9, ...]\n    }\n    \"\"\"\n    for k1, k2 in combinations(table, 2):\n        r_coeff, probability = pearsonr(table[k1], table[k2])\n        print(\"linear correlation between {} and {} is {}\".format(\n            k1, k2, r_coeff))\n\n", 
 "outputs": [
  {
   "output_type": "stream", 
   "stream": "stdout", 
   "text": [
    "1\n"
   ]
  }
 ], 
 "collapsed": false, 
 "metadata": {}
},
{
 "cell_type": "code", 
 "prompt_number": 1, 
 "language": "python", 
 "input": "netfishing_correlation_plot():\n    from itertools import combinations, cycle\n    from scipy.stats.stats import pearsonr\n    from course import table\n    from matplotlib import pyplot as plt\n    for (k1, v1), (k2,v2) in combinations(table.items(), 2):\n        r_coeff, probability = pearsonr(table[k1], table[k2])\n        if r_coeff < 0.6:\n            continue\n        plt.scatter(v1, v2)\n        plt.xlabel(k1); plt.ylabel(k2)\n        plt.title(\"r={:0.3f} p={:0.3f}\".format(r_coeff, probability))\n        plt.savefig(\"monochromo_{}_{}.png\".format(k1, k2))\n        plt.close()\n\n\n", 
 "outputs": [
  {
   "output_type": "stream", 
   "stream": "stdout", 
   "text": [
    "1\n"
   ]
  }
 ], 
 "collapsed": false, 
 "metadata": {}
},
{
 "cell_type": "code", 
 "prompt_number": 1, 
 "language": "python", 
 "input": "netfishing_correlation_colored_plot():\n    from itertools import combinations, cycle\n    from scipy.stats.stats import pearsonr\n    from course import table, in_chunks\n    from matplotlib import pyplot as plt\n    max_color, nbins = 1<<23, 12\n    colors = cycle('#'+format(x, '06X')  for x in range(0, max_color, max_color / nbins))\n\n    for (k1, v1), (k2,v2) in combinations(table.items(), 2):\n        r_coeff, probability = pearsonr(table[k1], table[k2])\n        if r_coeff < 0.6:\n            continue\n        l = len(v1) / nbins\n        chunks = zip(in_chunks(v1, l), in_chunks(v2, l))\n        [ plt.scatter(c1, c2, color=next(colors)) for c1, c2 in chunks ]\n        plt.xlabel(k1); plt.ylabel(k2)\n        plt.title(\"r={:0.3f} p={:0.3f}\".format(r_coeff, probability))\n        plt.savefig(\"tmp_{}_{}.png\".format(k1, k2))\n        plt.close()\n\n\n", 
 "outputs": [
  {
   "output_type": "stream", 
   "stream": "stdout", 
   "text": [
    "1\n"
   ]
  }
 ], 
 "collapsed": false, 
 "metadata": {}
}   ],
   "metadata": {}
  }
 ]
}
