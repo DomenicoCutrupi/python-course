{
 "metadata": {
  "name": ""
 },
 "nbformat": 3,
 "nbformat_minor": 0,
 "worksheets": [
  {
   "cells": [
    {
     "cell_type": "markdown",
     "metadata": {},
     "source": [
      "# Running nosetests\n",
      "\n",
      "  - Now run the following command from a shell\n",
      "    \n",
      "        # nosetests -vs 03_parsing_test.py\n",
      "\n",
      "  - Nose is a test framework\n",
      "  - Nose runs every file matching test_*\n",
      "  - Nose runs every function matching test_*\n"
     ]
    },
    {
     "cell_type": "code",
     "collapsed": false,
     "input": [
      "!nosetests -vs 03_parsing_test.py"
     ],
     "language": "python",
     "metadata": {},
     "outputs": [
      {
       "output_type": "stream",
       "stream": "stdout",
       "text": [
        "03_parsing_test.test_sent ... ERROR\r\n",
        "03_parsing_test.test_delivered ... ERROR\r\n",
        "\r\n",
        "======================================================================\r\n",
        "ERROR: 03_parsing_test.test_sent\r\n",
        "----------------------------------------------------------------------\r\n",
        "Traceback (most recent call last):\r\n",
        "  File \"/usr/local/lib/python2.7/dist-packages/nose/case.py\", line 197, in runTest\r\n",
        "    self.test(*self.arg)\r\n",
        "  File \"/home/rpolli/babel/python-course/python-for-sysadmin/nb/03_parsing_test.py\", line 21, in test_sent\r\n",
        "    hour, host, destination = parse_line(test_str_1)\r\n",
        "  File \"/home/rpolli/babel/python-course/python-for-sysadmin/nb/03_parsing_test.py\", line 40, in parse_line\r\n",
        "    raise NotImplementedError(\"Write me!\")\r\n",
        "NotImplementedError: Write me!\r\n",
        "\r\n",
        "======================================================================\r\n",
        "ERROR: 03_parsing_test.test_delivered\r\n",
        "----------------------------------------------------------------------\r\n",
        "Traceback (most recent call last):\r\n",
        "  File \"/usr/local/lib/python2.7/dist-packages/nose/case.py\", line 197, in runTest\r\n",
        "    self.test(*self.arg)\r\n",
        "  File \"/home/rpolli/babel/python-course/python-for-sysadmin/nb/03_parsing_test.py\", line 28, in test_delivered\r\n",
        "    hour, host, destination = parse_line(test_str_2)\r\n",
        "  File \"/home/rpolli/babel/python-course/python-for-sysadmin/nb/03_parsing_test.py\", line 40, in parse_line\r\n",
        "    raise NotImplementedError(\"Write me!\")\r\n",
        "NotImplementedError: Write me!\r\n",
        "\r\n",
        "----------------------------------------------------------------------\r\n",
        "Ran 2 tests in 0.001s\r\n",
        "\r\n",
        "FAILED (errors=2)\r\n"
       ]
      }
     ],
     "prompt_number": 6
    },
    {
     "cell_type": "code",
     "collapsed": false,
     "input": [
      "#\n",
      "# Use %load magic to load a file in ipython notebook\n",
      "#\n",
      "%load 02_nosetests_simple.py \n",
      "\n",
      "\n"
     ],
     "language": "python",
     "metadata": {},
     "outputs": [],
     "prompt_number": 2
    },
    {
     "cell_type": "code",
     "collapsed": false,
     "input": [
      "\"\"\"Introduction to nosetests - 01\n",
      "\n",
      "   Run this script with\n",
      "    #nosetest -v scriptname.py\n",
      "\"\"\"\n",
      "\n",
      "\n",
      "def setup():\n",
      "    print(\"This function is run before the testlist\")\n",
      "\n",
      "\n",
      "def test_one():\n",
      "    # just name a function like test_* to execute it!\n",
      "    a = 1\n",
      "    assert a == 1\n",
      "\n",
      "\n",
      "def test_two():\n",
      "    # This test fails and the backtrace is printed\n",
      "    a = 2\n",
      "    assert a == 1, \"Expecting a == 1. Was %r\" % a\n",
      "\n",
      "\n",
      "def teardown():\n",
      "    print(\"after all tests\")\n"
     ],
     "language": "python",
     "metadata": {},
     "outputs": [],
     "prompt_number": 3
    },
    {
     "cell_type": "code",
     "collapsed": false,
     "input": [
      "#\n",
      "# Let's run it!\n",
      "#\n",
      "!nosetests -v 02_nosetests_simple.py"
     ],
     "language": "python",
     "metadata": {},
     "outputs": [
      {
       "output_type": "stream",
       "stream": "stdout",
       "text": [
        "02_nosetests_simple.test_one ... ok\r\n",
        "02_nosetests_simple.test_two ... FAIL\r\n",
        "\r\n",
        "======================================================================\r\n",
        "FAIL: 02_nosetests_simple.test_two\r\n",
        "----------------------------------------------------------------------\r\n",
        "Traceback (most recent call last):\r\n",
        "  File \"/usr/local/lib/python2.7/dist-packages/nose/case.py\", line 197, in runTest\r\n",
        "    self.test(*self.arg)\r\n",
        "  File \"/home/rpolli/babel/python-course/python-for-sysadmin/nb/02_nosetests_simple.py\", line 21, in test_two\r\n",
        "    assert a == 1, \"Expecting a == 1. Was %r\" % a\r\n",
        "AssertionError: Expecting a == 1. Was 2\r\n",
        "\r\n",
        "----------------------------------------------------------------------\r\n",
        "Ran 2 tests in 0.033s\r\n",
        "\r\n",
        "FAILED (failures=1)\r\n"
       ]
      }
     ],
     "prompt_number": 5
    },
    {
     "cell_type": "markdown",
     "metadata": {},
     "source": [
      "## Complete Test Script: I\n",
      "\n",
      "  - a more flexible script is 02_nosetests_full.py which uses a Test class\n",
      "  "
     ]
    },
    {
     "cell_type": "code",
     "collapsed": false,
     "input": [
      "%load 02_nosetests_full.py\n"
     ],
     "language": "python",
     "metadata": {},
     "outputs": [],
     "prompt_number": 7
    },
    {
     "cell_type": "code",
     "collapsed": false,
     "input": [
      "\"\"\"An articulated nosetest script using classes\n",
      "\n",
      "   - setup_class() and setup() increase flexibility\n",
      "\"\"\"\n",
      "\n",
      "import os\n",
      "\n",
      "\n",
      "class TestB:\n",
      "\n",
      "    @classmethod\n",
      "    def setup_class(self):\n",
      "        # Run once at startup, eg. create database structure\n",
      "        print(\"setup testsuite environment\")\n",
      "        open(\"/tmp/test2.out\", \"w\").write(\"0\")\n",
      "\n",
      "    @classmethod\n",
      "    def teardown_class(self):\n",
      "        # Run once at teardown, eg. drop database\n",
      "        print(\"cleanup testsuite environment\")\n",
      "        os.unlink(\"/tmp/test2.out\")\n",
      "\n",
      "    def setup(self):\n",
      "        # Before every test, like populate a table\n",
      "        print(\"before_every_test\")\n",
      "\n",
      "    def teardown(self):\n",
      "        # After every test, eg truncate a table\n",
      "        print(\"after_every_test\")\n",
      "\n",
      "    def test_a(self):\n",
      "        assert os.path.isfile(\"/tmp/test2.out\")\n",
      "\n",
      "    def test_b(self):\n",
      "        assert False\n"
     ],
     "language": "python",
     "metadata": {},
     "outputs": []
    },
    {
     "cell_type": "code",
     "collapsed": false,
     "input": [],
     "language": "python",
     "metadata": {},
     "outputs": []
    }
   ],
   "metadata": {}
  }
 ]
}