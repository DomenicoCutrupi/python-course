{
 "metadata": {
  "name": ""
 },
 "nbformat": 3,
 "nbformat_minor": 0,
 "worksheets": [
  {
   "cells": [
    {
     "cell_type": "markdown",
     "metadata": {},
     "source": [
      "#Introduction to nosetests - 01\n",
      "\n",
      "\n",
      "   Run this script with\n",
      "    #nosetest -v scriptname.py\n",
      "\n",
      "\n"
     ]
    },
    {
     "cell_type": "code",
     "collapsed": false,
     "input": [
      "#\n",
      "# Use %load magic to load a file in ipython notebook\n",
      "#\n",
      "%load 02_nosetests_simple.py \n",
      "\n",
      "\n"
     ],
     "language": "python",
     "metadata": {},
     "outputs": [],
     "prompt_number": 2
    },
    {
     "cell_type": "code",
     "collapsed": false,
     "input": [
      "\"\"\"Introduction to nosetests - 01\n",
      "\n",
      "   Run this script with\n",
      "    #nosetest -v scriptname.py\n",
      "\"\"\"\n",
      "\n",
      "\n",
      "def setup():\n",
      "    print(\"This function is run before the testlist\")\n",
      "\n",
      "\n",
      "def test_one():\n",
      "    # just name a function like test_* to execute it!\n",
      "    a = 1\n",
      "    assert a == 1\n",
      "\n",
      "\n",
      "def test_two():\n",
      "    # This test fails and the backtrace is printed\n",
      "    a = 2\n",
      "    assert a == 1, \"Expecting a == 1. Was %r\" % a\n",
      "\n",
      "\n",
      "def teardown():\n",
      "    print(\"after all tests\")\n"
     ],
     "language": "python",
     "metadata": {},
     "outputs": [],
     "prompt_number": 3
    },
    {
     "cell_type": "code",
     "collapsed": false,
     "input": [
      "#\n",
      "# Let's run it!\n",
      "#\n",
      "!nosetests -v 02_nosetests_simple.py"
     ],
     "language": "python",
     "metadata": {},
     "outputs": [
      {
       "output_type": "stream",
       "stream": "stdout",
       "text": [
        "02_nosetests_simple.test_one ... ok\r\n",
        "02_nosetests_simple.test_two ... FAIL\r\n",
        "\r\n",
        "======================================================================\r\n",
        "FAIL: 02_nosetests_simple.test_two\r\n",
        "----------------------------------------------------------------------\r\n",
        "Traceback (most recent call last):\r\n",
        "  File \"/usr/local/lib/python2.7/dist-packages/nose/case.py\", line 197, in runTest\r\n",
        "    self.test(*self.arg)\r\n",
        "  File \"/home/rpolli/babel/python-course/python-for-sysadmin/nb/02_nosetests_simple.py\", line 21, in test_two\r\n",
        "    assert a == 1, \"Expecting a == 1. Was %r\" % a\r\n",
        "AssertionError: Expecting a == 1. Was 2\r\n",
        "\r\n",
        "----------------------------------------------------------------------\r\n",
        "Ran 2 tests in 0.001s\r\n",
        "\r\n",
        "FAILED (failures=1)\r\n"
       ]
      }
     ],
     "prompt_number": 4
    },
    {
     "cell_type": "code",
     "collapsed": false,
     "input": [],
     "language": "python",
     "metadata": {},
     "outputs": []
    }
   ],
   "metadata": {}
  }
 ]
}