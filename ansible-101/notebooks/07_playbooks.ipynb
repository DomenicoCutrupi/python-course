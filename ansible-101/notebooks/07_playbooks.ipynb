{
 "cells": [
  {
   "cell_type": "markdown",
   "metadata": {},
   "source": [
    "# Playbooks\n",
    "\n",
    "\n",
    "As we already learn in the other lessons, playbooks are yaml files where we group tasks.\n",
    "\n",
    "A playbook starts with an hosts mark specifying the hosts to run the playbook to.\n",
    "\n",
    "```\n",
    "---\n",
    "- hosts: web\n",
    "  tasks: \n",
    "  ...\n",
    "```\n",
    "\n",
    "\n",
    "For yaml, a playbook is a *list* of `hosts` entries.\n",
    "\n",
    "\n",
    "```\n",
    "- hosts: localhost\n",
    "  tasks:\n",
    "  - name: one or more tasks to be run on localhost\n",
    "    ...\n",
    "    \n",
    "- hosts: web\n",
    "  tasks:\n",
    "  - name: followed by tasks to be run on web hostgroup\n",
    "    ...\n",
    "```\n",
    "\n",
    "We can even pick a single element in an host group, or add `tags` entries to restrict executions\n",
    "\n",
    "```\n",
    "- hosts: db[0]\n",
    "  tags: beware\n",
    "  tasks:\n",
    "  - name: .. and then on the first db node ;)\n",
    "\n",
    "```"
   ]
  },
  {
   "cell_type": "code",
   "execution_count": null,
   "metadata": {},
   "outputs": [],
   "source": [
    "cd /notebooks/exercise-07"
   ]
  },
  {
   "cell_type": "markdown",
   "metadata": {
    "collapsed": true
   },
   "source": [
    "### Goal\n",
    "\n",
    " - user and skel\n",
    " - install packages and enable service (not on containers)\n",
    " - lineinfile\n",
    " - curl\n",
    " - file, copy & fetch\n",
    " \n",
    "Creating small reports.\n",
    "\n",
    "More fun with:\n",
    "\n",
    "  - iterations\n",
    "  - ignore_errors\n",
    "  - with_fileglob and remote_fileglob ;)\n",
    "\n",
    "Creating small reports.\n",
    "\n"
   ]
  },
  {
   "cell_type": "markdown",
   "metadata": {},
   "source": [
    "## Gathering facts\n",
    "\n",
    "\n",
    "When run, a playbook gathers facts about hosts (remember the setup module?).\n",
    "\n",
    "Gathering facts may be time-consuming, so you can [tune it via ansible.cfg](http://docs.ansible.com/ansible/intro_configuration.html#gathering) or disable it\n",
    "\n",
    "```\n",
    "- hosts: web\n",
    "  gather_facts: no\n",
    "  tasks:\n",
    "  ...\n",
    "```\n",
    "\n",
    "We can use the [predefined variables](http://docs.ansible.com/ansible/playbooks_variables.html#magic-variables-and-how-to-access-information-about-other-hosts) too:\n",
    "\n",
    "  - group_names\n",
    "  - groups\n",
    "  - hostvars\n",
    "  - environment "
   ]
  },
  {
   "cell_type": "code",
   "execution_count": null,
   "metadata": {},
   "outputs": [],
   "source": [
    "!ansible-playbook debug.yml --tags gather_facts"
   ]
  },
  {
   "cell_type": "markdown",
   "metadata": {},
   "source": [
    "## Exercise: \n",
    "\n",
    "[modify debug.yml](/edit/notebooks/exercise-06/debug.yml) to disable fact gathering and use the following cell to test it "
   ]
  },
  {
   "cell_type": "code",
   "execution_count": null,
   "metadata": {
    "collapsed": true
   },
   "outputs": [],
   "source": [
    "# Test the exercise here"
   ]
  },
  {
   "cell_type": "markdown",
   "metadata": {},
   "source": [
    "### Hints\n",
    "\n",
    " - use ansible_facts as possible instead of gathering facts with uname & co\n",
    " - test and template your iterations statically instead of continuosly gathering facts\n",
    " "
   ]
  },
  {
   "cell_type": "markdown",
   "metadata": {},
   "source": [
    "## hostvars\n",
    "\n",
    "Ansible allows referencing facts between hosts, so that we're able to get eg. a list of all webserver ip addresses.\n",
    "\n",
    "Between set variables we have:\n",
    "\n",
    "  - hostvars\n",
    "  - groups\n",
    "  \n"
   ]
  },
  {
   "cell_type": "code",
   "execution_count": null,
   "metadata": {},
   "outputs": [],
   "source": [
    "!ansible-playbook debug.yml --tags hostvars"
   ]
  },
  {
   "cell_type": "markdown",
   "metadata": {
    "collapsed": true
   },
   "source": [
    "## Exercise\n",
    "\n",
    "Did you note anything about the hostvars keys printed out by the previous command?"
   ]
  },
  {
   "cell_type": "markdown",
   "metadata": {},
   "source": [
    "## Filters\n",
    "\n",
    "We can process hostvars using special functions named filters. \n",
    "\n",
    "Filters are based on the jinja2 template engine.\n",
    "\n",
    "\n",
    "```\n",
    "- name: We already found a simple filter mapping entries to int\n",
    "  debug: msg=\"{{ 3.1415 | int }}\"\n",
    "```\n",
    "\n",
    "A filter is essentially a function returning a function, like a lambda.\n",
    "\n",
    "```\n",
    "int_filter = lambda x: int(x)\n",
    "```\n",
    "\n",
    "A more complex filter: \n",
    "```\n",
    "- name: This is a getter\n",
    "  debug: msg=\"{{ ['host1', 'host2'] | map('extract', hostvars, ['key1', .. , 'keyN']) }}\"\n",
    "```\n",
    "\n",
    "where\n",
    "```\n",
    "hostvars_getter = lambda host: hostvars[host]['key1'][..]['keyN']\n",
    "```\n",
    "\n",
    "You can pipeline filters and test incrementally."
   ]
  },
  {
   "cell_type": "code",
   "execution_count": null,
   "metadata": {
    "collapsed": true
   },
   "outputs": [],
   "source": [
    "!ansible-playbook debug.yml --tags filters"
   ]
  },
  {
   "cell_type": "markdown",
   "metadata": {},
   "source": [
    "## Packages, User and Files\n",
    "\n",
    "Creating user and installing packages is easy\n",
    "\n",
    "```\n",
    "  - name: Install apache\n",
    "    apt: item=\"{{item}}\" state=present\n",
    "    with_items:\n",
    "    - apache2\n",
    "    - curl\n",
    "    \n",
    "  - name: Remove wget\n",
    "    apt: item=wget state=absent\n",
    "```"
   ]
  },
  {
   "cell_type": "code",
   "execution_count": null,
   "metadata": {},
   "outputs": [],
   "source": [
    "!cat package-user.yml\n"
   ]
  },
  {
   "cell_type": "code",
   "execution_count": null,
   "metadata": {
    "collapsed": true
   },
   "outputs": [],
   "source": [
    "!ansible-playbook package-user.yml\n"
   ]
  },
  {
   "cell_type": "code",
   "execution_count": null,
   "metadata": {},
   "outputs": [],
   "source": [
    "!tree /tmp/fetched/"
   ]
  },
  {
   "cell_type": "markdown",
   "metadata": {},
   "source": [
    "## Files and Directories\n",
    "\n",
    "Creating files and directories. \n",
    "\n",
    "lineinfile / blockinfile\n",
    "\n",
    "with_fileglob"
   ]
  },
  {
   "cell_type": "code",
   "execution_count": null,
   "metadata": {},
   "outputs": [],
   "source": [
    "!cat files-content.yml"
   ]
  },
  {
   "cell_type": "code",
   "execution_count": null,
   "metadata": {},
   "outputs": [],
   "source": [
    "!ansible-playbook -i inventory files-content.yml \n"
   ]
  },
  {
   "cell_type": "markdown",
   "metadata": {},
   "source": [
    "## shell module reloaded\n",
    "\n",
    "Ansible can be used to reproduce issues and gather command output. \n",
    "\n",
    "Though the standard workflow can be done registering output in a temporary variable\n"
   ]
  },
  {
   "cell_type": "code",
   "execution_count": null,
   "metadata": {},
   "outputs": [],
   "source": [
    "!cat shell-output-01.yml"
   ]
  },
  {
   "cell_type": "code",
   "execution_count": null,
   "metadata": {},
   "outputs": [],
   "source": [
    "!ansible-playbook shell-output-01.yml"
   ]
  },
  {
   "cell_type": "markdown",
   "metadata": {},
   "source": [
    "This approach has its limits.\n",
    "\n",
    "### Exercise:\n",
    "\n",
    "  - what happens if you processa long pipeline with  [shell-output-01.yml](/edit/notebooks/exercise-07/shell-output-01.yml) ? \n",
    "  \n",
    "Exercise: modify [shell-output-01.yml](/edit/notebooks/exercise-07/shell-output-01.yml) so that:\n",
    "\n",
    "  - every command stdout/stderr is redirected to a given file\n",
    "  - before and after every command output print  a header and a footer (eg. the expected output is like\n",
    "  \n",
    "```\n",
    "--- START COMMAND: cat /etc/resolv.conf --\n",
    "nameserver 172.17.0.1\n",
    "-- END COMMAND: cat /etc/resolv.conf\n",
    "```\n",
    "\n",
    "HINTS:\n",
    "\n",
    "  - use shell redirection instead of `register`\n",
    "  - use with_items to process many different commands \n",
    "  "
   ]
  },
  {
   "cell_type": "code",
   "execution_count": null,
   "metadata": {
    "collapsed": true
   },
   "outputs": [],
   "source": [
    "!ansible-playbook shell-output-02.yml -i ../web"
   ]
  },
  {
   "cell_type": "markdown",
   "metadata": {},
   "source": [
    "### using shell for testing, changing hints\n",
    "\n",
    "For ansible, `shell` and `command` calls:\n",
    "\n",
    "  - always changes the machine state and are colored with brown;\n",
    "  - are skipped by `ansible-playbook --check` to avoid accidental modifications.\n",
    "  \n",
    "\n",
    "If you know a task is not modifying the host (eg. pgrep, ls) you can set `changed_when: no`.\n",
    "\n",
    "If you want to run a `shell|command` task when `--check`, disable the `check_mode` control.\n",
    "\n",
    "Here's a full example!\n",
    "\n",
    "```\n",
    "  - name: This shell task will not modify the system\n",
    "    shell: |\n",
    "      pgrep -fa tomcat\n",
    "    changed_when: no\n",
    "    check_mode: no\n",
    "\n",
    "```\n",
    "\n",
    "#### Exercise\n",
    "\n",
    "Write the [changed-when.yml](/edit/notebooks/exercise-07/changed-when.yml) playbook which:\n",
    "\n",
    "- checks for the following processes on all nodes: ansible, ssh, oracle\n",
    "- checks for the presence of `/tmp/didit.txt` file\n",
    "- all tests should be run even with `--check`\n",
    "- creates an empty /tmp/didit.txt file only when not run in `--check`\n",
    "\n",
    "Does `changed_when` changes ansible behavior when a command fails?\n",
    "\n",
    "\n"
   ]
  },
  {
   "cell_type": "code",
   "execution_count": null,
   "metadata": {
    "collapsed": true
   },
   "outputs": [],
   "source": [
    "!ansible-playbook --check changed-when.yml"
   ]
  },
  {
   "cell_type": "code",
   "execution_count": null,
   "metadata": {
    "collapsed": true
   },
   "outputs": [],
   "source": [
    "!ansible-playbook changed-when.yml"
   ]
  },
  {
   "cell_type": "markdown",
   "metadata": {},
   "source": [
    "## Templates\n",
    "\n",
    "In previous playbooks we've seen **templates** and **filters**.\n",
    "\n",
    "They are applied via the [template module](http://docs.ansible.com/ansible/template_module.html).\n",
    "\n",
    "Let's review one of the previous templates used via the [lineinfile module](http://docs.ansible.com/ansible/lineinfile_module.html):\n",
    "\n",
    "```\n",
    "<html>\n",
    "   <body>\n",
    "       System installed by {{ansible_hostname}} on {{ '{{' }} ansible_hostname {{ '}}' }}\n",
    "   </body>\n",
    "</html>\n",
    "\n",
    "```\n",
    "This maps to \n",
    "```\n",
    "<html>\n",
    "   <body>\n",
    "       System installed by foo.example.com on {{ ansible_hostname }}\n",
    "   </body>\n",
    "</html>\n",
    "\n",
    "```\n",
    "\n",
    "Another way of using templates is to enforcing policies, like:\n",
    "\n",
    "  - logging centralization, naming  and rotating\n",
    "  - limits enforcement\n",
    "  - whatever\n",
    " \n",
    " \n",
    "#### Log rotation\n",
    "```\n",
    "#\n",
    "# Rotate {{programname}} logs generated by rsyslog_simple.j2 .\n",
    "#\n",
    "{{ \"/\".join((\"/var/log/\", dirname, \"*.log\")).replace(\"//\", \"/\") }}  {\n",
    "        missingok\n",
    "        compress\n",
    "        copytruncate\n",
    "        daily\n",
    "        rotate 31\n",
    "        minsize 2048\n",
    "        notifempty\n",
    "}\n",
    "```\n",
    " \n",
    "#### Logfile naming\n",
    "\n",
    "```\n",
    "#\n",
    "# Log {{programname}} in its file.\n",
    "#\n",
    "#  {{programname}} includes port and pid in {{programname}},\n",
    "#  so we use startswith.\n",
    "#\n",
    "# Logs from emerg to notice go to {{programname}}.log\n",
    "if $programname startswith '{{programname}}'  and $syslogseverity <= 5 then /var/log/{{dirname}}{{programname}}.log\n",
    "\n",
    "\n",
    "# Logs for info to debug to {{programname}}-debug.log \n",
    "\n",
    "if $programname startswith '{{programname}}'  and $syslogseverity > 5 then /var/log/{{dirname}}{{programname}}-debug.log                                                                                                           \n",
    "\n",
    "# Don't spam with this logs other files but the ones above (eg. don't log to messages)                             \n",
    "if $programname startswith '{{programname}}'  then ~                                                               \n",
    "\n",
    "```"
   ]
  },
  {
   "cell_type": "code",
   "execution_count": null,
   "metadata": {
    "collapsed": true
   },
   "outputs": [],
   "source": []
  }
 ],
 "metadata": {
  "kernelspec": {
   "display_name": "Python 2",
   "language": "python",
   "name": "python2"
  },
  "language_info": {
   "codemirror_mode": {
    "name": "ipython",
    "version": 2
   },
   "file_extension": ".py",
   "mimetype": "text/x-python",
   "name": "python",
   "nbconvert_exporter": "python",
   "pygments_lexer": "ipython2",
   "version": "2.7.13"
  }
 },
 "nbformat": 4,
 "nbformat_minor": 1
}
