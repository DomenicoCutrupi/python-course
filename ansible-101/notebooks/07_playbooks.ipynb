{
 "cells": [
  {
   "cell_type": "markdown",
   "metadata": {},
   "source": [
    "# Playbooks\n",
    "\n",
    "\n",
    "As we already learn in the other lessons, playbooks are yaml files where we group tasks.\n",
    "\n",
    "A playbook starts with an hosts mark specifying the hosts to run the playbook to.\n",
    "\n",
    "```\n",
    "---\n",
    "- hosts: web\n",
    "  tasks: \n",
    "  ...\n",
    "```\n",
    "\n",
    "\n",
    "For yaml, a playbook is a *list* of `hosts` entries.\n",
    "\n",
    "\n",
    "```\n",
    "- hosts: localhost\n",
    "  tasks:\n",
    "  - name: one or more tasks to be run on localhost\n",
    "    ...\n",
    "    \n",
    "- hosts: web\n",
    "  tasks:\n",
    "  - name: followed by tasks to be run on web hostgroup\n",
    "    ...\n",
    "```\n",
    "\n",
    "We can even pick a single element in an host group, or add `tags` entries to restrict executions\n",
    "\n",
    "```\n",
    "- hosts: db[0]\n",
    "  tags: beware\n",
    "  tasks:\n",
    "  - name: .. and then on the first db node ;)\n",
    "\n",
    "```"
   ]
  },
  {
   "cell_type": "code",
   "execution_count": 2,
   "metadata": {},
   "outputs": [
    {
     "name": "stdout",
     "output_type": "stream",
     "text": [
      "/notebooks/exercise-07\n"
     ]
    }
   ],
   "source": [
    "cd exercise-07"
   ]
  },
  {
   "cell_type": "markdown",
   "metadata": {
    "collapsed": true
   },
   "source": [
    "### Goal\n",
    "\n",
    " - user and skel\n",
    " - install packages and enable service (not on containers)\n",
    " - lineinfile\n",
    " - curl\n",
    " - file, copy & fetch\n",
    " \n",
    "Creating small reports.\n",
    "\n",
    "More fun with:\n",
    "\n",
    "  - iterations\n",
    "  - ignore_errors\n",
    "  - with_fileglob and remote_fileglob ;)\n",
    "\n",
    "Creating small reports.\n",
    "\n"
   ]
  },
  {
   "cell_type": "markdown",
   "metadata": {},
   "source": [
    "## Gathering facts\n",
    "\n",
    "\n",
    "When run, a playbook gathers facts about hosts (remember the setup module?).\n",
    "\n",
    "Gathering facts may be time-consuming, so you can [tune it via ansible.cfg](http://docs.ansible.com/ansible/intro_configuration.html#gathering) or disable it\n",
    "\n",
    "```\n",
    "- hosts: web\n",
    "  gather_facts: no\n",
    "  tasks:\n",
    "  ...\n",
    "```\n",
    "\n",
    "We can use the [predefined variables](http://docs.ansible.com/ansible/playbooks_variables.html#magic-variables-and-how-to-access-information-about-other-hosts) too:\n",
    "\n",
    "  - group_names\n",
    "  - groups\n",
    "  - hostvars\n",
    "  - environment "
   ]
  },
  {
   "cell_type": "code",
   "execution_count": 5,
   "metadata": {},
   "outputs": [
    {
     "name": "stdout",
     "output_type": "stream",
     "text": [
      "\n",
      "PLAY [those tasks are run on localhost only] ***********************************\n",
      "\n",
      "TASK [Gathering Facts] *********************************************************\n",
      "\u001b[0;32mok: [localhost]\u001b[0m\n",
      "\n",
      "TASK [This is the debug module.] ***********************************************\n",
      "\u001b[0;32mok: [localhost] => {\u001b[0m\n",
      "\u001b[0;32m    \"msg\": \"A string\"\u001b[0m\n",
      "\u001b[0;32m}\u001b[0m\n",
      "\n",
      "TASK [The debug module can print a variable too] *******************************\n",
      "\u001b[0;32mok: [localhost] => {\u001b[0m\n",
      "\u001b[0;32m    \"ansible_hostname\": \"sysadminpy\"\u001b[0m\n",
      "\u001b[0;32m}\u001b[0m\n",
      "\n",
      "PLAY [those tasks are run on every web host] ***********************************\n",
      "\n",
      "TASK [Gathering Facts] *********************************************************\n",
      "\u001b[1;31mfatal: [ansible101_web_3]: UNREACHABLE! => {\"changed\": false, \"msg\": \"Authentication or permission failure. In some cases, you may have been able to authenticate and did not have permissions on the remote directory. Consider changing the remote temp path in ansible.cfg to a path rooted in \\\"/tmp\\\". Failed command was: ( umask 77 && mkdir -p \\\"` echo ~/.ansible/tmp/ansible-tmp-1499006223.72-33273601010002 `\\\" && echo ansible-tmp-1499006223.72-33273601010002=\\\"` echo ~/.ansible/tmp/ansible-tmp-1499006223.72-33273601010002 `\\\" ), exited with result 1\", \"unreachable\": true}\u001b[0m\n",
      "\u001b[0;32mok: [ansible101_web_2]\u001b[0m\n",
      "\u001b[0;32mok: [ansible101_web_1]\u001b[0m\n",
      "\n",
      "PLAY [Run only on first host] **************************************************\n",
      "\n",
      "TASK [Gathering Facts] *********************************************************\n",
      "\u001b[0;32mok: [ansible101_web_1]\u001b[0m\n",
      "\n",
      "PLAY [Run only on first host] **************************************************\n",
      "\n",
      "TASK [Gathering Facts] *********************************************************\n",
      "\u001b[0;32mok: [ansible101_web_1]\u001b[0m\n",
      "\n",
      "PLAY RECAP *********************************************************************\n",
      "\u001b[0;32mansible101_web_1\u001b[0m           : \u001b[0;32mok=3   \u001b[0m changed=0    unreachable=0    failed=0   \n",
      "\u001b[0;32mansible101_web_2\u001b[0m           : \u001b[0;32mok=1   \u001b[0m changed=0    unreachable=0    failed=0   \n",
      "\u001b[0;31mansible101_web_3\u001b[0m           : ok=0    changed=0    \u001b[1;31munreachable=1   \u001b[0m failed=0   \n",
      "\u001b[0;32mlocalhost\u001b[0m                  : \u001b[0;32mok=3   \u001b[0m changed=0    unreachable=0    failed=0   \n",
      "\n"
     ]
    }
   ],
   "source": [
    "!ansible-playbook debug.yml --tags gather_facts"
   ]
  },
  {
   "cell_type": "markdown",
   "metadata": {},
   "source": [
    "## Exercise: \n",
    "\n",
    "[modify debug.yml](/edit/notebooks/exercise-06/debug.yml) to disable fact gathering and use the following cell to test it "
   ]
  },
  {
   "cell_type": "code",
   "execution_count": 6,
   "metadata": {
    "collapsed": true
   },
   "outputs": [],
   "source": [
    "# Test the exercise here"
   ]
  },
  {
   "cell_type": "markdown",
   "metadata": {},
   "source": [
    "### Hints\n",
    "\n",
    " - use ansible_facts as possible instead of gathering facts with uname & co\n",
    " - test and template your iterations statically instead of continuosly gathering facts\n",
    " "
   ]
  },
  {
   "cell_type": "markdown",
   "metadata": {},
   "source": [
    "## hostvars\n",
    "\n",
    "Ansible allows referencing facts between hosts, so that we're able to get eg. a list of all webserver ip addresses.\n",
    "\n",
    "Between set variables we have:\n",
    "\n",
    "  - hostvars\n",
    "  - groups\n",
    "  \n"
   ]
  },
  {
   "cell_type": "code",
   "execution_count": 3,
   "metadata": {},
   "outputs": [
    {
     "name": "stdout",
     "output_type": "stream",
     "text": [
      "\n",
      "PLAY [those tasks are run on localhost only] ***********************************\n",
      "\n",
      "TASK [Gathering Facts] *********************************************************\n",
      "\u001b[0;32mok: [localhost]\u001b[0m\n",
      "\n",
      "PLAY [those tasks are run on every web host] ***********************************\n",
      "\n",
      "TASK [Gathering Facts] *********************************************************\n",
      "\u001b[1;31mfatal: [ansible101_web_3]: UNREACHABLE! => {\"changed\": false, \"msg\": \"Authentication or permission failure. In some cases, you may have been able to authenticate and did not have permissions on the remote directory. Consider changing the remote temp path in ansible.cfg to a path rooted in \\\"/tmp\\\". Failed command was: ( umask 77 && mkdir -p \\\"` echo ~/.ansible/tmp/ansible-tmp-1499004149.75-90392408564316 `\\\" && echo ansible-tmp-1499004149.75-90392408564316=\\\"` echo ~/.ansible/tmp/ansible-tmp-1499004149.75-90392408564316 `\\\" ), exited with result 1\", \"unreachable\": true}\u001b[0m\n",
      "\u001b[0;32mok: [ansible101_web_2]\u001b[0m\n",
      "\u001b[0;32mok: [ansible101_web_1]\u001b[0m\n",
      "\n",
      "PLAY [Run only on first host] **************************************************\n",
      "\n",
      "TASK [Gathering Facts] *********************************************************\n",
      "\u001b[0;32mok: [ansible101_web_1]\u001b[0m\n",
      "\n",
      "TASK [Iterating over a map yields the keys] ************************************\n",
      "\u001b[0;32mok: [ansible101_web_1] => (item=ansible101_web_2) => {\u001b[0m\n",
      "\u001b[0;32m    \"item\": \"ansible101_web_2\", \u001b[0m\n",
      "\u001b[0;32m    \"msg\": \"Host: ansible101_web_2\\n\"\u001b[0m\n",
      "\u001b[0;32m}\u001b[0m\n",
      "\u001b[0;32mok: [ansible101_web_1] => (item=ansible101_web_3) => {\u001b[0m\n",
      "\u001b[0;32m    \"item\": \"ansible101_web_3\", \u001b[0m\n",
      "\u001b[0;32m    \"msg\": \"Host: ansible101_web_3\\n\"\u001b[0m\n",
      "\u001b[0;32m}\u001b[0m\n",
      "\u001b[0;32mok: [ansible101_web_1] => (item=ansible101_web_1) => {\u001b[0m\n",
      "\u001b[0;32m    \"item\": \"ansible101_web_1\", \u001b[0m\n",
      "\u001b[0;32m    \"msg\": \"Host: ansible101_web_1\\n\"\u001b[0m\n",
      "\u001b[0;32m}\u001b[0m\n",
      "\n",
      "TASK [Use subscript to access entries] *****************************************\n",
      "\u001b[0;32mok: [ansible101_web_1] => (item=ansible101_web_1) => {\u001b[0m\n",
      "\u001b[0;32m    \"item\": \"ansible101_web_1\", \u001b[0m\n",
      "\u001b[0;32m    \"msg\": \"address: 172.17.0.4\\n\"\u001b[0m\n",
      "\u001b[0;32m}\u001b[0m\n",
      "\u001b[0;32mok: [ansible101_web_1] => (item=ansible101_web_2) => {\u001b[0m\n",
      "\u001b[0;32m    \"item\": \"ansible101_web_2\", \u001b[0m\n",
      "\u001b[0;32m    \"msg\": \"address: 172.17.0.3\\n\"\u001b[0m\n",
      "\u001b[0;32m}\u001b[0m\n",
      "\u001b[0;31mfatal: [ansible101_web_1]: FAILED! => {\"failed\": true, \"msg\": \"the field 'args' has an invalid value, which appears to include a variable that is undefined. The error was: 'dict object' has no attribute 'ansible_default_ipv4'\\n\\nThe error appears to have been in '/notebooks/exercise-07/debug.yml': line 34, column 5, but may\\nbe elsewhere in the file depending on the exact syntax problem.\\n\\nThe offending line appears to be:\\n\\n\\n  - name: Use subscript to access entries\\n    ^ here\\n\"}\u001b[0m\n",
      "\n",
      "PLAY RECAP *********************************************************************\n",
      "\u001b[0;31mansible101_web_1\u001b[0m           : \u001b[0;32mok=3   \u001b[0m changed=0    unreachable=0    \u001b[0;31mfailed=1   \u001b[0m\n",
      "\u001b[0;32mansible101_web_2\u001b[0m           : \u001b[0;32mok=1   \u001b[0m changed=0    unreachable=0    failed=0   \n",
      "\u001b[0;31mansible101_web_3\u001b[0m           : ok=0    changed=0    \u001b[1;31munreachable=1   \u001b[0m failed=0   \n",
      "\u001b[0;32mlocalhost\u001b[0m                  : \u001b[0;32mok=1   \u001b[0m changed=0    unreachable=0    failed=0   \n",
      "\n"
     ]
    }
   ],
   "source": [
    "!ansible-playbook debug.yml --tags hostvars"
   ]
  },
  {
   "cell_type": "markdown",
   "metadata": {
    "collapsed": true
   },
   "source": [
    "## Exercise\n",
    "\n",
    "Did you note anything about the hostvars keys printed out by the previous command?"
   ]
  },
  {
   "cell_type": "markdown",
   "metadata": {},
   "source": [
    "## Filters\n",
    "\n",
    "We can process hostvars using special functions named filters. \n",
    "\n",
    "Filters are based on the jinja2 template engine.\n",
    "\n",
    "\n",
    "```\n",
    "- name: We already found a simple filter mapping entries to int\n",
    "  debug: msg=\"{{ 3.1415 | int }}\"\n",
    "```\n",
    "\n",
    "A filter is essentially a function returning a function, like a lambda.\n",
    "\n",
    "```\n",
    "int_filter = lambda x: int(x)\n",
    "```\n",
    "\n",
    "A more complex filter: \n",
    "```\n",
    "- name: This is a getter\n",
    "  debug: msg=\"{{ ['host1', 'host2'] | map('extract', hostvars, ['key1', .. , 'keyN']) }}\"\n",
    "```\n",
    "\n",
    "where\n",
    "```\n",
    "hostvars_getter = lambda host: hostvars[host]['key1'][..]['keyN']\n",
    "```\n",
    "\n",
    "You can pipeline filters and test incrementally."
   ]
  },
  {
   "cell_type": "code",
   "execution_count": 9,
   "metadata": {},
   "outputs": [
    {
     "name": "stdout",
     "output_type": "stream",
     "text": [
      "\n",
      "PLAY [those tasks are run on localhost only] ***********************************\n",
      "\n",
      "TASK [Gathering Facts] *********************************************************\n",
      "\u001b[0;32mok: [localhost]\u001b[0m\n",
      "\n",
      "PLAY [those tasks are run on every web host] ***********************************\n",
      "\n",
      "TASK [Gathering Facts] *********************************************************\n",
      "\u001b[1;31mfatal: [ansible101_web_3]: UNREACHABLE! => {\"changed\": false, \"msg\": \"Authentication or permission failure. In some cases, you may have been able to authenticate and did not have permissions on the remote directory. Consider changing the remote temp path in ansible.cfg to a path rooted in \\\"/tmp\\\". Failed command was: ( umask 77 && mkdir -p \\\"` echo ~/.ansible/tmp/ansible-tmp-1499009135.14-257218177738666 `\\\" && echo ansible-tmp-1499009135.14-257218177738666=\\\"` echo ~/.ansible/tmp/ansible-tmp-1499009135.14-257218177738666 `\\\" ), exited with result 1\", \"unreachable\": true}\u001b[0m\n",
      "\u001b[0;32mok: [ansible101_web_2]\u001b[0m\n",
      "\u001b[0;32mok: [ansible101_web_1]\u001b[0m\n",
      "\n",
      "PLAY [Run only on first host] **************************************************\n",
      "\n",
      "TASK [Gathering Facts] *********************************************************\n",
      "\u001b[0;32mok: [ansible101_web_1]\u001b[0m\n",
      "\n",
      "PLAY [Get a list of defined host ips.] *****************************************\n",
      "\n",
      "TASK [Gathering Facts] *********************************************************\n",
      "\u001b[0;32mok: [ansible101_web_1]\u001b[0m\n",
      "\n",
      "TASK [Using filters] ***********************************************************\n",
      "\u001b[0;32mok: [ansible101_web_1] => {\u001b[0m\n",
      "\u001b[0;32m    \"msg\": [\u001b[0m\n",
      "\u001b[0;32m        \"172.17.0.4\", \u001b[0m\n",
      "\u001b[0;32m        \"172.17.0.3\"\u001b[0m\n",
      "\u001b[0;32m    ]\u001b[0m\n",
      "\u001b[0;32m}\u001b[0m\n",
      "\n",
      "PLAY RECAP *********************************************************************\n",
      "\u001b[0;32mansible101_web_1\u001b[0m           : \u001b[0;32mok=4   \u001b[0m changed=0    unreachable=0    failed=0   \n",
      "\u001b[0;32mansible101_web_2\u001b[0m           : \u001b[0;32mok=1   \u001b[0m changed=0    unreachable=0    failed=0   \n",
      "\u001b[0;31mansible101_web_3\u001b[0m           : ok=0    changed=0    \u001b[1;31munreachable=1   \u001b[0m failed=0   \n",
      "\u001b[0;32mlocalhost\u001b[0m                  : \u001b[0;32mok=1   \u001b[0m changed=0    unreachable=0    failed=0   \n",
      "\n"
     ]
    }
   ],
   "source": [
    "!ansible-playbook debug.yml --tags filters"
   ]
  },
  {
   "cell_type": "markdown",
   "metadata": {},
   "source": [
    "## Packages, User and Files\n",
    "\n",
    "Creating user and installing packages is easy\n",
    "\n",
    "```\n",
    "  - name: Install apache\n",
    "    apt: item=\"{{item}}\" state=present\n",
    "    with_items:\n",
    "    - apache2\n",
    "    - curl\n",
    "    \n",
    "  - name: Remove wget\n",
    "    apt: item=wget state=absent\n",
    "```"
   ]
  },
  {
   "cell_type": "code",
   "execution_count": 8,
   "metadata": {},
   "outputs": [
    {
     "name": "stdout",
     "output_type": "stream",
     "text": [
      "- hosts: web\r\n",
      "  tasks:\r\n",
      "  - name: Install apache and other packages eventually iterating\r\n",
      "    apt: name=\"{{item}}\"\r\n",
      "    with_items:\r\n",
      "    - apache2\r\n",
      "    - curl\r\n",
      "\r\n",
      "  - name: Remove wget\r\n",
      "    apt: name=wget state=absent\r\n",
      "\r\n",
      "  - name: Create user\r\n",
      "    user: \r\n",
      "      name: foo\r\n",
      "      groups: adm\r\n",
      "      append: yes\r\n",
      "      shell: /bin/bash\r\n",
      "      skeleton: /root   # duplicate /root/ content for the foo user\r\n",
      "\r\n",
      "  - name: >\r\n",
      "      Copy a file to ~foo expandig tilde.\r\n",
      "      Do not forget quotes!\r\n",
      "    copy:\r\n",
      "      src: package-user.yml\r\n",
      "      dest: \"{{ '~foo' | expanduser }}\"\r\n",
      "\r\n",
      "  - name: >\r\n",
      "      We can fetch files too (eg. logs):\r\n",
      "      - files are dispatched to different directories.\r\n",
      "      - we can avoid enforcing checksum as we're messing with \r\n",
      "        containers.\r\n",
      "      \r\n",
      "    fetch:\r\n",
      "      src: /etc/passwd\r\n",
      "      dest: /tmp/fetched\r\n",
      "      validate_checksum: no\r\n"
     ]
    }
   ],
   "source": [
    "!cat package-user.yml\n"
   ]
  },
  {
   "cell_type": "code",
   "execution_count": 9,
   "metadata": {},
   "outputs": [
    {
     "name": "stdout",
     "output_type": "stream",
     "text": [
      "\n",
      "PLAY [web] *********************************************************************\n",
      "\n",
      "TASK [Gathering Facts] *********************************************************\n",
      "\u001b[0;32mok: [ansible101_web_1]\u001b[0m\n",
      "\n",
      "TASK [Install apache and other packages eventually iterating] ******************\n",
      "\u001b[0;32mok: [ansible101_web_1] => (item=[u'apache2', u'curl'])\u001b[0m\n",
      "\n",
      "TASK [Remove wget] *************************************************************\n",
      "\u001b[0;32mok: [ansible101_web_1]\u001b[0m\n",
      "\n",
      "TASK [Create user] *************************************************************\n",
      "\u001b[0;32mok: [ansible101_web_1]\u001b[0m\n",
      "\n",
      "TASK [Copy a file to ~foo expandig tilde. Do not forget quotes!] ***************\n",
      "\u001b[0;32mok: [ansible101_web_1]\u001b[0m\n",
      "\n",
      "TASK [We can fetch files too (eg. logs): - files are dispatched to different directories. - we can avoid enforcing checksum as we're messing with \n",
      "  containers.] ***\n",
      "\u001b[0;33mchanged: [ansible101_web_1]\u001b[0m\n",
      "\n",
      "PLAY RECAP *********************************************************************\n",
      "\u001b[0;33mansible101_web_1\u001b[0m           : \u001b[0;32mok=6   \u001b[0m \u001b[0;33mchanged=1   \u001b[0m unreachable=0    failed=0   \n",
      "\n"
     ]
    }
   ],
   "source": [
    "!ansible-playbook package-user.yml\n"
   ]
  },
  {
   "cell_type": "code",
   "execution_count": 12,
   "metadata": {},
   "outputs": [
    {
     "name": "stdout",
     "output_type": "stream",
     "text": [
      "/tmp/fetched/\r\n",
      "└── ansible101_web_1\r\n",
      "    ├── etc\r\n",
      "    └── var\r\n",
      "        └── log\r\n",
      "\r\n",
      "4 directories, 0 files\r\n"
     ]
    }
   ],
   "source": [
    "!tree /tmp/fetched/"
   ]
  },
  {
   "cell_type": "markdown",
   "metadata": {},
   "source": [
    "## Files and Directories\n",
    "\n",
    "Creating files and directories. \n",
    "\n",
    "lineinfile / blockinfile\n",
    "\n",
    "with_fileglob"
   ]
  },
  {
   "cell_type": "code",
   "execution_count": 10,
   "metadata": {},
   "outputs": [
    {
     "name": "stdout",
     "output_type": "stream",
     "text": [
      "- hosts: localhost\r\n",
      "  name: >\r\n",
      "    A playbook can be made of multiple stanzas. They'll be\r\n",
      "    pipelined. \r\n",
      "  tasks:\r\n",
      "  - name: Delete previous template\r\n",
      "    file: state=absent dest=/tmp/index.html.template\r\n",
      "\r\n",
      "  - name: |\r\n",
      "      We're now just showing how to create a file containing a block of lines\r\n",
      "    blockinfile:\r\n",
      "      dest: /tmp/index.html.template\r\n",
      "      create: yes\r\n",
      "      owner: root\r\n",
      "      group: root\r\n",
      "      marker: no\r\n",
      "      mode: 0644\r\n",
      "      block: >\r\n",
      "       <html>\r\n",
      "       <body>\r\n",
      "       System installed by {{ansible_hostname}} on {{ '{{' }} ansible_hostname {{ '}}' }}\r\n",
      "       </body>\r\n",
      "       </html>\r\n",
      "\r\n",
      "  - name: Register command output in a variable\r\n",
      "    shell: cat index.html.template\r\n",
      "    args:\r\n",
      "      chdir: /tmp \r\n",
      "    register: o_cat\r\n",
      "\r\n",
      "  - name: Show output\r\n",
      "    debug: var=o_cat.stdout\r\n",
      "     \r\n",
      "\r\n",
      "- hosts: web\r\n",
      "  tasks:\r\n",
      "  - name: Install apache and other packages eventually iterating\r\n",
      "    apt: name=\"{{item}}\"\r\n",
      "    with_items:\r\n",
      "    - apache2\r\n",
      "    - curl\r\n",
      "  \r\n",
      "  - name: Facts are per-host variables\r\n",
      "    set_fact: documentroot=\"{{ '~www-data' | expanduser }}/html\"\r\n",
      "\r\n",
      "  - name: Ensure www is there\r\n",
      "    file: dest=\"{{documentroot}}\"  state=directory owner=root group=root\r\n",
      "\r\n",
      "  - name: Upload file as a template\r\n",
      "    template: \r\n",
      "      src: /tmp/index.html.template\r\n",
      "      dest: /var/www/html/index.html\r\n",
      "\r\n",
      "  - name: Start apache2\r\n",
      "    service: name=apache2 state=started\r\n",
      "\r\n",
      "  - name: Check page\r\n",
      "    uri: \r\n",
      "      url: http://localhost\r\n",
      "      return_content: yes\r\n",
      "    register: webpage\r\n",
      "\r\n",
      "  - name: Fail if AWESOME is not in the page content\r\n",
      "    fail:\r\n",
      "    when: \"'sysadminpy' not in webpage.content\"\r\n",
      "\r\n",
      "\r\n",
      "\r\n",
      "\r\n",
      "\r\n",
      "\r\n"
     ]
    }
   ],
   "source": [
    "!cat files-content.yml"
   ]
  },
  {
   "cell_type": "code",
   "execution_count": 11,
   "metadata": {},
   "outputs": [
    {
     "name": "stdout",
     "output_type": "stream",
     "text": [
      "\n",
      "PLAY [A playbook can be made of multiple stanzas. They'll be pipelined.] *******\n",
      "\n",
      "TASK [Gathering Facts] *********************************************************\n",
      "\u001b[0;32mok: [localhost]\u001b[0m\n",
      "\n",
      "TASK [Delete previous template] ************************************************\n",
      "\u001b[0;33mchanged: [localhost]\u001b[0m\n",
      "\n",
      "TASK [We're now just showing how to create a file containing a block of lines] ***\n",
      "\u001b[0;33mchanged: [localhost]\u001b[0m\n",
      "\n",
      "TASK [Register command output in a variable] ***********************************\n",
      "\u001b[0;33mchanged: [localhost]\u001b[0m\n",
      "\n",
      "TASK [Show output] *************************************************************\n",
      "\u001b[0;32mok: [localhost] => {\u001b[0m\n",
      "\u001b[0;32m    \"o_cat.stdout\": \"False\\n<html> <body> System installed by sysadminpy on {{ ansible_hostname }} </body> </html>\\nFalse\"\u001b[0m\n",
      "\u001b[0;32m}\u001b[0m\n",
      "\n",
      "PLAY [web] *********************************************************************\n",
      "\n",
      "TASK [Gathering Facts] *********************************************************\n",
      "\u001b[1;31mfatal: [ansible101_web_3]: UNREACHABLE! => {\"changed\": false, \"msg\": \"Authentication or permission failure. In some cases, you may have been able to authenticate and did not have permissions on the remote directory. Consider changing the remote temp path in ansible.cfg to a path rooted in \\\"/tmp\\\". Failed command was: ( umask 77 && mkdir -p \\\"` echo ~/.ansible/tmp/ansible-tmp-1499009697.08-161548711280041 `\\\" && echo ansible-tmp-1499009697.08-161548711280041=\\\"` echo ~/.ansible/tmp/ansible-tmp-1499009697.08-161548711280041 `\\\" ), exited with result 1\", \"unreachable\": true}\u001b[0m\n",
      "\u001b[0;32mok: [ansible101_web_2]\u001b[0m\n",
      "\u001b[0;32mok: [ansible101_web_1]\u001b[0m\n",
      "\n",
      "TASK [Install apache and other packages eventually iterating] ******************\n",
      "\u001b[0;32mok: [ansible101_web_1] => (item=[u'apache2', u'curl'])\u001b[0m\n",
      "\u001b[0;33mchanged: [ansible101_web_2] => (item=[u'apache2', u'curl'])\u001b[0m\n",
      "\n",
      "TASK [Facts are per-host variables] ********************************************\n",
      "\u001b[0;32mok: [ansible101_web_1]\u001b[0m\n",
      "\u001b[0;32mok: [ansible101_web_2]\u001b[0m\n",
      "\n",
      "TASK [Ensure www is there] *****************************************************\n",
      "\u001b[0;32mok: [ansible101_web_2]\u001b[0m\n",
      "\u001b[0;32mok: [ansible101_web_1]\u001b[0m\n",
      "\n",
      "TASK [Upload file as a template] ***********************************************\n",
      "\u001b[0;32mok: [ansible101_web_1]\u001b[0m\n",
      "\u001b[0;33mchanged: [ansible101_web_2]\u001b[0m\n",
      "\n",
      "TASK [Start apache2] ***********************************************************\n",
      "\u001b[0;33mchanged: [ansible101_web_2]\u001b[0m\n",
      "\u001b[0;33mchanged: [ansible101_web_1]\u001b[0m\n",
      "\n",
      "TASK [Check page] **************************************************************\n",
      "\u001b[0;32mok: [ansible101_web_2]\u001b[0m\n",
      "\u001b[0;32mok: [ansible101_web_1]\u001b[0m\n",
      "\n",
      "TASK [Fail if AWESOME is not in the page content] ******************************\n",
      "\u001b[0;36mskipping: [ansible101_web_1]\u001b[0m\n",
      "\u001b[0;36mskipping: [ansible101_web_2]\u001b[0m\n",
      "\n",
      "PLAY RECAP *********************************************************************\n",
      "\u001b[0;33mansible101_web_1\u001b[0m           : \u001b[0;32mok=7   \u001b[0m \u001b[0;33mchanged=1   \u001b[0m unreachable=0    failed=0   \n",
      "\u001b[0;33mansible101_web_2\u001b[0m           : \u001b[0;32mok=7   \u001b[0m \u001b[0;33mchanged=3   \u001b[0m unreachable=0    failed=0   \n",
      "\u001b[0;31mansible101_web_3\u001b[0m           : ok=0    changed=0    \u001b[1;31munreachable=1   \u001b[0m failed=0   \n",
      "\u001b[0;33mlocalhost\u001b[0m                  : \u001b[0;32mok=5   \u001b[0m \u001b[0;33mchanged=3   \u001b[0m unreachable=0    failed=0   \n",
      "\n"
     ]
    }
   ],
   "source": [
    "!ansible-playbook -i inventory files-content.yml \n"
   ]
  },
  {
   "cell_type": "markdown",
   "metadata": {},
   "source": [
    "## shell module reloaded\n",
    "\n",
    "Ansible can be used to reproduce issues and gather command output. \n",
    "\n",
    "Though the standard workflow can be done registering output in a temporary variable\n"
   ]
  },
  {
   "cell_type": "code",
   "execution_count": 14,
   "metadata": {},
   "outputs": [
    {
     "name": "stdout",
     "output_type": "stream",
     "text": [
      "# \r\n",
      "- hosts: localhost\r\n",
      "  tasks:\r\n",
      "  - name: Run multiple commands via /bin/sh (no bashisms)\r\n",
      "    shell: |\r\n",
      "      ls -latr /etc/host*\r\n",
      "    ignore_errors: yes\r\n",
      "    register: o\r\n",
      "    \r\n",
      "  - name: Show output in a single block...\r\n",
      "    debug: var=o.stdout\r\n",
      "\r\n",
      "  - name: ... or one per line\r\n",
      "    debug: var=item\r\n",
      "    with_items: >\r\n",
      "      {{ o.stdout_lines }}\r\n",
      "\r\n"
     ]
    }
   ],
   "source": [
    "!cat shell-output-01.yml"
   ]
  },
  {
   "cell_type": "code",
   "execution_count": 15,
   "metadata": {},
   "outputs": [
    {
     "name": "stdout",
     "output_type": "stream",
     "text": [
      "\n",
      "PLAY [localhost] ***************************************************************\n",
      "\n",
      "TASK [Gathering Facts] *********************************************************\n",
      "\u001b[0;32mok: [localhost]\u001b[0m\n",
      "\n",
      "TASK [Run multiple commands via /bin/sh (no bashisms)] *************************\n",
      "\u001b[0;33mchanged: [localhost]\u001b[0m\n",
      "\n",
      "TASK [Show output in a single block...] ****************************************\n",
      "\u001b[0;32mok: [localhost] => {\u001b[0m\n",
      "\u001b[0;32m    \"o.stdout\": \"-rw-r--r--. 1 root root   9 Aug  7  2006 /etc/host.conf\\n-rw-r--r--. 1 root root 172 Jun 29 09:31 /etc/hosts\\n-rw-r--r--. 1 root root  11 Jun 29 09:31 /etc/hostname\"\u001b[0m\n",
      "\u001b[0;32m}\u001b[0m\n",
      "\n",
      "TASK [... or one per line] *****************************************************\n",
      "\u001b[0;32mok: [localhost] => (item=-rw-r--r--. 1 root root   9 Aug  7  2006 /etc/host.conf) => {\u001b[0m\n",
      "\u001b[0;32m    \"item\": \"-rw-r--r--. 1 root root   9 Aug  7  2006 /etc/host.conf\"\u001b[0m\n",
      "\u001b[0;32m}\u001b[0m\n",
      "\u001b[0;32mok: [localhost] => (item=-rw-r--r--. 1 root root 172 Jun 29 09:31 /etc/hosts) => {\u001b[0m\n",
      "\u001b[0;32m    \"item\": \"-rw-r--r--. 1 root root 172 Jun 29 09:31 /etc/hosts\"\u001b[0m\n",
      "\u001b[0;32m}\u001b[0m\n",
      "\u001b[0;32mok: [localhost] => (item=-rw-r--r--. 1 root root  11 Jun 29 09:31 /etc/hostname) => {\u001b[0m\n",
      "\u001b[0;32m    \"item\": \"-rw-r--r--. 1 root root  11 Jun 29 09:31 /etc/hostname\"\u001b[0m\n",
      "\u001b[0;32m}\u001b[0m\n",
      "\n",
      "PLAY RECAP *********************************************************************\n",
      "\u001b[0;33mlocalhost\u001b[0m                  : \u001b[0;32mok=4   \u001b[0m \u001b[0;33mchanged=1   \u001b[0m unreachable=0    failed=0   \n",
      "\n"
     ]
    }
   ],
   "source": [
    "!ansible-playbook shell-output-01.yml"
   ]
  },
  {
   "cell_type": "markdown",
   "metadata": {},
   "source": [
    "This approach has its limits.\n",
    "\n",
    "### Exercise:\n",
    "\n",
    "  - what happens if you processa long pipeline with  [shell-output-01.yml](/edit/notebooks/exercise-07/shell-output-01.yml) ? \n",
    "  \n",
    "Exercise: modify [shell-output-01.yml](/edit/notebooks/exercise-07/shell-output-01.yml) so that:\n",
    "\n",
    "  - every command stdout/stderr is redirected to a given file\n",
    "  - before and after every command output print  a header and a footer (eg. the expected output is like\n",
    "  \n",
    "```\n",
    "--- START COMMAND: cat /etc/resolv.conf --\n",
    "nameserver 172.17.0.1\n",
    "-- END COMMAND: cat /etc/resolv.conf\n",
    "```\n",
    "\n",
    "HINTS:\n",
    "\n",
    "  - use shell redirection instead of `register`\n",
    "  - use with_items to process many different commands \n",
    "  "
   ]
  },
  {
   "cell_type": "code",
   "execution_count": 18,
   "metadata": {},
   "outputs": [
    {
     "name": "stdout",
     "output_type": "stream",
     "text": [
      "\n",
      "PLAY [localhost] ***************************************************************\n",
      "\n",
      "TASK [Gathering Facts] *********************************************************\n",
      "\u001b[0;32mok: [localhost]\u001b[0m\n",
      "\n",
      "TASK [ensure /tmp/fetch is defined] ********************************************\n",
      "\u001b[0;33mchanged: [localhost]\u001b[0m\n",
      "\n",
      "PLAY [web] *********************************************************************\n",
      "\n",
      "TASK [Gathering Facts] *********************************************************\n",
      "\u001b[1;31mfatal: [ansible101_web_3]: UNREACHABLE! => {\"changed\": false, \"msg\": \"Authentication or permission failure. In some cases, you may have been able to authenticate and did not have permissions on the remote directory. Consider changing the remote temp path in ansible.cfg to a path rooted in \\\"/tmp\\\". Failed command was: ( umask 77 && mkdir -p \\\"` echo ~/.ansible/tmp/ansible-tmp-1499011419.66-83364268236252 `\\\" && echo ansible-tmp-1499011419.66-83364268236252=\\\"` echo ~/.ansible/tmp/ansible-tmp-1499011419.66-83364268236252 `\\\" ), exited with result 1\", \"unreachable\": true}\u001b[0m\n",
      "\u001b[1;31mfatal: [ansible101_web_1]: UNREACHABLE! => {\"changed\": false, \"msg\": \"Authentication or permission failure. In some cases, you may have been able to authenticate and did not have permissions on the remote directory. Consider changing the remote temp path in ansible.cfg to a path rooted in \\\"/tmp\\\". Failed command was: ( umask 77 && mkdir -p \\\"` echo rpc error: code = 13 desc = invalid header field value \\\"oci runtime error: exec failed: container_linux.go:247: starting container process caused \\\\\\\"process_linux.go:75: starting setns process caused \\\\\\\\\\\\\\\"fork/exec /proc/self/exe: no such file or directory\\\\\\\\\\\\\\\"\\\\\\\"\\\\n\\\"/.ansible/tmp/ansible-tmp-1499011419.64-258519477555160 `\\\" && echo ansible-tmp-1499011419.64-258519477555160=\\\"` echo rpc error: code = 13 desc = invalid header field value \\\"oci runtime error: exec failed: container_linux.go:247: starting container process caused \\\\\\\"process_linux.go:75: starting setns process caused \\\\\\\\\\\\\\\"fork/exec /proc/self/exe: no such file or directory\\\\\\\\\\\\\\\"\\\\\\\"\\\\n\\\"/.ansible/tmp/ansible-tmp-1499011419.64-258519477555160 `\\\" ), exited with result 126: rpc error: code = 13 desc = invalid header field value \\\"oci runtime error: exec failed: container_linux.go:247: starting container process caused \\\\\\\"process_linux.go:75: starting setns process caused \\\\\\\\\\\\\\\"fork/exec /proc/self/exe: no such file or directory\\\\\\\\\\\\\\\"\\\\\\\"\\\\n\\\"\\r\\n\", \"unreachable\": true}\u001b[0m\n",
      "\u001b[1;31mfatal: [ansible101_web_2]: UNREACHABLE! => {\"changed\": false, \"msg\": \"Authentication or permission failure. In some cases, you may have been able to authenticate and did not have permissions on the remote directory. Consider changing the remote temp path in ansible.cfg to a path rooted in \\\"/tmp\\\". Failed command was: ( umask 77 && mkdir -p \\\"` echo rpc error: code = 13 desc = invalid header field value \\\"oci runtime error: exec failed: container_linux.go:247: starting container process caused \\\\\\\"process_linux.go:75: starting setns process caused \\\\\\\\\\\\\\\"fork/exec /proc/self/exe: no such file or directory\\\\\\\\\\\\\\\"\\\\\\\"\\\\n\\\"/.ansible/tmp/ansible-tmp-1499011419.65-131124374792106 `\\\" && echo ansible-tmp-1499011419.65-131124374792106=\\\"` echo rpc error: code = 13 desc = invalid header field value \\\"oci runtime error: exec failed: container_linux.go:247: starting container process caused \\\\\\\"process_linux.go:75: starting setns process caused \\\\\\\\\\\\\\\"fork/exec /proc/self/exe: no such file or directory\\\\\\\\\\\\\\\"\\\\\\\"\\\\n\\\"/.ansible/tmp/ansible-tmp-1499011419.65-131124374792106 `\\\" ), exited with result 126: rpc error: code = 13 desc = invalid header field value \\\"oci runtime error: exec failed: container_linux.go:247: starting container process caused \\\\\\\"process_linux.go:75: starting setns process caused \\\\\\\\\\\\\\\"fork/exec /proc/self/exe: no such file or directory\\\\\\\\\\\\\\\"\\\\\\\"\\\\n\\\"\\r\\n\", \"unreachable\": true}\u001b[0m\n",
      "\n",
      "PLAY RECAP *********************************************************************\n",
      "\u001b[0;31mansible101_web_1\u001b[0m           : ok=0    changed=0    \u001b[1;31munreachable=1   \u001b[0m failed=0   \n",
      "\u001b[0;31mansible101_web_2\u001b[0m           : ok=0    changed=0    \u001b[1;31munreachable=1   \u001b[0m failed=0   \n",
      "\u001b[0;31mansible101_web_3\u001b[0m           : ok=0    changed=0    \u001b[1;31munreachable=1   \u001b[0m failed=0   \n",
      "\u001b[0;33mlocalhost\u001b[0m                  : \u001b[0;32mok=2   \u001b[0m \u001b[0;33mchanged=1   \u001b[0m unreachable=0    failed=0   \n",
      "\n"
     ]
    }
   ],
   "source": [
    "!ansible-playbook shell-output-02.yml -i ../web"
   ]
  },
  {
   "cell_type": "code",
   "execution_count": null,
   "metadata": {
    "collapsed": true
   },
   "outputs": [],
   "source": []
  },
  {
   "cell_type": "markdown",
   "metadata": {},
   "source": [
    "## Templates\n",
    "\n",
    "Creating files from templates.\n",
    "\n",
    "include template files, enforcing policies\n",
    "\n",
    "tagging\n",
    "\n"
   ]
  }
 ],
 "metadata": {
  "kernelspec": {
   "display_name": "Python 2",
   "language": "python",
   "name": "python2"
  },
  "language_info": {
   "codemirror_mode": {
    "name": "ipython",
    "version": 2
   },
   "file_extension": ".py",
   "mimetype": "text/x-python",
   "name": "python",
   "nbconvert_exporter": "python",
   "pygments_lexer": "ipython2",
   "version": "2.7.11"
  }
 },
 "nbformat": 4,
 "nbformat_minor": 2
}
