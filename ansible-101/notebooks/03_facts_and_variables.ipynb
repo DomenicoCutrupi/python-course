{
 "cells": [
  {
   "cell_type": "markdown",
   "metadata": {},
   "source": [
    "# Facts and variables\n",
    "\n",
    "When connecting to an host, ansible creates a dictionary with a huge set of useful informations.\n",
    "\n",
    "This step is named **fact gathering**. \n",
    "\n",
    "You can inspect facts using the `setup` module."
   ]
  },
  {
   "cell_type": "code",
   "execution_count": null,
   "metadata": {
    "collapsed": true
   },
   "outputs": [],
   "source": [
    "cd /notebooks/exercise-03"
   ]
  },
  {
   "cell_type": "code",
   "execution_count": null,
   "metadata": {
    "collapsed": true
   },
   "outputs": [],
   "source": [
    "# Let's run the setup module\n",
    "\n",
    "!ansible -i inventory -m setup localhost "
   ]
  },
  {
   "cell_type": "markdown",
   "metadata": {},
   "source": [
    "## Exercise\n",
    "\n",
    " - run the following command\n",
    " - what does it do?\n",
    " - where's  its output ?\n",
    " - use the json module to reindent it"
   ]
  },
  {
   "cell_type": "code",
   "execution_count": null,
   "metadata": {
    "collapsed": true,
    "solution": "shown",
    "solution_first": true
   },
   "outputs": [],
   "source": [
    "!ansible >/dev/null -i inventory -m setup localhost --tree host_status"
   ]
  },
  {
   "cell_type": "code",
   "execution_count": null,
   "metadata": {
    "code_folding": [],
    "collapsed": true,
    "solution": "shown"
   },
   "outputs": [],
   "source": [
    "# Solution\n",
    "!tree host_status\n",
    "import json\n",
    "ret = json.load(open('host_status/localhost'))\n",
    "f = ret['ansible_facts'] # .keys()\n",
    "f['ansible_all_ipv4_addresses']"
   ]
  },
  {
   "cell_type": "markdown",
   "metadata": {},
   "source": [
    "## Exercise\n",
    "\n",
    "Gather the following infos from the output of the previous command.\n",
    "\n",
    "  - hostname\n",
    "  - first ip address\n",
    "  - distribution\n",
    "  - kernel release\n",
    "\n"
   ]
  },
  {
   "cell_type": "code",
   "execution_count": null,
   "metadata": {
    "collapsed": true
   },
   "outputs": [],
   "source": [
    "# use this cell for the exercise"
   ]
  },
  {
   "cell_type": "markdown",
   "metadata": {},
   "source": [
    "## Exercise\n",
    "\n",
    "modify [this playbook](/edit/notebooks/exercise-03/get-facts.yml) to print:\n",
    "\n",
    "\n",
    "  - hostname\n",
    "  - first ip address\n",
    "  - distribution\n",
    "  - kernel release\n"
   ]
  },
  {
   "cell_type": "code",
   "execution_count": null,
   "metadata": {
    "collapsed": true
   },
   "outputs": [],
   "source": [
    "!ansible-playbook get-facts.yml"
   ]
  },
  {
   "cell_type": "markdown",
   "metadata": {},
   "source": [
    "## Facts vs Variables\n",
    "\n",
    "Essentially, facts are per-host variables gathered by ansible.\n",
    "\n",
    "In the vault lesson we've seen variables in action loaded it via -e @variables.yml.\n",
    "\n",
    "Now we'll define them with \n",
    "\n",
    "```\n",
    "- hosts: localhost\n",
    "  vars:\n",
    "  - one_variable: 1\n",
    "  - another_variable: \n",
    "      that_is: a_map\n",
    "```"
   ]
  },
  {
   "cell_type": "code",
   "execution_count": null,
   "metadata": {
    "collapsed": true
   },
   "outputs": [],
   "source": [
    "!cat vars-and-facts.yml"
   ]
  },
  {
   "cell_type": "code",
   "execution_count": null,
   "metadata": {
    "collapsed": true
   },
   "outputs": [],
   "source": [
    "# This playbook mixes variables and facts\n",
    "!ansible-playbook vars-and-facts.yml --tags variables"
   ]
  },
  {
   "cell_type": "markdown",
   "metadata": {},
   "source": [
    "### filters\n",
    "\n",
    "inside {{ braces }} you can process expressions using filters.\n",
    "\n",
    "```\n",
    "\n",
    "  - debug:\n",
    "      msg: >\n",
    "        Floor it  {{ ( one + pi ) | int }}\n",
    "\n",
    "\n",
    "```"
   ]
  },
  {
   "cell_type": "code",
   "execution_count": null,
   "metadata": {
    "collapsed": true
   },
   "outputs": [],
   "source": [
    "# This playbook mixes variables and facts\n",
    "!ansible-playbook vars-and-facts.yml --tags filters"
   ]
  },
  {
   "cell_type": "markdown",
   "metadata": {},
   "source": [
    "## Exercise\n",
    "\n",
    "Edit [the last section of vars-and-facts.yml](/edit/notebooks/exercise-03/vars-and-facts.yml) so that it shows:\n",
    "    \n",
    "    - the free percentage of every device\n",
    "\n",
    "Hints:\n",
    "    \n",
    "    - use the playbook as a reference\n",
    "    - iterate thru server facts"
   ]
  },
  {
   "cell_type": "code",
   "execution_count": null,
   "metadata": {
    "collapsed": true
   },
   "outputs": [],
   "source": [
    "!ansible-playbook vars-and-facts.yml --tags exercise"
   ]
  },
  {
   "cell_type": "code",
   "execution_count": null,
   "metadata": {
    "collapsed": true
   },
   "outputs": [],
   "source": []
  }
 ],
 "metadata": {
  "kernelspec": {
   "display_name": "Python 2",
   "language": "python",
   "name": "python2"
  },
  "language_info": {
   "codemirror_mode": {
    "name": "ipython",
    "version": 2
   },
   "file_extension": ".py",
   "mimetype": "text/x-python",
   "name": "python",
   "nbconvert_exporter": "python",
   "pygments_lexer": "ipython2",
   "version": "2.7.13"
  }
 },
 "nbformat": 4,
 "nbformat_minor": 2
}
