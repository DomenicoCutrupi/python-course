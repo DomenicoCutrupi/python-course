{
 "cells": [
  {
   "cell_type": "markdown",
   "metadata": {},
   "source": [
    "# Facts and variables\n",
    "\n",
    "When connecting to an host, ansible creates a dictionary with a huge set of useful informations.\n",
    "\n",
    "This step is named **fact gathering**. \n",
    "\n",
    "You can inspect facts using the `setup` module."
   ]
  },
  {
   "cell_type": "code",
   "execution_count": 1,
   "metadata": {},
   "outputs": [
    {
     "name": "stdout",
     "output_type": "stream",
     "text": [
      "/notebooks/exercise-03\n"
     ]
    }
   ],
   "source": [
    "cd exercise-03"
   ]
  },
  {
   "cell_type": "code",
   "execution_count": null,
   "metadata": {
    "collapsed": true
   },
   "outputs": [],
   "source": [
    "# Let's run the setup module\n",
    "\n",
    "!ansible -i inventory -m setup localhost "
   ]
  },
  {
   "cell_type": "markdown",
   "metadata": {},
   "source": [
    "## Exercise\n",
    "\n",
    " - run the following command\n",
    " - what does it do?\n",
    " - where's  its output ?\n",
    " - use the json module to reindent it"
   ]
  },
  {
   "cell_type": "code",
   "execution_count": null,
   "metadata": {
    "collapsed": true
   },
   "outputs": [],
   "source": [
    "!ansible >/dev/null -i inventory -m setup localhost --tree host_status"
   ]
  },
  {
   "cell_type": "code",
   "execution_count": null,
   "metadata": {
    "collapsed": true
   },
   "outputs": [],
   "source": [
    "# Solution\n",
    "!tree host_status\n",
    "import json\n",
    "ret = json.load(open('host_status/localhost'))\n"
   ]
  },
  {
   "cell_type": "markdown",
   "metadata": {},
   "source": [
    "## Exercise\n",
    "\n",
    "Gather the following infos from the output of the previous command.\n",
    "\n",
    "  - hostname\n",
    "  - first ip address\n",
    "  - distribution\n",
    "  - kernel release\n",
    "\n"
   ]
  },
  {
   "cell_type": "code",
   "execution_count": null,
   "metadata": {
    "collapsed": true
   },
   "outputs": [],
   "source": [
    "# use this cell for the exercise"
   ]
  },
  {
   "cell_type": "markdown",
   "metadata": {},
   "source": [
    "## Exercise\n",
    "\n",
    "modify [this playbook](/edit/notebooks/exercise-03/get-facts.yml) to print:\n",
    "\n",
    "\n",
    "  - hostname\n",
    "  - first ip address\n",
    "  - distribution\n",
    "  - kernel release\n"
   ]
  },
  {
   "cell_type": "code",
   "execution_count": null,
   "metadata": {
    "collapsed": true
   },
   "outputs": [],
   "source": [
    "!ansible-playbook get-facts.yml"
   ]
  },
  {
   "cell_type": "markdown",
   "metadata": {},
   "source": [
    "## Facts vs Variables\n",
    "\n",
    "Essentially, facts are per-host variables gathered by ansible.\n",
    "\n",
    "In the vault lesson we've seen variables in action loaded it via -e @variables.yml.\n",
    "\n",
    "Now we'll define them with \n",
    "\n",
    "```\n",
    "- hosts: localhost\n",
    "  vars:\n",
    "  - one_variable: 1\n",
    "  - another_variable: \n",
    "      that_is: a_map\n",
    "```"
   ]
  },
  {
   "cell_type": "code",
   "execution_count": null,
   "metadata": {
    "collapsed": true
   },
   "outputs": [],
   "source": [
    "!cat vars-and-facts.yml"
   ]
  },
  {
   "cell_type": "code",
   "execution_count": null,
   "metadata": {
    "collapsed": true
   },
   "outputs": [],
   "source": [
    "# This playbook mixes variables and facts\n",
    "!ansible-playbook vars-and-facts.yml --tags variables"
   ]
  },
  {
   "cell_type": "markdown",
   "metadata": {},
   "source": [
    "### filters\n",
    "\n",
    "inside {{ braces }} you can process expressions using filters.\n",
    "\n",
    "```\n",
    "\n",
    "  - debug:\n",
    "      msg: >\n",
    "        Floor it  {{ ( one + pi ) | int }}\n",
    "\n",
    "\n",
    "```"
   ]
  },
  {
   "cell_type": "code",
   "execution_count": null,
   "metadata": {
    "collapsed": true
   },
   "outputs": [],
   "source": [
    "# This playbook mixes variables and facts\n",
    "!ansible-playbook vars-and-facts.yml --tags filters"
   ]
  },
  {
   "cell_type": "markdown",
   "metadata": {},
   "source": [
    "## Exercise\n",
    "\n",
    "Edit [the last section of vars-and-facts.yml](/edit/notebooks/exercise-03/vars-and-facts.yml) so that it shows:\n",
    "    \n",
    "    - the free percentage of every device\n",
    "\n",
    "Hints:\n",
    "    \n",
    "    - use the playbook as a reference\n",
    "    - iterate thru server facts"
   ]
  },
  {
   "cell_type": "code",
   "execution_count": null,
   "metadata": {
    "collapsed": true
   },
   "outputs": [],
   "source": [
    "!ansible-playbook vars-and-facts.yml --tags exercise"
   ]
  },
  {
   "cell_type": "markdown",
   "metadata": {},
   "source": [
    "## Conditions and Assertions\n",
    "\n",
    "Ansible supports basic condition checking via when:\n",
    "    \n",
    "```\n",
    "- hosts: localhost\n",
    "  tasks:    \n",
    "  - debug: msg=\"This always happens\"\n",
    "    when: true\n",
    "  - debug: msg=\"This never does\"\n",
    "    when: false\n",
    "```\n",
    "\n",
    "\n",
    "You can use `when` with variables and conditions too:\n",
    "\n",
    "```\n",
    "- hosts: localhost  \n",
    "  tasks:    \n",
    "  - debug: msg=\"This is {{ansible_kernel}}!\"\n",
    "    when: ansible_system == 'Linux'\n",
    "\n",
    "```\n",
    "\n",
    "Remember on `when` and `with_items`\n",
    "\n",
    "####  `when` statements should not include jinja2 templating delimiters such as {{ }} or {% %}\n",
    "\n",
    "####  `with_items` [requires proper templating and braces](http://docs.ansible.com/ansible/porting_guide_2.0.html#other-caveats). Do it for  all expressions everywhere except conditionals (`when`):\n"
   ]
  },
  {
   "cell_type": "code",
   "execution_count": null,
   "metadata": {
    "collapsed": true
   },
   "outputs": [],
   "source": [
    "!ansible-playbook conditions.yml --tags when"
   ]
  },
  {
   "cell_type": "markdown",
   "metadata": {},
   "source": [
    "## assertions\n",
    "\n",
    "The fail module is used to make assertions. Unless told otherwise, ansible playbooks stops when a task fail.\n",
    "\n",
    "```\n",
    "- hosts: localhost  \n",
    "  tags: assert\n",
    "  tasks:    \n",
    "  - fail: msg=\"This is Linux!\"\n",
    "    when: ansible_system != 'Linux'\n",
    "\n",
    "  - fail: msg=\"Stop processing now!\"\n",
    "    when: ansible_architecture == 'x86_64'\n",
    "\n",
    "```"
   ]
  },
  {
   "cell_type": "code",
   "execution_count": null,
   "metadata": {
    "collapsed": true
   },
   "outputs": [],
   "source": [
    "!ansible-playbook conditions.yml --tags assert"
   ]
  },
  {
   "cell_type": "markdown",
   "metadata": {},
   "source": [
    "## Exercise\n",
    "\n",
    "Edit [conditions.yml](/edit/notebooks/exercise-03/conditions.yml) and add a check on free disk size > 75%.\n",
    "\n",
    "  - get informations from gather_facts\n",
    "  - iterate thru partition `with_items`\n",
    "  - use `when` and fail module\n",
    "    "
   ]
  },
  {
   "cell_type": "code",
   "execution_count": null,
   "metadata": {
    "collapsed": true
   },
   "outputs": [],
   "source": [
    "!ansible-playbook conditions.yml --tags exercise"
   ]
  },
  {
   "cell_type": "markdown",
   "metadata": {},
   "source": [
    "## Predefined variables\n",
    "\n",
    "There is a set of predefined variables too:\n",
    "\n",
    "  - group_names\n",
    "  - groups\n",
    "  - environment \n",
    "  \n",
    "When using playbooks, we'll get this one too:\n",
    "\n",
    "  - hostvars\n"
   ]
  },
  {
   "cell_type": "code",
   "execution_count": null,
   "metadata": {
    "collapsed": true
   },
   "outputs": [],
   "source": [
    "!ansible all[0] -i ../web -m debug -a \"var=groups\""
   ]
  },
  {
   "cell_type": "markdown",
   "metadata": {},
   "source": [
    "### Exercise\n",
    "\n",
    "Show the content of all 4 variables:\n",
    "\n",
    "  - is every variable defined?\n",
    "  - is every variable not empty?"
   ]
  },
  {
   "cell_type": "code",
   "execution_count": null,
   "metadata": {
    "collapsed": true
   },
   "outputs": [],
   "source": [
    "# Use this cell for the exercise"
   ]
  },
  {
   "cell_type": "markdown",
   "metadata": {},
   "source": [
    "## Shell environment & Files\n",
    "\n",
    "Ansible can iterate thru *local* files using\n",
    "\n",
    "```\n",
    "- name: >\n",
    "    Ansible can use globbing only on local system.\n",
    "  debug:\n",
    "    msg: >\n",
    "      I live on the local system {{item}}\n",
    "  with_fileglob:\n",
    "  - \"/etc/host*\"\n",
    "    \n",
    "\n",
    "```\n",
    "\n",
    "AFAIK There's not a remote version of `with_fileglob`, so **you cannot loop over remote fileglob**. This is because:\n",
    "\n",
    " - `with_fileglob` is implemented via executing code \n",
    " - ansible won't implicitly execute code on the remote host\n",
    " \n",
    "\n",
    "```\n",
    "- name: You can implement a remote fileglob in 2 steps\n",
    "  shell: >\n",
    "    ls /etc/host*\n",
    "  register: fileglob_remote\n",
    "  \n",
    "- name: Here we go\n",
    "  debug: msg=\"{{item}}\"\n",
    "  with_items: fileglob_remote.stdout_lines\n",
    "\n",
    "```"
   ]
  },
  {
   "cell_type": "code",
   "execution_count": 10,
   "metadata": {},
   "outputs": [
    {
     "name": "stdout",
     "output_type": "stream",
     "text": [
      "\n",
      "PLAY [web] *********************************************************************\n",
      "\n",
      "TASK [Gathering Facts] *********************************************************\n",
      "\u001b[1;31mfatal: [172.17.0.3]: UNREACHABLE! => {\"changed\": false, \"msg\": \"Authentication failure.\", \"unreachable\": true}\u001b[0m\n",
      "\u001b[1;31mfatal: [172.17.0.6]: UNREACHABLE! => {\"changed\": false, \"msg\": \"Failed to connect to the host via ssh: ssh: connect to host 172.17.0.6 port 22: No route to host\\r\\n\", \"unreachable\": true}\u001b[0m\n",
      "\u001b[0;32mok: [172.17.0.5]\u001b[0m\n",
      "\u001b[0;32mok: [172.17.0.4]\u001b[0m\n",
      "\n",
      "TASK [You can implement a remote fileglob in 2 steps] **************************\n",
      "\u001b[0;33mchanged: [172.17.0.5]\u001b[0m\n",
      "\u001b[0;33mchanged: [172.17.0.4]\u001b[0m\n",
      "\n",
      "TASK [Here we go] **************************************************************\n",
      "\u001b[0;32mok: [172.17.0.4] => (item=/etc/host.conf) => {\u001b[0m\n",
      "\u001b[0;32m    \"item\": \"/etc/host.conf\", \u001b[0m\n",
      "\u001b[0;32m    \"msg\": \"/etc/host.conf\"\u001b[0m\n",
      "\u001b[0;32m}\u001b[0m\n",
      "\u001b[0;32mok: [172.17.0.4] => (item=/etc/hostname) => {\u001b[0m\n",
      "\u001b[0;32m    \"item\": \"/etc/hostname\", \u001b[0m\n",
      "\u001b[0;32m    \"msg\": \"/etc/hostname\"\u001b[0m\n",
      "\u001b[0;32m}\u001b[0m\n",
      "\u001b[0;32mok: [172.17.0.5] => (item=/etc/host.conf) => {\u001b[0m\n",
      "\u001b[0;32m    \"item\": \"/etc/host.conf\", \u001b[0m\n",
      "\u001b[0;32m    \"msg\": \"/etc/host.conf\"\u001b[0m\n",
      "\u001b[0;32m}\u001b[0m\n",
      "\u001b[0;32mok: [172.17.0.4] => (item=/etc/hosts) => {\u001b[0m\n",
      "\u001b[0;32m    \"item\": \"/etc/hosts\", \u001b[0m\n",
      "\u001b[0;32m    \"msg\": \"/etc/hosts\"\u001b[0m\n",
      "\u001b[0;32m}\u001b[0m\n",
      "\u001b[0;32mok: [172.17.0.4] => (item=/etc/hosts.allow) => {\u001b[0m\n",
      "\u001b[0;32m    \"item\": \"/etc/hosts.allow\", \u001b[0m\n",
      "\u001b[0;32m    \"msg\": \"/etc/hosts.allow\"\u001b[0m\n",
      "\u001b[0;32m}\u001b[0m\n",
      "\u001b[0;32mok: [172.17.0.5] => (item=/etc/hostname) => {\u001b[0m\n",
      "\u001b[0;32m    \"item\": \"/etc/hostname\", \u001b[0m\n",
      "\u001b[0;32m    \"msg\": \"/etc/hostname\"\u001b[0m\n",
      "\u001b[0;32m}\u001b[0m\n",
      "\u001b[0;32mok: [172.17.0.4] => (item=/etc/hosts.deny) => {\u001b[0m\n",
      "\u001b[0;32m    \"item\": \"/etc/hosts.deny\", \u001b[0m\n",
      "\u001b[0;32m    \"msg\": \"/etc/hosts.deny\"\u001b[0m\n",
      "\u001b[0;32m}\u001b[0m\n",
      "\u001b[0;32mok: [172.17.0.5] => (item=/etc/hosts) => {\u001b[0m\n",
      "\u001b[0;32m    \"item\": \"/etc/hosts\", \u001b[0m\n",
      "\u001b[0;32m    \"msg\": \"/etc/hosts\"\u001b[0m\n",
      "\u001b[0;32m}\u001b[0m\n",
      "\u001b[0;32mok: [172.17.0.5] => (item=/etc/hosts.allow) => {\u001b[0m\n",
      "\u001b[0;32m    \"item\": \"/etc/hosts.allow\", \u001b[0m\n",
      "\u001b[0;32m    \"msg\": \"/etc/hosts.allow\"\u001b[0m\n",
      "\u001b[0;32m}\u001b[0m\n",
      "\u001b[0;32mok: [172.17.0.5] => (item=/etc/hosts.deny) => {\u001b[0m\n",
      "\u001b[0;32m    \"item\": \"/etc/hosts.deny\", \u001b[0m\n",
      "\u001b[0;32m    \"msg\": \"/etc/hosts.deny\"\u001b[0m\n",
      "\u001b[0;32m}\u001b[0m\n",
      "\n",
      "PLAY [web, localhost] **********************************************************\n",
      "\n",
      "TASK [Gathering Facts] *********************************************************\n",
      "\u001b[0;32mok: [localhost]\u001b[0m\n",
      "\u001b[0;32mok: [172.17.0.5]\u001b[0m\n",
      "\u001b[0;32mok: [172.17.0.4]\u001b[0m\n",
      "\n",
      "PLAY RECAP *********************************************************************\n",
      "\u001b[0;31m172.17.0.3\u001b[0m                 : ok=0    changed=0    \u001b[1;31munreachable=1   \u001b[0m failed=0   \n",
      "\u001b[0;33m172.17.0.4\u001b[0m                 : \u001b[0;32mok=4   \u001b[0m \u001b[0;33mchanged=1   \u001b[0m unreachable=0    failed=0   \n",
      "\u001b[0;33m172.17.0.5\u001b[0m                 : \u001b[0;32mok=4   \u001b[0m \u001b[0;33mchanged=1   \u001b[0m unreachable=0    failed=0   \n",
      "\u001b[0;31m172.17.0.6\u001b[0m                 : ok=0    changed=0    \u001b[1;31munreachable=1   \u001b[0m failed=0   \n",
      "\u001b[0;32mlocalhost\u001b[0m                  : \u001b[0;32mok=1   \u001b[0m changed=0    unreachable=0    failed=0   \n",
      "\n"
     ]
    }
   ],
   "source": [
    "!ansible-playbook   -i web fileglob.yml --tags fileglob "
   ]
  },
  {
   "cell_type": "markdown",
   "metadata": {},
   "source": [
    "You can pass `environment` variables (eg: /proc/PID/environ) to ansible plays via\n",
    "\n",
    "```\n",
    "- hosts: all\n",
    "  environment:\n",
    "    LD_LIBRARY_PATH: /usr/local/lib\n",
    "  tasks:\n",
    "    - name: Set at taskgroup level, but you can do it at task level too.\n",
    "      shell: >\n",
    "         echo $LD_LIBRARY_PATH\n",
    "```"
   ]
  },
  {
   "cell_type": "code",
   "execution_count": 13,
   "metadata": {},
   "outputs": [
    {
     "name": "stdout",
     "output_type": "stream",
     "text": [
      "Using /notebooks/exercise-03/ansible.cfg as config file\n",
      "\n",
      "PLAYBOOK: fileglob.yml *********************************************************\n",
      "\u001b[0;34m2 plays in fileglob.yml\u001b[0m\n",
      "\n",
      "PLAY [web] *********************************************************************\n",
      "\n",
      "TASK [Gathering Facts] *********************************************************\n",
      "\u001b[0;34mUsing module file /usr/local/lib/python2.7/site-packages/ansible/modules/system/setup.py\u001b[0m\n",
      "\u001b[0;34m<172.17.0.3> ESTABLISH SSH CONNECTION FOR USER: None\u001b[0m\n",
      "\u001b[0;34mUsing module file /usr/local/lib/python2.7/site-packages/ansible/modules/system/setup.py\u001b[0m\n",
      "\u001b[0;34mUsing module file /usr/local/lib/python2.7/site-packages/ansible/modules/system/setup.py\u001b[0m\n",
      "\u001b[0;34m<172.17.0.6> ESTABLISH SSH CONNECTION FOR USER: None\u001b[0m\n",
      "\u001b[0;34m<172.17.0.4> ESTABLISH SSH CONNECTION FOR USER: None\u001b[0m\n",
      "\u001b[0;34mUsing module file /usr/local/lib/python2.7/site-packages/ansible/modules/system/setup.py\u001b[0m\n",
      "\u001b[0;34m<172.17.0.5> ESTABLISH SSH CONNECTION FOR USER: None\u001b[0m\n",
      "\u001b[0;34m<172.17.0.3> SSH: EXEC sshpass -d18 ssh -o UserKnownHostsFile=/dev/null -o StrictHostKeyChecking=no -o ConnectTimeout=10 172.17.0.3 '/bin/sh -c '\"'\"'echo ~ && sleep 0'\"'\"''\u001b[0m\n",
      "\u001b[0;34m<172.17.0.6> SSH: EXEC sshpass -d21 ssh -o UserKnownHostsFile=/dev/null -o StrictHostKeyChecking=no -o ConnectTimeout=10 172.17.0.6 '/bin/sh -c '\"'\"'echo ~ && sleep 0'\"'\"''\u001b[0m\n",
      "\u001b[0;34m<172.17.0.4> SSH: EXEC sshpass -d19 ssh -o UserKnownHostsFile=/dev/null -o StrictHostKeyChecking=no -o ConnectTimeout=10 172.17.0.4 '/bin/sh -c '\"'\"'echo ~ && sleep 0'\"'\"''\u001b[0m\n",
      "\u001b[0;34m<172.17.0.5> SSH: EXEC sshpass -d20 ssh -o UserKnownHostsFile=/dev/null -o StrictHostKeyChecking=no -o ConnectTimeout=10 172.17.0.5 '/bin/sh -c '\"'\"'echo ~ && sleep 0'\"'\"''\u001b[0m\n",
      "\u001b[0;34m<172.17.0.3> (5, '', \"Warning: Permanently added '172.17.0.3' (ECDSA) to the list of known hosts.\\r\\nPermission denied, please try again.\\r\\n\")\u001b[0m\n",
      "\u001b[0;34m<172.17.0.3> ESTABLISH SSH CONNECTION FOR USER: None\u001b[0m\n",
      "\u001b[0;34m<172.17.0.3> SSH: EXEC sshpass -d18 ssh -o UserKnownHostsFile=/dev/null -o StrictHostKeyChecking=no -o ConnectTimeout=10 172.17.0.3 '/bin/sh -c '\"'\"'( umask 77 && mkdir -p \"` echo ~/.ansible/tmp/ansible-tmp-1499382745.04-131455208553596 `\" && echo ansible-tmp-1499382745.04-131455208553596=\"` echo ~/.ansible/tmp/ansible-tmp-1499382745.04-131455208553596 `\" ) && sleep 0'\"'\"''\u001b[0m\n",
      "\u001b[0;34m<172.17.0.3> (5, '', \"Warning: Permanently added '172.17.0.3' (ECDSA) to the list of known hosts.\\r\\nPermission denied, please try again.\\r\\n\")\u001b[0m\n",
      "\u001b[1;31mfatal: [172.17.0.3]: UNREACHABLE! => {\u001b[0m\n",
      "\u001b[1;31m    \"changed\": false, \u001b[0m\n",
      "\u001b[1;31m    \"msg\": \"Authentication failure.\", \u001b[0m\n",
      "\u001b[1;31m    \"unreachable\": true\u001b[0m\n",
      "\u001b[1;31m}\u001b[0m\n",
      "\u001b[0;34m<172.17.0.6> (255, '', 'ssh: connect to host 172.17.0.6 port 22: No route to host\\r\\n')\u001b[0m\n",
      "\u001b[1;31mfatal: [172.17.0.6]: UNREACHABLE! => {\u001b[0m\n",
      "\u001b[1;31m    \"changed\": false, \u001b[0m\n",
      "\u001b[1;31m    \"msg\": \"Failed to connect to the host via ssh: ssh: connect to host 172.17.0.6 port 22: No route to host\\r\\n\", \u001b[0m\n",
      "\u001b[1;31m    \"unreachable\": true\u001b[0m\n",
      "\u001b[1;31m}\u001b[0m\n",
      "\u001b[0;34m<172.17.0.4> (0, '/root\\n', \"Warning: Permanently added '172.17.0.4' (ECDSA) to the list of known hosts.\\r\\n\")\u001b[0m\n",
      "\u001b[0;34m<172.17.0.4> ESTABLISH SSH CONNECTION FOR USER: None\u001b[0m\n",
      "\u001b[0;34m<172.17.0.4> SSH: EXEC sshpass -d19 ssh -o UserKnownHostsFile=/dev/null -o StrictHostKeyChecking=no -o ConnectTimeout=10 172.17.0.4 '/bin/sh -c '\"'\"'( umask 77 && mkdir -p \"` echo /root/.ansible/tmp/ansible-tmp-1499382745.04-57324290791657 `\" && echo ansible-tmp-1499382745.04-57324290791657=\"` echo /root/.ansible/tmp/ansible-tmp-1499382745.04-57324290791657 `\" ) && sleep 0'\"'\"''\u001b[0m\n",
      "\u001b[0;34m<172.17.0.5> (0, '/root\\n', \"Warning: Permanently added '172.17.0.5' (ECDSA) to the list of known hosts.\\r\\n\")\u001b[0m\n",
      "\u001b[0;34m<172.17.0.5> ESTABLISH SSH CONNECTION FOR USER: None\u001b[0m\n",
      "\u001b[0;34m<172.17.0.5> SSH: EXEC sshpass -d20 ssh -o UserKnownHostsFile=/dev/null -o StrictHostKeyChecking=no -o ConnectTimeout=10 172.17.0.5 '/bin/sh -c '\"'\"'( umask 77 && mkdir -p \"` echo /root/.ansible/tmp/ansible-tmp-1499382745.04-187009908399170 `\" && echo ansible-tmp-1499382745.04-187009908399170=\"` echo /root/.ansible/tmp/ansible-tmp-1499382745.04-187009908399170 `\" ) && sleep 0'\"'\"''\u001b[0m\n",
      "\u001b[0;34m<172.17.0.4> (0, 'ansible-tmp-1499382745.04-57324290791657=/root/.ansible/tmp/ansible-tmp-1499382745.04-57324290791657\\n', \"Warning: Permanently added '172.17.0.4' (ECDSA) to the list of known hosts.\\r\\n\")\u001b[0m\n",
      "\u001b[0;34m<172.17.0.5> (0, 'ansible-tmp-1499382745.04-187009908399170=/root/.ansible/tmp/ansible-tmp-1499382745.04-187009908399170\\n', \"Warning: Permanently added '172.17.0.5' (ECDSA) to the list of known hosts.\\r\\n\")\u001b[0m\n",
      "\u001b[0;34m<172.17.0.4> PUT /tmp/tmplzaVtG TO /root/.ansible/tmp/ansible-tmp-1499382745.04-57324290791657/setup.py\u001b[0m\n",
      "\u001b[0;34m<172.17.0.4> SSH: EXEC sshpass -d19 sftp -o BatchMode=no -b - -o UserKnownHostsFile=/dev/null -o StrictHostKeyChecking=no -o ConnectTimeout=10 '[172.17.0.4]'\u001b[0m\n",
      "\u001b[0;34m<172.17.0.5> PUT /tmp/tmp_lgtZH TO /root/.ansible/tmp/ansible-tmp-1499382745.04-187009908399170/setup.py\u001b[0m\n",
      "\u001b[0;34m<172.17.0.5> SSH: EXEC sshpass -d20 sftp -o BatchMode=no -b - -o UserKnownHostsFile=/dev/null -o StrictHostKeyChecking=no -o ConnectTimeout=10 '[172.17.0.5]'\u001b[0m\n",
      "\u001b[0;34m<172.17.0.4> (0, 'sftp> put /tmp/tmplzaVtG /root/.ansible/tmp/ansible-tmp-1499382745.04-57324290791657/setup.py\\n', \"Warning: Permanently added '172.17.0.4' (ECDSA) to the list of known hosts.\\r\\n\")\u001b[0m\n",
      "\u001b[0;34m<172.17.0.5> (0, 'sftp> put /tmp/tmp_lgtZH /root/.ansible/tmp/ansible-tmp-1499382745.04-187009908399170/setup.py\\n', \"Warning: Permanently added '172.17.0.5' (ECDSA) to the list of known hosts.\\r\\n\")\u001b[0m\n",
      "\u001b[0;34m<172.17.0.4> ESTABLISH SSH CONNECTION FOR USER: None\u001b[0m\n",
      "\u001b[0;34m<172.17.0.5> ESTABLISH SSH CONNECTION FOR USER: None\u001b[0m\n",
      "\u001b[0;34m<172.17.0.4> SSH: EXEC sshpass -d19 ssh -o UserKnownHostsFile=/dev/null -o StrictHostKeyChecking=no -o ConnectTimeout=10 172.17.0.4 '/bin/sh -c '\"'\"'chmod u+x /root/.ansible/tmp/ansible-tmp-1499382745.04-57324290791657/ /root/.ansible/tmp/ansible-tmp-1499382745.04-57324290791657/setup.py && sleep 0'\"'\"''\u001b[0m\n",
      "\u001b[0;34m<172.17.0.5> SSH: EXEC sshpass -d20 ssh -o UserKnownHostsFile=/dev/null -o StrictHostKeyChecking=no -o ConnectTimeout=10 172.17.0.5 '/bin/sh -c '\"'\"'chmod u+x /root/.ansible/tmp/ansible-tmp-1499382745.04-187009908399170/ /root/.ansible/tmp/ansible-tmp-1499382745.04-187009908399170/setup.py && sleep 0'\"'\"''\u001b[0m\n",
      "\u001b[0;34m<172.17.0.5> (0, '', \"Warning: Permanently added '172.17.0.5' (ECDSA) to the list of known hosts.\\r\\n\")\u001b[0m\n",
      "\u001b[0;34m<172.17.0.5> ESTABLISH SSH CONNECTION FOR USER: None\u001b[0m\n",
      "\u001b[0;34m<172.17.0.5> SSH: EXEC sshpass -d20 ssh -o UserKnownHostsFile=/dev/null -o StrictHostKeyChecking=no -o ConnectTimeout=10 -tt 172.17.0.5 '/bin/sh -c '\"'\"'/usr/bin/python /root/.ansible/tmp/ansible-tmp-1499382745.04-187009908399170/setup.py; rm -rf \"/root/.ansible/tmp/ansible-tmp-1499382745.04-187009908399170/\" > /dev/null 2>&1 && sleep 0'\"'\"''\u001b[0m\n",
      "\u001b[0;34m<172.17.0.4> (0, '', \"Warning: Permanently added '172.17.0.4' (ECDSA) to the list of known hosts.\\r\\n\")\u001b[0m\n",
      "\u001b[0;34m<172.17.0.4> ESTABLISH SSH CONNECTION FOR USER: None\u001b[0m\n",
      "\u001b[0;34m<172.17.0.4> SSH: EXEC sshpass -d19 ssh -o UserKnownHostsFile=/dev/null -o StrictHostKeyChecking=no -o ConnectTimeout=10 -tt 172.17.0.4 '/bin/sh -c '\"'\"'/usr/bin/python /root/.ansible/tmp/ansible-tmp-1499382745.04-57324290791657/setup.py; rm -rf \"/root/.ansible/tmp/ansible-tmp-1499382745.04-57324290791657/\" > /dev/null 2>&1 && sleep 0'\"'\"''\u001b[0m\n",
      "\u001b[0;34m<172.17.0.5> (0, '\\r\\n{\"invocation\": {\"module_args\": {\"filter\": \"*\", \"gather_subset\": [\"all\"], \"fact_path\": \"/etc/ansible/facts.d\", \"gather_timeout\": 10}}, \"changed\": false, \"ansible_facts\": {\"ansible_product_serial\": \"54CK432\", \"ansible_form_factor\": \"Portable\", \"ansible_product_version\": \"00h\", \"ansible_fips\": false, \"ansible_service_mgr\": \"sshd\", \"ansible_user_id\": \"root\", \"ansible_user_dir\": \"/root\", \"ansible_memtotal_mb\": 7906, \"ansible_ssh_host_key_ecdsa_public\": \"AAAAE2VjZHNhLXNoYTItbmlzdHAyNTYAAAAIbmlzdHAyNTYAAABBBN5vyysFbIOhxJX8lwCkeIcgq3owAARwyE50PfK2RgtR2w2F8Wi2Vy6YvKuMv6TYsl67p8QgizR6XLfe3jyeEIg=\", \"ansible_distribution_version\": \"8.6\", \"ansible_domain\": \"\", \"ansible_virtualization_type\": \"docker\", \"ansible_ssh_host_key_ed25519_public\": \"AAAAC3NzaC1lZDI1NTE5AAAAICIh5s3kPAFJ+pmkVW65x8ix7PbqthQzJwJVfF4BspAs\", \"ansible_processor_cores\": 2, \"ansible_virtualization_role\": \"guest\", \"ansible_dns\": {\"nameservers\": [\"192.168.1.254\"], \"search\": [\"lan\"]}, \"ansible_processor_vcpus\": 4, \"ansible_bios_version\": \"A00\", \"ansible_processor\": [\"GenuineIntel\", \"Intel(R) Core(TM) i5-4210U CPU @ 1.70GHz\", \"GenuineIntel\", \"Intel(R) Core(TM) i5-4210U CPU @ 1.70GHz\", \"GenuineIntel\", \"Intel(R) Core(TM) i5-4210U CPU @ 1.70GHz\", \"GenuineIntel\", \"Intel(R) Core(TM) i5-4210U CPU @ 1.70GHz\"], \"ansible_date_time\": {\"weekday_number\": \"4\", \"iso8601_basic_short\": \"20170706T231315\", \"tz\": \"UTC\", \"weeknumber\": \"27\", \"hour\": \"23\", \"year\": \"2017\", \"minute\": \"13\", \"tz_offset\": \"+0000\", \"month\": \"07\", \"epoch\": \"1499382795\", \"iso8601_micro\": \"2017-07-06T23:13:15.854959Z\", \"weekday\": \"Thursday\", \"time\": \"23:13:15\", \"date\": \"2017-07-06\", \"iso8601\": \"2017-07-06T23:13:15Z\", \"day\": \"06\", \"iso8601_basic\": \"20170706T231315854896\", \"second\": \"15\"}, \"ansible_lo\": {\"features\": {}, \"mtu\": 65536, \"device\": \"lo\", \"promisc\": false, \"ipv4\": {\"broadcast\": \"host\", \"netmask\": \"255.0.0.0\", \"network\": \"127.0.0.0\", \"address\": \"127.0.0.1\"}, \"ipv6\": [{\"scope\": \"host\", \"prefix\": \"128\", \"address\": \"::1\"}], \"active\": true, \"type\": \"loopback\"}, \"ansible_userspace_bits\": \"64\", \"ansible_architecture\": \"x86_64\", \"ansible_real_user_id\": 0, \"ansible_default_ipv4\": {\"macaddress\": \"02:42:ac:11:00:05\", \"network\": \"172.17.0.0\", \"mtu\": 1500, \"broadcast\": \"global\", \"alias\": \"eth0\", \"netmask\": \"255.255.0.0\", \"address\": \"172.17.0.5\", \"interface\": \"eth0\", \"type\": \"ether\", \"gateway\": \"172.17.0.1\"}, \"ansible_swapfree_mb\": 4039, \"ansible_default_ipv6\": {}, \"ansible_distribution_release\": \"jessie\", \"ansible_system_vendor\": \"Dell Inc.\", \"ansible_apparmor\": {\"status\": \"disabled\"}, \"ansible_cmdline\": {\"LANG\": \"it_IT.UTF-8\", \"BOOT_IMAGE\": \"/vmlinuz-4.10.17-100.fc24.x86_64\", \"i8042.nopnp\": true, \"rd.lvm.lv\": \"vg0/root00\", \"ro\": true, \"root\": \"/dev/mapper/vg0-root00\"}, \"ansible_effective_user_id\": 0, \"ansible_mounts\": [{\"uuid\": \"N/A\", \"size_total\": 107320705024, \"mount\": \"/\", \"size_available\": 107076976640, \"fstype\": \"xfs\", \"device\": \"/dev/mapper/docker-253:2-537280731-adfd85ab4a3696fd88553dca1d6bc22d2f4b0751730c64d51af28c1693aeb7ec\", \"options\": \"rw,context=\\\\\"system_u:object_r:svirt_sandbox_file_t:s0:c60,c475\\\\\",relatime,nouuid,attr2,inode64,logbsize=64k,sunit=128,swidth=128,noquota,bind\"}, {\"uuid\": \"N/A\", \"size_total\": 214643507200, \"mount\": \"/code\", \"size_available\": 18235854848, \"fstype\": \"xfs\", \"device\": \"/dev/mapper/vg0-home\", \"options\": \"rw,seclabel,relatime,attr2,inode64,noquota,bind\"}, {\"uuid\": \"N/A\", \"size_total\": 214643507200, \"mount\": \"/etc/resolv.conf\", \"size_available\": 11373293568, \"fstype\": \"xfs\", \"device\": \"/dev/mapper/vg0-data\", \"options\": \"rw,seclabel,relatime,attr2,inode64,noquota,bind\"}, {\"uuid\": \"N/A\", \"size_total\": 214643507200, \"mount\": \"/etc/hostname\", \"size_available\": 11373293568, \"fstype\": \"xfs\", \"device\": \"/dev/mapper/vg0-data\", \"options\": \"rw,seclabel,relatime,attr2,inode64,noquota,bind\"}, {\"uuid\": \"N/A\", \"size_total\": 214643507200, \"mount\": \"/etc/hosts\", \"size_available\": 11373293568, \"fstype\": \"xfs\", \"device\": \"/dev/mapper/vg0-data\", \"options\": \"rw,seclabel,relatime,attr2,inode64,noquota,bind\"}, {\"uuid\": \"N/A\", \"size_total\": 214643507200, \"mount\": \"/root/.ssh/authorized_keys\", \"size_available\": 18235854848, \"fstype\": \"xfs\", \"device\": \"/dev/mapper/vg0-home\", \"options\": \"rw,seclabel,relatime,attr2,inode64,noquota,bind\"}], \"ansible_selinux\": false, \"ansible_os_family\": \"Debian\", \"ansible_userspace_architecture\": \"x86_64\", \"ansible_product_uuid\": \"4C4C4544-0034-4310-804B-B5C04F343332\", \"ansible_kernel\": \"4.10.17-100.fc24.x86_64\", \"ansible_product_name\": \"Inspiron 7347\", \"ansible_pkg_mgr\": \"apt\", \"ansible_memfree_mb\": 485, \"ansible_devices\": {\"sda\": {\"scheduler_mode\": \"cfq\", \"rotational\": \"1\", \"vendor\": \"ATA\", \"sectors\": \"976773168\", \"sas_device_handle\": null, \"sas_address\": null, \"host\": \"\", \"sectorsize\": \"512\", \"removable\": \"0\", \"support_discard\": \"0\", \"model\": \"ST500LM000-1EJ16\", \"partitions\": {\"sda6\": {\"sectorsize\": 512, \"uuid\": null, \"sectors\": \"14827568\", \"start\": \"961943552\", \"holders\": [], \"size\": \"7.07 GB\"}, \"sda7\": {\"sectorsize\": 512, \"uuid\": null, \"sectors\": \"1048576\", \"start\": \"3725312\", \"holders\": [], \"size\": \"512.00 MB\"}, \"sda4\": {\"sectorsize\": 512, \"uuid\": null, \"sectors\": \"1536000\", \"start\": \"1370112\", \"holders\": [], \"size\": \"750.00 MB\"}, \"sda5\": {\"sectorsize\": 512, \"uuid\": null, \"sectors\": \"819200\", \"start\": \"2906112\", \"holders\": [], \"size\": \"400.00 MB\"}, \"sda2\": {\"sectorsize\": 512, \"uuid\": null, \"sectors\": \"81920\", \"start\": \"1026048\", \"holders\": [], \"size\": \"40.00 MB\"}, \"sda3\": {\"sectorsize\": 512, \"uuid\": null, \"sectors\": \"262144\", \"start\": \"1107968\", \"holders\": [], \"size\": \"128.00 MB\"}, \"sda1\": {\"sectorsize\": 512, \"uuid\": null, \"sectors\": \"1024000\", \"start\": \"2048\", \"holders\": [], \"size\": \"500.00 MB\"}, \"sda8\": {\"sectorsize\": 512, \"uuid\": null, \"sectors\": \"897589248\", \"start\": \"4773888\", \"holders\": [\"vg0-home\", \"vg0-data\", \"vg0-root00\", \"vg0-var\"], \"size\": \"428.00 GB\"}, \"sda9\": {\"sectorsize\": 512, \"uuid\": null, \"sectors\": \"8388608\", \"start\": \"902363136\", \"holders\": [], \"size\": \"4.00 GB\"}}, \"holders\": [], \"size\": \"465.76 GB\"}}, \"ansible_user_uid\": 0, \"ansible_memory_mb\": {\"real\": {\"total\": 7906, \"used\": 7421, \"free\": 485}, \"swap\": {\"cached\": 2, \"total\": 4095, \"free\": 4039, \"used\": 56}, \"nocache\": {\"used\": 4354, \"free\": 3552}}, \"ansible_distribution\": \"Debian\", \"ansible_env\": {\"LANG\": \"C.UTF-8\", \"TERM\": \"xterm-color\", \"SHELL\": \"/bin/bash\", \"SHLVL\": \"1\", \"SSH_TTY\": \"/dev/pts/0\", \"SSH_CLIENT\": \"172.17.0.2 53280 22\", \"PWD\": \"/root\", \"LOGNAME\": \"root\", \"USER\": \"root\", \"MAIL\": \"/var/mail/root\", \"PATH\": \"/usr/local/sbin:/usr/local/bin:/usr/sbin:/usr/bin:/sbin:/bin\", \"SSH_CONNECTION\": \"172.17.0.2 53280 172.17.0.5 22\", \"HOME\": \"/root\", \"_\": \"/bin/sh\"}, \"ansible_distribution_major_version\": \"8\", \"module_setup\": true, \"ansible_processor_count\": 1, \"ansible_hostname\": \"9e4556a3758b\", \"ansible_effective_group_id\": 0, \"ansible_swaptotal_mb\": 4095, \"ansible_real_group_id\": 0, \"ansible_bios_date\": \"06/30/2014\", \"ansible_all_ipv6_addresses\": [\"fe80::42:acff:fe11:5\"], \"ansible_interfaces\": [\"lo\", \"eth0\"], \"ansible_uptime_seconds\": 93408, \"ansible_machine_id\": \"16e25f4d8dbe4e219f5011854772e32c\", \"ansible_ssh_host_key_rsa_public\": \"AAAAB3NzaC1yc2EAAAADAQABAAABAQCiDyiFV9yDtmyu4bFQ7obgExTqF/IoTQbHzDTyc8IK0f8mTXcNaBOGxRR8fUoPLiKMnwP6QhxtpNjRJVXP3oFeMssaclKgGsaPgHcXtr3QO6GSpvsJsDZtywvSbDhD51g1PyxFULFvoPRW2h5wZojj4N0p5FYJPjqgC/LFEd06raVIfEUlmsen1o/NGjwmK2xqAGbyORG7qS5zMfq1kdDW1S7KBIxMrTmAe5+orXi2mooe5d5VL8B0c+P/izSeiT/YteL3vGhqJrWqwe9plTtfdZQynlOuROvn54vupet1WbOyrbMG3hH3tUo/wGdaXPJid+L0MAywezARaamlBZEJ\", \"ansible_gather_subset\": [\"hardware\", \"network\", \"virtual\"], \"ansible_user_gecos\": \"root\", \"ansible_system_capabilities_enforced\": \"True\", \"ansible_python\": {\"executable\": \"/usr/bin/python\", \"version\": {\"micro\": 9, \"major\": 2, \"releaselevel\": \"final\", \"serial\": 0, \"minor\": 7}, \"type\": \"CPython\", \"has_sslcontext\": true, \"version_info\": [2, 7, 9, \"final\", 0]}, \"ansible_machine\": \"x86_64\", \"ansible_processor_threads_per_core\": 2, \"ansible_fqdn\": \"9e4556a3758b\", \"ansible_user_gid\": 0, \"ansible_eth0\": {\"macaddress\": \"02:42:ac:11:00:05\", \"features\": {}, \"type\": \"ether\", \"mtu\": 1500, \"device\": \"eth0\", \"promisc\": false, \"ipv4\": {\"broadcast\": \"global\", \"netmask\": \"255.255.0.0\", \"network\": \"172.17.0.0\", \"address\": \"172.17.0.5\"}, \"ipv6\": [{\"scope\": \"link\", \"prefix\": \"64\", \"address\": \"fe80::42:acff:fe11:5\"}], \"active\": true, \"speed\": 10000}, \"ansible_nodename\": \"9e4556a3758b\", \"ansible_system\": \"Linux\", \"ansible_user_shell\": \"/bin/bash\", \"ansible_system_capabilities\": [\"cap_chown\", \"cap_dac_override\", \"cap_fowner\", \"cap_fsetid\", \"cap_kill\", \"cap_setgid\", \"cap_setuid\", \"cap_setpcap\", \"cap_net_bind_service\", \"cap_net_raw\", \"cap_sys_chroot\", \"cap_mknod\", \"cap_audit_write\", \"cap_setfcap+eip\"], \"ansible_ssh_host_key_dsa_public\": \"AAAAB3NzaC1kc3MAAACBAKaoKDWz3bA6aRcsBQ0ah5lUl73Kzvw6nCUr/SxICs371+c4U5BoWHPARSzFAWTcMKYk0LlVgbI/FLvvQRnBnh1E1gN2U9Az/xO2vc+k1slBCwZVx6SF13wOafhj+Js7rdETTw0AlFRcBpj8v6SFgUfVpZgzUNpu+1d2WXUHLpRdAAAAFQDpWtor2j8v/ln++w7dkJIrht4owQAAAIAwlgeo72d10FENiPvurMA2DtG531gbI873eqMeYCzjjYS7q3MVwZ6jZB7tNiSL0Ul2vYbItzK7E8o5YcS3+EynPfYEnzVrbWD9Dr53IwvZH230qNpyBV4DAKplxw5MX8FNQxm/UPJERzvkSCf+muo6lEHeBGj+Lzo9G6J2fhw1qgAAAIEAmeY7IAg84FRzwcprp3ahBwt9zmMPIA1emxrkFzgBjNLmBAITscux58DDzQgqMBsCa3CyzpV4/iTr4e7F8sPPy5xC5ENHV2H9rkNrOdHsrWippTUa4f2o8GLtQ9WBo8uMGE4+acd01w+wXRWnlJriAu8UwN5RVNIx3N2/RLd1Hxg=\", \"ansible_all_ipv4_addresses\": [\"172.17.0.5\"], \"ansible_python_version\": \"2.7.9\"}}\\r\\n', \"Warning: Permanently added '172.17.0.5' (ECDSA) to the list of known hosts.\\r\\nConnection to 172.17.0.5 closed.\\r\\n\")\u001b[0m\n"
     ]
    },
    {
     "name": "stdout",
     "output_type": "stream",
     "text": [
      "\u001b[0;34m<172.17.0.4> (0, '\\r\\n{\"invocation\": {\"module_args\": {\"filter\": \"*\", \"gather_subset\": [\"all\"], \"fact_path\": \"/etc/ansible/facts.d\", \"gather_timeout\": 10}}, \"changed\": false, \"ansible_facts\": {\"ansible_product_serial\": \"54CK432\", \"ansible_form_factor\": \"Portable\", \"ansible_product_version\": \"00h\", \"ansible_fips\": false, \"ansible_service_mgr\": \"sshd\", \"ansible_user_id\": \"root\", \"ansible_user_dir\": \"/root\", \"ansible_memtotal_mb\": 7906, \"ansible_ssh_host_key_ecdsa_public\": \"AAAAE2VjZHNhLXNoYTItbmlzdHAyNTYAAAAIbmlzdHAyNTYAAABBBN5vyysFbIOhxJX8lwCkeIcgq3owAARwyE50PfK2RgtR2w2F8Wi2Vy6YvKuMv6TYsl67p8QgizR6XLfe3jyeEIg=\", \"ansible_distribution_version\": \"8.6\", \"ansible_domain\": \"\", \"ansible_virtualization_type\": \"docker\", \"ansible_ssh_host_key_ed25519_public\": \"AAAAC3NzaC1lZDI1NTE5AAAAICIh5s3kPAFJ+pmkVW65x8ix7PbqthQzJwJVfF4BspAs\", \"ansible_processor_cores\": 2, \"ansible_virtualization_role\": \"guest\", \"ansible_dns\": {\"nameservers\": [\"192.168.1.254\"], \"search\": [\"lan\"]}, \"ansible_processor_vcpus\": 4, \"ansible_bios_version\": \"A00\", \"ansible_processor\": [\"GenuineIntel\", \"Intel(R) Core(TM) i5-4210U CPU @ 1.70GHz\", \"GenuineIntel\", \"Intel(R) Core(TM) i5-4210U CPU @ 1.70GHz\", \"GenuineIntel\", \"Intel(R) Core(TM) i5-4210U CPU @ 1.70GHz\", \"GenuineIntel\", \"Intel(R) Core(TM) i5-4210U CPU @ 1.70GHz\"], \"ansible_date_time\": {\"weekday_number\": \"4\", \"iso8601_basic_short\": \"20170706T231315\", \"tz\": \"UTC\", \"weeknumber\": \"27\", \"hour\": \"23\", \"year\": \"2017\", \"minute\": \"13\", \"tz_offset\": \"+0000\", \"month\": \"07\", \"epoch\": \"1499382795\", \"iso8601_micro\": \"2017-07-06T23:13:15.853478Z\", \"weekday\": \"Thursday\", \"time\": \"23:13:15\", \"date\": \"2017-07-06\", \"iso8601\": \"2017-07-06T23:13:15Z\", \"day\": \"06\", \"iso8601_basic\": \"20170706T231315853401\", \"second\": \"15\"}, \"ansible_lo\": {\"features\": {}, \"mtu\": 65536, \"device\": \"lo\", \"promisc\": false, \"ipv4\": {\"broadcast\": \"host\", \"netmask\": \"255.0.0.0\", \"network\": \"127.0.0.0\", \"address\": \"127.0.0.1\"}, \"ipv6\": [{\"scope\": \"host\", \"prefix\": \"128\", \"address\": \"::1\"}], \"active\": true, \"type\": \"loopback\"}, \"ansible_userspace_bits\": \"64\", \"ansible_architecture\": \"x86_64\", \"ansible_real_user_id\": 0, \"ansible_default_ipv4\": {\"macaddress\": \"02:42:ac:11:00:04\", \"network\": \"172.17.0.0\", \"mtu\": 1500, \"broadcast\": \"global\", \"alias\": \"eth0\", \"netmask\": \"255.255.0.0\", \"address\": \"172.17.0.4\", \"interface\": \"eth0\", \"type\": \"ether\", \"gateway\": \"172.17.0.1\"}, \"ansible_swapfree_mb\": 4039, \"ansible_default_ipv6\": {}, \"ansible_distribution_release\": \"jessie\", \"ansible_system_vendor\": \"Dell Inc.\", \"ansible_apparmor\": {\"status\": \"disabled\"}, \"ansible_cmdline\": {\"LANG\": \"it_IT.UTF-8\", \"BOOT_IMAGE\": \"/vmlinuz-4.10.17-100.fc24.x86_64\", \"i8042.nopnp\": true, \"rd.lvm.lv\": \"vg0/root00\", \"ro\": true, \"root\": \"/dev/mapper/vg0-root00\"}, \"ansible_effective_user_id\": 0, \"ansible_mounts\": [{\"uuid\": \"N/A\", \"size_total\": 107320705024, \"mount\": \"/\", \"size_available\": 107076956160, \"fstype\": \"xfs\", \"device\": \"/dev/mapper/docker-253:2-537280731-b2ff36c2fd73087bfc30c8fb7abcc8e471d1298f1899f0190457252dd69bc0be\", \"options\": \"rw,context=\\\\\"system_u:object_r:svirt_sandbox_file_t:s0:c290,c314\\\\\",relatime,nouuid,attr2,inode64,logbsize=64k,sunit=128,swidth=128,noquota,bind\"}, {\"uuid\": \"N/A\", \"size_total\": 214643507200, \"mount\": \"/code\", \"size_available\": 18235854848, \"fstype\": \"xfs\", \"device\": \"/dev/mapper/vg0-home\", \"options\": \"rw,seclabel,relatime,attr2,inode64,noquota,bind\"}, {\"uuid\": \"N/A\", \"size_total\": 214643507200, \"mount\": \"/etc/resolv.conf\", \"size_available\": 11373293568, \"fstype\": \"xfs\", \"device\": \"/dev/mapper/vg0-data\", \"options\": \"rw,seclabel,relatime,attr2,inode64,noquota,bind\"}, {\"uuid\": \"N/A\", \"size_total\": 214643507200, \"mount\": \"/etc/hostname\", \"size_available\": 11373293568, \"fstype\": \"xfs\", \"device\": \"/dev/mapper/vg0-data\", \"options\": \"rw,seclabel,relatime,attr2,inode64,noquota,bind\"}, {\"uuid\": \"N/A\", \"size_total\": 214643507200, \"mount\": \"/etc/hosts\", \"size_available\": 11373293568, \"fstype\": \"xfs\", \"device\": \"/dev/mapper/vg0-data\", \"options\": \"rw,seclabel,relatime,attr2,inode64,noquota,bind\"}, {\"uuid\": \"N/A\", \"size_total\": 214643507200, \"mount\": \"/root/.ssh/authorized_keys\", \"size_available\": 18235854848, \"fstype\": \"xfs\", \"device\": \"/dev/mapper/vg0-home\", \"options\": \"rw,seclabel,relatime,attr2,inode64,noquota,bind\"}], \"ansible_selinux\": false, \"ansible_os_family\": \"Debian\", \"ansible_userspace_architecture\": \"x86_64\", \"ansible_product_uuid\": \"4C4C4544-0034-4310-804B-B5C04F343332\", \"ansible_kernel\": \"4.10.17-100.fc24.x86_64\", \"ansible_product_name\": \"Inspiron 7347\", \"ansible_pkg_mgr\": \"apt\", \"ansible_memfree_mb\": 485, \"ansible_devices\": {\"sda\": {\"scheduler_mode\": \"cfq\", \"rotational\": \"1\", \"vendor\": \"ATA\", \"sectors\": \"976773168\", \"sas_device_handle\": null, \"sas_address\": null, \"host\": \"\", \"sectorsize\": \"512\", \"removable\": \"0\", \"support_discard\": \"0\", \"model\": \"ST500LM000-1EJ16\", \"partitions\": {\"sda6\": {\"sectorsize\": 512, \"uuid\": null, \"sectors\": \"14827568\", \"start\": \"961943552\", \"holders\": [], \"size\": \"7.07 GB\"}, \"sda7\": {\"sectorsize\": 512, \"uuid\": null, \"sectors\": \"1048576\", \"start\": \"3725312\", \"holders\": [], \"size\": \"512.00 MB\"}, \"sda4\": {\"sectorsize\": 512, \"uuid\": null, \"sectors\": \"1536000\", \"start\": \"1370112\", \"holders\": [], \"size\": \"750.00 MB\"}, \"sda5\": {\"sectorsize\": 512, \"uuid\": null, \"sectors\": \"819200\", \"start\": \"2906112\", \"holders\": [], \"size\": \"400.00 MB\"}, \"sda2\": {\"sectorsize\": 512, \"uuid\": null, \"sectors\": \"81920\", \"start\": \"1026048\", \"holders\": [], \"size\": \"40.00 MB\"}, \"sda3\": {\"sectorsize\": 512, \"uuid\": null, \"sectors\": \"262144\", \"start\": \"1107968\", \"holders\": [], \"size\": \"128.00 MB\"}, \"sda1\": {\"sectorsize\": 512, \"uuid\": null, \"sectors\": \"1024000\", \"start\": \"2048\", \"holders\": [], \"size\": \"500.00 MB\"}, \"sda8\": {\"sectorsize\": 512, \"uuid\": null, \"sectors\": \"897589248\", \"start\": \"4773888\", \"holders\": [\"vg0-home\", \"vg0-data\", \"vg0-root00\", \"vg0-var\"], \"size\": \"428.00 GB\"}, \"sda9\": {\"sectorsize\": 512, \"uuid\": null, \"sectors\": \"8388608\", \"start\": \"902363136\", \"holders\": [], \"size\": \"4.00 GB\"}}, \"holders\": [], \"size\": \"465.76 GB\"}}, \"ansible_user_uid\": 0, \"ansible_memory_mb\": {\"real\": {\"total\": 7906, \"used\": 7421, \"free\": 485}, \"swap\": {\"cached\": 2, \"total\": 4095, \"free\": 4039, \"used\": 56}, \"nocache\": {\"used\": 4354, \"free\": 3552}}, \"ansible_distribution\": \"Debian\", \"ansible_env\": {\"LANG\": \"C.UTF-8\", \"TERM\": \"xterm-color\", \"SHELL\": \"/bin/bash\", \"SHLVL\": \"1\", \"SSH_TTY\": \"/dev/pts/0\", \"SSH_CLIENT\": \"172.17.0.2 44374 22\", \"PWD\": \"/root\", \"LOGNAME\": \"root\", \"USER\": \"root\", \"MAIL\": \"/var/mail/root\", \"PATH\": \"/usr/local/sbin:/usr/local/bin:/usr/sbin:/usr/bin:/sbin:/bin\", \"SSH_CONNECTION\": \"172.17.0.2 44374 172.17.0.4 22\", \"HOME\": \"/root\", \"_\": \"/bin/sh\"}, \"ansible_distribution_major_version\": \"8\", \"module_setup\": true, \"ansible_processor_count\": 1, \"ansible_hostname\": \"d086092f2818\", \"ansible_effective_group_id\": 0, \"ansible_swaptotal_mb\": 4095, \"ansible_real_group_id\": 0, \"ansible_bios_date\": \"06/30/2014\", \"ansible_all_ipv6_addresses\": [\"fe80::42:acff:fe11:4\"], \"ansible_interfaces\": [\"lo\", \"eth0\"], \"ansible_uptime_seconds\": 93408, \"ansible_machine_id\": \"16e25f4d8dbe4e219f5011854772e32c\", \"ansible_ssh_host_key_rsa_public\": \"AAAAB3NzaC1yc2EAAAADAQABAAABAQCiDyiFV9yDtmyu4bFQ7obgExTqF/IoTQbHzDTyc8IK0f8mTXcNaBOGxRR8fUoPLiKMnwP6QhxtpNjRJVXP3oFeMssaclKgGsaPgHcXtr3QO6GSpvsJsDZtywvSbDhD51g1PyxFULFvoPRW2h5wZojj4N0p5FYJPjqgC/LFEd06raVIfEUlmsen1o/NGjwmK2xqAGbyORG7qS5zMfq1kdDW1S7KBIxMrTmAe5+orXi2mooe5d5VL8B0c+P/izSeiT/YteL3vGhqJrWqwe9plTtfdZQynlOuROvn54vupet1WbOyrbMG3hH3tUo/wGdaXPJid+L0MAywezARaamlBZEJ\", \"ansible_gather_subset\": [\"hardware\", \"network\", \"virtual\"], \"ansible_user_gecos\": \"root\", \"ansible_system_capabilities_enforced\": \"True\", \"ansible_python\": {\"executable\": \"/usr/bin/python\", \"version\": {\"micro\": 9, \"major\": 2, \"releaselevel\": \"final\", \"serial\": 0, \"minor\": 7}, \"type\": \"CPython\", \"has_sslcontext\": true, \"version_info\": [2, 7, 9, \"final\", 0]}, \"ansible_machine\": \"x86_64\", \"ansible_processor_threads_per_core\": 2, \"ansible_fqdn\": \"d086092f2818\", \"ansible_user_gid\": 0, \"ansible_eth0\": {\"macaddress\": \"02:42:ac:11:00:04\", \"features\": {}, \"type\": \"ether\", \"mtu\": 1500, \"device\": \"eth0\", \"promisc\": false, \"ipv4\": {\"broadcast\": \"global\", \"netmask\": \"255.255.0.0\", \"network\": \"172.17.0.0\", \"address\": \"172.17.0.4\"}, \"ipv6\": [{\"scope\": \"link\", \"prefix\": \"64\", \"address\": \"fe80::42:acff:fe11:4\"}], \"active\": true, \"speed\": 10000}, \"ansible_nodename\": \"d086092f2818\", \"ansible_system\": \"Linux\", \"ansible_user_shell\": \"/bin/bash\", \"ansible_system_capabilities\": [\"cap_chown\", \"cap_dac_override\", \"cap_fowner\", \"cap_fsetid\", \"cap_kill\", \"cap_setgid\", \"cap_setuid\", \"cap_setpcap\", \"cap_net_bind_service\", \"cap_net_raw\", \"cap_sys_chroot\", \"cap_mknod\", \"cap_audit_write\", \"cap_setfcap+eip\"], \"ansible_ssh_host_key_dsa_public\": \"AAAAB3NzaC1kc3MAAACBAKaoKDWz3bA6aRcsBQ0ah5lUl73Kzvw6nCUr/SxICs371+c4U5BoWHPARSzFAWTcMKYk0LlVgbI/FLvvQRnBnh1E1gN2U9Az/xO2vc+k1slBCwZVx6SF13wOafhj+Js7rdETTw0AlFRcBpj8v6SFgUfVpZgzUNpu+1d2WXUHLpRdAAAAFQDpWtor2j8v/ln++w7dkJIrht4owQAAAIAwlgeo72d10FENiPvurMA2DtG531gbI873eqMeYCzjjYS7q3MVwZ6jZB7tNiSL0Ul2vYbItzK7E8o5YcS3+EynPfYEnzVrbWD9Dr53IwvZH230qNpyBV4DAKplxw5MX8FNQxm/UPJERzvkSCf+muo6lEHeBGj+Lzo9G6J2fhw1qgAAAIEAmeY7IAg84FRzwcprp3ahBwt9zmMPIA1emxrkFzgBjNLmBAITscux58DDzQgqMBsCa3CyzpV4/iTr4e7F8sPPy5xC5ENHV2H9rkNrOdHsrWippTUa4f2o8GLtQ9WBo8uMGE4+acd01w+wXRWnlJriAu8UwN5RVNIx3N2/RLd1Hxg=\", \"ansible_all_ipv4_addresses\": [\"172.17.0.4\"], \"ansible_python_version\": \"2.7.9\"}}\\r\\n', \"Warning: Permanently added '172.17.0.4' (ECDSA) to the list of known hosts.\\r\\nConnection to 172.17.0.4 closed.\\r\\n\")\u001b[0m\r\n",
      "\u001b[0;32mok: [172.17.0.5]\u001b[0m\r\n",
      "\u001b[0;32mok: [172.17.0.4]\u001b[0m\r\n",
      "\u001b[0;34mMETA: ran handlers\u001b[0m\r\n",
      "\u001b[0;34mMETA: ran handlers\u001b[0m\r\n",
      "\u001b[0;34mMETA: ran handlers\u001b[0m\r\n",
      "\r\n",
      "PLAY [web, localhost] **********************************************************\r\n",
      "\r\n",
      "TASK [Gathering Facts] *********************************************************\r\n",
      "\u001b[0;34mUsing module file /usr/local/lib/python2.7/site-packages/ansible/modules/system/setup.py\u001b[0m\r\n",
      "\u001b[0;34m<172.17.0.4> ESTABLISH SSH CONNECTION FOR USER: None\u001b[0m\r\n"
     ]
    },
    {
     "name": "stdout",
     "output_type": "stream",
     "text": [
      "\u001b[0;34mUsing module file /usr/local/lib/python2.7/site-packages/ansible/modules/system/setup.py\u001b[0m\n",
      "\u001b[0;34m<172.17.0.5> ESTABLISH SSH CONNECTION FOR USER: None\u001b[0m\n",
      "\u001b[0;34m<172.17.0.4> SSH: EXEC sshpass -d28 ssh -o UserKnownHostsFile=/dev/null -o StrictHostKeyChecking=no -o ConnectTimeout=10 172.17.0.4 '/bin/sh -c '\"'\"'echo ~ && sleep 0'\"'\"''\u001b[0m\n",
      "\u001b[0;34m<172.17.0.5> SSH: EXEC sshpass -d29 ssh -o UserKnownHostsFile=/dev/null -o StrictHostKeyChecking=no -o ConnectTimeout=10 172.17.0.5 '/bin/sh -c '\"'\"'echo ~ && sleep 0'\"'\"''\u001b[0m\n",
      "\u001b[0;34mUsing module file /usr/local/lib/python2.7/site-packages/ansible/modules/system/setup.py\u001b[0m\n",
      "\u001b[0;34m<127.0.0.1> ESTABLISH LOCAL CONNECTION FOR USER: root\u001b[0m\n",
      "\u001b[0;34m<127.0.0.1> EXEC /bin/sh -c 'echo ~ && sleep 0'\u001b[0m\n",
      "\u001b[0;34m<127.0.0.1> EXEC /bin/sh -c '( umask 77 && mkdir -p \"` echo /root/.ansible/tmp/ansible-tmp-1499382797.11-45688767396533 `\" && echo ansible-tmp-1499382797.11-45688767396533=\"` echo /root/.ansible/tmp/ansible-tmp-1499382797.11-45688767396533 `\" ) && sleep 0'\u001b[0m\n",
      "\u001b[0;34m<127.0.0.1> PUT /tmp/tmp6cEuzL TO /root/.ansible/tmp/ansible-tmp-1499382797.11-45688767396533/setup.py\u001b[0m\n",
      "\u001b[0;34m<127.0.0.1> EXEC /bin/sh -c 'chmod u+x /root/.ansible/tmp/ansible-tmp-1499382797.11-45688767396533/ /root/.ansible/tmp/ansible-tmp-1499382797.11-45688767396533/setup.py && sleep 0'\u001b[0m\n",
      "\u001b[0;34m<127.0.0.1> EXEC /bin/sh -c 'WELCOME='\"'\"'Benvenuti a Rimini!'\"'\"' /usr/local/bin/python /root/.ansible/tmp/ansible-tmp-1499382797.11-45688767396533/setup.py; rm -rf \"/root/.ansible/tmp/ansible-tmp-1499382797.11-45688767396533/\" > /dev/null 2>&1 && sleep 0'\u001b[0m\n",
      "\u001b[0;32mok: [localhost]\u001b[0m\n",
      "\u001b[0;34m<172.17.0.4> (0, '/root\\n', \"Warning: Permanently added '172.17.0.4' (ECDSA) to the list of known hosts.\\r\\n\")\u001b[0m\n",
      "\u001b[0;34m<172.17.0.5> (0, '/root\\n', \"Warning: Permanently added '172.17.0.5' (ECDSA) to the list of known hosts.\\r\\n\")\u001b[0m\n",
      "\u001b[0;34m<172.17.0.4> ESTABLISH SSH CONNECTION FOR USER: None\u001b[0m\n",
      "\u001b[0;34m<172.17.0.5> ESTABLISH SSH CONNECTION FOR USER: None\u001b[0m\n",
      "\u001b[0;34m<172.17.0.4> SSH: EXEC sshpass -d28 ssh -o UserKnownHostsFile=/dev/null -o StrictHostKeyChecking=no -o ConnectTimeout=10 172.17.0.4 '/bin/sh -c '\"'\"'( umask 77 && mkdir -p \"` echo /root/.ansible/tmp/ansible-tmp-1499382797.09-264622265176589 `\" && echo ansible-tmp-1499382797.09-264622265176589=\"` echo /root/.ansible/tmp/ansible-tmp-1499382797.09-264622265176589 `\" ) && sleep 0'\"'\"''\u001b[0m\n",
      "\u001b[0;34m<172.17.0.5> SSH: EXEC sshpass -d29 ssh -o UserKnownHostsFile=/dev/null -o StrictHostKeyChecking=no -o ConnectTimeout=10 172.17.0.5 '/bin/sh -c '\"'\"'( umask 77 && mkdir -p \"` echo /root/.ansible/tmp/ansible-tmp-1499382797.1-32600391771804 `\" && echo ansible-tmp-1499382797.1-32600391771804=\"` echo /root/.ansible/tmp/ansible-tmp-1499382797.1-32600391771804 `\" ) && sleep 0'\"'\"''\u001b[0m\n",
      "\u001b[0;34m<172.17.0.4> (0, 'ansible-tmp-1499382797.09-264622265176589=/root/.ansible/tmp/ansible-tmp-1499382797.09-264622265176589\\n', \"Warning: Permanently added '172.17.0.4' (ECDSA) to the list of known hosts.\\r\\n\")\u001b[0m\n",
      "\u001b[0;34m<172.17.0.4> PUT /tmp/tmpHjHl57 TO /root/.ansible/tmp/ansible-tmp-1499382797.09-264622265176589/setup.py\u001b[0m\n",
      "\u001b[0;34m<172.17.0.4> SSH: EXEC sshpass -d28 sftp -o BatchMode=no -b - -o UserKnownHostsFile=/dev/null -o StrictHostKeyChecking=no -o ConnectTimeout=10 '[172.17.0.4]'\u001b[0m\n",
      "\u001b[0;34m<172.17.0.5> (0, 'ansible-tmp-1499382797.1-32600391771804=/root/.ansible/tmp/ansible-tmp-1499382797.1-32600391771804\\n', \"Warning: Permanently added '172.17.0.5' (ECDSA) to the list of known hosts.\\r\\n\")\u001b[0m\n",
      "\u001b[0;34m<172.17.0.5> PUT /tmp/tmp93IaEk TO /root/.ansible/tmp/ansible-tmp-1499382797.1-32600391771804/setup.py\u001b[0m\n",
      "\u001b[0;34m<172.17.0.5> SSH: EXEC sshpass -d29 sftp -o BatchMode=no -b - -o UserKnownHostsFile=/dev/null -o StrictHostKeyChecking=no -o ConnectTimeout=10 '[172.17.0.5]'\u001b[0m\n",
      "\u001b[0;34m<172.17.0.5> (0, 'sftp> put /tmp/tmp93IaEk /root/.ansible/tmp/ansible-tmp-1499382797.1-32600391771804/setup.py\\n', \"Warning: Permanently added '172.17.0.5' (ECDSA) to the list of known hosts.\\r\\n\")\u001b[0m\n",
      "\u001b[0;34m<172.17.0.5> ESTABLISH SSH CONNECTION FOR USER: None\u001b[0m\n",
      "\u001b[0;34m<172.17.0.5> SSH: EXEC sshpass -d29 ssh -o UserKnownHostsFile=/dev/null -o StrictHostKeyChecking=no -o ConnectTimeout=10 172.17.0.5 '/bin/sh -c '\"'\"'chmod u+x /root/.ansible/tmp/ansible-tmp-1499382797.1-32600391771804/ /root/.ansible/tmp/ansible-tmp-1499382797.1-32600391771804/setup.py && sleep 0'\"'\"''\u001b[0m\n",
      "\u001b[0;34m<172.17.0.4> (0, 'sftp> put /tmp/tmpHjHl57 /root/.ansible/tmp/ansible-tmp-1499382797.09-264622265176589/setup.py\\n', \"Warning: Permanently added '172.17.0.4' (ECDSA) to the list of known hosts.\\r\\n\")\u001b[0m\n",
      "\u001b[0;34m<172.17.0.4> ESTABLISH SSH CONNECTION FOR USER: None\u001b[0m\n",
      "\u001b[0;34m<172.17.0.4> SSH: EXEC sshpass -d28 ssh -o UserKnownHostsFile=/dev/null -o StrictHostKeyChecking=no -o ConnectTimeout=10 172.17.0.4 '/bin/sh -c '\"'\"'chmod u+x /root/.ansible/tmp/ansible-tmp-1499382797.09-264622265176589/ /root/.ansible/tmp/ansible-tmp-1499382797.09-264622265176589/setup.py && sleep 0'\"'\"''\u001b[0m\n",
      "\u001b[0;34m<172.17.0.5> (0, '', \"Warning: Permanently added '172.17.0.5' (ECDSA) to the list of known hosts.\\r\\n\")\u001b[0m\n",
      "\u001b[0;34m<172.17.0.5> ESTABLISH SSH CONNECTION FOR USER: None\u001b[0m\n",
      "\u001b[0;34m<172.17.0.5> SSH: EXEC sshpass -d29 ssh -o UserKnownHostsFile=/dev/null -o StrictHostKeyChecking=no -o ConnectTimeout=10 -tt 172.17.0.5 '/bin/sh -c '\"'\"'WELCOME='\"'\"'\"'\"'\"'\"'\"'\"'Benvenuti a Rimini!'\"'\"'\"'\"'\"'\"'\"'\"' /usr/bin/python /root/.ansible/tmp/ansible-tmp-1499382797.1-32600391771804/setup.py; rm -rf \"/root/.ansible/tmp/ansible-tmp-1499382797.1-32600391771804/\" > /dev/null 2>&1 && sleep 0'\"'\"''\u001b[0m\n",
      "\u001b[0;34m<172.17.0.4> (0, '', \"Warning: Permanently added '172.17.0.4' (ECDSA) to the list of known hosts.\\r\\n\")\u001b[0m\n",
      "\u001b[0;34m<172.17.0.4> ESTABLISH SSH CONNECTION FOR USER: None\u001b[0m\n",
      "\u001b[0;34m<172.17.0.4> SSH: EXEC sshpass -d28 ssh -o UserKnownHostsFile=/dev/null -o StrictHostKeyChecking=no -o ConnectTimeout=10 -tt 172.17.0.4 '/bin/sh -c '\"'\"'WELCOME='\"'\"'\"'\"'\"'\"'\"'\"'Benvenuti a Rimini!'\"'\"'\"'\"'\"'\"'\"'\"' /usr/bin/python /root/.ansible/tmp/ansible-tmp-1499382797.09-264622265176589/setup.py; rm -rf \"/root/.ansible/tmp/ansible-tmp-1499382797.09-264622265176589/\" > /dev/null 2>&1 && sleep 0'\"'\"''\u001b[0m\n",
      "\u001b[0;34m<172.17.0.5> (0, '\\r\\n{\"invocation\": {\"module_args\": {\"filter\": \"*\", \"gather_subset\": [\"all\"], \"fact_path\": \"/etc/ansible/facts.d\", \"gather_timeout\": 10}}, \"changed\": false, \"ansible_facts\": {\"ansible_product_serial\": \"54CK432\", \"ansible_form_factor\": \"Portable\", \"ansible_product_version\": \"00h\", \"ansible_fips\": false, \"ansible_service_mgr\": \"sshd\", \"ansible_user_id\": \"root\", \"ansible_user_dir\": \"/root\", \"ansible_memtotal_mb\": 7906, \"ansible_ssh_host_key_ecdsa_public\": \"AAAAE2VjZHNhLXNoYTItbmlzdHAyNTYAAAAIbmlzdHAyNTYAAABBBN5vyysFbIOhxJX8lwCkeIcgq3owAARwyE50PfK2RgtR2w2F8Wi2Vy6YvKuMv6TYsl67p8QgizR6XLfe3jyeEIg=\", \"ansible_distribution_version\": \"8.6\", \"ansible_domain\": \"\", \"ansible_virtualization_type\": \"docker\", \"ansible_ssh_host_key_ed25519_public\": \"AAAAC3NzaC1lZDI1NTE5AAAAICIh5s3kPAFJ+pmkVW65x8ix7PbqthQzJwJVfF4BspAs\", \"ansible_processor_cores\": 2, \"ansible_virtualization_role\": \"guest\", \"ansible_dns\": {\"nameservers\": [\"192.168.1.254\"], \"search\": [\"lan\"]}, \"ansible_processor_vcpus\": 4, \"ansible_bios_version\": \"A00\", \"ansible_processor\": [\"GenuineIntel\", \"Intel(R) Core(TM) i5-4210U CPU @ 1.70GHz\", \"GenuineIntel\", \"Intel(R) Core(TM) i5-4210U CPU @ 1.70GHz\", \"GenuineIntel\", \"Intel(R) Core(TM) i5-4210U CPU @ 1.70GHz\", \"GenuineIntel\", \"Intel(R) Core(TM) i5-4210U CPU @ 1.70GHz\"], \"ansible_date_time\": {\"weekday_number\": \"4\", \"iso8601_basic_short\": \"20170706T231407\", \"tz\": \"UTC\", \"weeknumber\": \"27\", \"hour\": \"23\", \"year\": \"2017\", \"minute\": \"14\", \"tz_offset\": \"+0000\", \"month\": \"07\", \"epoch\": \"1499382847\", \"iso8601_micro\": \"2017-07-06T23:14:07.851515Z\", \"weekday\": \"Thursday\", \"time\": \"23:14:07\", \"date\": \"2017-07-06\", \"iso8601\": \"2017-07-06T23:14:07Z\", \"day\": \"06\", \"iso8601_basic\": \"20170706T231407851451\", \"second\": \"07\"}, \"ansible_lo\": {\"features\": {}, \"mtu\": 65536, \"device\": \"lo\", \"promisc\": false, \"ipv4\": {\"broadcast\": \"host\", \"netmask\": \"255.0.0.0\", \"network\": \"127.0.0.0\", \"address\": \"127.0.0.1\"}, \"ipv6\": [{\"scope\": \"host\", \"prefix\": \"128\", \"address\": \"::1\"}], \"active\": true, \"type\": \"loopback\"}, \"ansible_userspace_bits\": \"64\", \"ansible_architecture\": \"x86_64\", \"ansible_real_user_id\": 0, \"ansible_default_ipv4\": {\"macaddress\": \"02:42:ac:11:00:05\", \"network\": \"172.17.0.0\", \"mtu\": 1500, \"broadcast\": \"global\", \"alias\": \"eth0\", \"netmask\": \"255.255.0.0\", \"address\": \"172.17.0.5\", \"interface\": \"eth0\", \"type\": \"ether\", \"gateway\": \"172.17.0.1\"}, \"ansible_swapfree_mb\": 4039, \"ansible_default_ipv6\": {}, \"ansible_distribution_release\": \"jessie\", \"ansible_system_vendor\": \"Dell Inc.\", \"ansible_apparmor\": {\"status\": \"disabled\"}, \"ansible_cmdline\": {\"LANG\": \"it_IT.UTF-8\", \"BOOT_IMAGE\": \"/vmlinuz-4.10.17-100.fc24.x86_64\", \"i8042.nopnp\": true, \"rd.lvm.lv\": \"vg0/root00\", \"ro\": true, \"root\": \"/dev/mapper/vg0-root00\"}, \"ansible_effective_user_id\": 0, \"ansible_mounts\": [{\"uuid\": \"N/A\", \"size_total\": 107320705024, \"mount\": \"/\", \"size_available\": 107076952064, \"fstype\": \"xfs\", \"device\": \"/dev/mapper/docker-253:2-537280731-adfd85ab4a3696fd88553dca1d6bc22d2f4b0751730c64d51af28c1693aeb7ec\", \"options\": \"rw,context=\\\\\"system_u:object_r:svirt_sandbox_file_t:s0:c60,c475\\\\\",relatime,nouuid,attr2,inode64,logbsize=64k,sunit=128,swidth=128,noquota,bind\"}, {\"uuid\": \"N/A\", \"size_total\": 214643507200, \"mount\": \"/code\", \"size_available\": 18235670528, \"fstype\": \"xfs\", \"device\": \"/dev/mapper/vg0-home\", \"options\": \"rw,seclabel,relatime,attr2,inode64,noquota,bind\"}, {\"uuid\": \"N/A\", \"size_total\": 214643507200, \"mount\": \"/etc/resolv.conf\", \"size_available\": 11372883968, \"fstype\": \"xfs\", \"device\": \"/dev/mapper/vg0-data\", \"options\": \"rw,seclabel,relatime,attr2,inode64,noquota,bind\"}, {\"uuid\": \"N/A\", \"size_total\": 214643507200, \"mount\": \"/etc/hostname\", \"size_available\": 11372883968, \"fstype\": \"xfs\", \"device\": \"/dev/mapper/vg0-data\", \"options\": \"rw,seclabel,relatime,attr2,inode64,noquota,bind\"}, {\"uuid\": \"N/A\", \"size_total\": 214643507200, \"mount\": \"/etc/hosts\", \"size_available\": 11372883968, \"fstype\": \"xfs\", \"device\": \"/dev/mapper/vg0-data\", \"options\": \"rw,seclabel,relatime,attr2,inode64,noquota,bind\"}, {\"uuid\": \"N/A\", \"size_total\": 214643507200, \"mount\": \"/root/.ssh/authorized_keys\", \"size_available\": 18235670528, \"fstype\": \"xfs\", \"device\": \"/dev/mapper/vg0-home\", \"options\": \"rw,seclabel,relatime,attr2,inode64,noquota,bind\"}], \"ansible_selinux\": false, \"ansible_os_family\": \"Debian\", \"ansible_userspace_architecture\": \"x86_64\", \"ansible_product_uuid\": \"4C4C4544-0034-4310-804B-B5C04F343332\", \"ansible_kernel\": \"4.10.17-100.fc24.x86_64\", \"ansible_product_name\": \"Inspiron 7347\", \"ansible_pkg_mgr\": \"apt\", \"ansible_memfree_mb\": 489, \"ansible_devices\": {\"sda\": {\"scheduler_mode\": \"cfq\", \"rotational\": \"1\", \"vendor\": \"ATA\", \"sectors\": \"976773168\", \"sas_device_handle\": null, \"sas_address\": null, \"host\": \"\", \"sectorsize\": \"512\", \"removable\": \"0\", \"support_discard\": \"0\", \"model\": \"ST500LM000-1EJ16\", \"partitions\": {\"sda6\": {\"sectorsize\": 512, \"uuid\": null, \"sectors\": \"14827568\", \"start\": \"961943552\", \"holders\": [], \"size\": \"7.07 GB\"}, \"sda7\": {\"sectorsize\": 512, \"uuid\": null, \"sectors\": \"1048576\", \"start\": \"3725312\", \"holders\": [], \"size\": \"512.00 MB\"}, \"sda4\": {\"sectorsize\": 512, \"uuid\": null, \"sectors\": \"1536000\", \"start\": \"1370112\", \"holders\": [], \"size\": \"750.00 MB\"}, \"sda5\": {\"sectorsize\": 512, \"uuid\": null, \"sectors\": \"819200\", \"start\": \"2906112\", \"holders\": [], \"size\": \"400.00 MB\"}, \"sda2\": {\"sectorsize\": 512, \"uuid\": null, \"sectors\": \"81920\", \"start\": \"1026048\", \"holders\": [], \"size\": \"40.00 MB\"}, \"sda3\": {\"sectorsize\": 512, \"uuid\": null, \"sectors\": \"262144\", \"start\": \"1107968\", \"holders\": [], \"size\": \"128.00 MB\"}, \"sda1\": {\"sectorsize\": 512, \"uuid\": null, \"sectors\": \"1024000\", \"start\": \"2048\", \"holders\": [], \"size\": \"500.00 MB\"}, \"sda8\": {\"sectorsize\": 512, \"uuid\": null, \"sectors\": \"897589248\", \"start\": \"4773888\", \"holders\": [\"vg0-home\", \"vg0-data\", \"vg0-root00\", \"vg0-var\"], \"size\": \"428.00 GB\"}, \"sda9\": {\"sectorsize\": 512, \"uuid\": null, \"sectors\": \"8388608\", \"start\": \"902363136\", \"holders\": [], \"size\": \"4.00 GB\"}}, \"holders\": [], \"size\": \"465.76 GB\"}}, \"ansible_user_uid\": 0, \"ansible_memory_mb\": {\"real\": {\"total\": 7906, \"used\": 7417, \"free\": 489}, \"swap\": {\"cached\": 2, \"total\": 4095, \"free\": 4039, \"used\": 56}, \"nocache\": {\"used\": 4349, \"free\": 3557}}, \"ansible_distribution\": \"Debian\", \"ansible_env\": {\"LANG\": \"C.UTF-8\", \"TERM\": \"xterm-color\", \"SHELL\": \"/bin/bash\", \"SHLVL\": \"1\", \"SSH_TTY\": \"/dev/pts/0\", \"WELCOME\": \"Benvenuti a Rimini!\", \"SSH_CLIENT\": \"172.17.0.2 53302 22\", \"PWD\": \"/root\", \"LOGNAME\": \"root\", \"USER\": \"root\", \"MAIL\": \"/var/mail/root\", \"PATH\": \"/usr/local/sbin:/usr/local/bin:/usr/sbin:/usr/bin:/sbin:/bin\", \"SSH_CONNECTION\": \"172.17.0.2 53302 172.17.0.5 22\", \"HOME\": \"/root\", \"_\": \"/bin/sh\"}, \"ansible_distribution_major_version\": \"8\", \"module_setup\": true, \"ansible_processor_count\": 1, \"ansible_hostname\": \"9e4556a3758b\", \"ansible_effective_group_id\": 0, \"ansible_swaptotal_mb\": 4095, \"ansible_real_group_id\": 0, \"ansible_bios_date\": \"06/30/2014\", \"ansible_all_ipv6_addresses\": [\"fe80::42:acff:fe11:5\"], \"ansible_interfaces\": [\"lo\", \"eth0\"], \"ansible_uptime_seconds\": 93460, \"ansible_machine_id\": \"16e25f4d8dbe4e219f5011854772e32c\", \"ansible_ssh_host_key_rsa_public\": \"AAAAB3NzaC1yc2EAAAADAQABAAABAQCiDyiFV9yDtmyu4bFQ7obgExTqF/IoTQbHzDTyc8IK0f8mTXcNaBOGxRR8fUoPLiKMnwP6QhxtpNjRJVXP3oFeMssaclKgGsaPgHcXtr3QO6GSpvsJsDZtywvSbDhD51g1PyxFULFvoPRW2h5wZojj4N0p5FYJPjqgC/LFEd06raVIfEUlmsen1o/NGjwmK2xqAGbyORG7qS5zMfq1kdDW1S7KBIxMrTmAe5+orXi2mooe5d5VL8B0c+P/izSeiT/YteL3vGhqJrWqwe9plTtfdZQynlOuROvn54vupet1WbOyrbMG3hH3tUo/wGdaXPJid+L0MAywezARaamlBZEJ\", \"ansible_gather_subset\": [\"hardware\", \"network\", \"virtual\"], \"ansible_user_gecos\": \"root\", \"ansible_system_capabilities_enforced\": \"True\", \"ansible_python\": {\"executable\": \"/usr/bin/python\", \"version\": {\"micro\": 9, \"major\": 2, \"releaselevel\": \"final\", \"serial\": 0, \"minor\": 7}, \"type\": \"CPython\", \"has_sslcontext\": true, \"version_info\": [2, 7, 9, \"final\", 0]}, \"ansible_machine\": \"x86_64\", \"ansible_processor_threads_per_core\": 2, \"ansible_fqdn\": \"9e4556a3758b\", \"ansible_user_gid\": 0, \"ansible_eth0\": {\"macaddress\": \"02:42:ac:11:00:05\", \"features\": {}, \"type\": \"ether\", \"mtu\": 1500, \"device\": \"eth0\", \"promisc\": false, \"ipv4\": {\"broadcast\": \"global\", \"netmask\": \"255.255.0.0\", \"network\": \"172.17.0.0\", \"address\": \"172.17.0.5\"}, \"ipv6\": [{\"scope\": \"link\", \"prefix\": \"64\", \"address\": \"fe80::42:acff:fe11:5\"}], \"active\": true, \"speed\": 10000}, \"ansible_nodename\": \"9e4556a3758b\", \"ansible_system\": \"Linux\", \"ansible_user_shell\": \"/bin/bash\", \"ansible_system_capabilities\": [\"cap_chown\", \"cap_dac_override\", \"cap_fowner\", \"cap_fsetid\", \"cap_kill\", \"cap_setgid\", \"cap_setuid\", \"cap_setpcap\", \"cap_net_bind_service\", \"cap_net_raw\", \"cap_sys_chroot\", \"cap_mknod\", \"cap_audit_write\", \"cap_setfcap+eip\"], \"ansible_ssh_host_key_dsa_public\": \"AAAAB3NzaC1kc3MAAACBAKaoKDWz3bA6aRcsBQ0ah5lUl73Kzvw6nCUr/SxICs371+c4U5BoWHPARSzFAWTcMKYk0LlVgbI/FLvvQRnBnh1E1gN2U9Az/xO2vc+k1slBCwZVx6SF13wOafhj+Js7rdETTw0AlFRcBpj8v6SFgUfVpZgzUNpu+1d2WXUHLpRdAAAAFQDpWtor2j8v/ln++w7dkJIrht4owQAAAIAwlgeo72d10FENiPvurMA2DtG531gbI873eqMeYCzjjYS7q3MVwZ6jZB7tNiSL0Ul2vYbItzK7E8o5YcS3+EynPfYEnzVrbWD9Dr53IwvZH230qNpyBV4DAKplxw5MX8FNQxm/UPJERzvkSCf+muo6lEHeBGj+Lzo9G6J2fhw1qgAAAIEAmeY7IAg84FRzwcprp3ahBwt9zmMPIA1emxrkFzgBjNLmBAITscux58DDzQgqMBsCa3CyzpV4/iTr4e7F8sPPy5xC5ENHV2H9rkNrOdHsrWippTUa4f2o8GLtQ9WBo8uMGE4+acd01w+wXRWnlJriAu8UwN5RVNIx3N2/RLd1Hxg=\", \"ansible_all_ipv4_addresses\": [\"172.17.0.5\"], \"ansible_python_version\": \"2.7.9\"}}\\r\\n', \"Warning: Permanently added '172.17.0.5' (ECDSA) to the list of known hosts.\\r\\nConnection to 172.17.0.5 closed.\\r\\n\")\u001b[0m\n",
      "\u001b[0;34m<172.17.0.4> (0, '\\r\\n{\"invocation\": {\"module_args\": {\"filter\": \"*\", \"gather_subset\": [\"all\"], \"fact_path\": \"/etc/ansible/facts.d\", \"gather_timeout\": 10}}, \"changed\": false, \"ansible_facts\": {\"ansible_product_serial\": \"54CK432\", \"ansible_form_factor\": \"Portable\", \"ansible_product_version\": \"00h\", \"ansible_fips\": false, \"ansible_service_mgr\": \"sshd\", \"ansible_user_id\": \"root\", \"ansible_user_dir\": \"/root\", \"ansible_memtotal_mb\": 7906, \"ansible_ssh_host_key_ecdsa_public\": \"AAAAE2VjZHNhLXNoYTItbmlzdHAyNTYAAAAIbmlzdHAyNTYAAABBBN5vyysFbIOhxJX8lwCkeIcgq3owAARwyE50PfK2RgtR2w2F8Wi2Vy6YvKuMv6TYsl67p8QgizR6XLfe3jyeEIg=\", \"ansible_distribution_version\": \"8.6\", \"ansible_domain\": \"\", \"ansible_virtualization_type\": \"docker\", \"ansible_ssh_host_key_ed25519_public\": \"AAAAC3NzaC1lZDI1NTE5AAAAICIh5s3kPAFJ+pmkVW65x8ix7PbqthQzJwJVfF4BspAs\", \"ansible_processor_cores\": 2, \"ansible_virtualization_role\": \"guest\", \"ansible_dns\": {\"nameservers\": [\"192.168.1.254\"], \"search\": [\"lan\"]}, \"ansible_processor_vcpus\": 4, \"ansible_bios_version\": \"A00\", \"ansible_processor\": [\"GenuineIntel\", \"Intel(R) Core(TM) i5-4210U CPU @ 1.70GHz\", \"GenuineIntel\", \"Intel(R) Core(TM) i5-4210U CPU @ 1.70GHz\", \"GenuineIntel\", \"Intel(R) Core(TM) i5-4210U CPU @ 1.70GHz\", \"GenuineIntel\", \"Intel(R) Core(TM) i5-4210U CPU @ 1.70GHz\"], \"ansible_date_time\": {\"weekday_number\": \"4\", \"iso8601_basic_short\": \"20170706T231407\", \"tz\": \"UTC\", \"weeknumber\": \"27\", \"hour\": \"23\", \"year\": \"2017\", \"minute\": \"14\", \"tz_offset\": \"+0000\", \"month\": \"07\", \"epoch\": \"1499382847\", \"iso8601_micro\": \"2017-07-06T23:14:07.859465Z\", \"weekday\": \"Thursday\", \"time\": \"23:14:07\", \"date\": \"2017-07-06\", \"iso8601\": \"2017-07-06T23:14:07Z\", \"day\": \"06\", \"iso8601_basic\": \"20170706T231407859384\", \"second\": \"07\"}, \"ansible_lo\": {\"features\": {}, \"mtu\": 65536, \"device\": \"lo\", \"promisc\": false, \"ipv4\": {\"broadcast\": \"host\", \"netmask\": \"255.0.0.0\", \"network\": \"127.0.0.0\", \"address\": \"127.0.0.1\"}, \"ipv6\": [{\"scope\": \"host\", \"prefix\": \"128\", \"address\": \"::1\"}], \"active\": true, \"type\": \"loopback\"}, \"ansible_userspace_bits\": \"64\", \"ansible_architecture\": \"x86_64\", \"ansible_real_user_id\": 0, \"ansible_default_ipv4\": {\"macaddress\": \"02:42:ac:11:00:04\", \"network\": \"172.17.0.0\", \"mtu\": 1500, \"broadcast\": \"global\", \"alias\": \"eth0\", \"netmask\": \"255.255.0.0\", \"address\": \"172.17.0.4\", \"interface\": \"eth0\", \"type\": \"ether\", \"gateway\": \"172.17.0.1\"}, \"ansible_swapfree_mb\": 4039, \"ansible_default_ipv6\": {}, \"ansible_distribution_release\": \"jessie\", \"ansible_system_vendor\": \"Dell Inc.\", \"ansible_apparmor\": {\"status\": \"disabled\"}, \"ansible_cmdline\": {\"LANG\": \"it_IT.UTF-8\", \"BOOT_IMAGE\": \"/vmlinuz-4.10.17-100.fc24.x86_64\", \"i8042.nopnp\": true, \"rd.lvm.lv\": \"vg0/root00\", \"ro\": true, \"root\": \"/dev/mapper/vg0-root00\"}, \"ansible_effective_user_id\": 0, \"ansible_mounts\": [{\"uuid\": \"N/A\", \"size_total\": 107320705024, \"mount\": \"/\", \"size_available\": 107076976640, \"fstype\": \"xfs\", \"device\": \"/dev/mapper/docker-253:2-537280731-b2ff36c2fd73087bfc30c8fb7abcc8e471d1298f1899f0190457252dd69bc0be\", \"options\": \"rw,context=\\\\\"system_u:object_r:svirt_sandbox_file_t:s0:c290,c314\\\\\",relatime,nouuid,attr2,inode64,logbsize=64k,sunit=128,swidth=128,noquota,bind\"}, {\"uuid\": \"N/A\", \"size_total\": 214643507200, \"mount\": \"/code\", \"size_available\": 18235670528, \"fstype\": \"xfs\", \"device\": \"/dev/mapper/vg0-home\", \"options\": \"rw,seclabel,relatime,attr2,inode64,noquota,bind\"}, {\"uuid\": \"N/A\", \"size_total\": 214643507200, \"mount\": \"/etc/resolv.conf\", \"size_available\": 11372883968, \"fstype\": \"xfs\", \"device\": \"/dev/mapper/vg0-data\", \"options\": \"rw,seclabel,relatime,attr2,inode64,noquota,bind\"}, {\"uuid\": \"N/A\", \"size_total\": 214643507200, \"mount\": \"/etc/hostname\", \"size_available\": 11372883968, \"fstype\": \"xfs\", \"device\": \"/dev/mapper/vg0-data\", \"options\": \"rw,seclabel,relatime,attr2,inode64,noquota,bind\"}, {\"uuid\": \"N/A\", \"size_total\": 214643507200, \"mount\": \"/etc/hosts\", \"size_available\": 11372883968, \"fstype\": \"xfs\", \"device\": \"/dev/mapper/vg0-data\", \"options\": \"rw,seclabel,relatime,attr2,inode64,noquota,bind\"}, {\"uuid\": \"N/A\", \"size_total\": 214643507200, \"mount\": \"/root/.ssh/authorized_keys\", \"size_available\": 18235670528, \"fstype\": \"xfs\", \"device\": \"/dev/mapper/vg0-home\", \"options\": \"rw,seclabel,relatime,attr2,inode64,noquota,bind\"}], \"ansible_selinux\": false, \"ansible_os_family\": \"Debian\", \"ansible_userspace_architecture\": \"x86_64\", \"ansible_product_uuid\": \"4C4C4544-0034-4310-804B-B5C04F343332\", \"ansible_kernel\": \"4.10.17-100.fc24.x86_64\", \"ansible_product_name\": \"Inspiron 7347\", \"ansible_pkg_mgr\": \"apt\", \"ansible_memfree_mb\": 489, \"ansible_devices\": {\"sda\": {\"scheduler_mode\": \"cfq\", \"rotational\": \"1\", \"vendor\": \"ATA\", \"sectors\": \"976773168\", \"sas_device_handle\": null, \"sas_address\": null, \"host\": \"\", \"sectorsize\": \"512\", \"removable\": \"0\", \"support_discard\": \"0\", \"model\": \"ST500LM000-1EJ16\", \"partitions\": {\"sda6\": {\"sectorsize\": 512, \"uuid\": null, \"sectors\": \"14827568\", \"start\": \"961943552\", \"holders\": [], \"size\": \"7.07 GB\"}, \"sda7\": {\"sectorsize\": 512, \"uuid\": null, \"sectors\": \"1048576\", \"start\": \"3725312\", \"holders\": [], \"size\": \"512.00 MB\"}, \"sda4\": {\"sectorsize\": 512, \"uuid\": null, \"sectors\": \"1536000\", \"start\": \"1370112\", \"holders\": [], \"size\": \"750.00 MB\"}, \"sda5\": {\"sectorsize\": 512, \"uuid\": null, \"sectors\": \"819200\", \"start\": \"2906112\", \"holders\": [], \"size\": \"400.00 MB\"}, \"sda2\": {\"sectorsize\": 512, \"uuid\": null, \"sectors\": \"81920\", \"start\": \"1026048\", \"holders\": [], \"size\": \"40.00 MB\"}, \"sda3\": {\"sectorsize\": 512, \"uuid\": null, \"sectors\": \"262144\", \"start\": \"1107968\", \"holders\": [], \"size\": \"128.00 MB\"}, \"sda1\": {\"sectorsize\": 512, \"uuid\": null, \"sectors\": \"1024000\", \"start\": \"2048\", \"holders\": [], \"size\": \"500.00 MB\"}, \"sda8\": {\"sectorsize\": 512, \"uuid\": null, \"sectors\": \"897589248\", \"start\": \"4773888\", \"holders\": [\"vg0-home\", \"vg0-data\", \"vg0-root00\", \"vg0-var\"], \"size\": \"428.00 GB\"}, \"sda9\": {\"sectorsize\": 512, \"uuid\": null, \"sectors\": \"8388608\", \"start\": \"902363136\", \"holders\": [], \"size\": \"4.00 GB\"}}, \"holders\": [], \"size\": \"465.76 GB\"}}, \"ansible_user_uid\": 0, \"ansible_memory_mb\": {\"real\": {\"total\": 7906, \"used\": 7417, \"free\": 489}, \"swap\": {\"cached\": 2, \"total\": 4095, \"free\": 4039, \"used\": 56}, \"nocache\": {\"used\": 4349, \"free\": 3557}}, \"ansible_distribution\": \"Debian\", \"ansible_env\": {\"LANG\": \"C.UTF-8\", \"TERM\": \"xterm-color\", \"SHELL\": \"/bin/bash\", \"SHLVL\": \"1\", \"SSH_TTY\": \"/dev/pts/0\", \"WELCOME\": \"Benvenuti a Rimini!\", \"SSH_CLIENT\": \"172.17.0.2 44396 22\", \"PWD\": \"/root\", \"LOGNAME\": \"root\", \"USER\": \"root\", \"MAIL\": \"/var/mail/root\", \"PATH\": \"/usr/local/sbin:/usr/local/bin:/usr/sbin:/usr/bin:/sbin:/bin\", \"SSH_CONNECTION\": \"172.17.0.2 44396 172.17.0.4 22\", \"HOME\": \"/root\", \"_\": \"/bin/sh\"}, \"ansible_distribution_major_version\": \"8\", \"module_setup\": true, \"ansible_processor_count\": 1, \"ansible_hostname\": \"d086092f2818\", \"ansible_effective_group_id\": 0, \"ansible_swaptotal_mb\": 4095, \"ansible_real_group_id\": 0, \"ansible_bios_date\": \"06/30/2014\", \"ansible_all_ipv6_addresses\": [\"fe80::42:acff:fe11:4\"], \"ansible_interfaces\": [\"lo\", \"eth0\"], \"ansible_uptime_seconds\": 93460, \"ansible_machine_id\": \"16e25f4d8dbe4e219f5011854772e32c\", \"ansible_ssh_host_key_rsa_public\": \"AAAAB3NzaC1yc2EAAAADAQABAAABAQCiDyiFV9yDtmyu4bFQ7obgExTqF/IoTQbHzDTyc8IK0f8mTXcNaBOGxRR8fUoPLiKMnwP6QhxtpNjRJVXP3oFeMssaclKgGsaPgHcXtr3QO6GSpvsJsDZtywvSbDhD51g1PyxFULFvoPRW2h5wZojj4N0p5FYJPjqgC/LFEd06raVIfEUlmsen1o/NGjwmK2xqAGbyORG7qS5zMfq1kdDW1S7KBIxMrTmAe5+orXi2mooe5d5VL8B0c+P/izSeiT/YteL3vGhqJrWqwe9plTtfdZQynlOuROvn54vupet1WbOyrbMG3hH3tUo/wGdaXPJid+L0MAywezARaamlBZEJ\", \"ansible_gather_subset\": [\"hardware\", \"network\", \"virtual\"], \"ansible_user_gecos\": \"root\", \"ansible_system_capabilities_enforced\": \"True\", \"ansible_python\": {\"executable\": \"/usr/bin/python\", \"version\": {\"micro\": 9, \"major\": 2, \"releaselevel\": \"final\", \"serial\": 0, \"minor\": 7}, \"type\": \"CPython\", \"has_sslcontext\": true, \"version_info\": [2, 7, 9, \"final\", 0]}, \"ansible_machine\": \"x86_64\", \"ansible_processor_threads_per_core\": 2, \"ansible_fqdn\": \"d086092f2818\", \"ansible_user_gid\": 0, \"ansible_eth0\": {\"macaddress\": \"02:42:ac:11:00:04\", \"features\": {}, \"type\": \"ether\", \"mtu\": 1500, \"device\": \"eth0\", \"promisc\": false, \"ipv4\": {\"broadcast\": \"global\", \"netmask\": \"255.255.0.0\", \"network\": \"172.17.0.0\", \"address\": \"172.17.0.4\"}, \"ipv6\": [{\"scope\": \"link\", \"prefix\": \"64\", \"address\": \"fe80::42:acff:fe11:4\"}], \"active\": true, \"speed\": 10000}, \"ansible_nodename\": \"d086092f2818\", \"ansible_system\": \"Linux\", \"ansible_user_shell\": \"/bin/bash\", \"ansible_system_capabilities\": [\"cap_chown\", \"cap_dac_override\", \"cap_fowner\", \"cap_fsetid\", \"cap_kill\", \"cap_setgid\", \"cap_setuid\", \"cap_setpcap\", \"cap_net_bind_service\", \"cap_net_raw\", \"cap_sys_chroot\", \"cap_mknod\", \"cap_audit_write\", \"cap_setfcap+eip\"], \"ansible_ssh_host_key_dsa_public\": \"AAAAB3NzaC1kc3MAAACBAKaoKDWz3bA6aRcsBQ0ah5lUl73Kzvw6nCUr/SxICs371+c4U5BoWHPARSzFAWTcMKYk0LlVgbI/FLvvQRnBnh1E1gN2U9Az/xO2vc+k1slBCwZVx6SF13wOafhj+Js7rdETTw0AlFRcBpj8v6SFgUfVpZgzUNpu+1d2WXUHLpRdAAAAFQDpWtor2j8v/ln++w7dkJIrht4owQAAAIAwlgeo72d10FENiPvurMA2DtG531gbI873eqMeYCzjjYS7q3MVwZ6jZB7tNiSL0Ul2vYbItzK7E8o5YcS3+EynPfYEnzVrbWD9Dr53IwvZH230qNpyBV4DAKplxw5MX8FNQxm/UPJERzvkSCf+muo6lEHeBGj+Lzo9G6J2fhw1qgAAAIEAmeY7IAg84FRzwcprp3ahBwt9zmMPIA1emxrkFzgBjNLmBAITscux58DDzQgqMBsCa3CyzpV4/iTr4e7F8sPPy5xC5ENHV2H9rkNrOdHsrWippTUa4f2o8GLtQ9WBo8uMGE4+acd01w+wXRWnlJriAu8UwN5RVNIx3N2/RLd1Hxg=\", \"ansible_all_ipv4_addresses\": [\"172.17.0.4\"], \"ansible_python_version\": \"2.7.9\"}}\\r\\n', \"Warning: Permanently added '172.17.0.4' (ECDSA) to the list of known hosts.\\r\\nConnection to 172.17.0.4 closed.\\r\\n\")\u001b[0m\n",
      "\u001b[0;32mok: [172.17.0.5]\u001b[0m\n",
      "\u001b[0;32mok: [172.17.0.4]\u001b[0m\n",
      "\u001b[0;34mMETA: ran handlers\u001b[0m\n",
      "\n",
      "TASK [Passing a shell variable to the whole play] ******************************\n",
      "\u001b[1;30mtask path: /notebooks/exercise-03/fileglob.yml:20\u001b[0m\n"
     ]
    },
    {
     "name": "stdout",
     "output_type": "stream",
     "text": [
      "\u001b[0;34mUsing module file /usr/local/lib/python2.7/site-packages/ansible/modules/commands/command.py\u001b[0m\n",
      "\u001b[0;34m<172.17.0.4> ESTABLISH SSH CONNECTION FOR USER: None\u001b[0m\n",
      "\u001b[0;34mUsing module file /usr/local/lib/python2.7/site-packages/ansible/modules/commands/command.py\u001b[0m\n",
      "\u001b[0;34m<172.17.0.5> ESTABLISH SSH CONNECTION FOR USER: None\u001b[0m\n",
      "\u001b[0;34mUsing module file /usr/local/lib/python2.7/site-packages/ansible/modules/commands/command.py\u001b[0m\n",
      "\u001b[0;34m<127.0.0.1> ESTABLISH LOCAL CONNECTION FOR USER: root\u001b[0m\n",
      "\u001b[0;34m<127.0.0.1> EXEC /bin/sh -c 'echo ~ && sleep 0'\u001b[0m\n",
      "\u001b[0;34m<172.17.0.4> SSH: EXEC sshpass -d7 ssh -o UserKnownHostsFile=/dev/null -o StrictHostKeyChecking=no -o ConnectTimeout=10 172.17.0.4 '/bin/sh -c '\"'\"'echo ~ && sleep 0'\"'\"''\u001b[0m\n",
      "\u001b[0;34m<172.17.0.5> SSH: EXEC sshpass -d32 ssh -o UserKnownHostsFile=/dev/null -o StrictHostKeyChecking=no -o ConnectTimeout=10 172.17.0.5 '/bin/sh -c '\"'\"'echo ~ && sleep 0'\"'\"''\u001b[0m\n",
      "\u001b[0;34m<127.0.0.1> EXEC /bin/sh -c '( umask 77 && mkdir -p \"` echo /root/.ansible/tmp/ansible-tmp-1499382849.21-27122675600316 `\" && echo ansible-tmp-1499382849.21-27122675600316=\"` echo /root/.ansible/tmp/ansible-tmp-1499382849.21-27122675600316 `\" ) && sleep 0'\u001b[0m\n",
      "\u001b[0;34m<127.0.0.1> PUT /tmp/tmpE8kDol TO /root/.ansible/tmp/ansible-tmp-1499382849.21-27122675600316/command.py\u001b[0m\n",
      "\u001b[0;34m<127.0.0.1> EXEC /bin/sh -c 'chmod u+x /root/.ansible/tmp/ansible-tmp-1499382849.21-27122675600316/ /root/.ansible/tmp/ansible-tmp-1499382849.21-27122675600316/command.py && sleep 0'\u001b[0m\n",
      "\u001b[0;34m<127.0.0.1> EXEC /bin/sh -c 'WELCOME='\"'\"'Benvenuti a Rimini!'\"'\"' /usr/local/bin/python /root/.ansible/tmp/ansible-tmp-1499382849.21-27122675600316/command.py; rm -rf \"/root/.ansible/tmp/ansible-tmp-1499382849.21-27122675600316/\" > /dev/null 2>&1 && sleep 0'\u001b[0m\n",
      "\u001b[0;33mchanged: [localhost] => {\u001b[0m\n",
      "\u001b[0;33m    \"changed\": true, \u001b[0m\n",
      "\u001b[0;33m    \"cmd\": \"echo $WELCOME\", \u001b[0m\n",
      "\u001b[0;33m    \"delta\": \"0:00:00.131885\", \u001b[0m\n",
      "\u001b[0;33m    \"end\": \"2017-07-06 23:14:09.466096\", \u001b[0m\n",
      "\u001b[0;33m    \"invocation\": {\u001b[0m\n",
      "\u001b[0;33m        \"module_args\": {\u001b[0m\n",
      "\u001b[0;33m            \"_raw_params\": \"echo $WELCOME\", \u001b[0m\n",
      "\u001b[0;33m            \"_uses_shell\": true, \u001b[0m\n",
      "\u001b[0;33m            \"chdir\": null, \u001b[0m\n",
      "\u001b[0;33m            \"creates\": null, \u001b[0m\n",
      "\u001b[0;33m            \"executable\": null, \u001b[0m\n",
      "\u001b[0;33m            \"removes\": null, \u001b[0m\n",
      "\u001b[0;33m            \"warn\": true\u001b[0m\n",
      "\u001b[0;33m        }\u001b[0m\n",
      "\u001b[0;33m    }, \u001b[0m\n",
      "\u001b[0;33m    \"rc\": 0, \u001b[0m\n",
      "\u001b[0;33m    \"start\": \"2017-07-06 23:14:09.334211\", \u001b[0m\n",
      "\u001b[0;33m    \"stderr\": \"\", \u001b[0m\n",
      "\u001b[0;33m    \"stderr_lines\": [], \u001b[0m\n",
      "\u001b[0;33m    \"stdout\": \"Benvenuti a Rimini!\", \u001b[0m\n",
      "\u001b[0;33m    \"stdout_lines\": [\u001b[0m\n",
      "\u001b[0;33m        \"Benvenuti a Rimini!\"\u001b[0m\n",
      "\u001b[0;33m    ]\u001b[0m\n",
      "\u001b[0;33m}\u001b[0m\n",
      "\u001b[0;34m<172.17.0.5> (0, '/root\\n', \"Warning: Permanently added '172.17.0.5' (ECDSA) to the list of known hosts.\\r\\n\")\u001b[0m\n",
      "\u001b[0;34m<172.17.0.5> ESTABLISH SSH CONNECTION FOR USER: None\u001b[0m\n",
      "\u001b[0;34m<172.17.0.5> SSH: EXEC sshpass -d32 ssh -o UserKnownHostsFile=/dev/null -o StrictHostKeyChecking=no -o ConnectTimeout=10 172.17.0.5 '/bin/sh -c '\"'\"'( umask 77 && mkdir -p \"` echo /root/.ansible/tmp/ansible-tmp-1499382849.21-204917259408038 `\" && echo ansible-tmp-1499382849.21-204917259408038=\"` echo /root/.ansible/tmp/ansible-tmp-1499382849.21-204917259408038 `\" ) && sleep 0'\"'\"''\u001b[0m\n",
      "\u001b[0;34m<172.17.0.4> (0, '/root\\n', \"Warning: Permanently added '172.17.0.4' (ECDSA) to the list of known hosts.\\r\\n\")\u001b[0m\n",
      "\u001b[0;34m<172.17.0.4> ESTABLISH SSH CONNECTION FOR USER: None\u001b[0m\n",
      "\u001b[0;34m<172.17.0.4> SSH: EXEC sshpass -d7 ssh -o UserKnownHostsFile=/dev/null -o StrictHostKeyChecking=no -o ConnectTimeout=10 172.17.0.4 '/bin/sh -c '\"'\"'( umask 77 && mkdir -p \"` echo /root/.ansible/tmp/ansible-tmp-1499382849.21-253894804630991 `\" && echo ansible-tmp-1499382849.21-253894804630991=\"` echo /root/.ansible/tmp/ansible-tmp-1499382849.21-253894804630991 `\" ) && sleep 0'\"'\"''\u001b[0m\n",
      "\u001b[0;34m<172.17.0.5> (0, 'ansible-tmp-1499382849.21-204917259408038=/root/.ansible/tmp/ansible-tmp-1499382849.21-204917259408038\\n', \"Warning: Permanently added '172.17.0.5' (ECDSA) to the list of known hosts.\\r\\n\")\u001b[0m\n",
      "\u001b[0;34m<172.17.0.5> PUT /tmp/tmpzTbDNN TO /root/.ansible/tmp/ansible-tmp-1499382849.21-204917259408038/command.py\u001b[0m\n",
      "\u001b[0;34m<172.17.0.5> SSH: EXEC sshpass -d32 sftp -o BatchMode=no -b - -o UserKnownHostsFile=/dev/null -o StrictHostKeyChecking=no -o ConnectTimeout=10 '[172.17.0.5]'\u001b[0m\n",
      "\u001b[0;34m<172.17.0.4> (0, 'ansible-tmp-1499382849.21-253894804630991=/root/.ansible/tmp/ansible-tmp-1499382849.21-253894804630991\\n', \"Warning: Permanently added '172.17.0.4' (ECDSA) to the list of known hosts.\\r\\n\")\u001b[0m\n",
      "\u001b[0;34m<172.17.0.4> PUT /tmp/tmpn2mM8Q TO /root/.ansible/tmp/ansible-tmp-1499382849.21-253894804630991/command.py\u001b[0m\n",
      "\u001b[0;34m<172.17.0.4> SSH: EXEC sshpass -d7 sftp -o BatchMode=no -b - -o UserKnownHostsFile=/dev/null -o StrictHostKeyChecking=no -o ConnectTimeout=10 '[172.17.0.4]'\u001b[0m\n",
      "\u001b[0;34m<172.17.0.5> (0, 'sftp> put /tmp/tmpzTbDNN /root/.ansible/tmp/ansible-tmp-1499382849.21-204917259408038/command.py\\n', \"Warning: Permanently added '172.17.0.5' (ECDSA) to the list of known hosts.\\r\\n\")\u001b[0m\n",
      "\u001b[0;34m<172.17.0.5> ESTABLISH SSH CONNECTION FOR USER: None\u001b[0m\n",
      "\u001b[0;34m<172.17.0.5> SSH: EXEC sshpass -d32 ssh -o UserKnownHostsFile=/dev/null -o StrictHostKeyChecking=no -o ConnectTimeout=10 172.17.0.5 '/bin/sh -c '\"'\"'chmod u+x /root/.ansible/tmp/ansible-tmp-1499382849.21-204917259408038/ /root/.ansible/tmp/ansible-tmp-1499382849.21-204917259408038/command.py && sleep 0'\"'\"''\u001b[0m\n",
      "\u001b[0;34m<172.17.0.4> (0, 'sftp> put /tmp/tmpn2mM8Q /root/.ansible/tmp/ansible-tmp-1499382849.21-253894804630991/command.py\\n', \"Warning: Permanently added '172.17.0.4' (ECDSA) to the list of known hosts.\\r\\n\")\u001b[0m\n",
      "\u001b[0;34m<172.17.0.4> ESTABLISH SSH CONNECTION FOR USER: None\u001b[0m\n",
      "\u001b[0;34m<172.17.0.4> SSH: EXEC sshpass -d7 ssh -o UserKnownHostsFile=/dev/null -o StrictHostKeyChecking=no -o ConnectTimeout=10 172.17.0.4 '/bin/sh -c '\"'\"'chmod u+x /root/.ansible/tmp/ansible-tmp-1499382849.21-253894804630991/ /root/.ansible/tmp/ansible-tmp-1499382849.21-253894804630991/command.py && sleep 0'\"'\"''\u001b[0m\n",
      "\u001b[0;34m<172.17.0.4> (0, '', \"Warning: Permanently added '172.17.0.4' (ECDSA) to the list of known hosts.\\r\\n\")\u001b[0m\n",
      "\u001b[0;34m<172.17.0.4> ESTABLISH SSH CONNECTION FOR USER: None\u001b[0m\n",
      "\u001b[0;34m<172.17.0.4> SSH: EXEC sshpass -d7 ssh -o UserKnownHostsFile=/dev/null -o StrictHostKeyChecking=no -o ConnectTimeout=10 -tt 172.17.0.4 '/bin/sh -c '\"'\"'WELCOME='\"'\"'\"'\"'\"'\"'\"'\"'Benvenuti a Rimini!'\"'\"'\"'\"'\"'\"'\"'\"' /usr/bin/python /root/.ansible/tmp/ansible-tmp-1499382849.21-253894804630991/command.py; rm -rf \"/root/.ansible/tmp/ansible-tmp-1499382849.21-253894804630991/\" > /dev/null 2>&1 && sleep 0'\"'\"''\u001b[0m\n",
      "\u001b[0;34m<172.17.0.5> (0, '', \"Warning: Permanently added '172.17.0.5' (ECDSA) to the list of known hosts.\\r\\n\")\u001b[0m\n",
      "\u001b[0;34m<172.17.0.5> ESTABLISH SSH CONNECTION FOR USER: None\u001b[0m\n",
      "\u001b[0;34m<172.17.0.5> SSH: EXEC sshpass -d32 ssh -o UserKnownHostsFile=/dev/null -o StrictHostKeyChecking=no -o ConnectTimeout=10 -tt 172.17.0.5 '/bin/sh -c '\"'\"'WELCOME='\"'\"'\"'\"'\"'\"'\"'\"'Benvenuti a Rimini!'\"'\"'\"'\"'\"'\"'\"'\"' /usr/bin/python /root/.ansible/tmp/ansible-tmp-1499382849.21-204917259408038/command.py; rm -rf \"/root/.ansible/tmp/ansible-tmp-1499382849.21-204917259408038/\" > /dev/null 2>&1 && sleep 0'\"'\"''\u001b[0m\n",
      "\u001b[0;34m<172.17.0.4> (0, '\\r\\n{\"changed\": true, \"end\": \"2017-07-06 23:14:59.972900\", \"stdout\": \"Benvenuti a Rimini!\", \"cmd\": \"echo $WELCOME\", \"rc\": 0, \"start\": \"2017-07-06 23:14:59.825554\", \"stderr\": \"\", \"delta\": \"0:00:00.147346\", \"invocation\": {\"module_args\": {\"warn\": true, \"executable\": null, \"_uses_shell\": true, \"_raw_params\": \"echo $WELCOME\", \"removes\": null, \"creates\": null, \"chdir\": null}}, \"warnings\": []}\\r\\n', \"Warning: Permanently added '172.17.0.4' (ECDSA) to the list of known hosts.\\r\\nConnection to 172.17.0.4 closed.\\r\\n\")\u001b[0m\n",
      "\u001b[0;33mchanged: [172.17.0.4] => {\u001b[0m\n",
      "\u001b[0;33m    \"changed\": true, \u001b[0m\n",
      "\u001b[0;33m    \"cmd\": \"echo $WELCOME\", \u001b[0m\n",
      "\u001b[0;33m    \"delta\": \"0:00:00.147346\", \u001b[0m\n",
      "\u001b[0;33m    \"end\": \"2017-07-06 23:14:59.972900\", \u001b[0m\n",
      "\u001b[0;33m    \"invocation\": {\u001b[0m\n",
      "\u001b[0;33m        \"module_args\": {\u001b[0m\n",
      "\u001b[0;33m            \"_raw_params\": \"echo $WELCOME\", \u001b[0m\n",
      "\u001b[0;33m            \"_uses_shell\": true, \u001b[0m\n",
      "\u001b[0;33m            \"chdir\": null, \u001b[0m\n",
      "\u001b[0;33m            \"creates\": null, \u001b[0m\n",
      "\u001b[0;33m            \"executable\": null, \u001b[0m\n",
      "\u001b[0;33m            \"removes\": null, \u001b[0m\n",
      "\u001b[0;33m            \"warn\": true\u001b[0m\n",
      "\u001b[0;33m        }\u001b[0m\n",
      "\u001b[0;33m    }, \u001b[0m\n",
      "\u001b[0;33m    \"rc\": 0, \u001b[0m\n",
      "\u001b[0;33m    \"start\": \"2017-07-06 23:14:59.825554\", \u001b[0m\n",
      "\u001b[0;33m    \"stderr\": \"\", \u001b[0m\n",
      "\u001b[0;33m    \"stderr_lines\": [], \u001b[0m\n",
      "\u001b[0;33m    \"stdout\": \"Benvenuti a Rimini!\", \u001b[0m\n",
      "\u001b[0;33m    \"stdout_lines\": [\u001b[0m\n",
      "\u001b[0;33m        \"Benvenuti a Rimini!\"\u001b[0m\n",
      "\u001b[0;33m    ]\u001b[0m\n",
      "\u001b[0;33m}\u001b[0m\n",
      "\u001b[0;34m<172.17.0.5> (0, '\\r\\n{\"changed\": true, \"end\": \"2017-07-06 23:14:59.978141\", \"stdout\": \"Benvenuti a Rimini!\", \"cmd\": \"echo $WELCOME\", \"rc\": 0, \"start\": \"2017-07-06 23:14:59.831441\", \"stderr\": \"\", \"delta\": \"0:00:00.146700\", \"invocation\": {\"module_args\": {\"warn\": true, \"executable\": null, \"_uses_shell\": true, \"_raw_params\": \"echo $WELCOME\", \"removes\": null, \"creates\": null, \"chdir\": null}}, \"warnings\": []}\\r\\n', \"Warning: Permanently added '172.17.0.5' (ECDSA) to the list of known hosts.\\r\\nConnection to 172.17.0.5 closed.\\r\\n\")\u001b[0m\n",
      "\u001b[0;33mchanged: [172.17.0.5] => {\u001b[0m\n",
      "\u001b[0;33m    \"changed\": true, \u001b[0m\n",
      "\u001b[0;33m    \"cmd\": \"echo $WELCOME\", \u001b[0m\n",
      "\u001b[0;33m    \"delta\": \"0:00:00.146700\", \u001b[0m\n",
      "\u001b[0;33m    \"end\": \"2017-07-06 23:14:59.978141\", \u001b[0m\n",
      "\u001b[0;33m    \"invocation\": {\u001b[0m\n",
      "\u001b[0;33m        \"module_args\": {\u001b[0m\n",
      "\u001b[0;33m            \"_raw_params\": \"echo $WELCOME\", \u001b[0m\n",
      "\u001b[0;33m            \"_uses_shell\": true, \u001b[0m\n",
      "\u001b[0;33m            \"chdir\": null, \u001b[0m\n",
      "\u001b[0;33m            \"creates\": null, \u001b[0m\n",
      "\u001b[0;33m            \"executable\": null, \u001b[0m\n",
      "\u001b[0;33m            \"removes\": null, \u001b[0m\n",
      "\u001b[0;33m            \"warn\": true\u001b[0m\n",
      "\u001b[0;33m        }\u001b[0m\n",
      "\u001b[0;33m    }, \u001b[0m\n",
      "\u001b[0;33m    \"rc\": 0, \u001b[0m\n",
      "\u001b[0;33m    \"start\": \"2017-07-06 23:14:59.831441\", \u001b[0m\n",
      "\u001b[0;33m    \"stderr\": \"\", \u001b[0m\n",
      "\u001b[0;33m    \"stderr_lines\": [], \u001b[0m\n",
      "\u001b[0;33m    \"stdout\": \"Benvenuti a Rimini!\", \u001b[0m\n",
      "\u001b[0;33m    \"stdout_lines\": [\u001b[0m\n",
      "\u001b[0;33m        \"Benvenuti a Rimini!\"\u001b[0m\n",
      "\u001b[0;33m    ]\u001b[0m\n",
      "\u001b[0;33m}\u001b[0m\n",
      "\n",
      "TASK [EuroPython is here] ******************************************************\n",
      "\u001b[1;30mtask path: /notebooks/exercise-03/fileglob.yml:24\u001b[0m\n",
      "\u001b[0;32mok: [172.17.0.4] => {\u001b[0m\n",
      "\u001b[0;32m    \"o.stdout\": \"Benvenuti a Rimini!\"\u001b[0m\n",
      "\u001b[0;32m}\u001b[0m\n",
      "\u001b[0;32mok: [172.17.0.5] => {\u001b[0m\n",
      "\u001b[0;32m    \"o.stdout\": \"Benvenuti a Rimini!\"\u001b[0m\n",
      "\u001b[0;32m}\u001b[0m\n"
     ]
    },
    {
     "name": "stdout",
     "output_type": "stream",
     "text": [
      "\u001b[0;32mok: [localhost] => {\u001b[0m\r\n",
      "\u001b[0;32m    \"o.stdout\": \"Benvenuti a Rimini!\"\u001b[0m\r\n",
      "\u001b[0;32m}\u001b[0m\r\n",
      "\u001b[0;34mMETA: ran handlers\u001b[0m\r\n",
      "\u001b[0;34mMETA: ran handlers\u001b[0m\r\n",
      "\r\n",
      "PLAY RECAP *********************************************************************\r\n",
      "\u001b[0;31m172.17.0.3\u001b[0m                 : ok=0    changed=0    \u001b[1;31munreachable=1   \u001b[0m failed=0   \r\n",
      "\u001b[0;33m172.17.0.4\u001b[0m                 : \u001b[0;32mok=4   \u001b[0m \u001b[0;33mchanged=1   \u001b[0m unreachable=0    failed=0   \r\n",
      "\u001b[0;33m172.17.0.5\u001b[0m                 : \u001b[0;32mok=4   \u001b[0m \u001b[0;33mchanged=1   \u001b[0m unreachable=0    failed=0   \r\n",
      "\u001b[0;31m172.17.0.6\u001b[0m                 : ok=0    changed=0    \u001b[1;31munreachable=1   \u001b[0m failed=0   \r\n",
      "\u001b[0;33mlocalhost\u001b[0m                  : \u001b[0;32mok=3   \u001b[0m \u001b[0;33mchanged=1   \u001b[0m unreachable=0    failed=0   \r\n",
      "\r\n"
     ]
    }
   ],
   "source": [
    "!ansible-playbook  -vvv -i web fileglob.yml --tags environment"
   ]
  },
  {
   "cell_type": "code",
   "execution_count": null,
   "metadata": {
    "collapsed": true
   },
   "outputs": [],
   "source": []
  }
 ],
 "metadata": {
  "kernelspec": {
   "display_name": "Python 2",
   "language": "python",
   "name": "python2"
  },
  "language_info": {
   "codemirror_mode": {
    "name": "ipython",
    "version": 2
   },
   "file_extension": ".py",
   "mimetype": "text/x-python",
   "name": "python",
   "nbconvert_exporter": "python",
   "pygments_lexer": "ipython2",
   "version": "2.7.13"
  }
 },
 "nbformat": 4,
 "nbformat_minor": 1
}
