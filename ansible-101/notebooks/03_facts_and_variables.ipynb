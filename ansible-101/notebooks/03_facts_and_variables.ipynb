{
 "metadata": {
  "kernelspec": {
   "display_name": "Python 2",
   "language": "python",
   "name": "python2"
  },
  "language_info": {
   "codemirror_mode": {
    "name": "ipython",
    "version": 2
   },
   "file_extension": ".py",
   "mimetype": "text/x-python",
   "name": "python",
   "nbconvert_exporter": "python",
   "pygments_lexer": "ipython2",
   "version": "2.7.13"
  },
  "name": ""
 },
 "nbformat": 3,
 "nbformat_minor": 0,
 "worksheets": [
  {
   "cells": [
    {
     "cell_type": "markdown",
     "metadata": {},
     "source": [
      "# Facts and variables\n",
      "\n",
      "When connecting to an host, ansible creates a dictionary with a huge set of useful informations.\n",
      "\n",
      "This step is named **fact gathering**. \n",
      "\n",
      "You can inspect facts using the `setup` module."
     ]
    },
    {
     "cell_type": "code",
     "collapsed": false,
     "input": [
      "cd exercise-03"
     ],
     "language": "python",
     "metadata": {},
     "outputs": [],
     "prompt_number": 1
    },
    {
     "cell_type": "code",
     "collapsed": true,
     "input": [
      "# Let's run the setup module\n",
      "\n",
      "!ansible -i inventory -m setup localhost "
     ],
     "language": "python",
     "metadata": {},
     "outputs": [],
     "prompt_number": null
    },
    {
     "cell_type": "markdown",
     "metadata": {},
     "source": [
      "## Exercise\n",
      "\n",
      " - run the following command\n",
      " - what does it do?\n",
      " - where's  its output ?\n",
      " - use the json module to reindent it"
     ]
    },
    {
     "cell_type": "code",
     "collapsed": true,
     "input": [
      "!ansible >/dev/null -i inventory -m setup localhost --tree host_status"
     ],
     "language": "python",
     "metadata": {},
     "outputs": [],
     "prompt_number": null
    },
    {
     "cell_type": "code",
     "collapsed": true,
     "input": [
      "# Solution\n",
      "!tree host_status\n",
      "import json\n",
      "ret = json.load(open('host_status/localhost'))\n"
     ],
     "language": "python",
     "metadata": {},
     "outputs": [],
     "prompt_number": null
    },
    {
     "cell_type": "markdown",
     "metadata": {},
     "source": [
      "## Exercise\n",
      "\n",
      "Gather the following infos from the output of the previous command.\n",
      "\n",
      "  - hostname\n",
      "  - first ip address\n",
      "  - distribution\n",
      "  - kernel release\n",
      "\n"
     ]
    },
    {
     "cell_type": "code",
     "collapsed": true,
     "input": [
      "# use this cell for the exercise"
     ],
     "language": "python",
     "metadata": {},
     "outputs": [],
     "prompt_number": null
    },
    {
     "cell_type": "markdown",
     "metadata": {},
     "source": [
      "## Exercise\n",
      "\n",
      "modify [this playbook](/edit/notebooks/exercise-03/get-facts.yml) to print:\n",
      "\n",
      "\n",
      "  - hostname\n",
      "  - first ip address\n",
      "  - distribution\n",
      "  - kernel release\n"
     ]
    },
    {
     "cell_type": "code",
     "collapsed": true,
     "input": [
      "!ansible-playbook get-facts.yml"
     ],
     "language": "python",
     "metadata": {},
     "outputs": [],
     "prompt_number": null
    },
    {
     "cell_type": "markdown",
     "metadata": {},
     "source": [
      "## Facts vs Variables\n",
      "\n",
      "Essentially, facts are per-host variables gathered by ansible.\n",
      "\n",
      "In the vault lesson we've seen variables in action loaded it via -e @variables.yml.\n",
      "\n",
      "Now we'll define them with \n",
      "\n",
      "```\n",
      "- hosts: localhost\n",
      "  vars:\n",
      "  - one_variable: 1\n",
      "  - another_variable: \n",
      "      that_is: a_map\n",
      "```"
     ]
    },
    {
     "cell_type": "code",
     "collapsed": true,
     "input": [
      "!cat vars-and-facts.yml"
     ],
     "language": "python",
     "metadata": {},
     "outputs": [],
     "prompt_number": null
    },
    {
     "cell_type": "code",
     "collapsed": true,
     "input": [
      "# This playbook mixes variables and facts\n",
      "!ansible-playbook vars-and-facts.yml --tags variables"
     ],
     "language": "python",
     "metadata": {},
     "outputs": [],
     "prompt_number": null
    },
    {
     "cell_type": "markdown",
     "metadata": {},
     "source": [
      "### filters\n",
      "\n",
      "inside {{ braces }} you can process expressions using filters.\n",
      "\n",
      "```\n",
      "\n",
      "  - debug:\n",
      "      msg: >\n",
      "        Floor it  {{ ( one + pi ) | int }}\n",
      "\n",
      "\n",
      "```"
     ]
    },
    {
     "cell_type": "code",
     "collapsed": true,
     "input": [
      "# This playbook mixes variables and facts\n",
      "!ansible-playbook vars-and-facts.yml --tags filters"
     ],
     "language": "python",
     "metadata": {},
     "outputs": [],
     "prompt_number": null
    },
    {
     "cell_type": "markdown",
     "metadata": {},
     "source": [
      "## Exercise\n",
      "\n",
      "Edit [the last section of vars-and-facts.yml](/edit/notebooks/exercise-03/vars-and-facts.yml) so that it shows:\n",
      "    \n",
      "    - the free percentage of every device\n",
      "\n",
      "Hints:\n",
      "    \n",
      "    - use the playbook as a reference\n",
      "    - iterate thru server facts"
     ]
    },
    {
     "cell_type": "code",
     "collapsed": true,
     "input": [
      "!ansible-playbook vars-and-facts.yml --tags exercise"
     ],
     "language": "python",
     "metadata": {},
     "outputs": [],
     "prompt_number": null
    },
    {
     "cell_type": "markdown",
     "metadata": {},
     "source": [
      "## Conditions and Assertions\n",
      "\n",
      "Ansible supports basic condition checking via when:\n",
      "    \n",
      "```\n",
      "- hosts: localhost\n",
      "  tasks:    \n",
      "  - debug: msg=\"This always happens\"\n",
      "    when: true\n",
      "  - debug: msg=\"This never does\"\n",
      "    when: false\n",
      "```\n",
      "\n",
      "\n",
      "You can use `when` with variables and conditions too:\n",
      "\n",
      "```\n",
      "- hosts: localhost  \n",
      "  tasks:    \n",
      "  - debug: msg=\"This is {{ansible_kernel}}!\"\n",
      "    when: ansible_system == 'Linux'\n",
      "\n",
      "```\n",
      "\n",
      "Remember on `when` and `with_items`\n",
      "\n",
      "####  `when` statements should not include jinja2 templating delimiters such as {{ }} or {% %}\n",
      "\n",
      "####  `with_items` [requires proper templating and braces](http://docs.ansible.com/ansible/porting_guide_2.0.html#other-caveats). Do it for  all expressions everywhere except conditionals (`when`):\n"
     ]
    },
    {
     "cell_type": "code",
     "collapsed": true,
     "input": [
      "!ansible-playbook conditions.yml --tags when"
     ],
     "language": "python",
     "metadata": {},
     "outputs": [],
     "prompt_number": null
    },
    {
     "cell_type": "markdown",
     "metadata": {},
     "source": [
      "## assertions\n",
      "\n",
      "The fail module is used to make assertions. Unless told otherwise, ansible playbooks stops when a task fail.\n",
      "\n",
      "```\n",
      "- hosts: localhost  \n",
      "  tags: assert\n",
      "  tasks:    \n",
      "  - fail: msg=\"This is Linux!\"\n",
      "    when: ansible_system != 'Linux'\n",
      "\n",
      "  - fail: msg=\"Stop processing now!\"\n",
      "    when: ansible_architecture == 'x86_64'\n",
      "\n",
      "```"
     ]
    },
    {
     "cell_type": "code",
     "collapsed": true,
     "input": [
      "!ansible-playbook conditions.yml --tags assert"
     ],
     "language": "python",
     "metadata": {},
     "outputs": [],
     "prompt_number": null
    },
    {
     "cell_type": "markdown",
     "metadata": {},
     "source": [
      "## Exercise\n",
      "\n",
      "Edit [conditions.yml](/edit/notebooks/exercise-03/conditions.yml) and add a check on free disk size > 75%.\n",
      "\n",
      "  - get informations from gather_facts\n",
      "  - iterate thru partition `with_items`\n",
      "  - use `when` and fail module\n",
      "    "
     ]
    },
    {
     "cell_type": "code",
     "collapsed": true,
     "input": [
      "!ansible-playbook conditions.yml --tags exercise"
     ],
     "language": "python",
     "metadata": {},
     "outputs": [],
     "prompt_number": null
    },
    {
     "cell_type": "markdown",
     "metadata": {},
     "source": [
      "## Predefined variables\n",
      "\n",
      "There is a set of predefined variables too:\n",
      "\n",
      "  - group_names\n",
      "  - groups\n",
      "  - environment \n",
      "  \n",
      "When using playbooks, we'll get this one too:\n",
      "\n",
      "  - hostvars\n"
     ]
    },
    {
     "cell_type": "code",
     "collapsed": true,
     "input": [
      "!ansible all[0] -i ../web -m debug -a \"var=groups\""
     ],
     "language": "python",
     "metadata": {},
     "outputs": [],
     "prompt_number": null
    },
    {
     "cell_type": "markdown",
     "metadata": {},
     "source": [
      "### Exercise\n",
      "\n",
      "Show the content of all 4 variables:\n",
      "\n",
      "  - is every variable defined?\n",
      "  - is every variable not empty?"
     ]
    },
    {
     "cell_type": "code",
     "collapsed": true,
     "input": [
      "# Use this cell for the exercise"
     ],
     "language": "python",
     "metadata": {},
     "outputs": [],
     "prompt_number": null
    },
    {
     "cell_type": "markdown",
     "metadata": {},
     "source": [
      "## Shell environment & Files\n",
      "\n",
      "Ansible can iterate thru *local* files using\n",
      "\n",
      "```\n",
      "- name: >\n",
      "    Ansible can use globbing only on local system.\n",
      "  debug:\n",
      "    msg: >\n",
      "      I live on the local system {{item}}\n",
      "  with_fileglob:\n",
      "  - \"/etc/host*\"\n",
      "    \n",
      "\n",
      "```\n",
      "\n",
      "AFAIK There's not a remote version of `with_fileglob`, so **you cannot loop over remote fileglob**. This is because:\n",
      "\n",
      " - `with_fileglob` is implemented via executing code \n",
      " - ansible won't implicitly execute code on the remote host\n",
      " \n",
      "\n",
      "```\n",
      "- name: You can implement a remote fileglob in 2 steps\n",
      "  shell: >\n",
      "    ls /etc/host*\n",
      "  register: fileglob_remote\n",
      "  \n",
      "- name: Here we go\n",
      "  debug: msg=\"{{item}}\"\n",
      "  with_items: fileglob_remote.stdout_lines\n",
      "\n",
      "```"
     ]
    },
    {
     "cell_type": "code",
     "collapsed": false,
     "input": [
      "!ansible-playbook   -i web fileglob.yml --tags fileglob "
     ],
     "language": "python",
     "metadata": {},
     "outputs": [],
     "prompt_number": 10
    },
    {
     "cell_type": "markdown",
     "metadata": {},
     "source": [
      "You can pass `environment` variables (eg: /proc/PID/environ) to ansible plays via\n",
      "\n",
      "```\n",
      "- hosts: all\n",
      "  environment:\n",
      "    LD_LIBRARY_PATH: /usr/local/lib\n",
      "  tasks:\n",
      "    - name: Set at taskgroup level, but you can do it at task level too.\n",
      "      shell: >\n",
      "         echo $LD_LIBRARY_PATH\n",
      "```"
     ]
    },
    {
     "cell_type": "code",
     "collapsed": false,
     "input": [
      "!ansible-playbook  -vvv -i web fileglob.yml --tags environment"
     ],
     "language": "python",
     "metadata": {},
     "outputs": [],
     "prompt_number": 13
    },
    {
     "cell_type": "code",
     "collapsed": true,
     "input": [],
     "language": "python",
     "metadata": {},
     "outputs": [],
     "prompt_number": null
    }
   ],
   "metadata": {}
  }
 ]
}