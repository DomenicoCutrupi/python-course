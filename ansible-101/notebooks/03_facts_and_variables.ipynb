{
 "cells": [
  {
   "cell_type": "markdown",
   "metadata": {},
   "source": [
    "# Facts and variables\n",
    "\n",
    "When connecting to an host, ansible creates a dictionary with a huge set of useful informations.\n",
    "\n",
    "This step is named **fact gathering**. \n",
    "\n",
    "You can inspect facts using the `setup` module."
   ]
  },
  {
   "cell_type": "code",
   "execution_count": 1,
   "metadata": {},
   "outputs": [],
   "source": [
    "cd exercise-03"
   ]
  },
  {
   "cell_type": "code",
   "execution_count": 2,
   "metadata": {},
   "outputs": [],
   "source": [
    "# Let's run the setup module\n",
    "\n",
    "!ansible -i inventory -m setup localhost "
   ]
  },
  {
   "cell_type": "markdown",
   "metadata": {},
   "source": [
    "## Exercise\n",
    "\n",
    " - run the following command\n",
    " - what does it do?\n",
    " - where's  its output ?\n",
    " - use the json module to reindent it"
   ]
  },
  {
   "cell_type": "code",
   "execution_count": 3,
   "metadata": {},
   "outputs": [],
   "source": [
    "!ansible >/dev/null -i inventory -m setup localhost --tree host_status"
   ]
  },
  {
   "cell_type": "code",
   "execution_count": 4,
   "metadata": {},
   "outputs": [],
   "source": [
    "# Solution\n",
    "!tree host_status\n",
    "import json\n",
    "ret = json.load(open('host_status/localhost'))\n"
   ]
  },
  {
   "cell_type": "markdown",
   "metadata": {},
   "source": [
    "## Exercise\n",
    "\n",
    "Gather the following infos from the output of the previous command.\n",
    "\n",
    "  - hostname\n",
    "  - first ip address\n",
    "  - distribution\n",
    "  - kernel release\n",
    "\n"
   ]
  },
  {
   "cell_type": "code",
   "execution_count": 5,
   "metadata": {
    "collapsed": true
   },
   "outputs": [],
   "source": [
    "# use this cell for the exercise"
   ]
  },
  {
   "cell_type": "markdown",
   "metadata": {},
   "source": [
    "## Exercise\n",
    "\n",
    "modify [this playbook](/edit/notebooks/exercise-03/get-facts.yml) to print:\n",
    "\n",
    "\n",
    "  - hostname\n",
    "  - first ip address\n",
    "  - distribution\n",
    "  - kernel release\n"
   ]
  },
  {
   "cell_type": "code",
   "execution_count": 6,
   "metadata": {},
   "outputs": [],
   "source": [
    "!ansible-playbook get-facts.yml"
   ]
  },
  {
   "cell_type": "markdown",
   "metadata": {},
   "source": [
    "## Facts vs Variables\n",
    "\n",
    "Essentially, facts are per-host variables gathered by ansible.\n",
    "\n",
    "In the vault lesson we've seen variables in action loaded it via -e @variables.yml.\n",
    "\n",
    "Now we'll define them with \n",
    "\n",
    "```\n",
    "- hosts: localhost\n",
    "  vars:\n",
    "  - one_variable: 1\n",
    "  - another_variable: \n",
    "      that_is: a_map\n",
    "```"
   ]
  },
  {
   "cell_type": "code",
   "execution_count": 7,
   "metadata": {},
   "outputs": [],
   "source": [
    "!cat vars-and-facts.yml"
   ]
  },
  {
   "cell_type": "code",
   "execution_count": 8,
   "metadata": {},
   "outputs": [],
   "source": [
    "# This playbook mixes variables and facts\n",
    "!ansible-playbook vars-and-facts.yml --tags variables"
   ]
  },
  {
   "cell_type": "markdown",
   "metadata": {},
   "source": [
    "### filters\n",
    "\n",
    "inside {{ braces }} you can process expressions using filters.\n",
    "\n",
    "```\n",
    "\n",
    "  - debug:\n",
    "      msg: >\n",
    "        Floor it  {{ ( one + pi ) | int }}\n",
    "\n",
    "\n",
    "```"
   ]
  },
  {
   "cell_type": "code",
   "execution_count": 9,
   "metadata": {},
   "outputs": [],
   "source": [
    "# This playbook mixes variables and facts\n",
    "!ansible-playbook vars-and-facts.yml --tags filters"
   ]
  },
  {
   "cell_type": "markdown",
   "metadata": {},
   "source": [
    "## Exercise\n",
    "\n",
    "Edit [the last section of vars-and-facts.yml](/edit/notebooks/exercise-03/vars-and-facts.yml) so that it shows:\n",
    "    \n",
    "    - the free percentage of every device\n",
    "\n",
    "Hints:\n",
    "    \n",
    "    - use the playbook as a reference\n",
    "    - iterate thru server facts"
   ]
  },
  {
   "cell_type": "code",
   "execution_count": 10,
   "metadata": {},
   "outputs": [],
   "source": [
    "!ansible-playbook vars-and-facts.yml --tags exercise"
   ]
  },
  {
   "cell_type": "markdown",
   "metadata": {},
   "source": [
    "## Conditions and Assertions\n",
    "\n",
    "Ansible supports basic condition checking via when:\n",
    "    \n",
    "```\n",
    "- hosts: localhost\n",
    "  tasks:    \n",
    "  - debug: msg=\"This always happens\"\n",
    "    when: true\n",
    "  - debug: msg=\"This never does\"\n",
    "    when: false\n",
    "```\n",
    "\n",
    "\n",
    "You can use `when` with variables and conditions too:\n",
    "\n",
    "```\n",
    "- hosts: localhost  \n",
    "  tasks:    \n",
    "  - debug: msg=\"This is {{ansible_kernel}}!\"\n",
    "    when: ansible_system == 'Linux'\n",
    "\n",
    "```\n",
    "\n",
    "Remember:\n",
    "\n",
    "*** when statements should not include jinja2 templating delimiters such as {{ }} or {% %}. ***\n"
   ]
  },
  {
   "cell_type": "code",
   "execution_count": 11,
   "metadata": {},
   "outputs": [],
   "source": [
    "!ansible-playbook conditions.yml --tags when"
   ]
  },
  {
   "cell_type": "markdown",
   "metadata": {},
   "source": [
    "## assertions\n",
    "\n",
    "The fail module is used to make assertions. Unless told otherwise, ansible playbooks stops when a task fail.\n",
    "\n",
    "```\n",
    "- hosts: localhost  \n",
    "  tags: assert\n",
    "  tasks:    \n",
    "  - fail: msg=\"This is Linux!\"\n",
    "    when: ansible_system != 'Linux'\n",
    "\n",
    "  - fail: msg=\"Stop processing now!\"\n",
    "    when: ansible_architecture == 'x86_64'\n",
    "\n",
    "```"
   ]
  },
  {
   "cell_type": "code",
   "execution_count": 12,
   "metadata": {},
   "outputs": [],
   "source": [
    "!ansible-playbook conditions.yml --tags assert"
   ]
  },
  {
   "cell_type": "markdown",
   "metadata": {},
   "source": [
    "## Exercise\n",
    "\n",
    "Edit [conditions.yml](/edit/notebooks/exercise-03/conditions.yml) and add a check on free disk size > 75%.\n",
    "\n",
    "  - get informations from gather_facts\n",
    "  - iterate thru partition `with_items`\n",
    "  - use `when` and fail module\n",
    "    "
   ]
  },
  {
   "cell_type": "code",
   "execution_count": 13,
   "metadata": {},
   "outputs": [],
   "source": [
    "!ansible-playbook conditions.yml --tags exercise"
   ]
  },
  {
   "cell_type": "markdown",
   "metadata": {},
   "source": [
    "## Predefined variables\n",
    "\n",
    "There is a set of predefined variables too:\n",
    "\n",
    "  - group_names\n",
    "  - groups\n",
    "  - environment \n",
    "  \n",
    "When using playbooks, we'll get this one too:\n",
    "\n",
    "  - hostvars\n"
   ]
  },
  {
   "cell_type": "code",
   "execution_count": 19,
   "metadata": {},
   "outputs": [],
   "source": [
    "!ansible all[0] -i ../web -m debug -a \"var=groups\""
   ]
  },
  {
   "cell_type": "markdown",
   "metadata": {},
   "source": [
    "### Exercise\n",
    "\n",
    "Show the content of all 4 variables:\n",
    "\n",
    "  - is every variable defined?\n",
    "  - is every variable not empty?"
   ]
  },
  {
   "cell_type": "code",
   "execution_count": 1,
   "metadata": {
    "collapsed": true
   },
   "outputs": [],
   "source": [
    "# Use this cell for the exercise"
   ]
  },
  {
   "cell_type": "markdown",
   "metadata": {},
   "source": [
    "## Shell environment & Files\n",
    "\n",
    "Ansible can iterate thru *local* files"
   ]
  },
  {
   "cell_type": "code",
   "execution_count": null,
   "metadata": {
    "collapsed": true
   },
   "outputs": [],
   "source": []
  }
 ],
 "metadata": {
  "kernelspec": {
   "display_name": "Python 2",
   "language": "python",
   "name": "python2"
  },
  "language_info": {
   "codemirror_mode": {
    "name": "ipython",
    "version": 2
   },
   "file_extension": ".py",
   "mimetype": "text/x-python",
   "name": "python",
   "nbconvert_exporter": "python",
   "pygments_lexer": "ipython2",
   "version": "2.7.13"
  }
 },
 "nbformat": 4,
 "nbformat_minor": 1
}
