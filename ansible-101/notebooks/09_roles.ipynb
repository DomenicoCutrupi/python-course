{
 "cells": [
  {
   "cell_type": "markdown",
   "metadata": {
    "collapsed": true
   },
   "source": [
    "# Roles\n",
    "\n",
    "Writing playbooks you need a mechanism for reusability. You actually got two:\n",
    "    \n",
    "    - move stuff in modules and have them merged\n",
    "    - generalize your playbooks and organize them in roles\n",
    "    \n",
    "A role is a parametrized playbook that accomplishes a simple task, like:\n",
    "    \n",
    "    - install & setup apache (eg. yum + firewall + selinux)\n",
    "    - run checks and send file to support\n",
    "    - implement a set of security policies\n",
    "    - ...\n",
    "    \n",
    "You can get roles from:\n",
    "\n",
    "- [ansible.cfg:roles_path](http://docs.ansible.com/ansible/intro_configuration.html#roles-path)\n",
    "- default roles in `/etc/ansible`\n",
    "- a roles stored named [Ansible Galaxy](galaxy.ansible.com) where you can get and publish roles."
   ]
  },
  {
   "cell_type": "code",
   "execution_count": 7,
   "metadata": {},
   "outputs": [
    {
     "name": "stdout",
     "output_type": "stream",
     "text": [
      "[Errno 2] No such file or directory: 'exercise-09/'\n",
      "/notebooks/exercise-09\n"
     ]
    }
   ],
   "source": [
    "cd exercise-09/"
   ]
  },
  {
   "cell_type": "markdown",
   "metadata": {},
   "source": [
    "## Creating roles\n",
    "\n",
    "The best way to create a role is to be TDD.\n",
    "\n"
   ]
  },
  {
   "cell_type": "code",
   "execution_count": 8,
   "metadata": {
    "collapsed": true
   },
   "outputs": [],
   "source": [
    "!mkdir  roles/\n"
   ]
  },
  {
   "cell_type": "code",
   "execution_count": 9,
   "metadata": {},
   "outputs": [
    {
     "name": "stdout",
     "output_type": "stream",
     "text": [
      "/notebooks/exercise-09/roles\n"
     ]
    }
   ],
   "source": [
    "cd roles\n"
   ]
  },
  {
   "cell_type": "code",
   "execution_count": 10,
   "metadata": {},
   "outputs": [
    {
     "name": "stdout",
     "output_type": "stream",
     "text": [
      "--> \u001b[36mInitializing role apache2...\u001b[0m\n",
      "\u001b[0m\u001b[32mSuccessfully initialized new role in /notebooks/exercise-09/roles/apache2.\u001b[0m\n",
      "\u001b[0m\u001b[0m"
     ]
    }
   ],
   "source": [
    "!molecule init --role apache2 --driver docker\n"
   ]
  },
  {
   "cell_type": "code",
   "execution_count": null,
   "metadata": {
    "collapsed": true
   },
   "outputs": [],
   "source": [
    "tree "
   ]
  }
 ],
 "metadata": {
  "kernelspec": {
   "display_name": "Python 2",
   "language": "python",
   "name": "python2"
  },
  "language_info": {
   "codemirror_mode": {
    "name": "ipython",
    "version": 2
   },
   "file_extension": ".py",
   "mimetype": "text/x-python",
   "name": "python",
   "nbconvert_exporter": "python",
   "pygments_lexer": "ipython2",
   "version": "2.7.13"
  }
 },
 "nbformat": 4,
 "nbformat_minor": 1
}
