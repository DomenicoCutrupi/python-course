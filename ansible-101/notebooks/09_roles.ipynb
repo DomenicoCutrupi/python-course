{
 "cells": [
  {
   "cell_type": "markdown",
   "metadata": {},
   "source": [
    "# [Roles and Includes](http://docs.ansible.com/ansible/playbooks_roles.html)\n",
    "\n",
    "Writing playbooks you need a mechanism for reusability / composeability. You actually got three:\n",
    "    \n",
    "    - inclusion\n",
    "    - generalize your playbooks and organize them in roles\n",
    "    - move stuff in modules and have them merged"
   ]
  },
  {
   "cell_type": "code",
   "execution_count": 1,
   "metadata": {},
   "outputs": [
    {
     "name": "stdout",
     "output_type": "stream",
     "text": [
      "/notebooks/exercise-09\n"
     ]
    }
   ],
   "source": [
    "cd /notebooks/exercise-09/"
   ]
  },
  {
   "cell_type": "markdown",
   "metadata": {},
   "source": [
    "## Include\n",
    "\n",
    "You can include:\n",
    "\n",
    "  - playbooks in playbooks\n",
    "  - tasklist in tasks\n",
    "  "
   ]
  },
  {
   "cell_type": "code",
   "execution_count": 2,
   "metadata": {},
   "outputs": [
    {
     "name": "stdout",
     "output_type": "stream",
     "text": [
      "---\r\n",
      "# I am web-tasklist.yml\r\n",
      "\r\n",
      "- name: Create subfolder\r\n",
      "  file:\r\n",
      "    path: \"/var/www/html/{{x}}/\"\r\n",
      "    state: directory\r\n",
      "  \r\n",
      "- name: \r\n",
      "  lineinfile: \r\n",
      "    path: /var/www/html/{{x}}/index.html\r\n",
      "    line: \"{{ansible_hostname}}\"\r\n",
      "    create: yes\r\n",
      "\r\n",
      "\r\n"
     ]
    }
   ],
   "source": [
    "# This tasklist requires a variable!\n",
    "!cat documentroot.yml"
   ]
  },
  {
   "cell_type": "code",
   "execution_count": 3,
   "metadata": {},
   "outputs": [
    {
     "name": "stdout",
     "output_type": "stream",
     "text": [
      "# I am a play including a tasklist\r\n",
      "- hosts: web\r\n",
      "  tasks:\r\n",
      "  - include: documentroot.yml\r\n",
      "    vars:\r\n",
      "      x: \"{{item}}\"\r\n",
      "    with_items:\r\n",
      "    - Rimini\r\n",
      "    - Emilia-Romagna\r\n",
      "    - Italia\r\n",
      "\r\n"
     ]
    }
   ],
   "source": [
    "# and here's a play using the include\n",
    "!cat  web-1.yml"
   ]
  },
  {
   "cell_type": "markdown",
   "metadata": {},
   "source": [
    "## Exercise\n",
    "\n",
    "Reuse the previously create files:\n",
    "\n",
    "  - ansible.cfg\n",
    "  - docker-inventory.py\n",
    "\n",
    "to run web-1.yml on the `web` hosts. \n",
    "\n",
    "Remember to reference to the ssh-key `id_ansible`!\n",
    "\n",
    "Modify the playbook at will!"
   ]
  },
  {
   "cell_type": "code",
   "execution_count": 4,
   "metadata": {},
   "outputs": [],
   "source": [
    "!ansible -m ping web\n"
   ]
  },
  {
   "cell_type": "markdown",
   "metadata": {
    "collapsed": true
   },
   "source": [
    " \n",
    "\n",
    "## Roles\n",
    "    \n",
    "    \n",
    "A role is a **parametrized** playbook that accomplishes a simple task, like:\n",
    "    \n",
    "    - install & setup apache (eg. yum + firewall + selinux)\n",
    "    - run checks and send file to support\n",
    "    - implement a set of security policies\n",
    "    - ...\n",
    "    \n",
    "You can get roles from:\n",
    "\n",
    "- [ansible.cfg:roles_path](http://docs.ansible.com/ansible/intro_configuration.html#roles-path)\n",
    "- default roles in `/etc/ansible`\n",
    "- a roles stored named [Ansible Galaxy](galaxy.ansible.com) where you can get and publish roles."
   ]
  },
  {
   "cell_type": "markdown",
   "metadata": {},
   "source": [
    "## Creating roles\n",
    "\n",
    "You can create a role using the `ansible-galaxy` command which creates:\n",
    "\n",
    " - create the role layout\n",
    " \n",
    "Or via the `molecule` package which:\n",
    "\n",
    "  - create the role layout\n",
    "  - provides a test framework \n",
    "  "
   ]
  },
  {
   "cell_type": "code",
   "execution_count": 5,
   "metadata": {},
   "outputs": [],
   "source": [
    "cd roles\n"
   ]
  },
  {
   "cell_type": "code",
   "execution_count": 6,
   "metadata": {},
   "outputs": [],
   "source": [
    "!ansible-galaxy init web"
   ]
  },
  {
   "cell_type": "markdown",
   "metadata": {},
   "source": [
    "## Role layout\n",
    "\n",
    "Here's a role layout. Main files are:\n",
    "\n",
    "  - [README.md](/edit/notebooks/exercise-09/roles/web/README.md)         - the role description. Its format is very precise and you have to stick with it!\n",
    "  - [tasks/main.yml](/edit/notebooks/exercise-09/roles/web/tasks/main.yml)    - the actual playbook. Can include other playbooks and reference other roles\n",
    "\n",
    "Being a **parameterized** playbook, you need to reference parameters and variable, which are defined here:\n",
    "\n",
    "  - defaults/main.yml\n",
    "  - vars/main.yml"
   ]
  },
  {
   "cell_type": "code",
   "execution_count": 27,
   "metadata": {},
   "outputs": [],
   "source": [
    "!tree  ."
   ]
  },
  {
   "cell_type": "markdown",
   "metadata": {
    "collapsed": true
   },
   "source": [
    "### Exercise\n",
    "\n",
    "Inspect [the newly created role tree](/tree/notebooks/exercise-09/roles)\n"
   ]
  },
  {
   "cell_type": "markdown",
   "metadata": {
    "collapsed": true
   },
   "source": [
    "### Exercise\n",
    "\n",
    "Let's inspect this [mongodb role](https://github.com/nsops/ansible-mongodb)"
   ]
  },
  {
   "cell_type": "code",
   "execution_count": null,
   "metadata": {
    "collapsed": true
   },
   "outputs": [],
   "source": []
  }
 ],
 "metadata": {
  "kernelspec": {
   "display_name": "Python 2",
   "language": "python",
   "name": "python2"
  },
  "language_info": {
   "codemirror_mode": {
    "name": "ipython",
    "version": 2
   },
   "file_extension": ".py",
   "mimetype": "text/x-python",
   "name": "python",
   "nbconvert_exporter": "python",
   "pygments_lexer": "ipython2",
   "version": "2.7.11"
  }
 },
 "nbformat": 4,
 "nbformat_minor": 1
}
