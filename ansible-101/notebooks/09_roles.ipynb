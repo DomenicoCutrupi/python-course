{
 "metadata": {
  "kernelspec": {
   "display_name": "Python 2",
   "language": "python",
   "name": "python2"
  },
  "language_info": {
   "codemirror_mode": {
    "name": "ipython",
    "version": 2
   },
   "file_extension": ".py",
   "mimetype": "text/x-python",
   "name": "python",
   "nbconvert_exporter": "python",
   "pygments_lexer": "ipython2",
   "version": "2.7.13"
  },
  "name": ""
 },
 "nbformat": 3,
 "nbformat_minor": 0,
 "worksheets": [
  {
   "cells": [
    {
     "cell_type": "markdown",
     "metadata": {
      "collapsed": true
     },
     "source": [
      "# Roles\n",
      "\n",
      "Writing playbooks you need a mechanism for reusability. You actually got two:\n",
      "    \n",
      "    - move stuff in modules and have them merged\n",
      "    - generalize your playbooks and organize them in roles\n",
      "    \n",
      "A role is a parametrized playbook that accomplishes a simple task, like:\n",
      "    \n",
      "    - install & setup apache (eg. yum + firewall + selinux)\n",
      "    - run checks and send file to support\n",
      "    - implement a set of security policies\n",
      "    - ...\n",
      "    \n",
      "You can get roles from:\n",
      "\n",
      "- [ansible.cfg:roles_path](http://docs.ansible.com/ansible/intro_configuration.html#roles-path)\n",
      "- default roles in `/etc/ansible`\n",
      "- a roles stored named [Ansible Galaxy](galaxy.ansible.com) where you can get and publish roles."
     ]
    },
    {
     "cell_type": "code",
     "collapsed": false,
     "input": [
      "cd exercise-09/"
     ],
     "language": "python",
     "metadata": {},
     "outputs": [],
     "prompt_number": 7
    },
    {
     "cell_type": "markdown",
     "metadata": {},
     "source": [
      "## Creating roles\n",
      "\n",
      "The best way to create a role is to be TDD.\n",
      "\n"
     ]
    },
    {
     "cell_type": "code",
     "collapsed": true,
     "input": [
      "!mkdir  roles/\n"
     ],
     "language": "python",
     "metadata": {},
     "outputs": [],
     "prompt_number": 8
    },
    {
     "cell_type": "code",
     "collapsed": false,
     "input": [
      "cd roles\n"
     ],
     "language": "python",
     "metadata": {},
     "outputs": [],
     "prompt_number": 9
    },
    {
     "cell_type": "code",
     "collapsed": false,
     "input": [
      "!molecule init --role apache2 --driver docker\n"
     ],
     "language": "python",
     "metadata": {},
     "outputs": [],
     "prompt_number": 10
    },
    {
     "cell_type": "code",
     "collapsed": false,
     "input": [
      "!tree  .\n"
     ],
     "language": "python",
     "metadata": {},
     "outputs": [],
     "prompt_number": 13
    },
    {
     "cell_type": "code",
     "collapsed": true,
     "input": [],
     "language": "python",
     "metadata": {},
     "outputs": [],
     "prompt_number": null
    }
   ],
   "metadata": {}
  }
 ]
}