{
 "cells": [
  {
   "cell_type": "markdown",
   "metadata": {},
   "source": [
    "# [Roles and Includes](http://docs.ansible.com/ansible/playbooks_roles.html)\n",
    "\n",
    "Writing playbooks you need a mechanism for reusability / composeability. You actually got three:\n",
    "    \n",
    "    - inclusion\n",
    "    - generalize your playbooks and organize them in roles\n",
    "    - move stuff in modules and have them merged"
   ]
  },
  {
   "cell_type": "code",
   "execution_count": null,
   "metadata": {},
   "outputs": [],
   "source": [
    "cd /notebooks/exercise-09/"
   ]
  },
  {
   "cell_type": "markdown",
   "metadata": {},
   "source": [
    "## Import playbooks and Include tasks\n",
    "\n",
    "You can:\n",
    "\n",
    "  - import playbooks *at top level* with [import_playbook](http://docs.ansible.com/ansible/latest/import_playbook_module.html)\n",
    "  \n",
    "To work on tasklist:\n",
    "\n",
    "  - import static tasklists with import_tasks\n",
    "  - include dynamic tasklists with [include_tasks](http://docs.ansible.com/ansible/latest/include_tasks_module.html)\n",
    "\n",
    "\n",
    "Remember:  \n",
    "\n",
    "**The use of the OLD 'include' for tasks has been deprecated. This feature will be removed in a future release.**\n",
    "\n",
    "  "
   ]
  },
  {
   "cell_type": "code",
   "execution_count": null,
   "metadata": {},
   "outputs": [],
   "source": [
    "# This tasklist requires a variable!\n",
    "!cat documentroot.yml"
   ]
  },
  {
   "cell_type": "code",
   "execution_count": null,
   "metadata": {},
   "outputs": [],
   "source": [
    "# and here's a play using the include\n",
    "!cat  web-1.yml"
   ]
  },
  {
   "cell_type": "markdown",
   "metadata": {},
   "source": [
    "#### Exercise\n",
    "\n",
    "Reuse the previously create files:\n",
    "\n",
    "  - ansible.cfg\n",
    "  - docker-inventory.py\n",
    "\n",
    "to run web-1.yml on the `web` hosts. \n",
    "\n",
    "Remember to reference to the ssh-key `id_ansible`!\n",
    "\n",
    "Modify the playbook at will!"
   ]
  },
  {
   "cell_type": "code",
   "execution_count": null,
   "metadata": {},
   "outputs": [],
   "source": [
    "!ansible-playbook  -v web-1.yml\n"
   ]
  },
  {
   "cell_type": "markdown",
   "metadata": {},
   "source": [
    "#### Exercise\n",
    "\n",
    "In web-1.yml:\n",
    "\n",
    "    - replace import_tasks with `include_tasks`\n",
    "    - read carefully the error message \n",
    "    \n",
    "Write a simple web-3.yml which uses `import_playbook`\n"
   ]
  },
  {
   "cell_type": "code",
   "execution_count": null,
   "metadata": {},
   "outputs": [],
   "source": [
    "!ansible-playbook web-2.yml"
   ]
  },
  {
   "cell_type": "markdown",
   "metadata": {},
   "source": [
    " \n",
    "\n",
    "## Roles\n",
    "    \n",
    "    \n",
    "A role is a **parametrized** playbook that accomplishes a simple task, like:\n",
    "    \n",
    "    - install & setup apache (eg. yum + firewall + selinux)\n",
    "    - run checks and send file to support\n",
    "    - implement a set of security policies\n",
    "    - ...\n",
    "    \n",
    "You can get roles from:\n",
    "\n",
    "- [ansible.cfg:roles_path](http://docs.ansible.com/ansible/intro_configuration.html#roles-path)\n",
    "- default roles in `/etc/ansible`\n",
    "- a roles store named [Ansible Galaxy](galaxy.ansible.com) where you can get and publish roles."
   ]
  },
  {
   "cell_type": "markdown",
   "metadata": {},
   "source": [
    "## Creating roles\n",
    "\n",
    "You can create a role using the `ansible-galaxy` command which creates:\n",
    "\n",
    " - create the role layout\n",
    " \n",
    "Or via the `molecule` package which:\n",
    "\n",
    "  - create the role layout\n",
    "  - provides a test framework \n",
    "  "
   ]
  },
  {
   "cell_type": "code",
   "execution_count": null,
   "metadata": {},
   "outputs": [],
   "source": [
    "cd roles\n"
   ]
  },
  {
   "cell_type": "code",
   "execution_count": null,
   "metadata": {},
   "outputs": [],
   "source": [
    "!ansible-galaxy init web"
   ]
  },
  {
   "cell_type": "markdown",
   "metadata": {},
   "source": [
    "## Role layout\n",
    "\n",
    "Here's a role layout. Main files are:\n",
    "\n",
    "  - [README.md](/edit/notebooks/exercise-09/roles/web/README.md)         - the role description. Its format is very precise and you have to stick with it!\n",
    "  - [tasks/main.yml](/edit/notebooks/exercise-09/roles/web/tasks/main.yml)    - the actual playbook. Can include other playbooks and reference other roles\n",
    "\n",
    "Being a **parameterized** playbook, you need to reference parameters and variable, which are defined here:\n",
    "\n",
    "  - defaults/main.yml\n",
    "  - vars/main.yml"
   ]
  },
  {
   "cell_type": "code",
   "execution_count": null,
   "metadata": {},
   "outputs": [],
   "source": [
    "!tree  ."
   ]
  },
  {
   "cell_type": "markdown",
   "metadata": {},
   "source": [
    "#### Exercise\n",
    "\n",
    "Inspect [the newly created role tree](/tree/notebooks/exercise-09/roles)\n"
   ]
  },
  {
   "cell_type": "markdown",
   "metadata": {},
   "source": [
    "#### Exercise\n",
    "\n",
    "Let's inspect this [mongodb role](https://github.com/nsops/ansible-mongodb)"
   ]
  },
  {
   "cell_type": "code",
   "execution_count": null,
   "metadata": {},
   "outputs": [],
   "source": []
  }
 ],
 "metadata": {
  "kernelspec": {
   "display_name": "Python 2",
   "language": "python",
   "name": "python2"
  },
  "language_info": {
   "codemirror_mode": {
    "name": "ipython",
    "version": 2
   },
   "file_extension": ".py",
   "mimetype": "text/x-python",
   "name": "python",
   "nbconvert_exporter": "python",
   "pygments_lexer": "ipython2",
   "version": "2.7.13"
  }
 },
 "nbformat": 4,
 "nbformat_minor": 2
}
