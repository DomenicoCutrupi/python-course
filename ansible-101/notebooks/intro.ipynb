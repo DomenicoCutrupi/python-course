{
 "cells": [
  {
   "cell_type": "markdown",
   "metadata": {},
   "source": [
    "# Ansible 2 done right\n",
    "\n"
   ]
  },
  {
   "cell_type": "markdown",
   "metadata": {},
   "source": [
    "## Setup with digitalocean (if you don't have your server)\n",
    "\n",
    "Create and `ssh` into your docker droplet.\n",
    "\n",
    "![Create droplet](https://cdn.pbrd.co/images/GA8dkaJ.png)\n",
    "\n",
    "## Setup example\n",
    "\n",
    "[![asciicast](https://asciinema.org/a/9xqX4akNND7Yc0Q1sTb3ZnEhI.png)](https://asciinema.org/a/9xqX4akNND7Yc0Q1sTb3ZnEhI)\n",
    "\n",
    "\n",
    "## Docker must listen on 172.17.0.1:2735\n",
    "\n",
    "```\n",
    "# vim /etc/systemd/system/multi-user.target.wants/docker.service\n",
    "[Service]\n",
    "...\n",
    "ExecStart=/usr/bin/dockerd -H fd:// -H tcp://172.17.0.1:2375\n",
    "...\n",
    "#wq!\n",
    "\n",
    "systemctl daemon-reload\n",
    "systemctl restart docker\n",
    "```\n",
    "\n",
    "## Clone and start\n",
    "\n",
    "```\n",
    "git clone https://github.com/ioggstream/python-course.git\n",
    "cd python-course/ansible-101\n",
    "make course\n",
    "\n",
    "```\n",
    "\n",
    "## Connect to jupyter\n",
    "\n",
    "```\n",
    "firefox http://43.32.54.212:8888/tree/notebooks/?token=....\n",
    "```\n"
   ]
  },
  {
   "cell_type": "code",
   "execution_count": null,
   "metadata": {
    "collapsed": true
   },
   "outputs": [],
   "source": []
  }
 ],
 "metadata": {
  "kernelspec": {
   "display_name": "Python 2",
   "language": "python",
   "name": "python2"
  },
  "language_info": {
   "codemirror_mode": {
    "name": "ipython",
    "version": 2
   },
   "file_extension": ".py",
   "mimetype": "text/x-python",
   "name": "python",
   "nbconvert_exporter": "python",
   "pygments_lexer": "ipython2",
   "version": "2.7.11"
  }
 },
 "nbformat": 4,
 "nbformat_minor": 2
}
