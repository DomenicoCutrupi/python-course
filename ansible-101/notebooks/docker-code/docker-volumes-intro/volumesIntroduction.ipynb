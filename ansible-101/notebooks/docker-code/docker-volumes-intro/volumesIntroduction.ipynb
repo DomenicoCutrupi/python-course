{
 "cells": [
  {
   "cell_type": "markdown",
   "metadata": {},
   "source": [
    "# Gestione Volumi"
   ]
  },
  {
   "cell_type": "markdown",
   "metadata": {},
   "source": [
    "### Cambiamo la directory di esecuzione"
   ]
  },
  {
   "cell_type": "code",
   "execution_count": 1,
   "metadata": {},
   "outputs": [
    {
     "name": "stdout",
     "output_type": "stream",
     "text": [
      "/notebooks/docker-code/docker-volumes-intro\n"
     ]
    }
   ],
   "source": [
    "cd /notebooks/docker-code/docker-volumes-intro/"
   ]
  },
  {
   "cell_type": "markdown",
   "metadata": {},
   "source": [
    "### Contenuto della directory"
   ]
  },
  {
   "cell_type": "code",
   "execution_count": 2,
   "metadata": {},
   "outputs": [
    {
     "name": "stdout",
     "output_type": "stream",
     "text": [
      "Dockerfile  \u001b[0m\u001b[01;34mfeedback\u001b[0m/  package.json  \u001b[01;34mpages\u001b[0m/  \u001b[01;34mpublic\u001b[0m/  server.js  \u001b[01;34mtemp\u001b[0m/\r\n"
     ]
    }
   ],
   "source": [
    "ls "
   ]
  },
  {
   "cell_type": "code",
   "execution_count": 3,
   "metadata": {},
   "outputs": [
    {
     "name": "stdout",
     "output_type": "stream",
     "text": [
      "FROM node:14\r\n",
      "\r\n",
      "WORKDIR /app\r\n",
      "\r\n",
      "COPY package.json .\r\n",
      "\r\n",
      "RUN npm install\r\n",
      "\r\n",
      "COPY . .\r\n",
      "\r\n",
      "EXPOSE 80\r\n",
      "\r\n",
      "CMD [ \"node\", \"server.js\" ]"
     ]
    }
   ],
   "source": [
    "cat Dockerfile"
   ]
  },
  {
   "cell_type": "code",
   "execution_count": 4,
   "metadata": {},
   "outputs": [
    {
     "name": "stdout",
     "output_type": "stream",
     "text": [
      "const fs = require('fs').promises;\r\n",
      "const exists = require('fs').exists;\r\n",
      "const path = require('path');\r\n",
      "\r\n",
      "const express = require('express');\r\n",
      "const bodyParser = require('body-parser');\r\n",
      "\r\n",
      "const app = express();\r\n",
      "\r\n",
      "app.use(bodyParser.urlencoded({ extended: false }));\r\n",
      "\r\n",
      "app.use(express.static('public'));\r\n",
      "app.use('/feedback', express.static('feedback'));\r\n",
      "\r\n",
      "app.get('/', (req, res) => {\r\n",
      "  const filePath = path.join(__dirname, 'pages', 'feedback.html');\r\n",
      "  res.sendFile(filePath);\r\n",
      "});\r\n",
      "\r\n",
      "app.get('/exists', (req, res) => {\r\n",
      "  const filePath = path.join(__dirname, 'pages', 'exists.html');\r\n",
      "  res.sendFile(filePath);\r\n",
      "});\r\n",
      "\r\n",
      "app.post('/create', async (req, res) => {\r\n",
      "  const title = req.body.title;\r\n",
      "  const content = req.body.text;\r\n",
      "\r\n",
      "  const adjTitle = title.toLowerCase();\r\n",
      "\r\n",
      "  const tempFilePath = path.join(__dirname, 'temp', adjTitle + '.txt');\r\n",
      "  const finalFilePath = path.join(__dirname, 'feedback', adjTitle + '.txt');\r\n",
      "\r\n",
      "  await fs.writeFile(tempFilePath, content);\r\n",
      "  exists(finalFilePath, async (exists) => {\r\n",
      "    if (exists) {\r\n",
      "      res.redirect('/exists');\r\n",
      "    } else {\r\n",
      "      await fs.rename(tempFilePath, finalFilePath);\r\n",
      "      res.redirect('/');\r\n",
      "    }\r\n",
      "  });\r\n",
      "});\r\n",
      "\r\n",
      "app.listen(80);\r\n"
     ]
    }
   ],
   "source": [
    "cat server.js"
   ]
  },
  {
   "cell_type": "markdown",
   "metadata": {},
   "source": [
    "### Web App"
   ]
  },
  {
   "cell_type": "markdown",
   "metadata": {},
   "source": [
    "```\n",
    "app.get('/', (req, res) => {\n",
    "  const filePath = path.join(__dirname, 'pages', 'feedback.html');\n",
    "  res.sendFile(filePath);\n",
    "});\n",
    "```"
   ]
  },
  {
   "cell_type": "markdown",
   "metadata": {},
   "source": [
    "```\n",
    "app.use('/feedback', express.static('feedback'));\n",
    "```"
   ]
  },
  {
   "cell_type": "markdown",
   "metadata": {},
   "source": [
    "### Prima esecuzione"
   ]
  },
  {
   "cell_type": "code",
   "execution_count": 5,
   "metadata": {},
   "outputs": [
    {
     "name": "stdout",
     "output_type": "stream",
     "text": [
      "Sending build context to Docker daemon  13.82kB\n",
      "Step 1/7 : FROM node:14\n",
      "14: Pulling from library/node\n",
      "\n",
      "\u001b[1Bd7c41c74: Pulling fs layer \n",
      "\u001b[1Baeafeaa7: Pulling fs layer \n",
      "\u001b[1B01bd995c: Pulling fs layer \n",
      "\u001b[1B6e268b10: Pulling fs layer \n",
      "\u001b[1Bdf589451: Pulling fs layer \n",
      "\u001b[1Bee005dea: Pulling fs layer \n",
      "\u001b[1Bed3c3f27: Pulling fs layer \n",
      "\u001b[1Bc2f24a4d: Pulling fs layer \n",
      "\u001b[1BDigest: sha256:a158d3b9b4e3fa813fa6c8c590b8f0a860e015ad4e59bbce5744d2f6fd8461aa\u001b[K\u001b[6A\u001b[1K\u001b[K\u001b[9A\u001b[1K\u001b[K\u001b[6A\u001b[1K\u001b[K\u001b[9A\u001b[1K\u001b[K\u001b[6A\u001b[1K\u001b[K\u001b[5A\u001b[1K\u001b[K\u001b[6A\u001b[1K\u001b[K\u001b[4A\u001b[1K\u001b[K\u001b[6A\u001b[1K\u001b[K\u001b[9A\u001b[1K\u001b[K\u001b[5A\u001b[1K\u001b[K\u001b[9A\u001b[1K\u001b[K\u001b[5A\u001b[1K\u001b[K\u001b[5A\u001b[1K\u001b[K\u001b[2A\u001b[1K\u001b[K\u001b[9A\u001b[1K\u001b[K\u001b[5A\u001b[1K\u001b[K\u001b[3A\u001b[1K\u001b[K\u001b[9A\u001b[1K\u001b[K\u001b[5A\u001b[1K\u001b[K\u001b[5A\u001b[1K\u001b[K\u001b[9A\u001b[1K\u001b[K\u001b[5A\u001b[1K\u001b[K\u001b[9A\u001b[1K\u001b[K\u001b[5A\u001b[1K\u001b[K\u001b[9A\u001b[1K\u001b[K\u001b[5A\u001b[1K\u001b[K\u001b[5A\u001b[1K\u001b[K\u001b[9A\u001b[1K\u001b[K\u001b[9A\u001b[1K\u001b[K\u001b[9A\u001b[1K\u001b[K\u001b[9A\u001b[1K\u001b[K\u001b[9A\u001b[1K\u001b[K\u001b[9A\u001b[1K\u001b[K\u001b[9A\u001b[1K\u001b[K\u001b[9A\u001b[1K\u001b[K\u001b[9A\u001b[1K\u001b[K\u001b[9A\u001b[1K\u001b[K\u001b[9A\u001b[1K\u001b[K\u001b[8A\u001b[1K\u001b[K\u001b[8A\u001b[1K\u001b[K\u001b[8A\u001b[1K\u001b[K\u001b[8A\u001b[1K\u001b[K\u001b[8A\u001b[1K\u001b[K\u001b[7A\u001b[1K\u001b[K\u001b[7A\u001b[1K\u001b[K\u001b[7A\u001b[1K\u001b[K\u001b[7A\u001b[1K\u001b[K\u001b[6A\u001b[1K\u001b[K\u001b[6A\u001b[1K\u001b[K\u001b[6A\u001b[1K\u001b[K\u001b[6A\u001b[1K\u001b[K\u001b[6A\u001b[1K\u001b[K\u001b[6A\u001b[1K\u001b[K\u001b[6A\u001b[1K\u001b[K\u001b[6A\u001b[1K\u001b[K\u001b[6A\u001b[1K\u001b[K\u001b[6A\u001b[1K\u001b[K\u001b[6A\u001b[1K\u001b[K\u001b[6A\u001b[1K\u001b[K\u001b[6A\u001b[1K\u001b[K\u001b[6A\u001b[1K\u001b[K\u001b[6A\u001b[1K\u001b[K\u001b[6A\u001b[1K\u001b[K\u001b[6A\u001b[1K\u001b[K\u001b[6A\u001b[1K\u001b[K\u001b[6A\u001b[1K\u001b[K\u001b[6A\u001b[1K\u001b[K\u001b[6A\u001b[1K\u001b[K\u001b[5A\u001b[1K\u001b[K\u001b[5A\u001b[1K\u001b[K\u001b[5A\u001b[1K\u001b[K\u001b[5A\u001b[1K\u001b[K\u001b[5A\u001b[1K\u001b[K\u001b[5A\u001b[1K\u001b[K\u001b[5A\u001b[1K\u001b[K\u001b[5A\u001b[1K\u001b[K\u001b[5A\u001b[1K\u001b[K\u001b[5A\u001b[1K\u001b[K\u001b[5A\u001b[1K\u001b[K\u001b[5A\u001b[1K\u001b[K\u001b[5A\u001b[1K\u001b[K\u001b[5A\u001b[1K\u001b[K\u001b[5A\u001b[1K\u001b[K\u001b[5A\u001b[1K\u001b[K\u001b[5A\u001b[1K\u001b[K\u001b[5A\u001b[1K\u001b[K\u001b[5A\u001b[1K\u001b[K\u001b[5A\u001b[1K\u001b[K\u001b[5A\u001b[1K\u001b[K\u001b[5A\u001b[1K\u001b[K\u001b[5A\u001b[1K\u001b[K\u001b[5A\u001b[1K\u001b[K\u001b[5A\u001b[1K\u001b[K\u001b[5A\u001b[1K\u001b[K\u001b[5A\u001b[1K\u001b[K\u001b[5A\u001b[1K\u001b[K\u001b[5A\u001b[1K\u001b[K\u001b[5A\u001b[1K\u001b[K\u001b[5A\u001b[1K\u001b[K\u001b[5A\u001b[1K\u001b[K\u001b[5A\u001b[1K\u001b[K\u001b[5A\u001b[1K\u001b[K\u001b[5A\u001b[1K\u001b[K\u001b[5A\u001b[1K\u001b[K\u001b[5A\u001b[1K\u001b[K\u001b[5A\u001b[1K\u001b[K\u001b[5A\u001b[1K\u001b[K\u001b[5A\u001b[1K\u001b[K\u001b[5A\u001b[1K\u001b[K\u001b[5A\u001b[1K\u001b[K\u001b[5A\u001b[1K\u001b[K\u001b[5A\u001b[1K\u001b[K\u001b[5A\u001b[1K\u001b[K\u001b[5A\u001b[1K\u001b[K\u001b[5A\u001b[1K\u001b[K\u001b[5A\u001b[1K\u001b[K\u001b[5A\u001b[1K\u001b[K\u001b[5A\u001b[1K\u001b[K\u001b[5A\u001b[1K\u001b[K\u001b[5A\u001b[1K\u001b[K\u001b[5A\u001b[1K\u001b[K\u001b[5A\u001b[1K\u001b[K\u001b[5A\u001b[1K\u001b[K\u001b[5A\u001b[1K\u001b[K\u001b[5A\u001b[1K\u001b[K\u001b[5A\u001b[1K\u001b[K\u001b[5A\u001b[1K\u001b[K\u001b[5A\u001b[1K\u001b[K\u001b[4A\u001b[1K\u001b[K\u001b[3A\u001b[1K\u001b[K\u001b[3A\u001b[1K\u001b[K\u001b[3A\u001b[1K\u001b[K\u001b[3A\u001b[1K\u001b[K\u001b[3A\u001b[1K\u001b[K\u001b[3A\u001b[1K\u001b[K\u001b[3A\u001b[1K\u001b[K\u001b[3A\u001b[1K\u001b[K\u001b[3A\u001b[1K\u001b[K\u001b[3A\u001b[1K\u001b[K\u001b[3A\u001b[1K\u001b[K\u001b[3A\u001b[1K\u001b[K\u001b[3A\u001b[1K\u001b[K\u001b[3A\u001b[1K\u001b[K\u001b[3A\u001b[1K\u001b[K\u001b[3A\u001b[1K\u001b[K\u001b[2A\u001b[1K\u001b[K\u001b[2A\u001b[1K\u001b[K\u001b[2A\u001b[1K\u001b[K\u001b[1A\u001b[1K\u001b[K\n",
      "Status: Downloaded newer image for node:14\n",
      " ---> 1d12470fa662\n",
      "Step 2/7 : WORKDIR /app\n",
      " ---> Running in 25a71e054a68\n",
      "Removing intermediate container 25a71e054a68\n",
      " ---> 9a5a10b8cedf\n",
      "Step 3/7 : COPY package.json .\n",
      " ---> 4aae0fb51317\n",
      "Step 4/7 : RUN npm install\n",
      " ---> Running in 5c7db7dd32b2\n",
      "\u001b[91mnpm notice created a lockfile as package-lock.json. You should commit this file.\n",
      "\u001b[0m\u001b[91mnpm WARN data-volume-example@1.0.0 No description\n",
      "\u001b[0m\u001b[91mnpm WARN data-volume-example@1.0.0 No repository field.\n",
      "\u001b[0m\u001b[91m\n",
      "\u001b[0madded 60 packages from 42 contributors and audited 60 packages in 2.146s\n",
      "\n",
      "8 packages are looking for funding\n",
      "  run `npm fund` for details\n",
      "\n",
      "found 0 vulnerabilities\n",
      "\n",
      "Removing intermediate container 5c7db7dd32b2\n",
      " ---> f6e8fbc092e3\n",
      "Step 5/7 : COPY . .\n",
      " ---> 99920ade620e\n",
      "Step 6/7 : EXPOSE 80\n",
      " ---> Running in ca6066991de1\n",
      "Removing intermediate container ca6066991de1\n",
      " ---> d541dec60a41\n",
      "Step 7/7 : CMD [ \"node\", \"server.js\" ]\n",
      " ---> Running in a315aab67d49\n",
      "Removing intermediate container a315aab67d49\n",
      " ---> c14c5c36396d\n",
      "Successfully built c14c5c36396d\n",
      "Successfully tagged docker-volumes-0:latest\n"
     ]
    }
   ],
   "source": [
    "!docker build . -t docker-volumes-0"
   ]
  },
  {
   "cell_type": "markdown",
   "metadata": {},
   "source": [
    "### Come vedere l'immagine appena creata?"
   ]
  },
  {
   "cell_type": "code",
   "execution_count": 6,
   "metadata": {
    "code_folding": []
   },
   "outputs": [],
   "source": [
    "#Inserisci qui il comando desiderato"
   ]
  },
  {
   "cell_type": "code",
   "execution_count": 7,
   "metadata": {
    "code_folding": [
     0
    ],
    "scrolled": true
   },
   "outputs": [
    {
     "name": "stdout",
     "output_type": "stream",
     "text": [
      "REPOSITORY                 TAG                 IMAGE ID            CREATED              SIZE\r\n",
      "docker-volumes-0           latest              c14c5c36396d        5 seconds ago        916MB\r\n",
      "<none>                     <none>              92d76da46277        About a minute ago   261MB\r\n",
      "ansible-101_bastion        latest              365bea7882ac        About a minute ago   261MB\r\n",
      "ansible-101_web            latest              365bea7882ac        About a minute ago   261MB\r\n",
      "debian                     bullseye            7df9c1a77ca2        38 hours ago         124MB\r\n",
      "node                       14                  1d12470fa662        2 months ago         912MB\r\n",
      "ioggstream/python-course   latest              f2bdf3f866fd        5 years ago          1.65GB\r\n"
     ]
    }
   ],
   "source": [
    "#Mostra soluzione\n",
    "!docker image ls"
   ]
  },
  {
   "cell_type": "markdown",
   "metadata": {},
   "source": [
    "### Avviare il container"
   ]
  },
  {
   "cell_type": "code",
   "execution_count": 8,
   "metadata": {},
   "outputs": [
    {
     "name": "stdout",
     "output_type": "stream",
     "text": [
      "681a89a1ab3cf1093209b76a8e5f8438988a91ca4ca2f734e3d79bc0bb3a80f9\r\n"
     ]
    }
   ],
   "source": [
    "!docker run -d -p 8080:80 --name volumes-test-0 docker-volumes-0"
   ]
  },
  {
   "cell_type": "markdown",
   "metadata": {},
   "source": [
    "### Come verificare che il container sia in esecuzione?"
   ]
  },
  {
   "cell_type": "code",
   "execution_count": 9,
   "metadata": {},
   "outputs": [
    {
     "name": "stdout",
     "output_type": "stream",
     "text": [
      "CONTAINER ID        IMAGE                      COMMAND                  CREATED             STATUS              PORTS                    NAMES\r\n",
      "681a89a1ab3c        docker-volumes-0           \"docker-entrypoint.s…\"   43 seconds ago      Up 42 seconds       0.0.0.0:8080->80/tcp     volumes-test-0\r\n",
      "c8aa1cf60e9c        ansible-101_bastion        \"/usr/sbin/sshd -D -e\"   2 minutes ago       Up 2 minutes                                 ansible-101_bastion_1\r\n",
      "c87d2dcc853c        ansible-101_web            \"/usr/sbin/sshd -D -e\"   2 minutes ago       Up 2 minutes                                 ansible-101_web_2\r\n",
      "6ff45d1c03e5        92d76da46277               \"/usr/sbin/sshd -D -e\"   2 minutes ago       Up 2 minutes                                 ansible-101_web_1\r\n",
      "758b6da0bbf9        ioggstream/python-course   \"/bin/sh -c '/usr/lo…\"   3 minutes ago       Up 3 minutes        0.0.0.0:8888->8888/tcp   ansible-101_course_1\r\n"
     ]
    }
   ],
   "source": [
    "!docker ps"
   ]
  },
  {
   "cell_type": "markdown",
   "metadata": {},
   "source": [
    "### Prima interazione con il container"
   ]
  },
  {
   "cell_type": "code",
   "execution_count": 10,
   "metadata": {},
   "outputs": [],
   "source": [
    "#Aprire il browser e cercare il sito"
   ]
  },
  {
   "cell_type": "code",
   "execution_count": 11,
   "metadata": {},
   "outputs": [],
   "source": [
    "#Compilare il form"
   ]
  },
  {
   "cell_type": "code",
   "execution_count": 12,
   "metadata": {},
   "outputs": [],
   "source": [
    "#Verificare il feedback"
   ]
  },
  {
   "cell_type": "markdown",
   "metadata": {},
   "source": [
    "### Arrestare il container"
   ]
  },
  {
   "cell_type": "code",
   "execution_count": 14,
   "metadata": {},
   "outputs": [
    {
     "name": "stdout",
     "output_type": "stream",
     "text": [
      "681a89a1ab3c\r\n"
     ]
    }
   ],
   "source": [
    "#Recupera il ContainerID\n",
    "!docker stop 681a89a1ab3c"
   ]
  },
  {
   "cell_type": "markdown",
   "metadata": {},
   "source": [
    "### Dov'è finito il container?"
   ]
  },
  {
   "cell_type": "code",
   "execution_count": 15,
   "metadata": {},
   "outputs": [
    {
     "name": "stdout",
     "output_type": "stream",
     "text": [
      "CONTAINER ID        IMAGE                      COMMAND                  CREATED             STATUS              PORTS                    NAMES\r\n",
      "c8aa1cf60e9c        ansible-101_bastion        \"/usr/sbin/sshd -D -e\"   2 minutes ago       Up 2 minutes                                 ansible-101_bastion_1\r\n",
      "c87d2dcc853c        ansible-101_web            \"/usr/sbin/sshd -D -e\"   2 minutes ago       Up 2 minutes                                 ansible-101_web_2\r\n",
      "6ff45d1c03e5        92d76da46277               \"/usr/sbin/sshd -D -e\"   2 minutes ago       Up 2 minutes                                 ansible-101_web_1\r\n",
      "758b6da0bbf9        ioggstream/python-course   \"/bin/sh -c '/usr/lo…\"   3 minutes ago       Up 3 minutes        0.0.0.0:8888->8888/tcp   ansible-101_course_1\r\n"
     ]
    }
   ],
   "source": [
    "!docker ps"
   ]
  },
  {
   "cell_type": "code",
   "execution_count": 16,
   "metadata": {},
   "outputs": [
    {
     "name": "stdout",
     "output_type": "stream",
     "text": [
      "CONTAINER ID        IMAGE                      COMMAND                  CREATED              STATUS                       PORTS                    NAMES\r\n",
      "681a89a1ab3c        docker-volumes-0           \"docker-entrypoint.s…\"   About a minute ago   Exited (137) 3 seconds ago                            volumes-test-0\r\n",
      "c8aa1cf60e9c        ansible-101_bastion        \"/usr/sbin/sshd -D -e\"   2 minutes ago        Up 2 minutes                                          ansible-101_bastion_1\r\n",
      "c87d2dcc853c        ansible-101_web            \"/usr/sbin/sshd -D -e\"   2 minutes ago        Up 2 minutes                                          ansible-101_web_2\r\n",
      "6ff45d1c03e5        92d76da46277               \"/usr/sbin/sshd -D -e\"   2 minutes ago        Up 2 minutes                                          ansible-101_web_1\r\n",
      "758b6da0bbf9        ioggstream/python-course   \"/bin/sh -c '/usr/lo…\"   3 minutes ago        Up 3 minutes                 0.0.0.0:8888->8888/tcp   ansible-101_course_1\r\n"
     ]
    }
   ],
   "source": [
    "!docker ps -a"
   ]
  },
  {
   "cell_type": "markdown",
   "metadata": {},
   "source": [
    "### Riavviare il container"
   ]
  },
  {
   "cell_type": "code",
   "execution_count": 18,
   "metadata": {},
   "outputs": [
    {
     "name": "stdout",
     "output_type": "stream",
     "text": [
      "681a89a1ab3c\r\n"
     ]
    }
   ],
   "source": [
    "!docker start 681a89a1ab3c"
   ]
  },
  {
   "cell_type": "code",
   "execution_count": 19,
   "metadata": {},
   "outputs": [
    {
     "name": "stdout",
     "output_type": "stream",
     "text": [
      "CONTAINER ID        IMAGE                      COMMAND                  CREATED              STATUS              PORTS                    NAMES\r\n",
      "681a89a1ab3c        docker-volumes-0           \"docker-entrypoint.s…\"   About a minute ago   Up 2 seconds        0.0.0.0:8080->80/tcp     volumes-test-0\r\n",
      "c8aa1cf60e9c        ansible-101_bastion        \"/usr/sbin/sshd -D -e\"   3 minutes ago        Up 3 minutes                                 ansible-101_bastion_1\r\n",
      "c87d2dcc853c        ansible-101_web            \"/usr/sbin/sshd -D -e\"   3 minutes ago        Up 3 minutes                                 ansible-101_web_2\r\n",
      "6ff45d1c03e5        92d76da46277               \"/usr/sbin/sshd -D -e\"   3 minutes ago        Up 3 minutes                                 ansible-101_web_1\r\n",
      "758b6da0bbf9        ioggstream/python-course   \"/bin/sh -c '/usr/lo…\"   3 minutes ago        Up 3 minutes        0.0.0.0:8888->8888/tcp   ansible-101_course_1\r\n"
     ]
    }
   ],
   "source": [
    "!docker ps "
   ]
  },
  {
   "cell_type": "markdown",
   "metadata": {},
   "source": [
    "### Cercare il feedback lasciato precedentemente"
   ]
  },
  {
   "cell_type": "code",
   "execution_count": 20,
   "metadata": {},
   "outputs": [],
   "source": [
    "# Apri il browser e controllare lo stato del feedback caricato precedentemente"
   ]
  },
  {
   "cell_type": "code",
   "execution_count": null,
   "metadata": {},
   "outputs": [],
   "source": [
    "# Il feedback è presente"
   ]
  },
  {
   "cell_type": "markdown",
   "metadata": {},
   "source": [
    "### Rimozione container"
   ]
  },
  {
   "cell_type": "code",
   "execution_count": 22,
   "metadata": {},
   "outputs": [
    {
     "name": "stdout",
     "output_type": "stream",
     "text": [
      "681a89a1ab3c\r\n"
     ]
    }
   ],
   "source": [
    "# Arrestare il container\n",
    "!docker stop 681a89a1ab3c"
   ]
  },
  {
   "cell_type": "code",
   "execution_count": 23,
   "metadata": {},
   "outputs": [
    {
     "name": "stdout",
     "output_type": "stream",
     "text": [
      "681a89a1ab3c\r\n"
     ]
    }
   ],
   "source": [
    "# Rimuovere il container\n",
    "!docker rm 681a89a1ab3c"
   ]
  },
  {
   "cell_type": "code",
   "execution_count": 24,
   "metadata": {},
   "outputs": [
    {
     "name": "stdout",
     "output_type": "stream",
     "text": [
      "CONTAINER ID        IMAGE                      COMMAND                  CREATED             STATUS              PORTS                    NAMES\r\n",
      "c8aa1cf60e9c        ansible-101_bastion        \"/usr/sbin/sshd -D -e\"   4 minutes ago       Up 4 minutes                                 ansible-101_bastion_1\r\n",
      "c87d2dcc853c        ansible-101_web            \"/usr/sbin/sshd -D -e\"   4 minutes ago       Up 4 minutes                                 ansible-101_web_2\r\n",
      "6ff45d1c03e5        92d76da46277               \"/usr/sbin/sshd -D -e\"   4 minutes ago       Up 4 minutes                                 ansible-101_web_1\r\n",
      "758b6da0bbf9        ioggstream/python-course   \"/bin/sh -c '/usr/lo…\"   5 minutes ago       Up 5 minutes        0.0.0.0:8888->8888/tcp   ansible-101_course_1\r\n"
     ]
    }
   ],
   "source": [
    "# Controllare se è presente\n",
    "!docker ps -a"
   ]
  },
  {
   "cell_type": "code",
   "execution_count": 25,
   "metadata": {},
   "outputs": [
    {
     "name": "stdout",
     "output_type": "stream",
     "text": [
      "7921ffd052fa667af3016ddcea8bce0ed97328576729a67b3997fdbf4edc2dcc\r\n"
     ]
    }
   ],
   "source": [
    "# Creare un nuovo container\n",
    "!docker run -d -p 8080:80 --name volumes-test-0 docker-volumes-0"
   ]
  },
  {
   "cell_type": "code",
   "execution_count": 26,
   "metadata": {},
   "outputs": [],
   "source": [
    "# Aprire il browser e controllare la presenza del vecchio Feedback"
   ]
  },
  {
   "cell_type": "code",
   "execution_count": 27,
   "metadata": {},
   "outputs": [
    {
     "name": "stdout",
     "output_type": "stream",
     "text": [
      "CONTAINER ID        IMAGE                      COMMAND                  CREATED             STATUS              PORTS                    NAMES\r\n",
      "7921ffd052fa        docker-volumes-0           \"docker-entrypoint.s…\"   5 seconds ago       Up 3 seconds        0.0.0.0:8080->80/tcp     volumes-test-0\r\n",
      "c8aa1cf60e9c        ansible-101_bastion        \"/usr/sbin/sshd -D -e\"   4 minutes ago       Up 4 minutes                                 ansible-101_bastion_1\r\n",
      "c87d2dcc853c        ansible-101_web            \"/usr/sbin/sshd -D -e\"   4 minutes ago       Up 4 minutes                                 ansible-101_web_2\r\n",
      "6ff45d1c03e5        92d76da46277               \"/usr/sbin/sshd -D -e\"   4 minutes ago       Up 4 minutes                                 ansible-101_web_1\r\n",
      "758b6da0bbf9        ioggstream/python-course   \"/bin/sh -c '/usr/lo…\"   5 minutes ago       Up 5 minutes        0.0.0.0:8888->8888/tcp   ansible-101_course_1\r\n"
     ]
    }
   ],
   "source": [
    "# Perchè non è più presente?\n",
    "!docker ps"
   ]
  },
  {
   "cell_type": "code",
   "execution_count": 34,
   "metadata": {},
   "outputs": [
    {
     "name": "stdout",
     "output_type": "stream",
     "text": [
      "        \"Name\": \"/volumes-test-0\",\r\n",
      "            \"Image\": \"docker-volumes-0\",\r\n"
     ]
    }
   ],
   "source": [
    "!docker inspect 7921ffd052fa | grep volume"
   ]
  },
  {
   "cell_type": "code",
   "execution_count": 35,
   "metadata": {},
   "outputs": [
    {
     "name": "stdout",
     "output_type": "stream",
     "text": [
      "DRIVER              VOLUME NAME\r\n"
     ]
    }
   ],
   "source": [
    "!docker volume ls"
   ]
  },
  {
   "cell_type": "code",
   "execution_count": 36,
   "metadata": {},
   "outputs": [
    {
     "name": "stdout",
     "output_type": "stream",
     "text": [
      "7921ffd052fa\r\n"
     ]
    }
   ],
   "source": [
    "!docker stop 7921ffd052fa"
   ]
  },
  {
   "cell_type": "code",
   "execution_count": 37,
   "metadata": {},
   "outputs": [
    {
     "name": "stdout",
     "output_type": "stream",
     "text": [
      "7921ffd052fa\r\n"
     ]
    }
   ],
   "source": [
    "!docker rm 7921ffd052fa"
   ]
  },
  {
   "cell_type": "markdown",
   "metadata": {},
   "source": [
    "### Volumes Introduction"
   ]
  },
  {
   "cell_type": "code",
   "execution_count": 38,
   "metadata": {},
   "outputs": [
    {
     "name": "stdout",
     "output_type": "stream",
     "text": [
      "f0088d8dc37e4e3c17c74453ba0b697d639393d17105fd57d506b8b9e4197c23\r\n"
     ]
    }
   ],
   "source": [
    "!docker run -d -p 8080:80 --name volumes-test-0 --rm -v feedback:/app/feedback docker-volumes-0"
   ]
  },
  {
   "cell_type": "code",
   "execution_count": 39,
   "metadata": {},
   "outputs": [],
   "source": [
    "# Apri il browser ed inserisci un nuovo feedback"
   ]
  },
  {
   "cell_type": "code",
   "execution_count": 40,
   "metadata": {},
   "outputs": [],
   "source": [
    "# Perchè non funziona?"
   ]
  },
  {
   "cell_type": "markdown",
   "metadata": {},
   "source": [
    "### Debug"
   ]
  },
  {
   "cell_type": "code",
   "execution_count": 41,
   "metadata": {},
   "outputs": [
    {
     "name": "stdout",
     "output_type": "stream",
     "text": [
      "(node:1) UnhandledPromiseRejectionWarning: Error: EXDEV: cross-device link not permitted, rename '/app/temp/ciasc.txt' -> '/app/feedback/ciasc.txt'\r\n",
      "(Use `node --trace-warnings ...` to show where the warning was created)\r\n",
      "(node:1) UnhandledPromiseRejectionWarning: Unhandled promise rejection. This error originated either by throwing inside of an async function without a catch block, or by rejecting a promise which was not handled with .catch(). To terminate the node process on unhandled promise rejection, use the CLI flag `--unhandled-rejections=strict` (see https://nodejs.org/api/cli.html#cli_unhandled_rejections_mode). (rejection id: 1)\r\n",
      "(node:1) [DEP0018] DeprecationWarning: Unhandled promise rejections are deprecated. In the future, promise rejections that are not handled will terminate the Node.js process with a non-zero exit code.\r\n"
     ]
    }
   ],
   "source": [
    "!docker logs f0088d8dc37e"
   ]
  },
  {
   "cell_type": "markdown",
   "metadata": {},
   "source": [
    "### Continua nel prossimo laboratiorio ..."
   ]
  }
 ],
 "metadata": {
  "kernelspec": {
   "display_name": "Python 2",
   "language": "python",
   "name": "python2"
  },
  "language_info": {
   "codemirror_mode": {
    "name": "ipython",
    "version": 2
   },
   "file_extension": ".py",
   "mimetype": "text/x-python",
   "name": "python",
   "nbconvert_exporter": "python",
   "pygments_lexer": "ipython2",
   "version": "2.7.14"
  }
 },
 "nbformat": 4,
 "nbformat_minor": 2
}
