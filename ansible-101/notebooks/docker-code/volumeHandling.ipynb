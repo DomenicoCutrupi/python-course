{
 "cells": [
  {
   "cell_type": "markdown",
   "metadata": {},
   "source": [
    "# Gestione Volumi"
   ]
  },
  {
   "cell_type": "markdown",
   "metadata": {},
   "source": [
    "### Cambiamo la directory di esecuzione"
   ]
  },
  {
   "cell_type": "code",
   "execution_count": 1,
   "metadata": {},
   "outputs": [
    {
     "name": "stdout",
     "output_type": "stream",
     "text": [
      "/notebooks/docker-code/data-volumes-03-adj-node-code\n"
     ]
    }
   ],
   "source": [
    "cd /notebooks/docker-code/data-volumes-03-adj-node-code/"
   ]
  },
  {
   "cell_type": "markdown",
   "metadata": {},
   "source": [
    "### Contenuto della directory"
   ]
  },
  {
   "cell_type": "code",
   "execution_count": 5,
   "metadata": {},
   "outputs": [
    {
     "name": "stdout",
     "output_type": "stream",
     "text": [
      "Dockerfile  package.json  \u001b[0m\u001b[01;34mpages\u001b[0m/  \u001b[01;34mpublic\u001b[0m/  server.js\r\n"
     ]
    }
   ],
   "source": [
    "ls "
   ]
  },
  {
   "cell_type": "code",
   "execution_count": 6,
   "metadata": {},
   "outputs": [
    {
     "name": "stdout",
     "output_type": "stream",
     "text": [
      "FROM node:14\r\n",
      "\r\n",
      "WORKDIR /app\r\n",
      "\r\n",
      "COPY package.json .\r\n",
      "\r\n",
      "RUN npm install\r\n",
      "\r\n",
      "COPY . .\r\n",
      "\r\n",
      "EXPOSE 80\r\n",
      "\r\n",
      "VOLUME [ \"/app/feedback\" ]\r\n",
      "\r\n",
      "CMD [ \"node\", \"server.js\" ]"
     ]
    }
   ],
   "source": [
    "cat Dockerfile"
   ]
  },
  {
   "cell_type": "code",
   "execution_count": 7,
   "metadata": {},
   "outputs": [
    {
     "name": "stdout",
     "output_type": "stream",
     "text": [
      "const fs = require('fs').promises;\r\n",
      "const exists = require('fs').exists;\r\n",
      "const path = require('path');\r\n",
      "\r\n",
      "const express = require('express');\r\n",
      "const bodyParser = require('body-parser');\r\n",
      "\r\n",
      "const app = express();\r\n",
      "\r\n",
      "app.use(bodyParser.urlencoded({ extended: false }));\r\n",
      "\r\n",
      "app.use(express.static('public'));\r\n",
      "app.use('/feedback', express.static('feedback'));\r\n",
      "\r\n",
      "app.get('/', (req, res) => {\r\n",
      "  const filePath = path.join(__dirname, 'pages', 'feedback.html');\r\n",
      "  res.sendFile(filePath);\r\n",
      "});\r\n",
      "\r\n",
      "app.get('/exists', (req, res) => {\r\n",
      "  const filePath = path.join(__dirname, 'pages', 'exists.html');\r\n",
      "  res.sendFile(filePath);\r\n",
      "});\r\n",
      "\r\n",
      "app.post('/create', async (req, res) => {\r\n",
      "  const title = req.body.title;\r\n",
      "  const content = req.body.text;\r\n",
      "\r\n",
      "  const adjTitle = title.toLowerCase();\r\n",
      "\r\n",
      "  const tempFilePath = path.join(__dirname, 'temp', adjTitle + '.txt');\r\n",
      "  const finalFilePath = path.join(__dirname, 'feedback', adjTitle + '.txt');\r\n",
      "\r\n",
      "  await fs.writeFile(tempFilePath, content);\r\n",
      "  exists(finalFilePath, async (exists) => {\r\n",
      "    if (exists) {\r\n",
      "      res.redirect('/exists');\r\n",
      "    } else {\r\n",
      "      await fs.copyFile(tempFilePath, finalFilePath);\r\n",
      "      await fs.unlink(tempFilePath);\r\n",
      "      res.redirect('/');\r\n",
      "    }\r\n",
      "  });\r\n",
      "});\r\n",
      "\r\n",
      "app.listen(80);\r\n"
     ]
    }
   ],
   "source": [
    "cat server.js"
   ]
  },
  {
   "cell_type": "markdown",
   "metadata": {},
   "source": [
    "### Web App"
   ]
  },
  {
   "cell_type": "markdown",
   "metadata": {},
   "source": [
    "```\n",
    "app.get('/', (req, res) => {\n",
    "  const filePath = path.join(__dirname, 'pages', 'feedback.html');\n",
    "  res.sendFile(filePath);\n",
    "});\n",
    "```"
   ]
  },
  {
   "cell_type": "markdown",
   "metadata": {},
   "source": [
    "```\n",
    "app.use('/feedback', express.static('feedback'));\n",
    "```"
   ]
  },
  {
   "cell_type": "markdown",
   "metadata": {},
   "source": [
    "### Prima esecuzione"
   ]
  },
  {
   "cell_type": "code",
   "execution_count": 27,
   "metadata": {},
   "outputs": [
    {
     "name": "stdout",
     "output_type": "stream",
     "text": [
      "Sending build context to Docker daemon  10.75kB\n",
      "Step 1/7 : FROM node:14\n",
      " ---> 1d12470fa662\n",
      "Step 2/7 : WORKDIR /app\n",
      " ---> Using cache\n",
      " ---> d860c70698f4\n",
      "Step 3/7 : COPY package.json .\n",
      " ---> Using cache\n",
      " ---> 2293645f09b9\n",
      "Step 4/7 : RUN npm install\n",
      " ---> Using cache\n",
      " ---> 0cac9e728a86\n",
      "Step 5/7 : COPY . .\n",
      " ---> Using cache\n",
      " ---> ec8b1faea6df\n",
      "Step 6/7 : EXPOSE 80\n",
      " ---> Using cache\n",
      " ---> 2057a70ff8cd\n",
      "Step 7/7 : CMD [ \"node\", \"server.js\" ]\n",
      " ---> Using cache\n",
      " ---> 36c8c987b43f\n",
      "Successfully built 36c8c987b43f\n",
      "Successfully tagged docker-volumes-0:latest\n"
     ]
    }
   ],
   "source": [
    "!docker build . -t docker-volumes-0"
   ]
  },
  {
   "cell_type": "markdown",
   "metadata": {},
   "source": [
    "### Come vedere l'immagine appena creata?"
   ]
  },
  {
   "cell_type": "code",
   "execution_count": 10,
   "metadata": {
    "code_folding": []
   },
   "outputs": [],
   "source": [
    "#Inserisci qui il comando desiderato"
   ]
  },
  {
   "cell_type": "code",
   "execution_count": 12,
   "metadata": {
    "code_folding": [
     0
    ],
    "scrolled": true
   },
   "outputs": [
    {
     "name": "stdout",
     "output_type": "stream",
     "text": [
      "REPOSITORY                 TAG                 IMAGE ID            CREATED             SIZE\r\n",
      "docker-volumes-0           latest              e5d2e0d394a4        3 minutes ago       916MB\r\n",
      "ansible-101_bastion        latest              fe5757085ecb        14 minutes ago      261MB\r\n",
      "ansible-101_web            latest              3b0a938f3e4b        14 minutes ago      261MB\r\n",
      "debian                     bullseye            7df9c1a77ca2        33 hours ago        124MB\r\n",
      "node                       14                  1d12470fa662        2 months ago        912MB\r\n",
      "ioggstream/python-course   latest              f2bdf3f866fd        5 years ago         1.65GB\r\n"
     ]
    }
   ],
   "source": [
    "#Mostra soluzione\n",
    "!docker image ls"
   ]
  },
  {
   "cell_type": "markdown",
   "metadata": {},
   "source": [
    "### Avviare il container"
   ]
  },
  {
   "cell_type": "code",
   "execution_count": 20,
   "metadata": {},
   "outputs": [
    {
     "name": "stdout",
     "output_type": "stream",
     "text": [
      "e1d7e5795642f6df86662c4a06f03f101d49ff9693f83af731509b64f0336851\r\n"
     ]
    }
   ],
   "source": [
    "!docker run -d -p 8080:80 --name volumes-test-0 docker-volumes-0"
   ]
  },
  {
   "cell_type": "markdown",
   "metadata": {},
   "source": [
    "### Come verificare che il container sia in esecuzione?"
   ]
  },
  {
   "cell_type": "code",
   "execution_count": 15,
   "metadata": {},
   "outputs": [
    {
     "name": "stdout",
     "output_type": "stream",
     "text": [
      "CONTAINER ID        IMAGE                      COMMAND                  CREATED             STATUS              PORTS                          NAMES\r\n",
      "f582df6d4fae        docker-volumes-0           \"docker-entrypoint.s…\"   33 seconds ago      Up 32 seconds       80/tcp, 0.0.0.0:80->8080/tcp   volumes-test-0\r\n",
      "7fb992dca75d        ansible-101_bastion        \"/usr/sbin/sshd -D -e\"   19 minutes ago      Up 19 minutes                                      ansible-101_bastion_1\r\n",
      "5ab4442b79d7        ansible-101_web            \"/usr/sbin/sshd -D -e\"   19 minutes ago      Up 19 minutes                                      ansible-101_web_1\r\n",
      "40d2ea8f81f4        fe5757085ecb               \"/usr/sbin/sshd -D -e\"   19 minutes ago      Up 19 minutes                                      ansible-101_web_2\r\n",
      "4dbfea777d60        ioggstream/python-course   \"/bin/sh -c '/usr/lo…\"   20 minutes ago      Up 20 minutes       0.0.0.0:8888->8888/tcp         ansible-101_course_1\r\n"
     ]
    }
   ],
   "source": [
    "!docker ps"
   ]
  },
  {
   "cell_type": "markdown",
   "metadata": {},
   "source": [
    "### Prima interazione con il container"
   ]
  },
  {
   "cell_type": "code",
   "execution_count": null,
   "metadata": {},
   "outputs": [],
   "source": [
    "#Aprire il browser e cercare il sito"
   ]
  },
  {
   "cell_type": "code",
   "execution_count": null,
   "metadata": {},
   "outputs": [],
   "source": [
    "#Cosa non funziona? Perchè?"
   ]
  },
  {
   "cell_type": "markdown",
   "metadata": {},
   "source": [
    "### Modifica del Dockerfile\n",
    "#### [Edit Dockerfile](/tree/notebooks/docker-code/data-volumes-03-adj-node-code)"
   ]
  },
  {
   "cell_type": "code",
   "execution_count": 28,
   "metadata": {},
   "outputs": [
    {
     "name": "stdout",
     "output_type": "stream",
     "text": [
      "Sending build context to Docker daemon  10.75kB\n",
      "Step 1/7 : FROM node:14\n",
      " ---> 1d12470fa662\n",
      "Step 2/7 : WORKDIR /app\n",
      " ---> Using cache\n",
      " ---> d860c70698f4\n",
      "Step 3/7 : COPY package.json .\n",
      " ---> Using cache\n",
      " ---> 2293645f09b9\n",
      "Step 4/7 : RUN npm install\n",
      " ---> Using cache\n",
      " ---> 0cac9e728a86\n",
      "Step 5/7 : COPY . .\n",
      " ---> Using cache\n",
      " ---> ec8b1faea6df\n",
      "Step 6/7 : EXPOSE 80\n",
      " ---> Using cache\n",
      " ---> 2057a70ff8cd\n",
      "Step 7/7 : CMD [ \"node\", \"server.js\" ]\n",
      " ---> Using cache\n",
      " ---> 36c8c987b43f\n",
      "Successfully built 36c8c987b43f\n",
      "Successfully tagged docker-volumes-1:latest\n"
     ]
    }
   ],
   "source": [
    "#Rebuild applicazione\n",
    "!docker build . -t docker-volumes-1"
   ]
  },
  {
   "cell_type": "code",
   "execution_count": 30,
   "metadata": {},
   "outputs": [
    {
     "name": "stdout",
     "output_type": "stream",
     "text": [
      "REPOSITORY                 TAG                 IMAGE ID            CREATED              SIZE\r\n",
      "docker-volumes-0           latest              36c8c987b43f        About a minute ago   916MB\r\n",
      "docker-volumes-1           latest              36c8c987b43f        About a minute ago   916MB\r\n",
      "<none>                     <none>              e5d2e0d394a4        31 minutes ago       916MB\r\n",
      "ansible-101_bastion        latest              fe5757085ecb        41 minutes ago       261MB\r\n",
      "ansible-101_web            latest              3b0a938f3e4b        41 minutes ago       261MB\r\n",
      "debian                     bullseye            7df9c1a77ca2        34 hours ago         124MB\r\n",
      "node                       14                  1d12470fa662        2 months ago         912MB\r\n",
      "ioggstream/python-course   latest              f2bdf3f866fd        5 years ago          1.65GB\r\n"
     ]
    }
   ],
   "source": [
    "!docker image ls"
   ]
  },
  {
   "cell_type": "code",
   "execution_count": 31,
   "metadata": {},
   "outputs": [
    {
     "name": "stdout",
     "output_type": "stream",
     "text": [
      "docker: Error response from daemon: Conflict. The container name \"/volumes-test-0\" is already in use by container \"e1d7e5795642f6df86662c4a06f03f101d49ff9693f83af731509b64f0336851\". You have to remove (or rename) that container to be able to reuse that name.\r\n",
      "See 'docker run --help'.\r\n"
     ]
    }
   ],
   "source": [
    "!docker run -d -p 8080:80 --name volumes-test-0 docker-volumes-1"
   ]
  },
  {
   "cell_type": "markdown",
   "metadata": {},
   "source": [
    "#### Risolvi l'errore precedente\n",
    "Fai attenzione alla porta selezionata e al nome da usare.\n",
    "Usare sempre la stessa porta ma nome container diverso."
   ]
  },
  {
   "cell_type": "code",
   "execution_count": null,
   "metadata": {},
   "outputs": [],
   "source": []
  },
  {
   "cell_type": "code",
   "execution_count": null,
   "metadata": {},
   "outputs": [],
   "source": []
  },
  {
   "cell_type": "code",
   "execution_count": null,
   "metadata": {},
   "outputs": [],
   "source": []
  },
  {
   "cell_type": "code",
   "execution_count": 17,
   "metadata": {},
   "outputs": [
    {
     "name": "stdout",
     "output_type": "stream",
     "text": [
      "f582df6d4fae\r\n"
     ]
    }
   ],
   "source": [
    "!docker stop f582df6d4fae"
   ]
  },
  {
   "cell_type": "code",
   "execution_count": 19,
   "metadata": {},
   "outputs": [
    {
     "name": "stdout",
     "output_type": "stream",
     "text": [
      "Deleted Containers:\r\n",
      "f582df6d4fae49ead42cc3c1122f8f65c60938fa2a0ad9a28053393962b28b50\r\n",
      "\r\n",
      "Total reclaimed space: 0B\r\n"
     ]
    }
   ],
   "source": [
    "!docker container prune -f"
   ]
  },
  {
   "cell_type": "code",
   "execution_count": 45,
   "metadata": {},
   "outputs": [
    {
     "name": "stdout",
     "output_type": "stream",
     "text": [
      "ec13901b41f44783de48abcfd94435249d8237aed5556184841a135d48c0d0c8\r\n"
     ]
    }
   ],
   "source": [
    "!docker run -d -p 8080:80 --name volumes-test-1 docker-volumes-1"
   ]
  },
  {
   "cell_type": "code",
   "execution_count": 44,
   "metadata": {},
   "outputs": [
    {
     "name": "stdout",
     "output_type": "stream",
     "text": [
      "a5889b2ef035\r\n"
     ]
    }
   ],
   "source": [
    "!docker rm a5889b2ef035"
   ]
  },
  {
   "cell_type": "code",
   "execution_count": null,
   "metadata": {},
   "outputs": [],
   "source": []
  }
 ],
 "metadata": {
  "kernelspec": {
   "display_name": "Python 2",
   "language": "python",
   "name": "python2"
  },
  "language_info": {
   "codemirror_mode": {
    "name": "ipython",
    "version": 2
   },
   "file_extension": ".py",
   "mimetype": "text/x-python",
   "name": "python",
   "nbconvert_exporter": "python",
   "pygments_lexer": "ipython2",
   "version": "2.7.14"
  }
 },
 "nbformat": 4,
 "nbformat_minor": 2
}
