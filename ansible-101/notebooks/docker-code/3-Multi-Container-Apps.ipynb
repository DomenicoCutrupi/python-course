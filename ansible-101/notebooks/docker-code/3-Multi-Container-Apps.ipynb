{
 "cells": [
  {
   "cell_type": "markdown",
   "metadata": {},
   "source": [
    "# Docker Network"
   ]
  },
  {
   "cell_type": "markdown",
   "metadata": {},
   "source": [
    "## Avvio container adminer come console di gestione MySQL"
   ]
  },
  {
   "cell_type": "code",
   "execution_count": 33,
   "metadata": {},
   "outputs": [
    {
     "name": "stdout",
     "output_type": "stream",
     "text": [
      "d29180c8cf50795495f51b22e42472ef6a826bcb85d4620c1ff927de8a3adf2d\r\n"
     ]
    }
   ],
   "source": [
    "!docker run -d --rm --name mysql-adminer -p 8088:8080 adminer"
   ]
  },
  {
   "cell_type": "markdown",
   "metadata": {},
   "source": [
    "## Avvio MySQL"
   ]
  },
  {
   "cell_type": "code",
   "execution_count": 32,
   "metadata": {},
   "outputs": [
    {
     "name": "stdout",
     "output_type": "stream",
     "text": [
      "c0620736efa038284329a3e0713d9596c4ab08e0ee6b2249b2b9fc1624ad9519\r\n"
     ]
    }
   ],
   "source": [
    "!docker run --name mysql-test --rm -e MYSQL_ROOT_PASSWORD=pass -d  mysql"
   ]
  },
  {
   "cell_type": "code",
   "execution_count": null,
   "metadata": {},
   "outputs": [],
   "source": [
    "## Avvia la console adminer prova a loggare su MySQL\n",
    "## Noti qualcosa di strano?"
   ]
  },
  {
   "cell_type": "code",
   "execution_count": 20,
   "metadata": {},
   "outputs": [
    {
     "name": "stdout",
     "output_type": "stream",
     "text": [
      "CONTAINER ID        IMAGE                      COMMAND                  CREATED              STATUS              PORTS                                              NAMES\r\n",
      "2b4692346334        mysql                      \"docker-entrypoint.s…\"   About a minute ago   Up About a minute   0.0.0.0:3306->3306/tcp, 0.0.0.0:33060->33060/tcp   mysql-test\r\n",
      "1779b1034fbf        adminer                    \"entrypoint.sh php -…\"   4 minutes ago        Up 4 minutes        0.0.0.0:8088->8080/tcp                             mysql-adminer\r\n",
      "5bd0fc077fe5        ansible-101_bastion        \"/usr/sbin/sshd -D -e\"   2 hours ago          Up 2 hours                                                             ansible-101_bastion_1\r\n",
      "076e147c438b        ansible-101_web            \"/usr/sbin/sshd -D -e\"   2 hours ago          Up 2 hours                                                             ansible-101_web_1\r\n",
      "901e17f94212        f9ee3e6a1c77               \"/usr/sbin/sshd -D -e\"   2 hours ago          Up 2 hours                                                             ansible-101_web_2\r\n",
      "6e3f29c285b4        ioggstream/python-course   \"/bin/sh -c '/usr/lo…\"   2 hours ago          Up 2 hours          0.0.0.0:8888->8888/tcp                             ansible-101_course_1\r\n"
     ]
    }
   ],
   "source": [
    "!docker ps"
   ]
  },
  {
   "cell_type": "code",
   "execution_count": 21,
   "metadata": {},
   "outputs": [
    {
     "name": "stdout",
     "output_type": "stream",
     "text": [
      "2023-06-14 21:25:25+00:00 [Note] [Entrypoint]: Entrypoint script for MySQL Server 8.0.33-1.el8 started.\r\n",
      "2023-06-14 21:25:25+00:00 [Note] [Entrypoint]: Switching to dedicated user 'mysql'\r\n",
      "2023-06-14 21:25:25+00:00 [Note] [Entrypoint]: Entrypoint script for MySQL Server 8.0.33-1.el8 started.\r\n",
      "2023-06-14 21:25:26+00:00 [Note] [Entrypoint]: Initializing database files\r\n",
      "2023-06-14T21:25:26.038782Z 0 [Warning] [MY-011068] [Server] The syntax '--skip-host-cache' is deprecated and will be removed in a future release. Please use SET GLOBAL host_cache_size=0 instead.\r\n",
      "2023-06-14T21:25:26.038910Z 0 [System] [MY-013169] [Server] /usr/sbin/mysqld (mysqld 8.0.33) initializing of server in progress as process 78\r\n",
      "2023-06-14T21:25:26.051870Z 1 [System] [MY-013576] [InnoDB] InnoDB initialization has started.\r\n",
      "2023-06-14T21:25:26.731237Z 1 [System] [MY-013577] [InnoDB] InnoDB initialization has ended.\r\n",
      "2023-06-14T21:25:28.812935Z 6 [Warning] [MY-010453] [Server] root@localhost is created with an empty password ! Please consider switching off the --initialize-insecure option.\r\n",
      "2023-06-14 21:25:33+00:00 [Note] [Entrypoint]: Database files initialized\r\n",
      "2023-06-14 21:25:33+00:00 [Note] [Entrypoint]: Starting temporary server\r\n",
      "2023-06-14T21:25:34.173068Z 0 [Warning] [MY-011068] [Server] The syntax '--skip-host-cache' is deprecated and will be removed in a future release. Please use SET GLOBAL host_cache_size=0 instead.\r\n",
      "2023-06-14T21:25:34.175195Z 0 [System] [MY-010116] [Server] /usr/sbin/mysqld (mysqld 8.0.33) starting as process 120\r\n",
      "2023-06-14T21:25:34.205317Z 1 [System] [MY-013576] [InnoDB] InnoDB initialization has started.\r\n",
      "2023-06-14T21:25:34.442795Z 1 [System] [MY-013577] [InnoDB] InnoDB initialization has ended.\r\n",
      "2023-06-14T21:25:34.808850Z 0 [Warning] [MY-010068] [Server] CA certificate ca.pem is self signed.\r\n",
      "2023-06-14T21:25:34.808902Z 0 [System] [MY-013602] [Server] Channel mysql_main configured to support TLS. Encrypted connections are now supported for this channel.\r\n",
      "2023-06-14T21:25:34.812412Z 0 [Warning] [MY-011810] [Server] Insecure configuration for --pid-file: Location '/var/run/mysqld' in the path is accessible to all OS users. Consider choosing a different directory.\r\n",
      "2023-06-14T21:25:34.836099Z 0 [System] [MY-011323] [Server] X Plugin ready for connections. Socket: /var/run/mysqld/mysqlx.sock\r\n",
      "2023-06-14T21:25:34.836116Z 0 [System] [MY-010931] [Server] /usr/sbin/mysqld: ready for connections. Version: '8.0.33'  socket: '/var/run/mysqld/mysqld.sock'  port: 0  MySQL Community Server - GPL.\r\n",
      "2023-06-14 21:25:34+00:00 [Note] [Entrypoint]: Temporary server started.\r\n",
      "'/var/lib/mysql/mysql.sock' -> '/var/run/mysqld/mysqld.sock'\r\n",
      "Warning: Unable to load '/usr/share/zoneinfo/iso3166.tab' as time zone. Skipping it.\r\n",
      "Warning: Unable to load '/usr/share/zoneinfo/leap-seconds.list' as time zone. Skipping it.\r\n",
      "Warning: Unable to load '/usr/share/zoneinfo/leapseconds' as time zone. Skipping it.\r\n",
      "Warning: Unable to load '/usr/share/zoneinfo/tzdata.zi' as time zone. Skipping it.\r\n",
      "Warning: Unable to load '/usr/share/zoneinfo/zone.tab' as time zone. Skipping it.\r\n",
      "Warning: Unable to load '/usr/share/zoneinfo/zone1970.tab' as time zone. Skipping it.\r\n",
      "\r\n",
      "2023-06-14 21:25:38+00:00 [Note] [Entrypoint]: Stopping temporary server\r\n",
      "2023-06-14T21:25:38.046449Z 10 [System] [MY-013172] [Server] Received SHUTDOWN from user root. Shutting down mysqld (Version: 8.0.33).\r\n",
      "2023-06-14T21:25:39.755768Z 0 [System] [MY-010910] [Server] /usr/sbin/mysqld: Shutdown complete (mysqld 8.0.33)  MySQL Community Server - GPL.\r\n",
      "2023-06-14 21:25:40+00:00 [Note] [Entrypoint]: Temporary server stopped\r\n",
      "\r\n",
      "2023-06-14 21:25:40+00:00 [Note] [Entrypoint]: MySQL init process done. Ready for start up.\r\n",
      "\r\n",
      "2023-06-14T21:25:40.384964Z 0 [Warning] [MY-011068] [Server] The syntax '--skip-host-cache' is deprecated and will be removed in a future release. Please use SET GLOBAL host_cache_size=0 instead.\r\n",
      "2023-06-14T21:25:40.387698Z 0 [System] [MY-010116] [Server] /usr/sbin/mysqld (mysqld 8.0.33) starting as process 1\r\n",
      "2023-06-14T21:25:40.399955Z 1 [System] [MY-013576] [InnoDB] InnoDB initialization has started.\r\n",
      "2023-06-14T21:25:40.624235Z 1 [System] [MY-013577] [InnoDB] InnoDB initialization has ended.\r\n",
      "2023-06-14T21:25:40.937111Z 0 [Warning] [MY-010068] [Server] CA certificate ca.pem is self signed.\r\n",
      "2023-06-14T21:25:40.937159Z 0 [System] [MY-013602] [Server] Channel mysql_main configured to support TLS. Encrypted connections are now supported for this channel.\r\n",
      "2023-06-14T21:25:40.941232Z 0 [Warning] [MY-011810] [Server] Insecure configuration for --pid-file: Location '/var/run/mysqld' in the path is accessible to all OS users. Consider choosing a different directory.\r\n",
      "2023-06-14T21:25:40.974522Z 0 [System] [MY-011323] [Server] X Plugin ready for connections. Bind-address: '::' port: 33060, socket: /var/run/mysqld/mysqlx.sock\r\n",
      "2023-06-14T21:25:40.974571Z 0 [System] [MY-010931] [Server] /usr/sbin/mysqld: ready for connections. Version: '8.0.33'  socket: '/var/run/mysqld/mysqld.sock'  port: 3306  MySQL Community Server - GPL.\r\n"
     ]
    }
   ],
   "source": [
    "!docker logs 2b4692346334"
   ]
  },
  {
   "cell_type": "code",
   "execution_count": 22,
   "metadata": {},
   "outputs": [
    {
     "name": "stdout",
     "output_type": "stream",
     "text": [
      "[Wed Jun 14 21:22:53 2023] PHP 7.4.33 Development Server (http://[::]:8080) started\r\n",
      "[Wed Jun 14 21:23:00 2023] [::ffff:79.32.109.48]:57384 Accepted\r\n",
      "[Wed Jun 14 21:23:00 2023] [::ffff:79.32.109.48]:57384 [200]: GET /\r\n",
      "[Wed Jun 14 21:23:00 2023] [::ffff:79.32.109.48]:57384 Closing\r\n",
      "[Wed Jun 14 21:23:13 2023] [::ffff:79.32.109.48]:57385 Accepted\r\n",
      "[Wed Jun 14 21:23:13 2023] [::ffff:79.32.109.48]:57385 [302]: POST /\r\n",
      "[Wed Jun 14 21:23:13 2023] [::ffff:79.32.109.48]:57385 Closing\r\n",
      "[Wed Jun 14 21:23:13 2023] [::ffff:79.32.109.48]:57386 Accepted\r\n",
      "[Wed Jun 14 21:23:13 2023] [::ffff:79.32.109.48]:57386 [403]: GET /?server=mysql-test&username=root\r\n",
      "[Wed Jun 14 21:23:13 2023] [::ffff:79.32.109.48]:57386 Closing\r\n",
      "[Wed Jun 14 21:25:37 2023] [::ffff:79.32.109.48]:57393 Accepted\r\n",
      "[Wed Jun 14 21:25:37 2023] [::ffff:79.32.109.48]:57393 [200]: GET /\r\n",
      "[Wed Jun 14 21:25:37 2023] [::ffff:79.32.109.48]:57393 Closing\r\n",
      "[Wed Jun 14 21:25:52 2023] [::ffff:79.32.109.48]:57394 Accepted\r\n",
      "[Wed Jun 14 21:25:52 2023] [::ffff:79.32.109.48]:57394 [302]: POST /\r\n",
      "[Wed Jun 14 21:25:52 2023] [::ffff:79.32.109.48]:57394 Closing\r\n",
      "[Wed Jun 14 21:25:52 2023] [::ffff:79.32.109.48]:57395 Accepted\r\n",
      "[Wed Jun 14 21:26:52 2023] [::ffff:79.32.109.48]:57395 [403]: GET /?server=165.232.115.42&username=root\r\n",
      "[Wed Jun 14 21:26:52 2023] [::ffff:79.32.109.48]:57395 Closing\r\n",
      "[Wed Jun 14 21:26:52 2023] [::ffff:79.32.109.48]:57396 Accepted\r\n",
      "[Wed Jun 14 21:26:52 2023] [::ffff:79.32.109.48]:57396 [302]: POST /\r\n",
      "[Wed Jun 14 21:26:52 2023] [::ffff:79.32.109.48]:57396 Closing\r\n",
      "[Wed Jun 14 21:26:52 2023] [::ffff:79.32.109.48]:57407 Accepted\r\n",
      "[Wed Jun 14 21:27:52 2023] [::ffff:79.32.109.48]:57407 [403]: GET /?server=165.232.115.42&username=root\r\n",
      "[Wed Jun 14 21:27:52 2023] [::ffff:79.32.109.48]:57407 Closing\r\n",
      "[Wed Jun 14 21:28:09 2023] [::ffff:79.32.109.48]:57414 Accepted\r\n",
      "[Wed Jun 14 21:28:09 2023] [::ffff:79.32.109.48]:57414 [302]: POST /?server=165.232.115.42&username=root\r\n",
      "[Wed Jun 14 21:28:09 2023] [::ffff:79.32.109.48]:57414 Closing\r\n",
      "[Wed Jun 14 21:28:09 2023] [::ffff:79.32.109.48]:57415 Accepted\r\n",
      "[Wed Jun 14 21:29:09 2023] [::ffff:79.32.109.48]:57415 [403]: GET /?server=165.232.115.42%3A3306&username=root\r\n",
      "[Wed Jun 14 21:29:09 2023] [::ffff:79.32.109.48]:57415 Closing\r\n",
      "[Wed Jun 14 21:29:09 2023] [::ffff:79.32.109.48]:57416 Accepted\r\n",
      "[Wed Jun 14 21:29:09 2023] [::ffff:79.32.109.48]:57417 Accepted\r\n",
      "[Wed Jun 14 21:29:09 2023] [::ffff:79.32.109.48]:57416 [302]: POST /?server=165.232.115.42&username=root\r\n",
      "[Wed Jun 14 21:29:09 2023] [::ffff:79.32.109.48]:57416 Closing\r\n",
      "[Wed Jun 14 21:29:09 2023] [::ffff:79.32.109.48]:57418 Accepted\r\n",
      "[Wed Jun 14 21:29:09 2023] [::ffff:79.32.109.48]:57417 [302]: POST /?server=165.232.115.42&username=root\r\n",
      "[Wed Jun 14 21:29:09 2023] [::ffff:79.32.109.48]:57417 Closing\r\n",
      "[Wed Jun 14 21:29:09 2023] [::ffff:79.32.109.48]:57420 Accepted\r\n",
      "[Wed Jun 14 21:29:09 2023] [::ffff:79.32.109.48]:57418 [302]: POST /?server=165.232.115.42&username=root\r\n",
      "[Wed Jun 14 21:29:09 2023] [::ffff:79.32.109.48]:57418 Closing\r\n",
      "[Wed Jun 14 21:29:09 2023] [::ffff:79.32.109.48]:57422 Accepted\r\n",
      "[Wed Jun 14 21:29:09 2023] [::ffff:79.32.109.48]:57420 [200]: GET /\r\n",
      "[Wed Jun 14 21:29:09 2023] [::ffff:79.32.109.48]:57420 Closing\r\n",
      "[Wed Jun 14 21:29:09 2023] [::ffff:79.32.109.48]:57422 [200]: GET /\r\n",
      "[Wed Jun 14 21:29:09 2023] [::ffff:79.32.109.48]:57422 Closing\r\n"
     ]
    }
   ],
   "source": [
    "!docker logs 1779b1034fbf"
   ]
  },
  {
   "cell_type": "markdown",
   "metadata": {},
   "source": [
    "## Creazione nuova docker networl"
   ]
  },
  {
   "cell_type": "code",
   "execution_count": 23,
   "metadata": {},
   "outputs": [
    {
     "name": "stdout",
     "output_type": "stream",
     "text": [
      "Error response from daemon: network with name test-network already exists\r\n"
     ]
    }
   ],
   "source": [
    "!docker network create test-network"
   ]
  },
  {
   "cell_type": "code",
   "execution_count": 24,
   "metadata": {},
   "outputs": [
    {
     "name": "stdout",
     "output_type": "stream",
     "text": [
      "NETWORK ID          NAME                DRIVER              SCOPE\r\n",
      "3c0ae89c7933        bridge              bridge              local\r\n",
      "dc71e1c818a7        host                host                local\r\n",
      "9ceaae7e2b75        mysql               bridge              local\r\n",
      "0c329e975284        none                null                local\r\n",
      "094f13bd7d59        some-network        bridge              local\r\n",
      "42f42d60b9aa        test-network        bridge              local\r\n",
      "693ebc108bf3        wordpress1          bridge              local\r\n"
     ]
    }
   ],
   "source": [
    "!docker network ls"
   ]
  },
  {
   "cell_type": "markdown",
   "metadata": {},
   "source": [
    "## Avvio container con immagine adminer"
   ]
  },
  {
   "cell_type": "code",
   "execution_count": 26,
   "metadata": {},
   "outputs": [
    {
     "name": "stdout",
     "output_type": "stream",
     "text": [
      "5923a7b285185635b58d2e50ebc69357ee2a644331ad6852ddfa6676c933e746\r\n"
     ]
    }
   ],
   "source": [
    "!docker run -d --rm --name mysql-adminer-net -p 8089:8080 --network test-network adminer"
   ]
  },
  {
   "cell_type": "markdown",
   "metadata": {},
   "source": [
    "## Avvio container con immagine MySql"
   ]
  },
  {
   "cell_type": "code",
   "execution_count": 27,
   "metadata": {},
   "outputs": [
    {
     "name": "stdout",
     "output_type": "stream",
     "text": [
      "07e782b1471555524b970be585f12cfe6d2ca2117eef3338ac0528869085764c\r\n"
     ]
    }
   ],
   "source": [
    "!docker run --name mysql-test-net --rm -e MYSQL_ROOT_PASSWORD=pass -d --network test-network mysql"
   ]
  },
  {
   "cell_type": "code",
   "execution_count": 9,
   "metadata": {},
   "outputs": [],
   "source": [
    "## Accedi tramite web alla console adminer. Cosa inserisci nel campo server?\n",
    "## Come ti dai questa risposta?"
   ]
  },
  {
   "cell_type": "markdown",
   "metadata": {},
   "source": [
    "# Docker-Compose"
   ]
  },
  {
   "cell_type": "code",
   "execution_count": 34,
   "metadata": {},
   "outputs": [
    {
     "name": "stdout",
     "output_type": "stream",
     "text": [
      "/notebooks/docker-code/test\n"
     ]
    }
   ],
   "source": [
    "cd /notebooks/docker-code/test/"
   ]
  },
  {
   "cell_type": "code",
   "execution_count": 40,
   "metadata": {},
   "outputs": [
    {
     "data": {
      "text/plain": [
       "u'/notebooks/docker-code/test'"
      ]
     },
     "execution_count": 40,
     "metadata": {},
     "output_type": "execute_result"
    }
   ],
   "source": [
    "pwd"
   ]
  },
  {
   "cell_type": "code",
   "execution_count": 39,
   "metadata": {},
   "outputs": [
    {
     "name": "stderr",
     "output_type": "stream",
     "text": [
      "bash: line 1: docker-compose: command not found\n"
     ]
    }
   ],
   "source": [
    "%%bash\n",
    "docker-compose up -d"
   ]
  },
  {
   "cell_type": "code",
   "execution_count": null,
   "metadata": {},
   "outputs": [],
   "source": []
  }
 ],
 "metadata": {
  "kernelspec": {
   "display_name": "Python 2",
   "language": "python",
   "name": "python2"
  },
  "language_info": {
   "codemirror_mode": {
    "name": "ipython",
    "version": 2
   },
   "file_extension": ".py",
   "mimetype": "text/x-python",
   "name": "python",
   "nbconvert_exporter": "python",
   "pygments_lexer": "ipython2",
   "version": "2.7.14"
  }
 },
 "nbformat": 4,
 "nbformat_minor": 2
}
