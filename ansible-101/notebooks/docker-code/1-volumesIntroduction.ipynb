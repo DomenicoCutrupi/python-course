{
 "cells": [
  {
   "cell_type": "markdown",
   "metadata": {},
   "source": [
    "# Gestione Volumi"
   ]
  },
  {
   "cell_type": "markdown",
   "metadata": {},
   "source": [
    "### Cambiamo la directory di esecuzione"
   ]
  },
  {
   "cell_type": "code",
   "execution_count": 1,
   "metadata": {},
   "outputs": [
    {
     "name": "stdout",
     "output_type": "stream",
     "text": [
      "/notebooks/docker-code/data-volumes-03-adj-node-code\n"
     ]
    }
   ],
   "source": [
    "cd /notebooks/docker-code/data-volumes-03-adj-node-code/"
   ]
  },
  {
   "cell_type": "markdown",
   "metadata": {},
   "source": [
    "### Contenuto della directory"
   ]
  },
  {
   "cell_type": "code",
   "execution_count": 2,
   "metadata": {},
   "outputs": [
    {
     "name": "stdout",
     "output_type": "stream",
     "text": [
      "Dockerfile  \u001b[0m\u001b[01;34mfeedback\u001b[0m/  package.json  \u001b[01;34mpages\u001b[0m/  \u001b[01;34mpublic\u001b[0m/  server.js  \u001b[01;34mtemp\u001b[0m/\r\n"
     ]
    }
   ],
   "source": [
    "ls "
   ]
  },
  {
   "cell_type": "code",
   "execution_count": 3,
   "metadata": {},
   "outputs": [
    {
     "name": "stdout",
     "output_type": "stream",
     "text": [
      "FROM node:14\r\n",
      "\r\n",
      "WORKDIR /app\r\n",
      "\r\n",
      "COPY package.json .\r\n",
      "\r\n",
      "RUN npm install\r\n",
      "\r\n",
      "COPY . .\r\n",
      "\r\n",
      "EXPOSE 80\r\n",
      "\r\n",
      "CMD [ \"node\", \"server.js\" ]"
     ]
    }
   ],
   "source": [
    "cat Dockerfile"
   ]
  },
  {
   "cell_type": "code",
   "execution_count": 4,
   "metadata": {},
   "outputs": [
    {
     "name": "stdout",
     "output_type": "stream",
     "text": [
      "const fs = require('fs').promises;\r\n",
      "const exists = require('fs').exists;\r\n",
      "const path = require('path');\r\n",
      "\r\n",
      "const express = require('express');\r\n",
      "const bodyParser = require('body-parser');\r\n",
      "\r\n",
      "const app = express();\r\n",
      "\r\n",
      "app.use(bodyParser.urlencoded({ extended: false }));\r\n",
      "\r\n",
      "app.use(express.static('public'));\r\n",
      "app.use('/feedback', express.static('feedback'));\r\n",
      "\r\n",
      "app.get('/', (req, res) => {\r\n",
      "  const filePath = path.join(__dirname, 'pages', 'feedback.html');\r\n",
      "  res.sendFile(filePath);\r\n",
      "});\r\n",
      "\r\n",
      "app.get('/exists', (req, res) => {\r\n",
      "  const filePath = path.join(__dirname, 'pages', 'exists.html');\r\n",
      "  res.sendFile(filePath);\r\n",
      "});\r\n",
      "\r\n",
      "app.post('/create', async (req, res) => {\r\n",
      "  const title = req.body.title;\r\n",
      "  const content = req.body.text;\r\n",
      "\r\n",
      "  const adjTitle = title.toLowerCase();\r\n",
      "\r\n",
      "  const tempFilePath = path.join(__dirname, 'temp', adjTitle + '.txt');\r\n",
      "  const finalFilePath = path.join(__dirname, 'feedback', adjTitle + '.txt');\r\n",
      "\r\n",
      "  await fs.writeFile(tempFilePath, content);\r\n",
      "  exists(finalFilePath, async (exists) => {\r\n",
      "    if (exists) {\r\n",
      "      res.redirect('/exists');\r\n",
      "    } else {\r\n",
      "      await fs.rename(tempFilePath, finalFilePath);\r\n",
      "      res.redirect('/');\r\n",
      "    }\r\n",
      "  });\r\n",
      "});\r\n",
      "\r\n",
      "app.listen(80);\r\n"
     ]
    }
   ],
   "source": [
    "cat server.js"
   ]
  },
  {
   "cell_type": "markdown",
   "metadata": {},
   "source": [
    "### Web App"
   ]
  },
  {
   "cell_type": "markdown",
   "metadata": {},
   "source": [
    "```\n",
    "app.get('/', (req, res) => {\n",
    "  const filePath = path.join(__dirname, 'pages', 'feedback.html');\n",
    "  res.sendFile(filePath);\n",
    "});\n",
    "```"
   ]
  },
  {
   "cell_type": "markdown",
   "metadata": {},
   "source": [
    "```\n",
    "app.use('/feedback', express.static('feedback'));\n",
    "```"
   ]
  },
  {
   "cell_type": "markdown",
   "metadata": {},
   "source": [
    "### Prima esecuzione"
   ]
  },
  {
   "cell_type": "code",
   "execution_count": 5,
   "metadata": {},
   "outputs": [
    {
     "name": "stdout",
     "output_type": "stream",
     "text": [
      "Sending build context to Docker daemon  13.82kB\n",
      "Step 1/7 : FROM node:14\n",
      "14: Pulling from library/node\n",
      "\n",
      "\u001b[1Bd7c41c74: Pulling fs layer \n",
      "\u001b[1Baeafeaa7: Pulling fs layer \n",
      "\u001b[1B01bd995c: Pulling fs layer \n",
      "\u001b[1B6e268b10: Pulling fs layer \n",
      "\u001b[1Bdf589451: Pulling fs layer \n",
      "\u001b[1Bee005dea: Pulling fs layer \n",
      "\u001b[1Bed3c3f27: Pulling fs layer \n",
      "\u001b[1Bc2f24a4d: Pulling fs layer \n",
      "\u001b[1BDigest: sha256:a158d3b9b4e3fa813fa6c8c590b8f0a860e015ad4e59bbce5744d2f6fd8461aa\u001b[K\u001b[9A\u001b[1K\u001b[K\u001b[5A\u001b[1K\u001b[K\u001b[6A\u001b[1K\u001b[K\u001b[5A\u001b[1K\u001b[K\u001b[6A\u001b[1K\u001b[K\u001b[5A\u001b[1K\u001b[K\u001b[4A\u001b[1K\u001b[K\u001b[5A\u001b[1K\u001b[K\u001b[9A\u001b[1K\u001b[K\u001b[5A\u001b[1K\u001b[K\u001b[9A\u001b[1K\u001b[K\u001b[5A\u001b[1K\u001b[K\u001b[9A\u001b[1K\u001b[K\u001b[5A\u001b[1K\u001b[K\u001b[3A\u001b[1K\u001b[K\u001b[5A\u001b[1K\u001b[K\u001b[2A\u001b[1K\u001b[K\u001b[3A\u001b[1K\u001b[K\u001b[5A\u001b[1K\u001b[K\u001b[5A\u001b[1K\u001b[K\u001b[9A\u001b[1K\u001b[K\u001b[9A\u001b[1K\u001b[K\u001b[5A\u001b[1K\u001b[K\u001b[9A\u001b[1K\u001b[K\u001b[5A\u001b[1K\u001b[K\u001b[5A\u001b[1K\u001b[K\u001b[9A\u001b[1K\u001b[K\u001b[5A\u001b[1K\u001b[K\u001b[5A\u001b[1K\u001b[K\u001b[9A\u001b[1K\u001b[K\u001b[9A\u001b[1K\u001b[K\u001b[9A\u001b[1K\u001b[K\u001b[9A\u001b[1K\u001b[K\u001b[9A\u001b[1K\u001b[K\u001b[9A\u001b[1K\u001b[K\u001b[9A\u001b[1K\u001b[K\u001b[9A\u001b[1K\u001b[K\u001b[9A\u001b[1K\u001b[K\u001b[9A\u001b[1K\u001b[K\u001b[9A\u001b[1K\u001b[K\u001b[9A\u001b[1K\u001b[K\u001b[8A\u001b[1K\u001b[K\u001b[8A\u001b[1K\u001b[K\u001b[8A\u001b[1K\u001b[K\u001b[8A\u001b[1K\u001b[K\u001b[8A\u001b[1K\u001b[K\u001b[8A\u001b[1K\u001b[K\u001b[7A\u001b[1K\u001b[K\u001b[7A\u001b[1K\u001b[K\u001b[7A\u001b[1K\u001b[K\u001b[7A\u001b[1K\u001b[K\u001b[6A\u001b[1K\u001b[K\u001b[6A\u001b[1K\u001b[K\u001b[6A\u001b[1K\u001b[K\u001b[6A\u001b[1K\u001b[K\u001b[6A\u001b[1K\u001b[K\u001b[6A\u001b[1K\u001b[K\u001b[6A\u001b[1K\u001b[K\u001b[6A\u001b[1K\u001b[K\u001b[6A\u001b[1K\u001b[K\u001b[6A\u001b[1K\u001b[K\u001b[6A\u001b[1K\u001b[K\u001b[6A\u001b[1K\u001b[K\u001b[6A\u001b[1K\u001b[K\u001b[6A\u001b[1K\u001b[K\u001b[6A\u001b[1K\u001b[K\u001b[6A\u001b[1K\u001b[K\u001b[6A\u001b[1K\u001b[K\u001b[6A\u001b[1K\u001b[K\u001b[6A\u001b[1K\u001b[K\u001b[6A\u001b[1K\u001b[K\u001b[6A\u001b[1K\u001b[K\u001b[6A\u001b[1K\u001b[K\u001b[5A\u001b[1K\u001b[K\u001b[5A\u001b[1K\u001b[K\u001b[5A\u001b[1K\u001b[K\u001b[5A\u001b[1K\u001b[K\u001b[5A\u001b[1K\u001b[K\u001b[5A\u001b[1K\u001b[K\u001b[5A\u001b[1K\u001b[K\u001b[5A\u001b[1K\u001b[K\u001b[5A\u001b[1K\u001b[K\u001b[5A\u001b[1K\u001b[K\u001b[5A\u001b[1K\u001b[K\u001b[5A\u001b[1K\u001b[K\u001b[5A\u001b[1K\u001b[K\u001b[5A\u001b[1K\u001b[K\u001b[5A\u001b[1K\u001b[K\u001b[5A\u001b[1K\u001b[K\u001b[5A\u001b[1K\u001b[K\u001b[5A\u001b[1K\u001b[K\u001b[5A\u001b[1K\u001b[K\u001b[5A\u001b[1K\u001b[K\u001b[5A\u001b[1K\u001b[K\u001b[5A\u001b[1K\u001b[K\u001b[5A\u001b[1K\u001b[K\u001b[5A\u001b[1K\u001b[K\u001b[5A\u001b[1K\u001b[K\u001b[5A\u001b[1K\u001b[K\u001b[5A\u001b[1K\u001b[K\u001b[5A\u001b[1K\u001b[K\u001b[5A\u001b[1K\u001b[K\u001b[5A\u001b[1K\u001b[K\u001b[5A\u001b[1K\u001b[K\u001b[5A\u001b[1K\u001b[K\u001b[5A\u001b[1K\u001b[K\u001b[5A\u001b[1K\u001b[K\u001b[5A\u001b[1K\u001b[K\u001b[5A\u001b[1K\u001b[K\u001b[5A\u001b[1K\u001b[K\u001b[5A\u001b[1K\u001b[K\u001b[5A\u001b[1K\u001b[K\u001b[5A\u001b[1K\u001b[K\u001b[5A\u001b[1K\u001b[K\u001b[5A\u001b[1K\u001b[K\u001b[5A\u001b[1K\u001b[K\u001b[5A\u001b[1K\u001b[K\u001b[5A\u001b[1K\u001b[K\u001b[5A\u001b[1K\u001b[K\u001b[5A\u001b[1K\u001b[K\u001b[5A\u001b[1K\u001b[K\u001b[5A\u001b[1K\u001b[K\u001b[5A\u001b[1K\u001b[K\u001b[5A\u001b[1K\u001b[K\u001b[5A\u001b[1K\u001b[K\u001b[5A\u001b[1K\u001b[K\u001b[5A\u001b[1K\u001b[K\u001b[5A\u001b[1K\u001b[K\u001b[5A\u001b[1K\u001b[K\u001b[5A\u001b[1K\u001b[K\u001b[5A\u001b[1K\u001b[K\u001b[5A\u001b[1K\u001b[K\u001b[5A\u001b[1K\u001b[K\u001b[5A\u001b[1K\u001b[K\u001b[5A\u001b[1K\u001b[K\u001b[5A\u001b[1K\u001b[K\u001b[5A\u001b[1K\u001b[K\u001b[4A\u001b[1K\u001b[K\u001b[3A\u001b[1K\u001b[K\u001b[3A\u001b[1K\u001b[K\u001b[3A\u001b[1K\u001b[K\u001b[3A\u001b[1K\u001b[K\u001b[3A\u001b[1K\u001b[K\u001b[3A\u001b[1K\u001b[K\u001b[3A\u001b[1K\u001b[K\u001b[3A\u001b[1K\u001b[K\u001b[3A\u001b[1K\u001b[K\u001b[3A\u001b[1K\u001b[K\u001b[3A\u001b[1K\u001b[K\u001b[3A\u001b[1K\u001b[K\u001b[3A\u001b[1K\u001b[K\u001b[3A\u001b[1K\u001b[K\u001b[3A\u001b[1K\u001b[K\u001b[3A\u001b[1K\u001b[K\u001b[2A\u001b[1K\u001b[K\u001b[2A\u001b[1K\u001b[K\u001b[1A\u001b[1K\u001b[K\n",
      "Status: Downloaded newer image for node:14\n",
      " ---> 1d12470fa662\n",
      "Step 2/7 : WORKDIR /app\n",
      " ---> Running in 1be71af367ab\n",
      "Removing intermediate container 1be71af367ab\n",
      " ---> 6b1188711363\n",
      "Step 3/7 : COPY package.json .\n",
      " ---> 5b2a044218a5\n",
      "Step 4/7 : RUN npm install\n",
      " ---> Running in fab0acd40913\n",
      "\u001b[91mnpm\u001b[0m\u001b[91m \u001b[0m\u001b[91mnotice\u001b[0m\u001b[91m created a lockfile as package-lock.json. You should commit this file.\n",
      "\u001b[0m\u001b[91mnpm WARN data-volume-example@1.0.0 No description\n",
      "\u001b[0m\u001b[91mnpm WARN data-volume-example@1.0.0 No repository field.\n",
      "\u001b[0m\u001b[91m\n",
      "\u001b[0madded 60 packages from 42 contributors and audited 60 packages in 2.317s\n",
      "\n",
      "8 packages are looking for funding\n",
      "  run `npm fund` for details\n",
      "\n",
      "found 0 vulnerabilities\n",
      "\n",
      "Removing intermediate container fab0acd40913\n",
      " ---> 40cb68e51340\n",
      "Step 5/7 : COPY . .\n",
      " ---> 4f165ecda363\n",
      "Step 6/7 : EXPOSE 80\n",
      " ---> Running in 129f1f5ebe4d\n",
      "Removing intermediate container 129f1f5ebe4d\n",
      " ---> f1598cc89b06\n",
      "Step 7/7 : CMD [ \"node\", \"server.js\" ]\n",
      " ---> Running in 5e98de82fe27\n",
      "Removing intermediate container 5e98de82fe27\n",
      " ---> c7d474cfa4df\n",
      "Successfully built c7d474cfa4df\n",
      "Successfully tagged docker-volumes-0:latest\n"
     ]
    }
   ],
   "source": [
    "!docker build . -t docker-volumes-0"
   ]
  },
  {
   "cell_type": "markdown",
   "metadata": {},
   "source": [
    "### Come vedere l'immagine appena creata?"
   ]
  },
  {
   "cell_type": "code",
   "execution_count": 6,
   "metadata": {
    "code_folding": []
   },
   "outputs": [],
   "source": [
    "#Inserisci qui il comando desiderato"
   ]
  },
  {
   "cell_type": "code",
   "execution_count": 7,
   "metadata": {
    "code_folding": [
     0
    ],
    "scrolled": true
   },
   "outputs": [
    {
     "name": "stdout",
     "output_type": "stream",
     "text": [
      "REPOSITORY                 TAG                 IMAGE ID            CREATED              SIZE\r\n",
      "docker-volumes-0           latest              c7d474cfa4df        1 second ago         916MB\r\n",
      "ansible-101_bastion        latest              b63337373dae        About a minute ago   261MB\r\n",
      "ansible-101_web            latest              b63337373dae        About a minute ago   261MB\r\n",
      "<none>                     <none>              1b803357547c        About a minute ago   261MB\r\n",
      "debian                     bullseye            7df9c1a77ca2        35 hours ago         124MB\r\n",
      "node                       14                  1d12470fa662        2 months ago         912MB\r\n",
      "ioggstream/python-course   latest              f2bdf3f866fd        5 years ago          1.65GB\r\n"
     ]
    }
   ],
   "source": [
    "#Mostra soluzione\n",
    "!docker image ls"
   ]
  },
  {
   "cell_type": "markdown",
   "metadata": {},
   "source": [
    "### Avviare il container"
   ]
  },
  {
   "cell_type": "code",
   "execution_count": 8,
   "metadata": {},
   "outputs": [
    {
     "name": "stdout",
     "output_type": "stream",
     "text": [
      "d5565647404ca7a0271b6ee18b80a676e14c5341edc53758e499e9727bbcdbb5\r\n"
     ]
    }
   ],
   "source": [
    "!docker run -d -p 8080:80 --name volumes-test-0 docker-volumes-0"
   ]
  },
  {
   "cell_type": "markdown",
   "metadata": {},
   "source": [
    "### Come verificare che il container sia in esecuzione?"
   ]
  },
  {
   "cell_type": "code",
   "execution_count": 13,
   "metadata": {},
   "outputs": [
    {
     "name": "stdout",
     "output_type": "stream",
     "text": [
      "CONTAINER ID        IMAGE                      COMMAND                  CREATED             STATUS              PORTS                    NAMES\r\n",
      "d5565647404c        docker-volumes-0           \"docker-entrypoint.s…\"   3 minutes ago       Up 3 minutes        0.0.0.0:8080->80/tcp     volumes-test-0\r\n",
      "734d65fa39d8        ansible-101_bastion        \"/usr/sbin/sshd -D -e\"   4 minutes ago       Up 4 minutes                                 ansible-101_bastion_1\r\n",
      "bd277897c7b6        ansible-101_web            \"/usr/sbin/sshd -D -e\"   4 minutes ago       Up 4 minutes                                 ansible-101_web_1\r\n",
      "7ae96611367f        1b803357547c               \"/usr/sbin/sshd -D -e\"   4 minutes ago       Up 4 minutes                                 ansible-101_web_2\r\n",
      "f8601b1f9f95        ioggstream/python-course   \"/bin/sh -c '/usr/lo…\"   5 minutes ago       Up 5 minutes        0.0.0.0:8888->8888/tcp   ansible-101_course_1\r\n"
     ]
    }
   ],
   "source": [
    "!docker ps"
   ]
  },
  {
   "cell_type": "markdown",
   "metadata": {},
   "source": [
    "### Prima interazione con il container"
   ]
  },
  {
   "cell_type": "code",
   "execution_count": 9,
   "metadata": {},
   "outputs": [],
   "source": [
    "#Aprire il browser e cercare il sito"
   ]
  },
  {
   "cell_type": "code",
   "execution_count": 19,
   "metadata": {},
   "outputs": [],
   "source": [
    "#Compilare il form"
   ]
  },
  {
   "cell_type": "code",
   "execution_count": 20,
   "metadata": {},
   "outputs": [],
   "source": [
    "#Verificare il feedback"
   ]
  },
  {
   "cell_type": "markdown",
   "metadata": {},
   "source": [
    "### Arrestare il container"
   ]
  },
  {
   "cell_type": "code",
   "execution_count": 14,
   "metadata": {},
   "outputs": [
    {
     "name": "stdout",
     "output_type": "stream",
     "text": [
      "d5565647404c\r\n"
     ]
    }
   ],
   "source": [
    "#Recupera il ContainerID\n",
    "!docker stop d5565647404c"
   ]
  },
  {
   "cell_type": "markdown",
   "metadata": {},
   "source": [
    "### Dov'è finito il container?"
   ]
  },
  {
   "cell_type": "code",
   "execution_count": 15,
   "metadata": {},
   "outputs": [
    {
     "name": "stdout",
     "output_type": "stream",
     "text": [
      "CONTAINER ID        IMAGE                      COMMAND                  CREATED             STATUS              PORTS                    NAMES\r\n",
      "734d65fa39d8        ansible-101_bastion        \"/usr/sbin/sshd -D -e\"   5 minutes ago       Up 5 minutes                                 ansible-101_bastion_1\r\n",
      "bd277897c7b6        ansible-101_web            \"/usr/sbin/sshd -D -e\"   5 minutes ago       Up 5 minutes                                 ansible-101_web_1\r\n",
      "7ae96611367f        1b803357547c               \"/usr/sbin/sshd -D -e\"   5 minutes ago       Up 5 minutes                                 ansible-101_web_2\r\n",
      "f8601b1f9f95        ioggstream/python-course   \"/bin/sh -c '/usr/lo…\"   5 minutes ago       Up 5 minutes        0.0.0.0:8888->8888/tcp   ansible-101_course_1\r\n"
     ]
    }
   ],
   "source": [
    "!docker ps"
   ]
  },
  {
   "cell_type": "code",
   "execution_count": 16,
   "metadata": {},
   "outputs": [
    {
     "name": "stdout",
     "output_type": "stream",
     "text": [
      "CONTAINER ID        IMAGE                      COMMAND                  CREATED             STATUS                        PORTS                    NAMES\r\n",
      "d5565647404c        docker-volumes-0           \"docker-entrypoint.s…\"   4 minutes ago       Exited (137) 59 seconds ago                            volumes-test-0\r\n",
      "734d65fa39d8        ansible-101_bastion        \"/usr/sbin/sshd -D -e\"   5 minutes ago       Up 5 minutes                                           ansible-101_bastion_1\r\n",
      "bd277897c7b6        ansible-101_web            \"/usr/sbin/sshd -D -e\"   5 minutes ago       Up 5 minutes                                           ansible-101_web_1\r\n",
      "7ae96611367f        1b803357547c               \"/usr/sbin/sshd -D -e\"   5 minutes ago       Up 5 minutes                                           ansible-101_web_2\r\n",
      "f8601b1f9f95        ioggstream/python-course   \"/bin/sh -c '/usr/lo…\"   6 minutes ago       Up 6 minutes                  0.0.0.0:8888->8888/tcp   ansible-101_course_1\r\n"
     ]
    }
   ],
   "source": [
    "!docker ps -a"
   ]
  },
  {
   "cell_type": "markdown",
   "metadata": {},
   "source": [
    "### Riavviare il container"
   ]
  },
  {
   "cell_type": "code",
   "execution_count": 17,
   "metadata": {},
   "outputs": [
    {
     "name": "stdout",
     "output_type": "stream",
     "text": [
      "d5565647404c\r\n"
     ]
    }
   ],
   "source": [
    "!docker start d5565647404c"
   ]
  },
  {
   "cell_type": "code",
   "execution_count": 21,
   "metadata": {},
   "outputs": [
    {
     "name": "stdout",
     "output_type": "stream",
     "text": [
      "CONTAINER ID        IMAGE                      COMMAND                  CREATED             STATUS              PORTS                    NAMES\r\n",
      "d5565647404c        docker-volumes-0           \"docker-entrypoint.s…\"   2 hours ago         Up 2 hours          0.0.0.0:8080->80/tcp     volumes-test-0\r\n",
      "734d65fa39d8        ansible-101_bastion        \"/usr/sbin/sshd -D -e\"   2 hours ago         Up 2 hours                                   ansible-101_bastion_1\r\n",
      "bd277897c7b6        ansible-101_web            \"/usr/sbin/sshd -D -e\"   2 hours ago         Up 2 hours                                   ansible-101_web_1\r\n",
      "7ae96611367f        1b803357547c               \"/usr/sbin/sshd -D -e\"   2 hours ago         Up 2 hours                                   ansible-101_web_2\r\n",
      "f8601b1f9f95        ioggstream/python-course   \"/bin/sh -c '/usr/lo…\"   2 hours ago         Up 2 hours          0.0.0.0:8888->8888/tcp   ansible-101_course_1\r\n"
     ]
    }
   ],
   "source": [
    "!docker ps "
   ]
  },
  {
   "cell_type": "markdown",
   "metadata": {},
   "source": [
    "### Cercare il feedback lasciato precedentemente"
   ]
  },
  {
   "cell_type": "code",
   "execution_count": null,
   "metadata": {},
   "outputs": [],
   "source": [
    "# Apri il browser e controllare lo stato del feedback caricato precedentemente"
   ]
  },
  {
   "cell_type": "code",
   "execution_count": 23,
   "metadata": {},
   "outputs": [],
   "source": [
    "!docker logs d5565647404c"
   ]
  },
  {
   "cell_type": "code",
   "execution_count": null,
   "metadata": {},
   "outputs": [],
   "source": [
    "# Il feedback è presente"
   ]
  },
  {
   "cell_type": "markdown",
   "metadata": {},
   "source": [
    "### Rimozione container"
   ]
  },
  {
   "cell_type": "code",
   "execution_count": 24,
   "metadata": {},
   "outputs": [
    {
     "name": "stdout",
     "output_type": "stream",
     "text": [
      "d5565647404c\r\n"
     ]
    }
   ],
   "source": [
    "# Arrestare il container\n",
    "!docker stop d5565647404c"
   ]
  },
  {
   "cell_type": "code",
   "execution_count": 25,
   "metadata": {},
   "outputs": [
    {
     "name": "stdout",
     "output_type": "stream",
     "text": [
      "d5565647404c\r\n"
     ]
    }
   ],
   "source": [
    "# Rimuovere il container\n",
    "!docker rm d5565647404c"
   ]
  },
  {
   "cell_type": "code",
   "execution_count": 26,
   "metadata": {},
   "outputs": [
    {
     "name": "stdout",
     "output_type": "stream",
     "text": [
      "CONTAINER ID        IMAGE                      COMMAND                  CREATED             STATUS              PORTS                    NAMES\r\n",
      "734d65fa39d8        ansible-101_bastion        \"/usr/sbin/sshd -D -e\"   2 hours ago         Up 2 hours                                   ansible-101_bastion_1\r\n",
      "bd277897c7b6        ansible-101_web            \"/usr/sbin/sshd -D -e\"   2 hours ago         Up 2 hours                                   ansible-101_web_1\r\n",
      "7ae96611367f        1b803357547c               \"/usr/sbin/sshd -D -e\"   2 hours ago         Up 2 hours                                   ansible-101_web_2\r\n",
      "f8601b1f9f95        ioggstream/python-course   \"/bin/sh -c '/usr/lo…\"   2 hours ago         Up 2 hours          0.0.0.0:8888->8888/tcp   ansible-101_course_1\r\n"
     ]
    }
   ],
   "source": [
    "# Controllare se è presente\n",
    "!docker ps -a"
   ]
  },
  {
   "cell_type": "code",
   "execution_count": 27,
   "metadata": {},
   "outputs": [
    {
     "name": "stdout",
     "output_type": "stream",
     "text": [
      "d350dce24c1fb8a63fd2fffde4aeac3ed07c599c082834c1eb84c3f3f742377d\r\n"
     ]
    }
   ],
   "source": [
    "# Creare un nuovo container\n",
    "!docker run -d -p 8080:80 --name volumes-test-0 docker-volumes-0"
   ]
  },
  {
   "cell_type": "code",
   "execution_count": null,
   "metadata": {},
   "outputs": [],
   "source": [
    "# Aprire il browser e controllare la presenza del vecchio Feedback"
   ]
  },
  {
   "cell_type": "code",
   "execution_count": 28,
   "metadata": {},
   "outputs": [
    {
     "name": "stdout",
     "output_type": "stream",
     "text": [
      "CONTAINER ID        IMAGE                      COMMAND                  CREATED             STATUS              PORTS                    NAMES\r\n",
      "d350dce24c1f        docker-volumes-0           \"docker-entrypoint.s…\"   3 minutes ago       Up 3 minutes        0.0.0.0:8080->80/tcp     volumes-test-0\r\n",
      "734d65fa39d8        ansible-101_bastion        \"/usr/sbin/sshd -D -e\"   2 hours ago         Up 2 hours                                   ansible-101_bastion_1\r\n",
      "bd277897c7b6        ansible-101_web            \"/usr/sbin/sshd -D -e\"   2 hours ago         Up 2 hours                                   ansible-101_web_1\r\n",
      "7ae96611367f        1b803357547c               \"/usr/sbin/sshd -D -e\"   2 hours ago         Up 2 hours                                   ansible-101_web_2\r\n",
      "f8601b1f9f95        ioggstream/python-course   \"/bin/sh -c '/usr/lo…\"   2 hours ago         Up 2 hours          0.0.0.0:8888->8888/tcp   ansible-101_course_1\r\n"
     ]
    }
   ],
   "source": [
    "# Perchè non è più presente?\n",
    "!docker ps"
   ]
  },
  {
   "cell_type": "code",
   "execution_count": 30,
   "metadata": {},
   "outputs": [
    {
     "name": "stdout",
     "output_type": "stream",
     "text": [
      "        \"Name\": \"/volumes-test-0\",\r\n",
      "            \"Image\": \"docker-volumes-0\",\r\n"
     ]
    }
   ],
   "source": [
    "!docker inspect d350dce24c1f | grep volume"
   ]
  },
  {
   "cell_type": "code",
   "execution_count": 31,
   "metadata": {},
   "outputs": [
    {
     "name": "stdout",
     "output_type": "stream",
     "text": [
      "DRIVER              VOLUME NAME\r\n"
     ]
    }
   ],
   "source": [
    "!docker volume ls"
   ]
  },
  {
   "cell_type": "code",
   "execution_count": 32,
   "metadata": {},
   "outputs": [
    {
     "name": "stdout",
     "output_type": "stream",
     "text": [
      "d350dce24c1f\r\n"
     ]
    }
   ],
   "source": [
    "!docker stop d350dce24c1f"
   ]
  },
  {
   "cell_type": "code",
   "execution_count": 33,
   "metadata": {},
   "outputs": [
    {
     "name": "stdout",
     "output_type": "stream",
     "text": [
      "d350dce24c1f\r\n"
     ]
    }
   ],
   "source": [
    "!docker rm d350dce24c1f"
   ]
  },
  {
   "cell_type": "markdown",
   "metadata": {},
   "source": [
    "### Volumes Introduction"
   ]
  },
  {
   "cell_type": "code",
   "execution_count": 34,
   "metadata": {},
   "outputs": [
    {
     "name": "stdout",
     "output_type": "stream",
     "text": [
      "4f9c72c0c371077aa175b5e11cd1adfce32eb87bbd84d7bce2742d2a2d231bf4\r\n"
     ]
    }
   ],
   "source": [
    "!docker run -d -p 8080:80 --name volumes-test-0 --rm -v feedback:/app/feedback docker-volumes-0"
   ]
  },
  {
   "cell_type": "code",
   "execution_count": 36,
   "metadata": {},
   "outputs": [],
   "source": [
    "# Apri il browser ed inserisci un nuovo feedback"
   ]
  },
  {
   "cell_type": "code",
   "execution_count": null,
   "metadata": {},
   "outputs": [],
   "source": [
    "# Perchè non funziona?"
   ]
  },
  {
   "cell_type": "markdown",
   "metadata": {},
   "source": [
    "### Debug"
   ]
  },
  {
   "cell_type": "code",
   "execution_count": 35,
   "metadata": {},
   "outputs": [
    {
     "name": "stdout",
     "output_type": "stream",
     "text": [
      "(node:1) UnhandledPromiseRejectionWarning: Error: EXDEV: cross-device link not permitted, rename '/app/temp/ciao.txt' -> '/app/feedback/ciao.txt'\r\n",
      "(Use `node --trace-warnings ...` to show where the warning was created)\r\n",
      "(node:1) UnhandledPromiseRejectionWarning: Unhandled promise rejection. This error originated either by throwing inside of an async function without a catch block, or by rejecting a promise which was not handled with .catch(). To terminate the node process on unhandled promise rejection, use the CLI flag `--unhandled-rejections=strict` (see https://nodejs.org/api/cli.html#cli_unhandled_rejections_mode). (rejection id: 1)\r\n",
      "(node:1) [DEP0018] DeprecationWarning: Unhandled promise rejections are deprecated. In the future, promise rejections that are not handled will terminate the Node.js process with a non-zero exit code.\r\n"
     ]
    }
   ],
   "source": [
    "!docker logs 4f9c72c0c"
   ]
  },
  {
   "cell_type": "markdown",
   "metadata": {},
   "source": [
    "### Continua nel prossimo laboratiorio ..."
   ]
  },
  {
   "cell_type": "code",
   "execution_count": null,
   "metadata": {},
   "outputs": [],
   "source": []
  }
 ],
 "metadata": {
  "kernelspec": {
   "display_name": "Python 2",
   "language": "python",
   "name": "python2"
  },
  "language_info": {
   "codemirror_mode": {
    "name": "ipython",
    "version": 2
   },
   "file_extension": ".py",
   "mimetype": "text/x-python",
   "name": "python",
   "nbconvert_exporter": "python",
   "pygments_lexer": "ipython2",
   "version": "2.7.14"
  }
 },
 "nbformat": 4,
 "nbformat_minor": 2
}
