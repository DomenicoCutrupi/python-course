{
 "cells": [
  {
   "cell_type": "markdown",
   "metadata": {},
   "source": [
    "# Named Volumes "
   ]
  },
  {
   "cell_type": "code",
   "execution_count": 113,
   "metadata": {},
   "outputs": [
    {
     "name": "stdout",
     "output_type": "stream",
     "text": [
      "[Errno 2] No such file or directory: 'notebooks/docker-code/docker-volumes-deep/'\n",
      "/notebooks/docker-code/docker-volumes-deep\n"
     ]
    }
   ],
   "source": [
    "cd notebooks/docker-code/docker-volumes-deep/"
   ]
  },
  {
   "cell_type": "code",
   "execution_count": 2,
   "metadata": {},
   "outputs": [
    {
     "name": "stdout",
     "output_type": "stream",
     "text": [
      "Dockerfile  \u001b[0m\u001b[01;34mfeedback\u001b[0m/  package.json  \u001b[01;34mpages\u001b[0m/  \u001b[01;34mpublic\u001b[0m/  server.js  \u001b[01;34mtemp\u001b[0m/\r\n"
     ]
    }
   ],
   "source": [
    "ls"
   ]
  },
  {
   "cell_type": "code",
   "execution_count": 5,
   "metadata": {},
   "outputs": [
    {
     "name": "stdout",
     "output_type": "stream",
     "text": [
      "REPOSITORY                 TAG                 IMAGE ID            CREATED             SIZE\r\n",
      "docker-volumes-0           latest              c14c5c36396d        9 minutes ago       916MB\r\n",
      "<none>                     <none>              92d76da46277        11 minutes ago      261MB\r\n",
      "ansible-101_bastion        latest              365bea7882ac        11 minutes ago      261MB\r\n",
      "ansible-101_web            latest              365bea7882ac        11 minutes ago      261MB\r\n",
      "debian                     bullseye            7df9c1a77ca2        39 hours ago        124MB\r\n",
      "node                       14                  1d12470fa662        2 months ago        912MB\r\n",
      "ioggstream/python-course   latest              f2bdf3f866fd        5 years ago         1.65GB\r\n"
     ]
    }
   ],
   "source": [
    "!docker image ls"
   ]
  },
  {
   "cell_type": "markdown",
   "metadata": {},
   "source": [
    "### Buildiamo la nuova immagine"
   ]
  },
  {
   "cell_type": "code",
   "execution_count": 6,
   "metadata": {},
   "outputs": [
    {
     "name": "stdout",
     "output_type": "stream",
     "text": [
      "Sending build context to Docker daemon  13.82kB\n",
      "Step 1/8 : FROM node:14\n",
      " ---> 1d12470fa662\n",
      "Step 2/8 : WORKDIR /app\n",
      " ---> Using cache\n",
      " ---> 9a5a10b8cedf\n",
      "Step 3/8 : COPY package.json .\n",
      " ---> 3441282a1a99\n",
      "Step 4/8 : RUN npm install\n",
      " ---> Running in 6582686ab3a2\n",
      "\n",
      "> nodemon@2.0.4 postinstall /app/node_modules/nodemon\n",
      "> node bin/postinstall || exit 0\n",
      "\n",
      "\u001b[32mLove nodemon? You can now support the project via the open collective:\u001b[22m\u001b[39m\n",
      " > \u001b[96m\u001b[1mhttps://opencollective.com/nodemon/donate\u001b[0m\n",
      "\n",
      "\u001b[91mnpm \u001b[0m\u001b[91mnotice\u001b[0m\u001b[91m created a lockfile as package-lock.json. You should commit this file.\n",
      "\u001b[0m\u001b[91mnpm\u001b[0m\u001b[91m WARN\u001b[0m\u001b[91m \u001b[0m\u001b[91moptional\u001b[0m\u001b[91m SKIPPING OPTIONAL DEPENDENCY: fsevents@~2.3.2 (node_modules/chokidar/node_modules/fsevents):\n",
      "\u001b[0m\u001b[91mnpm\u001b[0m\u001b[91m \u001b[0m\u001b[91mWARN\u001b[0m\u001b[91m \u001b[0m\u001b[91mnotsup\u001b[0m\u001b[91m SKIPPING OPTIONAL DEPENDENCY: Unsupported platform for fsevents@2.3.2: wanted {\"os\":\"darwin\",\"arch\":\"any\"} (current: {\"os\":\"linux\",\"arch\":\"x64\"})\n",
      "\u001b[0m\u001b[91mnpm WARN\u001b[0m\u001b[91m data-volume-example@1.0.0 No description\n",
      "\u001b[0m\u001b[91mnpm\u001b[0m\u001b[91m WARN\u001b[0m\u001b[91m data-volume-example@1.0.0 No repository field.\n",
      "\u001b[0m\u001b[91m\n",
      "\u001b[0madded 172 packages from 88 contributors and audited 173 packages in 5.755s\n",
      "\n",
      "22 packages are looking for funding\n",
      "  run `npm fund` for details\n",
      "\n",
      "found 1 moderate severity vulnerability\n",
      "  run `npm audit fix` to fix them, or `npm audit` for details\n",
      "Removing intermediate container 6582686ab3a2\n",
      " ---> 47ab7c88ba5d\n",
      "Step 5/8 : COPY . .\n",
      " ---> b2d021db7e01\n",
      "Step 6/8 : EXPOSE 80\n",
      " ---> Running in ea017f2f1ef2\n",
      "Removing intermediate container ea017f2f1ef2\n",
      " ---> 08574fb08c96\n",
      "Step 7/8 : VOLUME [\"/temp\"]\n",
      " ---> Running in d761cad43cd7\n",
      "Removing intermediate container d761cad43cd7\n",
      " ---> be3cc079f23f\n",
      "Step 8/8 : CMD [ \"npm\", \"start\" ]\n",
      " ---> Running in 780e8889832d\n",
      "Removing intermediate container 780e8889832d\n",
      " ---> 79d2850f99db\n",
      "Successfully built 79d2850f99db\n",
      "Successfully tagged docker-volumes-0:named\n"
     ]
    }
   ],
   "source": [
    "!docker build . -t docker-volumes-0:named"
   ]
  },
  {
   "cell_type": "code",
   "execution_count": 8,
   "metadata": {},
   "outputs": [],
   "source": [
    "# Tralasciando le rige npm, cosa noti di particolare negli step di build?"
   ]
  },
  {
   "cell_type": "markdown",
   "metadata": {},
   "source": [
    "### Creazione del nuovo container con un Named Volume"
   ]
  },
  {
   "cell_type": "code",
   "execution_count": 11,
   "metadata": {},
   "outputs": [
    {
     "name": "stdout",
     "output_type": "stream",
     "text": [
      "REPOSITORY                 TAG                 IMAGE ID            CREATED             SIZE\r\n",
      "docker-volumes-0           named               79d2850f99db        3 minutes ago       922MB\r\n",
      "docker-volumes-0           latest              c14c5c36396d        13 minutes ago      916MB\r\n",
      "ansible-101_bastion        latest              365bea7882ac        15 minutes ago      261MB\r\n",
      "ansible-101_web            latest              365bea7882ac        15 minutes ago      261MB\r\n",
      "<none>                     <none>              92d76da46277        15 minutes ago      261MB\r\n",
      "debian                     bullseye            7df9c1a77ca2        39 hours ago        124MB\r\n",
      "node                       14                  1d12470fa662        2 months ago        912MB\r\n",
      "ioggstream/python-course   latest              f2bdf3f866fd        5 years ago         1.65GB\r\n"
     ]
    }
   ],
   "source": [
    "!docker image ls"
   ]
  },
  {
   "cell_type": "code",
   "execution_count": 15,
   "metadata": {
    "code_folding": []
   },
   "outputs": [
    {
     "name": "stdout",
     "output_type": "stream",
     "text": [
      "docker: Error response from daemon: driver failed programming external connectivity on endpoint volumes-deep (fce1262bdc492ef1972979254da48a960832c94afb4fd35263eee41b4942c176): Bind for 0.0.0.0:8080 failed: port is already allocated.\r\n"
     ]
    }
   ],
   "source": [
    "#Dovresti già conoscere il comando usato per eseguire il nuovo container, prova ad indovinare\n",
    "!docker run --name volumes-deep -p 8080:80 -v named:/app/feedback --rm docker-volumes-0:named"
   ]
  },
  {
   "cell_type": "code",
   "execution_count": 18,
   "metadata": {},
   "outputs": [
    {
     "name": "stdout",
     "output_type": "stream",
     "text": [
      "CONTAINER ID        IMAGE                      COMMAND                  CREATED             STATUS              PORTS                    NAMES\n",
      "f0088d8dc37e        docker-volumes-0           \"docker-entrypoint.s…\"   12 minutes ago      Up 12 minutes       0.0.0.0:8080->80/tcp     volumes-test-0\n",
      "c8aa1cf60e9c        ansible-101_bastion        \"/usr/sbin/sshd -D -e\"   18 minutes ago      Up 18 minutes                                ansible-101_bastion_1\n",
      "c87d2dcc853c        ansible-101_web            \"/usr/sbin/sshd -D -e\"   18 minutes ago      Up 18 minutes                                ansible-101_web_2\n",
      "6ff45d1c03e5        92d76da46277               \"/usr/sbin/sshd -D -e\"   18 minutes ago      Up 18 minutes                                ansible-101_web_1\n",
      "758b6da0bbf9        ioggstream/python-course   \"/bin/sh -c '/usr/lo…\"   19 minutes ago      Up 19 minutes       0.0.0.0:8888->8888/tcp   ansible-101_course_1\n",
      "f0088d8dc37e\n",
      "Error: No such container: f0088d8dc37e\n"
     ]
    }
   ],
   "source": [
    "#Come risolvere il problema?\n",
    "!docker ps\n",
    "!docker stop f0088d8dc37e\n",
    "!docker rm f0088d8dc37e # dovrebbe già essere cancellato perchè lanciato con --rm"
   ]
  },
  {
   "cell_type": "code",
   "execution_count": 19,
   "metadata": {},
   "outputs": [
    {
     "name": "stdout",
     "output_type": "stream",
     "text": [
      "\n",
      "> data-volume-example@1.0.0 start /app\n",
      "> nodemon server.js\n",
      "\n",
      "\u001b[33m[nodemon] 2.0.4\u001b[39m\n",
      "\u001b[33m[nodemon] to restart at any time, enter `rs`\u001b[39m\n",
      "\u001b[33m[nodemon] watching path(s): *.*\u001b[39m\n",
      "\u001b[33m[nodemon] watching extensions: js,mjs,json\u001b[39m\n",
      "\u001b[32m[nodemon] starting `node server.js`\u001b[39m\n",
      "TEST!!!!!\n",
      "TEST!!!!!\n",
      "^C\n"
     ]
    }
   ],
   "source": [
    "!docker run --name volumes-deep -p 8080:80 -v named:/app/feedback --rm -d docker-volumes-0:named"
   ]
  },
  {
   "cell_type": "markdown",
   "metadata": {},
   "source": [
    "### Verifica presenza del volume"
   ]
  },
  {
   "cell_type": "code",
   "execution_count": 20,
   "metadata": {},
   "outputs": [
    {
     "name": "stdout",
     "output_type": "stream",
     "text": [
      "CONTAINER ID        IMAGE                      COMMAND                  CREATED              STATUS              PORTS                    NAMES\r\n",
      "f21ca64f902c        docker-volumes-0:named     \"docker-entrypoint.s…\"   About a minute ago   Up About a minute   0.0.0.0:8080->80/tcp     volumes-deep\r\n",
      "c8aa1cf60e9c        ansible-101_bastion        \"/usr/sbin/sshd -D -e\"   26 minutes ago       Up 26 minutes                                ansible-101_bastion_1\r\n",
      "c87d2dcc853c        ansible-101_web            \"/usr/sbin/sshd -D -e\"   26 minutes ago       Up 26 minutes                                ansible-101_web_2\r\n",
      "6ff45d1c03e5        92d76da46277               \"/usr/sbin/sshd -D -e\"   26 minutes ago       Up 26 minutes                                ansible-101_web_1\r\n",
      "758b6da0bbf9        ioggstream/python-course   \"/bin/sh -c '/usr/lo…\"   26 minutes ago       Up 26 minutes       0.0.0.0:8888->8888/tcp   ansible-101_course_1\r\n"
     ]
    }
   ],
   "source": [
    "!docker ps "
   ]
  },
  {
   "cell_type": "code",
   "execution_count": 22,
   "metadata": {},
   "outputs": [
    {
     "name": "stdout",
     "output_type": "stream",
     "text": [
      "        \"Name\": \"/volumes-deep\",\r\n",
      "                \"Type\": \"volume\",\r\n",
      "                \"Source\": \"/var/lib/docker/volumes/0392ffd3462106d0a5772a3bda21e31420eae1c0849cd5a671de53f06948965b/_data\",\r\n",
      "                \"Type\": \"volume\",\r\n",
      "                \"Source\": \"/var/lib/docker/volumes/named/_data\",\r\n",
      "            \"Image\": \"docker-volumes-0:named\",\r\n"
     ]
    }
   ],
   "source": [
    "!docker inspect f21ca64f902c | grep volume"
   ]
  },
  {
   "cell_type": "code",
   "execution_count": 114,
   "metadata": {},
   "outputs": [
    {
     "name": "stdout",
     "output_type": "stream",
     "text": [
      "DRIVER              VOLUME NAME\r\n",
      "local               372818fb96642f6be96ff2b3ced017a5185102c12cf3889d02ba879d4c050ce0\r\n",
      "local               feedback\r\n",
      "local               named\r\n"
     ]
    }
   ],
   "source": [
    "!docker volume ls"
   ]
  },
  {
   "cell_type": "code",
   "execution_count": 24,
   "metadata": {},
   "outputs": [
    {
     "name": "stdout",
     "output_type": "stream",
     "text": [
      "f21ca64f902c\r\n"
     ]
    }
   ],
   "source": [
    "!docker stop f21ca64f902c"
   ]
  },
  {
   "cell_type": "code",
   "execution_count": 25,
   "metadata": {},
   "outputs": [
    {
     "name": "stdout",
     "output_type": "stream",
     "text": [
      "Error: No such container: f21ca64f902c\r\n"
     ]
    }
   ],
   "source": [
    "!docker rm f21ca64f902c # se lanciato senza --rm"
   ]
  },
  {
   "cell_type": "markdown",
   "metadata": {},
   "source": [
    "### Riavvio container"
   ]
  },
  {
   "cell_type": "code",
   "execution_count": 30,
   "metadata": {},
   "outputs": [
    {
     "name": "stdout",
     "output_type": "stream",
     "text": [
      "1c8c092bfb64e19a5487a6937f03a72d9d9ad34d92f7a94b7fcab82f5172156f\r\n"
     ]
    }
   ],
   "source": [
    "!docker run --name volumes-deep -p 8080:80 -v named:/app/feedback --rm -d docker-volumes-0:named"
   ]
  },
  {
   "cell_type": "code",
   "execution_count": 28,
   "metadata": {},
   "outputs": [],
   "source": [
    "# Apri il browser\n",
    "# Verifica presenza del feedback precedentemente lasciato"
   ]
  },
  {
   "cell_type": "code",
   "execution_count": 54,
   "metadata": {},
   "outputs": [
    {
     "name": "stdout",
     "output_type": "stream",
     "text": [
      "Error response from daemon: No such container: 1c8c092bfb64e\r\n"
     ]
    }
   ],
   "source": [
    "!docker stop 1c8c092bfb64e"
   ]
  },
  {
   "cell_type": "markdown",
   "metadata": {},
   "source": [
    "# Anonymous Volumes"
   ]
  },
  {
   "cell_type": "code",
   "execution_count": 108,
   "metadata": {},
   "outputs": [
    {
     "name": "stdout",
     "output_type": "stream",
     "text": [
      "DRIVER              VOLUME NAME\r\n",
      "local               feedback\r\n",
      "local               named\r\n"
     ]
    }
   ],
   "source": [
    "!docker volume ls"
   ]
  },
  {
   "cell_type": "code",
   "execution_count": 103,
   "metadata": {},
   "outputs": [
    {
     "name": "stdout",
     "output_type": "stream",
     "text": [
      "[\r\n",
      "    {\r\n",
      "        \"CreatedAt\": \"2023-06-14T13:49:21Z\",\r\n",
      "        \"Driver\": \"local\",\r\n",
      "        \"Labels\": null,\r\n",
      "        \"Mountpoint\": \"/var/lib/docker/volumes/feedback/_data\",\r\n",
      "        \"Name\": \"feedback\",\r\n",
      "        \"Options\": null,\r\n",
      "        \"Scope\": \"local\"\r\n",
      "    }\r\n",
      "]\r\n"
     ]
    }
   ],
   "source": [
    "!docker volume inspect feedback"
   ]
  },
  {
   "cell_type": "code",
   "execution_count": 104,
   "metadata": {},
   "outputs": [
    {
     "name": "stdout",
     "output_type": "stream",
     "text": [
      "[\r\n",
      "    {\r\n",
      "        \"CreatedAt\": \"2023-06-14T14:08:32Z\",\r\n",
      "        \"Driver\": \"local\",\r\n",
      "        \"Labels\": null,\r\n",
      "        \"Mountpoint\": \"/var/lib/docker/volumes/named/_data\",\r\n",
      "        \"Name\": \"named\",\r\n",
      "        \"Options\": null,\r\n",
      "        \"Scope\": \"local\"\r\n",
      "    }\r\n",
      "]\r\n"
     ]
    }
   ],
   "source": [
    "!docker volume inspect named"
   ]
  },
  {
   "cell_type": "markdown",
   "metadata": {},
   "source": [
    "### Creiamo un container senza volumi"
   ]
  },
  {
   "cell_type": "code",
   "execution_count": 109,
   "metadata": {},
   "outputs": [
    {
     "name": "stdout",
     "output_type": "stream",
     "text": [
      "d5cd57762a48645e50a9aee82680d1fcdd57caeeea00ba4437776165faaa6614\r\n"
     ]
    }
   ],
   "source": [
    "!docker run --name volumes-deep-2 -p 8081:80 --rm -d docker-volumes-0:named"
   ]
  },
  {
   "cell_type": "code",
   "execution_count": 110,
   "metadata": {},
   "outputs": [
    {
     "name": "stdout",
     "output_type": "stream",
     "text": [
      "CONTAINER ID        IMAGE                      COMMAND                  CREATED             STATUS              PORTS                    NAMES\r\n",
      "d5cd57762a48        docker-volumes-0:named     \"docker-entrypoint.s…\"   7 seconds ago       Up 7 seconds        0.0.0.0:8081->80/tcp     volumes-deep-2\r\n",
      "c8aa1cf60e9c        ansible-101_bastion        \"/usr/sbin/sshd -D -e\"   4 hours ago         Up 4 hours                                   ansible-101_bastion_1\r\n",
      "c87d2dcc853c        ansible-101_web            \"/usr/sbin/sshd -D -e\"   4 hours ago         Up 4 hours                                   ansible-101_web_2\r\n",
      "6ff45d1c03e5        92d76da46277               \"/usr/sbin/sshd -D -e\"   4 hours ago         Up 4 hours                                   ansible-101_web_1\r\n",
      "758b6da0bbf9        ioggstream/python-course   \"/bin/sh -c '/usr/lo…\"   4 hours ago         Up 4 hours          0.0.0.0:8888->8888/tcp   ansible-101_course_1\r\n"
     ]
    }
   ],
   "source": [
    "!docker ps"
   ]
  },
  {
   "cell_type": "code",
   "execution_count": 117,
   "metadata": {},
   "outputs": [
    {
     "name": "stdout",
     "output_type": "stream",
     "text": [
      "DRIVER              VOLUME NAME\r\n",
      "local               372818fb96642f6be96ff2b3ced017a5185102c12cf3889d02ba879d4c050ce0\r\n",
      "local               feedback\r\n",
      "local               named\r\n"
     ]
    }
   ],
   "source": [
    "!docker volume ls"
   ]
  },
  {
   "cell_type": "code",
   "execution_count": 118,
   "metadata": {},
   "outputs": [],
   "source": [
    "#In realtà un nuovo volume è già stato creato\n",
    "#Questo perchè all'interno del Dockerfile è stato inserito il comando VOLUME"
   ]
  },
  {
   "cell_type": "code",
   "execution_count": 119,
   "metadata": {},
   "outputs": [
    {
     "name": "stdout",
     "output_type": "stream",
     "text": [
      "FROM node:14\r\n",
      "\r\n",
      "WORKDIR /app\r\n",
      "\r\n",
      "COPY package.json .\r\n",
      "\r\n",
      "RUN npm install\r\n",
      "\r\n",
      "COPY . .\r\n",
      "\r\n",
      "EXPOSE 80\r\n",
      "\r\n",
      "# VOLUME [ \"/app/node_modules\" ]\r\n",
      "\r\n",
      "VOLUME [\"/temp\"]\r\n",
      "\r\n",
      "CMD [ \"npm\", \"start\" ]"
     ]
    }
   ],
   "source": [
    "!cat Dockerfile"
   ]
  },
  {
   "cell_type": "markdown",
   "metadata": {},
   "source": [
    "[Modifichiamo il Dockerfile](/tree/notebooks/docker-code/docker-volumes-deep)"
   ]
  },
  {
   "cell_type": "markdown",
   "metadata": {},
   "source": [
    "### Buildiamo la nuova immagine"
   ]
  },
  {
   "cell_type": "code",
   "execution_count": 124,
   "metadata": {},
   "outputs": [
    {
     "name": "stdout",
     "output_type": "stream",
     "text": [
      "Sending build context to Docker daemon  13.82kB\n",
      "Step 1/7 : FROM node:14\n",
      " ---> 1d12470fa662\n",
      "Step 2/7 : WORKDIR /app\n",
      " ---> Using cache\n",
      " ---> 9a5a10b8cedf\n",
      "Step 3/7 : COPY package.json .\n",
      " ---> Using cache\n",
      " ---> 3441282a1a99\n",
      "Step 4/7 : RUN npm install\n",
      " ---> Using cache\n",
      " ---> 47ab7c88ba5d\n",
      "Step 5/7 : COPY . .\n",
      " ---> Using cache\n",
      " ---> bf4bf32cad8a\n",
      "Step 6/7 : EXPOSE 80\n",
      " ---> Using cache\n",
      " ---> 6ca917725d8b\n",
      "Step 7/7 : CMD [ \"npm\", \"start\" ]\n",
      " ---> Using cache\n",
      " ---> 36e050044ea8\n",
      "Successfully built 36e050044ea8\n",
      "Successfully tagged docker-volumes-0:anonymous\n"
     ]
    }
   ],
   "source": [
    "!docker build . -t docker-volumes-0:anonymous"
   ]
  },
  {
   "cell_type": "markdown",
   "metadata": {},
   "source": [
    "### Stoppiamo e cancelliamo il container creato"
   ]
  },
  {
   "cell_type": "code",
   "execution_count": 126,
   "metadata": {},
   "outputs": [
    {
     "name": "stdout",
     "output_type": "stream",
     "text": [
      "d5cd57762a48645e50a9aee82680d1fcdd57caeeea00ba4437776165faaa6614\r\n"
     ]
    }
   ],
   "source": [
    "!docker stop d5cd57762a48645e50a9aee82680d1fcdd57caeeea00ba4437776165faaa6614"
   ]
  },
  {
   "cell_type": "markdown",
   "metadata": {},
   "source": [
    "### Lanciamo un nuovo comando senza volume"
   ]
  },
  {
   "cell_type": "code",
   "execution_count": 127,
   "metadata": {},
   "outputs": [
    {
     "name": "stdout",
     "output_type": "stream",
     "text": [
      "09110e8968b0f6fd395964d6cb60dd76edf4b43a962e18181511e68bce6d04ba\r\n"
     ]
    }
   ],
   "source": [
    "!docker run --name volumes-deep-3 -p 8081:80 --rm -d docker-volumes-0:anonymous"
   ]
  },
  {
   "cell_type": "code",
   "execution_count": 129,
   "metadata": {},
   "outputs": [
    {
     "name": "stdout",
     "output_type": "stream",
     "text": [
      "DRIVER              VOLUME NAME\r\n",
      "local               feedback\r\n",
      "local               named\r\n"
     ]
    }
   ],
   "source": [
    "### Verifichiamo il numero di volumi\n",
    "### Possiamo vedere che nessun nuovo volume è stato creato\n",
    "!docker volume ls"
   ]
  },
  {
   "cell_type": "code",
   "execution_count": 130,
   "metadata": {},
   "outputs": [
    {
     "name": "stdout",
     "output_type": "stream",
     "text": [
      "09110e8968b0f6fd395964d6cb60dd76edf4b43a962e18181511e68bce6d04ba\r\n"
     ]
    }
   ],
   "source": [
    "!docker stop 09110e8968b0f6fd395964d6cb60dd76edf4b43a962e18181511e68bce6d04ba"
   ]
  },
  {
   "cell_type": "markdown",
   "metadata": {},
   "source": [
    "### Gli Anonymous Volumes possono essere creati anche non specificando il nome del volume dal comando Docker"
   ]
  },
  {
   "cell_type": "code",
   "execution_count": 135,
   "metadata": {},
   "outputs": [
    {
     "name": "stdout",
     "output_type": "stream",
     "text": [
      "403f299df63fc9cdf8ab89c58f333702e8c8dd2496a85a9adbfe9f7bb538461f\r\n"
     ]
    }
   ],
   "source": [
    "!docker run --name volumes-deep -p 8080:80 -v /app/feedback --rm -d docker-volumes-0:anonymous"
   ]
  },
  {
   "cell_type": "code",
   "execution_count": 137,
   "metadata": {},
   "outputs": [
    {
     "name": "stdout",
     "output_type": "stream",
     "text": [
      "DRIVER              VOLUME NAME\r\n",
      "local               823eaf39b10bc90cb75539c8508062649f627b349f67eaa2e9cb81f2c36a83c6\r\n",
      "local               feedback\r\n",
      "local               named\r\n"
     ]
    }
   ],
   "source": [
    "#Possiamo vedere che l'anonymous volume è stato creato\n",
    "!docker volume ls"
   ]
  },
  {
   "cell_type": "code",
   "execution_count": 138,
   "metadata": {},
   "outputs": [
    {
     "name": "stdout",
     "output_type": "stream",
     "text": [
      "403f299df63fc9cdf8ab89c58f333702e8c8dd2496a85a9adbfe9f7bb538461f\r\n"
     ]
    }
   ],
   "source": [
    "!docker stop 403f299df63fc9cdf8ab89c58f333702e8c8dd2496a85a9adbfe9f7bb538461f"
   ]
  },
  {
   "cell_type": "code",
   "execution_count": 139,
   "metadata": {},
   "outputs": [
    {
     "name": "stdout",
     "output_type": "stream",
     "text": [
      "DRIVER              VOLUME NAME\r\n",
      "local               feedback\r\n",
      "local               named\r\n"
     ]
    }
   ],
   "source": [
    "!docker volume ls"
   ]
  },
  {
   "cell_type": "markdown",
   "metadata": {},
   "source": [
    "# Binding Mount"
   ]
  },
  {
   "cell_type": "code",
   "execution_count": null,
   "metadata": {},
   "outputs": [],
   "source": [
    "!docker run --name volumes-deep -p 8080:80 -v \"global-path\":/app/feedback --rm -d docker-volumes-0:anonymous"
   ]
  },
  {
   "cell_type": "code",
   "execution_count": 140,
   "metadata": {},
   "outputs": [],
   "source": [
    "#Parleremo più nel dettaglio di questi container più avanti"
   ]
  },
  {
   "cell_type": "markdown",
   "metadata": {},
   "source": [
    "## Continuare con la parte di networking nel prossimo notebook"
   ]
  },
  {
   "cell_type": "code",
   "execution_count": null,
   "metadata": {},
   "outputs": [],
   "source": []
  }
 ],
 "metadata": {
  "kernelspec": {
   "display_name": "Python 2",
   "language": "python",
   "name": "python2"
  },
  "language_info": {
   "codemirror_mode": {
    "name": "ipython",
    "version": 2
   },
   "file_extension": ".py",
   "mimetype": "text/x-python",
   "name": "python",
   "nbconvert_exporter": "python",
   "pygments_lexer": "ipython2",
   "version": "2.7.14"
  }
 },
 "nbformat": 4,
 "nbformat_minor": 2
}
