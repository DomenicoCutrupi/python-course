{
 "cells": [
  {
   "cell_type": "markdown",
   "metadata": {},
   "source": [
    "# Ansible Galaxy\n",
    "\n",
    "Is a role repository to get and distribute ansible roles.\n",
    "\n",
    "To use galaxy, you should push your code to github and link each github role repo to your galaxy account.\n",
    "\n",
    "## Demo\n",
    "\n",
    "Show a demo with a real galaxy account.\n",
    "\n",
    "Roles are scoped with github username."
   ]
  },
  {
   "cell_type": "markdown",
   "metadata": {},
   "source": [
    "## Installing roles\n",
    "\n",
    "Just run the following command to install a very simple role.\n",
    "\n",
    "Though simple, there are still some files."
   ]
  },
  {
   "cell_type": "code",
   "execution_count": null,
   "metadata": {},
   "outputs": [],
   "source": [
    "!ansible-galaxy install ioggstream.debug"
   ]
  },
  {
   "cell_type": "markdown",
   "metadata": {},
   "source": [
    "The role have been downloaded to `roles_path` or ANSIBLE_ROLES_PATH.\n",
    "\n",
    "You can inspect it "
   ]
  },
  {
   "cell_type": "code",
   "execution_count": null,
   "metadata": {},
   "outputs": [],
   "source": [
    "!tree /root/.ansible/roles/ioggstream.debug\n",
    "!cat /root/.ansible/roles/ioggstream.debug/tasks/main.yml\n"
   ]
  },
  {
   "cell_type": "markdown",
   "metadata": {},
   "source": [
    "To apply this role to our hosts, use this playbook\n",
    "\n",
    "```\n",
    "- hosts: web\n",
    "  roles:\n",
    "  - role: ioggstream.debug\n",
    "```"
   ]
  },
  {
   "cell_type": "markdown",
   "metadata": {},
   "source": [
    "#### Exercise\n",
    "\n",
    "Apply this role to our web hosts."
   ]
  },
  {
   "cell_type": "markdown",
   "metadata": {},
   "source": [
    "to install multiple roles, write down a requirements.yml (don't confuse it with python's requirements.txt)\n",
    "\n",
    "requirements.yml can retrieve roles from galaxy, http or git repositories [from the doc](http://docs.ansible.com/ansible/latest/galaxy.html#id6)\n",
    "\n",
    "```\n",
    "# from galaxy\n",
    "- src: yatesr.timezone\n",
    "\n",
    "# from GitHub\n",
    "- src: https://github.com/bennojoy/nginx\n",
    "\n",
    "# from a webserver, where the role is packaged in a tar.gz\n",
    "- src: https://some.webserver.example.com/files/master.tar.gz\n",
    "  name: http-role\n",
    "\n",
    "# from GitLab or other git-based scm\n",
    "- src: git@gitlab.company.com:mygroup/ansible-base.git\n",
    "  scm: git\n",
    "  version: \"0.1\"  # quoted, so YAML doesn't parse this as a floating-point value\n",
    "`\n",
    "\n",
    "```"
   ]
  },
  {
   "cell_type": "markdown",
   "metadata": {},
   "source": []
  },
  {
   "cell_type": "code",
   "execution_count": null,
   "metadata": {},
   "outputs": [],
   "source": []
  }
 ],
 "metadata": {
  "kernelspec": {
   "display_name": "Python 2",
   "language": "python",
   "name": "python2"
  },
  "language_info": {
   "codemirror_mode": {
    "name": "ipython",
    "version": 2
   },
   "file_extension": ".py",
   "mimetype": "text/x-python",
   "name": "python",
   "nbconvert_exporter": "python",
   "pygments_lexer": "ipython2",
   "version": "2.7.13"
  }
 },
 "nbformat": 4,
 "nbformat_minor": 2
}
