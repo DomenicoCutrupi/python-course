{
 "cells": [
  {
   "cell_type": "markdown",
   "metadata": {},
   "source": [
    "# A new path: /echo\n",
    "\n",
    "Now we're going to write a new path: `/echo`.\n",
    "\n",
    "Our goal is the following:\n",
    "\n",
    "- when invoking `/datetime/v1/echo` the API will return \n",
    "  the current datetime;\n",
    "- the response is enveloped in the following example json object:\n",
    "\n",
    "```\n",
    "{ \"timestamp\": \"2019-12-25T00:00:00Z\" }\n",
    "```\n",
    "\n",
    "- the status code for a successful response is `200`"
   ]
  },
  {
   "cell_type": "markdown",
   "metadata": {},
   "source": [
    "### Exercise: write /echo specs\n",
    "\n",
    "Edit the [ex-04-02-echo-ok.yaml](/edit/notebooks/oas3/ex-04-02-echo.yaml) and write the `echo` specifications:\n",
    "\n",
    "1- define the new `Datetime` schema to be used in the response;\n",
    "\n",
    "2- define the new `/echo` path supporting the `get` method and:\n",
    "\n",
    "  * always write proper `summary` and `description` fields\n",
    "  \n",
    "3- `get /echo` possible responses are:\n",
    "\n",
    "  * `200` returning a `Datetime` in json format, with a complete `example` for mocks\n",
    "  * `503` returning a `problem+json`\n",
    "  \n",
    "\n",
    "4- don't forget `operationId` !\n",
    "\n",
    "Hint: feel free to reuse as much yaml code as possible."
   ]
  },
  {
   "cell_type": "markdown",
   "metadata": {},
   "source": [
    "### Exercise: test /echo mocks\n",
    "\n",
    "Run your spec [in the terminal](/terminals/1) and check that it properly returns the mock objects.\n",
    "\n",
    "Use \n",
    "\n",
    "```\n",
    "connexion run --mock all /code/notebooks/oas3/ex-04-02-echo-ok.yaml\n",
    "```"
   ]
  },
  {
   "cell_type": "code",
   "execution_count": 1,
   "metadata": {},
   "outputs": [
    {
     "name": "stdout",
     "output_type": "stream",
     "text": [
      "*   Trying 127.0.0.1...\r\n",
      "* TCP_NODELAY set\r\n",
      "* Connected to localhost (127.0.0.1) port 5000 (#0)\r\n",
      "> GET /datetime/v1/echo HTTP/1.1\r",
      "\r\n",
      "> Host: localhost:5000\r",
      "\r\n",
      "> User-Agent: curl/7.52.1\r",
      "\r\n",
      "> Accept: */*\r",
      "\r\n",
      "> \r",
      "\r\n",
      "* HTTP 1.0, assume close after body\r\n",
      "< HTTP/1.0 404 NOT FOUND\r",
      "\r\n",
      "< Content-Type: application/problem+json\r",
      "\r\n",
      "< Content-Length: 205\r",
      "\r\n",
      "< Server: Werkzeug/0.15.4 Python/3.6.6\r",
      "\r\n",
      "< Date: Fri, 05 Jul 2019 08:41:28 GMT\r",
      "\r\n",
      "< \r",
      "\r\n",
      "{\r\n",
      "  \"detail\": \"The requested URL was not found on the server. If you entered the URL manually please check your spelling and try again.\",\r\n",
      "  \"status\": 404,\r\n",
      "  \"title\": \"Not Found\",\r\n",
      "  \"type\": \"about:blank\"\r\n",
      "}\r\n",
      "* Curl_http_done: called premature == 0\r\n",
      "* Closing connection 0\r\n"
     ]
    }
   ],
   "source": [
    "# Use this cell to test the output\n",
    "!curl http://localhost:5000/datetime/v1/echo -vk"
   ]
  },
  {
   "cell_type": "markdown",
   "metadata": {},
   "source": [
    "## Request parameters\n",
    "\n",
    "OAS3 allows to specify parameters both in `path`, `query` and  `headers`.\n",
    "\n",
    "Interoperable APIs should follow simple rules when using parameters:\n",
    "\n",
    "- define parameter conventions for common patterns, eg: limit, offset;\n",
    "- use standard HTTP headers when possible.\n",
    "\n",
    "As many APIs implement pagination, it's a good think to converge to a common\n",
    "set of parameters to use. Our choice is:\n",
    "\n",
    "- limit: max number of entries to retrieve\n",
    "- offset: the number of entries to skip in a paginated request\n",
    "- cursor: an identifier (cursor) of the first entry to be returned  \n",
    "  [Slack APIs provide an example of cursor-based pagination](https://api.slack.com/docs/pagination)"
   ]
  },
  {
   "cell_type": "markdown",
   "metadata": {
    "solution": "hidden"
   },
   "source": [
    "## Adding request parameters to `/echo`\n",
    "\n",
    "`Query` and `header` request parameters can be defined in \n",
    "\n",
    "```\n",
    "components:\n",
    "  parameters:\n",
    "    a_sample_parameter:\n",
    "      ...\n",
    "```"
   ]
  },
  {
   "cell_type": "code",
   "execution_count": 2,
   "metadata": {
    "solution": "hidden"
   },
   "outputs": [
    {
     "name": "stdout",
     "output_type": "stream",
     "text": [
      "description: How many items to return at one time (max 100)\n",
      "in: query\n",
      "name: limit\n",
      "schema:\n",
      "  format: int32\n",
      "  type: integer\n",
      "\n"
     ]
    }
   ],
   "source": [
    "# Here's the `limit` parameter definition, including\n",
    "# - it's a `query` parameter\n",
    "# - its name\n",
    "# - its schema\n",
    "print(show_component('https://teamdigitale.github.io/openapi/0.0.5/definitions.yaml#/parameters/limit'))"
   ]
  },
  {
   "cell_type": "markdown",
   "metadata": {},
   "source": [
    "### Exercise: adding parameters to `/echo`\n",
    "\n",
    "Let's add a `tz` parameter to `/echo`:\n",
    "\n",
    "- create a `#/components/schemas/Timezone` schema definition. Valid example values are:\n",
    "\n",
    "  * 'Europe/Rome'\n",
    "  * 'UTC' (default)\n",
    "  * 'Asia/Calcutta'\n",
    "  \n",
    "- create a `#/components/parameters/tz` parameter definition;\n",
    "- add the `tz` query parameter to `get /echo` path checking\n",
    "  the [official OAS 3.0.2 documentation](https://github.com/OAI/OpenAPI-Specification/blob/master/versions/3.0.2.md#examples)\n",
    "- add a `400 Bad Request` response in case the timezone is not in the list\n",
    "\n",
    "Finally, check that you can run the spec.\n",
    "\n",
    "```\n",
    "connexion run --mock all /code/notebooks/oas3/ex-04-02-echo-ok.yaml\n",
    "```"
   ]
  },
  {
   "cell_type": "code",
   "execution_count": 3,
   "metadata": {},
   "outputs": [],
   "source": [
    "# Use this cell to test your api"
   ]
  },
  {
   "cell_type": "markdown",
   "metadata": {},
   "source": [
    "### Implement get_echo\n",
    "\n",
    "Let's implement the `get_echo` in [api.py](/edit/notebooks/oas3/api.py) function that:\n",
    "\n",
    "- takes the `tz` parameter, which defaults to `UTC`;\n",
    "- returns a `Datetime` object in its current timezone."
   ]
  },
  {
   "cell_type": "code",
   "execution_count": 4,
   "metadata": {},
   "outputs": [
    {
     "name": "stdout",
     "output_type": "stream",
     "text": [
      "Requirement already satisfied: pytz in /usr/local/lib/python3.6/site-packages (2019.1)\r\n"
     ]
    }
   ],
   "source": [
    "# hint: get the timezone from \n",
    "!pip install pytz"
   ]
  },
  {
   "cell_type": "code",
   "execution_count": 12,
   "metadata": {},
   "outputs": [
    {
     "name": "stdout",
     "output_type": "stream",
     "text": [
      "Europe/Rome\n"
     ]
    }
   ],
   "source": [
    "import pytz \n",
    "tz = pytz.timezone('Europe/Rome')\n",
    "print(tz.zone)"
   ]
  },
  {
   "cell_type": "code",
   "execution_count": null,
   "metadata": {
    "solution": "shown"
   },
   "outputs": [],
   "source": [
    "# No timezones in Neverland :)\n",
    "'Neverland' in pytz.all_timezones"
   ]
  },
  {
   "cell_type": "code",
   "execution_count": null,
   "metadata": {
    "solution": "hidden",
    "solution_first": true
   },
   "outputs": [],
   "source": [
    "### Exercise solution"
   ]
  },
  {
   "cell_type": "code",
   "execution_count": null,
   "metadata": {
    "code_folding": [],
    "solution": "hidden"
   },
   "outputs": [],
   "source": [
    "def get_echo(tz='UTC'):\n",
    "    if tz not in pytz.all_timezones:\n",
    "        return problem(\n",
    "            status=400,\n",
    "            title=\"Bad Timezone\",\n",
    "            detail=\"The specified timezone is not valid\",\n",
    "            ext={\"valid_timezones\": pytz.all_timezones}\n",
    "        )\n",
    "    d = datetime.now(tz=pytz.timezone(tz))\n",
    "    return {\"timestamp\": d.isoformat().replace('+00:00', 'Z')}\n",
    "    "
   ]
  },
  {
   "cell_type": "markdown",
   "metadata": {},
   "source": [
    "Now  [run the spec in a terminal](/terminals/1) using\n",
    "\n",
    "```\n",
    "cd /code/notebooks/oas3/\n",
    "connexion run /code/notebooks/oas3/ex-04-02-echo-ok.yaml\n",
    "```"
   ]
  },
  {
   "cell_type": "code",
   "execution_count": null,
   "metadata": {
    "hide_input": true
   },
   "outputs": [],
   "source": [
    "render_markdown(f'''\n",
    "play a bit with the [Swagger UI]({api_server_url('ui')})\n",
    "\n",
    "and try making a request!\n",
    "''')"
   ]
  },
  {
   "cell_type": "code",
   "execution_count": null,
   "metadata": {},
   "outputs": [],
   "source": [
    "## TODO do we have enough time to show flask_testing?\n",
    "\n",
    "# Check that default works\n",
    "!curl http://localhost:5000/datetime/v1/echo -kv"
   ]
  },
  {
   "cell_type": "code",
   "execution_count": 14,
   "metadata": {},
   "outputs": [
    {
     "name": "stdout",
     "output_type": "stream",
     "text": [
      "*   Trying 127.0.0.1...\r\n",
      "* TCP_NODELAY set\r\n",
      "* Connected to localhost (127.0.0.1) port 5000 (#0)\r\n",
      "> GET /datetime/v1/echo?tz=Europe/Rome HTTP/1.1\r",
      "\r\n",
      "> Host: localhost:5000\r",
      "\r\n",
      "> User-Agent: curl/7.52.1\r",
      "\r\n",
      "> Accept: */*\r",
      "\r\n",
      "> \r",
      "\r\n",
      "* HTTP 1.0, assume close after body\r\n",
      "< HTTP/1.0 404 NOT FOUND\r",
      "\r\n",
      "< Content-Type: application/problem+json\r",
      "\r\n",
      "< Content-Length: 205\r",
      "\r\n",
      "< Server: Werkzeug/0.15.4 Python/3.6.6\r",
      "\r\n",
      "< Date: Fri, 05 Jul 2019 08:49:34 GMT\r",
      "\r\n",
      "< \r",
      "\r\n",
      "{\r\n",
      "  \"detail\": \"The requested URL was not found on the server. If you entered the URL manually please check your spelling and try again.\",\r\n",
      "  \"status\": 404,\r\n",
      "  \"title\": \"Not Found\",\r\n",
      "  \"type\": \"about:blank\"\r\n",
      "}\r\n",
      "* Curl_http_done: called premature == 0\r\n",
      "* Closing connection 0\r\n"
     ]
    }
   ],
   "source": [
    "# Test a valid timezone\n",
    "!curl http://localhost:5000/datetime/v1/echo?tz=Europe/Rome -kv"
   ]
  },
  {
   "cell_type": "code",
   "execution_count": 16,
   "metadata": {
    "solution": "hidden"
   },
   "outputs": [
    {
     "name": "stdout",
     "output_type": "stream",
     "text": [
      "*   Trying 127.0.0.1...\r\n",
      "* TCP_NODELAY set\r\n",
      "* Connected to localhost (127.0.0.1) port 5000 (#0)\r\n",
      "> GET /datetime/v1/echo?tz=Frittole HTTP/1.1\r",
      "\r\n",
      "> Host: localhost:5000\r",
      "\r\n",
      "> User-Agent: curl/7.52.1\r",
      "\r\n",
      "> Accept: */*\r",
      "\r\n",
      "> \r",
      "\r\n",
      "* HTTP 1.0, assume close after body\r\n",
      "< HTTP/1.0 500 INTERNAL SERVER ERROR\r",
      "\r\n",
      "< Content-Type: application/problem+json\r",
      "\r\n",
      "< Content-Length: 251\r",
      "\r\n",
      "< Server: Werkzeug/0.15.4 Python/3.6.6\r",
      "\r\n",
      "< Date: Fri, 05 Jul 2019 08:50:21 GMT\r",
      "\r\n",
      "< \r",
      "\r\n",
      "{\r\n",
      "  \"detail\": \"The server encountered an internal error and was unable to complete your request. Either the server is overloaded or there is an error in the application.\",\r\n",
      "  \"status\": 500,\r\n",
      "  \"title\": \"Internal Server Error\",\r\n",
      "  \"type\": \"about:blank\"\r\n",
      "}\r\n",
      "* Curl_http_done: called premature == 0\r\n",
      "* Closing connection 0\r\n"
     ]
    }
   ],
   "source": [
    "# Test an invalid timezone\n",
    "!curl http://localhost:5000/datetime/v1/echo?tz=Frittole -kv"
   ]
  },
  {
   "cell_type": "code",
   "execution_count": null,
   "metadata": {},
   "outputs": [],
   "source": []
  }
 ],
 "metadata": {
  "kernelspec": {
   "display_name": "Python 3",
   "language": "python",
   "name": "python3"
  },
  "language_info": {
   "codemirror_mode": {
    "name": "ipython",
    "version": 3
   },
   "file_extension": ".py",
   "mimetype": "text/x-python",
   "name": "python",
   "nbconvert_exporter": "python",
   "pygments_lexer": "ipython3",
   "version": "3.6.6"
  }
 },
 "nbformat": 4,
 "nbformat_minor": 2
}
