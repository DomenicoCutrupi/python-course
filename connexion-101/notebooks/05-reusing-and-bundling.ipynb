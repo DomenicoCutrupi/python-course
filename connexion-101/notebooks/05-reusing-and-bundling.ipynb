{
 "cells": [
  {
   "cell_type": "markdown",
   "metadata": {},
   "source": [
    "# Reusing and bundling\n",
    "\n",
    "To standardize our environment, we follow this road:\n",
    "\n",
    "- define reusable and versioned components (eg on github)\n",
    "- `$ref`erence reusable components\n",
    "- eventualy create bundles (ewg. ith `openapi_resolver`)\n"
   ]
  },
  {
   "cell_type": "markdown",
   "metadata": {},
   "source": [
    "### Exercise: replacing definitions with $refs\n",
    "\n",
    "Starting from a complete file [ex-05-01-bundle.yaml](ex-05-01-bundle.yaml)\n",
    "replace as many definitions as possible with references from the shared  [definitions.yaml](https://teamdigitale.github.io/openapi/0.0.5/definitions.yaml).\n",
    "\n"
   ]
  },
  {
   "cell_type": "code",
   "execution_count": 1,
   "metadata": {},
   "outputs": [
    {
     "name": "stdout",
     "output_type": "stream",
     "text": [
      "Collecting openapi_resolver\n",
      "  Downloading https://files.pythonhosted.org/packages/ce/d2/46b481cb01e33a8c22a3a9e795b928c57ed449cfc7ba6df4b7c793e0c057/openapi_resolver-0.0.5.tar.gz\n",
      "Requirement already satisfied: pyyaml in /usr/local/lib/python3.6/site-packages (from openapi_resolver) (5.1.1)\n",
      "Requirement already satisfied: six in /usr/local/lib/python3.6/site-packages (from openapi_resolver) (1.12.0)\n",
      "Collecting pathlib (from openapi_resolver)\n",
      "\u001b[?25l  Downloading https://files.pythonhosted.org/packages/ac/aa/9b065a76b9af472437a0059f77e8f962fe350438b927cb80184c32f075eb/pathlib-1.0.1.tar.gz (49kB)\n",
      "\u001b[K     |████████████████████████████████| 51kB 1.1MB/s eta 0:00:01\n",
      "\u001b[?25hBuilding wheels for collected packages: openapi-resolver, pathlib\n",
      "  Building wheel for openapi-resolver (setup.py) ... \u001b[?25ldone\n",
      "\u001b[?25h  Stored in directory: /root/.cache/pip/wheels/20/84/09/8338c1e5497d0ba36029ff2936afbf537b47b1bed7f8984196\n",
      "  Building wheel for pathlib (setup.py) ... \u001b[?25ldone\n",
      "\u001b[?25h  Stored in directory: /root/.cache/pip/wheels/f9/b2/4a/68efdfe5093638a9918bd1bb734af625526e849487200aa171\n",
      "Successfully built openapi-resolver pathlib\n",
      "Installing collected packages: pathlib, openapi-resolver\n",
      "Successfully installed openapi-resolver-0.0.5 pathlib-1.0.1\n"
     ]
    }
   ],
   "source": [
    "# Exercise: creating a bundle from a $ref file\n",
    "# \n",
    "# You can resolve dependencies and create a bundle file with\n",
    "!pip install openapi_resolver\n"
   ]
  },
  {
   "cell_type": "code",
   "execution_count": 3,
   "metadata": {},
   "outputs": [
    {
     "name": "stdout",
     "output_type": "stream",
     "text": [
      "openapi: 3.0.0\r\n",
      "info:\r\n",
      "  title: foo\r\n",
      "  version: '0.1'\r\n",
      "servers:\r\n",
      "- description: Development server\r\n",
      "  url: https://localhost:8443/datetime/v1\r\n",
      "- description: Test server\r\n",
      "  url: https://api.example.com/datetime/v1\r\n",
      "  x-healthCheck:\r\n",
      "    interval: 300\r\n",
      "    timeout: 15\r\n",
      "    url: https://api.example.com/datetime/v1/status\r\n",
      "  x-sandbox: true\r\n",
      "paths:\r\n",
      "  /status:\r\n",
      "    get:\r\n",
      "      description: |\r\n",
      "        Ritorna lo stato dell'applicazione. A scopo\r\n",
      "        di test, su base randomica puo' ritornare\r\n",
      "        un errore.\r\n",
      "      operationId: api.get_status\r\n",
      "      responses:\r\n",
      "        '200':\r\n",
      "          content:\r\n",
      "            application/problem+json:\r\n",
      "              example:\r\n",
      "                detail: The app is running smoothly.\r\n",
      "                status: 200\r\n",
      "                title: OK\r\n",
      "              schema:\r\n",
      "                $ref: '#/components/schemas/Problem'\r\n",
      "          description: |\r\n",
      "            Il server ha ritornato lo status. In caso di problemi\r\n",
      "            ritorna sempre un problem+json.\r\n",
      "        '503':\r\n",
      "          $ref: '#/components/responses/503ServiceUnavailable'\r\n",
      "      summary: Ritorna lo stato dell'applicazione.\r\n",
      "components:\r\n",
      "  headers:\r\n",
      "    Retry-After:\r\n",
      "      description: |-\r\n",
      "        Retry contacting the endpoint *at least* after seconds.\r\n",
      "        See https://tools.ietf.org/html/rfc7231#section-7.1.3\r\n",
      "      schema:\r\n",
      "        format: int32\r\n",
      "        type: integer\r\n",
      "  responses:\r\n",
      "    503ServiceUnavailable:\r\n",
      "      content:\r\n",
      "        application/problem+json:\r\n",
      "          schema:\r\n",
      "            $ref: '#/components/schemas/Problem'\r\n",
      "      description: Service Unavailable\r\n",
      "      headers:\r\n",
      "        Retry-After:\r\n",
      "          $ref: '#/components/headers/Retry-After'\r\n",
      "  schemas:\r\n",
      "    Problem:\r\n",
      "      properties:\r\n",
      "        detail:\r\n",
      "          description: |\r\n",
      "            A human readable explanation specific to this occurrence of the\r\n",
      "            problem. You MUST NOT expose internal informations, personal\r\n",
      "            data or implementation details through this field.\r\n",
      "          example: Request took too long to complete.\r\n",
      "          type: string\r\n",
      "        instance:\r\n",
      "          description: |\r\n",
      "            An absolute URI that identifies the specific occurrence of the problem.\r\n",
      "            It may or may not yield further information if dereferenced.\r\n",
      "          format: uri\r\n",
      "          type: string\r\n",
      "        status:\r\n",
      "          description: |\r\n",
      "            The HTTP status code generated by the origin server for this occurrence\r\n",
      "            of the problem.\r\n",
      "          example: 503\r\n",
      "          exclusiveMaximum: true\r\n",
      "          format: int32\r\n",
      "          maximum: 600\r\n",
      "          minimum: 100\r\n",
      "          type: integer\r\n",
      "        title:\r\n",
      "          description: |\r\n",
      "            A short, summary of the problem type. Written in english and readable\r\n",
      "            for engineers (usually not suited for non technical stakeholders and\r\n",
      "            not localized); example: Service Unavailable\r\n",
      "          type: string\r\n",
      "        type:\r\n",
      "          default: about:blank\r\n",
      "          description: |\r\n",
      "            An absolute URI that identifies the problem type.  When dereferenced,\r\n",
      "            it SHOULD provide human-readable documentation for the problem type\r\n",
      "            (e.g., using HTML).\r\n",
      "          example: https://tools.ietf.org/html/rfc7231#section-6.6.4\r\n",
      "          format: uri\r\n",
      "          type: string\r\n",
      "      type: object\r\n"
     ]
    }
   ],
   "source": [
    "# Exercise: create a bundle from the previous file with\n",
    "!python -m openapi_resolver /code/notebooks/oas3/ex-05-01-bundle.yaml"
   ]
  },
  {
   "cell_type": "markdown",
   "metadata": {},
   "source": [
    "### YAML anchors are your friends\n",
    "\n",
    "YAML has a very nice feature, named **anchors**. They allows to define and reference\n",
    "given portions of a YAML file.\n",
    "\n",
    "```\n",
    "# the following &anchor stores the `foo` value \n",
    "a: &this_is_an_anchor foo\n",
    "\n",
    "# *star dereferences the anchor\n",
    "b: *this_is_an_anchor\n",
    "\n",
    "```\n",
    "\n",
    "See [anchors.yaml](/edit/notebooks/anchors.yaml)"
   ]
  },
  {
   "cell_type": "code",
   "execution_count": 12,
   "metadata": {},
   "outputs": [
    {
     "name": "stdout",
     "output_type": "stream",
     "text": [
      "#\n",
      "# YAML examples from https://learnxinyminutes.com/docs/yaml/\n",
      "#\n",
      "\n",
      "anchored_content: &anchor_name This string will appear as the value of two keys.\n",
      "other_anchor: *anchor_name\n",
      "\n",
      "# Anchors can be used to duplicate/inherit properties\n",
      "base: &base\n",
      "  name: Everyone has same name\n",
      "\n",
      "# The regexp << is called Merge Key Language-Independent Type. It is used to\n",
      "# indicate that all the keys of one or more specified maps should be inserted\n",
      "# into the current map.\n",
      "\n",
      "foo: &foo\n",
      "  <<: *base\n",
      "  age: 10\n",
      "\n",
      "bar: &bar\n",
      "  <<: *base\n",
      "  age: 20\n",
      "\n",
      "\n"
     ]
    }
   ],
   "source": [
    "#  Check yaml file content.\n",
    "from pathlib import Path\n",
    "\n",
    "content = Path('anchors.yaml').read_text()\n",
    "\n",
    "print(content)"
   ]
  },
  {
   "cell_type": "code",
   "execution_count": 20,
   "metadata": {},
   "outputs": [
    {
     "name": "stdout",
     "output_type": "stream",
     "text": [
      "{'name': 'Everyone has same name', 'age': 10}\n",
      "{'name': 'Everyone has same name', 'age': 20}\n"
     ]
    }
   ],
   "source": [
    "ret = yaml.safe_load(content)\n",
    "\n",
    "assert ret['anchored_content'], ret['other_anchor']\n",
    "\n",
    "print(ret['foo'])\n",
    "print(ret['bar'])"
   ]
  },
  {
   "cell_type": "markdown",
   "metadata": {},
   "source": [
    "### Using YAML anchors in OAS3\n",
    "\n",
    "As every operation may have a set of predefined response, namely:\n",
    "\n",
    "- 503 Service Unavailable\n",
    "- 429 Too Many Requests\n",
    "\n",
    "You can put them in an `x-` custom parameter.which will be ignored by the OAS spec parser. \n",
    "\n",
    "```\n",
    "x-common-responses: &common-responses\n",
    "  503ServiceUnavailable:\n",
    "    $ref: ... \n",
    "  429TooManyRequests:\n",
    "    $ref: ...\n",
    "\n",
    "```\n",
    "\n",
    "Then use the anchor to reference them.\n",
    "\n",
    "```\n",
    "paths:\n",
    "  /status:\n",
    "    get:\n",
    "      ...\n",
    "      responses:\n",
    "        # Add the anchored responses\n",
    "        <<: *common-responses\n",
    "        \n",
    "        # And now the other ones.\n",
    "        '200':\n",
    "          ...\n",
    "```"
   ]
  },
  {
   "cell_type": "markdown",
   "metadata": {
    "solution": "hidden"
   },
   "source": [
    "## NOTE: ANCHORS ARE PROCESSED BY THE YAML PARSER, NOT BY OAS\n",
    "## OAS knows nothing about ANCHORS"
   ]
  }
 ],
 "metadata": {
  "kernelspec": {
   "display_name": "Python 3",
   "language": "python",
   "name": "python3"
  },
  "language_info": {
   "codemirror_mode": {
    "name": "ipython",
    "version": 3
   },
   "file_extension": ".py",
   "mimetype": "text/x-python",
   "name": "python",
   "nbconvert_exporter": "python",
   "pygments_lexer": "ipython3",
   "version": "3.6.6"
  }
 },
 "nbformat": 4,
 "nbformat_minor": 2
}
