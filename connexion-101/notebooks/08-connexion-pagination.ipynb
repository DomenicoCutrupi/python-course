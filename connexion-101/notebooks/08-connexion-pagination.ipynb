{
 "cells": [
  {
   "cell_type": "markdown",
   "metadata": {},
   "source": [
    "# Pagination and encapsulation:\n",
    "\n",
    "In our standardization policy, we defined a common set of pagination parameters.\n",
    "\n",
    "Moreover we stated that responses should always be enclosed in json objects, eg:\n",
    "\n",
    "* always return something that is extensible like \n",
    "\n",
    "```\n",
    "GET /timezones\n",
    "\n",
    "{ \n",
    " \"entries\": [ \"you\", \"can\", \"always\", \"add\", \"new\", \"keys\" ]\n",
    "}\n",
    "\n",
    "```\n",
    "\n",
    "* don't return `string`, `number` or `array`, because \n",
    "\n",
    "```\n",
    "GET /dont-do-this\n",
    "\n",
    "[ \"you can't\", \"extend them\"]\n",
    "```\n",
    "\n",
    "\n",
    "## Support pagination in `get /timezones`\n",
    "\n",
    "We want to provide a `/timezones` path listing all the timezones supported \n",
    "by `get /echo`\n",
    "\n",
    "Our goal is the following:\n",
    "\n",
    "- when invoking `/datetime/v1/timezones` the API will return \n",
    "  the supported timezones in `pytz.all_timezones`;\n",
    "- to limit resource consumption the server will return:\n",
    "   * by default 5 entries \n",
    "   * at most 10 entries\n",
    "- the response is enveloped in the following example json object:\n",
    "\n",
    "```\n",
    "{ \n",
    "  \"entries\": [ \"Europe/Rome\", \"UTC\", .. ],\n",
    "  \"count\": 5,\n",
    "  \"offset\": 10\n",
    "}\n",
    "```\n",
    "\n",
    "- the status code for a successful response is `200`\n",
    "\n",
    "Remember: pagination should be implemented using a common\n",
    "set of parameters to use. Our choice is:\n",
    "\n",
    "- limit: max number of entries to retrieve\n",
    "- offset: the number of entries to skip in a paginated request\n",
    "- cursor: an identifier (cursor) of the first entry to be returned  \n",
    "  [Slack APIs provide an example of cursor-based pagination](https://api.slack.com/docs/pagination)"
   ]
  },
  {
   "cell_type": "markdown",
   "metadata": {},
   "source": [
    "### Exercise: write /timezone specs\n",
    "\n",
    "Edit the [ex-08-pagination-ok.yaml](/edit/notebooks/oas3/ex-08-pagination-ok.yaml) and write the `timezones` specifications:\n",
    "\n",
    "1- define the new `Timezones` schema to be used in the response;\n",
    "\n",
    "2- define the new `/timezones` path supporting the `get` method:\n",
    "\n",
    "  * always write proper `summary` and `description` fields\n",
    "  \n",
    "3- `get /timezones` possible responses are:\n",
    "\n",
    "  * `200` returning a `Timezones` in json format, with a complete `example` for mocks\n",
    "  * `429` and `503` returning a `problem+json`\n",
    "\n",
    "4- this operation is not authenticated\n",
    "  \n",
    "5- don't forget `operationId: get_timezones` !\n",
    "\n",
    "Hint: feel free to reuse as much yaml code as possible."
   ]
  },
  {
   "cell_type": "markdown",
   "metadata": {},
   "source": [
    "### Exercise: test /timezones mocks\n",
    "\n",
    "Run your spec [in the terminal](/terminals/1) and check that it properly returns the mock objects.\n",
    "\n",
    "Use \n",
    "\n",
    "```\n",
    "connexion run --mock all /code/notebooks/oas3/ex-08-pagination-ok.yaml\n",
    "```"
   ]
  },
  {
   "cell_type": "code",
   "execution_count": 3,
   "metadata": {},
   "outputs": [
    {
     "name": "stdout",
     "output_type": "stream",
     "text": [
      "*   Trying 127.0.0.1...\r\n",
      "* TCP_NODELAY set\r\n",
      "* Connected to localhost (127.0.0.1) port 5000 (#0)\r\n",
      "> GET /datetime/v1/timezones HTTP/1.1\r",
      "\r\n",
      "> Host: localhost:5000\r",
      "\r\n",
      "> User-Agent: curl/7.52.1\r",
      "\r\n",
      "> Accept: */*\r",
      "\r\n",
      "> \r",
      "\r\n",
      "* HTTP 1.0, assume close after body\r\n",
      "< HTTP/1.0 200 OK\r",
      "\r\n",
      "< Content-Type: application/json\r",
      "\r\n",
      "< Content-Length: 117\r",
      "\r\n",
      "< Server: Werkzeug/0.15.4 Python/3.6.6\r",
      "\r\n",
      "< Date: Fri, 05 Jul 2019 12:47:47 GMT\r",
      "\r\n",
      "< \r",
      "\r\n",
      "{\r\n",
      "  \"count\": 3,\r\n",
      "  \"entries\": [\r\n",
      "    \"Europe/Rome\",\r\n",
      "    \"Asia/Calcutta\",\r\n",
      "    \"UTC\"\r\n",
      "  ],\r\n",
      "  \"limit\": 3,\r\n",
      "  \"offset\": 10\r\n",
      "}\r\n",
      "* Curl_http_done: called premature == 0\r\n",
      "* Closing connection 0\r\n"
     ]
    }
   ],
   "source": [
    "# Use this cell to test the output\n",
    "!curl http://localhost:5000/datetime/v1/timezones -vk"
   ]
  },
  {
   "cell_type": "markdown",
   "metadata": {},
   "source": [
    "## Path parameters\n",
    "\n",
    "OAS3 allows to specify `path` parameters:\n",
    "\n",
    " - in the path, with braces eg. `{continent}`\n",
    " - in `parameters` with the remaining details.\n",
    " \n",
    " \n",
    " **REMEMBER: path parameters are always required so you must define a new path\n",
    "   and a new operationId: get_timezones_by_continent**\n",
    " \n",
    " \n",
    "```\n",
    "paths: \n",
    "  /timezones/{continent}:\n",
    "    get:\n",
    "      ...\n",
    "      parameters:\n",
    "      - name: continent\n",
    "        in: path\n",
    "        required: true\n",
    "        schema:\n",
    "          type: string\n",
    "  /timezones:\n",
    "    ...\n",
    "    definition without path-parameters\n",
    "    ...\n",
    "```\n",
    "\n"
   ]
  },
  {
   "cell_type": "markdown",
   "metadata": {
    "solution": "hidden"
   },
   "source": [
    "### Exercise: adding `path` parameter to `/timezones`\n",
    "\n",
    "Let's add a `continent` path parameter to `/timezones`:\n",
    " \n",
    "- create a `#/components/parameters/continent_path` parameter definition;\n",
    "- add the `continent_path` query parameter to `get /timezones/{continent}` path checking\n",
    "  the [official OAS 3.0.2 documentation](https://github.com/OAI/OpenAPI-Specification/blob/master/versions/3.0.2.md#examples)\n",
    "- add a `404 Not Found` response in case the continent is not present\n",
    "\n",
    "Finally, check that you can run the spec.\n",
    "\n",
    "```\n",
    "connexion run --mock all /code/notebooks/oas3/ex-08-pagination-ok.yaml\n",
    "```"
   ]
  },
  {
   "cell_type": "code",
   "execution_count": 3,
   "metadata": {},
   "outputs": [],
   "source": [
    "# Use this cell to test your api"
   ]
  },
  {
   "cell_type": "markdown",
   "metadata": {},
   "source": [
    "### Exercise:  implement get_timezones operations\n",
    "\n",
    "Let's implement the `get_timezones` operation in [api.py](/edit/notebooks/oas3/api.py) such that:\n",
    "\n",
    "- is throttled\n",
    "- takes the `limit` and `offset` parameters;\n",
    "- returns a `Timezones` object containing all the timezones in pytz.all_timezones between offset and offset+limit "
   ]
  },
  {
   "cell_type": "code",
   "execution_count": null,
   "metadata": {},
   "outputs": [],
   "source": [
    "# Check that default works\n",
    "!curl http://localhost:5000/datetime/v1/timezones -kv"
   ]
  },
  {
   "cell_type": "markdown",
   "metadata": {},
   "source": [
    "### Exercise:  implement get_timezones_by_continent operations\n",
    "\n",
    "Let's implement the `get_timezones_by_continent` operation in [api.py](/edit/notebooks/oas3/api.py) such that:\n",
    "\n",
    "- extends `get_timezones` behavior;\n",
    "- returns a `Timezones` object containing all the timezones in the given continent, eg:\n",
    "\n",
    "  * `Europe` -> ` [ \"Europe/London\", \"Europe/Rome\", ... ]`"
   ]
  },
  {
   "cell_type": "code",
   "execution_count": null,
   "metadata": {
    "solution": "hidden",
    "solution_first": true
   },
   "outputs": [],
   "source": [
    "### Exercise solution\n"
   ]
  },
  {
   "cell_type": "code",
   "execution_count": 14,
   "metadata": {
    "solution": "hidden"
   },
   "outputs": [
    {
     "name": "stdout",
     "output_type": "stream",
     "text": [
      "@throttle\r\n",
      "def get_timezones(limit=5, offset=0, continent=None):\r\n",
      "    entries = ALL_TIMEZONES\r\n",
      "\r\n",
      "    if continent is not None:\r\n",
      "        continent = str(continent).capitalize() + \"/\"\r\n",
      "        entries = [x for x in entries if x.startswith(continent)]\r\n",
      "\r\n",
      "    entries = entries[offset : offset + limit]\r\n",
      "    return {\r\n",
      "        \"limit\": limit,\r\n",
      "        \"offset\": offset,\r\n",
      "        \"entries\": entries,\r\n",
      "        \"count\": len(entries),\r\n",
      "    }\r\n",
      "\r\n",
      "\r\n",
      "@throttle\r\n",
      "def get_timezone(limit=5, offset=0, continent=None):\r\n",
      "    return get_timezones(limit, offset, continent)\r\n"
     ]
    }
   ],
   "source": [
    "!grep  '^def get_timezones' oas3/api.py -A20 -B1"
   ]
  },
  {
   "cell_type": "markdown",
   "metadata": {
    "solution": "hidden"
   },
   "source": [
    "Now  [run the spec in a terminal](/terminals/1) using\n",
    "\n",
    "```\n",
    "cd /code/notebooks/oas3/\n",
    "connexion run /code/notebooks/oas3/ex-08-pagination-ok.yaml\n",
    "```"
   ]
  },
  {
   "cell_type": "code",
   "execution_count": 6,
   "metadata": {
    "hide_input": true
   },
   "outputs": [
    {
     "data": {
      "text/markdown": [
       "\n",
       "Play a bit with the [Swagger UI](http://192.168.0.15:5000/ui)\n",
       "\n",
       "and try making a request!\n"
      ],
      "text/plain": [
       "<IPython.core.display.Markdown object>"
      ]
     },
     "metadata": {},
     "output_type": "display_data"
    }
   ],
   "source": [
    "render_markdown(f'''\n",
    "Play a bit with the [Swagger UI]({api_server_url('ui')})\n",
    "\n",
    "and try making a request!\n",
    "''')"
   ]
  },
  {
   "cell_type": "code",
   "execution_count": 22,
   "metadata": {
    "hide_input": false
   },
   "outputs": [
    {
     "name": "stdout",
     "output_type": "stream",
     "text": [
      "*   Trying 127.0.0.1...\n",
      "* TCP_NODELAY set\n",
      "* Connected to localhost (127.0.0.1) port 5000 (#0)\n",
      "> GET /datetime/v1/timezones?offset=800 HTTP/1.1\n",
      "> Host: localhost:5000\n",
      "> User-Agent: curl/7.52.1\n",
      "> Accept: */*\n",
      "> \n",
      "* HTTP 1.0, assume close after body\n",
      "< HTTP/1.0 200 OK\n",
      "< X-RateLimit-Limit: 10\n",
      "< X-RateLimit-Remaining: 10\n",
      "< X-RateLimit-Reset: 1\n",
      "< Content-Type: application/json\n",
      "< Content-Length: 65\n",
      "< Server: Werkzeug/0.15.4 Python/3.6.6\n",
      "< Date: Sat, 06 Jul 2019 15:01:18 GMT\n",
      "< \n",
      "{\n",
      "  \"count\": 0,\n",
      "  \"entries\": [],\n",
      "  \"limit\": 5,\n",
      "  \"offset\": 800\n",
      "}\n",
      "* Curl_http_done: called premature == 0\n",
      "* Closing connection 0\n",
      "*   Trying 127.0.0.1...\n",
      "* TCP_NODELAY set\n",
      "* Connected to localhost (127.0.0.1) port 5000 (#0)\n",
      "> GET /datetime/v1/timezones?offset=450&limit=2 HTTP/1.1\n",
      "> Host: localhost:5000\n",
      "> User-Agent: curl/7.52.1\n",
      "> Accept: */*\n",
      "> \n",
      "* HTTP 1.0, assume close after body\n",
      "< HTTP/1.0 200 OK\n",
      "< X-RateLimit-Limit: 10\n",
      "< X-RateLimit-Remaining: 9\n",
      "< X-RateLimit-Reset: 0\n",
      "< Content-Type: application/json\n",
      "< Content-Length: 113\n",
      "< Server: Werkzeug/0.15.4 Python/3.6.6\n",
      "< Date: Sat, 06 Jul 2019 15:01:19 GMT\n",
      "< \n",
      "{\n",
      "  \"count\": 2,\n",
      "  \"entries\": [\n",
      "    \"Europe/London\",\n",
      "    \"Europe/Luxembourg\"\n",
      "  ],\n",
      "  \"limit\": 2,\n",
      "  \"offset\": 450\n",
      "}\n",
      "* Curl_http_done: called premature == 0\n",
      "* Closing connection 0\n",
      "*   Trying 127.0.0.1...\n",
      "* TCP_NODELAY set\n",
      "* Connected to localhost (127.0.0.1) port 5000 (#0)\n",
      "> GET /datetime/v1/timezones/Europe?limit=2 HTTP/1.1\n",
      "> Host: localhost:5000\n",
      "> User-Agent: curl/7.52.1\n",
      "> Accept: */*\n",
      "> \n",
      "* HTTP 1.0, assume close after body\n",
      "< HTTP/1.0 200 OK\n",
      "< X-RateLimit-Limit: 10\n",
      "< X-RateLimit-Remaining: 8\n",
      "< X-RateLimit-Reset: 0\n",
      "< Content-Type: application/json\n",
      "< Content-Length: 111\n",
      "< Server: Werkzeug/0.15.4 Python/3.6.6\n",
      "< Date: Sat, 06 Jul 2019 15:01:19 GMT\n",
      "< \n",
      "{\n",
      "  \"count\": 2,\n",
      "  \"entries\": [\n",
      "    \"Europe/Amsterdam\",\n",
      "    \"Europe/Andorra\"\n",
      "  ],\n",
      "  \"limit\": 2,\n",
      "  \"offset\": 0\n",
      "}\n",
      "* Curl_http_done: called premature == 0\n",
      "* Closing connection 0\n"
     ]
    }
   ],
   "source": [
    "# Use out-of-bound offset\n",
    "!curl http://localhost:5000/datetime/v1/timezones?offset=800 -kv\n",
    "\n",
    "# Pick in the middle\n",
    "!curl 'http://localhost:5000/datetime/v1/timezones?offset=450&limit=2' -kv\n",
    "\n",
    "# Pick in the middle\n",
    "!curl 'http://localhost:5000/datetime/v1/timezones/Europe?limit=2' -kv\n"
   ]
  },
  {
   "cell_type": "code",
   "execution_count": null,
   "metadata": {},
   "outputs": [],
   "source": []
  }
 ],
 "metadata": {
  "kernelspec": {
   "display_name": "Python 3",
   "language": "python",
   "name": "python3"
  },
  "language_info": {
   "codemirror_mode": {
    "name": "ipython",
    "version": 3
   },
   "file_extension": ".py",
   "mimetype": "text/x-python",
   "name": "python",
   "nbconvert_exporter": "python",
   "pygments_lexer": "ipython3",
   "version": "3.6.6"
  }
 },
 "nbformat": 4,
 "nbformat_minor": 2
}
