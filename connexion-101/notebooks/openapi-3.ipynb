{
 "cells": [
  {
   "cell_type": "markdown",
   "metadata": {},
   "source": [
    "# OpenAPI & Modeling\n",
    "\n",
    "## OpenAPI\n",
    "\n",
    "OpenAPI is a specification language for REST APIs that allows to communicate:\n",
    "\n",
    "- technical specifications \n",
    "\n",
    "- metadata\n",
    "\n",
    "- docs & references"
   ]
  },
  {
   "cell_type": "markdown",
   "metadata": {},
   "source": [
    "## OpenAPI Foundation\n",
    "\n",
    "The OpenAPI Foundation is an initiative under the Linux Foundation, \n",
    "participated by government & companies  (gov.uk, Microsoft, Google, Oracle, IBM, ..):\n",
    "\n",
    "- Driver for API adoption\n",
    "\n",
    "- Evolution of Swagger 2.0\n",
    "\n",
    "- Lightweight format: YAML\n",
    "\n",
    "- Generates docs & code via tools (swagger-editor, apicur.io)\n",
    "\n",
    "- Allows reusable components via hyperlink (eg. $ref)\n",
    "\n",
    "Shortly, it's.. **WSDL for  REST APIs**"
   ]
  },
  {
   "cell_type": "markdown",
   "metadata": {},
   "source": [
    "## Tools\n",
    "\n",
    "Swagger editor is a simple webapp for editing OpenAPI 3 language specs.\n",
    "\n",
    "[Open Swagger Editor ](http://localhost:8080/?url=https://raw.githubusercontent.com/teamdigitale/api-starter-kit/master/openapi/simple.yaml.src)\n",
    "\n",
    "\n",
    "Every OAS3 document begins with\n",
    "\n",
    "```\n",
    "openapi: 3.0.0\n",
    "```"
   ]
  },
  {
   "cell_type": "code",
   "execution_count": 11,
   "metadata": {},
   "outputs": [
    {
     "data": {
      "text/markdown": [
       "*some markdown* $\\phi$"
      ],
      "text/plain": [
       "<IPython.core.display.Markdown object>"
      ]
     },
     "metadata": {},
     "output_type": "display_data"
    }
   ],
   "source": [
    "from IPython.display import display, Markdown, Latex\n",
    "display(Markdown('*some markdown* $\\phi$'))\n"
   ]
  },
  {
   "cell_type": "code",
   "execution_count": 12,
   "metadata": {},
   "outputs": [
    {
     "data": {
      "text/markdown": [
       "\n",
       "## You can open here your \n",
       "\n",
       "[Swagger Editor Online](http://192.168.1.115:8080/?url=https://raw.githubusercontent.com/teamdigitale/api-starter-kit/master/openapi/simple.yaml.src)\n",
       "\n"
      ],
      "text/plain": [
       "<IPython.core.display.Markdown object>"
      ]
     },
     "metadata": {},
     "output_type": "display_data"
    }
   ],
   "source": [
    "from os import environ\n",
    "remote_yaml = 'https://raw.githubusercontent.com/teamdigitale/api-starter-kit/master/openapi/simple.yaml.src'\n",
    "\n",
    "editor_url = f'http://{environ[\"MAIN_IP\"]}'+':8080/?url=' + remote_yaml\n",
    "display(Markdown(f'''\n",
    "## You can open here your \n",
    "\n",
    "[Swagger Editor Online]({editor_url})\n",
    "\n",
    "'''))"
   ]
  },
  {
   "cell_type": "code",
   "execution_count": null,
   "metadata": {},
   "outputs": [],
   "source": []
  },
  {
   "cell_type": "markdown",
   "metadata": {},
   "source": [
    "## OpenAPI Metadata\n",
    "\n",
    "In OAS3 we should first describe api metadata, to clarify:\n",
    "\n",
    "- API goals, audience and context;\n",
    "- Terms of service;\n",
    "- Versioning.\n"
   ]
  },
  {
   "cell_type": "markdown",
   "metadata": {},
   "source": [
    "```\n",
    "openapi: 3.0.0\n",
    "info:\n",
    "  version: \"1.0.0\"\n",
    "  title: |-\n",
    "    Write a short, clear name of your service.\n",
    "  description: |\n",
    "    This field may contain the markdown documentation of the api,\n",
    "    including references to other docs and examples.\n",
    "\n",
    "  # Legal references and terms of services.\n",
    "  termsOfService: 'http://swagger.io/terms/'\n",
    "  contact:\n",
    "    email: robipolli@gmail.com\n",
    "    name: Roberto Polli\n",
    "    url: https://twitter.com/ioggstream\n",
    "  license:\n",
    "    name: Apache 2.0\n",
    "    url: 'http://www.apache.org/licenses/LICENSE-2.0.html'\n",
    "```"
   ]
  },
  {
   "cell_type": "markdown",
   "metadata": {},
   "source": [
    "## OpenAPI Metadata Exercise\n",
    "\n",
    "Open the editor "
   ]
  },
  {
   "cell_type": "code",
   "execution_count": 2,
   "metadata": {},
   "outputs": [],
   "source": [
    "### Basic fields\n",
    "### Terms of Services"
   ]
  },
  {
   "cell_type": "markdown",
   "metadata": {},
   "source": [
    "### Custom fields\n",
    "\n",
    "In Italy we're experimenting with some custom fields to help catalogs and metadata\n",
    "\n",
    "**x-summary** is an one-liner description for catalog purposes. The new OAS 3.1 standardizes it as **summary** \n",
    "\n",
    "**x-lifecycle** \n",
    "\n",
    "**x-gdpr** with a list of roles\n",
    "\n",
    "**x-geodata** add local references in a machine readable format"
   ]
  },
  {
   "cell_type": "code",
   "execution_count": null,
   "metadata": {},
   "outputs": [],
   "source": [
    "##"
   ]
  }
 ],
 "metadata": {
  "kernelspec": {
   "display_name": "Python 3",
   "language": "python",
   "name": "python3"
  },
  "language_info": {
   "codemirror_mode": {
    "name": "ipython",
    "version": 3
   },
   "file_extension": ".py",
   "mimetype": "text/x-python",
   "name": "python",
   "nbconvert_exporter": "python",
   "pygments_lexer": "ipython3",
   "version": "3.6.6"
  }
 },
 "nbformat": 4,
 "nbformat_minor": 2
}
