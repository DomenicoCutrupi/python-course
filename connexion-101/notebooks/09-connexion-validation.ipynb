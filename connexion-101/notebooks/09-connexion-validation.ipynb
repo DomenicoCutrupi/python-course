{
 "cells": [
  {
   "cell_type": "markdown",
   "metadata": {},
   "source": [
    "# Validation\n",
    "\n",
    "Connexion supports validating request parameters and returned items\n",
    "with:\n",
    "\n",
    "```\n",
    "connexion run --strict-validation /code/notebooks/oas3/ex-08-pagination-ok.yaml\n",
    "\n",
    "```"
   ]
  },
  {
   "cell_type": "markdown",
   "metadata": {},
   "source": [
    "### Exercise: test the current spec with invalid requests.\n",
    "\n",
    "- invoke endpoints with unexisting parameters, eg. `/echo?missing=1`\n",
    "- pass string values to numeric parameters\n",
    "\n"
   ]
  },
  {
   "cell_type": "code",
   "execution_count": 1,
   "metadata": {},
   "outputs": [],
   "source": [
    "# Use this cell for the exercise"
   ]
  },
  {
   "cell_type": "markdown",
   "metadata": {},
   "source": [
    "# Response validation\n",
    "\n",
    "Connexion can shield us from non-conformant API implementation and\n",
    "allow us to **validate responses** too. If the response is \n",
    "not conformant to the OAS spec, connexion returns an error.\n",
    "\n",
    "\n",
    "```\n",
    "connexion run --strict-validation --validate-responses /code/notebooks/oas3/ex-08-pagination-ok.yaml\n",
    "\n",
    "```"
   ]
  },
  {
   "cell_type": "markdown",
   "metadata": {},
   "source": [
    "### Exercise: test response validation\n",
    "\n",
    "What happens when you?\n",
    "\n",
    "- disable throtting on one of your operations, so that it won't return the 'X-RateLimit' headers;\n",
    "- add new properties to the returned object?\n",
    "- change the properties' returned type?\n",
    "\n",
    "Does `connexion` always behave as you expected?"
   ]
  },
  {
   "cell_type": "code",
   "execution_count": null,
   "metadata": {},
   "outputs": [],
   "source": []
  }
 ],
 "metadata": {
  "kernelspec": {
   "display_name": "Python 3",
   "language": "python",
   "name": "python3"
  },
  "language_info": {
   "codemirror_mode": {
    "name": "ipython",
    "version": 3
   },
   "file_extension": ".py",
   "mimetype": "text/x-python",
   "name": "python",
   "nbconvert_exporter": "python",
   "pygments_lexer": "ipython3",
   "version": "3.6.6"
  }
 },
 "nbformat": 4,
 "nbformat_minor": 2
}
