{
 "cells": [
  {
   "cell_type": "markdown",
   "metadata": {},
   "source": [
    "# Interoperable REST APIs with OpenAPI 3 and Connexion\n",
    "\n",
    "Welcome to the API-First training!\n",
    "\n",
    "\n",
    "## Agenda\n",
    "\n",
    "- [x] Course environment\n",
    "- [x] [Interoperability](/notebooks/notebooks/01-interoperable-apis.ipynb)\n",
    "- [x] [API modeling with OpenAPI 3](/notebooks/notebooks/02-openapi-3.ipynb)\n",
    "- [x] [The `connexion` framework](/notebooks/notebooks/03-connexion.ipynb),\n",
    "   mocking our API model, returning Problem objects\n",
    "- [x] [Implementing the endpoints without request parameters](/notebooks/notebooks/04-01-connexion-writing-operationid.ipynb) and [with request parameters](http://192.168.1.115:8888/notebooks/notebooks/04-02-connexion-writing-operationid.ipynb)\n",
    "- [x] [Using YAML features and `$ref` to enforce API behavior](/notebooks/notebooks/05-reusing-and-bundling.ipynb)\n",
    "- [x] Authorization: [basic auth](/notebooks/notebooks/06-connexion-authorization-basic.ipynb) \n",
    "- [x] Service management with [interoperabile throttling headers](/notebooks/notebooks/07-connexion-throttling-headers.ipynb)\n",
    "\n",
    "Bonus tracks:\n",
    "\n",
    "- [ ] Authorization with JWT\n",
    "\n",
    "\n",
    "## Strategy\n",
    "\n",
    "We will adopt an iterative strategy, progressively:\n",
    "\n",
    "1- introduce more OAS3 features\n",
    "2- write OAS3 specifications\n",
    "3- implement the associated code\n",
    "4- repeat  "
   ]
  },
  {
   "cell_type": "markdown",
   "metadata": {},
   "source": [
    "## Jupyter\n",
    "\n",
    "is the course environment in your browser.\n",
    "\n",
    "It's not a way for not doing your homework ;)\n",
    "\n",
    "You can:\n",
    "\n",
    "  - [open a terminal on the local machine](/terminals/example)\n",
    "  - [edit an existing file](/edit/notebooks/untitled.txt)\n",
    "  - add more cells with `ALT+ENTER`\n",
    "  \n",
    "FIXME: Go to the [basic python course](/tree/notebooks/rendered_notebooks/python-basic)"
   ]
  },
  {
   "cell_type": "code",
   "execution_count": 1,
   "metadata": {},
   "outputs": [
    {
     "name": "stdout",
     "output_type": "stream",
     "text": [
      "a string and the number 1\n",
      "now s is increased 2\n"
     ]
    }
   ],
   "source": [
    "# You can evaluate maths and strings\n",
    "s = 1\n",
    "print(\"a string and the number \" + str(s))\n",
    "\n",
    "s = s + 1\n",
    "print(\"now s is increased \" + str(s))"
   ]
  },
  {
   "cell_type": "code",
   "execution_count": 2,
   "metadata": {},
   "outputs": [
    {
     "name": "stdout",
     "output_type": "stream",
     "text": [
      "total 8\r\n",
      "-rw-rw-r--. 1 1000 1000 932 Jul  4 19:43 99-last.py\r\n",
      "-rw-rw-r--. 1 1000 1000 371 Jun 24 11:43 README\r\n"
     ]
    }
   ],
   "source": [
    "# Note: all notebooks preload the definitions in \n",
    "!ls -l /root/.ipython/profile_default/startup"
   ]
  },
  {
   "cell_type": "markdown",
   "metadata": {},
   "source": [
    "# Git\n",
    "\n",
    "is the powerful versioning system used to distribute this course\n",
    "\n",
    "Go to your [git beginners course](/notebooks/notebooks/rendered_notebooks/git-101/01-git.ipynb)"
   ]
  },
  {
   "cell_type": "markdown",
   "metadata": {},
   "source": [
    "## Docker\n",
    "\n",
    "Docker is a lightweight container environment. Jupyter and all other \"machines\" are based on docker.\n",
    "\n",
    "[Slideshare presentation](https://www.slideshare.net/ioggstream/docker-virtualizzazione-leggera)\n",
    "\n",
    "[Reveal JS](http://www.piumalab.org/dockerslide)\n",
    "\n",
    "Some examples via a [local terminal](/terminals/example)\n",
    "\n"
   ]
  },
  {
   "cell_type": "markdown",
   "metadata": {
    "solution": "hidden"
   },
   "source": [
    "## Exercises\n",
    "\n",
    "Exercise solutions are folded. You can show them clicking on the `+` sign.\n",
    "\n"
   ]
  },
  {
   "cell_type": "markdown",
   "metadata": {
    "solution": "hidden",
    "solution_first": true
   },
   "source": [
    "### Don't do that :D just try and ...\n"
   ]
  },
  {
   "cell_type": "markdown",
   "metadata": {
    "solution": "hidden"
   },
   "source": [
    "![Do your homework](http://s2.quickmeme.com/img/43/438ccdc454bc53dfe79f6190ee43b2be19bd578ad002426efcf90f7a327cedd1.jpg)"
   ]
  },
  {
   "cell_type": "markdown",
   "metadata": {},
   "source": [
    "## Setup with digitalocean (if you don't have your server)\n",
    "\n",
    "Create a docker-18-04 droplet and `ssh` into it.\n",
    "\n",
    "## Setup example\n",
    "\n",
    "[![asciicast](https://asciinema.org/a/3DhEypBrk3WapL2F5yrcszFZ6.png)](https://asciinema.org/a/3DhEypBrk3WapL2F5yrcszFZ6)\n",
    "\n",
    "\n",
    "## Docker must listen on 172.17.0.1:2735\n",
    "\n",
    "```\n",
    "# vim /etc/systemd/system/multi-user.target.wants/docker.service\n",
    "[Service]\n",
    "...\n",
    "ExecStart=/usr/bin/dockerd -H fd:// -H tcp://172.17.0.1:2375\n",
    "...\n",
    "#wq!\n",
    "\n",
    "systemctl daemon-reload\n",
    "systemctl restart docker\n",
    "```\n",
    "\n",
    "## Clone and start\n",
    "\n",
    "```\n",
    "git clone https://github.com/ioggstream/python-course.git\n",
    "cd python-course/ansible-101\n",
    "make course\n",
    "\n",
    "```\n",
    "\n",
    "## Connect to jupyter\n",
    "\n",
    "```\n",
    "firefox http://43.32.54.212:8888/tree/notebooks/?token=....\n",
    "```\n"
   ]
  },
  {
   "cell_type": "code",
   "execution_count": null,
   "metadata": {
    "solution": "hidden"
   },
   "outputs": [],
   "source": []
  }
 ],
 "metadata": {
  "kernelspec": {
   "display_name": "Python 3",
   "language": "python",
   "name": "python3"
  },
  "language_info": {
   "codemirror_mode": {
    "name": "ipython",
    "version": 3
   },
   "file_extension": ".py",
   "mimetype": "text/x-python",
   "name": "python",
   "nbconvert_exporter": "python",
   "pygments_lexer": "ipython3",
   "version": "3.6.6"
  }
 },
 "nbformat": 4,
 "nbformat_minor": 2
}
