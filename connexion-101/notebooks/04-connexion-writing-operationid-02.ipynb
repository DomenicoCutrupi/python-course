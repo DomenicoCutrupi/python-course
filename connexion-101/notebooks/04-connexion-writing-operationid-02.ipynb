{
 "cells": [
  {
   "cell_type": "markdown",
   "metadata": {
    "solution": "hidden"
   },
   "source": [
    "# A new path: /echo\n",
    "\n",
    "Now we're going to write a new path: `/echo`.\n",
    "\n",
    "Our goal is the following:\n",
    "\n",
    "- when invoking `/datetime/v1/echo` the API will return \n",
    "  the current datetime;\n",
    "- the response is enveloped in the following example json object:\n",
    "\n",
    "```\n",
    "{ \"timestamp\": \"2019-12-25T00:00:00Z\" }\n",
    "```\n",
    "\n",
    "- the status code for a successful response is `200`\n",
    "\n",
    "### Exercise: write /echo specs\n",
    "\n",
    "Edit the [ex-04-02-echo-ok.yaml](/edit/notebooks/oas3/ex-04-02-echo.yaml]) and write the `echo` specifications:\n",
    "\n",
    "1- define the new `Datetime` schema to be used in the response;\n",
    "\n",
    "2- define the new `/echo` path supporting the `get` method and:\n",
    "\n",
    "  * always write proper `summary` and `description` fields\n",
    "  \n",
    "3- `get /echo` possible responses are:\n",
    "\n",
    "  * `200` returning a `Datetime` in json format, with a complete `example` for mocks\n",
    "  * `503` returning a `problem+json`\n",
    "  \n",
    "\n",
    "4- don't forget `operationId` !\n",
    "\n",
    "Hint: feel free to reuse as much yaml code as possible.\n",
    "\n",
    "### Exercise: test /echo mocks\n",
    "\n",
    "Run your spec [in the terminal](/terminals/1) and check that it properly returns the mock objects.\n",
    "\n",
    "Use \n",
    "\n",
    "```\n",
    "connexion run --mock all /code/notebooks/oas3/ex-04-02-echo-ok.yaml\n",
    "```"
   ]
  },
  {
   "cell_type": "code",
   "execution_count": null,
   "metadata": {},
   "outputs": [],
   "source": [
    "# Use this cell to test the output\n",
    "!curl http://localhost:5000/datetime/v1/echo -vk"
   ]
  },
  {
   "cell_type": "markdown",
   "metadata": {},
   "source": [
    "## Request parameters\n",
    "\n",
    "OAS3 allows to specify parameters both in `query` and in `headers`.\n",
    "\n",
    "Interoperable APIs should follow simple rules when using parameters:\n",
    "\n",
    "- define parameter conventions for common patterns, eg: limit, offset;\n",
    "- use standard HTTP headers when possible.\n",
    "\n",
    "As many APIs implement pagination, it's a good think to converge to a common\n",
    "set of parameters to use. Our choice is:\n",
    "\n",
    "- limit: max number of entries to retrieve\n",
    "- offset: the number of entries to skip in a paginated request\n",
    "- cursor: an identifier (cursor) of the first entry to be returned  \n",
    "  [Slack APIs provide an example of cursor-based pagination](https://api.slack.com/docs/pagination)"
   ]
  },
  {
   "cell_type": "markdown",
   "metadata": {},
   "source": [
    "## Adding request parameters to `/echo`\n",
    "\n",
    "Request parameters can be defined in \n",
    "\n",
    "```\n",
    "components:\n",
    "  parameters:\n",
    "    a_sample_parameter:\n",
    "      ...\n",
    "```"
   ]
  },
  {
   "cell_type": "code",
   "execution_count": 3,
   "metadata": {},
   "outputs": [
    {
     "name": "stdout",
     "output_type": "stream",
     "text": [
      "description: How many items to return at one time (max 100)\n",
      "in: query\n",
      "name: limit\n",
      "schema:\n",
      "  format: int32\n",
      "  type: integer\n",
      "\n"
     ]
    }
   ],
   "source": [
    "# Here's the `limit` parameter definition, including\n",
    "# - it's a `query` parameter\n",
    "# - its name\n",
    "# - its schema\n",
    "print(show_component('https://teamdigitale.github.io/openapi/0.0.5/definitions.yaml#/parameters/limit'))"
   ]
  },
  {
   "cell_type": "markdown",
   "metadata": {},
   "source": [
    "### Exercise: adding parameters to `/echo`\n",
    "\n",
    "Let's add a `tz` parameter to `/echo`:\n",
    "\n",
    "- create a `#/components/schemas/Timezone` schema definition. Valid values are:\n",
    "\n",
    "  * 'Europe/Rome'\n",
    "  * 'UTC' (default)\n",
    "  * 'Asia/Calcutta'\n",
    "  \n",
    "- create a `#/components/parameters/tz` parameter definition;\n",
    "- add the `tz` query parameter to `get /echo` path checking\n",
    "  the [official OAS 3.0.2 documentation](https://github.com/OAI/OpenAPI-Specification/blob/master/versions/3.0.2.md#examples)\n",
    "- add a `400 Bad Request` response in case the timezone is not in the list\n",
    "\n",
    "Finally, check that you can run the spec.\n",
    "\n",
    "```\n",
    "connexion run --mock all /code/notebooks/oas3/ex-04-02-echo-ok.yaml\n",
    "```"
   ]
  },
  {
   "cell_type": "code",
   "execution_count": 4,
   "metadata": {},
   "outputs": [],
   "source": [
    "# Use this cell to test your api"
   ]
  },
  {
   "cell_type": "markdown",
   "metadata": {},
   "source": [
    "### Implement get_status\n",
    "\n",
    "Let's implement the `get_echo` in [api.py](/edit/notebooks/oas3/api.py) function that:\n",
    "\n",
    "- takes the `tz` parameter, which defaults to `UTC`;\n",
    "- returns a `Datetime` object in its current timezone."
   ]
  },
  {
   "cell_type": "code",
   "execution_count": null,
   "metadata": {},
   "outputs": [],
   "source": [
    "# hint: get the timezone from \n",
    "!pip install pytz"
   ]
  },
  {
   "cell_type": "code",
   "execution_count": null,
   "metadata": {},
   "outputs": [],
   "source": [
    "import pytz \n",
    "tz = pytz.timezone('Europe/Rome')\n",
    "print(tz.name)"
   ]
  },
  {
   "cell_type": "code",
   "execution_count": 11,
   "metadata": {},
   "outputs": [
    {
     "data": {
      "text/plain": [
       "False"
      ]
     },
     "execution_count": 11,
     "metadata": {},
     "output_type": "execute_result"
    }
   ],
   "source": [
    "# No timezones in Netherland :)\n",
    "'Netherland' in pytz.all_timezones"
   ]
  },
  {
   "cell_type": "code",
   "execution_count": null,
   "metadata": {
    "solution": "shown",
    "solution_first": true
   },
   "outputs": [],
   "source": [
    "# connexion provides a predefined problem object\n",
    "from connexion import problem\n",
    "\n",
    "    \n",
    "# Exercise: write a get_status() returning a successful response to problem.\n",
    "help(problem)"
   ]
  },
  {
   "cell_type": "code",
   "execution_count": 13,
   "metadata": {
    "solution": "shown"
   },
   "outputs": [],
   "source": [
    "def get_echo(tz='UTC'):\n",
    "    if tz not in pytz.all_timezones:\n",
    "        return problem(\n",
    "            status=400,\n",
    "            title=\"Bad Timezone\",\n",
    "            detail=\"The specified timezone is not valid\",\n",
    "            ext={\"valid_timezones\": pytz.all_timezones}\n",
    "        )\n",
    "    d = datetime.now(tz=pytz.timezone(tz))\n",
    "    return {\"timestamp\": str(d).replace('+00:00', 'Z')}\n",
    "    "
   ]
  },
  {
   "cell_type": "markdown",
   "metadata": {},
   "source": [
    "Now  [run the spec in a terminal](/terminals/1) using\n",
    "\n",
    "```\n",
    "cd /code/notebooks/oas3/\n",
    "connexion run /code/notebooks/oas3/ex-04-02-echo-ok.yaml\n",
    "```\n",
    "\n",
    "play a bit with the [Swagger UI](https://TODO)\n",
    "\n",
    "and try making a request!\n"
   ]
  },
  {
   "cell_type": "code",
   "execution_count": null,
   "metadata": {},
   "outputs": [],
   "source": [
    "!curl http://localhost:5000/datetime/v1/echo -kv\n",
    "\n",
    "!curl http://localhost:5000/datetime/v1/echo?tz=Europe/Rome -kv\n"
   ]
  },
  {
   "cell_type": "markdown",
   "metadata": {},
   "source": [
    "### Returning errors.\n",
    "\n",
    "Our api.get_status implementation always returns `200 OK`, but in the real world APIs could\n",
    "return different kind of errors.\n",
    "\n",
    "An interoperable API should:\n",
    "\n",
    "- fail fast, avoiding that application errors result in stuck connections;\n",
    "- implement a clean error semantic.\n",
    "\n",
    "In our Service Management framework we expect that:\n",
    "\n",
    "- if the Service is unavailable, we must return `503 Service Unavailable` http status\n",
    "- we must return the `Retry-After` header specifying the number of seconds\n",
    "  when to retry.\n",
    "\n",
    "TODO: ADD CIRCUIT_BREAKER IMAGE\n",
    "\n",
    "To implement this we must:\n",
    "\n",
    "1. add the returned headers in the OAS3 interface;\n",
    "2. pass the headers to the flask Response\n"
   ]
  },
  {
   "cell_type": "markdown",
   "metadata": {},
   "source": [
    "### Exercise\n",
    "\n",
    "Modify the OAS3 spec in [ex-04-01-headers.yaml](/edit/notebooks/oas3/ex-04-01-headers-ok.yaml) and:\n",
    "\n",
    "- add a `503` response to the `/status` path;\n",
    "- when a `503` is returned, the `retry-after` header is returned.\n",
    "\n",
    "Hint:  you can define a header in `components/headers` like that:\n",
    "\n",
    "```\n",
    "components:\n",
    "  headers:\n",
    "    Retry-After:\n",
    "      description: |-\n",
    "        Retry contacting the endpoint *at least* after seconds.\n",
    "        See https://tools.ietf.org/html/rfc7231#section-7.1.3\n",
    "    schema:\n",
    "      format: int32\n",
    "      type: integer\n",
    "\n",
    "```\n",
    "\n",
    "\n",
    "Or just `$ref` the `Retry-After` defined in https://teamdigitale.github.io/openapi/0.0.5/definitions.yaml#/headers/Retry-After"
   ]
  },
  {
   "cell_type": "markdown",
   "metadata": {
    "solution": "hidden",
    "solution_first": true
   },
   "source": [
    "Modify [api.py:get_status](/edit/notebooks/oas3/api.py) such that:\n",
    "\n",
    "- returns a `503` on 20% of the requests;\n",
    "- when a `503` is returned, the `retry-after` header is returned.\n"
   ]
  },
  {
   "cell_type": "code",
   "execution_count": null,
   "metadata": {
    "solution": "hidden"
   },
   "outputs": [],
   "source": [
    "from random import randint\n",
    "\n",
    "\n",
    "def get_status():\n",
    "    p = randint(1, 5)\n",
    "    if p == 5:\n",
    "        return problem(\n",
    "            status=503,\n",
    "            title=\"Service Temporarily Unavailable\",\n",
    "            detail=\"Retry after the number of seconds specified in the the Retry-After header.\",\n",
    "            headers={'Retry-After': str(p)}\n",
    "        )\n",
    "    return problem(\n",
    "        status=200,\n",
    "        title=\"OK\",\n",
    "        detail=\"So far so good.\"\n",
    "    )"
   ]
  },
  {
   "cell_type": "markdown",
   "metadata": {},
   "source": [
    "## Reusing default responses\n",
    "\n",
    "As `503` is a quite recurring response, it's worth to define it in a reusable yaml file,\n",
    "so that every path can reuse it.\n",
    "\n",
    "\n",
    "### Exercise: reusable responses\n",
    "\n",
    "In the following exercise you should edit [ex-04-01-headers.yaml](/edit/notebooks/oas3/ex-04-01-headers-ok.yaml) and:\n",
    "\n",
    "- move the `503` response from the `/status` path definition to the `components/responses` one, eg.\n",
    "\n",
    "```\n",
    "components:\n",
    "  responses:\n",
    "    503ServiceUnavailable:\n",
    "      ...\n",
    "```\n",
    "\n",
    "- reference `#/components/responses/503ServiceUnavailable` in the `/status` path\n",
    "\n",
    "Your new file is semantically equivalent to the previous one: check that you can \n",
    "nicely `connexion run` your file!\n",
    "\n",
    "```\n",
    "connexion run /code/notebooks/oas3/ex-04-01-headers.yaml\n",
    "```\n"
   ]
  },
  {
   "cell_type": "code",
   "execution_count": null,
   "metadata": {},
   "outputs": [],
   "source": []
  }
 ],
 "metadata": {
  "kernelspec": {
   "display_name": "Python 3",
   "language": "python",
   "name": "python3"
  },
  "language_info": {
   "codemirror_mode": {
    "name": "ipython",
    "version": 3
   },
   "file_extension": ".py",
   "mimetype": "text/x-python",
   "name": "python",
   "nbconvert_exporter": "python",
   "pygments_lexer": "ipython3",
   "version": "3.6.6"
  }
 },
 "nbformat": 4,
 "nbformat_minor": 2
}
