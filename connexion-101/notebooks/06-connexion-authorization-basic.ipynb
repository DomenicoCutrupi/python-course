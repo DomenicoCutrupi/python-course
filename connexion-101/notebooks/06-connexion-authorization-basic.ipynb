{
 "cells": [
  {
   "cell_type": "markdown",
   "metadata": {
    "solution": "hidden"
   },
   "source": [
    "# Authorization & securitySchemes\n",
    "\n",
    "OAS allows to specify authorization policies in the spec,\n",
    "under `components.securitySchemes`.\n",
    "\n",
    "Between supported security schemes we have:\n",
    "\n",
    "- oauth and oidc\n",
    "- basic auth\n",
    "- JWT\n",
    "- mutualTLS ( in OAS 3.1 )\n",
    "\n",
    "**When passing credentials in HTTP headers or payload you MUST use TLS**"
   ]
  },
  {
   "cell_type": "markdown",
   "metadata": {},
   "source": [
    "`connexion` can reference a python function via `x-basicInfoFunc` \n",
    "\n",
    "\n",
    "### basic auth\n",
    "\n",
    "Here we are defining the `myBasicAuth` security scheme.\n",
    "\n",
    "```\n",
    "components:\n",
    " securitySchemes:\n",
    "   myBasicAuth:\n",
    "     type: http\n",
    "     scheme: basic\n",
    "     x-basicInfoFunc: security.my_auth\n",
    "```\n",
    "\n",
    "We can then reference `myBasicAuth` in one or more paths\n",
    "\n",
    "```\n",
    "paths:\n",
    "  /echo\n",
    "    get:\n",
    "      security:\n",
    "      - myBasicAuth: []\n",
    "      ...\n",
    "      operationId: api.get_echo\n",
    "      ...\n",
    "```\n",
    "\n",
    "### Exercise: add securitySchemes\n",
    "\n",
    "Modify the OAS3 spec in [ex-06-01-auth.yaml](/edit/notebooks/oas3/ex-06-01-auth-ok.yaml) and:\n",
    "\n",
    "- add a `myBasicAuth` security schemes like the above;\n",
    "- reference `myBasicAuth` in `get /echo` path;\n",
    "- validate the spec in your swagger editor and \n",
    "  check what changed in the swagger-ui"
   ]
  },
  {
   "cell_type": "markdown",
   "metadata": {},
   "source": [
    "### Implement my_auth\n",
    "\n",
    "Implement the `my_auth` function in [security.py](/edit/notebooks/oas3/security.py) so that:\n",
    "\n",
    "- when username==password the user is authenticated\n",
    "\n",
    "Use the cell below to implement it, "
   ]
  },
  {
   "cell_type": "code",
   "execution_count": 2,
   "metadata": {},
   "outputs": [],
   "source": [
    "# Test here the my_auth implementation.\n",
    "def my_auth(username, password,required_scopes=None):\n",
    "    \"\"\"An dummy authentication function.\n",
    "       :params: username, the username\n",
    "       :params: password, the password\n",
    "       :params: scopes, the scope\n",
    "       :returns: `{\"sub\": username, \"scope\": \"\"}` on success, \n",
    "                 None on failure\n",
    "    \"\"\"   \n",
    "    raise NotImplementedError\n"
   ]
  },
  {
   "cell_type": "markdown",
   "metadata": {},
   "source": [
    "### Test the my_auth implementation"
   ]
  },
  {
   "cell_type": "markdown",
   "metadata": {},
   "source": [
    "Run the spec in the [terminal](/terminals/1)\n",
    "with the usual\n",
    "\n",
    "```\n",
    "connexion run /node/notebooks/oas3/ex-06-01-auth-ok.yaml\n",
    "```\n",
    "\n",
    "play a bit with the [Swagger UI](https://TODO)\n",
    "\n",
    "Try to curl some requests!\n"
   ]
  },
  {
   "cell_type": "code",
   "execution_count": 3,
   "metadata": {},
   "outputs": [
    {
     "name": "stdout",
     "output_type": "stream",
     "text": [
      "*   Trying 127.0.0.1...\r\n",
      "* TCP_NODELAY set\r\n",
      "* Connected to localhost (127.0.0.1) port 5000 (#0)\r\n",
      "> GET /datetime/v1/echo HTTP/1.1\r",
      "\r\n",
      "> Host: localhost:5000\r",
      "\r\n",
      "> User-Agent: curl/7.52.1\r",
      "\r\n",
      "> Accept: */*\r",
      "\r\n",
      "> \r",
      "\r\n",
      "* HTTP 1.0, assume close after body\r\n",
      "< HTTP/1.0 401 UNAUTHORIZED\r",
      "\r\n",
      "< Content-Type: application/problem+json\r",
      "\r\n",
      "< Content-Length: 119\r",
      "\r\n",
      "< Server: Werkzeug/0.15.4 Python/3.6.6\r",
      "\r\n",
      "< Date: Sun, 23 Jun 2019 13:03:41 GMT\r",
      "\r\n",
      "< \r",
      "\r\n",
      "{\r\n",
      "  \"detail\": \"No authorization token provided\",\r\n",
      "  \"status\": 401,\r\n",
      "  \"title\": \"Unauthorized\",\r\n",
      "  \"type\": \"about:blank\"\r\n",
      "}\r\n",
      "* Curl_http_done: called premature == 0\r\n",
      "* Closing connection 0\r\n"
     ]
    }
   ],
   "source": [
    "!curl http://localhost:5000/datetime/v1/echo -kv"
   ]
  },
  {
   "cell_type": "markdown",
   "metadata": {},
   "source": [
    "### Bearer token & JWT Security\n",
    "\n",
    "Bearer tokens are supported:\n",
    "\n",
    "- in OAS via the `scheme: bearer`\n",
    "- in connexion via the `x-bearerInfoFunc`\n",
    "\n",
    "```\n",
    "components:\n",
    "  securitySchemes:\n",
    "    jwt:\n",
    "      type: http\n",
    "      scheme: bearer\n",
    "      bearerFormat: JWT\n",
    "      x-bearerInfoFunc: security.decode_token\n",
    "\n",
    "```\n",
    "\n",
    "Once you send the header\n",
    "\n",
    "`Authorization: Bearer token`\n",
    "\n",
    "the `token` string will be passed to a function like the following\n",
    "\n",
    "NOTE: the `bearerFormat` is a free identifier of the token format and the associated syntax may not be enforced by the spec."
   ]
  },
  {
   "cell_type": "code",
   "execution_count": 10,
   "metadata": {},
   "outputs": [],
   "source": [
    "\n",
    "def decode_token(token):\n",
    "    \"\"\"\n",
    "        :param: token, a generic token\n",
    "        :return: a json object compliant with RFC7662 OAUTH2\n",
    "    \"\"\"\n",
    "    \n",
    "    if token_is_valid:\n",
    "        return {\n",
    "             'iss': 'http://api.example.com',\n",
    "             'iat': 1561296569,\n",
    "             'exp': 1561296571,\n",
    "             'sub': 'ioggstream',\n",
    "             'scope': ['local']\n",
    "            }"
   ]
  },
  {
   "cell_type": "code",
   "execution_count": null,
   "metadata": {
    "solution": "hidden"
   },
   "outputs": [],
   "source": [
    "from random import randint\n",
    "\n",
    "\n",
    "def get_status():\n",
    "    p = randint(1, 5)\n",
    "    if p == 5:\n",
    "        return problem(\n",
    "            status=503,\n",
    "            title=\"Service Temporarily Unavailable\",\n",
    "            detail=\"Retry after the number of seconds specified in the the Retry-After header.\",\n",
    "            headers={'Retry-After': str(p)}\n",
    "        )\n",
    "    return problem(\n",
    "        status=200,\n",
    "        title=\"OK\",\n",
    "        detail=\"So far so good.\"\n",
    "    )"
   ]
  },
  {
   "cell_type": "markdown",
   "metadata": {},
   "source": [
    "You can learn more on that on:\n",
    "\n",
    "- https://github.com/zalando/connexion/blob/master/docs/security.rst\n",
    "        "
   ]
  },
  {
   "cell_type": "code",
   "execution_count": null,
   "metadata": {},
   "outputs": [],
   "source": []
  }
 ],
 "metadata": {
  "kernelspec": {
   "display_name": "Python 3",
   "language": "python",
   "name": "python3"
  },
  "language_info": {
   "codemirror_mode": {
    "name": "ipython",
    "version": 3
   },
   "file_extension": ".py",
   "mimetype": "text/x-python",
   "name": "python",
   "nbconvert_exporter": "python",
   "pygments_lexer": "ipython3",
   "version": "3.6.6"
  }
 },
 "nbformat": 4,
 "nbformat_minor": 2
}
