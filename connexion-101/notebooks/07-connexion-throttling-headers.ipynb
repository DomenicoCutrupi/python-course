{
 "cells": [
  {
   "cell_type": "markdown",
   "metadata": {},
   "source": [
    "# Throttling headers\n",
    "\n",
    "Service management is an essential component of a stable API Ecosystem.\n",
    "\n",
    "Basic compontents for service management are communicating:\n",
    "\n",
    "- when you are not operational, and explicit\n",
    "  how long it will take to be up and running again;\n",
    "  \n",
    "- if they are over quota and\n",
    "  prevent overquota via throttling headers.\n",
    "  \n",
    "\n",
    "While it could be annoying to explicitly state that every response\n",
    "should contain throttling headers, you can use yaml anchors for that!\n",
    "\n",
    "```\n",
    "x-commons:\n",
    "  throttling-headers: &throttling-headers\n",
    "    X-RateLimit-Limit:\n",
    "      $ref: ..\n",
    "    X-RateLimit-Remaining:\n",
    "      $ref: ..\n",
    "    X-RateLimit-Reset:\n",
    "      $ref: ..\n",
    "\n",
    "```\n"
   ]
  },
  {
   "cell_type": "markdown",
   "metadata": {},
   "source": [
    "## Returning throttling headers\n",
    "\n",
    "Now we can use the anchor in our `get /echo responses`\n",
    "\n",
    "```\n",
    "paths:\n",
    "  /echo\n",
    "    get:\n",
    "      ...\n",
    "      operationId: api.get_echo\n",
    "      responses:\n",
    "        '200':\n",
    "          headers:\n",
    "            <<: *throttling_headers\n",
    "          ...\n",
    "```\n",
    "\n",
    "\n",
    "### Exercise: add throttling headers\n",
    "\n",
    "Modify the  [ex-07-01-throttling.yaml](/edit/notebooks/oas3/ex-07-01-throttling.yaml) spec so that:\n",
    "\n",
    "- `get /echo responses` returns the throtting headers in case of `200`;\n",
    "- ensure that in case of over-quota, a `429` response is returned"
   ]
  },
  {
   "cell_type": "code",
   "execution_count": 17,
   "metadata": {},
   "outputs": [
    {
     "name": "stdout",
     "output_type": "stream",
     "text": [
      "{'limit': 3, 'remaining': 3, 'reset': 25, 'user': 'user1', 'comment': '2019-07-05T10:51:00'}\n",
      "{'limit': 3, 'remaining': 2, 'reset': 25, 'user': 'user1', 'comment': '2019-07-05T10:51:00'}\n",
      "{'limit': 3, 'remaining': 1, 'reset': 25, 'user': 'user1', 'comment': '2019-07-05T10:51:00'}\n",
      "{'limit': 3, 'remaining': 0, 'reset': 25, 'user': 'user1', 'comment': '2019-07-05T10:51:00'}\n"
     ]
    }
   ],
   "source": [
    "### Exercise: throttle requests using the following class\n",
    "\n",
    "from  oas3.throttling_quota import ThrottlingQuota\n",
    "\n",
    "\n",
    "quotas = ThrottlingQuota(ttl=30, limit=3)\n",
    "\n",
    "for i in range(4):\n",
    "    ret = quotas.consume(user=f'user1')\n",
    "    print(ret)"
   ]
  },
  {
   "cell_type": "markdown",
   "metadata": {},
   "source": [
    "Modify [api.py:get_echo](/edit/notebooks/oas3/api.py) such that:\n",
    "\n",
    "- every authenticated user get its quota;\n",
    "- if quota is exceeded, `429` is returned;\n",
    "- the throttling infos are returned as integers in every response:\n",
    "\n",
    "  - X-RateLimit-Limit: maximum number of requests in the given interval\n",
    "  - X-RateLimit-Reset: when the quota expires\n",
    "  - X-RateLimit-Remaining: remaining requests before the quota is consumed\n",
    "  "
   ]
  },
  {
   "cell_type": "markdown",
   "metadata": {},
   "source": [
    "Now  [run the spec in a terminal](/terminals/1) using\n",
    "\n",
    "```\n",
    "cd /code/notebooks/oas3/\n",
    "connexion run /code/notebooks/oas3/ex-07-01-throttling-ok.yaml\n",
    "```\n",
    "\n",
    "play a bit with the [Swagger UI](https://TODO)\n",
    "\n",
    "and try making a request!\n"
   ]
  },
  {
   "cell_type": "code",
   "execution_count": 18,
   "metadata": {},
   "outputs": [
    {
     "name": "stdout",
     "output_type": "stream",
     "text": [
      "*   Trying 127.0.0.1...\r\n",
      "* TCP_NODELAY set\r\n",
      "* Connected to localhost (127.0.0.1) port 5000 (#0)\r\n",
      "* Server auth using Basic with user 'foo'\r\n",
      "> GET /datetime/v1/echo HTTP/1.1\r",
      "\r\n",
      "> Host: localhost:5000\r",
      "\r\n",
      "> Authorization: Basic Zm9vOmZvbw==\r",
      "\r\n",
      "> User-Agent: curl/7.52.1\r",
      "\r\n",
      "> Accept: */*\r",
      "\r\n",
      "> \r",
      "\r\n",
      "* HTTP 1.0, assume close after body\r\n",
      "< HTTP/1.0 200 OK\r",
      "\r\n",
      "< X-RateLimit-Limit: 10\r",
      "\r\n",
      "< X-RateLimit-Remaining: 9\r",
      "\r\n",
      "< X-RateLimit-Reset: 17\r",
      "\r\n",
      "< Content-Type: application/problem+json\r",
      "\r\n",
      "< Content-Length: 115\r",
      "\r\n",
      "< Server: Werkzeug/0.15.4 Python/3.6.6\r",
      "\r\n",
      "< Date: Fri, 05 Jul 2019 10:51:02 GMT\r",
      "\r\n",
      "< \r",
      "\r\n",
      "{\r\n",
      "  \"ti\": {\r\n",
      "    \"scope\": \"\",\r\n",
      "    \"sub\": \"foo\"\r\n",
      "  },\r\n",
      "  \"timestamp\": \"2019-07-05T10:51:02.717625Z\",\r\n",
      "  \"user\": \"foo\"\r\n",
      "}\r\n",
      "* Curl_http_done: called premature == 0\r\n",
      "* Closing connection 0\r\n"
     ]
    }
   ],
   "source": [
    "!curl http://localhost:5000/datetime/v1/echo -kv -ufoo:foo"
   ]
  },
  {
   "cell_type": "code",
   "execution_count": null,
   "metadata": {},
   "outputs": [],
   "source": []
  }
 ],
 "metadata": {
  "kernelspec": {
   "display_name": "Python 3",
   "language": "python",
   "name": "python3"
  },
  "language_info": {
   "codemirror_mode": {
    "name": "ipython",
    "version": 3
   },
   "file_extension": ".py",
   "mimetype": "text/x-python",
   "name": "python",
   "nbconvert_exporter": "python",
   "pygments_lexer": "ipython3",
   "version": "3.6.6"
  }
 },
 "nbformat": 4,
 "nbformat_minor": 2
}
