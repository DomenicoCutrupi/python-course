{
 "cells": [
  {
   "cell_type": "markdown",
   "metadata": {},
   "source": [
    "# Throttling headers\n",
    "\n",
    "Service management is an essential component of a stable API Ecosystem.\n",
    "\n",
    "Basic compontents for service management are communicating:\n",
    "\n",
    "- when you are not operational, and explicit\n",
    "  how long it will take to be up and running again;\n",
    "  \n",
    "- if they are over quota and\n",
    "  prevent overquota via throttling headers.\n",
    "  \n",
    "\n",
    "While it could be annoying to explicitly state that every response\n",
    "should contain throttling headers, you can use yaml anchors for that!\n",
    "\n",
    "```\n",
    "x-commons:\n",
    "  throttling-headers: &throttling-headers\n",
    "    X-RateLimit-Limit:\n",
    "      $ref: ..\n",
    "    X-RateLimit-Remaining:\n",
    "      $ref: ..\n",
    "    X-RateLimit-Reset:\n",
    "      $ref: ..\n",
    "\n",
    "```\n"
   ]
  },
  {
   "cell_type": "markdown",
   "metadata": {},
   "source": [
    "## Returning throttling headers\n",
    "\n",
    "Now we can use the anchor in our `get /echo responses`\n",
    "\n",
    "```\n",
    "paths:\n",
    "  /echo\n",
    "    get:\n",
    "      ...\n",
    "      operationId: api.get_echo\n",
    "      responses:\n",
    "        '200':\n",
    "          headers:\n",
    "            <<: *throttling_headers\n",
    "          ...\n",
    "```\n",
    "\n",
    "\n",
    "### Exercise: add throttling headers\n",
    "\n",
    "Modify the  [ex-07-01-throttling.yaml](/edit/notebooks/oas3/ex-07-01-throttling.yaml) spec so that:\n",
    "\n",
    "- `get /echo responses` returns the throtting headers in case of `200`;\n",
    "- ensure that in case of over-quota, a `429` response is returned"
   ]
  },
  {
   "cell_type": "markdown",
   "metadata": {},
   "source": [
    "### Exercise: throttle requests in api.py\n",
    "\n",
    "Use the `throttling_quota` utilities either:\n",
    "\n",
    "- the throttle decorator\n",
    "- or implement your own throttling"
   ]
  },
  {
   "cell_type": "code",
   "execution_count": 4,
   "metadata": {},
   "outputs": [],
   "source": [
    "# Decorate with `throttle`\n",
    "from oas3.throttling_quota import throttle\n",
    "\n",
    "@throttle\n",
    "def f(user='foo'):\n",
    "    return {}, 200, {}\n"
   ]
  },
  {
   "cell_type": "code",
   "execution_count": 5,
   "metadata": {},
   "outputs": [
    {
     "name": "stdout",
     "output_type": "stream",
     "text": [
      "{'limit': 3, 'remaining': 2, 'reset': 23, 'user': 'user1', 'comment': '2019-07-06T07:57:00'}\n",
      "{'limit': 3, 'remaining': 1, 'reset': 23, 'user': 'user1', 'comment': '2019-07-06T07:57:00'}\n",
      "{'limit': 3, 'remaining': 0, 'reset': 23, 'user': 'user1', 'comment': '2019-07-06T07:57:00'}\n",
      "{'limit': 3, 'remaining': 0, 'reset': 23, 'user': 'user1', 'comment': '2019-07-06T07:57:00'}\n"
     ]
    }
   ],
   "source": [
    "# Or write your own using\n",
    "from oas3.throttling_quota import ThrottlingQuota\n",
    "\n",
    "quotas = ThrottlingQuota(ttl=30, limit=3)\n",
    "\n",
    "for i in range(4):\n",
    "    ret = quotas.consume(user=f'user1')\n",
    "    print(ret)"
   ]
  },
  {
   "cell_type": "markdown",
   "metadata": {},
   "source": [
    "Modify [api.py:get_echo](/edit/notebooks/oas3/api.py) such that:\n",
    "\n",
    "- every authenticated user get its quota;\n",
    "- if quota is exceeded, `429` is returned;\n",
    "- the throttling infos are returned as integers in every response:\n",
    "\n",
    "  - X-RateLimit-Limit: maximum number of requests in the given interval\n",
    "  - X-RateLimit-Reset: when the quota expires\n",
    "  - X-RateLimit-Remaining: remaining requests before the quota is consumed\n",
    "  "
   ]
  },
  {
   "cell_type": "markdown",
   "metadata": {},
   "source": [
    "Now  [run the spec in a terminal](/terminals/1) using\n",
    "\n",
    "```\n",
    "cd /code/notebooks/oas3/\n",
    "connexion run /code/notebooks/oas3/ex-07-01-throttling-ok.yaml\n",
    "```\n",
    "\n",
    "play a bit with the [Swagger UI](https://TODO)\n",
    "\n",
    "and try making a request!\n"
   ]
  },
  {
   "cell_type": "code",
   "execution_count": null,
   "metadata": {},
   "outputs": [],
   "source": [
    "!curl http://localhost:5000/datetime/v1/echo -kv -ufoo:foo"
   ]
  },
  {
   "cell_type": "code",
   "execution_count": null,
   "metadata": {},
   "outputs": [],
   "source": []
  }
 ],
 "metadata": {
  "kernelspec": {
   "display_name": "Python 3",
   "language": "python",
   "name": "python3"
  }
 },
 "nbformat": 4,
 "nbformat_minor": 2
}
