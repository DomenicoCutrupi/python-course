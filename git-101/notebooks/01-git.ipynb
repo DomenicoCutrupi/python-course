{
 "cells": [
  {
   "cell_type": "markdown",
   "metadata": {},
   "source": [
    "# Git - simple repository management\n",
    "\n",
    "## Agenda\n",
    "\n",
    "  - VCS intro\n",
    "  - tracking modifications\n",
    "  - using a local git repository\n",
    "  - remote repositories\n",
    "\n",
    "*Beware*: commands contain small typos. You must fix them to properly complete the course!\n",
    "\n",
    "## VCS\n",
    "\n",
    "The importance of tracking changes.\n",
    "\n",
    "VCS basics:\n",
    "\n",
    "  - initialize a local repo\n",
    "  - change the software\n",
    "  - acknowledge (commit) changes\n",
    "  - eventually revert changes"
   ]
  },
  {
   "cell_type": "markdown",
   "metadata": {},
   "source": [
    "## Tracking modifications\n",
    "\n",
    "Track modifications of our config files without messing\n",
    "with the real /etc."
   ]
  },
  {
   "cell_type": "code",
   "execution_count": null,
   "metadata": {},
   "outputs": [],
   "source": [
    "! mkdir -p /repo-path\n",
    "!cp -v /etc/host* /etc/s* /repo-path"
   ]
  },
  {
   "cell_type": "markdown",
   "metadata": {},
   "source": [
    "All operations are local to /repo-path"
   ]
  },
  {
   "cell_type": "code",
   "execution_count": null,
   "metadata": {},
   "outputs": [],
   "source": [
    "cd /repo-path"
   ]
  },
  {
   "cell_type": "markdown",
   "metadata": {},
   "source": [
    "Always timestamp backup copies, don't `.ori`."
   ]
  },
  {
   "cell_type": "code",
   "execution_count": null,
   "metadata": {},
   "outputs": [],
   "source": [
    "! SIMPLE_BACKUP_SUFFIX=\"$(date -I)\" cp -v -bf hosts hosts\n",
    "!ls -l hosts*"
   ]
  },
  {
   "cell_type": "markdown",
   "metadata": {},
   "source": [
    "Exercise: Use `date +%s` to timestamp a backup copy of `hosts`."
   ]
  },
  {
   "cell_type": "code",
   "execution_count": null,
   "metadata": {},
   "outputs": [],
   "source": [
    "# Use this cell for the exercise."
   ]
  },
  {
   "cell_type": "markdown",
   "metadata": {},
   "source": [
    "## Git\n",
    "\n",
    "A better way of tracking changes.\n",
    "\n",
    "Used to maintain the Linux Kernel.\n",
    "\n",
    "Distributed approach.\n",
    "\n",
    "\n",
    "![Checkout and Push](https://git-scm.com/figures/18333fig0106-tn.png)"
   ]
  },
  {
   "cell_type": "markdown",
   "metadata": {},
   "source": [
    "## Tracing requires identification\n",
    "\n",
    "Declare who's modifying files. This will be inserted in \n",
    "the commit."
   ]
  },
  {
   "cell_type": "code",
   "execution_count": null,
   "metadata": {},
   "outputs": [],
   "source": [
    "!git config --global user.email \"jon@example.com\"\n",
    "!git config --global user.name \"Jon Doe\""
   ]
  },
  {
   "cell_type": "markdown",
   "metadata": {},
   "source": [
    "Note: authentication can not be enforced on a local repository."
   ]
  },
  {
   "cell_type": "markdown",
   "metadata": {},
   "source": [
    "## Create a repository\n",
    "\n",
    "Track modifications with `git`"
   ]
  },
  {
   "cell_type": "code",
   "execution_count": null,
   "metadata": {},
   "outputs": [],
   "source": [
    "!git init /repo-path\n",
    "!ls -l /repo-path/.git  # this is the index directory"
   ]
  },
  {
   "cell_type": "markdown",
   "metadata": {},
   "source": [
    "### Exercise\n",
    "\n",
    "  - get the previous `git config ... user.email`  \n",
    "  - remove the `--global` flag  from the previous command\n",
    "  - run it"
   ]
  },
  {
   "cell_type": "code",
   "execution_count": null,
   "metadata": {},
   "outputs": [],
   "source": [
    "# Write here the command\n",
    "# and show the git config file.\n",
    "!cat .git/config"
   ]
  },
  {
   "cell_type": "markdown",
   "metadata": {},
   "source": [
    "---\n",
    "\n",
    "Enter in the repo directory and check  the status: there\n",
    "are a lot of files we are not interested in..."
   ]
  },
  {
   "cell_type": "code",
   "execution_count": null,
   "metadata": {},
   "outputs": [],
   "source": [
    "!git status "
   ]
  },
  {
   "cell_type": "markdown",
   "metadata": {},
   "source": [
    "`.gitignore` lists the files we're not interested in"
   ]
  },
  {
   "cell_type": "code",
   "execution_count": null,
   "metadata": {},
   "outputs": [],
   "source": [
    "# Ignore all files not starting with h\n",
    "!echo \"[^h]*\" >> .gitignore\n",
    "!git status "
   ]
  },
  {
   "cell_type": "markdown",
   "metadata": {},
   "source": [
    "Now we have all `host*` files to be tracked."
   ]
  },
  {
   "cell_type": "markdown",
   "metadata": {},
   "source": [
    "## Populate the repo\n",
    "\n",
    "Add files to the index"
   ]
  },
  {
   "cell_type": "code",
   "execution_count": null,
   "metadata": {},
   "outputs": [],
   "source": [
    "! git add hosts"
   ]
  },
  {
   "cell_type": "markdown",
   "metadata": {},
   "source": [
    "The file is now *staged* for commit. It's not archived though."
   ]
  },
  {
   "cell_type": "code",
   "execution_count": null,
   "metadata": {},
   "outputs": [],
   "source": [
    "!git status"
   ]
  },
  {
   "cell_type": "markdown",
   "metadata": {},
   "source": [
    "Save files to the local index"
   ]
  },
  {
   "cell_type": "code",
   "execution_count": null,
   "metadata": {},
   "outputs": [],
   "source": [
    "! git commit -m \"Initial snapshot of hosts\""
   ]
  },
  {
   "cell_type": "markdown",
   "metadata": {},
   "source": [
    "![Git areas](https://git-scm.com/images/about/index1@2x.png)"
   ]
  },
  {
   "cell_type": "markdown",
   "metadata": {},
   "source": [
    "## Basic workflow\n",
    "\n",
    "Adding a line to the file we discover that"
   ]
  },
  {
   "cell_type": "code",
   "execution_count": null,
   "metadata": {},
   "outputs": [],
   "source": [
    "!echo \"127.0.0.2  localhost2.localdomain\" >> hosts \n",
    "!git diff hosts"
   ]
  },
  {
   "cell_type": "markdown",
   "metadata": {},
   "source": [
    "If we like the changes, we can stage them"
   ]
  },
  {
   "cell_type": "code",
   "execution_count": null,
   "metadata": {},
   "outputs": [],
   "source": [
    "!git add hosts\n",
    "!git status "
   ]
  },
  {
   "cell_type": "markdown",
   "metadata": {},
   "source": [
    "and finally save them in the repo."
   ]
  },
  {
   "cell_type": "code",
   "execution_count": null,
   "metadata": {},
   "outputs": [],
   "source": [
    "!git commit  \"Added localhost2 to hosts\""
   ]
  },
  {
   "cell_type": "markdown",
   "metadata": {},
   "source": [
    "---\n",
    "\n",
    "## History changes\n",
    "\n",
    "Now we have an history with two changes, containing:\n",
    "\n",
    " - commit messages\n",
    " - a commit hash\n",
    "\n",
    "HEAD is the last commit."
   ]
  },
  {
   "cell_type": "code",
   "execution_count": null,
   "metadata": {},
   "outputs": [],
   "source": [
    "!git log "
   ]
  },
  {
   "cell_type": "markdown",
   "metadata": {},
   "source": [
    "![Basic branch](https://git-scm.com/figures/18333fig0310-tn.png)"
   ]
  },
  {
   "cell_type": "markdown",
   "metadata": {},
   "source": [
    "## Reverting changes\n",
    "\n",
    "We can revert a change using the hash or an history log"
   ]
  },
  {
   "cell_type": "code",
   "execution_count": null,
   "metadata": {},
   "outputs": [],
   "source": [
    "! git checkout HEAD~1 -- hosts  # revert hosts to the previous commit"
   ]
  },
  {
   "cell_type": "markdown",
   "metadata": {},
   "source": [
    "## Cheatsheet\n",
    "\n",
    "Now some git commands, but first create a dir."
   ]
  },
  {
   "cell_type": "code",
   "execution_count": null,
   "metadata": {},
   "outputs": [],
   "source": [
    "! mkdir -p /repo-path\n",
    "!date >> /repo-path/file.txt\n",
    "!date >> /repo-path/hi.txt"
   ]
  },
  {
   "cell_type": "markdown",
   "metadata": {},
   "source": [
    "---"
   ]
  },
  {
   "cell_type": "code",
   "execution_count": null,
   "metadata": {},
   "outputs": [],
   "source": [
    "!git init /repo-path    # Initialize repo eventually creating a directory\n",
    "!git add /repo-path/hi.txt # Add file to index\n",
    "!git commit -m \"My changes\"  # Save changes"
   ]
  },
  {
   "cell_type": "markdown",
   "metadata": {},
   "source": [
    "### Exercise\n",
    "\n",
    "  - add `file.txt` to the index and commit"
   ]
  },
  {
   "cell_type": "code",
   "execution_count": null,
   "metadata": {},
   "outputs": [],
   "source": [
    "# Use this cell for the exercise"
   ]
  },
  {
   "cell_type": "code",
   "execution_count": null,
   "metadata": {},
   "outputs": [],
   "source": [
    "!date >> /repo-path/file.txt\n",
    "!git diff\n",
    "!git commit -a -m \"Save all previously added files\""
   ]
  },
  {
   "cell_type": "code",
   "execution_count": null,
   "metadata": {},
   "outputs": [],
   "source": [
    "!git log /repo-path/file.txt  # show changes"
   ]
  },
  {
   "cell_type": "code",
   "execution_count": null,
   "metadata": {},
   "outputs": [],
   "source": [
    "!git checkout HEAD~1 -- file.txt # revert file"
   ]
  },
  {
   "cell_type": "code",
   "execution_count": null,
   "metadata": {},
   "outputs": [],
   "source": [
    "!git diff HEAD  # diff with reverted"
   ]
  },
  {
   "cell_type": "code",
   "execution_count": null,
   "metadata": {},
   "outputs": [],
   "source": [
    "!git checkout HEAD -- . # get *all files* from the latest commit"
   ]
  },
  {
   "cell_type": "markdown",
   "metadata": {},
   "source": [
    "## Tags & Branches \n",
    "\n",
    "Writing codes and configuration we may want to follow\n",
    "different strategies and save our different attempts.\n",
    "\n",
    "  - *tag*  makes an unmodifiable snapshot of the repo instead."
   ]
  },
  {
   "cell_type": "code",
   "execution_count": null,
   "metadata": {},
   "outputs": [],
   "source": [
    "!git tag myconfig-v1 # create a tag\n",
    "!git tag -l    # list tags"
   ]
  },
  {
   "cell_type": "markdown",
   "metadata": {},
   "source": [
    "- *branch* create a modifiable copy of the code, allowing \n",
    "     to save and work on different features\n",
    "\n",
    "![Branches](https://git-scm.com/figures/18333fig0313-tn.png)"
   ]
  },
  {
   "cell_type": "markdown",
   "metadata": {},
   "source": [
    "## Branches\n",
    "\n",
    "`master` is the default branch"
   ]
  },
  {
   "cell_type": "code",
   "execution_count": null,
   "metadata": {},
   "outputs": [],
   "source": [
    "!git branch -a"
   ]
  },
  {
   "cell_type": "markdown",
   "metadata": {},
   "source": [
    "Create a branch"
   ]
  },
  {
   "cell_type": "code",
   "execution_count": null,
   "metadata": {},
   "outputs": [],
   "source": [
    "!git checkout -b work-on-my-changes"
   ]
  },
  {
   "cell_type": "markdown",
   "metadata": {},
   "source": [
    "And list the branches, check the active one!"
   ]
  },
  {
   "cell_type": "code",
   "execution_count": null,
   "metadata": {},
   "outputs": [],
   "source": [
    "!git branch -a"
   ]
  },
  {
   "cell_type": "markdown",
   "metadata": {},
   "source": [
    "Modify a file in a branch"
   ]
  },
  {
   "cell_type": "code",
   "execution_count": null,
   "metadata": {},
   "outputs": [],
   "source": [
    "!date > new-file.txt\n",
    "!git add new-file.txt"
   ]
  },
  {
   "cell_type": "markdown",
   "metadata": {},
   "source": [
    "With commit we consolidate the new file in the branch"
   ]
  },
  {
   "cell_type": "code",
   "execution_count": null,
   "metadata": {},
   "outputs": [],
   "source": [
    "!git commit -m \"Added a new file\""
   ]
  },
  {
   "cell_type": "markdown",
   "metadata": {},
   "source": [
    "Compare branches"
   ]
  },
  {
   "cell_type": "code",
   "execution_count": null,
   "metadata": {},
   "outputs": [],
   "source": [
    "!git diff mister"
   ]
  },
  {
   "cell_type": "markdown",
   "metadata": {},
   "source": [
    "Diff supports some parameters"
   ]
  },
  {
   "cell_type": "code",
   "execution_count": null,
   "metadata": {},
   "outputs": [],
   "source": [
    "!git diff --ignore-all-space master"
   ]
  },
  {
   "cell_type": "markdown",
   "metadata": {},
   "source": [
    "We can now switch between branches"
   ]
  },
  {
   "cell_type": "code",
   "execution_count": null,
   "metadata": {},
   "outputs": [],
   "source": [
    "!git checkout master\n",
    "!cat new-file.txt"
   ]
  },
  {
   "cell_type": "markdown",
   "metadata": {},
   "source": [
    "And switch back"
   ]
  },
  {
   "cell_type": "code",
   "execution_count": null,
   "metadata": {},
   "outputs": [],
   "source": [
    "!git checkout work-on-my-changes\n",
    "!cat new-file.txt"
   ]
  },
  {
   "cell_type": "markdown",
   "metadata": {},
   "source": [
    "### Exercise\n",
    "\n",
    "  - Create a new branch named `antani`\n",
    "  - modify `new-file.txt` as you please\n",
    "  - open a terminal, and use `git add -p` to stage the changes. What does it do?\n",
    "  - commit the changes"
   ]
  },
  {
   "cell_type": "code",
   "execution_count": null,
   "metadata": {},
   "outputs": [],
   "source": [
    "# Use this cell for the exercise"
   ]
  },
  {
   "cell_type": "markdown",
   "metadata": {},
   "source": [
    "## Checkout troubleshooting\n",
    "\n",
    "If you change a file, git won't make you checkout\n",
    "to avoid missing changes."
   ]
  },
  {
   "cell_type": "code",
   "execution_count": null,
   "metadata": {},
   "outputs": [],
   "source": [
    "!date >> new-file.txt\n",
    "!git checkout master"
   ]
  },
  {
   "cell_type": "markdown",
   "metadata": {},
   "source": [
    "You have to remove the changes or commit them (in another branch too)"
   ]
  },
  {
   "cell_type": "code",
   "execution_count": null,
   "metadata": {},
   "outputs": [],
   "source": [
    "# Use this cell for the exercise."
   ]
  },
  {
   "cell_type": "markdown",
   "metadata": {},
   "source": [
    "## Merge\n",
    "\n",
    "Once we have consolidated some changes (Eg. test, ...)\n",
    "we can *merge* the changes into the master branch"
   ]
  },
  {
   "cell_type": "code",
   "execution_count": null,
   "metadata": {},
   "outputs": [],
   "source": [
    "!git checkout master\n",
    "!git diff work-on-my-changes\n",
    "!git merge work-on-my-changes"
   ]
  },
  {
   "cell_type": "markdown",
   "metadata": {},
   "source": [
    "After a merge, if the branch is no more useful, we can remove it."
   ]
  },
  {
   "cell_type": "code",
   "execution_count": null,
   "metadata": {},
   "outputs": [],
   "source": [
    "!git branch -d work-on-changes"
   ]
  },
  {
   "cell_type": "markdown",
   "metadata": {},
   "source": [
    "If there are unmerged changes, git doesn't allow deleting a branch.\n",
    "\n",
    "Exercise:\n",
    "\n",
    "  - use `git branch -d` to remove the `antani` branch\n",
    "  - what happens?\n",
    "  - replace `-d` with `-D`. Does it work now?"
   ]
  },
  {
   "cell_type": "code",
   "execution_count": null,
   "metadata": {},
   "outputs": [],
   "source": [
    "# use this cell for the exrcise\n"
   ]
  },
  {
   "cell_type": "markdown",
   "metadata": {},
   "source": [
    "## Selective adding\n",
    "\n",
    "You can stage partial changes with:"
   ]
  },
  {
   "cell_type": "code",
   "execution_count": null,
   "metadata": {},
   "outputs": [],
   "source": [
    "!git add -p "
   ]
  },
  {
   "cell_type": "markdown",
   "metadata": {},
   "source": [
    "## Remote repositories\n",
    "\n",
    "Remote repos may be either https, ssh or files."
   ]
  },
  {
   "cell_type": "code",
   "execution_count": null,
   "metadata": {},
   "outputs": [],
   "source": [
    "! mkdir -p /repo-tmp && cd /repo-tmp # use another directory"
   ]
  },
  {
   "cell_type": "markdown",
   "metadata": {},
   "source": [
    "### https repo\n",
    "\n",
    "Git clone downloads a remote repo, with all its changes and history.\n",
    "Try with a remote https repo."
   ]
  },
  {
   "cell_type": "code",
   "execution_count": null,
   "metadata": {},
   "outputs": [],
   "source": [
    "! git clone https://github.com/ioggstream/python-course/ python-course\n",
    "cd /repo-tmp/python-course"
   ]
  },
  {
   "cell_type": "markdown",
   "metadata": {},
   "source": [
    "Show repository configuration. Remote origin."
   ]
  },
  {
   "cell_type": "code",
   "execution_count": null,
   "metadata": {},
   "outputs": [],
   "source": [
    "! git config -l \n"
   ]
  },
  {
   "cell_type": "markdown",
   "metadata": {},
   "source": [
    "The remote repo is retrieved with all its changes and history"
   ]
  },
  {
   "cell_type": "code",
   "execution_count": null,
   "metadata": {},
   "outputs": [],
   "source": [
    "! du -ms .git"
   ]
  },
  {
   "cell_type": "markdown",
   "metadata": {},
   "source": [
    "And `log` can show branches and merges."
   ]
  },
  {
   "cell_type": "code",
   "execution_count": null,
   "metadata": {},
   "outputs": [],
   "source": [
    "!git log --graph"
   ]
  },
  {
   "cell_type": "markdown",
   "metadata": {},
   "source": [
    "---\n",
    "\n",
    "### file repo\n",
    "\n",
    "A local repo can be cloned too, and has the same features\n",
    "of a remote one. It's actually a remote file:// uri."
   ]
  },
  {
   "cell_type": "code",
   "execution_count": null,
   "metadata": {},
   "outputs": [],
   "source": [
    "! git clone /repo-tmp/python-course /repo-tmp/my-course"
   ]
  },
  {
   "cell_type": "markdown",
   "metadata": {},
   "source": [
    "Show repository configuration. Remote origin."
   ]
  },
  {
   "cell_type": "code",
   "execution_count": null,
   "metadata": {},
   "outputs": [],
   "source": [
    "! git config -l\n"
   ]
  },
  {
   "cell_type": "markdown",
   "metadata": {},
   "source": [
    "## Pull & push\n",
    "\n",
    "You can add new files to a repo with the above workflow:\n",
    "\n",
    "  - create a branch with `git checkout -b test-1`\n",
    "  - add a new file\n",
    "  - stage changes with `git add`\n",
    "  - commit with `git commit`\n",
    "\n",
    "Now that your changes are on your local repo, you can synchronize / upload them to the remote copy\n",
    "with:"
   ]
  },
  {
   "cell_type": "code",
   "execution_count": null,
   "metadata": {},
   "outputs": [],
   "source": [
    "! git push origin test-1"
   ]
  },
  {
   "cell_type": "markdown",
   "metadata": {},
   "source": [
    "Remember:\n",
    "\n",
    "  - origin is the URI specified by `git config -l`\n",
    "  - `test-1` is the branch name where you want to upload\n",
    "\n",
    "To upload changes to the remote master (default) branch, you need to\n",
    "\n",
    "  - merge the changes to your local master"
   ]
  },
  {
   "cell_type": "code",
   "execution_count": null,
   "metadata": {},
   "outputs": [],
   "source": [
    "!git checkout master\n",
    "!git merge test-1"
   ]
  },
  {
   "cell_type": "markdown",
   "metadata": {},
   "source": [
    "- push changes to master"
   ]
  },
  {
   "cell_type": "code",
   "execution_count": null,
   "metadata": {},
   "outputs": [],
   "source": [
    "!git push origin master"
   ]
  },
  {
   "cell_type": "markdown",
   "metadata": {},
   "source": [
    "To make it work, you need to be authenticated/authorized with the remote repo ;)"
   ]
  }
 ],
 "metadata": {},
 "nbformat": 4,
 "nbformat_minor": 2
}
